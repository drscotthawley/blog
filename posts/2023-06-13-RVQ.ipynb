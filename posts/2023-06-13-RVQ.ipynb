{
 "cells": [
  {
   "cell_type": "raw",
   "id": "a466dff8",
   "metadata": {},
   "source": [
    "---\n",
    "title: \"Residual Vector Quantization\"\n",
    "author: \"Scott H. Hawley\"\n",
    "badges: true\n",
    "categories:\n",
    "- compression\n",
    "- ssl\n",
    "date: \"2023-06-13\"\n",
    "description: An exploration of the heart of neural audio codecs\n",
    "toc: true\n",
    "image: \"images/rvq_grid.png\"\n",
    "crossref:\n",
    "  fig-title: '**Figure**'\n",
    "  fig-labels: arabic\n",
    "  title-delim: \"**.**\"\n",
    "---\n"
   ]
  },
  {
   "cell_type": "markdown",
   "id": "6283a25c",
   "metadata": {},
   "source": [
    "## Introduction \n",
    "\n",
    "\"Vector Quantization.\" Sounds intimidating. \"Residual Vector Quantization\" sounds even more intimidating, even near-meaningless to most people. Turns out, these are easy to understand given a few pictures, even to the point a child could understand them -- uh... if the child *wanted* to.  Certainly, there can be sophisticated ways to implement these algorithms, and we'll cover a bit of that later on, but the basics are very simple.\n",
    "\n",
    "Residual Vector Quantization (RVQ) is found in state-of-the-art neural audio codecs such as Google's [SoundStream](https://ai.googleblog.com/2021/08/soundstream-end-to-end-neural-audio.html), and Facebook/Meta AI's [Encodec](https://github.com/facebookresearch/encodec), which in turn form the backbone of generative audio models such as [AudioLM](https://google-research.github.io/seanet/audiolm/examples/) (Google) and [MusicGen](https://ai.honu.io/papers/musicgen/) (Facebook). \n",
    "What is it and how does it work?  \n",
    "\n",
    "First we should consider regular vector quantization (VQ). VQ has been around for decades, and it shows up in many areas of signal processing when compression is involved. \n",
    "\n",
    "> Note: Whenever I say something that applies to both VQ and RVQ, I'll use the abbreviation \"(R)VQ.\" "
   ]
  },
  {
   "cell_type": "markdown",
   "id": "7bc6ddd5",
   "metadata": {},
   "source": [
    "## Vector Quantization = Partitioning Space\n",
    "\n",
    "\"Vector Quantization\" is really about dividing up the space of your data points into a discrete set of regions.  Put differently, we \"partition\" the space. \n",
    "\n",
    "Let's we have a bunch of points in space:"
   ]
  },
  {
   "cell_type": "code",
   "execution_count": null,
   "id": "deef4d0a",
   "metadata": {},
   "outputs": [
    {
     "data": {
      "image/png": "[encoded data removed]",
      "text/plain": [
       "<Figure size 300x300 with 1 Axes>"
      ]
     },
     "metadata": {},
     "output_type": "display_data"
    }
   ],
   "source": [
    "#| code-fold: true\n",
    "#| code-summary: \"Show the code\"\n",
    "#| label: fig-dots\n",
    "#| fig-cap: \"A set of data points, aka 'vectors'.\"\n",
    "\n",
    "\n",
    "import numpy as np \n",
    "import matplotlib.pyplot as plt\n",
    "\n",
    "# make some data\n",
    "n_points = 25\n",
    "DATA_MIN, DATA_MAX = -0.5, 0.5 # we'll let these be globals\n",
    "np.random.seed(9)  # for reproducibility\n",
    "data = DATA_MIN + (DATA_MAX-DATA_MIN)*np.random.rand(n_points, 2)\n",
    "\n",
    "# plot it\n",
    "fig, ax = plt.subplots(figsize=(3,3))\n",
    "ax.set_xlim(DATA_MIN, DATA_MAX)\n",
    "ax.set_ylim(DATA_MIN, DATA_MAX)\n",
    "#ax.set_xticks([])  # hide axis ticks\n",
    "#ax.set_yticks([])\n",
    "ax.set_xlabel('x')\n",
    "ax.set_ylabel('y')\n",
    "plt.scatter(data[:, 0], data[:, 1], s=16)\n",
    "plt.show()"
   ]
  },
  {
   "cell_type": "markdown",
   "id": "4bf6040b",
   "metadata": {},
   "source": [
    "To computer scientists, the $(x,y)$ coordinates of each point define a \"vector\".  (To mathematicians and physicists, the \"vector\" points from the origin to each point, but that distinction isn't going to matter to us.) \n",
    "\n",
    "Now divide up the space into a bunch of regions.  How we do that can take many forms. There are algorithms to partition the space in a way that best \"fits\" the data (see \"K-Means\", below for such an algorithm).  For now, just consider the two examples of my hand drawing with colors, and a set of tiled squares:"
   ]
  },
  {
   "cell_type": "markdown",
   "id": "19ade621",
   "metadata": {},
   "source": [
    "<!--- ::: {layout-ncol=2 label=\"fig-region-options\" fig-cap=\"Two ways of partitioning space\"} -->"
   ]
  },
  {
   "cell_type": "markdown",
   "id": "db7a8f54",
   "metadata": {},
   "source": [
    "::: {#fig-regions2 layout-ncol=2}\n",
    "\n",
    "![By hand](images/dots_square_handregions.png){#fig-hand}\n",
    "\n",
    "![Squares](images/dots_squares_basic.png){#fig-lilsquares}\n",
    "\n",
    "Examples of ways to divide up or \"quantize\" space, aka \"Partitioning schemes.\"\n",
    ":::"
   ]
  },
  {
   "cell_type": "markdown",
   "id": "b86c6955",
   "metadata": {},
   "source": [
    "Moving forward, I can do a bit more code-wise with the squares, so let's start there. ;-) \n",
    "\n",
    "Let me just formalize that a bit.  We'll let the number of squares be controlled by the variable \"`n_grid`\". So for our two-dimensional examples, there will be `n_grid`$^2$ square regions. "
   ]
  },
  {
   "cell_type": "markdown",
   "id": "de3ea02e",
   "metadata": {},
   "source": [
    "With vector quantization, we give an index value to every region (e.g. 0 to 24 for a 5x5 square grid), and then what we **replace each vector's value with the index of the of the region**. "
   ]
  },
  {
   "cell_type": "code",
   "execution_count": null,
   "id": "d98f28dd",
   "metadata": {},
   "outputs": [
    {
     "data": {
      "image/png": "[encoded data removed]",
      "text/plain": [
       "<Figure size 300x300 with 1 Axes>"
      ]
     },
     "metadata": {},
     "output_type": "display_data"
    }
   ],
   "source": [
    "#| code-fold: true\n",
    "#| code-summary: \"Show the code\"\n",
    "#| label: fig-indices\n",
    "#| fig-cap: \"(Integer) Indices for each region.\"\n",
    "\n",
    "\n",
    "\n",
    "#| code-fold: true\n",
    "#| code-summary: \"Show the code\"\n",
    "import pandas as pd \n",
    "\n",
    "def plot_data_grid(data, n_grid=5, hide_tick_labels=True, show_indices=False, show_centroids=False, \n",
    "                   show_next_level_grid=False):\n",
    "    \"big ol' workhorse plotting routine that we'll progressively make use of as the lesson proceeds\"\n",
    "    fig, ax = plt.subplots(figsize=(3,3))\n",
    "    h = 1.0 / n_grid\n",
    "    ax.set_xlim(DATA_MIN, DATA_MAX)\n",
    "    ax.set_ylim(DATA_MIN, DATA_MAX)\n",
    "\n",
    "    for i in range(n_grid + 1):\n",
    "        ax.axhline(DATA_MIN + i*h, color='black')\n",
    "        ax.axvline(DATA_MIN + i*h, color='black')\n",
    "        \n",
    "    if show_indices:\n",
    "        index = 0\n",
    "        for j in range(n_grid):\n",
    "            for i in range(n_grid):\n",
    "                x = DATA_MIN + (i + 0.5) / n_grid\n",
    "                y = DATA_MIN + 1 - (j + 0.5) / n_grid\n",
    "                ax.text(x, y, str(index), ha='center', va='center',fontsize=14)\n",
    "                index += 1\n",
    "\n",
    "    if show_centroids: \n",
    "        for j in range(n_grid):\n",
    "            for i in range(n_grid):\n",
    "                x = DATA_MIN + (i + 0.5)*h\n",
    "                y = DATA_MIN + (j + 0.5)*h\n",
    "                ax.plot(x, y, 'ro', markersize=6)\n",
    "                \n",
    "    if hide_tick_labels:\n",
    "        ax.set_xticks([])\n",
    "        ax.set_yticks([])\n",
    "\n",
    "    ax.set_aspect('equal')\n",
    "    if data is not None:\n",
    "        plt.scatter(data[:, 0], data[:, 1], s=16)\n",
    "    plt.show()\n",
    "    \n",
    "    \n",
    "n_grid=5\n",
    "#plot_data_grid(data, n_grid=n_grid)\n",
    "plot_data_grid(data, n_grid=n_grid, show_indices=True)"
   ]
  },
  {
   "cell_type": "markdown",
   "id": "975ca180",
   "metadata": {},
   "source": [
    "For each of the \"vectors\" represented by the data points, we no longer use the ($x$,$y$) coordinate pairs, but rather the (integer) index of the region it's in. \n",
    "\n",
    "> Note that we've gone from needing two floating point numbers per point to just one integer value. In two dimensions, the \"savings\" or data-compression amount that we get from that may not be readily apparent, but stick around:  As we go to large numbers of dimensions later, this scheme will save us a *ton* of data.\n",
    "\n",
    "If we want the coordinates that go with the indices, we'll use the centroid of each region.  In this sense, the vectors are \"quantized\" so that they can only take on values given by the centroids of the regions. In the following example, the centroids are shown in red:"
   ]
  },
  {
   "cell_type": "code",
   "execution_count": null,
   "id": "edcd8f83",
   "metadata": {},
   "outputs": [
    {
     "data": {
      "image/png": "[encoded data removed]",
      "text/plain": [
       "<Figure size 300x300 with 1 Axes>"
      ]
     },
     "metadata": {},
     "output_type": "display_data"
    }
   ],
   "source": [
    "#| code-fold: true\n",
    "#| code-summary: \"Show the code\"\n",
    "#| label: fig-centroids\n",
    "#| fig-cap: \"Centroid locations\"\n",
    "plot_data_grid(data, n_grid=n_grid, show_indices=False, \n",
    "               show_centroids=True)"
   ]
  },
  {
   "cell_type": "markdown",
   "id": "8cfdae60",
   "metadata": {},
   "source": [
    "So each blue point will effectively be replaced by the nearest red point.  In this sense we have \"quantized\" the vectors (because we've quantized the space itself).\n",
    "\n",
    "> **Terminology:** The set of locations of centroids is called the \"**codebook**\". When we want to use an actual vector value (in space), we convert the codebook index into a (centroid) location by looking up the codebook. \n",
    "\n",
    "<!--\n",
    "For reasons of simplicity (/laziness) that will become clear later, for this blog post we'll choose coordinates where our space is centered on (0,0), and has a span of (1,1) across it. So that means the space will go from (-0.5,-0.5) to (0.5,0.5).  This choice of coordinates doesn't change the basic mechanics of (R)VQ, it just means less work to do later. -->\n",
    "\n",
    "So a full (albeit unweidly) picture showing the data points, the region indices, and the centroids, looks like this: "
   ]
  },
  {
   "cell_type": "code",
   "execution_count": null,
   "id": "c6c9466f",
   "metadata": {},
   "outputs": [
    {
     "data": {
      "image/png": "[encoded data removed]",
      "text/plain": [
       "<Figure size 300x300 with 1 Axes>"
      ]
     },
     "metadata": {},
     "output_type": "display_data"
    }
   ],
   "source": [
    "#| code-fold: true\n",
    "#| code-summary: \"Show the code\"\n",
    "#| label: fig-detailed-squares\n",
    "#| fig-cap: \"Detailed figure showing data points, region indices, and centroid locations.\"\n",
    "plot_data_grid(data, n_grid=n_grid, show_indices=True, show_centroids=True, hide_tick_labels=False)"
   ]
  },
  {
   "cell_type": "markdown",
   "id": "71f30945",
   "metadata": {},
   "source": [
    "For our choice of coordinates, the codebook (i.e. the mapping of indices to centroid locations) looks like this:"
   ]
  },
  {
   "cell_type": "code",
   "execution_count": null,
   "id": "f4302a62",
   "metadata": {},
   "outputs": [
    {
     "data": {
      "text/markdown": [
       "| index      | vector |\n",
       "| ----------- | ----------- |\n",
       "| 0 | (-0.4, -0.4) |\n",
       "| 1 | (-0.2, -0.4) |\n",
       "| 2 | (0.0, -0.4) |\n",
       "| 3 | (0.2, -0.4) |\n",
       "| 4 | (0.4, -0.4) |\n",
       "| 5 | (-0.4, -0.2) |\n",
       "| 6 | (-0.2, -0.2) |\n",
       "| 7 | (0.0, -0.2) |\n",
       "| 8 | (0.2, -0.2) |\n",
       "| 9 | (0.4, -0.2) |\n",
       "| 10 | (-0.4, 0.0) |\n",
       "| 11 | (-0.2, 0.0) |\n",
       "| 12 | (0.0, 0.0) |\n",
       "| 13 | (0.2, 0.0) |\n",
       "| 14 | (0.4, 0.0) |\n",
       "| 15 | (-0.4, 0.2) |\n",
       "| 16 | (-0.2, 0.2) |\n",
       "| 17 | (0.0, 0.2) |\n",
       "| 18 | (0.2, 0.2) |\n",
       "| 19 | (0.4, 0.2) |\n",
       "| 20 | (-0.4, 0.4) |\n",
       "| 21 | (-0.2, 0.4) |\n",
       "| 22 | (0.0, 0.4) |\n",
       "| 23 | (0.2, 0.4) |\n",
       "| 24 | (0.4, 0.4) |"
      ],
      "text/plain": [
       "<IPython.core.display.Markdown object>"
      ]
     },
     "metadata": {},
     "output_type": "display_data"
    }
   ],
   "source": [
    "#| code-fold: true\n",
    "#| code-summary: \"Show the code\"\n",
    "\n",
    "from IPython.display import display, Markdown\n",
    "\n",
    "def generate_codebook(n_grid):\n",
    "    \"TODO: chatGPT wrote this code but I know I could write it more compactly if i cared to\"\n",
    "    codebook = np.zeros((n_grid**2, 2))\n",
    "    index = 0\n",
    "    for j in range(n_grid):\n",
    "        for i in range(n_grid):\n",
    "            x = DATA_MIN + (i + 0.5) / n_grid\n",
    "            y = DATA_MIN + (j + 0.5) / n_grid\n",
    "            codebook[index] = [x, y]\n",
    "            index += 1\n",
    "    return codebook\n",
    "\n",
    "codebook = generate_codebook(n_grid)\n",
    "\n",
    "# print it nicely\n",
    "cb_str = f\"| index      | vector |\\n| ----------- | ----------- |\"\n",
    "for i in range(codebook.shape[0]):\n",
    "    cb_str += f\"\\n| {i} | ({codebook[i,0]:.1f}, {codebook[i,1]:.1f}) |\"\n",
    "display(Markdown(cb_str))"
   ]
  },
  {
   "cell_type": "markdown",
   "id": "46943e19",
   "metadata": {},
   "source": [
    "### (Quantization) Error \n",
    "When we do this quantization (i.e. replacing vectors by their nearest centroid), the centroid locations will naturally be a bit \"off\" compared to the original data vectors themselves.  The finer the grid you make, the smaller the regions, and the less error.  For a 2D grid, the error will be on the order of $h^2$ where $h$ is the grid spacing ($h = 1/5 = 0.2$ in our example).\n",
    "Let's check how the error varies as we change the grid spacing or equivalently, `n_grid`). "
   ]
  },
  {
   "cell_type": "code",
   "execution_count": null,
   "id": "149e77de",
   "metadata": {},
   "outputs": [
    {
     "data": {
      "image/png": "[encoded data removed]",
      "text/plain": [
       "<Figure size 1000x400 with 2 Axes>"
      ]
     },
     "metadata": {},
     "output_type": "display_data"
    },
    {
     "name": "stdout",
     "output_type": "stream",
     "text": [
      "lowest error (for n_grid=200) =  0.019903707672610255\n"
     ]
    }
   ],
   "source": [
    "#| code-fold: true\n",
    "#| code-summary: \"Show the code\"\n",
    "#| label: fig-error\n",
    "#| fig-cap: \"Plots of error vs. resolution with linear (left) and logarithmic (right) axes. Note that the computational cost will scale like the number of regions, which is `n_grid`$^2$.\"\n",
    "def find_closest_centroids(data, codebook):\n",
    "    distances = np.sum((data[:, np.newaxis] - codebook) ** 2, axis=2)\n",
    "    closest_centroids = np.argmin(distances, axis=1)\n",
    "    return closest_centroids # indices not coordinates\n",
    "\n",
    "def compute_error(data, codebook):\n",
    "    n_grid = int(np.sqrt(codebook.shape[0]))\n",
    "    h = 1/n_grid * (DATA_MAX - DATA_MIN) \n",
    "    quantized_ind = find_closest_centroids(data, codebook)\n",
    "    quantized_xy = codebook[quantized_ind]       \n",
    "    error = np.sqrt( np.sum( (data - quantized_xy)**2 ) )\n",
    "    return error \n",
    "\n",
    "n_points2 = 100\n",
    "data2 = DATA_MIN + (DATA_MAX - DATA_MIN)*np.random.rand(n_points2, 2)\n",
    "\n",
    "errors = []\n",
    "grids = np.array([5,10,25,100,200])\n",
    "for n_grid2 in grids:\n",
    "    codebook = generate_codebook(n_grid2)\n",
    "    error = compute_error(data2, codebook)               \n",
    "    errors.append(error)\n",
    "    \n",
    "fig, ax = plt.subplots(1,2, figsize=(10,4))    \n",
    "ax[0].plot(grids, errors, 'o-')\n",
    "ax[1].loglog(grids, errors, 'o-')\n",
    "for i in range(2):\n",
    "    ax[i].set_ylabel('Error')\n",
    "    ax[i].set_xlabel('n_grid')\n",
    "plt.show()\n",
    "print(f\"lowest error (for n_grid={grids[-1]}) = \",errors[-1])\n"
   ]
  },
  {
   "cell_type": "markdown",
   "id": "8ec955b1",
   "metadata": {},
   "source": [
    "So, the more \"gridlines\" you use, the lower the error, but at what cost?  To get an error of 0.02 we need $200^2 = 400$ regions. And in higher dimensions than 2, the \"cost\" of higher resolution / lower error goes up *immensely*: to double the resolution in $d$ dimensions, the computational cost goes up by a factor of $2^d$. (Imagine $d$=32, 64, 128,...) \n",
    "\n",
    "But we don't need to cover the entire space uniformly! That's where Residual Vector Quantization comes in. "
   ]
  },
  {
   "cell_type": "markdown",
   "id": "8e6d1bc7",
   "metadata": {},
   "source": [
    "## Residual Vector Quantization (RVQ)\n",
    "\n",
    "The trick with RVQ is, rather than having a single high-resolution codebook, to instead have \"codebooks inside of codebooks\", or, if you like, \"stacking codebooks\".  Let's say we want to quintuple the resolution of our initial 5x5 grid.  Instead of using a 25x25 grid (which would be 25x the computational cost of the original), what if we put a little 5x5 grid \"inside\" the region to which a vector was quantized? \n",
    "\n",
    "For example, in the \"middle\" region (region 12), we can do..."
   ]
  },
  {
   "cell_type": "code",
   "execution_count": null,
   "id": "16a6a051",
   "metadata": {},
   "outputs": [
    {
     "data": {
      "image/png": "[encoded data removed]",
      "text/plain": [
       "<Figure size 300x300 with 1 Axes>"
      ]
     },
     "metadata": {},
     "output_type": "display_data"
    }
   ],
   "source": [
    "#| code-fold: true\n",
    "#| code-summary: \"Show the code\"\n",
    "#| label: fig-rvq-basic\n",
    "#| fig-cap: \"Illustration of 'codebook within a codebook', with a smaller 5x5 codebook which will be relative to the middle region's codebook.\"\n",
    "\n",
    "from matplotlib import collections  as mc\n",
    "\n",
    "\n",
    "def get_region_membership(data:np.array, n_grid=5,):\n",
    "    \"Tells which region each point is in. TBD: this is slow but it works! ;-) \"\n",
    "    h = (DATA_MAX - DATA_MIN)/n_grid\n",
    "    memb = np.zeros(data.shape[0], dtype=np.int32)\n",
    "    for di, p in enumerate(data):\n",
    "        i = (p[0]-DATA_MIN) // h\n",
    "        j = (p[1]-DATA_MIN) // h\n",
    "        ind = i + j*n_grid\n",
    "        memb[di] = ind\n",
    "    return memb\n",
    "\n",
    "\n",
    "def plot_data_grid_with_resids(data, n_grid=5, hide_tick_labels=True, show_indices=False, show_centroids=False, \n",
    "                   show_next_level_grid=False, show_resids=True, codebook=None, show_grid=True):\n",
    "    \"big ol' workhorse plotting routine that we'll progressively make use of as the lesson proceeds\"\n",
    "    fig, ax = plt.subplots(figsize=(3,3))\n",
    "    h = 1.0 / n_grid\n",
    "    ax.set_xlim(DATA_MIN, DATA_MAX)\n",
    "    ax.set_ylim(DATA_MIN, DATA_MAX)\n",
    "\n",
    "    if show_grid:\n",
    "        for i in range(n_grid + 1):  \n",
    "            ax.axhline(DATA_MIN + i*h, color='black')\n",
    "            ax.axvline(DATA_MIN + i*h, color='black')\n",
    "        \n",
    "    if show_next_level_grid: # draws lines in the middle\n",
    "        x_start = 2*h\n",
    "        y_start = -h/2\n",
    "        for i in range(n_grid): # horizontal lines\n",
    "            y = y_start + i*h/n_grid\n",
    "            ax.axhline(y, xmin=x_start, xmax=x_start+h, color='black')\n",
    "        y_start, x_start = x_start, y_start\n",
    "        for j in range(n_grid): # horizontal lines\n",
    "            x = x_start + j*h/n_grid\n",
    "            ax.axvline(x, ymin=y_start, ymax=y_start+h, color='black')\n",
    "        \n",
    "    if show_indices:\n",
    "        index = 0\n",
    "        for j in range(n_grid):\n",
    "            for i in range(n_grid):\n",
    "                x = DATA_MIN + (i + 0.5) / n_grid\n",
    "                y = DATA_MIN + 1 - (j + 0.5) / n_grid\n",
    "                ax.text(x, y, str(index), ha='center', va='center',fontsize=14)\n",
    "                index += 1\n",
    "\n",
    "    if show_centroids: \n",
    "        for j in range(n_grid):\n",
    "            for i in range(n_grid):\n",
    "                x = DATA_MIN + (i + 0.5)*h\n",
    "                y = DATA_MIN + (j + 0.5)*h\n",
    "                ax.plot(x, y, 'ro', markersize=6)\n",
    "                \n",
    "    if show_resids and codebook is not None:\n",
    "        memb = get_region_membership(data)\n",
    "        resids = data*0\n",
    "        lines = []\n",
    "        for i, p in enumerate(data):\n",
    "            #resids[i] = p - codebook[memb[i]] # don't actually need to compute resids for this\n",
    "            lines.append([p, codebook[memb[i]] ] )\n",
    "        lc = mc.LineCollection(lines, colors=(1,0,1,1), linewidths=2)\n",
    "        ax.add_collection(lc)\n",
    "        \n",
    "    if hide_tick_labels:\n",
    "        ax.set_xticks([])\n",
    "        ax.set_yticks([])\n",
    "\n",
    "    ax.set_aspect('equal')\n",
    "    if data is not None:\n",
    "        plt.scatter(data[:, 0], data[:, 1], s=16)\n",
    "    plt.show()\n",
    "    \n",
    "    \n",
    "n_grid=5\n",
    "plot_data_grid_with_resids(data, n_grid=n_grid, show_next_level_grid=True, show_centroids=True, \n",
    "                           hide_tick_labels=False, codebook=codebook, show_resids=False)\n"
   ]
  },
  {
   "cell_type": "markdown",
   "id": "e64db3f4",
   "metadata": {},
   "source": [
    "The difference between that blue point in the middle \"main\" square and its corresponding red centroid will be the \"residual\". We will also quantize that within the \"little\" 5x5 grid. This will serve as a codebook to use \"after\" the original codebook.  And we'll get the same resolution as if we had a 25x25 grid, except our computational cost will instead be 2\\*(5\\*5)=50 instead of 25\\*25=625!  So our cost will be 12.5 smaller than the full-grid approach. "
   ]
  },
  {
   "cell_type": "markdown",
   "id": "99ecd0f1",
   "metadata": {},
   "source": [
    "And interestingly, if we only consider the *residual*, i.e. the difference between the main centroid and the vector in question, then we can use the same \"next level\" codebook for *all* points in the space! \n",
    "In the following figure, we show the residuals as purple line segments that run from each point to its corresponding nearest centroid:"
   ]
  },
  {
   "cell_type": "code",
   "execution_count": null,
   "id": "9b6377ea",
   "metadata": {},
   "outputs": [
    {
     "data": {
      "image/png": "[encoded data removed]",
      "text/plain": [
       "<Figure size 300x300 with 1 Axes>"
      ]
     },
     "metadata": {},
     "output_type": "display_data"
    }
   ],
   "source": [
    "#| code-fold: true\n",
    "#| code-summary: \"Show the code\"\n",
    "#| label: fig-rvq-resids\n",
    "#| fig-cap: \"Illustration of redisuals, shown as purple line segments connecting vectors (blue points) with their nearest centroids (red points).\"\n",
    "plot_data_grid_with_resids(data, n_grid=n_grid, show_next_level_grid=False, show_centroids=True, \n",
    "                           hide_tick_labels=False, codebook=codebook, show_resids=True)"
   ]
  },
  {
   "cell_type": "markdown",
   "id": "45a03d36",
   "metadata": {},
   "source": [
    "Note, because of a clever way we've set up our axes in this example (i.e., centered at the origin), we can treat the original data points as a \"residual\" relative to the \"centroid\" of the whole domain, namely the origin!"
   ]
  },
  {
   "cell_type": "code",
   "execution_count": null,
   "id": "ea32820c",
   "metadata": {},
   "outputs": [
    {
     "data": {
      "image/png": "[encoded data removed]",
      "text/plain": [
       "<Figure size 300x300 with 1 Axes>"
      ]
     },
     "metadata": {},
     "output_type": "display_data"
    }
   ],
   "source": [
    "#| code-fold: true\n",
    "#| code-summary: \"Show the code\"\n",
    "#| label: fig-rvq-zero\n",
    "#| fig-cap: \"How we can treat the data points themselves as a residuals relative to the origin, for a 'level 0' codebook\"\n",
    "plot_data_grid_with_resids(data, n_grid=n_grid, show_next_level_grid=False, show_centroids=False, \n",
    "                           hide_tick_labels=False, codebook=np.zeros((data.shape[0],2)), show_resids=True, show_grid=False)"
   ]
  },
  {
   "cell_type": "markdown",
   "id": "b1ff42fd",
   "metadata": {},
   "source": [
    "Also because of our clever choice of coordinates,  for the next \"level\" of quantization, we can take the codebook at the next level to be just the previous codebook divided by `n_grid`!  This won't always be the case; I'm just feeling clever and lazy. "
   ]
  },
  {
   "cell_type": "markdown",
   "id": "044b27d4",
   "metadata": {},
   "source": [
    "## Quantizer algorithm\n",
    "Let's write a general quantizer for any \"level\" of codebook.  It will take our data points and return the various levels of codebook indices.  This will be the actual \"Algorithm 1\" from the SoundStream paper. "
   ]
  },
  {
   "cell_type": "code",
   "execution_count": null,
   "id": "b11a645e",
   "metadata": {},
   "outputs": [
    {
     "data": {
      "text/plain": [
       "'TBD. More to do!'"
      ]
     },
     "execution_count": null,
     "metadata": {},
     "output_type": "execute_result"
    }
   ],
   "source": [
    "def quantizer(data, n_grid, level=0, domain_min=-0.5, domain_max=0.5, prev_codebook=None, prev_codebook_inds=None):\n",
    "    h = ((DATA_MAX - DATA_MIN)/n_grid)**(level+1)\n",
    "    # basically make this the algorithm from SoundStream\n",
    "\"TBD. More to do!\"    "
   ]
  },
  {
   "cell_type": "markdown",
   "id": "468311fd",
   "metadata": {},
   "source": [
    "---\n",
    "...Stopping here for now. -SH"
   ]
  },
  {
   "cell_type": "markdown",
   "id": "12fa0f2d",
   "metadata": {},
   "source": [
    "## Optional: K-Means\n",
    "The k-means algorithm is another method to partition space, a method that \n",
    "instead of static squares, will allow our regions and centroids \"follow the data\". Often k-means is used to *initialize* an RVQ codebook for neural codecs (e.g. in SoundStream, Encodec, etc), after which the rest of the neural network's training algorithm may refine the codebooks more. \n",
    "\n",
    "Note however, that this discussion on K-means is actually not crucial to understanding (R)VQ.  At all. \n",
    "\n",
    "It's quite skippable, to be honest.  So...only read if you're really curious."
   ]
  },
  {
   "cell_type": "code",
   "execution_count": null,
   "id": "43392485",
   "metadata": {},
   "outputs": [
    {
     "data": {
      "text/html": [
       "        <script type=\"text/javascript\">\n",
       "        window.PlotlyConfig = {MathJaxConfig: 'local'};\n",
       "        if (window.MathJax && window.MathJax.Hub && window.MathJax.Hub.Config) {window.MathJax.Hub.Config({SVG: {font: \"STIX-Web\"}});}\n",
       "        if (typeof require !== 'undefined') {\n",
       "        require.undef(\"plotly\");\n",
       "        requirejs.config({\n",
       "            paths: {\n",
       "                'plotly': ['https://cdn.plot.ly/plotly-2.18.0.min']\n",
       "            }\n",
       "        });\n",
       "        require(['plotly'], function(Plotly) {\n",
       "            window._Plotly = Plotly;\n",
       "        });\n",
       "        }\n",
       "        </script>\n",
       "        "
      ]
     },
     "metadata": {},
     "output_type": "display_data"
    },
    {
     "data": {
      "application/vnd.plotly.v1+json": {
       "config": {
        "plotlyServerURL": "https://plot.ly"
       },
       "data": [
        {
         "hovertemplate": "x=%{x}<br>y=%{y}<br>sizes=%{marker.size}<br>cluster=%{marker.color}<extra></extra>",
         "legendgroup": "",
         "marker": {
          "color": [
           -1,
           -1,
           -1,
           -1,
           -1,
           -1,
           -1,
           -1,
           -1,
           -1,
           -1,
           -1,
           -1,
           -1,
           -1,
           -1,
           -1,
           -1,
           -1,
           -1,
           -1,
           -1,
           -1,
           -1,
           -1,
           -1,
           -1,
           -1,
           -1,
           -1,
           -1,
           -1,
           -1,
           -1,
           -1,
           -1,
           -1,
           -1,
           -1,
           -1,
           -1,
           -1,
           -1,
           -1,
           -1,
           -1,
           -1,
           -1,
           -1,
           -1,
           -1,
           -1,
           -1,
           -1,
           -1,
           -1,
           -1,
           -1,
           -1,
           -1,
           -1,
           -1,
           -1,
           -1,
           -1,
           -1,
           -1,
           -1,
           -1,
           -1,
           -1,
           -1,
           -1,
           -1,
           -1,
           -1,
           -1,
           -1,
           -1,
           -1,
           -1,
           -1,
           -1,
           -1,
           -1,
           -1,
           -1,
           -1,
           -1,
           -1,
           -1,
           -1,
           -1,
           -1,
           -1,
           -1,
           -1,
           -1,
           -1,
           -1,
           0,
           1,
           2,
           3,
           4
          ],
          "coloraxis": "coloraxis",
          "size": [
           1,
           1,
           1,
           1,
           1,
           1,
           1,
           1,
           1,
           1,
           1,
           1,
           1,
           1,
           1,
           1,
           1,
           1,
           1,
           1,
           1,
           1,
           1,
           1,
           1,
           1,
           1,
           1,
           1,
           1,
           1,
           1,
           1,
           1,
           1,
           1,
           1,
           1,
           1,
           1,
           1,
           1,
           1,
           1,
           1,
           1,
           1,
           1,
           1,
           1,
           1,
           1,
           1,
           1,
           1,
           1,
           1,
           1,
           1,
           1,
           1,
           1,
           1,
           1,
           1,
           1,
           1,
           1,
           1,
           1,
           1,
           1,
           1,
           1,
           1,
           1,
           1,
           1,
           1,
           1,
           1,
           1,
           1,
           1,
           1,
           1,
           1,
           1,
           1,
           1,
           1,
           1,
           1,
           1,
           1,
           1,
           1,
           1,
           1,
           1,
           4,
           4,
           4,
           4,
           4
          ],
          "sizemode": "area",
          "sizeref": 0.01,
          "symbol": "circle"
         },
         "mode": "markers",
         "name": "",
         "orientation": "v",
         "showlegend": false,
         "type": "scatter",
         "x": [
          -0.082977995297426,
          -0.4998856251826551,
          -0.35324410918288696,
          -0.3137397886223291,
          -0.10323252576933006,
          -0.0808054855967052,
          -0.29554775026848257,
          -0.47261240680207384,
          -0.08269519763287303,
          -0.35961306140476623,
          0.30074456867553667,
          -0.18657582184075716,
          0.3763891522960383,
          -0.4149557886302221,
          -0.3301695804354311,
          -0.4016531661669499,
          0.45788953015050193,
          0.19187711395047335,
          0.18650092768158366,
          -0.4817117226558082,
          0.4888610889064947,
          -0.21955600793559482,
          -0.396773993422358,
          0.40859550309309556,
          -0.21222466141365126,
          -0.4806330421297029,
          -0.28837188399994096,
          -0.00842684071966171,
          0.07411760549201307,
          0.08930553690328424,
          -0.39766557117217416,
          0.1944001577277451,
          -0.45004654105391284,
          0.16379464521978881,
          0.44459475599081333,
          0.4034019152878835,
          -0.36072365274924145,
          -0.10232316301446642,
          0.4275085803960339,
          0.25081210313615554,
          0.38330609120580983,
          0.2509424340273372,
          -0.23007210823497393,
          -0.07190881012870509,
          0.16344149781844808,
          -0.3852540270466248,
          -0.050087866520059476,
          -0.09186319723871883,
          0.4033795205622538,
          -0.49712967296884103,
          -0.17335509822790385,
          0.3859420993107745,
          0.4085351509197992,
          -0.4841787571534437,
          0.19089691751692395,
          -0.32765949165467145,
          0.43259546303716356,
          -0.4339998272779375,
          0.2538761884612464,
          0.21152475862847175,
          -0.4801198661602044,
          -0.4716935119792054,
          0.360027948682888,
          0.05282197868576588,
          -0.37582668488008886,
          0.08575927145828788,
          0.06103021925570995,
          0.30063267268061633,
          0.30710519561877914,
          0.36354185455942867,
          0.056240233990418886,
          -0.44008231048778834,
          -0.4554481214552383,
          -0.2742906613921453,
          0.05971698205414244,
          -0.4280257203105132,
          0.06810046191994212,
          -0.24767425542967658,
          -0.3045705188906812,
          0.47001998908831233,
          -0.26015224085241384,
          0.11995571838137975,
          -0.34320860535391573,
          -0.42997785628077767,
          0.10632946165333035,
          -0.18263759067783925,
          0.07974521924579692,
          0.05094821911789682,
          0.1692328934531846,
          -0.43366516557155843,
          0.12971750702156448,
          0.25275555373881387,
          -0.23968490142145904,
          -0.30656571737667226,
          0.02467030912373369,
          -0.23670322951288902,
          0.23506596328866947,
          0.40781585250352403,
          -0.486048427024403,
          0.11677835700165762,
          0.27010567154824777,
          0.24936380985976475,
          -0.06599537151525225,
          0.06258628975198394,
          0.2557088560238722
         ],
         "xaxis": "x",
         "y": [
          0.2203244934421581,
          -0.19766742736816023,
          -0.4076614052312022,
          -0.15443927295695226,
          0.038816734003356945,
          0.1852195003967595,
          0.3781174363909454,
          0.17046751017840223,
          0.05868982844575166,
          -0.3018985109151212,
          0.4682615757193975,
          0.19232261566931408,
          0.3946066635038473,
          -0.46094521676711764,
          0.37814250342941313,
          -0.07889237499494783,
          0.03316528497301707,
          -0.18448436899393705,
          0.3346256718973729,
          0.25014431494496747,
          0.2481656543798394,
          0.2892793284514885,
          -0.052106473824094834,
          -0.2063858516263205,
          -0.3699714278817223,
          0.17883553293989096,
          -0.2344533406277738,
          -0.4466374548829196,
          -0.35327142509418985,
          0.19975836002093117,
          -0.08594401218043168,
          -0.08582073047309735,
          0.035896405915511576,
          0.014889112058308562,
          0.08655504050199292,
          -0.3625252958537625,
          0.3073912887095238,
          -0.3346458028830672,
          -0.15223414025449344,
          0.22599798535045146,
          0.12367220705560888,
          -0.15110165802215747,
          0.39588621819606684,
          0.46484004714838556,
          0.12169572020912178,
          0.44948925870707124,
          0.07838961438713177,
          -0.2629730197569723,
          0.07367948667228585,
          0.11714491362072388,
          0.027058102257609296,
          -0.14273023999750023,
          0.12336011579180273,
          0.4294372337437613,
          0.4973228504514805,
          -0.36286425037112224,
          0.19681816148990017,
          0.2554630526024664,
          0.42302453554648334,
          -0.3757290380278353,
          -0.4737890131222807,
          -0.2537889323969541,
          0.03883106434165284,
          0.3420308923596057,
          -0.2208163209888605,
          0.46959574831967454,
          -0.481352710627057,
          -0.26702572615897957,
          -0.11213935593582824,
          0.24712164273718462,
          -0.363544774339315,
          -0.37865654425926265,
          -0.3925058708939071,
          0.21298898038267666,
          -0.48744401984088415,
          0.467276330000272,
          -0.2967067653390095,
          0.24382585407509294,
          0.08135892727325778,
          0.34682880149003525,
          -0.006230285731270047,
          0.32898089955017873,
          -0.4814237978225905,
          -0.01365488906296819,
          0.06885143708648134,
          0.4886161544124489,
          -0.1198588273764496,
          0.2453344309065021,
          -0.2350804423371906,
          -0.1299158020858937,
          -0.2898259900851604,
          -0.43346351864588506,
          0.3047545637433454,
          0.13946088087994013,
          0.4248079703993507,
          -0.4340389093159762,
          0.27217802954324677,
          0.4319720691968373,
          -0.2656379138785795,
          0.44901632068761643,
          0.03399191291709386,
          0.08493972536780253,
          -0.008405599741854175,
          0.029728752905137545,
          0.2512400613801637
         ],
         "yaxis": "y"
        }
       ],
       "layout": {
        "coloraxis": {
         "cmax": 5,
         "cmin": -1,
         "colorbar": {
          "title": {
           "text": "cluster"
          }
         },
         "colorscale": [
          [
           0,
           "#30123b"
          ],
          [
           0.07142857142857142,
           "#4145ab"
          ],
          [
           0.14285714285714285,
           "#4675ed"
          ],
          [
           0.21428571428571427,
           "#39a2fc"
          ],
          [
           0.2857142857142857,
           "#1bcfd4"
          ],
          [
           0.35714285714285715,
           "#24eca6"
          ],
          [
           0.42857142857142855,
           "#61fc6c"
          ],
          [
           0.5,
           "#a4fc3b"
          ],
          [
           0.5714285714285714,
           "#d1e834"
          ],
          [
           0.6428571428571429,
           "#f3c63a"
          ],
          [
           0.7142857142857143,
           "#fe9b2d"
          ],
          [
           0.7857142857142857,
           "#f36315"
          ],
          [
           0.8571428571428571,
           "#d93806"
          ],
          [
           0.9285714285714286,
           "#b11901"
          ],
          [
           1,
           "#7a0402"
          ]
         ]
        },
        "legend": {
         "itemsizing": "constant",
         "tracegroupgap": 0
        },
        "margin": {
         "t": 60
        },
        "template": {
         "data": {
          "bar": [
           {
            "error_x": {
             "color": "#2a3f5f"
            },
            "error_y": {
             "color": "#2a3f5f"
            },
            "marker": {
             "line": {
              "color": "#E5ECF6",
              "width": 0.5
             },
             "pattern": {
              "fillmode": "overlay",
              "size": 10,
              "solidity": 0.2
             }
            },
            "type": "bar"
           }
          ],
          "barpolar": [
           {
            "marker": {
             "line": {
              "color": "#E5ECF6",
              "width": 0.5
             },
             "pattern": {
              "fillmode": "overlay",
              "size": 10,
              "solidity": 0.2
             }
            },
            "type": "barpolar"
           }
          ],
          "carpet": [
           {
            "aaxis": {
             "endlinecolor": "#2a3f5f",
             "gridcolor": "white",
             "linecolor": "white",
             "minorgridcolor": "white",
             "startlinecolor": "#2a3f5f"
            },
            "baxis": {
             "endlinecolor": "#2a3f5f",
             "gridcolor": "white",
             "linecolor": "white",
             "minorgridcolor": "white",
             "startlinecolor": "#2a3f5f"
            },
            "type": "carpet"
           }
          ],
          "choropleth": [
           {
            "colorbar": {
             "outlinewidth": 0,
             "ticks": ""
            },
            "type": "choropleth"
           }
          ],
          "contour": [
           {
            "colorbar": {
             "outlinewidth": 0,
             "ticks": ""
            },
            "colorscale": [
             [
              0,
              "#0d0887"
             ],
             [
              0.1111111111111111,
              "#46039f"
             ],
             [
              0.2222222222222222,
              "#7201a8"
             ],
             [
              0.3333333333333333,
              "#9c179e"
             ],
             [
              0.4444444444444444,
              "#bd3786"
             ],
             [
              0.5555555555555556,
              "#d8576b"
             ],
             [
              0.6666666666666666,
              "#ed7953"
             ],
             [
              0.7777777777777778,
              "#fb9f3a"
             ],
             [
              0.8888888888888888,
              "#fdca26"
             ],
             [
              1,
              "#f0f921"
             ]
            ],
            "type": "contour"
           }
          ],
          "contourcarpet": [
           {
            "colorbar": {
             "outlinewidth": 0,
             "ticks": ""
            },
            "type": "contourcarpet"
           }
          ],
          "heatmap": [
           {
            "colorbar": {
             "outlinewidth": 0,
             "ticks": ""
            },
            "colorscale": [
             [
              0,
              "#0d0887"
             ],
             [
              0.1111111111111111,
              "#46039f"
             ],
             [
              0.2222222222222222,
              "#7201a8"
             ],
             [
              0.3333333333333333,
              "#9c179e"
             ],
             [
              0.4444444444444444,
              "#bd3786"
             ],
             [
              0.5555555555555556,
              "#d8576b"
             ],
             [
              0.6666666666666666,
              "#ed7953"
             ],
             [
              0.7777777777777778,
              "#fb9f3a"
             ],
             [
              0.8888888888888888,
              "#fdca26"
             ],
             [
              1,
              "#f0f921"
             ]
            ],
            "type": "heatmap"
           }
          ],
          "heatmapgl": [
           {
            "colorbar": {
             "outlinewidth": 0,
             "ticks": ""
            },
            "colorscale": [
             [
              0,
              "#0d0887"
             ],
             [
              0.1111111111111111,
              "#46039f"
             ],
             [
              0.2222222222222222,
              "#7201a8"
             ],
             [
              0.3333333333333333,
              "#9c179e"
             ],
             [
              0.4444444444444444,
              "#bd3786"
             ],
             [
              0.5555555555555556,
              "#d8576b"
             ],
             [
              0.6666666666666666,
              "#ed7953"
             ],
             [
              0.7777777777777778,
              "#fb9f3a"
             ],
             [
              0.8888888888888888,
              "#fdca26"
             ],
             [
              1,
              "#f0f921"
             ]
            ],
            "type": "heatmapgl"
           }
          ],
          "histogram": [
           {
            "marker": {
             "pattern": {
              "fillmode": "overlay",
              "size": 10,
              "solidity": 0.2
             }
            },
            "type": "histogram"
           }
          ],
          "histogram2d": [
           {
            "colorbar": {
             "outlinewidth": 0,
             "ticks": ""
            },
            "colorscale": [
             [
              0,
              "#0d0887"
             ],
             [
              0.1111111111111111,
              "#46039f"
             ],
             [
              0.2222222222222222,
              "#7201a8"
             ],
             [
              0.3333333333333333,
              "#9c179e"
             ],
             [
              0.4444444444444444,
              "#bd3786"
             ],
             [
              0.5555555555555556,
              "#d8576b"
             ],
             [
              0.6666666666666666,
              "#ed7953"
             ],
             [
              0.7777777777777778,
              "#fb9f3a"
             ],
             [
              0.8888888888888888,
              "#fdca26"
             ],
             [
              1,
              "#f0f921"
             ]
            ],
            "type": "histogram2d"
           }
          ],
          "histogram2dcontour": [
           {
            "colorbar": {
             "outlinewidth": 0,
             "ticks": ""
            },
            "colorscale": [
             [
              0,
              "#0d0887"
             ],
             [
              0.1111111111111111,
              "#46039f"
             ],
             [
              0.2222222222222222,
              "#7201a8"
             ],
             [
              0.3333333333333333,
              "#9c179e"
             ],
             [
              0.4444444444444444,
              "#bd3786"
             ],
             [
              0.5555555555555556,
              "#d8576b"
             ],
             [
              0.6666666666666666,
              "#ed7953"
             ],
             [
              0.7777777777777778,
              "#fb9f3a"
             ],
             [
              0.8888888888888888,
              "#fdca26"
             ],
             [
              1,
              "#f0f921"
             ]
            ],
            "type": "histogram2dcontour"
           }
          ],
          "mesh3d": [
           {
            "colorbar": {
             "outlinewidth": 0,
             "ticks": ""
            },
            "type": "mesh3d"
           }
          ],
          "parcoords": [
           {
            "line": {
             "colorbar": {
              "outlinewidth": 0,
              "ticks": ""
             }
            },
            "type": "parcoords"
           }
          ],
          "pie": [
           {
            "automargin": true,
            "type": "pie"
           }
          ],
          "scatter": [
           {
            "fillpattern": {
             "fillmode": "overlay",
             "size": 10,
             "solidity": 0.2
            },
            "type": "scatter"
           }
          ],
          "scatter3d": [
           {
            "line": {
             "colorbar": {
              "outlinewidth": 0,
              "ticks": ""
             }
            },
            "marker": {
             "colorbar": {
              "outlinewidth": 0,
              "ticks": ""
             }
            },
            "type": "scatter3d"
           }
          ],
          "scattercarpet": [
           {
            "marker": {
             "colorbar": {
              "outlinewidth": 0,
              "ticks": ""
             }
            },
            "type": "scattercarpet"
           }
          ],
          "scattergeo": [
           {
            "marker": {
             "colorbar": {
              "outlinewidth": 0,
              "ticks": ""
             }
            },
            "type": "scattergeo"
           }
          ],
          "scattergl": [
           {
            "marker": {
             "colorbar": {
              "outlinewidth": 0,
              "ticks": ""
             }
            },
            "type": "scattergl"
           }
          ],
          "scattermapbox": [
           {
            "marker": {
             "colorbar": {
              "outlinewidth": 0,
              "ticks": ""
             }
            },
            "type": "scattermapbox"
           }
          ],
          "scatterpolar": [
           {
            "marker": {
             "colorbar": {
              "outlinewidth": 0,
              "ticks": ""
             }
            },
            "type": "scatterpolar"
           }
          ],
          "scatterpolargl": [
           {
            "marker": {
             "colorbar": {
              "outlinewidth": 0,
              "ticks": ""
             }
            },
            "type": "scatterpolargl"
           }
          ],
          "scatterternary": [
           {
            "marker": {
             "colorbar": {
              "outlinewidth": 0,
              "ticks": ""
             }
            },
            "type": "scatterternary"
           }
          ],
          "surface": [
           {
            "colorbar": {
             "outlinewidth": 0,
             "ticks": ""
            },
            "colorscale": [
             [
              0,
              "#0d0887"
             ],
             [
              0.1111111111111111,
              "#46039f"
             ],
             [
              0.2222222222222222,
              "#7201a8"
             ],
             [
              0.3333333333333333,
              "#9c179e"
             ],
             [
              0.4444444444444444,
              "#bd3786"
             ],
             [
              0.5555555555555556,
              "#d8576b"
             ],
             [
              0.6666666666666666,
              "#ed7953"
             ],
             [
              0.7777777777777778,
              "#fb9f3a"
             ],
             [
              0.8888888888888888,
              "#fdca26"
             ],
             [
              1,
              "#f0f921"
             ]
            ],
            "type": "surface"
           }
          ],
          "table": [
           {
            "cells": {
             "fill": {
              "color": "#EBF0F8"
             },
             "line": {
              "color": "white"
             }
            },
            "header": {
             "fill": {
              "color": "#C8D4E3"
             },
             "line": {
              "color": "white"
             }
            },
            "type": "table"
           }
          ]
         },
         "layout": {
          "annotationdefaults": {
           "arrowcolor": "#2a3f5f",
           "arrowhead": 0,
           "arrowwidth": 1
          },
          "autotypenumbers": "strict",
          "coloraxis": {
           "colorbar": {
            "outlinewidth": 0,
            "ticks": ""
           }
          },
          "colorscale": {
           "diverging": [
            [
             0,
             "#8e0152"
            ],
            [
             0.1,
             "#c51b7d"
            ],
            [
             0.2,
             "#de77ae"
            ],
            [
             0.3,
             "#f1b6da"
            ],
            [
             0.4,
             "#fde0ef"
            ],
            [
             0.5,
             "#f7f7f7"
            ],
            [
             0.6,
             "#e6f5d0"
            ],
            [
             0.7,
             "#b8e186"
            ],
            [
             0.8,
             "#7fbc41"
            ],
            [
             0.9,
             "#4d9221"
            ],
            [
             1,
             "#276419"
            ]
           ],
           "sequential": [
            [
             0,
             "#0d0887"
            ],
            [
             0.1111111111111111,
             "#46039f"
            ],
            [
             0.2222222222222222,
             "#7201a8"
            ],
            [
             0.3333333333333333,
             "#9c179e"
            ],
            [
             0.4444444444444444,
             "#bd3786"
            ],
            [
             0.5555555555555556,
             "#d8576b"
            ],
            [
             0.6666666666666666,
             "#ed7953"
            ],
            [
             0.7777777777777778,
             "#fb9f3a"
            ],
            [
             0.8888888888888888,
             "#fdca26"
            ],
            [
             1,
             "#f0f921"
            ]
           ],
           "sequentialminus": [
            [
             0,
             "#0d0887"
            ],
            [
             0.1111111111111111,
             "#46039f"
            ],
            [
             0.2222222222222222,
             "#7201a8"
            ],
            [
             0.3333333333333333,
             "#9c179e"
            ],
            [
             0.4444444444444444,
             "#bd3786"
            ],
            [
             0.5555555555555556,
             "#d8576b"
            ],
            [
             0.6666666666666666,
             "#ed7953"
            ],
            [
             0.7777777777777778,
             "#fb9f3a"
            ],
            [
             0.8888888888888888,
             "#fdca26"
            ],
            [
             1,
             "#f0f921"
            ]
           ]
          },
          "colorway": [
           "#636efa",
           "#EF553B",
           "#00cc96",
           "#ab63fa",
           "#FFA15A",
           "#19d3f3",
           "#FF6692",
           "#B6E880",
           "#FF97FF",
           "#FECB52"
          ],
          "font": {
           "color": "#2a3f5f"
          },
          "geo": {
           "bgcolor": "white",
           "lakecolor": "white",
           "landcolor": "#E5ECF6",
           "showlakes": true,
           "showland": true,
           "subunitcolor": "white"
          },
          "hoverlabel": {
           "align": "left"
          },
          "hovermode": "closest",
          "mapbox": {
           "style": "light"
          },
          "paper_bgcolor": "white",
          "plot_bgcolor": "#E5ECF6",
          "polar": {
           "angularaxis": {
            "gridcolor": "white",
            "linecolor": "white",
            "ticks": ""
           },
           "bgcolor": "#E5ECF6",
           "radialaxis": {
            "gridcolor": "white",
            "linecolor": "white",
            "ticks": ""
           }
          },
          "scene": {
           "xaxis": {
            "backgroundcolor": "#E5ECF6",
            "gridcolor": "white",
            "gridwidth": 2,
            "linecolor": "white",
            "showbackground": true,
            "ticks": "",
            "zerolinecolor": "white"
           },
           "yaxis": {
            "backgroundcolor": "#E5ECF6",
            "gridcolor": "white",
            "gridwidth": 2,
            "linecolor": "white",
            "showbackground": true,
            "ticks": "",
            "zerolinecolor": "white"
           },
           "zaxis": {
            "backgroundcolor": "#E5ECF6",
            "gridcolor": "white",
            "gridwidth": 2,
            "linecolor": "white",
            "showbackground": true,
            "ticks": "",
            "zerolinecolor": "white"
           }
          },
          "shapedefaults": {
           "line": {
            "color": "#2a3f5f"
           }
          },
          "ternary": {
           "aaxis": {
            "gridcolor": "white",
            "linecolor": "white",
            "ticks": ""
           },
           "baxis": {
            "gridcolor": "white",
            "linecolor": "white",
            "ticks": ""
           },
           "bgcolor": "#E5ECF6",
           "caxis": {
            "gridcolor": "white",
            "linecolor": "white",
            "ticks": ""
           }
          },
          "title": {
           "x": 0.05
          },
          "xaxis": {
           "automargin": true,
           "gridcolor": "white",
           "linecolor": "white",
           "ticks": "",
           "title": {
            "standoff": 15
           },
           "zerolinecolor": "white",
           "zerolinewidth": 2
          },
          "yaxis": {
           "automargin": true,
           "gridcolor": "white",
           "linecolor": "white",
           "ticks": "",
           "title": {
            "standoff": 15
           },
           "zerolinecolor": "white",
           "zerolinewidth": 2
          }
         }
        },
        "width": 550,
        "xaxis": {
         "anchor": "y",
         "domain": [
          0,
          1
         ],
         "title": {
          "text": "x"
         }
        },
        "yaxis": {
         "anchor": "x",
         "domain": [
          0,
          1
         ],
         "title": {
          "text": "y"
         }
        }
       }
      },
      "text/html": [
       "<div>                            <div id=\"f1631763-84f7-4b1d-aa87-4b37c26d8784\" class=\"plotly-graph-div\" style=\"height:525px; width:550px;\"></div>            <script type=\"text/javascript\">                require([\"plotly\"], function(Plotly) {                    window.PLOTLYENV=window.PLOTLYENV || {};                                    if (document.getElementById(\"f1631763-84f7-4b1d-aa87-4b37c26d8784\")) {                    Plotly.newPlot(                        \"f1631763-84f7-4b1d-aa87-4b37c26d8784\",                        [{\"hovertemplate\":\"x=%{x}<br>y=%{y}<br>sizes=%{marker.size}<br>cluster=%{marker.color}<extra></extra>\",\"legendgroup\":\"\",\"marker\":{\"color\":[-1.0,-1.0,-1.0,-1.0,-1.0,-1.0,-1.0,-1.0,-1.0,-1.0,-1.0,-1.0,-1.0,-1.0,-1.0,-1.0,-1.0,-1.0,-1.0,-1.0,-1.0,-1.0,-1.0,-1.0,-1.0,-1.0,-1.0,-1.0,-1.0,-1.0,-1.0,-1.0,-1.0,-1.0,-1.0,-1.0,-1.0,-1.0,-1.0,-1.0,-1.0,-1.0,-1.0,-1.0,-1.0,-1.0,-1.0,-1.0,-1.0,-1.0,-1.0,-1.0,-1.0,-1.0,-1.0,-1.0,-1.0,-1.0,-1.0,-1.0,-1.0,-1.0,-1.0,-1.0,-1.0,-1.0,-1.0,-1.0,-1.0,-1.0,-1.0,-1.0,-1.0,-1.0,-1.0,-1.0,-1.0,-1.0,-1.0,-1.0,-1.0,-1.0,-1.0,-1.0,-1.0,-1.0,-1.0,-1.0,-1.0,-1.0,-1.0,-1.0,-1.0,-1.0,-1.0,-1.0,-1.0,-1.0,-1.0,-1.0,0.0,1.0,2.0,3.0,4.0],\"coloraxis\":\"coloraxis\",\"size\":[1.0,1.0,1.0,1.0,1.0,1.0,1.0,1.0,1.0,1.0,1.0,1.0,1.0,1.0,1.0,1.0,1.0,1.0,1.0,1.0,1.0,1.0,1.0,1.0,1.0,1.0,1.0,1.0,1.0,1.0,1.0,1.0,1.0,1.0,1.0,1.0,1.0,1.0,1.0,1.0,1.0,1.0,1.0,1.0,1.0,1.0,1.0,1.0,1.0,1.0,1.0,1.0,1.0,1.0,1.0,1.0,1.0,1.0,1.0,1.0,1.0,1.0,1.0,1.0,1.0,1.0,1.0,1.0,1.0,1.0,1.0,1.0,1.0,1.0,1.0,1.0,1.0,1.0,1.0,1.0,1.0,1.0,1.0,1.0,1.0,1.0,1.0,1.0,1.0,1.0,1.0,1.0,1.0,1.0,1.0,1.0,1.0,1.0,1.0,1.0,4.0,4.0,4.0,4.0,4.0],\"sizemode\":\"area\",\"sizeref\":0.01,\"symbol\":\"circle\"},\"mode\":\"markers\",\"name\":\"\",\"orientation\":\"v\",\"showlegend\":false,\"x\":[-0.082977995297426,-0.4998856251826551,-0.35324410918288696,-0.3137397886223291,-0.10323252576933006,-0.0808054855967052,-0.29554775026848257,-0.47261240680207384,-0.08269519763287303,-0.35961306140476623,0.30074456867553667,-0.18657582184075716,0.3763891522960383,-0.4149557886302221,-0.3301695804354311,-0.4016531661669499,0.45788953015050193,0.19187711395047335,0.18650092768158366,-0.4817117226558082,0.4888610889064947,-0.21955600793559482,-0.396773993422358,0.40859550309309556,-0.21222466141365126,-0.4806330421297029,-0.28837188399994096,-0.00842684071966171,0.07411760549201307,0.08930553690328424,-0.39766557117217416,0.1944001577277451,-0.45004654105391284,0.16379464521978881,0.44459475599081333,0.4034019152878835,-0.36072365274924145,-0.10232316301446642,0.4275085803960339,0.25081210313615554,0.38330609120580983,0.2509424340273372,-0.23007210823497393,-0.07190881012870509,0.16344149781844808,-0.3852540270466248,-0.050087866520059476,-0.09186319723871883,0.4033795205622538,-0.49712967296884103,-0.17335509822790385,0.3859420993107745,0.4085351509197992,-0.4841787571534437,0.19089691751692395,-0.32765949165467145,0.43259546303716356,-0.4339998272779375,0.2538761884612464,0.21152475862847175,-0.4801198661602044,-0.4716935119792054,0.360027948682888,0.05282197868576588,-0.37582668488008886,0.08575927145828788,0.06103021925570995,0.30063267268061633,0.30710519561877914,0.36354185455942867,0.056240233990418886,-0.44008231048778834,-0.4554481214552383,-0.2742906613921453,0.05971698205414244,-0.4280257203105132,0.06810046191994212,-0.24767425542967658,-0.3045705188906812,0.47001998908831233,-0.26015224085241384,0.11995571838137975,-0.34320860535391573,-0.42997785628077767,0.10632946165333035,-0.18263759067783925,0.07974521924579692,0.05094821911789682,0.1692328934531846,-0.43366516557155843,0.12971750702156448,0.25275555373881387,-0.23968490142145904,-0.30656571737667226,0.02467030912373369,-0.23670322951288902,0.23506596328866947,0.40781585250352403,-0.486048427024403,0.11677835700165762,0.27010567154824777,0.24936380985976475,-0.06599537151525225,0.06258628975198394,0.2557088560238722],\"xaxis\":\"x\",\"y\":[0.2203244934421581,-0.19766742736816023,-0.4076614052312022,-0.15443927295695226,0.038816734003356945,0.1852195003967595,0.3781174363909454,0.17046751017840223,0.05868982844575166,-0.3018985109151212,0.4682615757193975,0.19232261566931408,0.3946066635038473,-0.46094521676711764,0.37814250342941313,-0.07889237499494783,0.03316528497301707,-0.18448436899393705,0.3346256718973729,0.25014431494496747,0.2481656543798394,0.2892793284514885,-0.052106473824094834,-0.2063858516263205,-0.3699714278817223,0.17883553293989096,-0.2344533406277738,-0.4466374548829196,-0.35327142509418985,0.19975836002093117,-0.08594401218043168,-0.08582073047309735,0.035896405915511576,0.014889112058308562,0.08655504050199292,-0.3625252958537625,0.3073912887095238,-0.3346458028830672,-0.15223414025449344,0.22599798535045146,0.12367220705560888,-0.15110165802215747,0.39588621819606684,0.46484004714838556,0.12169572020912178,0.44948925870707124,0.07838961438713177,-0.2629730197569723,0.07367948667228585,0.11714491362072388,0.027058102257609296,-0.14273023999750023,0.12336011579180273,0.4294372337437613,0.4973228504514805,-0.36286425037112224,0.19681816148990017,0.2554630526024664,0.42302453554648334,-0.3757290380278353,-0.4737890131222807,-0.2537889323969541,0.03883106434165284,0.3420308923596057,-0.2208163209888605,0.46959574831967454,-0.481352710627057,-0.26702572615897957,-0.11213935593582824,0.24712164273718462,-0.363544774339315,-0.37865654425926265,-0.3925058708939071,0.21298898038267666,-0.48744401984088415,0.467276330000272,-0.2967067653390095,0.24382585407509294,0.08135892727325778,0.34682880149003525,-0.006230285731270047,0.32898089955017873,-0.4814237978225905,-0.01365488906296819,0.06885143708648134,0.4886161544124489,-0.1198588273764496,0.2453344309065021,-0.2350804423371906,-0.1299158020858937,-0.2898259900851604,-0.43346351864588506,0.3047545637433454,0.13946088087994013,0.4248079703993507,-0.4340389093159762,0.27217802954324677,0.4319720691968373,-0.2656379138785795,0.44901632068761643,0.03399191291709386,0.08493972536780253,-0.008405599741854175,0.029728752905137545,0.2512400613801637],\"yaxis\":\"y\",\"type\":\"scatter\"}],                        {\"template\":{\"data\":{\"histogram2dcontour\":[{\"type\":\"histogram2dcontour\",\"colorbar\":{\"outlinewidth\":0,\"ticks\":\"\"},\"colorscale\":[[0.0,\"#0d0887\"],[0.1111111111111111,\"#46039f\"],[0.2222222222222222,\"#7201a8\"],[0.3333333333333333,\"#9c179e\"],[0.4444444444444444,\"#bd3786\"],[0.5555555555555556,\"#d8576b\"],[0.6666666666666666,\"#ed7953\"],[0.7777777777777778,\"#fb9f3a\"],[0.8888888888888888,\"#fdca26\"],[1.0,\"#f0f921\"]]}],\"choropleth\":[{\"type\":\"choropleth\",\"colorbar\":{\"outlinewidth\":0,\"ticks\":\"\"}}],\"histogram2d\":[{\"type\":\"histogram2d\",\"colorbar\":{\"outlinewidth\":0,\"ticks\":\"\"},\"colorscale\":[[0.0,\"#0d0887\"],[0.1111111111111111,\"#46039f\"],[0.2222222222222222,\"#7201a8\"],[0.3333333333333333,\"#9c179e\"],[0.4444444444444444,\"#bd3786\"],[0.5555555555555556,\"#d8576b\"],[0.6666666666666666,\"#ed7953\"],[0.7777777777777778,\"#fb9f3a\"],[0.8888888888888888,\"#fdca26\"],[1.0,\"#f0f921\"]]}],\"heatmap\":[{\"type\":\"heatmap\",\"colorbar\":{\"outlinewidth\":0,\"ticks\":\"\"},\"colorscale\":[[0.0,\"#0d0887\"],[0.1111111111111111,\"#46039f\"],[0.2222222222222222,\"#7201a8\"],[0.3333333333333333,\"#9c179e\"],[0.4444444444444444,\"#bd3786\"],[0.5555555555555556,\"#d8576b\"],[0.6666666666666666,\"#ed7953\"],[0.7777777777777778,\"#fb9f3a\"],[0.8888888888888888,\"#fdca26\"],[1.0,\"#f0f921\"]]}],\"heatmapgl\":[{\"type\":\"heatmapgl\",\"colorbar\":{\"outlinewidth\":0,\"ticks\":\"\"},\"colorscale\":[[0.0,\"#0d0887\"],[0.1111111111111111,\"#46039f\"],[0.2222222222222222,\"#7201a8\"],[0.3333333333333333,\"#9c179e\"],[0.4444444444444444,\"#bd3786\"],[0.5555555555555556,\"#d8576b\"],[0.6666666666666666,\"#ed7953\"],[0.7777777777777778,\"#fb9f3a\"],[0.8888888888888888,\"#fdca26\"],[1.0,\"#f0f921\"]]}],\"contourcarpet\":[{\"type\":\"contourcarpet\",\"colorbar\":{\"outlinewidth\":0,\"ticks\":\"\"}}],\"contour\":[{\"type\":\"contour\",\"colorbar\":{\"outlinewidth\":0,\"ticks\":\"\"},\"colorscale\":[[0.0,\"#0d0887\"],[0.1111111111111111,\"#46039f\"],[0.2222222222222222,\"#7201a8\"],[0.3333333333333333,\"#9c179e\"],[0.4444444444444444,\"#bd3786\"],[0.5555555555555556,\"#d8576b\"],[0.6666666666666666,\"#ed7953\"],[0.7777777777777778,\"#fb9f3a\"],[0.8888888888888888,\"#fdca26\"],[1.0,\"#f0f921\"]]}],\"surface\":[{\"type\":\"surface\",\"colorbar\":{\"outlinewidth\":0,\"ticks\":\"\"},\"colorscale\":[[0.0,\"#0d0887\"],[0.1111111111111111,\"#46039f\"],[0.2222222222222222,\"#7201a8\"],[0.3333333333333333,\"#9c179e\"],[0.4444444444444444,\"#bd3786\"],[0.5555555555555556,\"#d8576b\"],[0.6666666666666666,\"#ed7953\"],[0.7777777777777778,\"#fb9f3a\"],[0.8888888888888888,\"#fdca26\"],[1.0,\"#f0f921\"]]}],\"mesh3d\":[{\"type\":\"mesh3d\",\"colorbar\":{\"outlinewidth\":0,\"ticks\":\"\"}}],\"scatter\":[{\"fillpattern\":{\"fillmode\":\"overlay\",\"size\":10,\"solidity\":0.2},\"type\":\"scatter\"}],\"parcoords\":[{\"type\":\"parcoords\",\"line\":{\"colorbar\":{\"outlinewidth\":0,\"ticks\":\"\"}}}],\"scatterpolargl\":[{\"type\":\"scatterpolargl\",\"marker\":{\"colorbar\":{\"outlinewidth\":0,\"ticks\":\"\"}}}],\"bar\":[{\"error_x\":{\"color\":\"#2a3f5f\"},\"error_y\":{\"color\":\"#2a3f5f\"},\"marker\":{\"line\":{\"color\":\"#E5ECF6\",\"width\":0.5},\"pattern\":{\"fillmode\":\"overlay\",\"size\":10,\"solidity\":0.2}},\"type\":\"bar\"}],\"scattergeo\":[{\"type\":\"scattergeo\",\"marker\":{\"colorbar\":{\"outlinewidth\":0,\"ticks\":\"\"}}}],\"scatterpolar\":[{\"type\":\"scatterpolar\",\"marker\":{\"colorbar\":{\"outlinewidth\":0,\"ticks\":\"\"}}}],\"histogram\":[{\"marker\":{\"pattern\":{\"fillmode\":\"overlay\",\"size\":10,\"solidity\":0.2}},\"type\":\"histogram\"}],\"scattergl\":[{\"type\":\"scattergl\",\"marker\":{\"colorbar\":{\"outlinewidth\":0,\"ticks\":\"\"}}}],\"scatter3d\":[{\"type\":\"scatter3d\",\"line\":{\"colorbar\":{\"outlinewidth\":0,\"ticks\":\"\"}},\"marker\":{\"colorbar\":{\"outlinewidth\":0,\"ticks\":\"\"}}}],\"scattermapbox\":[{\"type\":\"scattermapbox\",\"marker\":{\"colorbar\":{\"outlinewidth\":0,\"ticks\":\"\"}}}],\"scatterternary\":[{\"type\":\"scatterternary\",\"marker\":{\"colorbar\":{\"outlinewidth\":0,\"ticks\":\"\"}}}],\"scattercarpet\":[{\"type\":\"scattercarpet\",\"marker\":{\"colorbar\":{\"outlinewidth\":0,\"ticks\":\"\"}}}],\"carpet\":[{\"aaxis\":{\"endlinecolor\":\"#2a3f5f\",\"gridcolor\":\"white\",\"linecolor\":\"white\",\"minorgridcolor\":\"white\",\"startlinecolor\":\"#2a3f5f\"},\"baxis\":{\"endlinecolor\":\"#2a3f5f\",\"gridcolor\":\"white\",\"linecolor\":\"white\",\"minorgridcolor\":\"white\",\"startlinecolor\":\"#2a3f5f\"},\"type\":\"carpet\"}],\"table\":[{\"cells\":{\"fill\":{\"color\":\"#EBF0F8\"},\"line\":{\"color\":\"white\"}},\"header\":{\"fill\":{\"color\":\"#C8D4E3\"},\"line\":{\"color\":\"white\"}},\"type\":\"table\"}],\"barpolar\":[{\"marker\":{\"line\":{\"color\":\"#E5ECF6\",\"width\":0.5},\"pattern\":{\"fillmode\":\"overlay\",\"size\":10,\"solidity\":0.2}},\"type\":\"barpolar\"}],\"pie\":[{\"automargin\":true,\"type\":\"pie\"}]},\"layout\":{\"autotypenumbers\":\"strict\",\"colorway\":[\"#636efa\",\"#EF553B\",\"#00cc96\",\"#ab63fa\",\"#FFA15A\",\"#19d3f3\",\"#FF6692\",\"#B6E880\",\"#FF97FF\",\"#FECB52\"],\"font\":{\"color\":\"#2a3f5f\"},\"hovermode\":\"closest\",\"hoverlabel\":{\"align\":\"left\"},\"paper_bgcolor\":\"white\",\"plot_bgcolor\":\"#E5ECF6\",\"polar\":{\"bgcolor\":\"#E5ECF6\",\"angularaxis\":{\"gridcolor\":\"white\",\"linecolor\":\"white\",\"ticks\":\"\"},\"radialaxis\":{\"gridcolor\":\"white\",\"linecolor\":\"white\",\"ticks\":\"\"}},\"ternary\":{\"bgcolor\":\"#E5ECF6\",\"aaxis\":{\"gridcolor\":\"white\",\"linecolor\":\"white\",\"ticks\":\"\"},\"baxis\":{\"gridcolor\":\"white\",\"linecolor\":\"white\",\"ticks\":\"\"},\"caxis\":{\"gridcolor\":\"white\",\"linecolor\":\"white\",\"ticks\":\"\"}},\"coloraxis\":{\"colorbar\":{\"outlinewidth\":0,\"ticks\":\"\"}},\"colorscale\":{\"sequential\":[[0.0,\"#0d0887\"],[0.1111111111111111,\"#46039f\"],[0.2222222222222222,\"#7201a8\"],[0.3333333333333333,\"#9c179e\"],[0.4444444444444444,\"#bd3786\"],[0.5555555555555556,\"#d8576b\"],[0.6666666666666666,\"#ed7953\"],[0.7777777777777778,\"#fb9f3a\"],[0.8888888888888888,\"#fdca26\"],[1.0,\"#f0f921\"]],\"sequentialminus\":[[0.0,\"#0d0887\"],[0.1111111111111111,\"#46039f\"],[0.2222222222222222,\"#7201a8\"],[0.3333333333333333,\"#9c179e\"],[0.4444444444444444,\"#bd3786\"],[0.5555555555555556,\"#d8576b\"],[0.6666666666666666,\"#ed7953\"],[0.7777777777777778,\"#fb9f3a\"],[0.8888888888888888,\"#fdca26\"],[1.0,\"#f0f921\"]],\"diverging\":[[0,\"#8e0152\"],[0.1,\"#c51b7d\"],[0.2,\"#de77ae\"],[0.3,\"#f1b6da\"],[0.4,\"#fde0ef\"],[0.5,\"#f7f7f7\"],[0.6,\"#e6f5d0\"],[0.7,\"#b8e186\"],[0.8,\"#7fbc41\"],[0.9,\"#4d9221\"],[1,\"#276419\"]]},\"xaxis\":{\"gridcolor\":\"white\",\"linecolor\":\"white\",\"ticks\":\"\",\"title\":{\"standoff\":15},\"zerolinecolor\":\"white\",\"automargin\":true,\"zerolinewidth\":2},\"yaxis\":{\"gridcolor\":\"white\",\"linecolor\":\"white\",\"ticks\":\"\",\"title\":{\"standoff\":15},\"zerolinecolor\":\"white\",\"automargin\":true,\"zerolinewidth\":2},\"scene\":{\"xaxis\":{\"backgroundcolor\":\"#E5ECF6\",\"gridcolor\":\"white\",\"linecolor\":\"white\",\"showbackground\":true,\"ticks\":\"\",\"zerolinecolor\":\"white\",\"gridwidth\":2},\"yaxis\":{\"backgroundcolor\":\"#E5ECF6\",\"gridcolor\":\"white\",\"linecolor\":\"white\",\"showbackground\":true,\"ticks\":\"\",\"zerolinecolor\":\"white\",\"gridwidth\":2},\"zaxis\":{\"backgroundcolor\":\"#E5ECF6\",\"gridcolor\":\"white\",\"linecolor\":\"white\",\"showbackground\":true,\"ticks\":\"\",\"zerolinecolor\":\"white\",\"gridwidth\":2}},\"shapedefaults\":{\"line\":{\"color\":\"#2a3f5f\"}},\"annotationdefaults\":{\"arrowcolor\":\"#2a3f5f\",\"arrowhead\":0,\"arrowwidth\":1},\"geo\":{\"bgcolor\":\"white\",\"landcolor\":\"#E5ECF6\",\"subunitcolor\":\"white\",\"showland\":true,\"showlakes\":true,\"lakecolor\":\"white\"},\"title\":{\"x\":0.05},\"mapbox\":{\"style\":\"light\"}}},\"xaxis\":{\"anchor\":\"y\",\"domain\":[0.0,1.0],\"title\":{\"text\":\"x\"}},\"yaxis\":{\"anchor\":\"x\",\"domain\":[0.0,1.0],\"title\":{\"text\":\"y\"}},\"coloraxis\":{\"colorbar\":{\"title\":{\"text\":\"cluster\"}},\"colorscale\":[[0.0,\"#30123b\"],[0.07142857142857142,\"#4145ab\"],[0.14285714285714285,\"#4675ed\"],[0.21428571428571427,\"#39a2fc\"],[0.2857142857142857,\"#1bcfd4\"],[0.35714285714285715,\"#24eca6\"],[0.42857142857142855,\"#61fc6c\"],[0.5,\"#a4fc3b\"],[0.5714285714285714,\"#d1e834\"],[0.6428571428571429,\"#f3c63a\"],[0.7142857142857143,\"#fe9b2d\"],[0.7857142857142857,\"#f36315\"],[0.8571428571428571,\"#d93806\"],[0.9285714285714286,\"#b11901\"],[1.0,\"#7a0402\"]],\"cmin\":-1,\"cmax\":5},\"legend\":{\"tracegroupgap\":0,\"itemsizing\":\"constant\"},\"margin\":{\"t\":60},\"width\":550},                        {\"responsive\": true}                    ).then(function(){\n",
       "                            \n",
       "var gd = document.getElementById('f1631763-84f7-4b1d-aa87-4b37c26d8784');\n",
       "var x = new MutationObserver(function (mutations, observer) {{\n",
       "        var display = window.getComputedStyle(gd).display;\n",
       "        if (!display || display === 'none') {{\n",
       "            console.log([gd, 'removed!']);\n",
       "            Plotly.purge(gd);\n",
       "            observer.disconnect();\n",
       "        }}\n",
       "}});\n",
       "\n",
       "// Listen for the removal of the full notebook cells\n",
       "var notebookContainer = gd.closest('#notebook-container');\n",
       "if (notebookContainer) {{\n",
       "    x.observe(notebookContainer, {childList: true});\n",
       "}}\n",
       "\n",
       "// Listen for the clearing of the current output cell\n",
       "var outputEl = gd.closest('.output');\n",
       "if (outputEl) {{\n",
       "    x.observe(outputEl, {childList: true});\n",
       "}}\n",
       "\n",
       "                        })                };                });            </script>        </div>"
      ]
     },
     "metadata": {},
     "output_type": "display_data"
    }
   ],
   "source": [
    "#| code-fold: true\n",
    "#| code-summary: \"Show the code\"\n",
    "#| label: fig-kmeans-init\n",
    "#| fig-cap: \"Initial state of k-means, showing data without any 'membership' (dark dots) and random centroid locations (large colored dots)\"\n",
    "# lots of imports to try to get the plotly plots and animations to show!\n",
    "import plotly.io as pio\n",
    "pio.renderers.default='notebook'\n",
    "import plotly.express as px \n",
    "from plotly.offline import plot, iplot, init_notebook_mode\n",
    "import plotly.graph_objs as go\n",
    "init_notebook_mode(connected=True)\n",
    "\n",
    "\n",
    "ndim = 2  # easier to do in 2d at first\n",
    "npoints = 100\n",
    "np.random.seed(1)\n",
    "datak = DATA_MIN + (DATA_MAX-DATA_MIN)*np.random.rand(npoints, ndim)   # make up some random data points\n",
    "\n",
    "k = 5        # k-means parameter: number of clusters\n",
    "\n",
    "# start with random centroids\n",
    "centroids = DATA_MIN + 0.2+0.6*(DATA_MAX-DATA_MIN)*np.random.rand(k, ndim) # don't let the starting centroids be on the far edges of the plot\n",
    "orig_centroids = centroids.copy() # save these for later when we'll make a movie\n",
    "\n",
    "\n",
    "def plot_kmeans(data, centroids, cluster_memb=None): # we'll leave a way to color the data points\n",
    "    all_data = np.concatenate((data,centroids))\n",
    "    is_centroid = np.array( [1 if i >= npoints else 0 for i in range(all_data.shape[0])] , np.newaxis)\n",
    "    sizes = is_centroid*3 + 1\n",
    "    cs = cluster_memb if cluster_memb is not None else -1+np.zeros( (data.shape[0],1) ,dtype=int) \n",
    "    cs = np.append(cs, range(k)) # add the centroids\n",
    "    plot_data = np.column_stack( (all_data, sizes, cs) )\n",
    "    columns = ['x','y','sizes','cluster']\n",
    "    df = pd.DataFrame( plot_data,  columns=columns)\n",
    "    fig = px.scatter(df, x=\"x\", y=\"y\", color='cluster', size='sizes', width=550, range_color=(-1,k),\n",
    "            color_continuous_scale='Turbo')\n",
    "    return fig\n",
    "\n",
    "plot_kmeans(datak, centroids)\n",
    "    "
   ]
  },
  {
   "cell_type": "markdown",
   "id": "9a5189e3",
   "metadata": {},
   "source": [
    "That's our starting points.  Then what we'll do is, we'll color each point according to which centroid it's closest to. \n",
    "\n",
    "> Yes, this can be *very slow* for lots of points in many dimensions. There is a whole field of study of how to speed up \"nearest neighbors\" types of algorithms.  We're going to keep it simple for this demo:"
   ]
  },
  {
   "cell_type": "code",
   "execution_count": null,
   "id": "290c96f2",
   "metadata": {},
   "outputs": [
    {
     "data": {
      "application/vnd.plotly.v1+json": {
       "config": {
        "plotlyServerURL": "https://plot.ly"
       },
       "data": [
        {
         "hovertemplate": "x=%{x}<br>y=%{y}<br>sizes=%{marker.size}<br>cluster=%{marker.color}<extra></extra>",
         "legendgroup": "",
         "marker": {
          "color": [
           2,
           2,
           2,
           2,
           2,
           2,
           2,
           2,
           2,
           2,
           4,
           2,
           4,
           2,
           2,
           2,
           0,
           0,
           4,
           2,
           4,
           2,
           2,
           0,
           2,
           2,
           2,
           2,
           2,
           3,
           2,
           0,
           2,
           3,
           0,
           0,
           2,
           2,
           0,
           4,
           1,
           0,
           2,
           4,
           1,
           2,
           2,
           2,
           0,
           2,
           2,
           0,
           1,
           2,
           4,
           2,
           4,
           2,
           4,
           0,
           2,
           2,
           0,
           4,
           2,
           4,
           2,
           0,
           0,
           4,
           2,
           2,
           2,
           2,
           2,
           2,
           2,
           2,
           2,
           4,
           2,
           4,
           2,
           2,
           3,
           4,
           3,
           4,
           3,
           2,
           3,
           0,
           2,
           2,
           4,
           2,
           4,
           4,
           2,
           4,
           0,
           1,
           2,
           3,
           4
          ],
          "coloraxis": "coloraxis",
          "size": [
           1,
           1,
           1,
           1,
           1,
           1,
           1,
           1,
           1,
           1,
           1,
           1,
           1,
           1,
           1,
           1,
           1,
           1,
           1,
           1,
           1,
           1,
           1,
           1,
           1,
           1,
           1,
           1,
           1,
           1,
           1,
           1,
           1,
           1,
           1,
           1,
           1,
           1,
           1,
           1,
           1,
           1,
           1,
           1,
           1,
           1,
           1,
           1,
           1,
           1,
           1,
           1,
           1,
           1,
           1,
           1,
           1,
           1,
           1,
           1,
           1,
           1,
           1,
           1,
           1,
           1,
           1,
           1,
           1,
           1,
           1,
           1,
           1,
           1,
           1,
           1,
           1,
           1,
           1,
           1,
           1,
           1,
           1,
           1,
           1,
           1,
           1,
           1,
           1,
           1,
           1,
           1,
           1,
           1,
           1,
           1,
           1,
           1,
           1,
           1,
           4,
           4,
           4,
           4,
           4
          ],
          "sizemode": "area",
          "sizeref": 0.01,
          "symbol": "circle"
         },
         "mode": "markers",
         "name": "",
         "orientation": "v",
         "showlegend": false,
         "type": "scatter",
         "x": [
          -0.082977995297426,
          -0.4998856251826551,
          -0.35324410918288696,
          -0.3137397886223291,
          -0.10323252576933006,
          -0.0808054855967052,
          -0.29554775026848257,
          -0.47261240680207384,
          -0.08269519763287303,
          -0.35961306140476623,
          0.30074456867553667,
          -0.18657582184075716,
          0.3763891522960383,
          -0.4149557886302221,
          -0.3301695804354311,
          -0.4016531661669499,
          0.45788953015050193,
          0.19187711395047335,
          0.18650092768158366,
          -0.4817117226558082,
          0.4888610889064947,
          -0.21955600793559482,
          -0.396773993422358,
          0.40859550309309556,
          -0.21222466141365126,
          -0.4806330421297029,
          -0.28837188399994096,
          -0.00842684071966171,
          0.07411760549201307,
          0.08930553690328424,
          -0.39766557117217416,
          0.1944001577277451,
          -0.45004654105391284,
          0.16379464521978881,
          0.44459475599081333,
          0.4034019152878835,
          -0.36072365274924145,
          -0.10232316301446642,
          0.4275085803960339,
          0.25081210313615554,
          0.38330609120580983,
          0.2509424340273372,
          -0.23007210823497393,
          -0.07190881012870509,
          0.16344149781844808,
          -0.3852540270466248,
          -0.050087866520059476,
          -0.09186319723871883,
          0.4033795205622538,
          -0.49712967296884103,
          -0.17335509822790385,
          0.3859420993107745,
          0.4085351509197992,
          -0.4841787571534437,
          0.19089691751692395,
          -0.32765949165467145,
          0.43259546303716356,
          -0.4339998272779375,
          0.2538761884612464,
          0.21152475862847175,
          -0.4801198661602044,
          -0.4716935119792054,
          0.360027948682888,
          0.05282197868576588,
          -0.37582668488008886,
          0.08575927145828788,
          0.06103021925570995,
          0.30063267268061633,
          0.30710519561877914,
          0.36354185455942867,
          0.056240233990418886,
          -0.44008231048778834,
          -0.4554481214552383,
          -0.2742906613921453,
          0.05971698205414244,
          -0.4280257203105132,
          0.06810046191994212,
          -0.24767425542967658,
          -0.3045705188906812,
          0.47001998908831233,
          -0.26015224085241384,
          0.11995571838137975,
          -0.34320860535391573,
          -0.42997785628077767,
          0.10632946165333035,
          -0.18263759067783925,
          0.07974521924579692,
          0.05094821911789682,
          0.1692328934531846,
          -0.43366516557155843,
          0.12971750702156448,
          0.25275555373881387,
          -0.23968490142145904,
          -0.30656571737667226,
          0.02467030912373369,
          -0.23670322951288902,
          0.23506596328866947,
          0.40781585250352403,
          -0.486048427024403,
          0.11677835700165762,
          0.27010567154824777,
          0.24936380985976475,
          -0.06599537151525225,
          0.06258628975198394,
          0.2557088560238722
         ],
         "xaxis": "x",
         "y": [
          0.2203244934421581,
          -0.19766742736816023,
          -0.4076614052312022,
          -0.15443927295695226,
          0.038816734003356945,
          0.1852195003967595,
          0.3781174363909454,
          0.17046751017840223,
          0.05868982844575166,
          -0.3018985109151212,
          0.4682615757193975,
          0.19232261566931408,
          0.3946066635038473,
          -0.46094521676711764,
          0.37814250342941313,
          -0.07889237499494783,
          0.03316528497301707,
          -0.18448436899393705,
          0.3346256718973729,
          0.25014431494496747,
          0.2481656543798394,
          0.2892793284514885,
          -0.052106473824094834,
          -0.2063858516263205,
          -0.3699714278817223,
          0.17883553293989096,
          -0.2344533406277738,
          -0.4466374548829196,
          -0.35327142509418985,
          0.19975836002093117,
          -0.08594401218043168,
          -0.08582073047309735,
          0.035896405915511576,
          0.014889112058308562,
          0.08655504050199292,
          -0.3625252958537625,
          0.3073912887095238,
          -0.3346458028830672,
          -0.15223414025449344,
          0.22599798535045146,
          0.12367220705560888,
          -0.15110165802215747,
          0.39588621819606684,
          0.46484004714838556,
          0.12169572020912178,
          0.44948925870707124,
          0.07838961438713177,
          -0.2629730197569723,
          0.07367948667228585,
          0.11714491362072388,
          0.027058102257609296,
          -0.14273023999750023,
          0.12336011579180273,
          0.4294372337437613,
          0.4973228504514805,
          -0.36286425037112224,
          0.19681816148990017,
          0.2554630526024664,
          0.42302453554648334,
          -0.3757290380278353,
          -0.4737890131222807,
          -0.2537889323969541,
          0.03883106434165284,
          0.3420308923596057,
          -0.2208163209888605,
          0.46959574831967454,
          -0.481352710627057,
          -0.26702572615897957,
          -0.11213935593582824,
          0.24712164273718462,
          -0.363544774339315,
          -0.37865654425926265,
          -0.3925058708939071,
          0.21298898038267666,
          -0.48744401984088415,
          0.467276330000272,
          -0.2967067653390095,
          0.24382585407509294,
          0.08135892727325778,
          0.34682880149003525,
          -0.006230285731270047,
          0.32898089955017873,
          -0.4814237978225905,
          -0.01365488906296819,
          0.06885143708648134,
          0.4886161544124489,
          -0.1198588273764496,
          0.2453344309065021,
          -0.2350804423371906,
          -0.1299158020858937,
          -0.2898259900851604,
          -0.43346351864588506,
          0.3047545637433454,
          0.13946088087994013,
          0.4248079703993507,
          -0.4340389093159762,
          0.27217802954324677,
          0.4319720691968373,
          -0.2656379138785795,
          0.44901632068761643,
          0.03399191291709386,
          0.08493972536780253,
          -0.008405599741854175,
          0.029728752905137545,
          0.2512400613801637
         ],
         "yaxis": "y"
        }
       ],
       "layout": {
        "coloraxis": {
         "cmax": 5,
         "cmin": -1,
         "colorbar": {
          "title": {
           "text": "cluster"
          }
         },
         "colorscale": [
          [
           0,
           "#30123b"
          ],
          [
           0.07142857142857142,
           "#4145ab"
          ],
          [
           0.14285714285714285,
           "#4675ed"
          ],
          [
           0.21428571428571427,
           "#39a2fc"
          ],
          [
           0.2857142857142857,
           "#1bcfd4"
          ],
          [
           0.35714285714285715,
           "#24eca6"
          ],
          [
           0.42857142857142855,
           "#61fc6c"
          ],
          [
           0.5,
           "#a4fc3b"
          ],
          [
           0.5714285714285714,
           "#d1e834"
          ],
          [
           0.6428571428571429,
           "#f3c63a"
          ],
          [
           0.7142857142857143,
           "#fe9b2d"
          ],
          [
           0.7857142857142857,
           "#f36315"
          ],
          [
           0.8571428571428571,
           "#d93806"
          ],
          [
           0.9285714285714286,
           "#b11901"
          ],
          [
           1,
           "#7a0402"
          ]
         ]
        },
        "legend": {
         "itemsizing": "constant",
         "tracegroupgap": 0
        },
        "margin": {
         "t": 60
        },
        "template": {
         "data": {
          "bar": [
           {
            "error_x": {
             "color": "#2a3f5f"
            },
            "error_y": {
             "color": "#2a3f5f"
            },
            "marker": {
             "line": {
              "color": "#E5ECF6",
              "width": 0.5
             },
             "pattern": {
              "fillmode": "overlay",
              "size": 10,
              "solidity": 0.2
             }
            },
            "type": "bar"
           }
          ],
          "barpolar": [
           {
            "marker": {
             "line": {
              "color": "#E5ECF6",
              "width": 0.5
             },
             "pattern": {
              "fillmode": "overlay",
              "size": 10,
              "solidity": 0.2
             }
            },
            "type": "barpolar"
           }
          ],
          "carpet": [
           {
            "aaxis": {
             "endlinecolor": "#2a3f5f",
             "gridcolor": "white",
             "linecolor": "white",
             "minorgridcolor": "white",
             "startlinecolor": "#2a3f5f"
            },
            "baxis": {
             "endlinecolor": "#2a3f5f",
             "gridcolor": "white",
             "linecolor": "white",
             "minorgridcolor": "white",
             "startlinecolor": "#2a3f5f"
            },
            "type": "carpet"
           }
          ],
          "choropleth": [
           {
            "colorbar": {
             "outlinewidth": 0,
             "ticks": ""
            },
            "type": "choropleth"
           }
          ],
          "contour": [
           {
            "colorbar": {
             "outlinewidth": 0,
             "ticks": ""
            },
            "colorscale": [
             [
              0,
              "#0d0887"
             ],
             [
              0.1111111111111111,
              "#46039f"
             ],
             [
              0.2222222222222222,
              "#7201a8"
             ],
             [
              0.3333333333333333,
              "#9c179e"
             ],
             [
              0.4444444444444444,
              "#bd3786"
             ],
             [
              0.5555555555555556,
              "#d8576b"
             ],
             [
              0.6666666666666666,
              "#ed7953"
             ],
             [
              0.7777777777777778,
              "#fb9f3a"
             ],
             [
              0.8888888888888888,
              "#fdca26"
             ],
             [
              1,
              "#f0f921"
             ]
            ],
            "type": "contour"
           }
          ],
          "contourcarpet": [
           {
            "colorbar": {
             "outlinewidth": 0,
             "ticks": ""
            },
            "type": "contourcarpet"
           }
          ],
          "heatmap": [
           {
            "colorbar": {
             "outlinewidth": 0,
             "ticks": ""
            },
            "colorscale": [
             [
              0,
              "#0d0887"
             ],
             [
              0.1111111111111111,
              "#46039f"
             ],
             [
              0.2222222222222222,
              "#7201a8"
             ],
             [
              0.3333333333333333,
              "#9c179e"
             ],
             [
              0.4444444444444444,
              "#bd3786"
             ],
             [
              0.5555555555555556,
              "#d8576b"
             ],
             [
              0.6666666666666666,
              "#ed7953"
             ],
             [
              0.7777777777777778,
              "#fb9f3a"
             ],
             [
              0.8888888888888888,
              "#fdca26"
             ],
             [
              1,
              "#f0f921"
             ]
            ],
            "type": "heatmap"
           }
          ],
          "heatmapgl": [
           {
            "colorbar": {
             "outlinewidth": 0,
             "ticks": ""
            },
            "colorscale": [
             [
              0,
              "#0d0887"
             ],
             [
              0.1111111111111111,
              "#46039f"
             ],
             [
              0.2222222222222222,
              "#7201a8"
             ],
             [
              0.3333333333333333,
              "#9c179e"
             ],
             [
              0.4444444444444444,
              "#bd3786"
             ],
             [
              0.5555555555555556,
              "#d8576b"
             ],
             [
              0.6666666666666666,
              "#ed7953"
             ],
             [
              0.7777777777777778,
              "#fb9f3a"
             ],
             [
              0.8888888888888888,
              "#fdca26"
             ],
             [
              1,
              "#f0f921"
             ]
            ],
            "type": "heatmapgl"
           }
          ],
          "histogram": [
           {
            "marker": {
             "pattern": {
              "fillmode": "overlay",
              "size": 10,
              "solidity": 0.2
             }
            },
            "type": "histogram"
           }
          ],
          "histogram2d": [
           {
            "colorbar": {
             "outlinewidth": 0,
             "ticks": ""
            },
            "colorscale": [
             [
              0,
              "#0d0887"
             ],
             [
              0.1111111111111111,
              "#46039f"
             ],
             [
              0.2222222222222222,
              "#7201a8"
             ],
             [
              0.3333333333333333,
              "#9c179e"
             ],
             [
              0.4444444444444444,
              "#bd3786"
             ],
             [
              0.5555555555555556,
              "#d8576b"
             ],
             [
              0.6666666666666666,
              "#ed7953"
             ],
             [
              0.7777777777777778,
              "#fb9f3a"
             ],
             [
              0.8888888888888888,
              "#fdca26"
             ],
             [
              1,
              "#f0f921"
             ]
            ],
            "type": "histogram2d"
           }
          ],
          "histogram2dcontour": [
           {
            "colorbar": {
             "outlinewidth": 0,
             "ticks": ""
            },
            "colorscale": [
             [
              0,
              "#0d0887"
             ],
             [
              0.1111111111111111,
              "#46039f"
             ],
             [
              0.2222222222222222,
              "#7201a8"
             ],
             [
              0.3333333333333333,
              "#9c179e"
             ],
             [
              0.4444444444444444,
              "#bd3786"
             ],
             [
              0.5555555555555556,
              "#d8576b"
             ],
             [
              0.6666666666666666,
              "#ed7953"
             ],
             [
              0.7777777777777778,
              "#fb9f3a"
             ],
             [
              0.8888888888888888,
              "#fdca26"
             ],
             [
              1,
              "#f0f921"
             ]
            ],
            "type": "histogram2dcontour"
           }
          ],
          "mesh3d": [
           {
            "colorbar": {
             "outlinewidth": 0,
             "ticks": ""
            },
            "type": "mesh3d"
           }
          ],
          "parcoords": [
           {
            "line": {
             "colorbar": {
              "outlinewidth": 0,
              "ticks": ""
             }
            },
            "type": "parcoords"
           }
          ],
          "pie": [
           {
            "automargin": true,
            "type": "pie"
           }
          ],
          "scatter": [
           {
            "fillpattern": {
             "fillmode": "overlay",
             "size": 10,
             "solidity": 0.2
            },
            "type": "scatter"
           }
          ],
          "scatter3d": [
           {
            "line": {
             "colorbar": {
              "outlinewidth": 0,
              "ticks": ""
             }
            },
            "marker": {
             "colorbar": {
              "outlinewidth": 0,
              "ticks": ""
             }
            },
            "type": "scatter3d"
           }
          ],
          "scattercarpet": [
           {
            "marker": {
             "colorbar": {
              "outlinewidth": 0,
              "ticks": ""
             }
            },
            "type": "scattercarpet"
           }
          ],
          "scattergeo": [
           {
            "marker": {
             "colorbar": {
              "outlinewidth": 0,
              "ticks": ""
             }
            },
            "type": "scattergeo"
           }
          ],
          "scattergl": [
           {
            "marker": {
             "colorbar": {
              "outlinewidth": 0,
              "ticks": ""
             }
            },
            "type": "scattergl"
           }
          ],
          "scattermapbox": [
           {
            "marker": {
             "colorbar": {
              "outlinewidth": 0,
              "ticks": ""
             }
            },
            "type": "scattermapbox"
           }
          ],
          "scatterpolar": [
           {
            "marker": {
             "colorbar": {
              "outlinewidth": 0,
              "ticks": ""
             }
            },
            "type": "scatterpolar"
           }
          ],
          "scatterpolargl": [
           {
            "marker": {
             "colorbar": {
              "outlinewidth": 0,
              "ticks": ""
             }
            },
            "type": "scatterpolargl"
           }
          ],
          "scatterternary": [
           {
            "marker": {
             "colorbar": {
              "outlinewidth": 0,
              "ticks": ""
             }
            },
            "type": "scatterternary"
           }
          ],
          "surface": [
           {
            "colorbar": {
             "outlinewidth": 0,
             "ticks": ""
            },
            "colorscale": [
             [
              0,
              "#0d0887"
             ],
             [
              0.1111111111111111,
              "#46039f"
             ],
             [
              0.2222222222222222,
              "#7201a8"
             ],
             [
              0.3333333333333333,
              "#9c179e"
             ],
             [
              0.4444444444444444,
              "#bd3786"
             ],
             [
              0.5555555555555556,
              "#d8576b"
             ],
             [
              0.6666666666666666,
              "#ed7953"
             ],
             [
              0.7777777777777778,
              "#fb9f3a"
             ],
             [
              0.8888888888888888,
              "#fdca26"
             ],
             [
              1,
              "#f0f921"
             ]
            ],
            "type": "surface"
           }
          ],
          "table": [
           {
            "cells": {
             "fill": {
              "color": "#EBF0F8"
             },
             "line": {
              "color": "white"
             }
            },
            "header": {
             "fill": {
              "color": "#C8D4E3"
             },
             "line": {
              "color": "white"
             }
            },
            "type": "table"
           }
          ]
         },
         "layout": {
          "annotationdefaults": {
           "arrowcolor": "#2a3f5f",
           "arrowhead": 0,
           "arrowwidth": 1
          },
          "autotypenumbers": "strict",
          "coloraxis": {
           "colorbar": {
            "outlinewidth": 0,
            "ticks": ""
           }
          },
          "colorscale": {
           "diverging": [
            [
             0,
             "#8e0152"
            ],
            [
             0.1,
             "#c51b7d"
            ],
            [
             0.2,
             "#de77ae"
            ],
            [
             0.3,
             "#f1b6da"
            ],
            [
             0.4,
             "#fde0ef"
            ],
            [
             0.5,
             "#f7f7f7"
            ],
            [
             0.6,
             "#e6f5d0"
            ],
            [
             0.7,
             "#b8e186"
            ],
            [
             0.8,
             "#7fbc41"
            ],
            [
             0.9,
             "#4d9221"
            ],
            [
             1,
             "#276419"
            ]
           ],
           "sequential": [
            [
             0,
             "#0d0887"
            ],
            [
             0.1111111111111111,
             "#46039f"
            ],
            [
             0.2222222222222222,
             "#7201a8"
            ],
            [
             0.3333333333333333,
             "#9c179e"
            ],
            [
             0.4444444444444444,
             "#bd3786"
            ],
            [
             0.5555555555555556,
             "#d8576b"
            ],
            [
             0.6666666666666666,
             "#ed7953"
            ],
            [
             0.7777777777777778,
             "#fb9f3a"
            ],
            [
             0.8888888888888888,
             "#fdca26"
            ],
            [
             1,
             "#f0f921"
            ]
           ],
           "sequentialminus": [
            [
             0,
             "#0d0887"
            ],
            [
             0.1111111111111111,
             "#46039f"
            ],
            [
             0.2222222222222222,
             "#7201a8"
            ],
            [
             0.3333333333333333,
             "#9c179e"
            ],
            [
             0.4444444444444444,
             "#bd3786"
            ],
            [
             0.5555555555555556,
             "#d8576b"
            ],
            [
             0.6666666666666666,
             "#ed7953"
            ],
            [
             0.7777777777777778,
             "#fb9f3a"
            ],
            [
             0.8888888888888888,
             "#fdca26"
            ],
            [
             1,
             "#f0f921"
            ]
           ]
          },
          "colorway": [
           "#636efa",
           "#EF553B",
           "#00cc96",
           "#ab63fa",
           "#FFA15A",
           "#19d3f3",
           "#FF6692",
           "#B6E880",
           "#FF97FF",
           "#FECB52"
          ],
          "font": {
           "color": "#2a3f5f"
          },
          "geo": {
           "bgcolor": "white",
           "lakecolor": "white",
           "landcolor": "#E5ECF6",
           "showlakes": true,
           "showland": true,
           "subunitcolor": "white"
          },
          "hoverlabel": {
           "align": "left"
          },
          "hovermode": "closest",
          "mapbox": {
           "style": "light"
          },
          "paper_bgcolor": "white",
          "plot_bgcolor": "#E5ECF6",
          "polar": {
           "angularaxis": {
            "gridcolor": "white",
            "linecolor": "white",
            "ticks": ""
           },
           "bgcolor": "#E5ECF6",
           "radialaxis": {
            "gridcolor": "white",
            "linecolor": "white",
            "ticks": ""
           }
          },
          "scene": {
           "xaxis": {
            "backgroundcolor": "#E5ECF6",
            "gridcolor": "white",
            "gridwidth": 2,
            "linecolor": "white",
            "showbackground": true,
            "ticks": "",
            "zerolinecolor": "white"
           },
           "yaxis": {
            "backgroundcolor": "#E5ECF6",
            "gridcolor": "white",
            "gridwidth": 2,
            "linecolor": "white",
            "showbackground": true,
            "ticks": "",
            "zerolinecolor": "white"
           },
           "zaxis": {
            "backgroundcolor": "#E5ECF6",
            "gridcolor": "white",
            "gridwidth": 2,
            "linecolor": "white",
            "showbackground": true,
            "ticks": "",
            "zerolinecolor": "white"
           }
          },
          "shapedefaults": {
           "line": {
            "color": "#2a3f5f"
           }
          },
          "ternary": {
           "aaxis": {
            "gridcolor": "white",
            "linecolor": "white",
            "ticks": ""
           },
           "baxis": {
            "gridcolor": "white",
            "linecolor": "white",
            "ticks": ""
           },
           "bgcolor": "#E5ECF6",
           "caxis": {
            "gridcolor": "white",
            "linecolor": "white",
            "ticks": ""
           }
          },
          "title": {
           "x": 0.05
          },
          "xaxis": {
           "automargin": true,
           "gridcolor": "white",
           "linecolor": "white",
           "ticks": "",
           "title": {
            "standoff": 15
           },
           "zerolinecolor": "white",
           "zerolinewidth": 2
          },
          "yaxis": {
           "automargin": true,
           "gridcolor": "white",
           "linecolor": "white",
           "ticks": "",
           "title": {
            "standoff": 15
           },
           "zerolinecolor": "white",
           "zerolinewidth": 2
          }
         }
        },
        "width": 550,
        "xaxis": {
         "anchor": "y",
         "domain": [
          0,
          1
         ],
         "title": {
          "text": "x"
         }
        },
        "yaxis": {
         "anchor": "x",
         "domain": [
          0,
          1
         ],
         "title": {
          "text": "y"
         }
        }
       }
      },
      "text/html": [
       "<div>                            <div id=\"6c9ee5cb-89e4-46ca-a7b4-1d63a8bcf22d\" class=\"plotly-graph-div\" style=\"height:525px; width:550px;\"></div>            <script type=\"text/javascript\">                require([\"plotly\"], function(Plotly) {                    window.PLOTLYENV=window.PLOTLYENV || {};                                    if (document.getElementById(\"6c9ee5cb-89e4-46ca-a7b4-1d63a8bcf22d\")) {                    Plotly.newPlot(                        \"6c9ee5cb-89e4-46ca-a7b4-1d63a8bcf22d\",                        [{\"hovertemplate\":\"x=%{x}<br>y=%{y}<br>sizes=%{marker.size}<br>cluster=%{marker.color}<extra></extra>\",\"legendgroup\":\"\",\"marker\":{\"color\":[2.0,2.0,2.0,2.0,2.0,2.0,2.0,2.0,2.0,2.0,4.0,2.0,4.0,2.0,2.0,2.0,0.0,0.0,4.0,2.0,4.0,2.0,2.0,0.0,2.0,2.0,2.0,2.0,2.0,3.0,2.0,0.0,2.0,3.0,0.0,0.0,2.0,2.0,0.0,4.0,1.0,0.0,2.0,4.0,1.0,2.0,2.0,2.0,0.0,2.0,2.0,0.0,1.0,2.0,4.0,2.0,4.0,2.0,4.0,0.0,2.0,2.0,0.0,4.0,2.0,4.0,2.0,0.0,0.0,4.0,2.0,2.0,2.0,2.0,2.0,2.0,2.0,2.0,2.0,4.0,2.0,4.0,2.0,2.0,3.0,4.0,3.0,4.0,3.0,2.0,3.0,0.0,2.0,2.0,4.0,2.0,4.0,4.0,2.0,4.0,0.0,1.0,2.0,3.0,4.0],\"coloraxis\":\"coloraxis\",\"size\":[1.0,1.0,1.0,1.0,1.0,1.0,1.0,1.0,1.0,1.0,1.0,1.0,1.0,1.0,1.0,1.0,1.0,1.0,1.0,1.0,1.0,1.0,1.0,1.0,1.0,1.0,1.0,1.0,1.0,1.0,1.0,1.0,1.0,1.0,1.0,1.0,1.0,1.0,1.0,1.0,1.0,1.0,1.0,1.0,1.0,1.0,1.0,1.0,1.0,1.0,1.0,1.0,1.0,1.0,1.0,1.0,1.0,1.0,1.0,1.0,1.0,1.0,1.0,1.0,1.0,1.0,1.0,1.0,1.0,1.0,1.0,1.0,1.0,1.0,1.0,1.0,1.0,1.0,1.0,1.0,1.0,1.0,1.0,1.0,1.0,1.0,1.0,1.0,1.0,1.0,1.0,1.0,1.0,1.0,1.0,1.0,1.0,1.0,1.0,1.0,4.0,4.0,4.0,4.0,4.0],\"sizemode\":\"area\",\"sizeref\":0.01,\"symbol\":\"circle\"},\"mode\":\"markers\",\"name\":\"\",\"orientation\":\"v\",\"showlegend\":false,\"x\":[-0.082977995297426,-0.4998856251826551,-0.35324410918288696,-0.3137397886223291,-0.10323252576933006,-0.0808054855967052,-0.29554775026848257,-0.47261240680207384,-0.08269519763287303,-0.35961306140476623,0.30074456867553667,-0.18657582184075716,0.3763891522960383,-0.4149557886302221,-0.3301695804354311,-0.4016531661669499,0.45788953015050193,0.19187711395047335,0.18650092768158366,-0.4817117226558082,0.4888610889064947,-0.21955600793559482,-0.396773993422358,0.40859550309309556,-0.21222466141365126,-0.4806330421297029,-0.28837188399994096,-0.00842684071966171,0.07411760549201307,0.08930553690328424,-0.39766557117217416,0.1944001577277451,-0.45004654105391284,0.16379464521978881,0.44459475599081333,0.4034019152878835,-0.36072365274924145,-0.10232316301446642,0.4275085803960339,0.25081210313615554,0.38330609120580983,0.2509424340273372,-0.23007210823497393,-0.07190881012870509,0.16344149781844808,-0.3852540270466248,-0.050087866520059476,-0.09186319723871883,0.4033795205622538,-0.49712967296884103,-0.17335509822790385,0.3859420993107745,0.4085351509197992,-0.4841787571534437,0.19089691751692395,-0.32765949165467145,0.43259546303716356,-0.4339998272779375,0.2538761884612464,0.21152475862847175,-0.4801198661602044,-0.4716935119792054,0.360027948682888,0.05282197868576588,-0.37582668488008886,0.08575927145828788,0.06103021925570995,0.30063267268061633,0.30710519561877914,0.36354185455942867,0.056240233990418886,-0.44008231048778834,-0.4554481214552383,-0.2742906613921453,0.05971698205414244,-0.4280257203105132,0.06810046191994212,-0.24767425542967658,-0.3045705188906812,0.47001998908831233,-0.26015224085241384,0.11995571838137975,-0.34320860535391573,-0.42997785628077767,0.10632946165333035,-0.18263759067783925,0.07974521924579692,0.05094821911789682,0.1692328934531846,-0.43366516557155843,0.12971750702156448,0.25275555373881387,-0.23968490142145904,-0.30656571737667226,0.02467030912373369,-0.23670322951288902,0.23506596328866947,0.40781585250352403,-0.486048427024403,0.11677835700165762,0.27010567154824777,0.24936380985976475,-0.06599537151525225,0.06258628975198394,0.2557088560238722],\"xaxis\":\"x\",\"y\":[0.2203244934421581,-0.19766742736816023,-0.4076614052312022,-0.15443927295695226,0.038816734003356945,0.1852195003967595,0.3781174363909454,0.17046751017840223,0.05868982844575166,-0.3018985109151212,0.4682615757193975,0.19232261566931408,0.3946066635038473,-0.46094521676711764,0.37814250342941313,-0.07889237499494783,0.03316528497301707,-0.18448436899393705,0.3346256718973729,0.25014431494496747,0.2481656543798394,0.2892793284514885,-0.052106473824094834,-0.2063858516263205,-0.3699714278817223,0.17883553293989096,-0.2344533406277738,-0.4466374548829196,-0.35327142509418985,0.19975836002093117,-0.08594401218043168,-0.08582073047309735,0.035896405915511576,0.014889112058308562,0.08655504050199292,-0.3625252958537625,0.3073912887095238,-0.3346458028830672,-0.15223414025449344,0.22599798535045146,0.12367220705560888,-0.15110165802215747,0.39588621819606684,0.46484004714838556,0.12169572020912178,0.44948925870707124,0.07838961438713177,-0.2629730197569723,0.07367948667228585,0.11714491362072388,0.027058102257609296,-0.14273023999750023,0.12336011579180273,0.4294372337437613,0.4973228504514805,-0.36286425037112224,0.19681816148990017,0.2554630526024664,0.42302453554648334,-0.3757290380278353,-0.4737890131222807,-0.2537889323969541,0.03883106434165284,0.3420308923596057,-0.2208163209888605,0.46959574831967454,-0.481352710627057,-0.26702572615897957,-0.11213935593582824,0.24712164273718462,-0.363544774339315,-0.37865654425926265,-0.3925058708939071,0.21298898038267666,-0.48744401984088415,0.467276330000272,-0.2967067653390095,0.24382585407509294,0.08135892727325778,0.34682880149003525,-0.006230285731270047,0.32898089955017873,-0.4814237978225905,-0.01365488906296819,0.06885143708648134,0.4886161544124489,-0.1198588273764496,0.2453344309065021,-0.2350804423371906,-0.1299158020858937,-0.2898259900851604,-0.43346351864588506,0.3047545637433454,0.13946088087994013,0.4248079703993507,-0.4340389093159762,0.27217802954324677,0.4319720691968373,-0.2656379138785795,0.44901632068761643,0.03399191291709386,0.08493972536780253,-0.008405599741854175,0.029728752905137545,0.2512400613801637],\"yaxis\":\"y\",\"type\":\"scatter\"}],                        {\"template\":{\"data\":{\"histogram2dcontour\":[{\"type\":\"histogram2dcontour\",\"colorbar\":{\"outlinewidth\":0,\"ticks\":\"\"},\"colorscale\":[[0.0,\"#0d0887\"],[0.1111111111111111,\"#46039f\"],[0.2222222222222222,\"#7201a8\"],[0.3333333333333333,\"#9c179e\"],[0.4444444444444444,\"#bd3786\"],[0.5555555555555556,\"#d8576b\"],[0.6666666666666666,\"#ed7953\"],[0.7777777777777778,\"#fb9f3a\"],[0.8888888888888888,\"#fdca26\"],[1.0,\"#f0f921\"]]}],\"choropleth\":[{\"type\":\"choropleth\",\"colorbar\":{\"outlinewidth\":0,\"ticks\":\"\"}}],\"histogram2d\":[{\"type\":\"histogram2d\",\"colorbar\":{\"outlinewidth\":0,\"ticks\":\"\"},\"colorscale\":[[0.0,\"#0d0887\"],[0.1111111111111111,\"#46039f\"],[0.2222222222222222,\"#7201a8\"],[0.3333333333333333,\"#9c179e\"],[0.4444444444444444,\"#bd3786\"],[0.5555555555555556,\"#d8576b\"],[0.6666666666666666,\"#ed7953\"],[0.7777777777777778,\"#fb9f3a\"],[0.8888888888888888,\"#fdca26\"],[1.0,\"#f0f921\"]]}],\"heatmap\":[{\"type\":\"heatmap\",\"colorbar\":{\"outlinewidth\":0,\"ticks\":\"\"},\"colorscale\":[[0.0,\"#0d0887\"],[0.1111111111111111,\"#46039f\"],[0.2222222222222222,\"#7201a8\"],[0.3333333333333333,\"#9c179e\"],[0.4444444444444444,\"#bd3786\"],[0.5555555555555556,\"#d8576b\"],[0.6666666666666666,\"#ed7953\"],[0.7777777777777778,\"#fb9f3a\"],[0.8888888888888888,\"#fdca26\"],[1.0,\"#f0f921\"]]}],\"heatmapgl\":[{\"type\":\"heatmapgl\",\"colorbar\":{\"outlinewidth\":0,\"ticks\":\"\"},\"colorscale\":[[0.0,\"#0d0887\"],[0.1111111111111111,\"#46039f\"],[0.2222222222222222,\"#7201a8\"],[0.3333333333333333,\"#9c179e\"],[0.4444444444444444,\"#bd3786\"],[0.5555555555555556,\"#d8576b\"],[0.6666666666666666,\"#ed7953\"],[0.7777777777777778,\"#fb9f3a\"],[0.8888888888888888,\"#fdca26\"],[1.0,\"#f0f921\"]]}],\"contourcarpet\":[{\"type\":\"contourcarpet\",\"colorbar\":{\"outlinewidth\":0,\"ticks\":\"\"}}],\"contour\":[{\"type\":\"contour\",\"colorbar\":{\"outlinewidth\":0,\"ticks\":\"\"},\"colorscale\":[[0.0,\"#0d0887\"],[0.1111111111111111,\"#46039f\"],[0.2222222222222222,\"#7201a8\"],[0.3333333333333333,\"#9c179e\"],[0.4444444444444444,\"#bd3786\"],[0.5555555555555556,\"#d8576b\"],[0.6666666666666666,\"#ed7953\"],[0.7777777777777778,\"#fb9f3a\"],[0.8888888888888888,\"#fdca26\"],[1.0,\"#f0f921\"]]}],\"surface\":[{\"type\":\"surface\",\"colorbar\":{\"outlinewidth\":0,\"ticks\":\"\"},\"colorscale\":[[0.0,\"#0d0887\"],[0.1111111111111111,\"#46039f\"],[0.2222222222222222,\"#7201a8\"],[0.3333333333333333,\"#9c179e\"],[0.4444444444444444,\"#bd3786\"],[0.5555555555555556,\"#d8576b\"],[0.6666666666666666,\"#ed7953\"],[0.7777777777777778,\"#fb9f3a\"],[0.8888888888888888,\"#fdca26\"],[1.0,\"#f0f921\"]]}],\"mesh3d\":[{\"type\":\"mesh3d\",\"colorbar\":{\"outlinewidth\":0,\"ticks\":\"\"}}],\"scatter\":[{\"fillpattern\":{\"fillmode\":\"overlay\",\"size\":10,\"solidity\":0.2},\"type\":\"scatter\"}],\"parcoords\":[{\"type\":\"parcoords\",\"line\":{\"colorbar\":{\"outlinewidth\":0,\"ticks\":\"\"}}}],\"scatterpolargl\":[{\"type\":\"scatterpolargl\",\"marker\":{\"colorbar\":{\"outlinewidth\":0,\"ticks\":\"\"}}}],\"bar\":[{\"error_x\":{\"color\":\"#2a3f5f\"},\"error_y\":{\"color\":\"#2a3f5f\"},\"marker\":{\"line\":{\"color\":\"#E5ECF6\",\"width\":0.5},\"pattern\":{\"fillmode\":\"overlay\",\"size\":10,\"solidity\":0.2}},\"type\":\"bar\"}],\"scattergeo\":[{\"type\":\"scattergeo\",\"marker\":{\"colorbar\":{\"outlinewidth\":0,\"ticks\":\"\"}}}],\"scatterpolar\":[{\"type\":\"scatterpolar\",\"marker\":{\"colorbar\":{\"outlinewidth\":0,\"ticks\":\"\"}}}],\"histogram\":[{\"marker\":{\"pattern\":{\"fillmode\":\"overlay\",\"size\":10,\"solidity\":0.2}},\"type\":\"histogram\"}],\"scattergl\":[{\"type\":\"scattergl\",\"marker\":{\"colorbar\":{\"outlinewidth\":0,\"ticks\":\"\"}}}],\"scatter3d\":[{\"type\":\"scatter3d\",\"line\":{\"colorbar\":{\"outlinewidth\":0,\"ticks\":\"\"}},\"marker\":{\"colorbar\":{\"outlinewidth\":0,\"ticks\":\"\"}}}],\"scattermapbox\":[{\"type\":\"scattermapbox\",\"marker\":{\"colorbar\":{\"outlinewidth\":0,\"ticks\":\"\"}}}],\"scatterternary\":[{\"type\":\"scatterternary\",\"marker\":{\"colorbar\":{\"outlinewidth\":0,\"ticks\":\"\"}}}],\"scattercarpet\":[{\"type\":\"scattercarpet\",\"marker\":{\"colorbar\":{\"outlinewidth\":0,\"ticks\":\"\"}}}],\"carpet\":[{\"aaxis\":{\"endlinecolor\":\"#2a3f5f\",\"gridcolor\":\"white\",\"linecolor\":\"white\",\"minorgridcolor\":\"white\",\"startlinecolor\":\"#2a3f5f\"},\"baxis\":{\"endlinecolor\":\"#2a3f5f\",\"gridcolor\":\"white\",\"linecolor\":\"white\",\"minorgridcolor\":\"white\",\"startlinecolor\":\"#2a3f5f\"},\"type\":\"carpet\"}],\"table\":[{\"cells\":{\"fill\":{\"color\":\"#EBF0F8\"},\"line\":{\"color\":\"white\"}},\"header\":{\"fill\":{\"color\":\"#C8D4E3\"},\"line\":{\"color\":\"white\"}},\"type\":\"table\"}],\"barpolar\":[{\"marker\":{\"line\":{\"color\":\"#E5ECF6\",\"width\":0.5},\"pattern\":{\"fillmode\":\"overlay\",\"size\":10,\"solidity\":0.2}},\"type\":\"barpolar\"}],\"pie\":[{\"automargin\":true,\"type\":\"pie\"}]},\"layout\":{\"autotypenumbers\":\"strict\",\"colorway\":[\"#636efa\",\"#EF553B\",\"#00cc96\",\"#ab63fa\",\"#FFA15A\",\"#19d3f3\",\"#FF6692\",\"#B6E880\",\"#FF97FF\",\"#FECB52\"],\"font\":{\"color\":\"#2a3f5f\"},\"hovermode\":\"closest\",\"hoverlabel\":{\"align\":\"left\"},\"paper_bgcolor\":\"white\",\"plot_bgcolor\":\"#E5ECF6\",\"polar\":{\"bgcolor\":\"#E5ECF6\",\"angularaxis\":{\"gridcolor\":\"white\",\"linecolor\":\"white\",\"ticks\":\"\"},\"radialaxis\":{\"gridcolor\":\"white\",\"linecolor\":\"white\",\"ticks\":\"\"}},\"ternary\":{\"bgcolor\":\"#E5ECF6\",\"aaxis\":{\"gridcolor\":\"white\",\"linecolor\":\"white\",\"ticks\":\"\"},\"baxis\":{\"gridcolor\":\"white\",\"linecolor\":\"white\",\"ticks\":\"\"},\"caxis\":{\"gridcolor\":\"white\",\"linecolor\":\"white\",\"ticks\":\"\"}},\"coloraxis\":{\"colorbar\":{\"outlinewidth\":0,\"ticks\":\"\"}},\"colorscale\":{\"sequential\":[[0.0,\"#0d0887\"],[0.1111111111111111,\"#46039f\"],[0.2222222222222222,\"#7201a8\"],[0.3333333333333333,\"#9c179e\"],[0.4444444444444444,\"#bd3786\"],[0.5555555555555556,\"#d8576b\"],[0.6666666666666666,\"#ed7953\"],[0.7777777777777778,\"#fb9f3a\"],[0.8888888888888888,\"#fdca26\"],[1.0,\"#f0f921\"]],\"sequentialminus\":[[0.0,\"#0d0887\"],[0.1111111111111111,\"#46039f\"],[0.2222222222222222,\"#7201a8\"],[0.3333333333333333,\"#9c179e\"],[0.4444444444444444,\"#bd3786\"],[0.5555555555555556,\"#d8576b\"],[0.6666666666666666,\"#ed7953\"],[0.7777777777777778,\"#fb9f3a\"],[0.8888888888888888,\"#fdca26\"],[1.0,\"#f0f921\"]],\"diverging\":[[0,\"#8e0152\"],[0.1,\"#c51b7d\"],[0.2,\"#de77ae\"],[0.3,\"#f1b6da\"],[0.4,\"#fde0ef\"],[0.5,\"#f7f7f7\"],[0.6,\"#e6f5d0\"],[0.7,\"#b8e186\"],[0.8,\"#7fbc41\"],[0.9,\"#4d9221\"],[1,\"#276419\"]]},\"xaxis\":{\"gridcolor\":\"white\",\"linecolor\":\"white\",\"ticks\":\"\",\"title\":{\"standoff\":15},\"zerolinecolor\":\"white\",\"automargin\":true,\"zerolinewidth\":2},\"yaxis\":{\"gridcolor\":\"white\",\"linecolor\":\"white\",\"ticks\":\"\",\"title\":{\"standoff\":15},\"zerolinecolor\":\"white\",\"automargin\":true,\"zerolinewidth\":2},\"scene\":{\"xaxis\":{\"backgroundcolor\":\"#E5ECF6\",\"gridcolor\":\"white\",\"linecolor\":\"white\",\"showbackground\":true,\"ticks\":\"\",\"zerolinecolor\":\"white\",\"gridwidth\":2},\"yaxis\":{\"backgroundcolor\":\"#E5ECF6\",\"gridcolor\":\"white\",\"linecolor\":\"white\",\"showbackground\":true,\"ticks\":\"\",\"zerolinecolor\":\"white\",\"gridwidth\":2},\"zaxis\":{\"backgroundcolor\":\"#E5ECF6\",\"gridcolor\":\"white\",\"linecolor\":\"white\",\"showbackground\":true,\"ticks\":\"\",\"zerolinecolor\":\"white\",\"gridwidth\":2}},\"shapedefaults\":{\"line\":{\"color\":\"#2a3f5f\"}},\"annotationdefaults\":{\"arrowcolor\":\"#2a3f5f\",\"arrowhead\":0,\"arrowwidth\":1},\"geo\":{\"bgcolor\":\"white\",\"landcolor\":\"#E5ECF6\",\"subunitcolor\":\"white\",\"showland\":true,\"showlakes\":true,\"lakecolor\":\"white\"},\"title\":{\"x\":0.05},\"mapbox\":{\"style\":\"light\"}}},\"xaxis\":{\"anchor\":\"y\",\"domain\":[0.0,1.0],\"title\":{\"text\":\"x\"}},\"yaxis\":{\"anchor\":\"x\",\"domain\":[0.0,1.0],\"title\":{\"text\":\"y\"}},\"coloraxis\":{\"colorbar\":{\"title\":{\"text\":\"cluster\"}},\"colorscale\":[[0.0,\"#30123b\"],[0.07142857142857142,\"#4145ab\"],[0.14285714285714285,\"#4675ed\"],[0.21428571428571427,\"#39a2fc\"],[0.2857142857142857,\"#1bcfd4\"],[0.35714285714285715,\"#24eca6\"],[0.42857142857142855,\"#61fc6c\"],[0.5,\"#a4fc3b\"],[0.5714285714285714,\"#d1e834\"],[0.6428571428571429,\"#f3c63a\"],[0.7142857142857143,\"#fe9b2d\"],[0.7857142857142857,\"#f36315\"],[0.8571428571428571,\"#d93806\"],[0.9285714285714286,\"#b11901\"],[1.0,\"#7a0402\"]],\"cmin\":-1,\"cmax\":5},\"legend\":{\"tracegroupgap\":0,\"itemsizing\":\"constant\"},\"margin\":{\"t\":60},\"width\":550},                        {\"responsive\": true}                    ).then(function(){\n",
       "                            \n",
       "var gd = document.getElementById('6c9ee5cb-89e4-46ca-a7b4-1d63a8bcf22d');\n",
       "var x = new MutationObserver(function (mutations, observer) {{\n",
       "        var display = window.getComputedStyle(gd).display;\n",
       "        if (!display || display === 'none') {{\n",
       "            console.log([gd, 'removed!']);\n",
       "            Plotly.purge(gd);\n",
       "            observer.disconnect();\n",
       "        }}\n",
       "}});\n",
       "\n",
       "// Listen for the removal of the full notebook cells\n",
       "var notebookContainer = gd.closest('#notebook-container');\n",
       "if (notebookContainer) {{\n",
       "    x.observe(notebookContainer, {childList: true});\n",
       "}}\n",
       "\n",
       "// Listen for the clearing of the current output cell\n",
       "var outputEl = gd.closest('.output');\n",
       "if (outputEl) {{\n",
       "    x.observe(outputEl, {childList: true});\n",
       "}}\n",
       "\n",
       "                        })                };                });            </script>        </div>"
      ]
     },
     "metadata": {},
     "output_type": "display_data"
    }
   ],
   "source": [
    "#| code-fold: true\n",
    "#| code-summary: \"Show the code\"\n",
    "#| label: fig-kmeans-first\n",
    "#| fig-cap: \"First step in k-means: Assign 'membership' of datapoints to different clusters based on which centroids (large dots) are nearest. Note that the 'centroids' in this graph aren't true centroids yet. We'll fix them in the next step after this.\"\n",
    "\n",
    "def distance(p1, p2):\n",
    "    \"euclidean distance squared. we don't need the square root b/c we're only interested in ordering by distance\"\n",
    "    return np.sum((p1-p2)**2, axis=1)\n",
    "\n",
    "def calc_cluster_membership(data, centroids):\n",
    "    min_ds = 9999*np.ones(npoints)\n",
    "    cluster_memb = np.zeros(npoints, dtype=int)-1\n",
    "    for i, c in enumerate(centroids): # compute distances for all points\n",
    "        ds = distance(data, c)\n",
    "        inds = np.argwhere(ds < min_ds)\n",
    "        if inds.size > 0: \n",
    "            min_ds[inds] = ds[inds]\n",
    "            cluster_memb[inds] = i\n",
    "    assert len(cluster_memb)==npoints # we're not including the centroids themselves here\n",
    "    return cluster_memb\n",
    "\n",
    "cluster_memb = calc_cluster_membership(datak, centroids)\n",
    "plot_kmeans(datak, centroids, cluster_memb=cluster_memb)"
   ]
  },
  {
   "cell_type": "markdown",
   "id": "89fa0c7f",
   "metadata": {},
   "source": [
    "The next step is to recalculate the centroid locations using the points that were assigned to each centroid. And these centroids are just the mean value of the points. "
   ]
  },
  {
   "cell_type": "code",
   "execution_count": null,
   "id": "eeaff8e2",
   "metadata": {},
   "outputs": [
    {
     "data": {
      "application/vnd.plotly.v1+json": {
       "config": {
        "plotlyServerURL": "https://plot.ly"
       },
       "data": [
        {
         "hovertemplate": "x=%{x}<br>y=%{y}<br>sizes=%{marker.size}<br>cluster=%{marker.color}<extra></extra>",
         "legendgroup": "",
         "marker": {
          "color": [
           2,
           2,
           2,
           2,
           2,
           2,
           2,
           2,
           2,
           2,
           4,
           2,
           4,
           2,
           2,
           2,
           0,
           0,
           4,
           2,
           4,
           2,
           2,
           0,
           2,
           2,
           2,
           2,
           2,
           3,
           2,
           0,
           2,
           3,
           0,
           0,
           2,
           2,
           0,
           4,
           1,
           0,
           2,
           4,
           1,
           2,
           2,
           2,
           0,
           2,
           2,
           0,
           1,
           2,
           4,
           2,
           4,
           2,
           4,
           0,
           2,
           2,
           0,
           4,
           2,
           4,
           2,
           0,
           0,
           4,
           2,
           2,
           2,
           2,
           2,
           2,
           2,
           2,
           2,
           4,
           2,
           4,
           2,
           2,
           3,
           4,
           3,
           4,
           3,
           2,
           3,
           0,
           2,
           2,
           4,
           2,
           4,
           4,
           2,
           4,
           0,
           1,
           2,
           3,
           4
          ],
          "coloraxis": "coloraxis",
          "size": [
           1,
           1,
           1,
           1,
           1,
           1,
           1,
           1,
           1,
           1,
           1,
           1,
           1,
           1,
           1,
           1,
           1,
           1,
           1,
           1,
           1,
           1,
           1,
           1,
           1,
           1,
           1,
           1,
           1,
           1,
           1,
           1,
           1,
           1,
           1,
           1,
           1,
           1,
           1,
           1,
           1,
           1,
           1,
           1,
           1,
           1,
           1,
           1,
           1,
           1,
           1,
           1,
           1,
           1,
           1,
           1,
           1,
           1,
           1,
           1,
           1,
           1,
           1,
           1,
           1,
           1,
           1,
           1,
           1,
           1,
           1,
           1,
           1,
           1,
           1,
           1,
           1,
           1,
           1,
           1,
           1,
           1,
           1,
           1,
           1,
           1,
           1,
           1,
           1,
           1,
           1,
           1,
           1,
           1,
           1,
           1,
           1,
           1,
           1,
           1,
           4,
           4,
           4,
           4,
           4
          ],
          "sizemode": "area",
          "sizeref": 0.01,
          "symbol": "circle"
         },
         "mode": "markers",
         "name": "",
         "orientation": "v",
         "showlegend": false,
         "type": "scatter",
         "x": [
          -0.082977995297426,
          -0.4998856251826551,
          -0.35324410918288696,
          -0.3137397886223291,
          -0.10323252576933006,
          -0.0808054855967052,
          -0.29554775026848257,
          -0.47261240680207384,
          -0.08269519763287303,
          -0.35961306140476623,
          0.30074456867553667,
          -0.18657582184075716,
          0.3763891522960383,
          -0.4149557886302221,
          -0.3301695804354311,
          -0.4016531661669499,
          0.45788953015050193,
          0.19187711395047335,
          0.18650092768158366,
          -0.4817117226558082,
          0.4888610889064947,
          -0.21955600793559482,
          -0.396773993422358,
          0.40859550309309556,
          -0.21222466141365126,
          -0.4806330421297029,
          -0.28837188399994096,
          -0.00842684071966171,
          0.07411760549201307,
          0.08930553690328424,
          -0.39766557117217416,
          0.1944001577277451,
          -0.45004654105391284,
          0.16379464521978881,
          0.44459475599081333,
          0.4034019152878835,
          -0.36072365274924145,
          -0.10232316301446642,
          0.4275085803960339,
          0.25081210313615554,
          0.38330609120580983,
          0.2509424340273372,
          -0.23007210823497393,
          -0.07190881012870509,
          0.16344149781844808,
          -0.3852540270466248,
          -0.050087866520059476,
          -0.09186319723871883,
          0.4033795205622538,
          -0.49712967296884103,
          -0.17335509822790385,
          0.3859420993107745,
          0.4085351509197992,
          -0.4841787571534437,
          0.19089691751692395,
          -0.32765949165467145,
          0.43259546303716356,
          -0.4339998272779375,
          0.2538761884612464,
          0.21152475862847175,
          -0.4801198661602044,
          -0.4716935119792054,
          0.360027948682888,
          0.05282197868576588,
          -0.37582668488008886,
          0.08575927145828788,
          0.06103021925570995,
          0.30063267268061633,
          0.30710519561877914,
          0.36354185455942867,
          0.056240233990418886,
          -0.44008231048778834,
          -0.4554481214552383,
          -0.2742906613921453,
          0.05971698205414244,
          -0.4280257203105132,
          0.06810046191994212,
          -0.24767425542967658,
          -0.3045705188906812,
          0.47001998908831233,
          -0.26015224085241384,
          0.11995571838137975,
          -0.34320860535391573,
          -0.42997785628077767,
          0.10632946165333035,
          -0.18263759067783925,
          0.07974521924579692,
          0.05094821911789682,
          0.1692328934531846,
          -0.43366516557155843,
          0.12971750702156448,
          0.25275555373881387,
          -0.23968490142145904,
          -0.30656571737667226,
          0.02467030912373369,
          -0.23670322951288902,
          0.23506596328866947,
          0.40781585250352403,
          -0.486048427024403,
          0.11677835700165762,
          0.33337184932309877,
          0.31842757998135235,
          -0.28471960216232106,
          0.12302087724949157,
          0.20767537610566272
         ],
         "xaxis": "x",
         "y": [
          0.2203244934421581,
          -0.19766742736816023,
          -0.4076614052312022,
          -0.15443927295695226,
          0.038816734003356945,
          0.1852195003967595,
          0.3781174363909454,
          0.17046751017840223,
          0.05868982844575166,
          -0.3018985109151212,
          0.4682615757193975,
          0.19232261566931408,
          0.3946066635038473,
          -0.46094521676711764,
          0.37814250342941313,
          -0.07889237499494783,
          0.03316528497301707,
          -0.18448436899393705,
          0.3346256718973729,
          0.25014431494496747,
          0.2481656543798394,
          0.2892793284514885,
          -0.052106473824094834,
          -0.2063858516263205,
          -0.3699714278817223,
          0.17883553293989096,
          -0.2344533406277738,
          -0.4466374548829196,
          -0.35327142509418985,
          0.19975836002093117,
          -0.08594401218043168,
          -0.08582073047309735,
          0.035896405915511576,
          0.014889112058308562,
          0.08655504050199292,
          -0.3625252958537625,
          0.3073912887095238,
          -0.3346458028830672,
          -0.15223414025449344,
          0.22599798535045146,
          0.12367220705560888,
          -0.15110165802215747,
          0.39588621819606684,
          0.46484004714838556,
          0.12169572020912178,
          0.44948925870707124,
          0.07838961438713177,
          -0.2629730197569723,
          0.07367948667228585,
          0.11714491362072388,
          0.027058102257609296,
          -0.14273023999750023,
          0.12336011579180273,
          0.4294372337437613,
          0.4973228504514805,
          -0.36286425037112224,
          0.19681816148990017,
          0.2554630526024664,
          0.42302453554648334,
          -0.3757290380278353,
          -0.4737890131222807,
          -0.2537889323969541,
          0.03883106434165284,
          0.3420308923596057,
          -0.2208163209888605,
          0.46959574831967454,
          -0.481352710627057,
          -0.26702572615897957,
          -0.11213935593582824,
          0.24712164273718462,
          -0.363544774339315,
          -0.37865654425926265,
          -0.3925058708939071,
          0.21298898038267666,
          -0.48744401984088415,
          0.467276330000272,
          -0.2967067653390095,
          0.24382585407509294,
          0.08135892727325778,
          0.34682880149003525,
          -0.006230285731270047,
          0.32898089955017873,
          -0.4814237978225905,
          -0.01365488906296819,
          0.06885143708648134,
          0.4886161544124489,
          -0.1198588273764496,
          0.2453344309065021,
          -0.2350804423371906,
          -0.1299158020858937,
          -0.2898259900851604,
          -0.43346351864588506,
          0.3047545637433454,
          0.13946088087994013,
          0.4248079703993507,
          -0.4340389093159762,
          0.27217802954324677,
          0.4319720691968373,
          -0.2656379138785795,
          0.44901632068761643,
          -0.1494272698333899,
          0.12290934768551114,
          -0.051744581118816156,
          -0.06021105843884659,
          0.36500730525449193
         ],
         "yaxis": "y"
        }
       ],
       "layout": {
        "coloraxis": {
         "cmax": 5,
         "cmin": -1,
         "colorbar": {
          "title": {
           "text": "cluster"
          }
         },
         "colorscale": [
          [
           0,
           "#30123b"
          ],
          [
           0.07142857142857142,
           "#4145ab"
          ],
          [
           0.14285714285714285,
           "#4675ed"
          ],
          [
           0.21428571428571427,
           "#39a2fc"
          ],
          [
           0.2857142857142857,
           "#1bcfd4"
          ],
          [
           0.35714285714285715,
           "#24eca6"
          ],
          [
           0.42857142857142855,
           "#61fc6c"
          ],
          [
           0.5,
           "#a4fc3b"
          ],
          [
           0.5714285714285714,
           "#d1e834"
          ],
          [
           0.6428571428571429,
           "#f3c63a"
          ],
          [
           0.7142857142857143,
           "#fe9b2d"
          ],
          [
           0.7857142857142857,
           "#f36315"
          ],
          [
           0.8571428571428571,
           "#d93806"
          ],
          [
           0.9285714285714286,
           "#b11901"
          ],
          [
           1,
           "#7a0402"
          ]
         ]
        },
        "legend": {
         "itemsizing": "constant",
         "tracegroupgap": 0
        },
        "margin": {
         "t": 60
        },
        "template": {
         "data": {
          "bar": [
           {
            "error_x": {
             "color": "#2a3f5f"
            },
            "error_y": {
             "color": "#2a3f5f"
            },
            "marker": {
             "line": {
              "color": "#E5ECF6",
              "width": 0.5
             },
             "pattern": {
              "fillmode": "overlay",
              "size": 10,
              "solidity": 0.2
             }
            },
            "type": "bar"
           }
          ],
          "barpolar": [
           {
            "marker": {
             "line": {
              "color": "#E5ECF6",
              "width": 0.5
             },
             "pattern": {
              "fillmode": "overlay",
              "size": 10,
              "solidity": 0.2
             }
            },
            "type": "barpolar"
           }
          ],
          "carpet": [
           {
            "aaxis": {
             "endlinecolor": "#2a3f5f",
             "gridcolor": "white",
             "linecolor": "white",
             "minorgridcolor": "white",
             "startlinecolor": "#2a3f5f"
            },
            "baxis": {
             "endlinecolor": "#2a3f5f",
             "gridcolor": "white",
             "linecolor": "white",
             "minorgridcolor": "white",
             "startlinecolor": "#2a3f5f"
            },
            "type": "carpet"
           }
          ],
          "choropleth": [
           {
            "colorbar": {
             "outlinewidth": 0,
             "ticks": ""
            },
            "type": "choropleth"
           }
          ],
          "contour": [
           {
            "colorbar": {
             "outlinewidth": 0,
             "ticks": ""
            },
            "colorscale": [
             [
              0,
              "#0d0887"
             ],
             [
              0.1111111111111111,
              "#46039f"
             ],
             [
              0.2222222222222222,
              "#7201a8"
             ],
             [
              0.3333333333333333,
              "#9c179e"
             ],
             [
              0.4444444444444444,
              "#bd3786"
             ],
             [
              0.5555555555555556,
              "#d8576b"
             ],
             [
              0.6666666666666666,
              "#ed7953"
             ],
             [
              0.7777777777777778,
              "#fb9f3a"
             ],
             [
              0.8888888888888888,
              "#fdca26"
             ],
             [
              1,
              "#f0f921"
             ]
            ],
            "type": "contour"
           }
          ],
          "contourcarpet": [
           {
            "colorbar": {
             "outlinewidth": 0,
             "ticks": ""
            },
            "type": "contourcarpet"
           }
          ],
          "heatmap": [
           {
            "colorbar": {
             "outlinewidth": 0,
             "ticks": ""
            },
            "colorscale": [
             [
              0,
              "#0d0887"
             ],
             [
              0.1111111111111111,
              "#46039f"
             ],
             [
              0.2222222222222222,
              "#7201a8"
             ],
             [
              0.3333333333333333,
              "#9c179e"
             ],
             [
              0.4444444444444444,
              "#bd3786"
             ],
             [
              0.5555555555555556,
              "#d8576b"
             ],
             [
              0.6666666666666666,
              "#ed7953"
             ],
             [
              0.7777777777777778,
              "#fb9f3a"
             ],
             [
              0.8888888888888888,
              "#fdca26"
             ],
             [
              1,
              "#f0f921"
             ]
            ],
            "type": "heatmap"
           }
          ],
          "heatmapgl": [
           {
            "colorbar": {
             "outlinewidth": 0,
             "ticks": ""
            },
            "colorscale": [
             [
              0,
              "#0d0887"
             ],
             [
              0.1111111111111111,
              "#46039f"
             ],
             [
              0.2222222222222222,
              "#7201a8"
             ],
             [
              0.3333333333333333,
              "#9c179e"
             ],
             [
              0.4444444444444444,
              "#bd3786"
             ],
             [
              0.5555555555555556,
              "#d8576b"
             ],
             [
              0.6666666666666666,
              "#ed7953"
             ],
             [
              0.7777777777777778,
              "#fb9f3a"
             ],
             [
              0.8888888888888888,
              "#fdca26"
             ],
             [
              1,
              "#f0f921"
             ]
            ],
            "type": "heatmapgl"
           }
          ],
          "histogram": [
           {
            "marker": {
             "pattern": {
              "fillmode": "overlay",
              "size": 10,
              "solidity": 0.2
             }
            },
            "type": "histogram"
           }
          ],
          "histogram2d": [
           {
            "colorbar": {
             "outlinewidth": 0,
             "ticks": ""
            },
            "colorscale": [
             [
              0,
              "#0d0887"
             ],
             [
              0.1111111111111111,
              "#46039f"
             ],
             [
              0.2222222222222222,
              "#7201a8"
             ],
             [
              0.3333333333333333,
              "#9c179e"
             ],
             [
              0.4444444444444444,
              "#bd3786"
             ],
             [
              0.5555555555555556,
              "#d8576b"
             ],
             [
              0.6666666666666666,
              "#ed7953"
             ],
             [
              0.7777777777777778,
              "#fb9f3a"
             ],
             [
              0.8888888888888888,
              "#fdca26"
             ],
             [
              1,
              "#f0f921"
             ]
            ],
            "type": "histogram2d"
           }
          ],
          "histogram2dcontour": [
           {
            "colorbar": {
             "outlinewidth": 0,
             "ticks": ""
            },
            "colorscale": [
             [
              0,
              "#0d0887"
             ],
             [
              0.1111111111111111,
              "#46039f"
             ],
             [
              0.2222222222222222,
              "#7201a8"
             ],
             [
              0.3333333333333333,
              "#9c179e"
             ],
             [
              0.4444444444444444,
              "#bd3786"
             ],
             [
              0.5555555555555556,
              "#d8576b"
             ],
             [
              0.6666666666666666,
              "#ed7953"
             ],
             [
              0.7777777777777778,
              "#fb9f3a"
             ],
             [
              0.8888888888888888,
              "#fdca26"
             ],
             [
              1,
              "#f0f921"
             ]
            ],
            "type": "histogram2dcontour"
           }
          ],
          "mesh3d": [
           {
            "colorbar": {
             "outlinewidth": 0,
             "ticks": ""
            },
            "type": "mesh3d"
           }
          ],
          "parcoords": [
           {
            "line": {
             "colorbar": {
              "outlinewidth": 0,
              "ticks": ""
             }
            },
            "type": "parcoords"
           }
          ],
          "pie": [
           {
            "automargin": true,
            "type": "pie"
           }
          ],
          "scatter": [
           {
            "fillpattern": {
             "fillmode": "overlay",
             "size": 10,
             "solidity": 0.2
            },
            "type": "scatter"
           }
          ],
          "scatter3d": [
           {
            "line": {
             "colorbar": {
              "outlinewidth": 0,
              "ticks": ""
             }
            },
            "marker": {
             "colorbar": {
              "outlinewidth": 0,
              "ticks": ""
             }
            },
            "type": "scatter3d"
           }
          ],
          "scattercarpet": [
           {
            "marker": {
             "colorbar": {
              "outlinewidth": 0,
              "ticks": ""
             }
            },
            "type": "scattercarpet"
           }
          ],
          "scattergeo": [
           {
            "marker": {
             "colorbar": {
              "outlinewidth": 0,
              "ticks": ""
             }
            },
            "type": "scattergeo"
           }
          ],
          "scattergl": [
           {
            "marker": {
             "colorbar": {
              "outlinewidth": 0,
              "ticks": ""
             }
            },
            "type": "scattergl"
           }
          ],
          "scattermapbox": [
           {
            "marker": {
             "colorbar": {
              "outlinewidth": 0,
              "ticks": ""
             }
            },
            "type": "scattermapbox"
           }
          ],
          "scatterpolar": [
           {
            "marker": {
             "colorbar": {
              "outlinewidth": 0,
              "ticks": ""
             }
            },
            "type": "scatterpolar"
           }
          ],
          "scatterpolargl": [
           {
            "marker": {
             "colorbar": {
              "outlinewidth": 0,
              "ticks": ""
             }
            },
            "type": "scatterpolargl"
           }
          ],
          "scatterternary": [
           {
            "marker": {
             "colorbar": {
              "outlinewidth": 0,
              "ticks": ""
             }
            },
            "type": "scatterternary"
           }
          ],
          "surface": [
           {
            "colorbar": {
             "outlinewidth": 0,
             "ticks": ""
            },
            "colorscale": [
             [
              0,
              "#0d0887"
             ],
             [
              0.1111111111111111,
              "#46039f"
             ],
             [
              0.2222222222222222,
              "#7201a8"
             ],
             [
              0.3333333333333333,
              "#9c179e"
             ],
             [
              0.4444444444444444,
              "#bd3786"
             ],
             [
              0.5555555555555556,
              "#d8576b"
             ],
             [
              0.6666666666666666,
              "#ed7953"
             ],
             [
              0.7777777777777778,
              "#fb9f3a"
             ],
             [
              0.8888888888888888,
              "#fdca26"
             ],
             [
              1,
              "#f0f921"
             ]
            ],
            "type": "surface"
           }
          ],
          "table": [
           {
            "cells": {
             "fill": {
              "color": "#EBF0F8"
             },
             "line": {
              "color": "white"
             }
            },
            "header": {
             "fill": {
              "color": "#C8D4E3"
             },
             "line": {
              "color": "white"
             }
            },
            "type": "table"
           }
          ]
         },
         "layout": {
          "annotationdefaults": {
           "arrowcolor": "#2a3f5f",
           "arrowhead": 0,
           "arrowwidth": 1
          },
          "autotypenumbers": "strict",
          "coloraxis": {
           "colorbar": {
            "outlinewidth": 0,
            "ticks": ""
           }
          },
          "colorscale": {
           "diverging": [
            [
             0,
             "#8e0152"
            ],
            [
             0.1,
             "#c51b7d"
            ],
            [
             0.2,
             "#de77ae"
            ],
            [
             0.3,
             "#f1b6da"
            ],
            [
             0.4,
             "#fde0ef"
            ],
            [
             0.5,
             "#f7f7f7"
            ],
            [
             0.6,
             "#e6f5d0"
            ],
            [
             0.7,
             "#b8e186"
            ],
            [
             0.8,
             "#7fbc41"
            ],
            [
             0.9,
             "#4d9221"
            ],
            [
             1,
             "#276419"
            ]
           ],
           "sequential": [
            [
             0,
             "#0d0887"
            ],
            [
             0.1111111111111111,
             "#46039f"
            ],
            [
             0.2222222222222222,
             "#7201a8"
            ],
            [
             0.3333333333333333,
             "#9c179e"
            ],
            [
             0.4444444444444444,
             "#bd3786"
            ],
            [
             0.5555555555555556,
             "#d8576b"
            ],
            [
             0.6666666666666666,
             "#ed7953"
            ],
            [
             0.7777777777777778,
             "#fb9f3a"
            ],
            [
             0.8888888888888888,
             "#fdca26"
            ],
            [
             1,
             "#f0f921"
            ]
           ],
           "sequentialminus": [
            [
             0,
             "#0d0887"
            ],
            [
             0.1111111111111111,
             "#46039f"
            ],
            [
             0.2222222222222222,
             "#7201a8"
            ],
            [
             0.3333333333333333,
             "#9c179e"
            ],
            [
             0.4444444444444444,
             "#bd3786"
            ],
            [
             0.5555555555555556,
             "#d8576b"
            ],
            [
             0.6666666666666666,
             "#ed7953"
            ],
            [
             0.7777777777777778,
             "#fb9f3a"
            ],
            [
             0.8888888888888888,
             "#fdca26"
            ],
            [
             1,
             "#f0f921"
            ]
           ]
          },
          "colorway": [
           "#636efa",
           "#EF553B",
           "#00cc96",
           "#ab63fa",
           "#FFA15A",
           "#19d3f3",
           "#FF6692",
           "#B6E880",
           "#FF97FF",
           "#FECB52"
          ],
          "font": {
           "color": "#2a3f5f"
          },
          "geo": {
           "bgcolor": "white",
           "lakecolor": "white",
           "landcolor": "#E5ECF6",
           "showlakes": true,
           "showland": true,
           "subunitcolor": "white"
          },
          "hoverlabel": {
           "align": "left"
          },
          "hovermode": "closest",
          "mapbox": {
           "style": "light"
          },
          "paper_bgcolor": "white",
          "plot_bgcolor": "#E5ECF6",
          "polar": {
           "angularaxis": {
            "gridcolor": "white",
            "linecolor": "white",
            "ticks": ""
           },
           "bgcolor": "#E5ECF6",
           "radialaxis": {
            "gridcolor": "white",
            "linecolor": "white",
            "ticks": ""
           }
          },
          "scene": {
           "xaxis": {
            "backgroundcolor": "#E5ECF6",
            "gridcolor": "white",
            "gridwidth": 2,
            "linecolor": "white",
            "showbackground": true,
            "ticks": "",
            "zerolinecolor": "white"
           },
           "yaxis": {
            "backgroundcolor": "#E5ECF6",
            "gridcolor": "white",
            "gridwidth": 2,
            "linecolor": "white",
            "showbackground": true,
            "ticks": "",
            "zerolinecolor": "white"
           },
           "zaxis": {
            "backgroundcolor": "#E5ECF6",
            "gridcolor": "white",
            "gridwidth": 2,
            "linecolor": "white",
            "showbackground": true,
            "ticks": "",
            "zerolinecolor": "white"
           }
          },
          "shapedefaults": {
           "line": {
            "color": "#2a3f5f"
           }
          },
          "ternary": {
           "aaxis": {
            "gridcolor": "white",
            "linecolor": "white",
            "ticks": ""
           },
           "baxis": {
            "gridcolor": "white",
            "linecolor": "white",
            "ticks": ""
           },
           "bgcolor": "#E5ECF6",
           "caxis": {
            "gridcolor": "white",
            "linecolor": "white",
            "ticks": ""
           }
          },
          "title": {
           "x": 0.05
          },
          "xaxis": {
           "automargin": true,
           "gridcolor": "white",
           "linecolor": "white",
           "ticks": "",
           "title": {
            "standoff": 15
           },
           "zerolinecolor": "white",
           "zerolinewidth": 2
          },
          "yaxis": {
           "automargin": true,
           "gridcolor": "white",
           "linecolor": "white",
           "ticks": "",
           "title": {
            "standoff": 15
           },
           "zerolinecolor": "white",
           "zerolinewidth": 2
          }
         }
        },
        "width": 550,
        "xaxis": {
         "anchor": "y",
         "domain": [
          0,
          1
         ],
         "title": {
          "text": "x"
         }
        },
        "yaxis": {
         "anchor": "x",
         "domain": [
          0,
          1
         ],
         "title": {
          "text": "y"
         }
        }
       }
      },
      "text/html": [
       "<div>                            <div id=\"b4770a5c-8176-46f1-82f8-daf72a8c3eba\" class=\"plotly-graph-div\" style=\"height:525px; width:550px;\"></div>            <script type=\"text/javascript\">                require([\"plotly\"], function(Plotly) {                    window.PLOTLYENV=window.PLOTLYENV || {};                                    if (document.getElementById(\"b4770a5c-8176-46f1-82f8-daf72a8c3eba\")) {                    Plotly.newPlot(                        \"b4770a5c-8176-46f1-82f8-daf72a8c3eba\",                        [{\"hovertemplate\":\"x=%{x}<br>y=%{y}<br>sizes=%{marker.size}<br>cluster=%{marker.color}<extra></extra>\",\"legendgroup\":\"\",\"marker\":{\"color\":[2.0,2.0,2.0,2.0,2.0,2.0,2.0,2.0,2.0,2.0,4.0,2.0,4.0,2.0,2.0,2.0,0.0,0.0,4.0,2.0,4.0,2.0,2.0,0.0,2.0,2.0,2.0,2.0,2.0,3.0,2.0,0.0,2.0,3.0,0.0,0.0,2.0,2.0,0.0,4.0,1.0,0.0,2.0,4.0,1.0,2.0,2.0,2.0,0.0,2.0,2.0,0.0,1.0,2.0,4.0,2.0,4.0,2.0,4.0,0.0,2.0,2.0,0.0,4.0,2.0,4.0,2.0,0.0,0.0,4.0,2.0,2.0,2.0,2.0,2.0,2.0,2.0,2.0,2.0,4.0,2.0,4.0,2.0,2.0,3.0,4.0,3.0,4.0,3.0,2.0,3.0,0.0,2.0,2.0,4.0,2.0,4.0,4.0,2.0,4.0,0.0,1.0,2.0,3.0,4.0],\"coloraxis\":\"coloraxis\",\"size\":[1.0,1.0,1.0,1.0,1.0,1.0,1.0,1.0,1.0,1.0,1.0,1.0,1.0,1.0,1.0,1.0,1.0,1.0,1.0,1.0,1.0,1.0,1.0,1.0,1.0,1.0,1.0,1.0,1.0,1.0,1.0,1.0,1.0,1.0,1.0,1.0,1.0,1.0,1.0,1.0,1.0,1.0,1.0,1.0,1.0,1.0,1.0,1.0,1.0,1.0,1.0,1.0,1.0,1.0,1.0,1.0,1.0,1.0,1.0,1.0,1.0,1.0,1.0,1.0,1.0,1.0,1.0,1.0,1.0,1.0,1.0,1.0,1.0,1.0,1.0,1.0,1.0,1.0,1.0,1.0,1.0,1.0,1.0,1.0,1.0,1.0,1.0,1.0,1.0,1.0,1.0,1.0,1.0,1.0,1.0,1.0,1.0,1.0,1.0,1.0,4.0,4.0,4.0,4.0,4.0],\"sizemode\":\"area\",\"sizeref\":0.01,\"symbol\":\"circle\"},\"mode\":\"markers\",\"name\":\"\",\"orientation\":\"v\",\"showlegend\":false,\"x\":[-0.082977995297426,-0.4998856251826551,-0.35324410918288696,-0.3137397886223291,-0.10323252576933006,-0.0808054855967052,-0.29554775026848257,-0.47261240680207384,-0.08269519763287303,-0.35961306140476623,0.30074456867553667,-0.18657582184075716,0.3763891522960383,-0.4149557886302221,-0.3301695804354311,-0.4016531661669499,0.45788953015050193,0.19187711395047335,0.18650092768158366,-0.4817117226558082,0.4888610889064947,-0.21955600793559482,-0.396773993422358,0.40859550309309556,-0.21222466141365126,-0.4806330421297029,-0.28837188399994096,-0.00842684071966171,0.07411760549201307,0.08930553690328424,-0.39766557117217416,0.1944001577277451,-0.45004654105391284,0.16379464521978881,0.44459475599081333,0.4034019152878835,-0.36072365274924145,-0.10232316301446642,0.4275085803960339,0.25081210313615554,0.38330609120580983,0.2509424340273372,-0.23007210823497393,-0.07190881012870509,0.16344149781844808,-0.3852540270466248,-0.050087866520059476,-0.09186319723871883,0.4033795205622538,-0.49712967296884103,-0.17335509822790385,0.3859420993107745,0.4085351509197992,-0.4841787571534437,0.19089691751692395,-0.32765949165467145,0.43259546303716356,-0.4339998272779375,0.2538761884612464,0.21152475862847175,-0.4801198661602044,-0.4716935119792054,0.360027948682888,0.05282197868576588,-0.37582668488008886,0.08575927145828788,0.06103021925570995,0.30063267268061633,0.30710519561877914,0.36354185455942867,0.056240233990418886,-0.44008231048778834,-0.4554481214552383,-0.2742906613921453,0.05971698205414244,-0.4280257203105132,0.06810046191994212,-0.24767425542967658,-0.3045705188906812,0.47001998908831233,-0.26015224085241384,0.11995571838137975,-0.34320860535391573,-0.42997785628077767,0.10632946165333035,-0.18263759067783925,0.07974521924579692,0.05094821911789682,0.1692328934531846,-0.43366516557155843,0.12971750702156448,0.25275555373881387,-0.23968490142145904,-0.30656571737667226,0.02467030912373369,-0.23670322951288902,0.23506596328866947,0.40781585250352403,-0.486048427024403,0.11677835700165762,0.33337184932309877,0.31842757998135235,-0.28471960216232106,0.12302087724949157,0.20767537610566272],\"xaxis\":\"x\",\"y\":[0.2203244934421581,-0.19766742736816023,-0.4076614052312022,-0.15443927295695226,0.038816734003356945,0.1852195003967595,0.3781174363909454,0.17046751017840223,0.05868982844575166,-0.3018985109151212,0.4682615757193975,0.19232261566931408,0.3946066635038473,-0.46094521676711764,0.37814250342941313,-0.07889237499494783,0.03316528497301707,-0.18448436899393705,0.3346256718973729,0.25014431494496747,0.2481656543798394,0.2892793284514885,-0.052106473824094834,-0.2063858516263205,-0.3699714278817223,0.17883553293989096,-0.2344533406277738,-0.4466374548829196,-0.35327142509418985,0.19975836002093117,-0.08594401218043168,-0.08582073047309735,0.035896405915511576,0.014889112058308562,0.08655504050199292,-0.3625252958537625,0.3073912887095238,-0.3346458028830672,-0.15223414025449344,0.22599798535045146,0.12367220705560888,-0.15110165802215747,0.39588621819606684,0.46484004714838556,0.12169572020912178,0.44948925870707124,0.07838961438713177,-0.2629730197569723,0.07367948667228585,0.11714491362072388,0.027058102257609296,-0.14273023999750023,0.12336011579180273,0.4294372337437613,0.4973228504514805,-0.36286425037112224,0.19681816148990017,0.2554630526024664,0.42302453554648334,-0.3757290380278353,-0.4737890131222807,-0.2537889323969541,0.03883106434165284,0.3420308923596057,-0.2208163209888605,0.46959574831967454,-0.481352710627057,-0.26702572615897957,-0.11213935593582824,0.24712164273718462,-0.363544774339315,-0.37865654425926265,-0.3925058708939071,0.21298898038267666,-0.48744401984088415,0.467276330000272,-0.2967067653390095,0.24382585407509294,0.08135892727325778,0.34682880149003525,-0.006230285731270047,0.32898089955017873,-0.4814237978225905,-0.01365488906296819,0.06885143708648134,0.4886161544124489,-0.1198588273764496,0.2453344309065021,-0.2350804423371906,-0.1299158020858937,-0.2898259900851604,-0.43346351864588506,0.3047545637433454,0.13946088087994013,0.4248079703993507,-0.4340389093159762,0.27217802954324677,0.4319720691968373,-0.2656379138785795,0.44901632068761643,-0.1494272698333899,0.12290934768551114,-0.051744581118816156,-0.06021105843884659,0.36500730525449193],\"yaxis\":\"y\",\"type\":\"scatter\"}],                        {\"template\":{\"data\":{\"histogram2dcontour\":[{\"type\":\"histogram2dcontour\",\"colorbar\":{\"outlinewidth\":0,\"ticks\":\"\"},\"colorscale\":[[0.0,\"#0d0887\"],[0.1111111111111111,\"#46039f\"],[0.2222222222222222,\"#7201a8\"],[0.3333333333333333,\"#9c179e\"],[0.4444444444444444,\"#bd3786\"],[0.5555555555555556,\"#d8576b\"],[0.6666666666666666,\"#ed7953\"],[0.7777777777777778,\"#fb9f3a\"],[0.8888888888888888,\"#fdca26\"],[1.0,\"#f0f921\"]]}],\"choropleth\":[{\"type\":\"choropleth\",\"colorbar\":{\"outlinewidth\":0,\"ticks\":\"\"}}],\"histogram2d\":[{\"type\":\"histogram2d\",\"colorbar\":{\"outlinewidth\":0,\"ticks\":\"\"},\"colorscale\":[[0.0,\"#0d0887\"],[0.1111111111111111,\"#46039f\"],[0.2222222222222222,\"#7201a8\"],[0.3333333333333333,\"#9c179e\"],[0.4444444444444444,\"#bd3786\"],[0.5555555555555556,\"#d8576b\"],[0.6666666666666666,\"#ed7953\"],[0.7777777777777778,\"#fb9f3a\"],[0.8888888888888888,\"#fdca26\"],[1.0,\"#f0f921\"]]}],\"heatmap\":[{\"type\":\"heatmap\",\"colorbar\":{\"outlinewidth\":0,\"ticks\":\"\"},\"colorscale\":[[0.0,\"#0d0887\"],[0.1111111111111111,\"#46039f\"],[0.2222222222222222,\"#7201a8\"],[0.3333333333333333,\"#9c179e\"],[0.4444444444444444,\"#bd3786\"],[0.5555555555555556,\"#d8576b\"],[0.6666666666666666,\"#ed7953\"],[0.7777777777777778,\"#fb9f3a\"],[0.8888888888888888,\"#fdca26\"],[1.0,\"#f0f921\"]]}],\"heatmapgl\":[{\"type\":\"heatmapgl\",\"colorbar\":{\"outlinewidth\":0,\"ticks\":\"\"},\"colorscale\":[[0.0,\"#0d0887\"],[0.1111111111111111,\"#46039f\"],[0.2222222222222222,\"#7201a8\"],[0.3333333333333333,\"#9c179e\"],[0.4444444444444444,\"#bd3786\"],[0.5555555555555556,\"#d8576b\"],[0.6666666666666666,\"#ed7953\"],[0.7777777777777778,\"#fb9f3a\"],[0.8888888888888888,\"#fdca26\"],[1.0,\"#f0f921\"]]}],\"contourcarpet\":[{\"type\":\"contourcarpet\",\"colorbar\":{\"outlinewidth\":0,\"ticks\":\"\"}}],\"contour\":[{\"type\":\"contour\",\"colorbar\":{\"outlinewidth\":0,\"ticks\":\"\"},\"colorscale\":[[0.0,\"#0d0887\"],[0.1111111111111111,\"#46039f\"],[0.2222222222222222,\"#7201a8\"],[0.3333333333333333,\"#9c179e\"],[0.4444444444444444,\"#bd3786\"],[0.5555555555555556,\"#d8576b\"],[0.6666666666666666,\"#ed7953\"],[0.7777777777777778,\"#fb9f3a\"],[0.8888888888888888,\"#fdca26\"],[1.0,\"#f0f921\"]]}],\"surface\":[{\"type\":\"surface\",\"colorbar\":{\"outlinewidth\":0,\"ticks\":\"\"},\"colorscale\":[[0.0,\"#0d0887\"],[0.1111111111111111,\"#46039f\"],[0.2222222222222222,\"#7201a8\"],[0.3333333333333333,\"#9c179e\"],[0.4444444444444444,\"#bd3786\"],[0.5555555555555556,\"#d8576b\"],[0.6666666666666666,\"#ed7953\"],[0.7777777777777778,\"#fb9f3a\"],[0.8888888888888888,\"#fdca26\"],[1.0,\"#f0f921\"]]}],\"mesh3d\":[{\"type\":\"mesh3d\",\"colorbar\":{\"outlinewidth\":0,\"ticks\":\"\"}}],\"scatter\":[{\"fillpattern\":{\"fillmode\":\"overlay\",\"size\":10,\"solidity\":0.2},\"type\":\"scatter\"}],\"parcoords\":[{\"type\":\"parcoords\",\"line\":{\"colorbar\":{\"outlinewidth\":0,\"ticks\":\"\"}}}],\"scatterpolargl\":[{\"type\":\"scatterpolargl\",\"marker\":{\"colorbar\":{\"outlinewidth\":0,\"ticks\":\"\"}}}],\"bar\":[{\"error_x\":{\"color\":\"#2a3f5f\"},\"error_y\":{\"color\":\"#2a3f5f\"},\"marker\":{\"line\":{\"color\":\"#E5ECF6\",\"width\":0.5},\"pattern\":{\"fillmode\":\"overlay\",\"size\":10,\"solidity\":0.2}},\"type\":\"bar\"}],\"scattergeo\":[{\"type\":\"scattergeo\",\"marker\":{\"colorbar\":{\"outlinewidth\":0,\"ticks\":\"\"}}}],\"scatterpolar\":[{\"type\":\"scatterpolar\",\"marker\":{\"colorbar\":{\"outlinewidth\":0,\"ticks\":\"\"}}}],\"histogram\":[{\"marker\":{\"pattern\":{\"fillmode\":\"overlay\",\"size\":10,\"solidity\":0.2}},\"type\":\"histogram\"}],\"scattergl\":[{\"type\":\"scattergl\",\"marker\":{\"colorbar\":{\"outlinewidth\":0,\"ticks\":\"\"}}}],\"scatter3d\":[{\"type\":\"scatter3d\",\"line\":{\"colorbar\":{\"outlinewidth\":0,\"ticks\":\"\"}},\"marker\":{\"colorbar\":{\"outlinewidth\":0,\"ticks\":\"\"}}}],\"scattermapbox\":[{\"type\":\"scattermapbox\",\"marker\":{\"colorbar\":{\"outlinewidth\":0,\"ticks\":\"\"}}}],\"scatterternary\":[{\"type\":\"scatterternary\",\"marker\":{\"colorbar\":{\"outlinewidth\":0,\"ticks\":\"\"}}}],\"scattercarpet\":[{\"type\":\"scattercarpet\",\"marker\":{\"colorbar\":{\"outlinewidth\":0,\"ticks\":\"\"}}}],\"carpet\":[{\"aaxis\":{\"endlinecolor\":\"#2a3f5f\",\"gridcolor\":\"white\",\"linecolor\":\"white\",\"minorgridcolor\":\"white\",\"startlinecolor\":\"#2a3f5f\"},\"baxis\":{\"endlinecolor\":\"#2a3f5f\",\"gridcolor\":\"white\",\"linecolor\":\"white\",\"minorgridcolor\":\"white\",\"startlinecolor\":\"#2a3f5f\"},\"type\":\"carpet\"}],\"table\":[{\"cells\":{\"fill\":{\"color\":\"#EBF0F8\"},\"line\":{\"color\":\"white\"}},\"header\":{\"fill\":{\"color\":\"#C8D4E3\"},\"line\":{\"color\":\"white\"}},\"type\":\"table\"}],\"barpolar\":[{\"marker\":{\"line\":{\"color\":\"#E5ECF6\",\"width\":0.5},\"pattern\":{\"fillmode\":\"overlay\",\"size\":10,\"solidity\":0.2}},\"type\":\"barpolar\"}],\"pie\":[{\"automargin\":true,\"type\":\"pie\"}]},\"layout\":{\"autotypenumbers\":\"strict\",\"colorway\":[\"#636efa\",\"#EF553B\",\"#00cc96\",\"#ab63fa\",\"#FFA15A\",\"#19d3f3\",\"#FF6692\",\"#B6E880\",\"#FF97FF\",\"#FECB52\"],\"font\":{\"color\":\"#2a3f5f\"},\"hovermode\":\"closest\",\"hoverlabel\":{\"align\":\"left\"},\"paper_bgcolor\":\"white\",\"plot_bgcolor\":\"#E5ECF6\",\"polar\":{\"bgcolor\":\"#E5ECF6\",\"angularaxis\":{\"gridcolor\":\"white\",\"linecolor\":\"white\",\"ticks\":\"\"},\"radialaxis\":{\"gridcolor\":\"white\",\"linecolor\":\"white\",\"ticks\":\"\"}},\"ternary\":{\"bgcolor\":\"#E5ECF6\",\"aaxis\":{\"gridcolor\":\"white\",\"linecolor\":\"white\",\"ticks\":\"\"},\"baxis\":{\"gridcolor\":\"white\",\"linecolor\":\"white\",\"ticks\":\"\"},\"caxis\":{\"gridcolor\":\"white\",\"linecolor\":\"white\",\"ticks\":\"\"}},\"coloraxis\":{\"colorbar\":{\"outlinewidth\":0,\"ticks\":\"\"}},\"colorscale\":{\"sequential\":[[0.0,\"#0d0887\"],[0.1111111111111111,\"#46039f\"],[0.2222222222222222,\"#7201a8\"],[0.3333333333333333,\"#9c179e\"],[0.4444444444444444,\"#bd3786\"],[0.5555555555555556,\"#d8576b\"],[0.6666666666666666,\"#ed7953\"],[0.7777777777777778,\"#fb9f3a\"],[0.8888888888888888,\"#fdca26\"],[1.0,\"#f0f921\"]],\"sequentialminus\":[[0.0,\"#0d0887\"],[0.1111111111111111,\"#46039f\"],[0.2222222222222222,\"#7201a8\"],[0.3333333333333333,\"#9c179e\"],[0.4444444444444444,\"#bd3786\"],[0.5555555555555556,\"#d8576b\"],[0.6666666666666666,\"#ed7953\"],[0.7777777777777778,\"#fb9f3a\"],[0.8888888888888888,\"#fdca26\"],[1.0,\"#f0f921\"]],\"diverging\":[[0,\"#8e0152\"],[0.1,\"#c51b7d\"],[0.2,\"#de77ae\"],[0.3,\"#f1b6da\"],[0.4,\"#fde0ef\"],[0.5,\"#f7f7f7\"],[0.6,\"#e6f5d0\"],[0.7,\"#b8e186\"],[0.8,\"#7fbc41\"],[0.9,\"#4d9221\"],[1,\"#276419\"]]},\"xaxis\":{\"gridcolor\":\"white\",\"linecolor\":\"white\",\"ticks\":\"\",\"title\":{\"standoff\":15},\"zerolinecolor\":\"white\",\"automargin\":true,\"zerolinewidth\":2},\"yaxis\":{\"gridcolor\":\"white\",\"linecolor\":\"white\",\"ticks\":\"\",\"title\":{\"standoff\":15},\"zerolinecolor\":\"white\",\"automargin\":true,\"zerolinewidth\":2},\"scene\":{\"xaxis\":{\"backgroundcolor\":\"#E5ECF6\",\"gridcolor\":\"white\",\"linecolor\":\"white\",\"showbackground\":true,\"ticks\":\"\",\"zerolinecolor\":\"white\",\"gridwidth\":2},\"yaxis\":{\"backgroundcolor\":\"#E5ECF6\",\"gridcolor\":\"white\",\"linecolor\":\"white\",\"showbackground\":true,\"ticks\":\"\",\"zerolinecolor\":\"white\",\"gridwidth\":2},\"zaxis\":{\"backgroundcolor\":\"#E5ECF6\",\"gridcolor\":\"white\",\"linecolor\":\"white\",\"showbackground\":true,\"ticks\":\"\",\"zerolinecolor\":\"white\",\"gridwidth\":2}},\"shapedefaults\":{\"line\":{\"color\":\"#2a3f5f\"}},\"annotationdefaults\":{\"arrowcolor\":\"#2a3f5f\",\"arrowhead\":0,\"arrowwidth\":1},\"geo\":{\"bgcolor\":\"white\",\"landcolor\":\"#E5ECF6\",\"subunitcolor\":\"white\",\"showland\":true,\"showlakes\":true,\"lakecolor\":\"white\"},\"title\":{\"x\":0.05},\"mapbox\":{\"style\":\"light\"}}},\"xaxis\":{\"anchor\":\"y\",\"domain\":[0.0,1.0],\"title\":{\"text\":\"x\"}},\"yaxis\":{\"anchor\":\"x\",\"domain\":[0.0,1.0],\"title\":{\"text\":\"y\"}},\"coloraxis\":{\"colorbar\":{\"title\":{\"text\":\"cluster\"}},\"colorscale\":[[0.0,\"#30123b\"],[0.07142857142857142,\"#4145ab\"],[0.14285714285714285,\"#4675ed\"],[0.21428571428571427,\"#39a2fc\"],[0.2857142857142857,\"#1bcfd4\"],[0.35714285714285715,\"#24eca6\"],[0.42857142857142855,\"#61fc6c\"],[0.5,\"#a4fc3b\"],[0.5714285714285714,\"#d1e834\"],[0.6428571428571429,\"#f3c63a\"],[0.7142857142857143,\"#fe9b2d\"],[0.7857142857142857,\"#f36315\"],[0.8571428571428571,\"#d93806\"],[0.9285714285714286,\"#b11901\"],[1.0,\"#7a0402\"]],\"cmin\":-1,\"cmax\":5},\"legend\":{\"tracegroupgap\":0,\"itemsizing\":\"constant\"},\"margin\":{\"t\":60},\"width\":550},                        {\"responsive\": true}                    ).then(function(){\n",
       "                            \n",
       "var gd = document.getElementById('b4770a5c-8176-46f1-82f8-daf72a8c3eba');\n",
       "var x = new MutationObserver(function (mutations, observer) {{\n",
       "        var display = window.getComputedStyle(gd).display;\n",
       "        if (!display || display === 'none') {{\n",
       "            console.log([gd, 'removed!']);\n",
       "            Plotly.purge(gd);\n",
       "            observer.disconnect();\n",
       "        }}\n",
       "}});\n",
       "\n",
       "// Listen for the removal of the full notebook cells\n",
       "var notebookContainer = gd.closest('#notebook-container');\n",
       "if (notebookContainer) {{\n",
       "    x.observe(notebookContainer, {childList: true});\n",
       "}}\n",
       "\n",
       "// Listen for the clearing of the current output cell\n",
       "var outputEl = gd.closest('.output');\n",
       "if (outputEl) {{\n",
       "    x.observe(outputEl, {childList: true});\n",
       "}}\n",
       "\n",
       "                        })                };                });            </script>        </div>"
      ]
     },
     "metadata": {},
     "output_type": "display_data"
    }
   ],
   "source": [
    "#| code-fold: true\n",
    "#| code-summary: \"Show the code\"\n",
    "#| label: fig-kmeans-centroids\n",
    "#| fig-cap: \"Next step in k-means: move centroids so they are in the middle of each cluster\"\n",
    "\n",
    "def move_centroids(centroids, data, cluster_memb):\n",
    "    for ki in range(centroids.shape[0]):\n",
    "        inds = np.argwhere( cluster_memb == ki)\n",
    "        if inds.size > 0:\n",
    "            for dim in range(data.shape[-1]):\n",
    "                centroids[ki,dim] = np.mean(data[inds,dim], axis=0)\n",
    "    return centroids\n",
    "\n",
    "centroids = move_centroids(centroids, datak, cluster_memb)\n",
    "#print(\"These centroids should be fairly 'centered' in their respective groups of data.\")\n",
    "plot_kmeans(datak, centroids, cluster_memb=cluster_memb)"
   ]
  },
  {
   "cell_type": "markdown",
   "id": "39ab4b7c",
   "metadata": {},
   "source": [
    "...But now, having moved the centroids, the nearest-neighbor membership of some of the points may have changed. \n",
    "So we recalculate those:"
   ]
  },
  {
   "cell_type": "code",
   "execution_count": null,
   "id": "5e27b17c",
   "metadata": {},
   "outputs": [
    {
     "data": {
      "application/vnd.plotly.v1+json": {
       "config": {
        "plotlyServerURL": "https://plot.ly"
       },
       "data": [
        {
         "hovertemplate": "x=%{x}<br>y=%{y}<br>sizes=%{marker.size}<br>cluster=%{marker.color}<extra></extra>",
         "legendgroup": "",
         "marker": {
          "color": [
           4,
           2,
           2,
           2,
           2,
           2,
           2,
           2,
           2,
           2,
           4,
           2,
           4,
           2,
           2,
           2,
           1,
           3,
           4,
           2,
           1,
           2,
           2,
           0,
           2,
           2,
           2,
           3,
           3,
           4,
           2,
           3,
           2,
           3,
           1,
           0,
           2,
           2,
           0,
           1,
           1,
           0,
           4,
           4,
           1,
           2,
           3,
           2,
           1,
           2,
           2,
           0,
           1,
           2,
           4,
           2,
           1,
           2,
           4,
           0,
           2,
           2,
           1,
           4,
           2,
           4,
           3,
           0,
           0,
           1,
           3,
           2,
           2,
           2,
           3,
           2,
           3,
           2,
           2,
           4,
           2,
           4,
           2,
           2,
           3,
           4,
           3,
           4,
           3,
           2,
           3,
           0,
           2,
           2,
           4,
           2,
           4,
           4,
           2,
           4,
           0,
           1,
           2,
           3,
           4
          ],
          "coloraxis": "coloraxis",
          "size": [
           1,
           1,
           1,
           1,
           1,
           1,
           1,
           1,
           1,
           1,
           1,
           1,
           1,
           1,
           1,
           1,
           1,
           1,
           1,
           1,
           1,
           1,
           1,
           1,
           1,
           1,
           1,
           1,
           1,
           1,
           1,
           1,
           1,
           1,
           1,
           1,
           1,
           1,
           1,
           1,
           1,
           1,
           1,
           1,
           1,
           1,
           1,
           1,
           1,
           1,
           1,
           1,
           1,
           1,
           1,
           1,
           1,
           1,
           1,
           1,
           1,
           1,
           1,
           1,
           1,
           1,
           1,
           1,
           1,
           1,
           1,
           1,
           1,
           1,
           1,
           1,
           1,
           1,
           1,
           1,
           1,
           1,
           1,
           1,
           1,
           1,
           1,
           1,
           1,
           1,
           1,
           1,
           1,
           1,
           1,
           1,
           1,
           1,
           1,
           1,
           4,
           4,
           4,
           4,
           4
          ],
          "sizemode": "area",
          "sizeref": 0.01,
          "symbol": "circle"
         },
         "mode": "markers",
         "name": "",
         "orientation": "v",
         "showlegend": false,
         "type": "scatter",
         "x": [
          -0.082977995297426,
          -0.4998856251826551,
          -0.35324410918288696,
          -0.3137397886223291,
          -0.10323252576933006,
          -0.0808054855967052,
          -0.29554775026848257,
          -0.47261240680207384,
          -0.08269519763287303,
          -0.35961306140476623,
          0.30074456867553667,
          -0.18657582184075716,
          0.3763891522960383,
          -0.4149557886302221,
          -0.3301695804354311,
          -0.4016531661669499,
          0.45788953015050193,
          0.19187711395047335,
          0.18650092768158366,
          -0.4817117226558082,
          0.4888610889064947,
          -0.21955600793559482,
          -0.396773993422358,
          0.40859550309309556,
          -0.21222466141365126,
          -0.4806330421297029,
          -0.28837188399994096,
          -0.00842684071966171,
          0.07411760549201307,
          0.08930553690328424,
          -0.39766557117217416,
          0.1944001577277451,
          -0.45004654105391284,
          0.16379464521978881,
          0.44459475599081333,
          0.4034019152878835,
          -0.36072365274924145,
          -0.10232316301446642,
          0.4275085803960339,
          0.25081210313615554,
          0.38330609120580983,
          0.2509424340273372,
          -0.23007210823497393,
          -0.07190881012870509,
          0.16344149781844808,
          -0.3852540270466248,
          -0.050087866520059476,
          -0.09186319723871883,
          0.4033795205622538,
          -0.49712967296884103,
          -0.17335509822790385,
          0.3859420993107745,
          0.4085351509197992,
          -0.4841787571534437,
          0.19089691751692395,
          -0.32765949165467145,
          0.43259546303716356,
          -0.4339998272779375,
          0.2538761884612464,
          0.21152475862847175,
          -0.4801198661602044,
          -0.4716935119792054,
          0.360027948682888,
          0.05282197868576588,
          -0.37582668488008886,
          0.08575927145828788,
          0.06103021925570995,
          0.30063267268061633,
          0.30710519561877914,
          0.36354185455942867,
          0.056240233990418886,
          -0.44008231048778834,
          -0.4554481214552383,
          -0.2742906613921453,
          0.05971698205414244,
          -0.4280257203105132,
          0.06810046191994212,
          -0.24767425542967658,
          -0.3045705188906812,
          0.47001998908831233,
          -0.26015224085241384,
          0.11995571838137975,
          -0.34320860535391573,
          -0.42997785628077767,
          0.10632946165333035,
          -0.18263759067783925,
          0.07974521924579692,
          0.05094821911789682,
          0.1692328934531846,
          -0.43366516557155843,
          0.12971750702156448,
          0.25275555373881387,
          -0.23968490142145904,
          -0.30656571737667226,
          0.02467030912373369,
          -0.23670322951288902,
          0.23506596328866947,
          0.40781585250352403,
          -0.486048427024403,
          0.11677835700165762,
          0.33337184932309877,
          0.31842757998135235,
          -0.28471960216232106,
          0.12302087724949157,
          0.20767537610566272
         ],
         "xaxis": "x",
         "y": [
          0.2203244934421581,
          -0.19766742736816023,
          -0.4076614052312022,
          -0.15443927295695226,
          0.038816734003356945,
          0.1852195003967595,
          0.3781174363909454,
          0.17046751017840223,
          0.05868982844575166,
          -0.3018985109151212,
          0.4682615757193975,
          0.19232261566931408,
          0.3946066635038473,
          -0.46094521676711764,
          0.37814250342941313,
          -0.07889237499494783,
          0.03316528497301707,
          -0.18448436899393705,
          0.3346256718973729,
          0.25014431494496747,
          0.2481656543798394,
          0.2892793284514885,
          -0.052106473824094834,
          -0.2063858516263205,
          -0.3699714278817223,
          0.17883553293989096,
          -0.2344533406277738,
          -0.4466374548829196,
          -0.35327142509418985,
          0.19975836002093117,
          -0.08594401218043168,
          -0.08582073047309735,
          0.035896405915511576,
          0.014889112058308562,
          0.08655504050199292,
          -0.3625252958537625,
          0.3073912887095238,
          -0.3346458028830672,
          -0.15223414025449344,
          0.22599798535045146,
          0.12367220705560888,
          -0.15110165802215747,
          0.39588621819606684,
          0.46484004714838556,
          0.12169572020912178,
          0.44948925870707124,
          0.07838961438713177,
          -0.2629730197569723,
          0.07367948667228585,
          0.11714491362072388,
          0.027058102257609296,
          -0.14273023999750023,
          0.12336011579180273,
          0.4294372337437613,
          0.4973228504514805,
          -0.36286425037112224,
          0.19681816148990017,
          0.2554630526024664,
          0.42302453554648334,
          -0.3757290380278353,
          -0.4737890131222807,
          -0.2537889323969541,
          0.03883106434165284,
          0.3420308923596057,
          -0.2208163209888605,
          0.46959574831967454,
          -0.481352710627057,
          -0.26702572615897957,
          -0.11213935593582824,
          0.24712164273718462,
          -0.363544774339315,
          -0.37865654425926265,
          -0.3925058708939071,
          0.21298898038267666,
          -0.48744401984088415,
          0.467276330000272,
          -0.2967067653390095,
          0.24382585407509294,
          0.08135892727325778,
          0.34682880149003525,
          -0.006230285731270047,
          0.32898089955017873,
          -0.4814237978225905,
          -0.01365488906296819,
          0.06885143708648134,
          0.4886161544124489,
          -0.1198588273764496,
          0.2453344309065021,
          -0.2350804423371906,
          -0.1299158020858937,
          -0.2898259900851604,
          -0.43346351864588506,
          0.3047545637433454,
          0.13946088087994013,
          0.4248079703993507,
          -0.4340389093159762,
          0.27217802954324677,
          0.4319720691968373,
          -0.2656379138785795,
          0.44901632068761643,
          -0.1494272698333899,
          0.12290934768551114,
          -0.051744581118816156,
          -0.06021105843884659,
          0.36500730525449193
         ],
         "yaxis": "y"
        }
       ],
       "layout": {
        "coloraxis": {
         "cmax": 5,
         "cmin": -1,
         "colorbar": {
          "title": {
           "text": "cluster"
          }
         },
         "colorscale": [
          [
           0,
           "#30123b"
          ],
          [
           0.07142857142857142,
           "#4145ab"
          ],
          [
           0.14285714285714285,
           "#4675ed"
          ],
          [
           0.21428571428571427,
           "#39a2fc"
          ],
          [
           0.2857142857142857,
           "#1bcfd4"
          ],
          [
           0.35714285714285715,
           "#24eca6"
          ],
          [
           0.42857142857142855,
           "#61fc6c"
          ],
          [
           0.5,
           "#a4fc3b"
          ],
          [
           0.5714285714285714,
           "#d1e834"
          ],
          [
           0.6428571428571429,
           "#f3c63a"
          ],
          [
           0.7142857142857143,
           "#fe9b2d"
          ],
          [
           0.7857142857142857,
           "#f36315"
          ],
          [
           0.8571428571428571,
           "#d93806"
          ],
          [
           0.9285714285714286,
           "#b11901"
          ],
          [
           1,
           "#7a0402"
          ]
         ]
        },
        "legend": {
         "itemsizing": "constant",
         "tracegroupgap": 0
        },
        "margin": {
         "t": 60
        },
        "template": {
         "data": {
          "bar": [
           {
            "error_x": {
             "color": "#2a3f5f"
            },
            "error_y": {
             "color": "#2a3f5f"
            },
            "marker": {
             "line": {
              "color": "#E5ECF6",
              "width": 0.5
             },
             "pattern": {
              "fillmode": "overlay",
              "size": 10,
              "solidity": 0.2
             }
            },
            "type": "bar"
           }
          ],
          "barpolar": [
           {
            "marker": {
             "line": {
              "color": "#E5ECF6",
              "width": 0.5
             },
             "pattern": {
              "fillmode": "overlay",
              "size": 10,
              "solidity": 0.2
             }
            },
            "type": "barpolar"
           }
          ],
          "carpet": [
           {
            "aaxis": {
             "endlinecolor": "#2a3f5f",
             "gridcolor": "white",
             "linecolor": "white",
             "minorgridcolor": "white",
             "startlinecolor": "#2a3f5f"
            },
            "baxis": {
             "endlinecolor": "#2a3f5f",
             "gridcolor": "white",
             "linecolor": "white",
             "minorgridcolor": "white",
             "startlinecolor": "#2a3f5f"
            },
            "type": "carpet"
           }
          ],
          "choropleth": [
           {
            "colorbar": {
             "outlinewidth": 0,
             "ticks": ""
            },
            "type": "choropleth"
           }
          ],
          "contour": [
           {
            "colorbar": {
             "outlinewidth": 0,
             "ticks": ""
            },
            "colorscale": [
             [
              0,
              "#0d0887"
             ],
             [
              0.1111111111111111,
              "#46039f"
             ],
             [
              0.2222222222222222,
              "#7201a8"
             ],
             [
              0.3333333333333333,
              "#9c179e"
             ],
             [
              0.4444444444444444,
              "#bd3786"
             ],
             [
              0.5555555555555556,
              "#d8576b"
             ],
             [
              0.6666666666666666,
              "#ed7953"
             ],
             [
              0.7777777777777778,
              "#fb9f3a"
             ],
             [
              0.8888888888888888,
              "#fdca26"
             ],
             [
              1,
              "#f0f921"
             ]
            ],
            "type": "contour"
           }
          ],
          "contourcarpet": [
           {
            "colorbar": {
             "outlinewidth": 0,
             "ticks": ""
            },
            "type": "contourcarpet"
           }
          ],
          "heatmap": [
           {
            "colorbar": {
             "outlinewidth": 0,
             "ticks": ""
            },
            "colorscale": [
             [
              0,
              "#0d0887"
             ],
             [
              0.1111111111111111,
              "#46039f"
             ],
             [
              0.2222222222222222,
              "#7201a8"
             ],
             [
              0.3333333333333333,
              "#9c179e"
             ],
             [
              0.4444444444444444,
              "#bd3786"
             ],
             [
              0.5555555555555556,
              "#d8576b"
             ],
             [
              0.6666666666666666,
              "#ed7953"
             ],
             [
              0.7777777777777778,
              "#fb9f3a"
             ],
             [
              0.8888888888888888,
              "#fdca26"
             ],
             [
              1,
              "#f0f921"
             ]
            ],
            "type": "heatmap"
           }
          ],
          "heatmapgl": [
           {
            "colorbar": {
             "outlinewidth": 0,
             "ticks": ""
            },
            "colorscale": [
             [
              0,
              "#0d0887"
             ],
             [
              0.1111111111111111,
              "#46039f"
             ],
             [
              0.2222222222222222,
              "#7201a8"
             ],
             [
              0.3333333333333333,
              "#9c179e"
             ],
             [
              0.4444444444444444,
              "#bd3786"
             ],
             [
              0.5555555555555556,
              "#d8576b"
             ],
             [
              0.6666666666666666,
              "#ed7953"
             ],
             [
              0.7777777777777778,
              "#fb9f3a"
             ],
             [
              0.8888888888888888,
              "#fdca26"
             ],
             [
              1,
              "#f0f921"
             ]
            ],
            "type": "heatmapgl"
           }
          ],
          "histogram": [
           {
            "marker": {
             "pattern": {
              "fillmode": "overlay",
              "size": 10,
              "solidity": 0.2
             }
            },
            "type": "histogram"
           }
          ],
          "histogram2d": [
           {
            "colorbar": {
             "outlinewidth": 0,
             "ticks": ""
            },
            "colorscale": [
             [
              0,
              "#0d0887"
             ],
             [
              0.1111111111111111,
              "#46039f"
             ],
             [
              0.2222222222222222,
              "#7201a8"
             ],
             [
              0.3333333333333333,
              "#9c179e"
             ],
             [
              0.4444444444444444,
              "#bd3786"
             ],
             [
              0.5555555555555556,
              "#d8576b"
             ],
             [
              0.6666666666666666,
              "#ed7953"
             ],
             [
              0.7777777777777778,
              "#fb9f3a"
             ],
             [
              0.8888888888888888,
              "#fdca26"
             ],
             [
              1,
              "#f0f921"
             ]
            ],
            "type": "histogram2d"
           }
          ],
          "histogram2dcontour": [
           {
            "colorbar": {
             "outlinewidth": 0,
             "ticks": ""
            },
            "colorscale": [
             [
              0,
              "#0d0887"
             ],
             [
              0.1111111111111111,
              "#46039f"
             ],
             [
              0.2222222222222222,
              "#7201a8"
             ],
             [
              0.3333333333333333,
              "#9c179e"
             ],
             [
              0.4444444444444444,
              "#bd3786"
             ],
             [
              0.5555555555555556,
              "#d8576b"
             ],
             [
              0.6666666666666666,
              "#ed7953"
             ],
             [
              0.7777777777777778,
              "#fb9f3a"
             ],
             [
              0.8888888888888888,
              "#fdca26"
             ],
             [
              1,
              "#f0f921"
             ]
            ],
            "type": "histogram2dcontour"
           }
          ],
          "mesh3d": [
           {
            "colorbar": {
             "outlinewidth": 0,
             "ticks": ""
            },
            "type": "mesh3d"
           }
          ],
          "parcoords": [
           {
            "line": {
             "colorbar": {
              "outlinewidth": 0,
              "ticks": ""
             }
            },
            "type": "parcoords"
           }
          ],
          "pie": [
           {
            "automargin": true,
            "type": "pie"
           }
          ],
          "scatter": [
           {
            "fillpattern": {
             "fillmode": "overlay",
             "size": 10,
             "solidity": 0.2
            },
            "type": "scatter"
           }
          ],
          "scatter3d": [
           {
            "line": {
             "colorbar": {
              "outlinewidth": 0,
              "ticks": ""
             }
            },
            "marker": {
             "colorbar": {
              "outlinewidth": 0,
              "ticks": ""
             }
            },
            "type": "scatter3d"
           }
          ],
          "scattercarpet": [
           {
            "marker": {
             "colorbar": {
              "outlinewidth": 0,
              "ticks": ""
             }
            },
            "type": "scattercarpet"
           }
          ],
          "scattergeo": [
           {
            "marker": {
             "colorbar": {
              "outlinewidth": 0,
              "ticks": ""
             }
            },
            "type": "scattergeo"
           }
          ],
          "scattergl": [
           {
            "marker": {
             "colorbar": {
              "outlinewidth": 0,
              "ticks": ""
             }
            },
            "type": "scattergl"
           }
          ],
          "scattermapbox": [
           {
            "marker": {
             "colorbar": {
              "outlinewidth": 0,
              "ticks": ""
             }
            },
            "type": "scattermapbox"
           }
          ],
          "scatterpolar": [
           {
            "marker": {
             "colorbar": {
              "outlinewidth": 0,
              "ticks": ""
             }
            },
            "type": "scatterpolar"
           }
          ],
          "scatterpolargl": [
           {
            "marker": {
             "colorbar": {
              "outlinewidth": 0,
              "ticks": ""
             }
            },
            "type": "scatterpolargl"
           }
          ],
          "scatterternary": [
           {
            "marker": {
             "colorbar": {
              "outlinewidth": 0,
              "ticks": ""
             }
            },
            "type": "scatterternary"
           }
          ],
          "surface": [
           {
            "colorbar": {
             "outlinewidth": 0,
             "ticks": ""
            },
            "colorscale": [
             [
              0,
              "#0d0887"
             ],
             [
              0.1111111111111111,
              "#46039f"
             ],
             [
              0.2222222222222222,
              "#7201a8"
             ],
             [
              0.3333333333333333,
              "#9c179e"
             ],
             [
              0.4444444444444444,
              "#bd3786"
             ],
             [
              0.5555555555555556,
              "#d8576b"
             ],
             [
              0.6666666666666666,
              "#ed7953"
             ],
             [
              0.7777777777777778,
              "#fb9f3a"
             ],
             [
              0.8888888888888888,
              "#fdca26"
             ],
             [
              1,
              "#f0f921"
             ]
            ],
            "type": "surface"
           }
          ],
          "table": [
           {
            "cells": {
             "fill": {
              "color": "#EBF0F8"
             },
             "line": {
              "color": "white"
             }
            },
            "header": {
             "fill": {
              "color": "#C8D4E3"
             },
             "line": {
              "color": "white"
             }
            },
            "type": "table"
           }
          ]
         },
         "layout": {
          "annotationdefaults": {
           "arrowcolor": "#2a3f5f",
           "arrowhead": 0,
           "arrowwidth": 1
          },
          "autotypenumbers": "strict",
          "coloraxis": {
           "colorbar": {
            "outlinewidth": 0,
            "ticks": ""
           }
          },
          "colorscale": {
           "diverging": [
            [
             0,
             "#8e0152"
            ],
            [
             0.1,
             "#c51b7d"
            ],
            [
             0.2,
             "#de77ae"
            ],
            [
             0.3,
             "#f1b6da"
            ],
            [
             0.4,
             "#fde0ef"
            ],
            [
             0.5,
             "#f7f7f7"
            ],
            [
             0.6,
             "#e6f5d0"
            ],
            [
             0.7,
             "#b8e186"
            ],
            [
             0.8,
             "#7fbc41"
            ],
            [
             0.9,
             "#4d9221"
            ],
            [
             1,
             "#276419"
            ]
           ],
           "sequential": [
            [
             0,
             "#0d0887"
            ],
            [
             0.1111111111111111,
             "#46039f"
            ],
            [
             0.2222222222222222,
             "#7201a8"
            ],
            [
             0.3333333333333333,
             "#9c179e"
            ],
            [
             0.4444444444444444,
             "#bd3786"
            ],
            [
             0.5555555555555556,
             "#d8576b"
            ],
            [
             0.6666666666666666,
             "#ed7953"
            ],
            [
             0.7777777777777778,
             "#fb9f3a"
            ],
            [
             0.8888888888888888,
             "#fdca26"
            ],
            [
             1,
             "#f0f921"
            ]
           ],
           "sequentialminus": [
            [
             0,
             "#0d0887"
            ],
            [
             0.1111111111111111,
             "#46039f"
            ],
            [
             0.2222222222222222,
             "#7201a8"
            ],
            [
             0.3333333333333333,
             "#9c179e"
            ],
            [
             0.4444444444444444,
             "#bd3786"
            ],
            [
             0.5555555555555556,
             "#d8576b"
            ],
            [
             0.6666666666666666,
             "#ed7953"
            ],
            [
             0.7777777777777778,
             "#fb9f3a"
            ],
            [
             0.8888888888888888,
             "#fdca26"
            ],
            [
             1,
             "#f0f921"
            ]
           ]
          },
          "colorway": [
           "#636efa",
           "#EF553B",
           "#00cc96",
           "#ab63fa",
           "#FFA15A",
           "#19d3f3",
           "#FF6692",
           "#B6E880",
           "#FF97FF",
           "#FECB52"
          ],
          "font": {
           "color": "#2a3f5f"
          },
          "geo": {
           "bgcolor": "white",
           "lakecolor": "white",
           "landcolor": "#E5ECF6",
           "showlakes": true,
           "showland": true,
           "subunitcolor": "white"
          },
          "hoverlabel": {
           "align": "left"
          },
          "hovermode": "closest",
          "mapbox": {
           "style": "light"
          },
          "paper_bgcolor": "white",
          "plot_bgcolor": "#E5ECF6",
          "polar": {
           "angularaxis": {
            "gridcolor": "white",
            "linecolor": "white",
            "ticks": ""
           },
           "bgcolor": "#E5ECF6",
           "radialaxis": {
            "gridcolor": "white",
            "linecolor": "white",
            "ticks": ""
           }
          },
          "scene": {
           "xaxis": {
            "backgroundcolor": "#E5ECF6",
            "gridcolor": "white",
            "gridwidth": 2,
            "linecolor": "white",
            "showbackground": true,
            "ticks": "",
            "zerolinecolor": "white"
           },
           "yaxis": {
            "backgroundcolor": "#E5ECF6",
            "gridcolor": "white",
            "gridwidth": 2,
            "linecolor": "white",
            "showbackground": true,
            "ticks": "",
            "zerolinecolor": "white"
           },
           "zaxis": {
            "backgroundcolor": "#E5ECF6",
            "gridcolor": "white",
            "gridwidth": 2,
            "linecolor": "white",
            "showbackground": true,
            "ticks": "",
            "zerolinecolor": "white"
           }
          },
          "shapedefaults": {
           "line": {
            "color": "#2a3f5f"
           }
          },
          "ternary": {
           "aaxis": {
            "gridcolor": "white",
            "linecolor": "white",
            "ticks": ""
           },
           "baxis": {
            "gridcolor": "white",
            "linecolor": "white",
            "ticks": ""
           },
           "bgcolor": "#E5ECF6",
           "caxis": {
            "gridcolor": "white",
            "linecolor": "white",
            "ticks": ""
           }
          },
          "title": {
           "x": 0.05
          },
          "xaxis": {
           "automargin": true,
           "gridcolor": "white",
           "linecolor": "white",
           "ticks": "",
           "title": {
            "standoff": 15
           },
           "zerolinecolor": "white",
           "zerolinewidth": 2
          },
          "yaxis": {
           "automargin": true,
           "gridcolor": "white",
           "linecolor": "white",
           "ticks": "",
           "title": {
            "standoff": 15
           },
           "zerolinecolor": "white",
           "zerolinewidth": 2
          }
         }
        },
        "width": 550,
        "xaxis": {
         "anchor": "y",
         "domain": [
          0,
          1
         ],
         "title": {
          "text": "x"
         }
        },
        "yaxis": {
         "anchor": "x",
         "domain": [
          0,
          1
         ],
         "title": {
          "text": "y"
         }
        }
       }
      },
      "text/html": [
       "<div>                            <div id=\"41196483-3cc3-4765-a08c-e5dbdfe77e3f\" class=\"plotly-graph-div\" style=\"height:525px; width:550px;\"></div>            <script type=\"text/javascript\">                require([\"plotly\"], function(Plotly) {                    window.PLOTLYENV=window.PLOTLYENV || {};                                    if (document.getElementById(\"41196483-3cc3-4765-a08c-e5dbdfe77e3f\")) {                    Plotly.newPlot(                        \"41196483-3cc3-4765-a08c-e5dbdfe77e3f\",                        [{\"hovertemplate\":\"x=%{x}<br>y=%{y}<br>sizes=%{marker.size}<br>cluster=%{marker.color}<extra></extra>\",\"legendgroup\":\"\",\"marker\":{\"color\":[4.0,2.0,2.0,2.0,2.0,2.0,2.0,2.0,2.0,2.0,4.0,2.0,4.0,2.0,2.0,2.0,1.0,3.0,4.0,2.0,1.0,2.0,2.0,0.0,2.0,2.0,2.0,3.0,3.0,4.0,2.0,3.0,2.0,3.0,1.0,0.0,2.0,2.0,0.0,1.0,1.0,0.0,4.0,4.0,1.0,2.0,3.0,2.0,1.0,2.0,2.0,0.0,1.0,2.0,4.0,2.0,1.0,2.0,4.0,0.0,2.0,2.0,1.0,4.0,2.0,4.0,3.0,0.0,0.0,1.0,3.0,2.0,2.0,2.0,3.0,2.0,3.0,2.0,2.0,4.0,2.0,4.0,2.0,2.0,3.0,4.0,3.0,4.0,3.0,2.0,3.0,0.0,2.0,2.0,4.0,2.0,4.0,4.0,2.0,4.0,0.0,1.0,2.0,3.0,4.0],\"coloraxis\":\"coloraxis\",\"size\":[1.0,1.0,1.0,1.0,1.0,1.0,1.0,1.0,1.0,1.0,1.0,1.0,1.0,1.0,1.0,1.0,1.0,1.0,1.0,1.0,1.0,1.0,1.0,1.0,1.0,1.0,1.0,1.0,1.0,1.0,1.0,1.0,1.0,1.0,1.0,1.0,1.0,1.0,1.0,1.0,1.0,1.0,1.0,1.0,1.0,1.0,1.0,1.0,1.0,1.0,1.0,1.0,1.0,1.0,1.0,1.0,1.0,1.0,1.0,1.0,1.0,1.0,1.0,1.0,1.0,1.0,1.0,1.0,1.0,1.0,1.0,1.0,1.0,1.0,1.0,1.0,1.0,1.0,1.0,1.0,1.0,1.0,1.0,1.0,1.0,1.0,1.0,1.0,1.0,1.0,1.0,1.0,1.0,1.0,1.0,1.0,1.0,1.0,1.0,1.0,4.0,4.0,4.0,4.0,4.0],\"sizemode\":\"area\",\"sizeref\":0.01,\"symbol\":\"circle\"},\"mode\":\"markers\",\"name\":\"\",\"orientation\":\"v\",\"showlegend\":false,\"x\":[-0.082977995297426,-0.4998856251826551,-0.35324410918288696,-0.3137397886223291,-0.10323252576933006,-0.0808054855967052,-0.29554775026848257,-0.47261240680207384,-0.08269519763287303,-0.35961306140476623,0.30074456867553667,-0.18657582184075716,0.3763891522960383,-0.4149557886302221,-0.3301695804354311,-0.4016531661669499,0.45788953015050193,0.19187711395047335,0.18650092768158366,-0.4817117226558082,0.4888610889064947,-0.21955600793559482,-0.396773993422358,0.40859550309309556,-0.21222466141365126,-0.4806330421297029,-0.28837188399994096,-0.00842684071966171,0.07411760549201307,0.08930553690328424,-0.39766557117217416,0.1944001577277451,-0.45004654105391284,0.16379464521978881,0.44459475599081333,0.4034019152878835,-0.36072365274924145,-0.10232316301446642,0.4275085803960339,0.25081210313615554,0.38330609120580983,0.2509424340273372,-0.23007210823497393,-0.07190881012870509,0.16344149781844808,-0.3852540270466248,-0.050087866520059476,-0.09186319723871883,0.4033795205622538,-0.49712967296884103,-0.17335509822790385,0.3859420993107745,0.4085351509197992,-0.4841787571534437,0.19089691751692395,-0.32765949165467145,0.43259546303716356,-0.4339998272779375,0.2538761884612464,0.21152475862847175,-0.4801198661602044,-0.4716935119792054,0.360027948682888,0.05282197868576588,-0.37582668488008886,0.08575927145828788,0.06103021925570995,0.30063267268061633,0.30710519561877914,0.36354185455942867,0.056240233990418886,-0.44008231048778834,-0.4554481214552383,-0.2742906613921453,0.05971698205414244,-0.4280257203105132,0.06810046191994212,-0.24767425542967658,-0.3045705188906812,0.47001998908831233,-0.26015224085241384,0.11995571838137975,-0.34320860535391573,-0.42997785628077767,0.10632946165333035,-0.18263759067783925,0.07974521924579692,0.05094821911789682,0.1692328934531846,-0.43366516557155843,0.12971750702156448,0.25275555373881387,-0.23968490142145904,-0.30656571737667226,0.02467030912373369,-0.23670322951288902,0.23506596328866947,0.40781585250352403,-0.486048427024403,0.11677835700165762,0.33337184932309877,0.31842757998135235,-0.28471960216232106,0.12302087724949157,0.20767537610566272],\"xaxis\":\"x\",\"y\":[0.2203244934421581,-0.19766742736816023,-0.4076614052312022,-0.15443927295695226,0.038816734003356945,0.1852195003967595,0.3781174363909454,0.17046751017840223,0.05868982844575166,-0.3018985109151212,0.4682615757193975,0.19232261566931408,0.3946066635038473,-0.46094521676711764,0.37814250342941313,-0.07889237499494783,0.03316528497301707,-0.18448436899393705,0.3346256718973729,0.25014431494496747,0.2481656543798394,0.2892793284514885,-0.052106473824094834,-0.2063858516263205,-0.3699714278817223,0.17883553293989096,-0.2344533406277738,-0.4466374548829196,-0.35327142509418985,0.19975836002093117,-0.08594401218043168,-0.08582073047309735,0.035896405915511576,0.014889112058308562,0.08655504050199292,-0.3625252958537625,0.3073912887095238,-0.3346458028830672,-0.15223414025449344,0.22599798535045146,0.12367220705560888,-0.15110165802215747,0.39588621819606684,0.46484004714838556,0.12169572020912178,0.44948925870707124,0.07838961438713177,-0.2629730197569723,0.07367948667228585,0.11714491362072388,0.027058102257609296,-0.14273023999750023,0.12336011579180273,0.4294372337437613,0.4973228504514805,-0.36286425037112224,0.19681816148990017,0.2554630526024664,0.42302453554648334,-0.3757290380278353,-0.4737890131222807,-0.2537889323969541,0.03883106434165284,0.3420308923596057,-0.2208163209888605,0.46959574831967454,-0.481352710627057,-0.26702572615897957,-0.11213935593582824,0.24712164273718462,-0.363544774339315,-0.37865654425926265,-0.3925058708939071,0.21298898038267666,-0.48744401984088415,0.467276330000272,-0.2967067653390095,0.24382585407509294,0.08135892727325778,0.34682880149003525,-0.006230285731270047,0.32898089955017873,-0.4814237978225905,-0.01365488906296819,0.06885143708648134,0.4886161544124489,-0.1198588273764496,0.2453344309065021,-0.2350804423371906,-0.1299158020858937,-0.2898259900851604,-0.43346351864588506,0.3047545637433454,0.13946088087994013,0.4248079703993507,-0.4340389093159762,0.27217802954324677,0.4319720691968373,-0.2656379138785795,0.44901632068761643,-0.1494272698333899,0.12290934768551114,-0.051744581118816156,-0.06021105843884659,0.36500730525449193],\"yaxis\":\"y\",\"type\":\"scatter\"}],                        {\"template\":{\"data\":{\"histogram2dcontour\":[{\"type\":\"histogram2dcontour\",\"colorbar\":{\"outlinewidth\":0,\"ticks\":\"\"},\"colorscale\":[[0.0,\"#0d0887\"],[0.1111111111111111,\"#46039f\"],[0.2222222222222222,\"#7201a8\"],[0.3333333333333333,\"#9c179e\"],[0.4444444444444444,\"#bd3786\"],[0.5555555555555556,\"#d8576b\"],[0.6666666666666666,\"#ed7953\"],[0.7777777777777778,\"#fb9f3a\"],[0.8888888888888888,\"#fdca26\"],[1.0,\"#f0f921\"]]}],\"choropleth\":[{\"type\":\"choropleth\",\"colorbar\":{\"outlinewidth\":0,\"ticks\":\"\"}}],\"histogram2d\":[{\"type\":\"histogram2d\",\"colorbar\":{\"outlinewidth\":0,\"ticks\":\"\"},\"colorscale\":[[0.0,\"#0d0887\"],[0.1111111111111111,\"#46039f\"],[0.2222222222222222,\"#7201a8\"],[0.3333333333333333,\"#9c179e\"],[0.4444444444444444,\"#bd3786\"],[0.5555555555555556,\"#d8576b\"],[0.6666666666666666,\"#ed7953\"],[0.7777777777777778,\"#fb9f3a\"],[0.8888888888888888,\"#fdca26\"],[1.0,\"#f0f921\"]]}],\"heatmap\":[{\"type\":\"heatmap\",\"colorbar\":{\"outlinewidth\":0,\"ticks\":\"\"},\"colorscale\":[[0.0,\"#0d0887\"],[0.1111111111111111,\"#46039f\"],[0.2222222222222222,\"#7201a8\"],[0.3333333333333333,\"#9c179e\"],[0.4444444444444444,\"#bd3786\"],[0.5555555555555556,\"#d8576b\"],[0.6666666666666666,\"#ed7953\"],[0.7777777777777778,\"#fb9f3a\"],[0.8888888888888888,\"#fdca26\"],[1.0,\"#f0f921\"]]}],\"heatmapgl\":[{\"type\":\"heatmapgl\",\"colorbar\":{\"outlinewidth\":0,\"ticks\":\"\"},\"colorscale\":[[0.0,\"#0d0887\"],[0.1111111111111111,\"#46039f\"],[0.2222222222222222,\"#7201a8\"],[0.3333333333333333,\"#9c179e\"],[0.4444444444444444,\"#bd3786\"],[0.5555555555555556,\"#d8576b\"],[0.6666666666666666,\"#ed7953\"],[0.7777777777777778,\"#fb9f3a\"],[0.8888888888888888,\"#fdca26\"],[1.0,\"#f0f921\"]]}],\"contourcarpet\":[{\"type\":\"contourcarpet\",\"colorbar\":{\"outlinewidth\":0,\"ticks\":\"\"}}],\"contour\":[{\"type\":\"contour\",\"colorbar\":{\"outlinewidth\":0,\"ticks\":\"\"},\"colorscale\":[[0.0,\"#0d0887\"],[0.1111111111111111,\"#46039f\"],[0.2222222222222222,\"#7201a8\"],[0.3333333333333333,\"#9c179e\"],[0.4444444444444444,\"#bd3786\"],[0.5555555555555556,\"#d8576b\"],[0.6666666666666666,\"#ed7953\"],[0.7777777777777778,\"#fb9f3a\"],[0.8888888888888888,\"#fdca26\"],[1.0,\"#f0f921\"]]}],\"surface\":[{\"type\":\"surface\",\"colorbar\":{\"outlinewidth\":0,\"ticks\":\"\"},\"colorscale\":[[0.0,\"#0d0887\"],[0.1111111111111111,\"#46039f\"],[0.2222222222222222,\"#7201a8\"],[0.3333333333333333,\"#9c179e\"],[0.4444444444444444,\"#bd3786\"],[0.5555555555555556,\"#d8576b\"],[0.6666666666666666,\"#ed7953\"],[0.7777777777777778,\"#fb9f3a\"],[0.8888888888888888,\"#fdca26\"],[1.0,\"#f0f921\"]]}],\"mesh3d\":[{\"type\":\"mesh3d\",\"colorbar\":{\"outlinewidth\":0,\"ticks\":\"\"}}],\"scatter\":[{\"fillpattern\":{\"fillmode\":\"overlay\",\"size\":10,\"solidity\":0.2},\"type\":\"scatter\"}],\"parcoords\":[{\"type\":\"parcoords\",\"line\":{\"colorbar\":{\"outlinewidth\":0,\"ticks\":\"\"}}}],\"scatterpolargl\":[{\"type\":\"scatterpolargl\",\"marker\":{\"colorbar\":{\"outlinewidth\":0,\"ticks\":\"\"}}}],\"bar\":[{\"error_x\":{\"color\":\"#2a3f5f\"},\"error_y\":{\"color\":\"#2a3f5f\"},\"marker\":{\"line\":{\"color\":\"#E5ECF6\",\"width\":0.5},\"pattern\":{\"fillmode\":\"overlay\",\"size\":10,\"solidity\":0.2}},\"type\":\"bar\"}],\"scattergeo\":[{\"type\":\"scattergeo\",\"marker\":{\"colorbar\":{\"outlinewidth\":0,\"ticks\":\"\"}}}],\"scatterpolar\":[{\"type\":\"scatterpolar\",\"marker\":{\"colorbar\":{\"outlinewidth\":0,\"ticks\":\"\"}}}],\"histogram\":[{\"marker\":{\"pattern\":{\"fillmode\":\"overlay\",\"size\":10,\"solidity\":0.2}},\"type\":\"histogram\"}],\"scattergl\":[{\"type\":\"scattergl\",\"marker\":{\"colorbar\":{\"outlinewidth\":0,\"ticks\":\"\"}}}],\"scatter3d\":[{\"type\":\"scatter3d\",\"line\":{\"colorbar\":{\"outlinewidth\":0,\"ticks\":\"\"}},\"marker\":{\"colorbar\":{\"outlinewidth\":0,\"ticks\":\"\"}}}],\"scattermapbox\":[{\"type\":\"scattermapbox\",\"marker\":{\"colorbar\":{\"outlinewidth\":0,\"ticks\":\"\"}}}],\"scatterternary\":[{\"type\":\"scatterternary\",\"marker\":{\"colorbar\":{\"outlinewidth\":0,\"ticks\":\"\"}}}],\"scattercarpet\":[{\"type\":\"scattercarpet\",\"marker\":{\"colorbar\":{\"outlinewidth\":0,\"ticks\":\"\"}}}],\"carpet\":[{\"aaxis\":{\"endlinecolor\":\"#2a3f5f\",\"gridcolor\":\"white\",\"linecolor\":\"white\",\"minorgridcolor\":\"white\",\"startlinecolor\":\"#2a3f5f\"},\"baxis\":{\"endlinecolor\":\"#2a3f5f\",\"gridcolor\":\"white\",\"linecolor\":\"white\",\"minorgridcolor\":\"white\",\"startlinecolor\":\"#2a3f5f\"},\"type\":\"carpet\"}],\"table\":[{\"cells\":{\"fill\":{\"color\":\"#EBF0F8\"},\"line\":{\"color\":\"white\"}},\"header\":{\"fill\":{\"color\":\"#C8D4E3\"},\"line\":{\"color\":\"white\"}},\"type\":\"table\"}],\"barpolar\":[{\"marker\":{\"line\":{\"color\":\"#E5ECF6\",\"width\":0.5},\"pattern\":{\"fillmode\":\"overlay\",\"size\":10,\"solidity\":0.2}},\"type\":\"barpolar\"}],\"pie\":[{\"automargin\":true,\"type\":\"pie\"}]},\"layout\":{\"autotypenumbers\":\"strict\",\"colorway\":[\"#636efa\",\"#EF553B\",\"#00cc96\",\"#ab63fa\",\"#FFA15A\",\"#19d3f3\",\"#FF6692\",\"#B6E880\",\"#FF97FF\",\"#FECB52\"],\"font\":{\"color\":\"#2a3f5f\"},\"hovermode\":\"closest\",\"hoverlabel\":{\"align\":\"left\"},\"paper_bgcolor\":\"white\",\"plot_bgcolor\":\"#E5ECF6\",\"polar\":{\"bgcolor\":\"#E5ECF6\",\"angularaxis\":{\"gridcolor\":\"white\",\"linecolor\":\"white\",\"ticks\":\"\"},\"radialaxis\":{\"gridcolor\":\"white\",\"linecolor\":\"white\",\"ticks\":\"\"}},\"ternary\":{\"bgcolor\":\"#E5ECF6\",\"aaxis\":{\"gridcolor\":\"white\",\"linecolor\":\"white\",\"ticks\":\"\"},\"baxis\":{\"gridcolor\":\"white\",\"linecolor\":\"white\",\"ticks\":\"\"},\"caxis\":{\"gridcolor\":\"white\",\"linecolor\":\"white\",\"ticks\":\"\"}},\"coloraxis\":{\"colorbar\":{\"outlinewidth\":0,\"ticks\":\"\"}},\"colorscale\":{\"sequential\":[[0.0,\"#0d0887\"],[0.1111111111111111,\"#46039f\"],[0.2222222222222222,\"#7201a8\"],[0.3333333333333333,\"#9c179e\"],[0.4444444444444444,\"#bd3786\"],[0.5555555555555556,\"#d8576b\"],[0.6666666666666666,\"#ed7953\"],[0.7777777777777778,\"#fb9f3a\"],[0.8888888888888888,\"#fdca26\"],[1.0,\"#f0f921\"]],\"sequentialminus\":[[0.0,\"#0d0887\"],[0.1111111111111111,\"#46039f\"],[0.2222222222222222,\"#7201a8\"],[0.3333333333333333,\"#9c179e\"],[0.4444444444444444,\"#bd3786\"],[0.5555555555555556,\"#d8576b\"],[0.6666666666666666,\"#ed7953\"],[0.7777777777777778,\"#fb9f3a\"],[0.8888888888888888,\"#fdca26\"],[1.0,\"#f0f921\"]],\"diverging\":[[0,\"#8e0152\"],[0.1,\"#c51b7d\"],[0.2,\"#de77ae\"],[0.3,\"#f1b6da\"],[0.4,\"#fde0ef\"],[0.5,\"#f7f7f7\"],[0.6,\"#e6f5d0\"],[0.7,\"#b8e186\"],[0.8,\"#7fbc41\"],[0.9,\"#4d9221\"],[1,\"#276419\"]]},\"xaxis\":{\"gridcolor\":\"white\",\"linecolor\":\"white\",\"ticks\":\"\",\"title\":{\"standoff\":15},\"zerolinecolor\":\"white\",\"automargin\":true,\"zerolinewidth\":2},\"yaxis\":{\"gridcolor\":\"white\",\"linecolor\":\"white\",\"ticks\":\"\",\"title\":{\"standoff\":15},\"zerolinecolor\":\"white\",\"automargin\":true,\"zerolinewidth\":2},\"scene\":{\"xaxis\":{\"backgroundcolor\":\"#E5ECF6\",\"gridcolor\":\"white\",\"linecolor\":\"white\",\"showbackground\":true,\"ticks\":\"\",\"zerolinecolor\":\"white\",\"gridwidth\":2},\"yaxis\":{\"backgroundcolor\":\"#E5ECF6\",\"gridcolor\":\"white\",\"linecolor\":\"white\",\"showbackground\":true,\"ticks\":\"\",\"zerolinecolor\":\"white\",\"gridwidth\":2},\"zaxis\":{\"backgroundcolor\":\"#E5ECF6\",\"gridcolor\":\"white\",\"linecolor\":\"white\",\"showbackground\":true,\"ticks\":\"\",\"zerolinecolor\":\"white\",\"gridwidth\":2}},\"shapedefaults\":{\"line\":{\"color\":\"#2a3f5f\"}},\"annotationdefaults\":{\"arrowcolor\":\"#2a3f5f\",\"arrowhead\":0,\"arrowwidth\":1},\"geo\":{\"bgcolor\":\"white\",\"landcolor\":\"#E5ECF6\",\"subunitcolor\":\"white\",\"showland\":true,\"showlakes\":true,\"lakecolor\":\"white\"},\"title\":{\"x\":0.05},\"mapbox\":{\"style\":\"light\"}}},\"xaxis\":{\"anchor\":\"y\",\"domain\":[0.0,1.0],\"title\":{\"text\":\"x\"}},\"yaxis\":{\"anchor\":\"x\",\"domain\":[0.0,1.0],\"title\":{\"text\":\"y\"}},\"coloraxis\":{\"colorbar\":{\"title\":{\"text\":\"cluster\"}},\"colorscale\":[[0.0,\"#30123b\"],[0.07142857142857142,\"#4145ab\"],[0.14285714285714285,\"#4675ed\"],[0.21428571428571427,\"#39a2fc\"],[0.2857142857142857,\"#1bcfd4\"],[0.35714285714285715,\"#24eca6\"],[0.42857142857142855,\"#61fc6c\"],[0.5,\"#a4fc3b\"],[0.5714285714285714,\"#d1e834\"],[0.6428571428571429,\"#f3c63a\"],[0.7142857142857143,\"#fe9b2d\"],[0.7857142857142857,\"#f36315\"],[0.8571428571428571,\"#d93806\"],[0.9285714285714286,\"#b11901\"],[1.0,\"#7a0402\"]],\"cmin\":-1,\"cmax\":5},\"legend\":{\"tracegroupgap\":0,\"itemsizing\":\"constant\"},\"margin\":{\"t\":60},\"width\":550},                        {\"responsive\": true}                    ).then(function(){\n",
       "                            \n",
       "var gd = document.getElementById('41196483-3cc3-4765-a08c-e5dbdfe77e3f');\n",
       "var x = new MutationObserver(function (mutations, observer) {{\n",
       "        var display = window.getComputedStyle(gd).display;\n",
       "        if (!display || display === 'none') {{\n",
       "            console.log([gd, 'removed!']);\n",
       "            Plotly.purge(gd);\n",
       "            observer.disconnect();\n",
       "        }}\n",
       "}});\n",
       "\n",
       "// Listen for the removal of the full notebook cells\n",
       "var notebookContainer = gd.closest('#notebook-container');\n",
       "if (notebookContainer) {{\n",
       "    x.observe(notebookContainer, {childList: true});\n",
       "}}\n",
       "\n",
       "// Listen for the clearing of the current output cell\n",
       "var outputEl = gd.closest('.output');\n",
       "if (outputEl) {{\n",
       "    x.observe(outputEl, {childList: true});\n",
       "}}\n",
       "\n",
       "                        })                };                });            </script>        </div>"
      ]
     },
     "metadata": {},
     "output_type": "display_data"
    }
   ],
   "source": [
    "#| code-fold: true\n",
    "#| code-summary: \"Show the code\"\n",
    "#| label: fig-kmeans-re-member\n",
    "#| fig-cap: \"Next step in k-means: re-assign cluster membership of point based on new cluster locations\"\n",
    "\n",
    "cluster_memb = calc_cluster_membership(datak, centroids)\n",
    "plot_kmeans(datak, centroids, cluster_memb=cluster_memb)"
   ]
  },
  {
   "cell_type": "markdown",
   "id": "a942328b",
   "metadata": {},
   "source": [
    "...And we repeat the process until some stopping criterion is met. For example we may just set a maximum iteration number, or we may stop when the centroids stop moving, or the cluster membership stops changing, etc. \n",
    "For this demo, we'll just use a maximum number of iterations. \n",
    "\n",
    "So, a movie of the whole process can look like this: "
   ]
  },
  {
   "cell_type": "code",
   "execution_count": null,
   "id": "a3ac02d0",
   "metadata": {},
   "outputs": [
    {
     "data": {
      "application/vnd.plotly.v1+json": {
       "config": {
        "plotlyServerURL": "https://plot.ly"
       },
       "data": [
        {
         "customdata": [
          [
           0
          ],
          [
           1
          ],
          [
           2
          ],
          [
           3
          ],
          [
           4
          ],
          [
           5
          ],
          [
           6
          ],
          [
           7
          ],
          [
           8
          ],
          [
           9
          ],
          [
           10
          ],
          [
           11
          ],
          [
           12
          ],
          [
           13
          ],
          [
           14
          ],
          [
           15
          ],
          [
           16
          ],
          [
           17
          ],
          [
           18
          ],
          [
           19
          ],
          [
           20
          ],
          [
           21
          ],
          [
           22
          ],
          [
           23
          ],
          [
           24
          ],
          [
           25
          ],
          [
           26
          ],
          [
           27
          ],
          [
           28
          ],
          [
           29
          ],
          [
           30
          ],
          [
           31
          ],
          [
           32
          ],
          [
           33
          ],
          [
           34
          ],
          [
           35
          ],
          [
           36
          ],
          [
           37
          ],
          [
           38
          ],
          [
           39
          ],
          [
           40
          ],
          [
           41
          ],
          [
           42
          ],
          [
           43
          ],
          [
           44
          ],
          [
           45
          ],
          [
           46
          ],
          [
           47
          ],
          [
           48
          ],
          [
           49
          ],
          [
           50
          ],
          [
           51
          ],
          [
           52
          ],
          [
           53
          ],
          [
           54
          ],
          [
           55
          ],
          [
           56
          ],
          [
           57
          ],
          [
           58
          ],
          [
           59
          ],
          [
           60
          ],
          [
           61
          ],
          [
           62
          ],
          [
           63
          ],
          [
           64
          ],
          [
           65
          ],
          [
           66
          ],
          [
           67
          ],
          [
           68
          ],
          [
           69
          ],
          [
           70
          ],
          [
           71
          ],
          [
           72
          ],
          [
           73
          ],
          [
           74
          ],
          [
           75
          ],
          [
           76
          ],
          [
           77
          ],
          [
           78
          ],
          [
           79
          ],
          [
           80
          ],
          [
           81
          ],
          [
           82
          ],
          [
           83
          ],
          [
           84
          ],
          [
           85
          ],
          [
           86
          ],
          [
           87
          ],
          [
           88
          ],
          [
           89
          ],
          [
           90
          ],
          [
           91
          ],
          [
           92
          ],
          [
           93
          ],
          [
           94
          ],
          [
           95
          ],
          [
           96
          ],
          [
           97
          ],
          [
           98
          ],
          [
           99
          ],
          [
           100
          ],
          [
           101
          ],
          [
           102
          ],
          [
           103
          ],
          [
           104
          ]
         ],
         "hovertemplate": "<b>%{hovertext}</b><br><br>t=0.0<br>x=%{x}<br>y=%{y}<br>sizes=%{marker.size}<br>point_number=%{customdata[0]}<br>cluster=%{marker.color}<extra></extra>",
         "hovertext": [
          -1,
          -1,
          -1,
          -1,
          -1,
          -1,
          -1,
          -1,
          -1,
          -1,
          -1,
          -1,
          -1,
          -1,
          -1,
          -1,
          -1,
          -1,
          -1,
          -1,
          -1,
          -1,
          -1,
          -1,
          -1,
          -1,
          -1,
          -1,
          -1,
          -1,
          -1,
          -1,
          -1,
          -1,
          -1,
          -1,
          -1,
          -1,
          -1,
          -1,
          -1,
          -1,
          -1,
          -1,
          -1,
          -1,
          -1,
          -1,
          -1,
          -1,
          -1,
          -1,
          -1,
          -1,
          -1,
          -1,
          -1,
          -1,
          -1,
          -1,
          -1,
          -1,
          -1,
          -1,
          -1,
          -1,
          -1,
          -1,
          -1,
          -1,
          -1,
          -1,
          -1,
          -1,
          -1,
          -1,
          -1,
          -1,
          -1,
          -1,
          -1,
          -1,
          -1,
          -1,
          -1,
          -1,
          -1,
          -1,
          -1,
          -1,
          -1,
          -1,
          -1,
          -1,
          -1,
          -1,
          -1,
          -1,
          -1,
          -1,
          0,
          1,
          2,
          3,
          4
         ],
         "ids": [
          0,
          1,
          2,
          3,
          4,
          5,
          6,
          7,
          8,
          9,
          10,
          11,
          12,
          13,
          14,
          15,
          16,
          17,
          18,
          19,
          20,
          21,
          22,
          23,
          24,
          25,
          26,
          27,
          28,
          29,
          30,
          31,
          32,
          33,
          34,
          35,
          36,
          37,
          38,
          39,
          40,
          41,
          42,
          43,
          44,
          45,
          46,
          47,
          48,
          49,
          50,
          51,
          52,
          53,
          54,
          55,
          56,
          57,
          58,
          59,
          60,
          61,
          62,
          63,
          64,
          65,
          66,
          67,
          68,
          69,
          70,
          71,
          72,
          73,
          74,
          75,
          76,
          77,
          78,
          79,
          80,
          81,
          82,
          83,
          84,
          85,
          86,
          87,
          88,
          89,
          90,
          91,
          92,
          93,
          94,
          95,
          96,
          97,
          98,
          99,
          100,
          101,
          102,
          103,
          104
         ],
         "legendgroup": "",
         "marker": {
          "color": [
           -1,
           -1,
           -1,
           -1,
           -1,
           -1,
           -1,
           -1,
           -1,
           -1,
           -1,
           -1,
           -1,
           -1,
           -1,
           -1,
           -1,
           -1,
           -1,
           -1,
           -1,
           -1,
           -1,
           -1,
           -1,
           -1,
           -1,
           -1,
           -1,
           -1,
           -1,
           -1,
           -1,
           -1,
           -1,
           -1,
           -1,
           -1,
           -1,
           -1,
           -1,
           -1,
           -1,
           -1,
           -1,
           -1,
           -1,
           -1,
           -1,
           -1,
           -1,
           -1,
           -1,
           -1,
           -1,
           -1,
           -1,
           -1,
           -1,
           -1,
           -1,
           -1,
           -1,
           -1,
           -1,
           -1,
           -1,
           -1,
           -1,
           -1,
           -1,
           -1,
           -1,
           -1,
           -1,
           -1,
           -1,
           -1,
           -1,
           -1,
           -1,
           -1,
           -1,
           -1,
           -1,
           -1,
           -1,
           -1,
           -1,
           -1,
           -1,
           -1,
           -1,
           -1,
           -1,
           -1,
           -1,
           -1,
           -1,
           -1,
           0,
           1,
           2,
           3,
           4
          ],
          "coloraxis": "coloraxis",
          "size": [
           1,
           1,
           1,
           1,
           1,
           1,
           1,
           1,
           1,
           1,
           1,
           1,
           1,
           1,
           1,
           1,
           1,
           1,
           1,
           1,
           1,
           1,
           1,
           1,
           1,
           1,
           1,
           1,
           1,
           1,
           1,
           1,
           1,
           1,
           1,
           1,
           1,
           1,
           1,
           1,
           1,
           1,
           1,
           1,
           1,
           1,
           1,
           1,
           1,
           1,
           1,
           1,
           1,
           1,
           1,
           1,
           1,
           1,
           1,
           1,
           1,
           1,
           1,
           1,
           1,
           1,
           1,
           1,
           1,
           1,
           1,
           1,
           1,
           1,
           1,
           1,
           1,
           1,
           1,
           1,
           1,
           1,
           1,
           1,
           1,
           1,
           1,
           1,
           1,
           1,
           1,
           1,
           1,
           1,
           1,
           1,
           1,
           1,
           1,
           1,
           3,
           3,
           3,
           3,
           3
          ],
          "sizemode": "area",
          "sizeref": 0.0075,
          "symbol": "circle"
         },
         "mode": "markers",
         "name": "",
         "orientation": "v",
         "showlegend": false,
         "type": "scatter",
         "x": [
          -0.082977995297426,
          -0.4998856251826551,
          -0.35324410918288696,
          -0.3137397886223291,
          -0.10323252576933006,
          -0.0808054855967052,
          -0.29554775026848257,
          -0.47261240680207384,
          -0.08269519763287303,
          -0.35961306140476623,
          0.30074456867553667,
          -0.18657582184075716,
          0.3763891522960383,
          -0.4149557886302221,
          -0.3301695804354311,
          -0.4016531661669499,
          0.45788953015050193,
          0.19187711395047335,
          0.18650092768158366,
          -0.4817117226558082,
          0.4888610889064947,
          -0.21955600793559482,
          -0.396773993422358,
          0.40859550309309556,
          -0.21222466141365126,
          -0.4806330421297029,
          -0.28837188399994096,
          -0.00842684071966171,
          0.07411760549201307,
          0.08930553690328424,
          -0.39766557117217416,
          0.1944001577277451,
          -0.45004654105391284,
          0.16379464521978881,
          0.44459475599081333,
          0.4034019152878835,
          -0.36072365274924145,
          -0.10232316301446642,
          0.4275085803960339,
          0.25081210313615554,
          0.38330609120580983,
          0.2509424340273372,
          -0.23007210823497393,
          -0.07190881012870509,
          0.16344149781844808,
          -0.3852540270466248,
          -0.050087866520059476,
          -0.09186319723871883,
          0.4033795205622538,
          -0.49712967296884103,
          -0.17335509822790385,
          0.3859420993107745,
          0.4085351509197992,
          -0.4841787571534437,
          0.19089691751692395,
          -0.32765949165467145,
          0.43259546303716356,
          -0.4339998272779375,
          0.2538761884612464,
          0.21152475862847175,
          -0.4801198661602044,
          -0.4716935119792054,
          0.360027948682888,
          0.05282197868576588,
          -0.37582668488008886,
          0.08575927145828788,
          0.06103021925570995,
          0.30063267268061633,
          0.30710519561877914,
          0.36354185455942867,
          0.056240233990418886,
          -0.44008231048778834,
          -0.4554481214552383,
          -0.2742906613921453,
          0.05971698205414244,
          -0.4280257203105132,
          0.06810046191994212,
          -0.24767425542967658,
          -0.3045705188906812,
          0.47001998908831233,
          -0.26015224085241384,
          0.11995571838137975,
          -0.34320860535391573,
          -0.42997785628077767,
          0.10632946165333035,
          -0.18263759067783925,
          0.07974521924579692,
          0.05094821911789682,
          0.1692328934531846,
          -0.43366516557155843,
          0.12971750702156448,
          0.25275555373881387,
          -0.23968490142145904,
          -0.30656571737667226,
          0.02467030912373369,
          -0.23670322951288902,
          0.23506596328866947,
          0.40781585250352403,
          -0.486048427024403,
          0.11677835700165762,
          0.27010567154824777,
          0.24936380985976475,
          -0.06599537151525225,
          0.06258628975198394,
          0.2557088560238722
         ],
         "xaxis": "x",
         "y": [
          0.2203244934421581,
          -0.19766742736816023,
          -0.4076614052312022,
          -0.15443927295695226,
          0.038816734003356945,
          0.1852195003967595,
          0.3781174363909454,
          0.17046751017840223,
          0.05868982844575166,
          -0.3018985109151212,
          0.4682615757193975,
          0.19232261566931408,
          0.3946066635038473,
          -0.46094521676711764,
          0.37814250342941313,
          -0.07889237499494783,
          0.03316528497301707,
          -0.18448436899393705,
          0.3346256718973729,
          0.25014431494496747,
          0.2481656543798394,
          0.2892793284514885,
          -0.052106473824094834,
          -0.2063858516263205,
          -0.3699714278817223,
          0.17883553293989096,
          -0.2344533406277738,
          -0.4466374548829196,
          -0.35327142509418985,
          0.19975836002093117,
          -0.08594401218043168,
          -0.08582073047309735,
          0.035896405915511576,
          0.014889112058308562,
          0.08655504050199292,
          -0.3625252958537625,
          0.3073912887095238,
          -0.3346458028830672,
          -0.15223414025449344,
          0.22599798535045146,
          0.12367220705560888,
          -0.15110165802215747,
          0.39588621819606684,
          0.46484004714838556,
          0.12169572020912178,
          0.44948925870707124,
          0.07838961438713177,
          -0.2629730197569723,
          0.07367948667228585,
          0.11714491362072388,
          0.027058102257609296,
          -0.14273023999750023,
          0.12336011579180273,
          0.4294372337437613,
          0.4973228504514805,
          -0.36286425037112224,
          0.19681816148990017,
          0.2554630526024664,
          0.42302453554648334,
          -0.3757290380278353,
          -0.4737890131222807,
          -0.2537889323969541,
          0.03883106434165284,
          0.3420308923596057,
          -0.2208163209888605,
          0.46959574831967454,
          -0.481352710627057,
          -0.26702572615897957,
          -0.11213935593582824,
          0.24712164273718462,
          -0.363544774339315,
          -0.37865654425926265,
          -0.3925058708939071,
          0.21298898038267666,
          -0.48744401984088415,
          0.467276330000272,
          -0.2967067653390095,
          0.24382585407509294,
          0.08135892727325778,
          0.34682880149003525,
          -0.006230285731270047,
          0.32898089955017873,
          -0.4814237978225905,
          -0.01365488906296819,
          0.06885143708648134,
          0.4886161544124489,
          -0.1198588273764496,
          0.2453344309065021,
          -0.2350804423371906,
          -0.1299158020858937,
          -0.2898259900851604,
          -0.43346351864588506,
          0.3047545637433454,
          0.13946088087994013,
          0.4248079703993507,
          -0.4340389093159762,
          0.27217802954324677,
          0.4319720691968373,
          -0.2656379138785795,
          0.44901632068761643,
          0.03399191291709386,
          0.08493972536780253,
          -0.008405599741854175,
          0.029728752905137545,
          0.2512400613801637
         ],
         "yaxis": "y"
        }
       ],
       "frames": [
        {
         "data": [
          {
           "customdata": [
            [
             0
            ],
            [
             1
            ],
            [
             2
            ],
            [
             3
            ],
            [
             4
            ],
            [
             5
            ],
            [
             6
            ],
            [
             7
            ],
            [
             8
            ],
            [
             9
            ],
            [
             10
            ],
            [
             11
            ],
            [
             12
            ],
            [
             13
            ],
            [
             14
            ],
            [
             15
            ],
            [
             16
            ],
            [
             17
            ],
            [
             18
            ],
            [
             19
            ],
            [
             20
            ],
            [
             21
            ],
            [
             22
            ],
            [
             23
            ],
            [
             24
            ],
            [
             25
            ],
            [
             26
            ],
            [
             27
            ],
            [
             28
            ],
            [
             29
            ],
            [
             30
            ],
            [
             31
            ],
            [
             32
            ],
            [
             33
            ],
            [
             34
            ],
            [
             35
            ],
            [
             36
            ],
            [
             37
            ],
            [
             38
            ],
            [
             39
            ],
            [
             40
            ],
            [
             41
            ],
            [
             42
            ],
            [
             43
            ],
            [
             44
            ],
            [
             45
            ],
            [
             46
            ],
            [
             47
            ],
            [
             48
            ],
            [
             49
            ],
            [
             50
            ],
            [
             51
            ],
            [
             52
            ],
            [
             53
            ],
            [
             54
            ],
            [
             55
            ],
            [
             56
            ],
            [
             57
            ],
            [
             58
            ],
            [
             59
            ],
            [
             60
            ],
            [
             61
            ],
            [
             62
            ],
            [
             63
            ],
            [
             64
            ],
            [
             65
            ],
            [
             66
            ],
            [
             67
            ],
            [
             68
            ],
            [
             69
            ],
            [
             70
            ],
            [
             71
            ],
            [
             72
            ],
            [
             73
            ],
            [
             74
            ],
            [
             75
            ],
            [
             76
            ],
            [
             77
            ],
            [
             78
            ],
            [
             79
            ],
            [
             80
            ],
            [
             81
            ],
            [
             82
            ],
            [
             83
            ],
            [
             84
            ],
            [
             85
            ],
            [
             86
            ],
            [
             87
            ],
            [
             88
            ],
            [
             89
            ],
            [
             90
            ],
            [
             91
            ],
            [
             92
            ],
            [
             93
            ],
            [
             94
            ],
            [
             95
            ],
            [
             96
            ],
            [
             97
            ],
            [
             98
            ],
            [
             99
            ],
            [
             100
            ],
            [
             101
            ],
            [
             102
            ],
            [
             103
            ],
            [
             104
            ]
           ],
           "hovertemplate": "<b>%{hovertext}</b><br><br>t=0.0<br>x=%{x}<br>y=%{y}<br>sizes=%{marker.size}<br>point_number=%{customdata[0]}<br>cluster=%{marker.color}<extra></extra>",
           "hovertext": [
            -1,
            -1,
            -1,
            -1,
            -1,
            -1,
            -1,
            -1,
            -1,
            -1,
            -1,
            -1,
            -1,
            -1,
            -1,
            -1,
            -1,
            -1,
            -1,
            -1,
            -1,
            -1,
            -1,
            -1,
            -1,
            -1,
            -1,
            -1,
            -1,
            -1,
            -1,
            -1,
            -1,
            -1,
            -1,
            -1,
            -1,
            -1,
            -1,
            -1,
            -1,
            -1,
            -1,
            -1,
            -1,
            -1,
            -1,
            -1,
            -1,
            -1,
            -1,
            -1,
            -1,
            -1,
            -1,
            -1,
            -1,
            -1,
            -1,
            -1,
            -1,
            -1,
            -1,
            -1,
            -1,
            -1,
            -1,
            -1,
            -1,
            -1,
            -1,
            -1,
            -1,
            -1,
            -1,
            -1,
            -1,
            -1,
            -1,
            -1,
            -1,
            -1,
            -1,
            -1,
            -1,
            -1,
            -1,
            -1,
            -1,
            -1,
            -1,
            -1,
            -1,
            -1,
            -1,
            -1,
            -1,
            -1,
            -1,
            -1,
            0,
            1,
            2,
            3,
            4
           ],
           "ids": [
            0,
            1,
            2,
            3,
            4,
            5,
            6,
            7,
            8,
            9,
            10,
            11,
            12,
            13,
            14,
            15,
            16,
            17,
            18,
            19,
            20,
            21,
            22,
            23,
            24,
            25,
            26,
            27,
            28,
            29,
            30,
            31,
            32,
            33,
            34,
            35,
            36,
            37,
            38,
            39,
            40,
            41,
            42,
            43,
            44,
            45,
            46,
            47,
            48,
            49,
            50,
            51,
            52,
            53,
            54,
            55,
            56,
            57,
            58,
            59,
            60,
            61,
            62,
            63,
            64,
            65,
            66,
            67,
            68,
            69,
            70,
            71,
            72,
            73,
            74,
            75,
            76,
            77,
            78,
            79,
            80,
            81,
            82,
            83,
            84,
            85,
            86,
            87,
            88,
            89,
            90,
            91,
            92,
            93,
            94,
            95,
            96,
            97,
            98,
            99,
            100,
            101,
            102,
            103,
            104
           ],
           "legendgroup": "",
           "marker": {
            "color": [
             -1,
             -1,
             -1,
             -1,
             -1,
             -1,
             -1,
             -1,
             -1,
             -1,
             -1,
             -1,
             -1,
             -1,
             -1,
             -1,
             -1,
             -1,
             -1,
             -1,
             -1,
             -1,
             -1,
             -1,
             -1,
             -1,
             -1,
             -1,
             -1,
             -1,
             -1,
             -1,
             -1,
             -1,
             -1,
             -1,
             -1,
             -1,
             -1,
             -1,
             -1,
             -1,
             -1,
             -1,
             -1,
             -1,
             -1,
             -1,
             -1,
             -1,
             -1,
             -1,
             -1,
             -1,
             -1,
             -1,
             -1,
             -1,
             -1,
             -1,
             -1,
             -1,
             -1,
             -1,
             -1,
             -1,
             -1,
             -1,
             -1,
             -1,
             -1,
             -1,
             -1,
             -1,
             -1,
             -1,
             -1,
             -1,
             -1,
             -1,
             -1,
             -1,
             -1,
             -1,
             -1,
             -1,
             -1,
             -1,
             -1,
             -1,
             -1,
             -1,
             -1,
             -1,
             -1,
             -1,
             -1,
             -1,
             -1,
             -1,
             0,
             1,
             2,
             3,
             4
            ],
            "coloraxis": "coloraxis",
            "size": [
             1,
             1,
             1,
             1,
             1,
             1,
             1,
             1,
             1,
             1,
             1,
             1,
             1,
             1,
             1,
             1,
             1,
             1,
             1,
             1,
             1,
             1,
             1,
             1,
             1,
             1,
             1,
             1,
             1,
             1,
             1,
             1,
             1,
             1,
             1,
             1,
             1,
             1,
             1,
             1,
             1,
             1,
             1,
             1,
             1,
             1,
             1,
             1,
             1,
             1,
             1,
             1,
             1,
             1,
             1,
             1,
             1,
             1,
             1,
             1,
             1,
             1,
             1,
             1,
             1,
             1,
             1,
             1,
             1,
             1,
             1,
             1,
             1,
             1,
             1,
             1,
             1,
             1,
             1,
             1,
             1,
             1,
             1,
             1,
             1,
             1,
             1,
             1,
             1,
             1,
             1,
             1,
             1,
             1,
             1,
             1,
             1,
             1,
             1,
             1,
             3,
             3,
             3,
             3,
             3
            ],
            "sizemode": "area",
            "sizeref": 0.0075,
            "symbol": "circle"
           },
           "mode": "markers",
           "name": "",
           "orientation": "v",
           "showlegend": false,
           "type": "scatter",
           "x": [
            -0.082977995297426,
            -0.4998856251826551,
            -0.35324410918288696,
            -0.3137397886223291,
            -0.10323252576933006,
            -0.0808054855967052,
            -0.29554775026848257,
            -0.47261240680207384,
            -0.08269519763287303,
            -0.35961306140476623,
            0.30074456867553667,
            -0.18657582184075716,
            0.3763891522960383,
            -0.4149557886302221,
            -0.3301695804354311,
            -0.4016531661669499,
            0.45788953015050193,
            0.19187711395047335,
            0.18650092768158366,
            -0.4817117226558082,
            0.4888610889064947,
            -0.21955600793559482,
            -0.396773993422358,
            0.40859550309309556,
            -0.21222466141365126,
            -0.4806330421297029,
            -0.28837188399994096,
            -0.00842684071966171,
            0.07411760549201307,
            0.08930553690328424,
            -0.39766557117217416,
            0.1944001577277451,
            -0.45004654105391284,
            0.16379464521978881,
            0.44459475599081333,
            0.4034019152878835,
            -0.36072365274924145,
            -0.10232316301446642,
            0.4275085803960339,
            0.25081210313615554,
            0.38330609120580983,
            0.2509424340273372,
            -0.23007210823497393,
            -0.07190881012870509,
            0.16344149781844808,
            -0.3852540270466248,
            -0.050087866520059476,
            -0.09186319723871883,
            0.4033795205622538,
            -0.49712967296884103,
            -0.17335509822790385,
            0.3859420993107745,
            0.4085351509197992,
            -0.4841787571534437,
            0.19089691751692395,
            -0.32765949165467145,
            0.43259546303716356,
            -0.4339998272779375,
            0.2538761884612464,
            0.21152475862847175,
            -0.4801198661602044,
            -0.4716935119792054,
            0.360027948682888,
            0.05282197868576588,
            -0.37582668488008886,
            0.08575927145828788,
            0.06103021925570995,
            0.30063267268061633,
            0.30710519561877914,
            0.36354185455942867,
            0.056240233990418886,
            -0.44008231048778834,
            -0.4554481214552383,
            -0.2742906613921453,
            0.05971698205414244,
            -0.4280257203105132,
            0.06810046191994212,
            -0.24767425542967658,
            -0.3045705188906812,
            0.47001998908831233,
            -0.26015224085241384,
            0.11995571838137975,
            -0.34320860535391573,
            -0.42997785628077767,
            0.10632946165333035,
            -0.18263759067783925,
            0.07974521924579692,
            0.05094821911789682,
            0.1692328934531846,
            -0.43366516557155843,
            0.12971750702156448,
            0.25275555373881387,
            -0.23968490142145904,
            -0.30656571737667226,
            0.02467030912373369,
            -0.23670322951288902,
            0.23506596328866947,
            0.40781585250352403,
            -0.486048427024403,
            0.11677835700165762,
            0.27010567154824777,
            0.24936380985976475,
            -0.06599537151525225,
            0.06258628975198394,
            0.2557088560238722
           ],
           "xaxis": "x",
           "y": [
            0.2203244934421581,
            -0.19766742736816023,
            -0.4076614052312022,
            -0.15443927295695226,
            0.038816734003356945,
            0.1852195003967595,
            0.3781174363909454,
            0.17046751017840223,
            0.05868982844575166,
            -0.3018985109151212,
            0.4682615757193975,
            0.19232261566931408,
            0.3946066635038473,
            -0.46094521676711764,
            0.37814250342941313,
            -0.07889237499494783,
            0.03316528497301707,
            -0.18448436899393705,
            0.3346256718973729,
            0.25014431494496747,
            0.2481656543798394,
            0.2892793284514885,
            -0.052106473824094834,
            -0.2063858516263205,
            -0.3699714278817223,
            0.17883553293989096,
            -0.2344533406277738,
            -0.4466374548829196,
            -0.35327142509418985,
            0.19975836002093117,
            -0.08594401218043168,
            -0.08582073047309735,
            0.035896405915511576,
            0.014889112058308562,
            0.08655504050199292,
            -0.3625252958537625,
            0.3073912887095238,
            -0.3346458028830672,
            -0.15223414025449344,
            0.22599798535045146,
            0.12367220705560888,
            -0.15110165802215747,
            0.39588621819606684,
            0.46484004714838556,
            0.12169572020912178,
            0.44948925870707124,
            0.07838961438713177,
            -0.2629730197569723,
            0.07367948667228585,
            0.11714491362072388,
            0.027058102257609296,
            -0.14273023999750023,
            0.12336011579180273,
            0.4294372337437613,
            0.4973228504514805,
            -0.36286425037112224,
            0.19681816148990017,
            0.2554630526024664,
            0.42302453554648334,
            -0.3757290380278353,
            -0.4737890131222807,
            -0.2537889323969541,
            0.03883106434165284,
            0.3420308923596057,
            -0.2208163209888605,
            0.46959574831967454,
            -0.481352710627057,
            -0.26702572615897957,
            -0.11213935593582824,
            0.24712164273718462,
            -0.363544774339315,
            -0.37865654425926265,
            -0.3925058708939071,
            0.21298898038267666,
            -0.48744401984088415,
            0.467276330000272,
            -0.2967067653390095,
            0.24382585407509294,
            0.08135892727325778,
            0.34682880149003525,
            -0.006230285731270047,
            0.32898089955017873,
            -0.4814237978225905,
            -0.01365488906296819,
            0.06885143708648134,
            0.4886161544124489,
            -0.1198588273764496,
            0.2453344309065021,
            -0.2350804423371906,
            -0.1299158020858937,
            -0.2898259900851604,
            -0.43346351864588506,
            0.3047545637433454,
            0.13946088087994013,
            0.4248079703993507,
            -0.4340389093159762,
            0.27217802954324677,
            0.4319720691968373,
            -0.2656379138785795,
            0.44901632068761643,
            0.03399191291709386,
            0.08493972536780253,
            -0.008405599741854175,
            0.029728752905137545,
            0.2512400613801637
           ],
           "yaxis": "y"
          }
         ],
         "name": "0.0"
        },
        {
         "data": [
          {
           "customdata": [
            [
             0
            ],
            [
             1
            ],
            [
             2
            ],
            [
             3
            ],
            [
             4
            ],
            [
             5
            ],
            [
             6
            ],
            [
             7
            ],
            [
             8
            ],
            [
             9
            ],
            [
             10
            ],
            [
             11
            ],
            [
             12
            ],
            [
             13
            ],
            [
             14
            ],
            [
             15
            ],
            [
             16
            ],
            [
             17
            ],
            [
             18
            ],
            [
             19
            ],
            [
             20
            ],
            [
             21
            ],
            [
             22
            ],
            [
             23
            ],
            [
             24
            ],
            [
             25
            ],
            [
             26
            ],
            [
             27
            ],
            [
             28
            ],
            [
             29
            ],
            [
             30
            ],
            [
             31
            ],
            [
             32
            ],
            [
             33
            ],
            [
             34
            ],
            [
             35
            ],
            [
             36
            ],
            [
             37
            ],
            [
             38
            ],
            [
             39
            ],
            [
             40
            ],
            [
             41
            ],
            [
             42
            ],
            [
             43
            ],
            [
             44
            ],
            [
             45
            ],
            [
             46
            ],
            [
             47
            ],
            [
             48
            ],
            [
             49
            ],
            [
             50
            ],
            [
             51
            ],
            [
             52
            ],
            [
             53
            ],
            [
             54
            ],
            [
             55
            ],
            [
             56
            ],
            [
             57
            ],
            [
             58
            ],
            [
             59
            ],
            [
             60
            ],
            [
             61
            ],
            [
             62
            ],
            [
             63
            ],
            [
             64
            ],
            [
             65
            ],
            [
             66
            ],
            [
             67
            ],
            [
             68
            ],
            [
             69
            ],
            [
             70
            ],
            [
             71
            ],
            [
             72
            ],
            [
             73
            ],
            [
             74
            ],
            [
             75
            ],
            [
             76
            ],
            [
             77
            ],
            [
             78
            ],
            [
             79
            ],
            [
             80
            ],
            [
             81
            ],
            [
             82
            ],
            [
             83
            ],
            [
             84
            ],
            [
             85
            ],
            [
             86
            ],
            [
             87
            ],
            [
             88
            ],
            [
             89
            ],
            [
             90
            ],
            [
             91
            ],
            [
             92
            ],
            [
             93
            ],
            [
             94
            ],
            [
             95
            ],
            [
             96
            ],
            [
             97
            ],
            [
             98
            ],
            [
             99
            ],
            [
             100
            ],
            [
             101
            ],
            [
             102
            ],
            [
             103
            ],
            [
             104
            ]
           ],
           "hovertemplate": "<b>%{hovertext}</b><br><br>t=1.0<br>x=%{x}<br>y=%{y}<br>sizes=%{marker.size}<br>point_number=%{customdata[0]}<br>cluster=%{marker.color}<extra></extra>",
           "hovertext": [
            2,
            2,
            2,
            2,
            2,
            2,
            2,
            2,
            2,
            2,
            4,
            2,
            4,
            2,
            2,
            2,
            0,
            0,
            4,
            2,
            4,
            2,
            2,
            0,
            2,
            2,
            2,
            2,
            2,
            3,
            2,
            0,
            2,
            3,
            0,
            0,
            2,
            2,
            0,
            4,
            1,
            0,
            2,
            4,
            1,
            2,
            2,
            2,
            0,
            2,
            2,
            0,
            1,
            2,
            4,
            2,
            4,
            2,
            4,
            0,
            2,
            2,
            0,
            4,
            2,
            4,
            2,
            0,
            0,
            4,
            2,
            2,
            2,
            2,
            2,
            2,
            2,
            2,
            2,
            4,
            2,
            4,
            2,
            2,
            3,
            4,
            3,
            4,
            3,
            2,
            3,
            0,
            2,
            2,
            4,
            2,
            4,
            4,
            2,
            4,
            0,
            1,
            2,
            3,
            4
           ],
           "ids": [
            0,
            1,
            2,
            3,
            4,
            5,
            6,
            7,
            8,
            9,
            10,
            11,
            12,
            13,
            14,
            15,
            16,
            17,
            18,
            19,
            20,
            21,
            22,
            23,
            24,
            25,
            26,
            27,
            28,
            29,
            30,
            31,
            32,
            33,
            34,
            35,
            36,
            37,
            38,
            39,
            40,
            41,
            42,
            43,
            44,
            45,
            46,
            47,
            48,
            49,
            50,
            51,
            52,
            53,
            54,
            55,
            56,
            57,
            58,
            59,
            60,
            61,
            62,
            63,
            64,
            65,
            66,
            67,
            68,
            69,
            70,
            71,
            72,
            73,
            74,
            75,
            76,
            77,
            78,
            79,
            80,
            81,
            82,
            83,
            84,
            85,
            86,
            87,
            88,
            89,
            90,
            91,
            92,
            93,
            94,
            95,
            96,
            97,
            98,
            99,
            100,
            101,
            102,
            103,
            104
           ],
           "legendgroup": "",
           "marker": {
            "color": [
             2,
             2,
             2,
             2,
             2,
             2,
             2,
             2,
             2,
             2,
             4,
             2,
             4,
             2,
             2,
             2,
             0,
             0,
             4,
             2,
             4,
             2,
             2,
             0,
             2,
             2,
             2,
             2,
             2,
             3,
             2,
             0,
             2,
             3,
             0,
             0,
             2,
             2,
             0,
             4,
             1,
             0,
             2,
             4,
             1,
             2,
             2,
             2,
             0,
             2,
             2,
             0,
             1,
             2,
             4,
             2,
             4,
             2,
             4,
             0,
             2,
             2,
             0,
             4,
             2,
             4,
             2,
             0,
             0,
             4,
             2,
             2,
             2,
             2,
             2,
             2,
             2,
             2,
             2,
             4,
             2,
             4,
             2,
             2,
             3,
             4,
             3,
             4,
             3,
             2,
             3,
             0,
             2,
             2,
             4,
             2,
             4,
             4,
             2,
             4,
             0,
             1,
             2,
             3,
             4
            ],
            "coloraxis": "coloraxis",
            "size": [
             1,
             1,
             1,
             1,
             1,
             1,
             1,
             1,
             1,
             1,
             1,
             1,
             1,
             1,
             1,
             1,
             1,
             1,
             1,
             1,
             1,
             1,
             1,
             1,
             1,
             1,
             1,
             1,
             1,
             1,
             1,
             1,
             1,
             1,
             1,
             1,
             1,
             1,
             1,
             1,
             1,
             1,
             1,
             1,
             1,
             1,
             1,
             1,
             1,
             1,
             1,
             1,
             1,
             1,
             1,
             1,
             1,
             1,
             1,
             1,
             1,
             1,
             1,
             1,
             1,
             1,
             1,
             1,
             1,
             1,
             1,
             1,
             1,
             1,
             1,
             1,
             1,
             1,
             1,
             1,
             1,
             1,
             1,
             1,
             1,
             1,
             1,
             1,
             1,
             1,
             1,
             1,
             1,
             1,
             1,
             1,
             1,
             1,
             1,
             1,
             3,
             3,
             3,
             3,
             3
            ],
            "sizemode": "area",
            "sizeref": 0.0075,
            "symbol": "circle"
           },
           "mode": "markers",
           "name": "",
           "orientation": "v",
           "showlegend": false,
           "type": "scatter",
           "x": [
            -0.082977995297426,
            -0.4998856251826551,
            -0.35324410918288696,
            -0.3137397886223291,
            -0.10323252576933006,
            -0.0808054855967052,
            -0.29554775026848257,
            -0.47261240680207384,
            -0.08269519763287303,
            -0.35961306140476623,
            0.30074456867553667,
            -0.18657582184075716,
            0.3763891522960383,
            -0.4149557886302221,
            -0.3301695804354311,
            -0.4016531661669499,
            0.45788953015050193,
            0.19187711395047335,
            0.18650092768158366,
            -0.4817117226558082,
            0.4888610889064947,
            -0.21955600793559482,
            -0.396773993422358,
            0.40859550309309556,
            -0.21222466141365126,
            -0.4806330421297029,
            -0.28837188399994096,
            -0.00842684071966171,
            0.07411760549201307,
            0.08930553690328424,
            -0.39766557117217416,
            0.1944001577277451,
            -0.45004654105391284,
            0.16379464521978881,
            0.44459475599081333,
            0.4034019152878835,
            -0.36072365274924145,
            -0.10232316301446642,
            0.4275085803960339,
            0.25081210313615554,
            0.38330609120580983,
            0.2509424340273372,
            -0.23007210823497393,
            -0.07190881012870509,
            0.16344149781844808,
            -0.3852540270466248,
            -0.050087866520059476,
            -0.09186319723871883,
            0.4033795205622538,
            -0.49712967296884103,
            -0.17335509822790385,
            0.3859420993107745,
            0.4085351509197992,
            -0.4841787571534437,
            0.19089691751692395,
            -0.32765949165467145,
            0.43259546303716356,
            -0.4339998272779375,
            0.2538761884612464,
            0.21152475862847175,
            -0.4801198661602044,
            -0.4716935119792054,
            0.360027948682888,
            0.05282197868576588,
            -0.37582668488008886,
            0.08575927145828788,
            0.06103021925570995,
            0.30063267268061633,
            0.30710519561877914,
            0.36354185455942867,
            0.056240233990418886,
            -0.44008231048778834,
            -0.4554481214552383,
            -0.2742906613921453,
            0.05971698205414244,
            -0.4280257203105132,
            0.06810046191994212,
            -0.24767425542967658,
            -0.3045705188906812,
            0.47001998908831233,
            -0.26015224085241384,
            0.11995571838137975,
            -0.34320860535391573,
            -0.42997785628077767,
            0.10632946165333035,
            -0.18263759067783925,
            0.07974521924579692,
            0.05094821911789682,
            0.1692328934531846,
            -0.43366516557155843,
            0.12971750702156448,
            0.25275555373881387,
            -0.23968490142145904,
            -0.30656571737667226,
            0.02467030912373369,
            -0.23670322951288902,
            0.23506596328866947,
            0.40781585250352403,
            -0.486048427024403,
            0.11677835700165762,
            0.27010567154824777,
            0.24936380985976475,
            -0.06599537151525225,
            0.06258628975198394,
            0.2557088560238722
           ],
           "xaxis": "x",
           "y": [
            0.2203244934421581,
            -0.19766742736816023,
            -0.4076614052312022,
            -0.15443927295695226,
            0.038816734003356945,
            0.1852195003967595,
            0.3781174363909454,
            0.17046751017840223,
            0.05868982844575166,
            -0.3018985109151212,
            0.4682615757193975,
            0.19232261566931408,
            0.3946066635038473,
            -0.46094521676711764,
            0.37814250342941313,
            -0.07889237499494783,
            0.03316528497301707,
            -0.18448436899393705,
            0.3346256718973729,
            0.25014431494496747,
            0.2481656543798394,
            0.2892793284514885,
            -0.052106473824094834,
            -0.2063858516263205,
            -0.3699714278817223,
            0.17883553293989096,
            -0.2344533406277738,
            -0.4466374548829196,
            -0.35327142509418985,
            0.19975836002093117,
            -0.08594401218043168,
            -0.08582073047309735,
            0.035896405915511576,
            0.014889112058308562,
            0.08655504050199292,
            -0.3625252958537625,
            0.3073912887095238,
            -0.3346458028830672,
            -0.15223414025449344,
            0.22599798535045146,
            0.12367220705560888,
            -0.15110165802215747,
            0.39588621819606684,
            0.46484004714838556,
            0.12169572020912178,
            0.44948925870707124,
            0.07838961438713177,
            -0.2629730197569723,
            0.07367948667228585,
            0.11714491362072388,
            0.027058102257609296,
            -0.14273023999750023,
            0.12336011579180273,
            0.4294372337437613,
            0.4973228504514805,
            -0.36286425037112224,
            0.19681816148990017,
            0.2554630526024664,
            0.42302453554648334,
            -0.3757290380278353,
            -0.4737890131222807,
            -0.2537889323969541,
            0.03883106434165284,
            0.3420308923596057,
            -0.2208163209888605,
            0.46959574831967454,
            -0.481352710627057,
            -0.26702572615897957,
            -0.11213935593582824,
            0.24712164273718462,
            -0.363544774339315,
            -0.37865654425926265,
            -0.3925058708939071,
            0.21298898038267666,
            -0.48744401984088415,
            0.467276330000272,
            -0.2967067653390095,
            0.24382585407509294,
            0.08135892727325778,
            0.34682880149003525,
            -0.006230285731270047,
            0.32898089955017873,
            -0.4814237978225905,
            -0.01365488906296819,
            0.06885143708648134,
            0.4886161544124489,
            -0.1198588273764496,
            0.2453344309065021,
            -0.2350804423371906,
            -0.1299158020858937,
            -0.2898259900851604,
            -0.43346351864588506,
            0.3047545637433454,
            0.13946088087994013,
            0.4248079703993507,
            -0.4340389093159762,
            0.27217802954324677,
            0.4319720691968373,
            -0.2656379138785795,
            0.44901632068761643,
            0.03399191291709386,
            0.08493972536780253,
            -0.008405599741854175,
            0.029728752905137545,
            0.2512400613801637
           ],
           "yaxis": "y"
          }
         ],
         "name": "1.0"
        },
        {
         "data": [
          {
           "customdata": [
            [
             0
            ],
            [
             1
            ],
            [
             2
            ],
            [
             3
            ],
            [
             4
            ],
            [
             5
            ],
            [
             6
            ],
            [
             7
            ],
            [
             8
            ],
            [
             9
            ],
            [
             10
            ],
            [
             11
            ],
            [
             12
            ],
            [
             13
            ],
            [
             14
            ],
            [
             15
            ],
            [
             16
            ],
            [
             17
            ],
            [
             18
            ],
            [
             19
            ],
            [
             20
            ],
            [
             21
            ],
            [
             22
            ],
            [
             23
            ],
            [
             24
            ],
            [
             25
            ],
            [
             26
            ],
            [
             27
            ],
            [
             28
            ],
            [
             29
            ],
            [
             30
            ],
            [
             31
            ],
            [
             32
            ],
            [
             33
            ],
            [
             34
            ],
            [
             35
            ],
            [
             36
            ],
            [
             37
            ],
            [
             38
            ],
            [
             39
            ],
            [
             40
            ],
            [
             41
            ],
            [
             42
            ],
            [
             43
            ],
            [
             44
            ],
            [
             45
            ],
            [
             46
            ],
            [
             47
            ],
            [
             48
            ],
            [
             49
            ],
            [
             50
            ],
            [
             51
            ],
            [
             52
            ],
            [
             53
            ],
            [
             54
            ],
            [
             55
            ],
            [
             56
            ],
            [
             57
            ],
            [
             58
            ],
            [
             59
            ],
            [
             60
            ],
            [
             61
            ],
            [
             62
            ],
            [
             63
            ],
            [
             64
            ],
            [
             65
            ],
            [
             66
            ],
            [
             67
            ],
            [
             68
            ],
            [
             69
            ],
            [
             70
            ],
            [
             71
            ],
            [
             72
            ],
            [
             73
            ],
            [
             74
            ],
            [
             75
            ],
            [
             76
            ],
            [
             77
            ],
            [
             78
            ],
            [
             79
            ],
            [
             80
            ],
            [
             81
            ],
            [
             82
            ],
            [
             83
            ],
            [
             84
            ],
            [
             85
            ],
            [
             86
            ],
            [
             87
            ],
            [
             88
            ],
            [
             89
            ],
            [
             90
            ],
            [
             91
            ],
            [
             92
            ],
            [
             93
            ],
            [
             94
            ],
            [
             95
            ],
            [
             96
            ],
            [
             97
            ],
            [
             98
            ],
            [
             99
            ],
            [
             100
            ],
            [
             101
            ],
            [
             102
            ],
            [
             103
            ],
            [
             104
            ]
           ],
           "hovertemplate": "<b>%{hovertext}</b><br><br>t=2.0<br>x=%{x}<br>y=%{y}<br>sizes=%{marker.size}<br>point_number=%{customdata[0]}<br>cluster=%{marker.color}<extra></extra>",
           "hovertext": [
            2,
            2,
            2,
            2,
            2,
            2,
            2,
            2,
            2,
            2,
            4,
            2,
            4,
            2,
            2,
            2,
            0,
            0,
            4,
            2,
            4,
            2,
            2,
            0,
            2,
            2,
            2,
            2,
            2,
            3,
            2,
            0,
            2,
            3,
            0,
            0,
            2,
            2,
            0,
            4,
            1,
            0,
            2,
            4,
            1,
            2,
            2,
            2,
            0,
            2,
            2,
            0,
            1,
            2,
            4,
            2,
            4,
            2,
            4,
            0,
            2,
            2,
            0,
            4,
            2,
            4,
            2,
            0,
            0,
            4,
            2,
            2,
            2,
            2,
            2,
            2,
            2,
            2,
            2,
            4,
            2,
            4,
            2,
            2,
            3,
            4,
            3,
            4,
            3,
            2,
            3,
            0,
            2,
            2,
            4,
            2,
            4,
            4,
            2,
            4,
            0,
            1,
            2,
            3,
            4
           ],
           "ids": [
            0,
            1,
            2,
            3,
            4,
            5,
            6,
            7,
            8,
            9,
            10,
            11,
            12,
            13,
            14,
            15,
            16,
            17,
            18,
            19,
            20,
            21,
            22,
            23,
            24,
            25,
            26,
            27,
            28,
            29,
            30,
            31,
            32,
            33,
            34,
            35,
            36,
            37,
            38,
            39,
            40,
            41,
            42,
            43,
            44,
            45,
            46,
            47,
            48,
            49,
            50,
            51,
            52,
            53,
            54,
            55,
            56,
            57,
            58,
            59,
            60,
            61,
            62,
            63,
            64,
            65,
            66,
            67,
            68,
            69,
            70,
            71,
            72,
            73,
            74,
            75,
            76,
            77,
            78,
            79,
            80,
            81,
            82,
            83,
            84,
            85,
            86,
            87,
            88,
            89,
            90,
            91,
            92,
            93,
            94,
            95,
            96,
            97,
            98,
            99,
            100,
            101,
            102,
            103,
            104
           ],
           "legendgroup": "",
           "marker": {
            "color": [
             2,
             2,
             2,
             2,
             2,
             2,
             2,
             2,
             2,
             2,
             4,
             2,
             4,
             2,
             2,
             2,
             0,
             0,
             4,
             2,
             4,
             2,
             2,
             0,
             2,
             2,
             2,
             2,
             2,
             3,
             2,
             0,
             2,
             3,
             0,
             0,
             2,
             2,
             0,
             4,
             1,
             0,
             2,
             4,
             1,
             2,
             2,
             2,
             0,
             2,
             2,
             0,
             1,
             2,
             4,
             2,
             4,
             2,
             4,
             0,
             2,
             2,
             0,
             4,
             2,
             4,
             2,
             0,
             0,
             4,
             2,
             2,
             2,
             2,
             2,
             2,
             2,
             2,
             2,
             4,
             2,
             4,
             2,
             2,
             3,
             4,
             3,
             4,
             3,
             2,
             3,
             0,
             2,
             2,
             4,
             2,
             4,
             4,
             2,
             4,
             0,
             1,
             2,
             3,
             4
            ],
            "coloraxis": "coloraxis",
            "size": [
             1,
             1,
             1,
             1,
             1,
             1,
             1,
             1,
             1,
             1,
             1,
             1,
             1,
             1,
             1,
             1,
             1,
             1,
             1,
             1,
             1,
             1,
             1,
             1,
             1,
             1,
             1,
             1,
             1,
             1,
             1,
             1,
             1,
             1,
             1,
             1,
             1,
             1,
             1,
             1,
             1,
             1,
             1,
             1,
             1,
             1,
             1,
             1,
             1,
             1,
             1,
             1,
             1,
             1,
             1,
             1,
             1,
             1,
             1,
             1,
             1,
             1,
             1,
             1,
             1,
             1,
             1,
             1,
             1,
             1,
             1,
             1,
             1,
             1,
             1,
             1,
             1,
             1,
             1,
             1,
             1,
             1,
             1,
             1,
             1,
             1,
             1,
             1,
             1,
             1,
             1,
             1,
             1,
             1,
             1,
             1,
             1,
             1,
             1,
             1,
             3,
             3,
             3,
             3,
             3
            ],
            "sizemode": "area",
            "sizeref": 0.0075,
            "symbol": "circle"
           },
           "mode": "markers",
           "name": "",
           "orientation": "v",
           "showlegend": false,
           "type": "scatter",
           "x": [
            -0.082977995297426,
            -0.4998856251826551,
            -0.35324410918288696,
            -0.3137397886223291,
            -0.10323252576933006,
            -0.0808054855967052,
            -0.29554775026848257,
            -0.47261240680207384,
            -0.08269519763287303,
            -0.35961306140476623,
            0.30074456867553667,
            -0.18657582184075716,
            0.3763891522960383,
            -0.4149557886302221,
            -0.3301695804354311,
            -0.4016531661669499,
            0.45788953015050193,
            0.19187711395047335,
            0.18650092768158366,
            -0.4817117226558082,
            0.4888610889064947,
            -0.21955600793559482,
            -0.396773993422358,
            0.40859550309309556,
            -0.21222466141365126,
            -0.4806330421297029,
            -0.28837188399994096,
            -0.00842684071966171,
            0.07411760549201307,
            0.08930553690328424,
            -0.39766557117217416,
            0.1944001577277451,
            -0.45004654105391284,
            0.16379464521978881,
            0.44459475599081333,
            0.4034019152878835,
            -0.36072365274924145,
            -0.10232316301446642,
            0.4275085803960339,
            0.25081210313615554,
            0.38330609120580983,
            0.2509424340273372,
            -0.23007210823497393,
            -0.07190881012870509,
            0.16344149781844808,
            -0.3852540270466248,
            -0.050087866520059476,
            -0.09186319723871883,
            0.4033795205622538,
            -0.49712967296884103,
            -0.17335509822790385,
            0.3859420993107745,
            0.4085351509197992,
            -0.4841787571534437,
            0.19089691751692395,
            -0.32765949165467145,
            0.43259546303716356,
            -0.4339998272779375,
            0.2538761884612464,
            0.21152475862847175,
            -0.4801198661602044,
            -0.4716935119792054,
            0.360027948682888,
            0.05282197868576588,
            -0.37582668488008886,
            0.08575927145828788,
            0.06103021925570995,
            0.30063267268061633,
            0.30710519561877914,
            0.36354185455942867,
            0.056240233990418886,
            -0.44008231048778834,
            -0.4554481214552383,
            -0.2742906613921453,
            0.05971698205414244,
            -0.4280257203105132,
            0.06810046191994212,
            -0.24767425542967658,
            -0.3045705188906812,
            0.47001998908831233,
            -0.26015224085241384,
            0.11995571838137975,
            -0.34320860535391573,
            -0.42997785628077767,
            0.10632946165333035,
            -0.18263759067783925,
            0.07974521924579692,
            0.05094821911789682,
            0.1692328934531846,
            -0.43366516557155843,
            0.12971750702156448,
            0.25275555373881387,
            -0.23968490142145904,
            -0.30656571737667226,
            0.02467030912373369,
            -0.23670322951288902,
            0.23506596328866947,
            0.40781585250352403,
            -0.486048427024403,
            0.11677835700165762,
            0.33337184932309877,
            0.31842757998135235,
            -0.28471960216232106,
            0.12302087724949157,
            0.20767537610566272
           ],
           "xaxis": "x",
           "y": [
            0.2203244934421581,
            -0.19766742736816023,
            -0.4076614052312022,
            -0.15443927295695226,
            0.038816734003356945,
            0.1852195003967595,
            0.3781174363909454,
            0.17046751017840223,
            0.05868982844575166,
            -0.3018985109151212,
            0.4682615757193975,
            0.19232261566931408,
            0.3946066635038473,
            -0.46094521676711764,
            0.37814250342941313,
            -0.07889237499494783,
            0.03316528497301707,
            -0.18448436899393705,
            0.3346256718973729,
            0.25014431494496747,
            0.2481656543798394,
            0.2892793284514885,
            -0.052106473824094834,
            -0.2063858516263205,
            -0.3699714278817223,
            0.17883553293989096,
            -0.2344533406277738,
            -0.4466374548829196,
            -0.35327142509418985,
            0.19975836002093117,
            -0.08594401218043168,
            -0.08582073047309735,
            0.035896405915511576,
            0.014889112058308562,
            0.08655504050199292,
            -0.3625252958537625,
            0.3073912887095238,
            -0.3346458028830672,
            -0.15223414025449344,
            0.22599798535045146,
            0.12367220705560888,
            -0.15110165802215747,
            0.39588621819606684,
            0.46484004714838556,
            0.12169572020912178,
            0.44948925870707124,
            0.07838961438713177,
            -0.2629730197569723,
            0.07367948667228585,
            0.11714491362072388,
            0.027058102257609296,
            -0.14273023999750023,
            0.12336011579180273,
            0.4294372337437613,
            0.4973228504514805,
            -0.36286425037112224,
            0.19681816148990017,
            0.2554630526024664,
            0.42302453554648334,
            -0.3757290380278353,
            -0.4737890131222807,
            -0.2537889323969541,
            0.03883106434165284,
            0.3420308923596057,
            -0.2208163209888605,
            0.46959574831967454,
            -0.481352710627057,
            -0.26702572615897957,
            -0.11213935593582824,
            0.24712164273718462,
            -0.363544774339315,
            -0.37865654425926265,
            -0.3925058708939071,
            0.21298898038267666,
            -0.48744401984088415,
            0.467276330000272,
            -0.2967067653390095,
            0.24382585407509294,
            0.08135892727325778,
            0.34682880149003525,
            -0.006230285731270047,
            0.32898089955017873,
            -0.4814237978225905,
            -0.01365488906296819,
            0.06885143708648134,
            0.4886161544124489,
            -0.1198588273764496,
            0.2453344309065021,
            -0.2350804423371906,
            -0.1299158020858937,
            -0.2898259900851604,
            -0.43346351864588506,
            0.3047545637433454,
            0.13946088087994013,
            0.4248079703993507,
            -0.4340389093159762,
            0.27217802954324677,
            0.4319720691968373,
            -0.2656379138785795,
            0.44901632068761643,
            -0.1494272698333899,
            0.12290934768551114,
            -0.051744581118816156,
            -0.06021105843884659,
            0.36500730525449193
           ],
           "yaxis": "y"
          }
         ],
         "name": "2.0"
        },
        {
         "data": [
          {
           "customdata": [
            [
             0
            ],
            [
             1
            ],
            [
             2
            ],
            [
             3
            ],
            [
             4
            ],
            [
             5
            ],
            [
             6
            ],
            [
             7
            ],
            [
             8
            ],
            [
             9
            ],
            [
             10
            ],
            [
             11
            ],
            [
             12
            ],
            [
             13
            ],
            [
             14
            ],
            [
             15
            ],
            [
             16
            ],
            [
             17
            ],
            [
             18
            ],
            [
             19
            ],
            [
             20
            ],
            [
             21
            ],
            [
             22
            ],
            [
             23
            ],
            [
             24
            ],
            [
             25
            ],
            [
             26
            ],
            [
             27
            ],
            [
             28
            ],
            [
             29
            ],
            [
             30
            ],
            [
             31
            ],
            [
             32
            ],
            [
             33
            ],
            [
             34
            ],
            [
             35
            ],
            [
             36
            ],
            [
             37
            ],
            [
             38
            ],
            [
             39
            ],
            [
             40
            ],
            [
             41
            ],
            [
             42
            ],
            [
             43
            ],
            [
             44
            ],
            [
             45
            ],
            [
             46
            ],
            [
             47
            ],
            [
             48
            ],
            [
             49
            ],
            [
             50
            ],
            [
             51
            ],
            [
             52
            ],
            [
             53
            ],
            [
             54
            ],
            [
             55
            ],
            [
             56
            ],
            [
             57
            ],
            [
             58
            ],
            [
             59
            ],
            [
             60
            ],
            [
             61
            ],
            [
             62
            ],
            [
             63
            ],
            [
             64
            ],
            [
             65
            ],
            [
             66
            ],
            [
             67
            ],
            [
             68
            ],
            [
             69
            ],
            [
             70
            ],
            [
             71
            ],
            [
             72
            ],
            [
             73
            ],
            [
             74
            ],
            [
             75
            ],
            [
             76
            ],
            [
             77
            ],
            [
             78
            ],
            [
             79
            ],
            [
             80
            ],
            [
             81
            ],
            [
             82
            ],
            [
             83
            ],
            [
             84
            ],
            [
             85
            ],
            [
             86
            ],
            [
             87
            ],
            [
             88
            ],
            [
             89
            ],
            [
             90
            ],
            [
             91
            ],
            [
             92
            ],
            [
             93
            ],
            [
             94
            ],
            [
             95
            ],
            [
             96
            ],
            [
             97
            ],
            [
             98
            ],
            [
             99
            ],
            [
             100
            ],
            [
             101
            ],
            [
             102
            ],
            [
             103
            ],
            [
             104
            ]
           ],
           "hovertemplate": "<b>%{hovertext}</b><br><br>t=3.0<br>x=%{x}<br>y=%{y}<br>sizes=%{marker.size}<br>point_number=%{customdata[0]}<br>cluster=%{marker.color}<extra></extra>",
           "hovertext": [
            4,
            2,
            2,
            2,
            2,
            2,
            2,
            2,
            2,
            2,
            4,
            2,
            4,
            2,
            2,
            2,
            1,
            3,
            4,
            2,
            1,
            2,
            2,
            0,
            2,
            2,
            2,
            3,
            3,
            4,
            2,
            3,
            2,
            3,
            1,
            0,
            2,
            2,
            0,
            1,
            1,
            0,
            4,
            4,
            1,
            2,
            3,
            2,
            1,
            2,
            2,
            0,
            1,
            2,
            4,
            2,
            1,
            2,
            4,
            0,
            2,
            2,
            1,
            4,
            2,
            4,
            3,
            0,
            0,
            1,
            3,
            2,
            2,
            2,
            3,
            2,
            3,
            2,
            2,
            4,
            2,
            4,
            2,
            2,
            3,
            4,
            3,
            4,
            3,
            2,
            3,
            0,
            2,
            2,
            4,
            2,
            4,
            4,
            2,
            4,
            0,
            1,
            2,
            3,
            4
           ],
           "ids": [
            0,
            1,
            2,
            3,
            4,
            5,
            6,
            7,
            8,
            9,
            10,
            11,
            12,
            13,
            14,
            15,
            16,
            17,
            18,
            19,
            20,
            21,
            22,
            23,
            24,
            25,
            26,
            27,
            28,
            29,
            30,
            31,
            32,
            33,
            34,
            35,
            36,
            37,
            38,
            39,
            40,
            41,
            42,
            43,
            44,
            45,
            46,
            47,
            48,
            49,
            50,
            51,
            52,
            53,
            54,
            55,
            56,
            57,
            58,
            59,
            60,
            61,
            62,
            63,
            64,
            65,
            66,
            67,
            68,
            69,
            70,
            71,
            72,
            73,
            74,
            75,
            76,
            77,
            78,
            79,
            80,
            81,
            82,
            83,
            84,
            85,
            86,
            87,
            88,
            89,
            90,
            91,
            92,
            93,
            94,
            95,
            96,
            97,
            98,
            99,
            100,
            101,
            102,
            103,
            104
           ],
           "legendgroup": "",
           "marker": {
            "color": [
             4,
             2,
             2,
             2,
             2,
             2,
             2,
             2,
             2,
             2,
             4,
             2,
             4,
             2,
             2,
             2,
             1,
             3,
             4,
             2,
             1,
             2,
             2,
             0,
             2,
             2,
             2,
             3,
             3,
             4,
             2,
             3,
             2,
             3,
             1,
             0,
             2,
             2,
             0,
             1,
             1,
             0,
             4,
             4,
             1,
             2,
             3,
             2,
             1,
             2,
             2,
             0,
             1,
             2,
             4,
             2,
             1,
             2,
             4,
             0,
             2,
             2,
             1,
             4,
             2,
             4,
             3,
             0,
             0,
             1,
             3,
             2,
             2,
             2,
             3,
             2,
             3,
             2,
             2,
             4,
             2,
             4,
             2,
             2,
             3,
             4,
             3,
             4,
             3,
             2,
             3,
             0,
             2,
             2,
             4,
             2,
             4,
             4,
             2,
             4,
             0,
             1,
             2,
             3,
             4
            ],
            "coloraxis": "coloraxis",
            "size": [
             1,
             1,
             1,
             1,
             1,
             1,
             1,
             1,
             1,
             1,
             1,
             1,
             1,
             1,
             1,
             1,
             1,
             1,
             1,
             1,
             1,
             1,
             1,
             1,
             1,
             1,
             1,
             1,
             1,
             1,
             1,
             1,
             1,
             1,
             1,
             1,
             1,
             1,
             1,
             1,
             1,
             1,
             1,
             1,
             1,
             1,
             1,
             1,
             1,
             1,
             1,
             1,
             1,
             1,
             1,
             1,
             1,
             1,
             1,
             1,
             1,
             1,
             1,
             1,
             1,
             1,
             1,
             1,
             1,
             1,
             1,
             1,
             1,
             1,
             1,
             1,
             1,
             1,
             1,
             1,
             1,
             1,
             1,
             1,
             1,
             1,
             1,
             1,
             1,
             1,
             1,
             1,
             1,
             1,
             1,
             1,
             1,
             1,
             1,
             1,
             3,
             3,
             3,
             3,
             3
            ],
            "sizemode": "area",
            "sizeref": 0.0075,
            "symbol": "circle"
           },
           "mode": "markers",
           "name": "",
           "orientation": "v",
           "showlegend": false,
           "type": "scatter",
           "x": [
            -0.082977995297426,
            -0.4998856251826551,
            -0.35324410918288696,
            -0.3137397886223291,
            -0.10323252576933006,
            -0.0808054855967052,
            -0.29554775026848257,
            -0.47261240680207384,
            -0.08269519763287303,
            -0.35961306140476623,
            0.30074456867553667,
            -0.18657582184075716,
            0.3763891522960383,
            -0.4149557886302221,
            -0.3301695804354311,
            -0.4016531661669499,
            0.45788953015050193,
            0.19187711395047335,
            0.18650092768158366,
            -0.4817117226558082,
            0.4888610889064947,
            -0.21955600793559482,
            -0.396773993422358,
            0.40859550309309556,
            -0.21222466141365126,
            -0.4806330421297029,
            -0.28837188399994096,
            -0.00842684071966171,
            0.07411760549201307,
            0.08930553690328424,
            -0.39766557117217416,
            0.1944001577277451,
            -0.45004654105391284,
            0.16379464521978881,
            0.44459475599081333,
            0.4034019152878835,
            -0.36072365274924145,
            -0.10232316301446642,
            0.4275085803960339,
            0.25081210313615554,
            0.38330609120580983,
            0.2509424340273372,
            -0.23007210823497393,
            -0.07190881012870509,
            0.16344149781844808,
            -0.3852540270466248,
            -0.050087866520059476,
            -0.09186319723871883,
            0.4033795205622538,
            -0.49712967296884103,
            -0.17335509822790385,
            0.3859420993107745,
            0.4085351509197992,
            -0.4841787571534437,
            0.19089691751692395,
            -0.32765949165467145,
            0.43259546303716356,
            -0.4339998272779375,
            0.2538761884612464,
            0.21152475862847175,
            -0.4801198661602044,
            -0.4716935119792054,
            0.360027948682888,
            0.05282197868576588,
            -0.37582668488008886,
            0.08575927145828788,
            0.06103021925570995,
            0.30063267268061633,
            0.30710519561877914,
            0.36354185455942867,
            0.056240233990418886,
            -0.44008231048778834,
            -0.4554481214552383,
            -0.2742906613921453,
            0.05971698205414244,
            -0.4280257203105132,
            0.06810046191994212,
            -0.24767425542967658,
            -0.3045705188906812,
            0.47001998908831233,
            -0.26015224085241384,
            0.11995571838137975,
            -0.34320860535391573,
            -0.42997785628077767,
            0.10632946165333035,
            -0.18263759067783925,
            0.07974521924579692,
            0.05094821911789682,
            0.1692328934531846,
            -0.43366516557155843,
            0.12971750702156448,
            0.25275555373881387,
            -0.23968490142145904,
            -0.30656571737667226,
            0.02467030912373369,
            -0.23670322951288902,
            0.23506596328866947,
            0.40781585250352403,
            -0.486048427024403,
            0.11677835700165762,
            0.33337184932309877,
            0.31842757998135235,
            -0.28471960216232106,
            0.12302087724949157,
            0.20767537610566272
           ],
           "xaxis": "x",
           "y": [
            0.2203244934421581,
            -0.19766742736816023,
            -0.4076614052312022,
            -0.15443927295695226,
            0.038816734003356945,
            0.1852195003967595,
            0.3781174363909454,
            0.17046751017840223,
            0.05868982844575166,
            -0.3018985109151212,
            0.4682615757193975,
            0.19232261566931408,
            0.3946066635038473,
            -0.46094521676711764,
            0.37814250342941313,
            -0.07889237499494783,
            0.03316528497301707,
            -0.18448436899393705,
            0.3346256718973729,
            0.25014431494496747,
            0.2481656543798394,
            0.2892793284514885,
            -0.052106473824094834,
            -0.2063858516263205,
            -0.3699714278817223,
            0.17883553293989096,
            -0.2344533406277738,
            -0.4466374548829196,
            -0.35327142509418985,
            0.19975836002093117,
            -0.08594401218043168,
            -0.08582073047309735,
            0.035896405915511576,
            0.014889112058308562,
            0.08655504050199292,
            -0.3625252958537625,
            0.3073912887095238,
            -0.3346458028830672,
            -0.15223414025449344,
            0.22599798535045146,
            0.12367220705560888,
            -0.15110165802215747,
            0.39588621819606684,
            0.46484004714838556,
            0.12169572020912178,
            0.44948925870707124,
            0.07838961438713177,
            -0.2629730197569723,
            0.07367948667228585,
            0.11714491362072388,
            0.027058102257609296,
            -0.14273023999750023,
            0.12336011579180273,
            0.4294372337437613,
            0.4973228504514805,
            -0.36286425037112224,
            0.19681816148990017,
            0.2554630526024664,
            0.42302453554648334,
            -0.3757290380278353,
            -0.4737890131222807,
            -0.2537889323969541,
            0.03883106434165284,
            0.3420308923596057,
            -0.2208163209888605,
            0.46959574831967454,
            -0.481352710627057,
            -0.26702572615897957,
            -0.11213935593582824,
            0.24712164273718462,
            -0.363544774339315,
            -0.37865654425926265,
            -0.3925058708939071,
            0.21298898038267666,
            -0.48744401984088415,
            0.467276330000272,
            -0.2967067653390095,
            0.24382585407509294,
            0.08135892727325778,
            0.34682880149003525,
            -0.006230285731270047,
            0.32898089955017873,
            -0.4814237978225905,
            -0.01365488906296819,
            0.06885143708648134,
            0.4886161544124489,
            -0.1198588273764496,
            0.2453344309065021,
            -0.2350804423371906,
            -0.1299158020858937,
            -0.2898259900851604,
            -0.43346351864588506,
            0.3047545637433454,
            0.13946088087994013,
            0.4248079703993507,
            -0.4340389093159762,
            0.27217802954324677,
            0.4319720691968373,
            -0.2656379138785795,
            0.44901632068761643,
            -0.1494272698333899,
            0.12290934768551114,
            -0.051744581118816156,
            -0.06021105843884659,
            0.36500730525449193
           ],
           "yaxis": "y"
          }
         ],
         "name": "3.0"
        },
        {
         "data": [
          {
           "customdata": [
            [
             0
            ],
            [
             1
            ],
            [
             2
            ],
            [
             3
            ],
            [
             4
            ],
            [
             5
            ],
            [
             6
            ],
            [
             7
            ],
            [
             8
            ],
            [
             9
            ],
            [
             10
            ],
            [
             11
            ],
            [
             12
            ],
            [
             13
            ],
            [
             14
            ],
            [
             15
            ],
            [
             16
            ],
            [
             17
            ],
            [
             18
            ],
            [
             19
            ],
            [
             20
            ],
            [
             21
            ],
            [
             22
            ],
            [
             23
            ],
            [
             24
            ],
            [
             25
            ],
            [
             26
            ],
            [
             27
            ],
            [
             28
            ],
            [
             29
            ],
            [
             30
            ],
            [
             31
            ],
            [
             32
            ],
            [
             33
            ],
            [
             34
            ],
            [
             35
            ],
            [
             36
            ],
            [
             37
            ],
            [
             38
            ],
            [
             39
            ],
            [
             40
            ],
            [
             41
            ],
            [
             42
            ],
            [
             43
            ],
            [
             44
            ],
            [
             45
            ],
            [
             46
            ],
            [
             47
            ],
            [
             48
            ],
            [
             49
            ],
            [
             50
            ],
            [
             51
            ],
            [
             52
            ],
            [
             53
            ],
            [
             54
            ],
            [
             55
            ],
            [
             56
            ],
            [
             57
            ],
            [
             58
            ],
            [
             59
            ],
            [
             60
            ],
            [
             61
            ],
            [
             62
            ],
            [
             63
            ],
            [
             64
            ],
            [
             65
            ],
            [
             66
            ],
            [
             67
            ],
            [
             68
            ],
            [
             69
            ],
            [
             70
            ],
            [
             71
            ],
            [
             72
            ],
            [
             73
            ],
            [
             74
            ],
            [
             75
            ],
            [
             76
            ],
            [
             77
            ],
            [
             78
            ],
            [
             79
            ],
            [
             80
            ],
            [
             81
            ],
            [
             82
            ],
            [
             83
            ],
            [
             84
            ],
            [
             85
            ],
            [
             86
            ],
            [
             87
            ],
            [
             88
            ],
            [
             89
            ],
            [
             90
            ],
            [
             91
            ],
            [
             92
            ],
            [
             93
            ],
            [
             94
            ],
            [
             95
            ],
            [
             96
            ],
            [
             97
            ],
            [
             98
            ],
            [
             99
            ],
            [
             100
            ],
            [
             101
            ],
            [
             102
            ],
            [
             103
            ],
            [
             104
            ]
           ],
           "hovertemplate": "<b>%{hovertext}</b><br><br>t=4.0<br>x=%{x}<br>y=%{y}<br>sizes=%{marker.size}<br>point_number=%{customdata[0]}<br>cluster=%{marker.color}<extra></extra>",
           "hovertext": [
            4,
            2,
            2,
            2,
            2,
            2,
            2,
            2,
            2,
            2,
            4,
            2,
            4,
            2,
            2,
            2,
            1,
            3,
            4,
            2,
            1,
            2,
            2,
            0,
            2,
            2,
            2,
            3,
            3,
            4,
            2,
            3,
            2,
            3,
            1,
            0,
            2,
            2,
            0,
            1,
            1,
            0,
            4,
            4,
            1,
            2,
            3,
            2,
            1,
            2,
            2,
            0,
            1,
            2,
            4,
            2,
            1,
            2,
            4,
            0,
            2,
            2,
            1,
            4,
            2,
            4,
            3,
            0,
            0,
            1,
            3,
            2,
            2,
            2,
            3,
            2,
            3,
            2,
            2,
            4,
            2,
            4,
            2,
            2,
            3,
            4,
            3,
            4,
            3,
            2,
            3,
            0,
            2,
            2,
            4,
            2,
            4,
            4,
            2,
            4,
            0,
            1,
            2,
            3,
            4
           ],
           "ids": [
            0,
            1,
            2,
            3,
            4,
            5,
            6,
            7,
            8,
            9,
            10,
            11,
            12,
            13,
            14,
            15,
            16,
            17,
            18,
            19,
            20,
            21,
            22,
            23,
            24,
            25,
            26,
            27,
            28,
            29,
            30,
            31,
            32,
            33,
            34,
            35,
            36,
            37,
            38,
            39,
            40,
            41,
            42,
            43,
            44,
            45,
            46,
            47,
            48,
            49,
            50,
            51,
            52,
            53,
            54,
            55,
            56,
            57,
            58,
            59,
            60,
            61,
            62,
            63,
            64,
            65,
            66,
            67,
            68,
            69,
            70,
            71,
            72,
            73,
            74,
            75,
            76,
            77,
            78,
            79,
            80,
            81,
            82,
            83,
            84,
            85,
            86,
            87,
            88,
            89,
            90,
            91,
            92,
            93,
            94,
            95,
            96,
            97,
            98,
            99,
            100,
            101,
            102,
            103,
            104
           ],
           "legendgroup": "",
           "marker": {
            "color": [
             4,
             2,
             2,
             2,
             2,
             2,
             2,
             2,
             2,
             2,
             4,
             2,
             4,
             2,
             2,
             2,
             1,
             3,
             4,
             2,
             1,
             2,
             2,
             0,
             2,
             2,
             2,
             3,
             3,
             4,
             2,
             3,
             2,
             3,
             1,
             0,
             2,
             2,
             0,
             1,
             1,
             0,
             4,
             4,
             1,
             2,
             3,
             2,
             1,
             2,
             2,
             0,
             1,
             2,
             4,
             2,
             1,
             2,
             4,
             0,
             2,
             2,
             1,
             4,
             2,
             4,
             3,
             0,
             0,
             1,
             3,
             2,
             2,
             2,
             3,
             2,
             3,
             2,
             2,
             4,
             2,
             4,
             2,
             2,
             3,
             4,
             3,
             4,
             3,
             2,
             3,
             0,
             2,
             2,
             4,
             2,
             4,
             4,
             2,
             4,
             0,
             1,
             2,
             3,
             4
            ],
            "coloraxis": "coloraxis",
            "size": [
             1,
             1,
             1,
             1,
             1,
             1,
             1,
             1,
             1,
             1,
             1,
             1,
             1,
             1,
             1,
             1,
             1,
             1,
             1,
             1,
             1,
             1,
             1,
             1,
             1,
             1,
             1,
             1,
             1,
             1,
             1,
             1,
             1,
             1,
             1,
             1,
             1,
             1,
             1,
             1,
             1,
             1,
             1,
             1,
             1,
             1,
             1,
             1,
             1,
             1,
             1,
             1,
             1,
             1,
             1,
             1,
             1,
             1,
             1,
             1,
             1,
             1,
             1,
             1,
             1,
             1,
             1,
             1,
             1,
             1,
             1,
             1,
             1,
             1,
             1,
             1,
             1,
             1,
             1,
             1,
             1,
             1,
             1,
             1,
             1,
             1,
             1,
             1,
             1,
             1,
             1,
             1,
             1,
             1,
             1,
             1,
             1,
             1,
             1,
             1,
             3,
             3,
             3,
             3,
             3
            ],
            "sizemode": "area",
            "sizeref": 0.0075,
            "symbol": "circle"
           },
           "mode": "markers",
           "name": "",
           "orientation": "v",
           "showlegend": false,
           "type": "scatter",
           "x": [
            -0.082977995297426,
            -0.4998856251826551,
            -0.35324410918288696,
            -0.3137397886223291,
            -0.10323252576933006,
            -0.0808054855967052,
            -0.29554775026848257,
            -0.47261240680207384,
            -0.08269519763287303,
            -0.35961306140476623,
            0.30074456867553667,
            -0.18657582184075716,
            0.3763891522960383,
            -0.4149557886302221,
            -0.3301695804354311,
            -0.4016531661669499,
            0.45788953015050193,
            0.19187711395047335,
            0.18650092768158366,
            -0.4817117226558082,
            0.4888610889064947,
            -0.21955600793559482,
            -0.396773993422358,
            0.40859550309309556,
            -0.21222466141365126,
            -0.4806330421297029,
            -0.28837188399994096,
            -0.00842684071966171,
            0.07411760549201307,
            0.08930553690328424,
            -0.39766557117217416,
            0.1944001577277451,
            -0.45004654105391284,
            0.16379464521978881,
            0.44459475599081333,
            0.4034019152878835,
            -0.36072365274924145,
            -0.10232316301446642,
            0.4275085803960339,
            0.25081210313615554,
            0.38330609120580983,
            0.2509424340273372,
            -0.23007210823497393,
            -0.07190881012870509,
            0.16344149781844808,
            -0.3852540270466248,
            -0.050087866520059476,
            -0.09186319723871883,
            0.4033795205622538,
            -0.49712967296884103,
            -0.17335509822790385,
            0.3859420993107745,
            0.4085351509197992,
            -0.4841787571534437,
            0.19089691751692395,
            -0.32765949165467145,
            0.43259546303716356,
            -0.4339998272779375,
            0.2538761884612464,
            0.21152475862847175,
            -0.4801198661602044,
            -0.4716935119792054,
            0.360027948682888,
            0.05282197868576588,
            -0.37582668488008886,
            0.08575927145828788,
            0.06103021925570995,
            0.30063267268061633,
            0.30710519561877914,
            0.36354185455942867,
            0.056240233990418886,
            -0.44008231048778834,
            -0.4554481214552383,
            -0.2742906613921453,
            0.05971698205414244,
            -0.4280257203105132,
            0.06810046191994212,
            -0.24767425542967658,
            -0.3045705188906812,
            0.47001998908831233,
            -0.26015224085241384,
            0.11995571838137975,
            -0.34320860535391573,
            -0.42997785628077767,
            0.10632946165333035,
            -0.18263759067783925,
            0.07974521924579692,
            0.05094821911789682,
            0.1692328934531846,
            -0.43366516557155843,
            0.12971750702156448,
            0.25275555373881387,
            -0.23968490142145904,
            -0.30656571737667226,
            0.02467030912373369,
            -0.23670322951288902,
            0.23506596328866947,
            0.40781585250352403,
            -0.486048427024403,
            0.11677835700165762,
            0.32760096808686734,
            0.37790772772452336,
            -0.33812634921340606,
            0.09255627098174209,
            0.1259974971497314
           ],
           "xaxis": "x",
           "y": [
            0.2203244934421581,
            -0.19766742736816023,
            -0.4076614052312022,
            -0.15443927295695226,
            0.038816734003356945,
            0.1852195003967595,
            0.3781174363909454,
            0.17046751017840223,
            0.05868982844575166,
            -0.3018985109151212,
            0.4682615757193975,
            0.19232261566931408,
            0.3946066635038473,
            -0.46094521676711764,
            0.37814250342941313,
            -0.07889237499494783,
            0.03316528497301707,
            -0.18448436899393705,
            0.3346256718973729,
            0.25014431494496747,
            0.2481656543798394,
            0.2892793284514885,
            -0.052106473824094834,
            -0.2063858516263205,
            -0.3699714278817223,
            0.17883553293989096,
            -0.2344533406277738,
            -0.4466374548829196,
            -0.35327142509418985,
            0.19975836002093117,
            -0.08594401218043168,
            -0.08582073047309735,
            0.035896405915511576,
            0.014889112058308562,
            0.08655504050199292,
            -0.3625252958537625,
            0.3073912887095238,
            -0.3346458028830672,
            -0.15223414025449344,
            0.22599798535045146,
            0.12367220705560888,
            -0.15110165802215747,
            0.39588621819606684,
            0.46484004714838556,
            0.12169572020912178,
            0.44948925870707124,
            0.07838961438713177,
            -0.2629730197569723,
            0.07367948667228585,
            0.11714491362072388,
            0.027058102257609296,
            -0.14273023999750023,
            0.12336011579180273,
            0.4294372337437613,
            0.4973228504514805,
            -0.36286425037112224,
            0.19681816148990017,
            0.2554630526024664,
            0.42302453554648334,
            -0.3757290380278353,
            -0.4737890131222807,
            -0.2537889323969541,
            0.03883106434165284,
            0.3420308923596057,
            -0.2208163209888605,
            0.46959574831967454,
            -0.481352710627057,
            -0.26702572615897957,
            -0.11213935593582824,
            0.24712164273718462,
            -0.363544774339315,
            -0.37865654425926265,
            -0.3925058708939071,
            0.21298898038267666,
            -0.48744401984088415,
            0.467276330000272,
            -0.2967067653390095,
            0.24382585407509294,
            0.08135892727325778,
            0.34682880149003525,
            -0.006230285731270047,
            0.32898089955017873,
            -0.4814237978225905,
            -0.01365488906296819,
            0.06885143708648134,
            0.4886161544124489,
            -0.1198588273764496,
            0.2453344309065021,
            -0.2350804423371906,
            -0.1299158020858937,
            -0.2898259900851604,
            -0.43346351864588506,
            0.3047545637433454,
            0.13946088087994013,
            0.4248079703993507,
            -0.4340389093159762,
            0.27217802954324677,
            0.4319720691968373,
            -0.2656379138785795,
            0.44901632068761643,
            -0.24481498050252914,
            0.1380965785002598,
            -0.024751908905440143,
            -0.22727838184694918,
            0.37884272277850634
           ],
           "yaxis": "y"
          }
         ],
         "name": "4.0"
        },
        {
         "data": [
          {
           "customdata": [
            [
             0
            ],
            [
             1
            ],
            [
             2
            ],
            [
             3
            ],
            [
             4
            ],
            [
             5
            ],
            [
             6
            ],
            [
             7
            ],
            [
             8
            ],
            [
             9
            ],
            [
             10
            ],
            [
             11
            ],
            [
             12
            ],
            [
             13
            ],
            [
             14
            ],
            [
             15
            ],
            [
             16
            ],
            [
             17
            ],
            [
             18
            ],
            [
             19
            ],
            [
             20
            ],
            [
             21
            ],
            [
             22
            ],
            [
             23
            ],
            [
             24
            ],
            [
             25
            ],
            [
             26
            ],
            [
             27
            ],
            [
             28
            ],
            [
             29
            ],
            [
             30
            ],
            [
             31
            ],
            [
             32
            ],
            [
             33
            ],
            [
             34
            ],
            [
             35
            ],
            [
             36
            ],
            [
             37
            ],
            [
             38
            ],
            [
             39
            ],
            [
             40
            ],
            [
             41
            ],
            [
             42
            ],
            [
             43
            ],
            [
             44
            ],
            [
             45
            ],
            [
             46
            ],
            [
             47
            ],
            [
             48
            ],
            [
             49
            ],
            [
             50
            ],
            [
             51
            ],
            [
             52
            ],
            [
             53
            ],
            [
             54
            ],
            [
             55
            ],
            [
             56
            ],
            [
             57
            ],
            [
             58
            ],
            [
             59
            ],
            [
             60
            ],
            [
             61
            ],
            [
             62
            ],
            [
             63
            ],
            [
             64
            ],
            [
             65
            ],
            [
             66
            ],
            [
             67
            ],
            [
             68
            ],
            [
             69
            ],
            [
             70
            ],
            [
             71
            ],
            [
             72
            ],
            [
             73
            ],
            [
             74
            ],
            [
             75
            ],
            [
             76
            ],
            [
             77
            ],
            [
             78
            ],
            [
             79
            ],
            [
             80
            ],
            [
             81
            ],
            [
             82
            ],
            [
             83
            ],
            [
             84
            ],
            [
             85
            ],
            [
             86
            ],
            [
             87
            ],
            [
             88
            ],
            [
             89
            ],
            [
             90
            ],
            [
             91
            ],
            [
             92
            ],
            [
             93
            ],
            [
             94
            ],
            [
             95
            ],
            [
             96
            ],
            [
             97
            ],
            [
             98
            ],
            [
             99
            ],
            [
             100
            ],
            [
             101
            ],
            [
             102
            ],
            [
             103
            ],
            [
             104
            ]
           ],
           "hovertemplate": "<b>%{hovertext}</b><br><br>t=5.0<br>x=%{x}<br>y=%{y}<br>sizes=%{marker.size}<br>point_number=%{customdata[0]}<br>cluster=%{marker.color}<extra></extra>",
           "hovertext": [
            4,
            2,
            2,
            2,
            2,
            4,
            2,
            2,
            2,
            2,
            4,
            2,
            4,
            2,
            2,
            2,
            1,
            3,
            4,
            2,
            1,
            2,
            2,
            0,
            3,
            2,
            2,
            3,
            3,
            4,
            2,
            3,
            2,
            1,
            1,
            0,
            2,
            3,
            0,
            1,
            1,
            0,
            4,
            4,
            1,
            2,
            2,
            3,
            1,
            2,
            2,
            0,
            1,
            2,
            4,
            2,
            1,
            2,
            4,
            0,
            2,
            2,
            1,
            4,
            2,
            4,
            3,
            0,
            0,
            1,
            3,
            2,
            2,
            2,
            3,
            2,
            3,
            2,
            2,
            1,
            2,
            4,
            2,
            2,
            1,
            4,
            3,
            4,
            3,
            2,
            3,
            0,
            2,
            2,
            4,
            3,
            4,
            4,
            2,
            4,
            0,
            1,
            2,
            3,
            4
           ],
           "ids": [
            0,
            1,
            2,
            3,
            4,
            5,
            6,
            7,
            8,
            9,
            10,
            11,
            12,
            13,
            14,
            15,
            16,
            17,
            18,
            19,
            20,
            21,
            22,
            23,
            24,
            25,
            26,
            27,
            28,
            29,
            30,
            31,
            32,
            33,
            34,
            35,
            36,
            37,
            38,
            39,
            40,
            41,
            42,
            43,
            44,
            45,
            46,
            47,
            48,
            49,
            50,
            51,
            52,
            53,
            54,
            55,
            56,
            57,
            58,
            59,
            60,
            61,
            62,
            63,
            64,
            65,
            66,
            67,
            68,
            69,
            70,
            71,
            72,
            73,
            74,
            75,
            76,
            77,
            78,
            79,
            80,
            81,
            82,
            83,
            84,
            85,
            86,
            87,
            88,
            89,
            90,
            91,
            92,
            93,
            94,
            95,
            96,
            97,
            98,
            99,
            100,
            101,
            102,
            103,
            104
           ],
           "legendgroup": "",
           "marker": {
            "color": [
             4,
             2,
             2,
             2,
             2,
             4,
             2,
             2,
             2,
             2,
             4,
             2,
             4,
             2,
             2,
             2,
             1,
             3,
             4,
             2,
             1,
             2,
             2,
             0,
             3,
             2,
             2,
             3,
             3,
             4,
             2,
             3,
             2,
             1,
             1,
             0,
             2,
             3,
             0,
             1,
             1,
             0,
             4,
             4,
             1,
             2,
             2,
             3,
             1,
             2,
             2,
             0,
             1,
             2,
             4,
             2,
             1,
             2,
             4,
             0,
             2,
             2,
             1,
             4,
             2,
             4,
             3,
             0,
             0,
             1,
             3,
             2,
             2,
             2,
             3,
             2,
             3,
             2,
             2,
             1,
             2,
             4,
             2,
             2,
             1,
             4,
             3,
             4,
             3,
             2,
             3,
             0,
             2,
             2,
             4,
             3,
             4,
             4,
             2,
             4,
             0,
             1,
             2,
             3,
             4
            ],
            "coloraxis": "coloraxis",
            "size": [
             1,
             1,
             1,
             1,
             1,
             1,
             1,
             1,
             1,
             1,
             1,
             1,
             1,
             1,
             1,
             1,
             1,
             1,
             1,
             1,
             1,
             1,
             1,
             1,
             1,
             1,
             1,
             1,
             1,
             1,
             1,
             1,
             1,
             1,
             1,
             1,
             1,
             1,
             1,
             1,
             1,
             1,
             1,
             1,
             1,
             1,
             1,
             1,
             1,
             1,
             1,
             1,
             1,
             1,
             1,
             1,
             1,
             1,
             1,
             1,
             1,
             1,
             1,
             1,
             1,
             1,
             1,
             1,
             1,
             1,
             1,
             1,
             1,
             1,
             1,
             1,
             1,
             1,
             1,
             1,
             1,
             1,
             1,
             1,
             1,
             1,
             1,
             1,
             1,
             1,
             1,
             1,
             1,
             1,
             1,
             1,
             1,
             1,
             1,
             1,
             3,
             3,
             3,
             3,
             3
            ],
            "sizemode": "area",
            "sizeref": 0.0075,
            "symbol": "circle"
           },
           "mode": "markers",
           "name": "",
           "orientation": "v",
           "showlegend": false,
           "type": "scatter",
           "x": [
            -0.082977995297426,
            -0.4998856251826551,
            -0.35324410918288696,
            -0.3137397886223291,
            -0.10323252576933006,
            -0.0808054855967052,
            -0.29554775026848257,
            -0.47261240680207384,
            -0.08269519763287303,
            -0.35961306140476623,
            0.30074456867553667,
            -0.18657582184075716,
            0.3763891522960383,
            -0.4149557886302221,
            -0.3301695804354311,
            -0.4016531661669499,
            0.45788953015050193,
            0.19187711395047335,
            0.18650092768158366,
            -0.4817117226558082,
            0.4888610889064947,
            -0.21955600793559482,
            -0.396773993422358,
            0.40859550309309556,
            -0.21222466141365126,
            -0.4806330421297029,
            -0.28837188399994096,
            -0.00842684071966171,
            0.07411760549201307,
            0.08930553690328424,
            -0.39766557117217416,
            0.1944001577277451,
            -0.45004654105391284,
            0.16379464521978881,
            0.44459475599081333,
            0.4034019152878835,
            -0.36072365274924145,
            -0.10232316301446642,
            0.4275085803960339,
            0.25081210313615554,
            0.38330609120580983,
            0.2509424340273372,
            -0.23007210823497393,
            -0.07190881012870509,
            0.16344149781844808,
            -0.3852540270466248,
            -0.050087866520059476,
            -0.09186319723871883,
            0.4033795205622538,
            -0.49712967296884103,
            -0.17335509822790385,
            0.3859420993107745,
            0.4085351509197992,
            -0.4841787571534437,
            0.19089691751692395,
            -0.32765949165467145,
            0.43259546303716356,
            -0.4339998272779375,
            0.2538761884612464,
            0.21152475862847175,
            -0.4801198661602044,
            -0.4716935119792054,
            0.360027948682888,
            0.05282197868576588,
            -0.37582668488008886,
            0.08575927145828788,
            0.06103021925570995,
            0.30063267268061633,
            0.30710519561877914,
            0.36354185455942867,
            0.056240233990418886,
            -0.44008231048778834,
            -0.4554481214552383,
            -0.2742906613921453,
            0.05971698205414244,
            -0.4280257203105132,
            0.06810046191994212,
            -0.24767425542967658,
            -0.3045705188906812,
            0.47001998908831233,
            -0.26015224085241384,
            0.11995571838137975,
            -0.34320860535391573,
            -0.42997785628077767,
            0.10632946165333035,
            -0.18263759067783925,
            0.07974521924579692,
            0.05094821911789682,
            0.1692328934531846,
            -0.43366516557155843,
            0.12971750702156448,
            0.25275555373881387,
            -0.23968490142145904,
            -0.30656571737667226,
            0.02467030912373369,
            -0.23670322951288902,
            0.23506596328866947,
            0.40781585250352403,
            -0.486048427024403,
            0.11677835700165762,
            0.32760096808686734,
            0.37790772772452336,
            -0.33812634921340606,
            0.09255627098174209,
            0.1259974971497314
           ],
           "xaxis": "x",
           "y": [
            0.2203244934421581,
            -0.19766742736816023,
            -0.4076614052312022,
            -0.15443927295695226,
            0.038816734003356945,
            0.1852195003967595,
            0.3781174363909454,
            0.17046751017840223,
            0.05868982844575166,
            -0.3018985109151212,
            0.4682615757193975,
            0.19232261566931408,
            0.3946066635038473,
            -0.46094521676711764,
            0.37814250342941313,
            -0.07889237499494783,
            0.03316528497301707,
            -0.18448436899393705,
            0.3346256718973729,
            0.25014431494496747,
            0.2481656543798394,
            0.2892793284514885,
            -0.052106473824094834,
            -0.2063858516263205,
            -0.3699714278817223,
            0.17883553293989096,
            -0.2344533406277738,
            -0.4466374548829196,
            -0.35327142509418985,
            0.19975836002093117,
            -0.08594401218043168,
            -0.08582073047309735,
            0.035896405915511576,
            0.014889112058308562,
            0.08655504050199292,
            -0.3625252958537625,
            0.3073912887095238,
            -0.3346458028830672,
            -0.15223414025449344,
            0.22599798535045146,
            0.12367220705560888,
            -0.15110165802215747,
            0.39588621819606684,
            0.46484004714838556,
            0.12169572020912178,
            0.44948925870707124,
            0.07838961438713177,
            -0.2629730197569723,
            0.07367948667228585,
            0.11714491362072388,
            0.027058102257609296,
            -0.14273023999750023,
            0.12336011579180273,
            0.4294372337437613,
            0.4973228504514805,
            -0.36286425037112224,
            0.19681816148990017,
            0.2554630526024664,
            0.42302453554648334,
            -0.3757290380278353,
            -0.4737890131222807,
            -0.2537889323969541,
            0.03883106434165284,
            0.3420308923596057,
            -0.2208163209888605,
            0.46959574831967454,
            -0.481352710627057,
            -0.26702572615897957,
            -0.11213935593582824,
            0.24712164273718462,
            -0.363544774339315,
            -0.37865654425926265,
            -0.3925058708939071,
            0.21298898038267666,
            -0.48744401984088415,
            0.467276330000272,
            -0.2967067653390095,
            0.24382585407509294,
            0.08135892727325778,
            0.34682880149003525,
            -0.006230285731270047,
            0.32898089955017873,
            -0.4814237978225905,
            -0.01365488906296819,
            0.06885143708648134,
            0.4886161544124489,
            -0.1198588273764496,
            0.2453344309065021,
            -0.2350804423371906,
            -0.1299158020858937,
            -0.2898259900851604,
            -0.43346351864588506,
            0.3047545637433454,
            0.13946088087994013,
            0.4248079703993507,
            -0.4340389093159762,
            0.27217802954324677,
            0.4319720691968373,
            -0.2656379138785795,
            0.44901632068761643,
            -0.24481498050252914,
            0.1380965785002598,
            -0.024751908905440143,
            -0.22727838184694918,
            0.37884272277850634
           ],
           "yaxis": "y"
          }
         ],
         "name": "5.0"
        },
        {
         "data": [
          {
           "customdata": [
            [
             0
            ],
            [
             1
            ],
            [
             2
            ],
            [
             3
            ],
            [
             4
            ],
            [
             5
            ],
            [
             6
            ],
            [
             7
            ],
            [
             8
            ],
            [
             9
            ],
            [
             10
            ],
            [
             11
            ],
            [
             12
            ],
            [
             13
            ],
            [
             14
            ],
            [
             15
            ],
            [
             16
            ],
            [
             17
            ],
            [
             18
            ],
            [
             19
            ],
            [
             20
            ],
            [
             21
            ],
            [
             22
            ],
            [
             23
            ],
            [
             24
            ],
            [
             25
            ],
            [
             26
            ],
            [
             27
            ],
            [
             28
            ],
            [
             29
            ],
            [
             30
            ],
            [
             31
            ],
            [
             32
            ],
            [
             33
            ],
            [
             34
            ],
            [
             35
            ],
            [
             36
            ],
            [
             37
            ],
            [
             38
            ],
            [
             39
            ],
            [
             40
            ],
            [
             41
            ],
            [
             42
            ],
            [
             43
            ],
            [
             44
            ],
            [
             45
            ],
            [
             46
            ],
            [
             47
            ],
            [
             48
            ],
            [
             49
            ],
            [
             50
            ],
            [
             51
            ],
            [
             52
            ],
            [
             53
            ],
            [
             54
            ],
            [
             55
            ],
            [
             56
            ],
            [
             57
            ],
            [
             58
            ],
            [
             59
            ],
            [
             60
            ],
            [
             61
            ],
            [
             62
            ],
            [
             63
            ],
            [
             64
            ],
            [
             65
            ],
            [
             66
            ],
            [
             67
            ],
            [
             68
            ],
            [
             69
            ],
            [
             70
            ],
            [
             71
            ],
            [
             72
            ],
            [
             73
            ],
            [
             74
            ],
            [
             75
            ],
            [
             76
            ],
            [
             77
            ],
            [
             78
            ],
            [
             79
            ],
            [
             80
            ],
            [
             81
            ],
            [
             82
            ],
            [
             83
            ],
            [
             84
            ],
            [
             85
            ],
            [
             86
            ],
            [
             87
            ],
            [
             88
            ],
            [
             89
            ],
            [
             90
            ],
            [
             91
            ],
            [
             92
            ],
            [
             93
            ],
            [
             94
            ],
            [
             95
            ],
            [
             96
            ],
            [
             97
            ],
            [
             98
            ],
            [
             99
            ],
            [
             100
            ],
            [
             101
            ],
            [
             102
            ],
            [
             103
            ],
            [
             104
            ]
           ],
           "hovertemplate": "<b>%{hovertext}</b><br><br>t=6.0<br>x=%{x}<br>y=%{y}<br>sizes=%{marker.size}<br>point_number=%{customdata[0]}<br>cluster=%{marker.color}<extra></extra>",
           "hovertext": [
            4,
            2,
            2,
            2,
            2,
            4,
            2,
            2,
            2,
            2,
            4,
            2,
            4,
            2,
            2,
            2,
            1,
            3,
            4,
            2,
            1,
            2,
            2,
            0,
            3,
            2,
            2,
            3,
            3,
            4,
            2,
            3,
            2,
            1,
            1,
            0,
            2,
            3,
            0,
            1,
            1,
            0,
            4,
            4,
            1,
            2,
            2,
            3,
            1,
            2,
            2,
            0,
            1,
            2,
            4,
            2,
            1,
            2,
            4,
            0,
            2,
            2,
            1,
            4,
            2,
            4,
            3,
            0,
            0,
            1,
            3,
            2,
            2,
            2,
            3,
            2,
            3,
            2,
            2,
            1,
            2,
            4,
            2,
            2,
            1,
            4,
            3,
            4,
            3,
            2,
            3,
            0,
            2,
            2,
            4,
            3,
            4,
            4,
            2,
            4,
            0,
            1,
            2,
            3,
            4
           ],
           "ids": [
            0,
            1,
            2,
            3,
            4,
            5,
            6,
            7,
            8,
            9,
            10,
            11,
            12,
            13,
            14,
            15,
            16,
            17,
            18,
            19,
            20,
            21,
            22,
            23,
            24,
            25,
            26,
            27,
            28,
            29,
            30,
            31,
            32,
            33,
            34,
            35,
            36,
            37,
            38,
            39,
            40,
            41,
            42,
            43,
            44,
            45,
            46,
            47,
            48,
            49,
            50,
            51,
            52,
            53,
            54,
            55,
            56,
            57,
            58,
            59,
            60,
            61,
            62,
            63,
            64,
            65,
            66,
            67,
            68,
            69,
            70,
            71,
            72,
            73,
            74,
            75,
            76,
            77,
            78,
            79,
            80,
            81,
            82,
            83,
            84,
            85,
            86,
            87,
            88,
            89,
            90,
            91,
            92,
            93,
            94,
            95,
            96,
            97,
            98,
            99,
            100,
            101,
            102,
            103,
            104
           ],
           "legendgroup": "",
           "marker": {
            "color": [
             4,
             2,
             2,
             2,
             2,
             4,
             2,
             2,
             2,
             2,
             4,
             2,
             4,
             2,
             2,
             2,
             1,
             3,
             4,
             2,
             1,
             2,
             2,
             0,
             3,
             2,
             2,
             3,
             3,
             4,
             2,
             3,
             2,
             1,
             1,
             0,
             2,
             3,
             0,
             1,
             1,
             0,
             4,
             4,
             1,
             2,
             2,
             3,
             1,
             2,
             2,
             0,
             1,
             2,
             4,
             2,
             1,
             2,
             4,
             0,
             2,
             2,
             1,
             4,
             2,
             4,
             3,
             0,
             0,
             1,
             3,
             2,
             2,
             2,
             3,
             2,
             3,
             2,
             2,
             1,
             2,
             4,
             2,
             2,
             1,
             4,
             3,
             4,
             3,
             2,
             3,
             0,
             2,
             2,
             4,
             3,
             4,
             4,
             2,
             4,
             0,
             1,
             2,
             3,
             4
            ],
            "coloraxis": "coloraxis",
            "size": [
             1,
             1,
             1,
             1,
             1,
             1,
             1,
             1,
             1,
             1,
             1,
             1,
             1,
             1,
             1,
             1,
             1,
             1,
             1,
             1,
             1,
             1,
             1,
             1,
             1,
             1,
             1,
             1,
             1,
             1,
             1,
             1,
             1,
             1,
             1,
             1,
             1,
             1,
             1,
             1,
             1,
             1,
             1,
             1,
             1,
             1,
             1,
             1,
             1,
             1,
             1,
             1,
             1,
             1,
             1,
             1,
             1,
             1,
             1,
             1,
             1,
             1,
             1,
             1,
             1,
             1,
             1,
             1,
             1,
             1,
             1,
             1,
             1,
             1,
             1,
             1,
             1,
             1,
             1,
             1,
             1,
             1,
             1,
             1,
             1,
             1,
             1,
             1,
             1,
             1,
             1,
             1,
             1,
             1,
             1,
             1,
             1,
             1,
             1,
             1,
             3,
             3,
             3,
             3,
             3
            ],
            "sizemode": "area",
            "sizeref": 0.0075,
            "symbol": "circle"
           },
           "mode": "markers",
           "name": "",
           "orientation": "v",
           "showlegend": false,
           "type": "scatter",
           "x": [
            -0.082977995297426,
            -0.4998856251826551,
            -0.35324410918288696,
            -0.3137397886223291,
            -0.10323252576933006,
            -0.0808054855967052,
            -0.29554775026848257,
            -0.47261240680207384,
            -0.08269519763287303,
            -0.35961306140476623,
            0.30074456867553667,
            -0.18657582184075716,
            0.3763891522960383,
            -0.4149557886302221,
            -0.3301695804354311,
            -0.4016531661669499,
            0.45788953015050193,
            0.19187711395047335,
            0.18650092768158366,
            -0.4817117226558082,
            0.4888610889064947,
            -0.21955600793559482,
            -0.396773993422358,
            0.40859550309309556,
            -0.21222466141365126,
            -0.4806330421297029,
            -0.28837188399994096,
            -0.00842684071966171,
            0.07411760549201307,
            0.08930553690328424,
            -0.39766557117217416,
            0.1944001577277451,
            -0.45004654105391284,
            0.16379464521978881,
            0.44459475599081333,
            0.4034019152878835,
            -0.36072365274924145,
            -0.10232316301446642,
            0.4275085803960339,
            0.25081210313615554,
            0.38330609120580983,
            0.2509424340273372,
            -0.23007210823497393,
            -0.07190881012870509,
            0.16344149781844808,
            -0.3852540270466248,
            -0.050087866520059476,
            -0.09186319723871883,
            0.4033795205622538,
            -0.49712967296884103,
            -0.17335509822790385,
            0.3859420993107745,
            0.4085351509197992,
            -0.4841787571534437,
            0.19089691751692395,
            -0.32765949165467145,
            0.43259546303716356,
            -0.4339998272779375,
            0.2538761884612464,
            0.21152475862847175,
            -0.4801198661602044,
            -0.4716935119792054,
            0.360027948682888,
            0.05282197868576588,
            -0.37582668488008886,
            0.08575927145828788,
            0.06103021925570995,
            0.30063267268061633,
            0.30710519561877914,
            0.36354185455942867,
            0.056240233990418886,
            -0.44008231048778834,
            -0.4554481214552383,
            -0.2742906613921453,
            0.05971698205414244,
            -0.4280257203105132,
            0.06810046191994212,
            -0.24767425542967658,
            -0.3045705188906812,
            0.47001998908831233,
            -0.26015224085241384,
            0.11995571838137975,
            -0.34320860535391573,
            -0.42997785628077767,
            0.10632946165333035,
            -0.18263759067783925,
            0.07974521924579692,
            0.05094821911789682,
            0.1692328934531846,
            -0.43366516557155843,
            0.12971750702156448,
            0.25275555373881387,
            -0.23968490142145904,
            -0.30656571737667226,
            0.02467030912373369,
            -0.23670322951288902,
            0.23506596328866947,
            0.40781585250352403,
            -0.486048427024403,
            0.11677835700165762,
            0.32760096808686734,
            0.3497949357807991,
            -0.3539094544831096,
            0.02884248681410691,
            0.09700668269262519
           ],
           "xaxis": "x",
           "y": [
            0.2203244934421581,
            -0.19766742736816023,
            -0.4076614052312022,
            -0.15443927295695226,
            0.038816734003356945,
            0.1852195003967595,
            0.3781174363909454,
            0.17046751017840223,
            0.05868982844575166,
            -0.3018985109151212,
            0.4682615757193975,
            0.19232261566931408,
            0.3946066635038473,
            -0.46094521676711764,
            0.37814250342941313,
            -0.07889237499494783,
            0.03316528497301707,
            -0.18448436899393705,
            0.3346256718973729,
            0.25014431494496747,
            0.2481656543798394,
            0.2892793284514885,
            -0.052106473824094834,
            -0.2063858516263205,
            -0.3699714278817223,
            0.17883553293989096,
            -0.2344533406277738,
            -0.4466374548829196,
            -0.35327142509418985,
            0.19975836002093117,
            -0.08594401218043168,
            -0.08582073047309735,
            0.035896405915511576,
            0.014889112058308562,
            0.08655504050199292,
            -0.3625252958537625,
            0.3073912887095238,
            -0.3346458028830672,
            -0.15223414025449344,
            0.22599798535045146,
            0.12367220705560888,
            -0.15110165802215747,
            0.39588621819606684,
            0.46484004714838556,
            0.12169572020912178,
            0.44948925870707124,
            0.07838961438713177,
            -0.2629730197569723,
            0.07367948667228585,
            0.11714491362072388,
            0.027058102257609296,
            -0.14273023999750023,
            0.12336011579180273,
            0.4294372337437613,
            0.4973228504514805,
            -0.36286425037112224,
            0.19681816148990017,
            0.2554630526024664,
            0.42302453554648334,
            -0.3757290380278353,
            -0.4737890131222807,
            -0.2537889323969541,
            0.03883106434165284,
            0.3420308923596057,
            -0.2208163209888605,
            0.46959574831967454,
            -0.481352710627057,
            -0.26702572615897957,
            -0.11213935593582824,
            0.24712164273718462,
            -0.363544774339315,
            -0.37865654425926265,
            -0.3925058708939071,
            0.21298898038267666,
            -0.48744401984088415,
            0.467276330000272,
            -0.2967067653390095,
            0.24382585407509294,
            0.08135892727325778,
            0.34682880149003525,
            -0.006230285731270047,
            0.32898089955017873,
            -0.4814237978225905,
            -0.01365488906296819,
            0.06885143708648134,
            0.4886161544124489,
            -0.1198588273764496,
            0.2453344309065021,
            -0.2350804423371906,
            -0.1299158020858937,
            -0.2898259900851604,
            -0.43346351864588506,
            0.3047545637433454,
            0.13946088087994013,
            0.4248079703993507,
            -0.4340389093159762,
            0.27217802954324677,
            0.4319720691968373,
            -0.2656379138785795,
            0.44901632068761643,
            -0.24481498050252914,
            0.13925940815269164,
            0.0030571989598238095,
            -0.3163771112817965,
            0.3703369700893865
           ],
           "yaxis": "y"
          }
         ],
         "name": "6.0"
        },
        {
         "data": [
          {
           "customdata": [
            [
             0
            ],
            [
             1
            ],
            [
             2
            ],
            [
             3
            ],
            [
             4
            ],
            [
             5
            ],
            [
             6
            ],
            [
             7
            ],
            [
             8
            ],
            [
             9
            ],
            [
             10
            ],
            [
             11
            ],
            [
             12
            ],
            [
             13
            ],
            [
             14
            ],
            [
             15
            ],
            [
             16
            ],
            [
             17
            ],
            [
             18
            ],
            [
             19
            ],
            [
             20
            ],
            [
             21
            ],
            [
             22
            ],
            [
             23
            ],
            [
             24
            ],
            [
             25
            ],
            [
             26
            ],
            [
             27
            ],
            [
             28
            ],
            [
             29
            ],
            [
             30
            ],
            [
             31
            ],
            [
             32
            ],
            [
             33
            ],
            [
             34
            ],
            [
             35
            ],
            [
             36
            ],
            [
             37
            ],
            [
             38
            ],
            [
             39
            ],
            [
             40
            ],
            [
             41
            ],
            [
             42
            ],
            [
             43
            ],
            [
             44
            ],
            [
             45
            ],
            [
             46
            ],
            [
             47
            ],
            [
             48
            ],
            [
             49
            ],
            [
             50
            ],
            [
             51
            ],
            [
             52
            ],
            [
             53
            ],
            [
             54
            ],
            [
             55
            ],
            [
             56
            ],
            [
             57
            ],
            [
             58
            ],
            [
             59
            ],
            [
             60
            ],
            [
             61
            ],
            [
             62
            ],
            [
             63
            ],
            [
             64
            ],
            [
             65
            ],
            [
             66
            ],
            [
             67
            ],
            [
             68
            ],
            [
             69
            ],
            [
             70
            ],
            [
             71
            ],
            [
             72
            ],
            [
             73
            ],
            [
             74
            ],
            [
             75
            ],
            [
             76
            ],
            [
             77
            ],
            [
             78
            ],
            [
             79
            ],
            [
             80
            ],
            [
             81
            ],
            [
             82
            ],
            [
             83
            ],
            [
             84
            ],
            [
             85
            ],
            [
             86
            ],
            [
             87
            ],
            [
             88
            ],
            [
             89
            ],
            [
             90
            ],
            [
             91
            ],
            [
             92
            ],
            [
             93
            ],
            [
             94
            ],
            [
             95
            ],
            [
             96
            ],
            [
             97
            ],
            [
             98
            ],
            [
             99
            ],
            [
             100
            ],
            [
             101
            ],
            [
             102
            ],
            [
             103
            ],
            [
             104
            ]
           ],
           "hovertemplate": "<b>%{hovertext}</b><br><br>t=7.0<br>x=%{x}<br>y=%{y}<br>sizes=%{marker.size}<br>point_number=%{customdata[0]}<br>cluster=%{marker.color}<extra></extra>",
           "hovertext": [
            4,
            2,
            3,
            2,
            2,
            4,
            2,
            2,
            2,
            2,
            4,
            2,
            1,
            3,
            2,
            2,
            1,
            0,
            4,
            2,
            1,
            2,
            2,
            0,
            3,
            2,
            2,
            3,
            3,
            4,
            2,
            0,
            2,
            1,
            1,
            0,
            2,
            3,
            0,
            1,
            1,
            0,
            4,
            4,
            1,
            2,
            2,
            3,
            1,
            2,
            2,
            0,
            1,
            2,
            4,
            3,
            1,
            2,
            4,
            0,
            2,
            2,
            1,
            4,
            2,
            4,
            3,
            0,
            0,
            1,
            3,
            2,
            2,
            2,
            3,
            2,
            3,
            2,
            2,
            1,
            2,
            4,
            3,
            2,
            1,
            4,
            3,
            4,
            0,
            2,
            3,
            0,
            2,
            2,
            4,
            3,
            4,
            1,
            2,
            4,
            0,
            1,
            2,
            3,
            4
           ],
           "ids": [
            0,
            1,
            2,
            3,
            4,
            5,
            6,
            7,
            8,
            9,
            10,
            11,
            12,
            13,
            14,
            15,
            16,
            17,
            18,
            19,
            20,
            21,
            22,
            23,
            24,
            25,
            26,
            27,
            28,
            29,
            30,
            31,
            32,
            33,
            34,
            35,
            36,
            37,
            38,
            39,
            40,
            41,
            42,
            43,
            44,
            45,
            46,
            47,
            48,
            49,
            50,
            51,
            52,
            53,
            54,
            55,
            56,
            57,
            58,
            59,
            60,
            61,
            62,
            63,
            64,
            65,
            66,
            67,
            68,
            69,
            70,
            71,
            72,
            73,
            74,
            75,
            76,
            77,
            78,
            79,
            80,
            81,
            82,
            83,
            84,
            85,
            86,
            87,
            88,
            89,
            90,
            91,
            92,
            93,
            94,
            95,
            96,
            97,
            98,
            99,
            100,
            101,
            102,
            103,
            104
           ],
           "legendgroup": "",
           "marker": {
            "color": [
             4,
             2,
             3,
             2,
             2,
             4,
             2,
             2,
             2,
             2,
             4,
             2,
             1,
             3,
             2,
             2,
             1,
             0,
             4,
             2,
             1,
             2,
             2,
             0,
             3,
             2,
             2,
             3,
             3,
             4,
             2,
             0,
             2,
             1,
             1,
             0,
             2,
             3,
             0,
             1,
             1,
             0,
             4,
             4,
             1,
             2,
             2,
             3,
             1,
             2,
             2,
             0,
             1,
             2,
             4,
             3,
             1,
             2,
             4,
             0,
             2,
             2,
             1,
             4,
             2,
             4,
             3,
             0,
             0,
             1,
             3,
             2,
             2,
             2,
             3,
             2,
             3,
             2,
             2,
             1,
             2,
             4,
             3,
             2,
             1,
             4,
             3,
             4,
             0,
             2,
             3,
             0,
             2,
             2,
             4,
             3,
             4,
             1,
             2,
             4,
             0,
             1,
             2,
             3,
             4
            ],
            "coloraxis": "coloraxis",
            "size": [
             1,
             1,
             1,
             1,
             1,
             1,
             1,
             1,
             1,
             1,
             1,
             1,
             1,
             1,
             1,
             1,
             1,
             1,
             1,
             1,
             1,
             1,
             1,
             1,
             1,
             1,
             1,
             1,
             1,
             1,
             1,
             1,
             1,
             1,
             1,
             1,
             1,
             1,
             1,
             1,
             1,
             1,
             1,
             1,
             1,
             1,
             1,
             1,
             1,
             1,
             1,
             1,
             1,
             1,
             1,
             1,
             1,
             1,
             1,
             1,
             1,
             1,
             1,
             1,
             1,
             1,
             1,
             1,
             1,
             1,
             1,
             1,
             1,
             1,
             1,
             1,
             1,
             1,
             1,
             1,
             1,
             1,
             1,
             1,
             1,
             1,
             1,
             1,
             1,
             1,
             1,
             1,
             1,
             1,
             1,
             1,
             1,
             1,
             1,
             1,
             3,
             3,
             3,
             3,
             3
            ],
            "sizemode": "area",
            "sizeref": 0.0075,
            "symbol": "circle"
           },
           "mode": "markers",
           "name": "",
           "orientation": "v",
           "showlegend": false,
           "type": "scatter",
           "x": [
            -0.082977995297426,
            -0.4998856251826551,
            -0.35324410918288696,
            -0.3137397886223291,
            -0.10323252576933006,
            -0.0808054855967052,
            -0.29554775026848257,
            -0.47261240680207384,
            -0.08269519763287303,
            -0.35961306140476623,
            0.30074456867553667,
            -0.18657582184075716,
            0.3763891522960383,
            -0.4149557886302221,
            -0.3301695804354311,
            -0.4016531661669499,
            0.45788953015050193,
            0.19187711395047335,
            0.18650092768158366,
            -0.4817117226558082,
            0.4888610889064947,
            -0.21955600793559482,
            -0.396773993422358,
            0.40859550309309556,
            -0.21222466141365126,
            -0.4806330421297029,
            -0.28837188399994096,
            -0.00842684071966171,
            0.07411760549201307,
            0.08930553690328424,
            -0.39766557117217416,
            0.1944001577277451,
            -0.45004654105391284,
            0.16379464521978881,
            0.44459475599081333,
            0.4034019152878835,
            -0.36072365274924145,
            -0.10232316301446642,
            0.4275085803960339,
            0.25081210313615554,
            0.38330609120580983,
            0.2509424340273372,
            -0.23007210823497393,
            -0.07190881012870509,
            0.16344149781844808,
            -0.3852540270466248,
            -0.050087866520059476,
            -0.09186319723871883,
            0.4033795205622538,
            -0.49712967296884103,
            -0.17335509822790385,
            0.3859420993107745,
            0.4085351509197992,
            -0.4841787571534437,
            0.19089691751692395,
            -0.32765949165467145,
            0.43259546303716356,
            -0.4339998272779375,
            0.2538761884612464,
            0.21152475862847175,
            -0.4801198661602044,
            -0.4716935119792054,
            0.360027948682888,
            0.05282197868576588,
            -0.37582668488008886,
            0.08575927145828788,
            0.06103021925570995,
            0.30063267268061633,
            0.30710519561877914,
            0.36354185455942867,
            0.056240233990418886,
            -0.44008231048778834,
            -0.4554481214552383,
            -0.2742906613921453,
            0.05971698205414244,
            -0.4280257203105132,
            0.06810046191994212,
            -0.24767425542967658,
            -0.3045705188906812,
            0.47001998908831233,
            -0.26015224085241384,
            0.11995571838137975,
            -0.34320860535391573,
            -0.42997785628077767,
            0.10632946165333035,
            -0.18263759067783925,
            0.07974521924579692,
            0.05094821911789682,
            0.1692328934531846,
            -0.43366516557155843,
            0.12971750702156448,
            0.25275555373881387,
            -0.23968490142145904,
            -0.30656571737667226,
            0.02467030912373369,
            -0.23670322951288902,
            0.23506596328866947,
            0.40781585250352403,
            -0.486048427024403,
            0.11677835700165762,
            0.32760096808686734,
            0.3497949357807991,
            -0.3539094544831096,
            0.02884248681410691,
            0.09700668269262519
           ],
           "xaxis": "x",
           "y": [
            0.2203244934421581,
            -0.19766742736816023,
            -0.4076614052312022,
            -0.15443927295695226,
            0.038816734003356945,
            0.1852195003967595,
            0.3781174363909454,
            0.17046751017840223,
            0.05868982844575166,
            -0.3018985109151212,
            0.4682615757193975,
            0.19232261566931408,
            0.3946066635038473,
            -0.46094521676711764,
            0.37814250342941313,
            -0.07889237499494783,
            0.03316528497301707,
            -0.18448436899393705,
            0.3346256718973729,
            0.25014431494496747,
            0.2481656543798394,
            0.2892793284514885,
            -0.052106473824094834,
            -0.2063858516263205,
            -0.3699714278817223,
            0.17883553293989096,
            -0.2344533406277738,
            -0.4466374548829196,
            -0.35327142509418985,
            0.19975836002093117,
            -0.08594401218043168,
            -0.08582073047309735,
            0.035896405915511576,
            0.014889112058308562,
            0.08655504050199292,
            -0.3625252958537625,
            0.3073912887095238,
            -0.3346458028830672,
            -0.15223414025449344,
            0.22599798535045146,
            0.12367220705560888,
            -0.15110165802215747,
            0.39588621819606684,
            0.46484004714838556,
            0.12169572020912178,
            0.44948925870707124,
            0.07838961438713177,
            -0.2629730197569723,
            0.07367948667228585,
            0.11714491362072388,
            0.027058102257609296,
            -0.14273023999750023,
            0.12336011579180273,
            0.4294372337437613,
            0.4973228504514805,
            -0.36286425037112224,
            0.19681816148990017,
            0.2554630526024664,
            0.42302453554648334,
            -0.3757290380278353,
            -0.4737890131222807,
            -0.2537889323969541,
            0.03883106434165284,
            0.3420308923596057,
            -0.2208163209888605,
            0.46959574831967454,
            -0.481352710627057,
            -0.26702572615897957,
            -0.11213935593582824,
            0.24712164273718462,
            -0.363544774339315,
            -0.37865654425926265,
            -0.3925058708939071,
            0.21298898038267666,
            -0.48744401984088415,
            0.467276330000272,
            -0.2967067653390095,
            0.24382585407509294,
            0.08135892727325778,
            0.34682880149003525,
            -0.006230285731270047,
            0.32898089955017873,
            -0.4814237978225905,
            -0.01365488906296819,
            0.06885143708648134,
            0.4886161544124489,
            -0.1198588273764496,
            0.2453344309065021,
            -0.2350804423371906,
            -0.1299158020858937,
            -0.2898259900851604,
            -0.43346351864588506,
            0.3047545637433454,
            0.13946088087994013,
            0.4248079703993507,
            -0.4340389093159762,
            0.27217802954324677,
            0.4319720691968373,
            -0.2656379138785795,
            0.44901632068761643,
            -0.24481498050252914,
            0.13925940815269164,
            0.0030571989598238095,
            -0.3163771112817965,
            0.3703369700893865
           ],
           "yaxis": "y"
          }
         ],
         "name": "7.0"
        },
        {
         "data": [
          {
           "customdata": [
            [
             0
            ],
            [
             1
            ],
            [
             2
            ],
            [
             3
            ],
            [
             4
            ],
            [
             5
            ],
            [
             6
            ],
            [
             7
            ],
            [
             8
            ],
            [
             9
            ],
            [
             10
            ],
            [
             11
            ],
            [
             12
            ],
            [
             13
            ],
            [
             14
            ],
            [
             15
            ],
            [
             16
            ],
            [
             17
            ],
            [
             18
            ],
            [
             19
            ],
            [
             20
            ],
            [
             21
            ],
            [
             22
            ],
            [
             23
            ],
            [
             24
            ],
            [
             25
            ],
            [
             26
            ],
            [
             27
            ],
            [
             28
            ],
            [
             29
            ],
            [
             30
            ],
            [
             31
            ],
            [
             32
            ],
            [
             33
            ],
            [
             34
            ],
            [
             35
            ],
            [
             36
            ],
            [
             37
            ],
            [
             38
            ],
            [
             39
            ],
            [
             40
            ],
            [
             41
            ],
            [
             42
            ],
            [
             43
            ],
            [
             44
            ],
            [
             45
            ],
            [
             46
            ],
            [
             47
            ],
            [
             48
            ],
            [
             49
            ],
            [
             50
            ],
            [
             51
            ],
            [
             52
            ],
            [
             53
            ],
            [
             54
            ],
            [
             55
            ],
            [
             56
            ],
            [
             57
            ],
            [
             58
            ],
            [
             59
            ],
            [
             60
            ],
            [
             61
            ],
            [
             62
            ],
            [
             63
            ],
            [
             64
            ],
            [
             65
            ],
            [
             66
            ],
            [
             67
            ],
            [
             68
            ],
            [
             69
            ],
            [
             70
            ],
            [
             71
            ],
            [
             72
            ],
            [
             73
            ],
            [
             74
            ],
            [
             75
            ],
            [
             76
            ],
            [
             77
            ],
            [
             78
            ],
            [
             79
            ],
            [
             80
            ],
            [
             81
            ],
            [
             82
            ],
            [
             83
            ],
            [
             84
            ],
            [
             85
            ],
            [
             86
            ],
            [
             87
            ],
            [
             88
            ],
            [
             89
            ],
            [
             90
            ],
            [
             91
            ],
            [
             92
            ],
            [
             93
            ],
            [
             94
            ],
            [
             95
            ],
            [
             96
            ],
            [
             97
            ],
            [
             98
            ],
            [
             99
            ],
            [
             100
            ],
            [
             101
            ],
            [
             102
            ],
            [
             103
            ],
            [
             104
            ]
           ],
           "hovertemplate": "<b>%{hovertext}</b><br><br>t=8.0<br>x=%{x}<br>y=%{y}<br>sizes=%{marker.size}<br>point_number=%{customdata[0]}<br>cluster=%{marker.color}<extra></extra>",
           "hovertext": [
            4,
            2,
            3,
            2,
            2,
            4,
            2,
            2,
            2,
            2,
            4,
            2,
            1,
            3,
            2,
            2,
            1,
            0,
            4,
            2,
            1,
            2,
            2,
            0,
            3,
            2,
            2,
            3,
            3,
            4,
            2,
            0,
            2,
            1,
            1,
            0,
            2,
            3,
            0,
            1,
            1,
            0,
            4,
            4,
            1,
            2,
            2,
            3,
            1,
            2,
            2,
            0,
            1,
            2,
            4,
            3,
            1,
            2,
            4,
            0,
            2,
            2,
            1,
            4,
            2,
            4,
            3,
            0,
            0,
            1,
            3,
            2,
            2,
            2,
            3,
            2,
            3,
            2,
            2,
            1,
            2,
            4,
            3,
            2,
            1,
            4,
            3,
            4,
            0,
            2,
            3,
            0,
            2,
            2,
            4,
            3,
            4,
            1,
            2,
            4,
            0,
            1,
            2,
            3,
            4
           ],
           "ids": [
            0,
            1,
            2,
            3,
            4,
            5,
            6,
            7,
            8,
            9,
            10,
            11,
            12,
            13,
            14,
            15,
            16,
            17,
            18,
            19,
            20,
            21,
            22,
            23,
            24,
            25,
            26,
            27,
            28,
            29,
            30,
            31,
            32,
            33,
            34,
            35,
            36,
            37,
            38,
            39,
            40,
            41,
            42,
            43,
            44,
            45,
            46,
            47,
            48,
            49,
            50,
            51,
            52,
            53,
            54,
            55,
            56,
            57,
            58,
            59,
            60,
            61,
            62,
            63,
            64,
            65,
            66,
            67,
            68,
            69,
            70,
            71,
            72,
            73,
            74,
            75,
            76,
            77,
            78,
            79,
            80,
            81,
            82,
            83,
            84,
            85,
            86,
            87,
            88,
            89,
            90,
            91,
            92,
            93,
            94,
            95,
            96,
            97,
            98,
            99,
            100,
            101,
            102,
            103,
            104
           ],
           "legendgroup": "",
           "marker": {
            "color": [
             4,
             2,
             3,
             2,
             2,
             4,
             2,
             2,
             2,
             2,
             4,
             2,
             1,
             3,
             2,
             2,
             1,
             0,
             4,
             2,
             1,
             2,
             2,
             0,
             3,
             2,
             2,
             3,
             3,
             4,
             2,
             0,
             2,
             1,
             1,
             0,
             2,
             3,
             0,
             1,
             1,
             0,
             4,
             4,
             1,
             2,
             2,
             3,
             1,
             2,
             2,
             0,
             1,
             2,
             4,
             3,
             1,
             2,
             4,
             0,
             2,
             2,
             1,
             4,
             2,
             4,
             3,
             0,
             0,
             1,
             3,
             2,
             2,
             2,
             3,
             2,
             3,
             2,
             2,
             1,
             2,
             4,
             3,
             2,
             1,
             4,
             3,
             4,
             0,
             2,
             3,
             0,
             2,
             2,
             4,
             3,
             4,
             1,
             2,
             4,
             0,
             1,
             2,
             3,
             4
            ],
            "coloraxis": "coloraxis",
            "size": [
             1,
             1,
             1,
             1,
             1,
             1,
             1,
             1,
             1,
             1,
             1,
             1,
             1,
             1,
             1,
             1,
             1,
             1,
             1,
             1,
             1,
             1,
             1,
             1,
             1,
             1,
             1,
             1,
             1,
             1,
             1,
             1,
             1,
             1,
             1,
             1,
             1,
             1,
             1,
             1,
             1,
             1,
             1,
             1,
             1,
             1,
             1,
             1,
             1,
             1,
             1,
             1,
             1,
             1,
             1,
             1,
             1,
             1,
             1,
             1,
             1,
             1,
             1,
             1,
             1,
             1,
             1,
             1,
             1,
             1,
             1,
             1,
             1,
             1,
             1,
             1,
             1,
             1,
             1,
             1,
             1,
             1,
             1,
             1,
             1,
             1,
             1,
             1,
             1,
             1,
             1,
             1,
             1,
             1,
             1,
             1,
             1,
             1,
             1,
             1,
             3,
             3,
             3,
             3,
             3
            ],
            "sizemode": "area",
            "sizeref": 0.0075,
            "symbol": "circle"
           },
           "mode": "markers",
           "name": "",
           "orientation": "v",
           "showlegend": false,
           "type": "scatter",
           "x": [
            -0.082977995297426,
            -0.4998856251826551,
            -0.35324410918288696,
            -0.3137397886223291,
            -0.10323252576933006,
            -0.0808054855967052,
            -0.29554775026848257,
            -0.47261240680207384,
            -0.08269519763287303,
            -0.35961306140476623,
            0.30074456867553667,
            -0.18657582184075716,
            0.3763891522960383,
            -0.4149557886302221,
            -0.3301695804354311,
            -0.4016531661669499,
            0.45788953015050193,
            0.19187711395047335,
            0.18650092768158366,
            -0.4817117226558082,
            0.4888610889064947,
            -0.21955600793559482,
            -0.396773993422358,
            0.40859550309309556,
            -0.21222466141365126,
            -0.4806330421297029,
            -0.28837188399994096,
            -0.00842684071966171,
            0.07411760549201307,
            0.08930553690328424,
            -0.39766557117217416,
            0.1944001577277451,
            -0.45004654105391284,
            0.16379464521978881,
            0.44459475599081333,
            0.4034019152878835,
            -0.36072365274924145,
            -0.10232316301446642,
            0.4275085803960339,
            0.25081210313615554,
            0.38330609120580983,
            0.2509424340273372,
            -0.23007210823497393,
            -0.07190881012870509,
            0.16344149781844808,
            -0.3852540270466248,
            -0.050087866520059476,
            -0.09186319723871883,
            0.4033795205622538,
            -0.49712967296884103,
            -0.17335509822790385,
            0.3859420993107745,
            0.4085351509197992,
            -0.4841787571534437,
            0.19089691751692395,
            -0.32765949165467145,
            0.43259546303716356,
            -0.4339998272779375,
            0.2538761884612464,
            0.21152475862847175,
            -0.4801198661602044,
            -0.4716935119792054,
            0.360027948682888,
            0.05282197868576588,
            -0.37582668488008886,
            0.08575927145828788,
            0.06103021925570995,
            0.30063267268061633,
            0.30710519561877914,
            0.36354185455942867,
            0.056240233990418886,
            -0.44008231048778834,
            -0.4554481214552383,
            -0.2742906613921453,
            0.05971698205414244,
            -0.4280257203105132,
            0.06810046191994212,
            -0.24767425542967658,
            -0.3045705188906812,
            0.47001998908831233,
            -0.26015224085241384,
            0.11995571838137975,
            -0.34320860535391573,
            -0.42997785628077767,
            0.10632946165333035,
            -0.18263759067783925,
            0.07974521924579692,
            0.05094821911789682,
            0.1692328934531846,
            -0.43366516557155843,
            0.12971750702156448,
            0.25275555373881387,
            -0.23968490142145904,
            -0.30656571737667226,
            0.02467030912373369,
            -0.23670322951288902,
            0.23506596328866947,
            0.40781585250352403,
            -0.486048427024403,
            0.11677835700165762,
            0.29199323982610076,
            0.35508338160817193,
            -0.35330868071671834,
            -0.09762130360884347,
            0.06228952743295979
           ],
           "xaxis": "x",
           "y": [
            0.2203244934421581,
            -0.19766742736816023,
            -0.4076614052312022,
            -0.15443927295695226,
            0.038816734003356945,
            0.1852195003967595,
            0.3781174363909454,
            0.17046751017840223,
            0.05868982844575166,
            -0.3018985109151212,
            0.4682615757193975,
            0.19232261566931408,
            0.3946066635038473,
            -0.46094521676711764,
            0.37814250342941313,
            -0.07889237499494783,
            0.03316528497301707,
            -0.18448436899393705,
            0.3346256718973729,
            0.25014431494496747,
            0.2481656543798394,
            0.2892793284514885,
            -0.052106473824094834,
            -0.2063858516263205,
            -0.3699714278817223,
            0.17883553293989096,
            -0.2344533406277738,
            -0.4466374548829196,
            -0.35327142509418985,
            0.19975836002093117,
            -0.08594401218043168,
            -0.08582073047309735,
            0.035896405915511576,
            0.014889112058308562,
            0.08655504050199292,
            -0.3625252958537625,
            0.3073912887095238,
            -0.3346458028830672,
            -0.15223414025449344,
            0.22599798535045146,
            0.12367220705560888,
            -0.15110165802215747,
            0.39588621819606684,
            0.46484004714838556,
            0.12169572020912178,
            0.44948925870707124,
            0.07838961438713177,
            -0.2629730197569723,
            0.07367948667228585,
            0.11714491362072388,
            0.027058102257609296,
            -0.14273023999750023,
            0.12336011579180273,
            0.4294372337437613,
            0.4973228504514805,
            -0.36286425037112224,
            0.19681816148990017,
            0.2554630526024664,
            0.42302453554648334,
            -0.3757290380278353,
            -0.4737890131222807,
            -0.2537889323969541,
            0.03883106434165284,
            0.3420308923596057,
            -0.2208163209888605,
            0.46959574831967454,
            -0.481352710627057,
            -0.26702572615897957,
            -0.11213935593582824,
            0.24712164273718462,
            -0.363544774339315,
            -0.37865654425926265,
            -0.3925058708939071,
            0.21298898038267666,
            -0.48744401984088415,
            0.467276330000272,
            -0.2967067653390095,
            0.24382585407509294,
            0.08135892727325778,
            0.34682880149003525,
            -0.006230285731270047,
            0.32898089955017873,
            -0.4814237978225905,
            -0.01365488906296819,
            0.06885143708648134,
            0.4886161544124489,
            -0.1198588273764496,
            0.2453344309065021,
            -0.2350804423371906,
            -0.1299158020858937,
            -0.2898259900851604,
            -0.43346351864588506,
            0.3047545637433454,
            0.13946088087994013,
            0.4248079703993507,
            -0.4340389093159762,
            0.27217802954324677,
            0.4319720691968373,
            -0.2656379138785795,
            0.44901632068761643,
            -0.22572669719391558,
            0.17351315292739797,
            0.047291133986268115,
            -0.37207286235092224,
            0.36528374699986227
           ],
           "yaxis": "y"
          }
         ],
         "name": "8.0"
        },
        {
         "data": [
          {
           "customdata": [
            [
             0
            ],
            [
             1
            ],
            [
             2
            ],
            [
             3
            ],
            [
             4
            ],
            [
             5
            ],
            [
             6
            ],
            [
             7
            ],
            [
             8
            ],
            [
             9
            ],
            [
             10
            ],
            [
             11
            ],
            [
             12
            ],
            [
             13
            ],
            [
             14
            ],
            [
             15
            ],
            [
             16
            ],
            [
             17
            ],
            [
             18
            ],
            [
             19
            ],
            [
             20
            ],
            [
             21
            ],
            [
             22
            ],
            [
             23
            ],
            [
             24
            ],
            [
             25
            ],
            [
             26
            ],
            [
             27
            ],
            [
             28
            ],
            [
             29
            ],
            [
             30
            ],
            [
             31
            ],
            [
             32
            ],
            [
             33
            ],
            [
             34
            ],
            [
             35
            ],
            [
             36
            ],
            [
             37
            ],
            [
             38
            ],
            [
             39
            ],
            [
             40
            ],
            [
             41
            ],
            [
             42
            ],
            [
             43
            ],
            [
             44
            ],
            [
             45
            ],
            [
             46
            ],
            [
             47
            ],
            [
             48
            ],
            [
             49
            ],
            [
             50
            ],
            [
             51
            ],
            [
             52
            ],
            [
             53
            ],
            [
             54
            ],
            [
             55
            ],
            [
             56
            ],
            [
             57
            ],
            [
             58
            ],
            [
             59
            ],
            [
             60
            ],
            [
             61
            ],
            [
             62
            ],
            [
             63
            ],
            [
             64
            ],
            [
             65
            ],
            [
             66
            ],
            [
             67
            ],
            [
             68
            ],
            [
             69
            ],
            [
             70
            ],
            [
             71
            ],
            [
             72
            ],
            [
             73
            ],
            [
             74
            ],
            [
             75
            ],
            [
             76
            ],
            [
             77
            ],
            [
             78
            ],
            [
             79
            ],
            [
             80
            ],
            [
             81
            ],
            [
             82
            ],
            [
             83
            ],
            [
             84
            ],
            [
             85
            ],
            [
             86
            ],
            [
             87
            ],
            [
             88
            ],
            [
             89
            ],
            [
             90
            ],
            [
             91
            ],
            [
             92
            ],
            [
             93
            ],
            [
             94
            ],
            [
             95
            ],
            [
             96
            ],
            [
             97
            ],
            [
             98
            ],
            [
             99
            ],
            [
             100
            ],
            [
             101
            ],
            [
             102
            ],
            [
             103
            ],
            [
             104
            ]
           ],
           "hovertemplate": "<b>%{hovertext}</b><br><br>t=9.0<br>x=%{x}<br>y=%{y}<br>sizes=%{marker.size}<br>point_number=%{customdata[0]}<br>cluster=%{marker.color}<extra></extra>",
           "hovertext": [
            4,
            2,
            3,
            2,
            2,
            4,
            2,
            2,
            2,
            3,
            4,
            2,
            1,
            3,
            2,
            2,
            1,
            0,
            4,
            2,
            1,
            2,
            2,
            0,
            3,
            2,
            3,
            3,
            3,
            4,
            2,
            0,
            2,
            1,
            1,
            0,
            2,
            3,
            0,
            1,
            1,
            0,
            4,
            4,
            1,
            2,
            2,
            3,
            1,
            2,
            2,
            0,
            1,
            2,
            4,
            3,
            1,
            2,
            4,
            0,
            3,
            2,
            1,
            4,
            2,
            4,
            3,
            0,
            0,
            1,
            3,
            3,
            3,
            2,
            3,
            2,
            3,
            2,
            2,
            1,
            2,
            4,
            3,
            2,
            1,
            4,
            0,
            4,
            0,
            2,
            0,
            0,
            2,
            2,
            4,
            3,
            1,
            1,
            2,
            4,
            0,
            1,
            2,
            3,
            4
           ],
           "ids": [
            0,
            1,
            2,
            3,
            4,
            5,
            6,
            7,
            8,
            9,
            10,
            11,
            12,
            13,
            14,
            15,
            16,
            17,
            18,
            19,
            20,
            21,
            22,
            23,
            24,
            25,
            26,
            27,
            28,
            29,
            30,
            31,
            32,
            33,
            34,
            35,
            36,
            37,
            38,
            39,
            40,
            41,
            42,
            43,
            44,
            45,
            46,
            47,
            48,
            49,
            50,
            51,
            52,
            53,
            54,
            55,
            56,
            57,
            58,
            59,
            60,
            61,
            62,
            63,
            64,
            65,
            66,
            67,
            68,
            69,
            70,
            71,
            72,
            73,
            74,
            75,
            76,
            77,
            78,
            79,
            80,
            81,
            82,
            83,
            84,
            85,
            86,
            87,
            88,
            89,
            90,
            91,
            92,
            93,
            94,
            95,
            96,
            97,
            98,
            99,
            100,
            101,
            102,
            103,
            104
           ],
           "legendgroup": "",
           "marker": {
            "color": [
             4,
             2,
             3,
             2,
             2,
             4,
             2,
             2,
             2,
             3,
             4,
             2,
             1,
             3,
             2,
             2,
             1,
             0,
             4,
             2,
             1,
             2,
             2,
             0,
             3,
             2,
             3,
             3,
             3,
             4,
             2,
             0,
             2,
             1,
             1,
             0,
             2,
             3,
             0,
             1,
             1,
             0,
             4,
             4,
             1,
             2,
             2,
             3,
             1,
             2,
             2,
             0,
             1,
             2,
             4,
             3,
             1,
             2,
             4,
             0,
             3,
             2,
             1,
             4,
             2,
             4,
             3,
             0,
             0,
             1,
             3,
             3,
             3,
             2,
             3,
             2,
             3,
             2,
             2,
             1,
             2,
             4,
             3,
             2,
             1,
             4,
             0,
             4,
             0,
             2,
             0,
             0,
             2,
             2,
             4,
             3,
             1,
             1,
             2,
             4,
             0,
             1,
             2,
             3,
             4
            ],
            "coloraxis": "coloraxis",
            "size": [
             1,
             1,
             1,
             1,
             1,
             1,
             1,
             1,
             1,
             1,
             1,
             1,
             1,
             1,
             1,
             1,
             1,
             1,
             1,
             1,
             1,
             1,
             1,
             1,
             1,
             1,
             1,
             1,
             1,
             1,
             1,
             1,
             1,
             1,
             1,
             1,
             1,
             1,
             1,
             1,
             1,
             1,
             1,
             1,
             1,
             1,
             1,
             1,
             1,
             1,
             1,
             1,
             1,
             1,
             1,
             1,
             1,
             1,
             1,
             1,
             1,
             1,
             1,
             1,
             1,
             1,
             1,
             1,
             1,
             1,
             1,
             1,
             1,
             1,
             1,
             1,
             1,
             1,
             1,
             1,
             1,
             1,
             1,
             1,
             1,
             1,
             1,
             1,
             1,
             1,
             1,
             1,
             1,
             1,
             1,
             1,
             1,
             1,
             1,
             1,
             3,
             3,
             3,
             3,
             3
            ],
            "sizemode": "area",
            "sizeref": 0.0075,
            "symbol": "circle"
           },
           "mode": "markers",
           "name": "",
           "orientation": "v",
           "showlegend": false,
           "type": "scatter",
           "x": [
            -0.082977995297426,
            -0.4998856251826551,
            -0.35324410918288696,
            -0.3137397886223291,
            -0.10323252576933006,
            -0.0808054855967052,
            -0.29554775026848257,
            -0.47261240680207384,
            -0.08269519763287303,
            -0.35961306140476623,
            0.30074456867553667,
            -0.18657582184075716,
            0.3763891522960383,
            -0.4149557886302221,
            -0.3301695804354311,
            -0.4016531661669499,
            0.45788953015050193,
            0.19187711395047335,
            0.18650092768158366,
            -0.4817117226558082,
            0.4888610889064947,
            -0.21955600793559482,
            -0.396773993422358,
            0.40859550309309556,
            -0.21222466141365126,
            -0.4806330421297029,
            -0.28837188399994096,
            -0.00842684071966171,
            0.07411760549201307,
            0.08930553690328424,
            -0.39766557117217416,
            0.1944001577277451,
            -0.45004654105391284,
            0.16379464521978881,
            0.44459475599081333,
            0.4034019152878835,
            -0.36072365274924145,
            -0.10232316301446642,
            0.4275085803960339,
            0.25081210313615554,
            0.38330609120580983,
            0.2509424340273372,
            -0.23007210823497393,
            -0.07190881012870509,
            0.16344149781844808,
            -0.3852540270466248,
            -0.050087866520059476,
            -0.09186319723871883,
            0.4033795205622538,
            -0.49712967296884103,
            -0.17335509822790385,
            0.3859420993107745,
            0.4085351509197992,
            -0.4841787571534437,
            0.19089691751692395,
            -0.32765949165467145,
            0.43259546303716356,
            -0.4339998272779375,
            0.2538761884612464,
            0.21152475862847175,
            -0.4801198661602044,
            -0.4716935119792054,
            0.360027948682888,
            0.05282197868576588,
            -0.37582668488008886,
            0.08575927145828788,
            0.06103021925570995,
            0.30063267268061633,
            0.30710519561877914,
            0.36354185455942867,
            0.056240233990418886,
            -0.44008231048778834,
            -0.4554481214552383,
            -0.2742906613921453,
            0.05971698205414244,
            -0.4280257203105132,
            0.06810046191994212,
            -0.24767425542967658,
            -0.3045705188906812,
            0.47001998908831233,
            -0.26015224085241384,
            0.11995571838137975,
            -0.34320860535391573,
            -0.42997785628077767,
            0.10632946165333035,
            -0.18263759067783925,
            0.07974521924579692,
            0.05094821911789682,
            0.1692328934531846,
            -0.43366516557155843,
            0.12971750702156448,
            0.25275555373881387,
            -0.23968490142145904,
            -0.30656571737667226,
            0.02467030912373369,
            -0.23670322951288902,
            0.23506596328866947,
            0.40781585250352403,
            -0.486048427024403,
            0.11677835700165762,
            0.29199323982610076,
            0.35508338160817193,
            -0.35330868071671834,
            -0.09762130360884347,
            0.06228952743295979
           ],
           "xaxis": "x",
           "y": [
            0.2203244934421581,
            -0.19766742736816023,
            -0.4076614052312022,
            -0.15443927295695226,
            0.038816734003356945,
            0.1852195003967595,
            0.3781174363909454,
            0.17046751017840223,
            0.05868982844575166,
            -0.3018985109151212,
            0.4682615757193975,
            0.19232261566931408,
            0.3946066635038473,
            -0.46094521676711764,
            0.37814250342941313,
            -0.07889237499494783,
            0.03316528497301707,
            -0.18448436899393705,
            0.3346256718973729,
            0.25014431494496747,
            0.2481656543798394,
            0.2892793284514885,
            -0.052106473824094834,
            -0.2063858516263205,
            -0.3699714278817223,
            0.17883553293989096,
            -0.2344533406277738,
            -0.4466374548829196,
            -0.35327142509418985,
            0.19975836002093117,
            -0.08594401218043168,
            -0.08582073047309735,
            0.035896405915511576,
            0.014889112058308562,
            0.08655504050199292,
            -0.3625252958537625,
            0.3073912887095238,
            -0.3346458028830672,
            -0.15223414025449344,
            0.22599798535045146,
            0.12367220705560888,
            -0.15110165802215747,
            0.39588621819606684,
            0.46484004714838556,
            0.12169572020912178,
            0.44948925870707124,
            0.07838961438713177,
            -0.2629730197569723,
            0.07367948667228585,
            0.11714491362072388,
            0.027058102257609296,
            -0.14273023999750023,
            0.12336011579180273,
            0.4294372337437613,
            0.4973228504514805,
            -0.36286425037112224,
            0.19681816148990017,
            0.2554630526024664,
            0.42302453554648334,
            -0.3757290380278353,
            -0.4737890131222807,
            -0.2537889323969541,
            0.03883106434165284,
            0.3420308923596057,
            -0.2208163209888605,
            0.46959574831967454,
            -0.481352710627057,
            -0.26702572615897957,
            -0.11213935593582824,
            0.24712164273718462,
            -0.363544774339315,
            -0.37865654425926265,
            -0.3925058708939071,
            0.21298898038267666,
            -0.48744401984088415,
            0.467276330000272,
            -0.2967067653390095,
            0.24382585407509294,
            0.08135892727325778,
            0.34682880149003525,
            -0.006230285731270047,
            0.32898089955017873,
            -0.4814237978225905,
            -0.01365488906296819,
            0.06885143708648134,
            0.4886161544124489,
            -0.1198588273764496,
            0.2453344309065021,
            -0.2350804423371906,
            -0.1299158020858937,
            -0.2898259900851604,
            -0.43346351864588506,
            0.3047545637433454,
            0.13946088087994013,
            0.4248079703993507,
            -0.4340389093159762,
            0.27217802954324677,
            0.4319720691968373,
            -0.2656379138785795,
            0.44901632068761643,
            -0.22572669719391558,
            0.17351315292739797,
            0.047291133986268115,
            -0.37207286235092224,
            0.36528374699986227
           ],
           "yaxis": "y"
          }
         ],
         "name": "9.0"
        },
        {
         "data": [
          {
           "customdata": [
            [
             0
            ],
            [
             1
            ],
            [
             2
            ],
            [
             3
            ],
            [
             4
            ],
            [
             5
            ],
            [
             6
            ],
            [
             7
            ],
            [
             8
            ],
            [
             9
            ],
            [
             10
            ],
            [
             11
            ],
            [
             12
            ],
            [
             13
            ],
            [
             14
            ],
            [
             15
            ],
            [
             16
            ],
            [
             17
            ],
            [
             18
            ],
            [
             19
            ],
            [
             20
            ],
            [
             21
            ],
            [
             22
            ],
            [
             23
            ],
            [
             24
            ],
            [
             25
            ],
            [
             26
            ],
            [
             27
            ],
            [
             28
            ],
            [
             29
            ],
            [
             30
            ],
            [
             31
            ],
            [
             32
            ],
            [
             33
            ],
            [
             34
            ],
            [
             35
            ],
            [
             36
            ],
            [
             37
            ],
            [
             38
            ],
            [
             39
            ],
            [
             40
            ],
            [
             41
            ],
            [
             42
            ],
            [
             43
            ],
            [
             44
            ],
            [
             45
            ],
            [
             46
            ],
            [
             47
            ],
            [
             48
            ],
            [
             49
            ],
            [
             50
            ],
            [
             51
            ],
            [
             52
            ],
            [
             53
            ],
            [
             54
            ],
            [
             55
            ],
            [
             56
            ],
            [
             57
            ],
            [
             58
            ],
            [
             59
            ],
            [
             60
            ],
            [
             61
            ],
            [
             62
            ],
            [
             63
            ],
            [
             64
            ],
            [
             65
            ],
            [
             66
            ],
            [
             67
            ],
            [
             68
            ],
            [
             69
            ],
            [
             70
            ],
            [
             71
            ],
            [
             72
            ],
            [
             73
            ],
            [
             74
            ],
            [
             75
            ],
            [
             76
            ],
            [
             77
            ],
            [
             78
            ],
            [
             79
            ],
            [
             80
            ],
            [
             81
            ],
            [
             82
            ],
            [
             83
            ],
            [
             84
            ],
            [
             85
            ],
            [
             86
            ],
            [
             87
            ],
            [
             88
            ],
            [
             89
            ],
            [
             90
            ],
            [
             91
            ],
            [
             92
            ],
            [
             93
            ],
            [
             94
            ],
            [
             95
            ],
            [
             96
            ],
            [
             97
            ],
            [
             98
            ],
            [
             99
            ],
            [
             100
            ],
            [
             101
            ],
            [
             102
            ],
            [
             103
            ],
            [
             104
            ]
           ],
           "hovertemplate": "<b>%{hovertext}</b><br><br>t=10.0<br>x=%{x}<br>y=%{y}<br>sizes=%{marker.size}<br>point_number=%{customdata[0]}<br>cluster=%{marker.color}<extra></extra>",
           "hovertext": [
            4,
            2,
            3,
            2,
            2,
            4,
            2,
            2,
            2,
            3,
            4,
            2,
            1,
            3,
            2,
            2,
            1,
            0,
            4,
            2,
            1,
            2,
            2,
            0,
            3,
            2,
            3,
            3,
            3,
            4,
            2,
            0,
            2,
            1,
            1,
            0,
            2,
            3,
            0,
            1,
            1,
            0,
            4,
            4,
            1,
            2,
            2,
            3,
            1,
            2,
            2,
            0,
            1,
            2,
            4,
            3,
            1,
            2,
            4,
            0,
            3,
            2,
            1,
            4,
            2,
            4,
            3,
            0,
            0,
            1,
            3,
            3,
            3,
            2,
            3,
            2,
            3,
            2,
            2,
            1,
            2,
            4,
            3,
            2,
            1,
            4,
            0,
            4,
            0,
            2,
            0,
            0,
            2,
            2,
            4,
            3,
            1,
            1,
            2,
            4,
            0,
            1,
            2,
            3,
            4
           ],
           "ids": [
            0,
            1,
            2,
            3,
            4,
            5,
            6,
            7,
            8,
            9,
            10,
            11,
            12,
            13,
            14,
            15,
            16,
            17,
            18,
            19,
            20,
            21,
            22,
            23,
            24,
            25,
            26,
            27,
            28,
            29,
            30,
            31,
            32,
            33,
            34,
            35,
            36,
            37,
            38,
            39,
            40,
            41,
            42,
            43,
            44,
            45,
            46,
            47,
            48,
            49,
            50,
            51,
            52,
            53,
            54,
            55,
            56,
            57,
            58,
            59,
            60,
            61,
            62,
            63,
            64,
            65,
            66,
            67,
            68,
            69,
            70,
            71,
            72,
            73,
            74,
            75,
            76,
            77,
            78,
            79,
            80,
            81,
            82,
            83,
            84,
            85,
            86,
            87,
            88,
            89,
            90,
            91,
            92,
            93,
            94,
            95,
            96,
            97,
            98,
            99,
            100,
            101,
            102,
            103,
            104
           ],
           "legendgroup": "",
           "marker": {
            "color": [
             4,
             2,
             3,
             2,
             2,
             4,
             2,
             2,
             2,
             3,
             4,
             2,
             1,
             3,
             2,
             2,
             1,
             0,
             4,
             2,
             1,
             2,
             2,
             0,
             3,
             2,
             3,
             3,
             3,
             4,
             2,
             0,
             2,
             1,
             1,
             0,
             2,
             3,
             0,
             1,
             1,
             0,
             4,
             4,
             1,
             2,
             2,
             3,
             1,
             2,
             2,
             0,
             1,
             2,
             4,
             3,
             1,
             2,
             4,
             0,
             3,
             2,
             1,
             4,
             2,
             4,
             3,
             0,
             0,
             1,
             3,
             3,
             3,
             2,
             3,
             2,
             3,
             2,
             2,
             1,
             2,
             4,
             3,
             2,
             1,
             4,
             0,
             4,
             0,
             2,
             0,
             0,
             2,
             2,
             4,
             3,
             1,
             1,
             2,
             4,
             0,
             1,
             2,
             3,
             4
            ],
            "coloraxis": "coloraxis",
            "size": [
             1,
             1,
             1,
             1,
             1,
             1,
             1,
             1,
             1,
             1,
             1,
             1,
             1,
             1,
             1,
             1,
             1,
             1,
             1,
             1,
             1,
             1,
             1,
             1,
             1,
             1,
             1,
             1,
             1,
             1,
             1,
             1,
             1,
             1,
             1,
             1,
             1,
             1,
             1,
             1,
             1,
             1,
             1,
             1,
             1,
             1,
             1,
             1,
             1,
             1,
             1,
             1,
             1,
             1,
             1,
             1,
             1,
             1,
             1,
             1,
             1,
             1,
             1,
             1,
             1,
             1,
             1,
             1,
             1,
             1,
             1,
             1,
             1,
             1,
             1,
             1,
             1,
             1,
             1,
             1,
             1,
             1,
             1,
             1,
             1,
             1,
             1,
             1,
             1,
             1,
             1,
             1,
             1,
             1,
             1,
             1,
             1,
             1,
             1,
             1,
             3,
             3,
             3,
             3,
             3
            ],
            "sizemode": "area",
            "sizeref": 0.0075,
            "symbol": "circle"
           },
           "mode": "markers",
           "name": "",
           "orientation": "v",
           "showlegend": false,
           "type": "scatter",
           "x": [
            -0.082977995297426,
            -0.4998856251826551,
            -0.35324410918288696,
            -0.3137397886223291,
            -0.10323252576933006,
            -0.0808054855967052,
            -0.29554775026848257,
            -0.47261240680207384,
            -0.08269519763287303,
            -0.35961306140476623,
            0.30074456867553667,
            -0.18657582184075716,
            0.3763891522960383,
            -0.4149557886302221,
            -0.3301695804354311,
            -0.4016531661669499,
            0.45788953015050193,
            0.19187711395047335,
            0.18650092768158366,
            -0.4817117226558082,
            0.4888610889064947,
            -0.21955600793559482,
            -0.396773993422358,
            0.40859550309309556,
            -0.21222466141365126,
            -0.4806330421297029,
            -0.28837188399994096,
            -0.00842684071966171,
            0.07411760549201307,
            0.08930553690328424,
            -0.39766557117217416,
            0.1944001577277451,
            -0.45004654105391284,
            0.16379464521978881,
            0.44459475599081333,
            0.4034019152878835,
            -0.36072365274924145,
            -0.10232316301446642,
            0.4275085803960339,
            0.25081210313615554,
            0.38330609120580983,
            0.2509424340273372,
            -0.23007210823497393,
            -0.07190881012870509,
            0.16344149781844808,
            -0.3852540270466248,
            -0.050087866520059476,
            -0.09186319723871883,
            0.4033795205622538,
            -0.49712967296884103,
            -0.17335509822790385,
            0.3859420993107745,
            0.4085351509197992,
            -0.4841787571534437,
            0.19089691751692395,
            -0.32765949165467145,
            0.43259546303716356,
            -0.4339998272779375,
            0.2538761884612464,
            0.21152475862847175,
            -0.4801198661602044,
            -0.4716935119792054,
            0.360027948682888,
            0.05282197868576588,
            -0.37582668488008886,
            0.08575927145828788,
            0.06103021925570995,
            0.30063267268061633,
            0.30710519561877914,
            0.36354185455942867,
            0.056240233990418886,
            -0.44008231048778834,
            -0.4554481214552383,
            -0.2742906613921453,
            0.05971698205414244,
            -0.4280257203105132,
            0.06810046191994212,
            -0.24767425542967658,
            -0.3045705188906812,
            0.47001998908831233,
            -0.26015224085241384,
            0.11995571838137975,
            -0.34320860535391573,
            -0.42997785628077767,
            0.10632946165333035,
            -0.18263759067783925,
            0.07974521924579692,
            0.05094821911789682,
            0.1692328934531846,
            -0.43366516557155843,
            0.12971750702156448,
            0.25275555373881387,
            -0.23968490142145904,
            -0.30656571737667226,
            0.02467030912373369,
            -0.23670322951288902,
            0.23506596328866947,
            0.40781585250352403,
            -0.486048427024403,
            0.11677835700165762,
            0.26524154315575504,
            0.3480235334717306,
            -0.3457471560130612,
            -0.19973888565877868,
            0.05149100019197794
           ],
           "xaxis": "x",
           "y": [
            0.2203244934421581,
            -0.19766742736816023,
            -0.4076614052312022,
            -0.15443927295695226,
            0.038816734003356945,
            0.1852195003967595,
            0.3781174363909454,
            0.17046751017840223,
            0.05868982844575166,
            -0.3018985109151212,
            0.4682615757193975,
            0.19232261566931408,
            0.3946066635038473,
            -0.46094521676711764,
            0.37814250342941313,
            -0.07889237499494783,
            0.03316528497301707,
            -0.18448436899393705,
            0.3346256718973729,
            0.25014431494496747,
            0.2481656543798394,
            0.2892793284514885,
            -0.052106473824094834,
            -0.2063858516263205,
            -0.3699714278817223,
            0.17883553293989096,
            -0.2344533406277738,
            -0.4466374548829196,
            -0.35327142509418985,
            0.19975836002093117,
            -0.08594401218043168,
            -0.08582073047309735,
            0.035896405915511576,
            0.014889112058308562,
            0.08655504050199292,
            -0.3625252958537625,
            0.3073912887095238,
            -0.3346458028830672,
            -0.15223414025449344,
            0.22599798535045146,
            0.12367220705560888,
            -0.15110165802215747,
            0.39588621819606684,
            0.46484004714838556,
            0.12169572020912178,
            0.44948925870707124,
            0.07838961438713177,
            -0.2629730197569723,
            0.07367948667228585,
            0.11714491362072388,
            0.027058102257609296,
            -0.14273023999750023,
            0.12336011579180273,
            0.4294372337437613,
            0.4973228504514805,
            -0.36286425037112224,
            0.19681816148990017,
            0.2554630526024664,
            0.42302453554648334,
            -0.3757290380278353,
            -0.4737890131222807,
            -0.2537889323969541,
            0.03883106434165284,
            0.3420308923596057,
            -0.2208163209888605,
            0.46959574831967454,
            -0.481352710627057,
            -0.26702572615897957,
            -0.11213935593582824,
            0.24712164273718462,
            -0.363544774339315,
            -0.37865654425926265,
            -0.3925058708939071,
            0.21298898038267666,
            -0.48744401984088415,
            0.467276330000272,
            -0.2967067653390095,
            0.24382585407509294,
            0.08135892727325778,
            0.34682880149003525,
            -0.006230285731270047,
            0.32898089955017873,
            -0.4814237978225905,
            -0.01365488906296819,
            0.06885143708648134,
            0.4886161544124489,
            -0.1198588273764496,
            0.2453344309065021,
            -0.2350804423371906,
            -0.1299158020858937,
            -0.2898259900851604,
            -0.43346351864588506,
            0.3047545637433454,
            0.13946088087994013,
            0.4248079703993507,
            -0.4340389093159762,
            0.27217802954324677,
            0.4319720691968373,
            -0.2656379138785795,
            0.44901632068761643,
            -0.22274322741347125,
            0.17931696919891849,
            0.10663698544949418,
            -0.38551496105113114,
            0.3711028543409008
           ],
           "yaxis": "y"
          }
         ],
         "name": "10.0"
        },
        {
         "data": [
          {
           "customdata": [
            [
             0
            ],
            [
             1
            ],
            [
             2
            ],
            [
             3
            ],
            [
             4
            ],
            [
             5
            ],
            [
             6
            ],
            [
             7
            ],
            [
             8
            ],
            [
             9
            ],
            [
             10
            ],
            [
             11
            ],
            [
             12
            ],
            [
             13
            ],
            [
             14
            ],
            [
             15
            ],
            [
             16
            ],
            [
             17
            ],
            [
             18
            ],
            [
             19
            ],
            [
             20
            ],
            [
             21
            ],
            [
             22
            ],
            [
             23
            ],
            [
             24
            ],
            [
             25
            ],
            [
             26
            ],
            [
             27
            ],
            [
             28
            ],
            [
             29
            ],
            [
             30
            ],
            [
             31
            ],
            [
             32
            ],
            [
             33
            ],
            [
             34
            ],
            [
             35
            ],
            [
             36
            ],
            [
             37
            ],
            [
             38
            ],
            [
             39
            ],
            [
             40
            ],
            [
             41
            ],
            [
             42
            ],
            [
             43
            ],
            [
             44
            ],
            [
             45
            ],
            [
             46
            ],
            [
             47
            ],
            [
             48
            ],
            [
             49
            ],
            [
             50
            ],
            [
             51
            ],
            [
             52
            ],
            [
             53
            ],
            [
             54
            ],
            [
             55
            ],
            [
             56
            ],
            [
             57
            ],
            [
             58
            ],
            [
             59
            ],
            [
             60
            ],
            [
             61
            ],
            [
             62
            ],
            [
             63
            ],
            [
             64
            ],
            [
             65
            ],
            [
             66
            ],
            [
             67
            ],
            [
             68
            ],
            [
             69
            ],
            [
             70
            ],
            [
             71
            ],
            [
             72
            ],
            [
             73
            ],
            [
             74
            ],
            [
             75
            ],
            [
             76
            ],
            [
             77
            ],
            [
             78
            ],
            [
             79
            ],
            [
             80
            ],
            [
             81
            ],
            [
             82
            ],
            [
             83
            ],
            [
             84
            ],
            [
             85
            ],
            [
             86
            ],
            [
             87
            ],
            [
             88
            ],
            [
             89
            ],
            [
             90
            ],
            [
             91
            ],
            [
             92
            ],
            [
             93
            ],
            [
             94
            ],
            [
             95
            ],
            [
             96
            ],
            [
             97
            ],
            [
             98
            ],
            [
             99
            ],
            [
             100
            ],
            [
             101
            ],
            [
             102
            ],
            [
             103
            ],
            [
             104
            ]
           ],
           "hovertemplate": "<b>%{hovertext}</b><br><br>t=11.0<br>x=%{x}<br>y=%{y}<br>sizes=%{marker.size}<br>point_number=%{customdata[0]}<br>cluster=%{marker.color}<extra></extra>",
           "hovertext": [
            4,
            2,
            3,
            3,
            2,
            4,
            2,
            2,
            2,
            3,
            4,
            2,
            1,
            3,
            2,
            2,
            1,
            0,
            4,
            2,
            1,
            2,
            2,
            0,
            3,
            2,
            3,
            3,
            0,
            4,
            2,
            0,
            2,
            1,
            1,
            0,
            2,
            3,
            0,
            1,
            1,
            0,
            4,
            4,
            1,
            2,
            2,
            3,
            1,
            2,
            2,
            0,
            1,
            2,
            4,
            3,
            1,
            2,
            4,
            0,
            3,
            3,
            1,
            4,
            3,
            4,
            3,
            0,
            0,
            1,
            0,
            3,
            3,
            2,
            3,
            2,
            0,
            2,
            2,
            1,
            2,
            4,
            3,
            2,
            1,
            4,
            0,
            4,
            0,
            2,
            0,
            0,
            2,
            2,
            4,
            3,
            1,
            1,
            3,
            4,
            0,
            1,
            2,
            3,
            4
           ],
           "ids": [
            0,
            1,
            2,
            3,
            4,
            5,
            6,
            7,
            8,
            9,
            10,
            11,
            12,
            13,
            14,
            15,
            16,
            17,
            18,
            19,
            20,
            21,
            22,
            23,
            24,
            25,
            26,
            27,
            28,
            29,
            30,
            31,
            32,
            33,
            34,
            35,
            36,
            37,
            38,
            39,
            40,
            41,
            42,
            43,
            44,
            45,
            46,
            47,
            48,
            49,
            50,
            51,
            52,
            53,
            54,
            55,
            56,
            57,
            58,
            59,
            60,
            61,
            62,
            63,
            64,
            65,
            66,
            67,
            68,
            69,
            70,
            71,
            72,
            73,
            74,
            75,
            76,
            77,
            78,
            79,
            80,
            81,
            82,
            83,
            84,
            85,
            86,
            87,
            88,
            89,
            90,
            91,
            92,
            93,
            94,
            95,
            96,
            97,
            98,
            99,
            100,
            101,
            102,
            103,
            104
           ],
           "legendgroup": "",
           "marker": {
            "color": [
             4,
             2,
             3,
             3,
             2,
             4,
             2,
             2,
             2,
             3,
             4,
             2,
             1,
             3,
             2,
             2,
             1,
             0,
             4,
             2,
             1,
             2,
             2,
             0,
             3,
             2,
             3,
             3,
             0,
             4,
             2,
             0,
             2,
             1,
             1,
             0,
             2,
             3,
             0,
             1,
             1,
             0,
             4,
             4,
             1,
             2,
             2,
             3,
             1,
             2,
             2,
             0,
             1,
             2,
             4,
             3,
             1,
             2,
             4,
             0,
             3,
             3,
             1,
             4,
             3,
             4,
             3,
             0,
             0,
             1,
             0,
             3,
             3,
             2,
             3,
             2,
             0,
             2,
             2,
             1,
             2,
             4,
             3,
             2,
             1,
             4,
             0,
             4,
             0,
             2,
             0,
             0,
             2,
             2,
             4,
             3,
             1,
             1,
             3,
             4,
             0,
             1,
             2,
             3,
             4
            ],
            "coloraxis": "coloraxis",
            "size": [
             1,
             1,
             1,
             1,
             1,
             1,
             1,
             1,
             1,
             1,
             1,
             1,
             1,
             1,
             1,
             1,
             1,
             1,
             1,
             1,
             1,
             1,
             1,
             1,
             1,
             1,
             1,
             1,
             1,
             1,
             1,
             1,
             1,
             1,
             1,
             1,
             1,
             1,
             1,
             1,
             1,
             1,
             1,
             1,
             1,
             1,
             1,
             1,
             1,
             1,
             1,
             1,
             1,
             1,
             1,
             1,
             1,
             1,
             1,
             1,
             1,
             1,
             1,
             1,
             1,
             1,
             1,
             1,
             1,
             1,
             1,
             1,
             1,
             1,
             1,
             1,
             1,
             1,
             1,
             1,
             1,
             1,
             1,
             1,
             1,
             1,
             1,
             1,
             1,
             1,
             1,
             1,
             1,
             1,
             1,
             1,
             1,
             1,
             1,
             1,
             3,
             3,
             3,
             3,
             3
            ],
            "sizemode": "area",
            "sizeref": 0.0075,
            "symbol": "circle"
           },
           "mode": "markers",
           "name": "",
           "orientation": "v",
           "showlegend": false,
           "type": "scatter",
           "x": [
            -0.082977995297426,
            -0.4998856251826551,
            -0.35324410918288696,
            -0.3137397886223291,
            -0.10323252576933006,
            -0.0808054855967052,
            -0.29554775026848257,
            -0.47261240680207384,
            -0.08269519763287303,
            -0.35961306140476623,
            0.30074456867553667,
            -0.18657582184075716,
            0.3763891522960383,
            -0.4149557886302221,
            -0.3301695804354311,
            -0.4016531661669499,
            0.45788953015050193,
            0.19187711395047335,
            0.18650092768158366,
            -0.4817117226558082,
            0.4888610889064947,
            -0.21955600793559482,
            -0.396773993422358,
            0.40859550309309556,
            -0.21222466141365126,
            -0.4806330421297029,
            -0.28837188399994096,
            -0.00842684071966171,
            0.07411760549201307,
            0.08930553690328424,
            -0.39766557117217416,
            0.1944001577277451,
            -0.45004654105391284,
            0.16379464521978881,
            0.44459475599081333,
            0.4034019152878835,
            -0.36072365274924145,
            -0.10232316301446642,
            0.4275085803960339,
            0.25081210313615554,
            0.38330609120580983,
            0.2509424340273372,
            -0.23007210823497393,
            -0.07190881012870509,
            0.16344149781844808,
            -0.3852540270466248,
            -0.050087866520059476,
            -0.09186319723871883,
            0.4033795205622538,
            -0.49712967296884103,
            -0.17335509822790385,
            0.3859420993107745,
            0.4085351509197992,
            -0.4841787571534437,
            0.19089691751692395,
            -0.32765949165467145,
            0.43259546303716356,
            -0.4339998272779375,
            0.2538761884612464,
            0.21152475862847175,
            -0.4801198661602044,
            -0.4716935119792054,
            0.360027948682888,
            0.05282197868576588,
            -0.37582668488008886,
            0.08575927145828788,
            0.06103021925570995,
            0.30063267268061633,
            0.30710519561877914,
            0.36354185455942867,
            0.056240233990418886,
            -0.44008231048778834,
            -0.4554481214552383,
            -0.2742906613921453,
            0.05971698205414244,
            -0.4280257203105132,
            0.06810046191994212,
            -0.24767425542967658,
            -0.3045705188906812,
            0.47001998908831233,
            -0.26015224085241384,
            0.11995571838137975,
            -0.34320860535391573,
            -0.42997785628077767,
            0.10632946165333035,
            -0.18263759067783925,
            0.07974521924579692,
            0.05094821911789682,
            0.1692328934531846,
            -0.43366516557155843,
            0.12971750702156448,
            0.25275555373881387,
            -0.23968490142145904,
            -0.30656571737667226,
            0.02467030912373369,
            -0.23670322951288902,
            0.23506596328866947,
            0.40781585250352403,
            -0.486048427024403,
            0.11677835700165762,
            0.26524154315575504,
            0.3480235334717306,
            -0.3457471560130612,
            -0.19973888565877868,
            0.05149100019197794
           ],
           "xaxis": "x",
           "y": [
            0.2203244934421581,
            -0.19766742736816023,
            -0.4076614052312022,
            -0.15443927295695226,
            0.038816734003356945,
            0.1852195003967595,
            0.3781174363909454,
            0.17046751017840223,
            0.05868982844575166,
            -0.3018985109151212,
            0.4682615757193975,
            0.19232261566931408,
            0.3946066635038473,
            -0.46094521676711764,
            0.37814250342941313,
            -0.07889237499494783,
            0.03316528497301707,
            -0.18448436899393705,
            0.3346256718973729,
            0.25014431494496747,
            0.2481656543798394,
            0.2892793284514885,
            -0.052106473824094834,
            -0.2063858516263205,
            -0.3699714278817223,
            0.17883553293989096,
            -0.2344533406277738,
            -0.4466374548829196,
            -0.35327142509418985,
            0.19975836002093117,
            -0.08594401218043168,
            -0.08582073047309735,
            0.035896405915511576,
            0.014889112058308562,
            0.08655504050199292,
            -0.3625252958537625,
            0.3073912887095238,
            -0.3346458028830672,
            -0.15223414025449344,
            0.22599798535045146,
            0.12367220705560888,
            -0.15110165802215747,
            0.39588621819606684,
            0.46484004714838556,
            0.12169572020912178,
            0.44948925870707124,
            0.07838961438713177,
            -0.2629730197569723,
            0.07367948667228585,
            0.11714491362072388,
            0.027058102257609296,
            -0.14273023999750023,
            0.12336011579180273,
            0.4294372337437613,
            0.4973228504514805,
            -0.36286425037112224,
            0.19681816148990017,
            0.2554630526024664,
            0.42302453554648334,
            -0.3757290380278353,
            -0.4737890131222807,
            -0.2537889323969541,
            0.03883106434165284,
            0.3420308923596057,
            -0.2208163209888605,
            0.46959574831967454,
            -0.481352710627057,
            -0.26702572615897957,
            -0.11213935593582824,
            0.24712164273718462,
            -0.363544774339315,
            -0.37865654425926265,
            -0.3925058708939071,
            0.21298898038267666,
            -0.48744401984088415,
            0.467276330000272,
            -0.2967067653390095,
            0.24382585407509294,
            0.08135892727325778,
            0.34682880149003525,
            -0.006230285731270047,
            0.32898089955017873,
            -0.4814237978225905,
            -0.01365488906296819,
            0.06885143708648134,
            0.4886161544124489,
            -0.1198588273764496,
            0.2453344309065021,
            -0.2350804423371906,
            -0.1299158020858937,
            -0.2898259900851604,
            -0.43346351864588506,
            0.3047545637433454,
            0.13946088087994013,
            0.4248079703993507,
            -0.4340389093159762,
            0.27217802954324677,
            0.4319720691968373,
            -0.2656379138785795,
            0.44901632068761643,
            -0.22274322741347125,
            0.17931696919891849,
            0.10663698544949418,
            -0.38551496105113114,
            0.3711028543409008
           ],
           "yaxis": "y"
          }
         ],
         "name": "11.0"
        },
        {
         "data": [
          {
           "customdata": [
            [
             0
            ],
            [
             1
            ],
            [
             2
            ],
            [
             3
            ],
            [
             4
            ],
            [
             5
            ],
            [
             6
            ],
            [
             7
            ],
            [
             8
            ],
            [
             9
            ],
            [
             10
            ],
            [
             11
            ],
            [
             12
            ],
            [
             13
            ],
            [
             14
            ],
            [
             15
            ],
            [
             16
            ],
            [
             17
            ],
            [
             18
            ],
            [
             19
            ],
            [
             20
            ],
            [
             21
            ],
            [
             22
            ],
            [
             23
            ],
            [
             24
            ],
            [
             25
            ],
            [
             26
            ],
            [
             27
            ],
            [
             28
            ],
            [
             29
            ],
            [
             30
            ],
            [
             31
            ],
            [
             32
            ],
            [
             33
            ],
            [
             34
            ],
            [
             35
            ],
            [
             36
            ],
            [
             37
            ],
            [
             38
            ],
            [
             39
            ],
            [
             40
            ],
            [
             41
            ],
            [
             42
            ],
            [
             43
            ],
            [
             44
            ],
            [
             45
            ],
            [
             46
            ],
            [
             47
            ],
            [
             48
            ],
            [
             49
            ],
            [
             50
            ],
            [
             51
            ],
            [
             52
            ],
            [
             53
            ],
            [
             54
            ],
            [
             55
            ],
            [
             56
            ],
            [
             57
            ],
            [
             58
            ],
            [
             59
            ],
            [
             60
            ],
            [
             61
            ],
            [
             62
            ],
            [
             63
            ],
            [
             64
            ],
            [
             65
            ],
            [
             66
            ],
            [
             67
            ],
            [
             68
            ],
            [
             69
            ],
            [
             70
            ],
            [
             71
            ],
            [
             72
            ],
            [
             73
            ],
            [
             74
            ],
            [
             75
            ],
            [
             76
            ],
            [
             77
            ],
            [
             78
            ],
            [
             79
            ],
            [
             80
            ],
            [
             81
            ],
            [
             82
            ],
            [
             83
            ],
            [
             84
            ],
            [
             85
            ],
            [
             86
            ],
            [
             87
            ],
            [
             88
            ],
            [
             89
            ],
            [
             90
            ],
            [
             91
            ],
            [
             92
            ],
            [
             93
            ],
            [
             94
            ],
            [
             95
            ],
            [
             96
            ],
            [
             97
            ],
            [
             98
            ],
            [
             99
            ],
            [
             100
            ],
            [
             101
            ],
            [
             102
            ],
            [
             103
            ],
            [
             104
            ]
           ],
           "hovertemplate": "<b>%{hovertext}</b><br><br>t=12.0<br>x=%{x}<br>y=%{y}<br>sizes=%{marker.size}<br>point_number=%{customdata[0]}<br>cluster=%{marker.color}<extra></extra>",
           "hovertext": [
            4,
            2,
            3,
            3,
            2,
            4,
            2,
            2,
            2,
            3,
            4,
            2,
            1,
            3,
            2,
            2,
            1,
            0,
            4,
            2,
            1,
            2,
            2,
            0,
            3,
            2,
            3,
            3,
            0,
            4,
            2,
            0,
            2,
            1,
            1,
            0,
            2,
            3,
            0,
            1,
            1,
            0,
            4,
            4,
            1,
            2,
            2,
            3,
            1,
            2,
            2,
            0,
            1,
            2,
            4,
            3,
            1,
            2,
            4,
            0,
            3,
            3,
            1,
            4,
            3,
            4,
            3,
            0,
            0,
            1,
            0,
            3,
            3,
            2,
            3,
            2,
            0,
            2,
            2,
            1,
            2,
            4,
            3,
            2,
            1,
            4,
            0,
            4,
            0,
            2,
            0,
            0,
            2,
            2,
            4,
            3,
            1,
            1,
            3,
            4,
            0,
            1,
            2,
            3,
            4
           ],
           "ids": [
            0,
            1,
            2,
            3,
            4,
            5,
            6,
            7,
            8,
            9,
            10,
            11,
            12,
            13,
            14,
            15,
            16,
            17,
            18,
            19,
            20,
            21,
            22,
            23,
            24,
            25,
            26,
            27,
            28,
            29,
            30,
            31,
            32,
            33,
            34,
            35,
            36,
            37,
            38,
            39,
            40,
            41,
            42,
            43,
            44,
            45,
            46,
            47,
            48,
            49,
            50,
            51,
            52,
            53,
            54,
            55,
            56,
            57,
            58,
            59,
            60,
            61,
            62,
            63,
            64,
            65,
            66,
            67,
            68,
            69,
            70,
            71,
            72,
            73,
            74,
            75,
            76,
            77,
            78,
            79,
            80,
            81,
            82,
            83,
            84,
            85,
            86,
            87,
            88,
            89,
            90,
            91,
            92,
            93,
            94,
            95,
            96,
            97,
            98,
            99,
            100,
            101,
            102,
            103,
            104
           ],
           "legendgroup": "",
           "marker": {
            "color": [
             4,
             2,
             3,
             3,
             2,
             4,
             2,
             2,
             2,
             3,
             4,
             2,
             1,
             3,
             2,
             2,
             1,
             0,
             4,
             2,
             1,
             2,
             2,
             0,
             3,
             2,
             3,
             3,
             0,
             4,
             2,
             0,
             2,
             1,
             1,
             0,
             2,
             3,
             0,
             1,
             1,
             0,
             4,
             4,
             1,
             2,
             2,
             3,
             1,
             2,
             2,
             0,
             1,
             2,
             4,
             3,
             1,
             2,
             4,
             0,
             3,
             3,
             1,
             4,
             3,
             4,
             3,
             0,
             0,
             1,
             0,
             3,
             3,
             2,
             3,
             2,
             0,
             2,
             2,
             1,
             2,
             4,
             3,
             2,
             1,
             4,
             0,
             4,
             0,
             2,
             0,
             0,
             2,
             2,
             4,
             3,
             1,
             1,
             3,
             4,
             0,
             1,
             2,
             3,
             4
            ],
            "coloraxis": "coloraxis",
            "size": [
             1,
             1,
             1,
             1,
             1,
             1,
             1,
             1,
             1,
             1,
             1,
             1,
             1,
             1,
             1,
             1,
             1,
             1,
             1,
             1,
             1,
             1,
             1,
             1,
             1,
             1,
             1,
             1,
             1,
             1,
             1,
             1,
             1,
             1,
             1,
             1,
             1,
             1,
             1,
             1,
             1,
             1,
             1,
             1,
             1,
             1,
             1,
             1,
             1,
             1,
             1,
             1,
             1,
             1,
             1,
             1,
             1,
             1,
             1,
             1,
             1,
             1,
             1,
             1,
             1,
             1,
             1,
             1,
             1,
             1,
             1,
             1,
             1,
             1,
             1,
             1,
             1,
             1,
             1,
             1,
             1,
             1,
             1,
             1,
             1,
             1,
             1,
             1,
             1,
             1,
             1,
             1,
             1,
             1,
             1,
             1,
             1,
             1,
             1,
             1,
             3,
             3,
             3,
             3,
             3
            ],
            "sizemode": "area",
            "sizeref": 0.0075,
            "symbol": "circle"
           },
           "mode": "markers",
           "name": "",
           "orientation": "v",
           "showlegend": false,
           "type": "scatter",
           "x": [
            -0.082977995297426,
            -0.4998856251826551,
            -0.35324410918288696,
            -0.3137397886223291,
            -0.10323252576933006,
            -0.0808054855967052,
            -0.29554775026848257,
            -0.47261240680207384,
            -0.08269519763287303,
            -0.35961306140476623,
            0.30074456867553667,
            -0.18657582184075716,
            0.3763891522960383,
            -0.4149557886302221,
            -0.3301695804354311,
            -0.4016531661669499,
            0.45788953015050193,
            0.19187711395047335,
            0.18650092768158366,
            -0.4817117226558082,
            0.4888610889064947,
            -0.21955600793559482,
            -0.396773993422358,
            0.40859550309309556,
            -0.21222466141365126,
            -0.4806330421297029,
            -0.28837188399994096,
            -0.00842684071966171,
            0.07411760549201307,
            0.08930553690328424,
            -0.39766557117217416,
            0.1944001577277451,
            -0.45004654105391284,
            0.16379464521978881,
            0.44459475599081333,
            0.4034019152878835,
            -0.36072365274924145,
            -0.10232316301446642,
            0.4275085803960339,
            0.25081210313615554,
            0.38330609120580983,
            0.2509424340273372,
            -0.23007210823497393,
            -0.07190881012870509,
            0.16344149781844808,
            -0.3852540270466248,
            -0.050087866520059476,
            -0.09186319723871883,
            0.4033795205622538,
            -0.49712967296884103,
            -0.17335509822790385,
            0.3859420993107745,
            0.4085351509197992,
            -0.4841787571534437,
            0.19089691751692395,
            -0.32765949165467145,
            0.43259546303716356,
            -0.4339998272779375,
            0.2538761884612464,
            0.21152475862847175,
            -0.4801198661602044,
            -0.4716935119792054,
            0.360027948682888,
            0.05282197868576588,
            -0.37582668488008886,
            0.08575927145828788,
            0.06103021925570995,
            0.30063267268061633,
            0.30710519561877914,
            0.36354185455942867,
            0.056240233990418886,
            -0.44008231048778834,
            -0.4554481214552383,
            -0.2742906613921453,
            0.05971698205414244,
            -0.4280257203105132,
            0.06810046191994212,
            -0.24767425542967658,
            -0.3045705188906812,
            0.47001998908831233,
            -0.26015224085241384,
            0.11995571838137975,
            -0.34320860535391573,
            -0.42997785628077767,
            0.10632946165333035,
            -0.18263759067783925,
            0.07974521924579692,
            0.05094821911789682,
            0.1692328934531846,
            -0.43366516557155843,
            0.12971750702156448,
            0.25275555373881387,
            -0.23968490142145904,
            -0.30656571737667226,
            0.02467030912373369,
            -0.23670322951288902,
            0.23506596328866947,
            0.40781585250352403,
            -0.486048427024403,
            0.11677835700165762,
            0.2301082297401732,
            0.3480235334717306,
            -0.33693649639793505,
            -0.2820402770712598,
            0.05149100019197794
           ],
           "xaxis": "x",
           "y": [
            0.2203244934421581,
            -0.19766742736816023,
            -0.4076614052312022,
            -0.15443927295695226,
            0.038816734003356945,
            0.1852195003967595,
            0.3781174363909454,
            0.17046751017840223,
            0.05868982844575166,
            -0.3018985109151212,
            0.4682615757193975,
            0.19232261566931408,
            0.3946066635038473,
            -0.46094521676711764,
            0.37814250342941313,
            -0.07889237499494783,
            0.03316528497301707,
            -0.18448436899393705,
            0.3346256718973729,
            0.25014431494496747,
            0.2481656543798394,
            0.2892793284514885,
            -0.052106473824094834,
            -0.2063858516263205,
            -0.3699714278817223,
            0.17883553293989096,
            -0.2344533406277738,
            -0.4466374548829196,
            -0.35327142509418985,
            0.19975836002093117,
            -0.08594401218043168,
            -0.08582073047309735,
            0.035896405915511576,
            0.014889112058308562,
            0.08655504050199292,
            -0.3625252958537625,
            0.3073912887095238,
            -0.3346458028830672,
            -0.15223414025449344,
            0.22599798535045146,
            0.12367220705560888,
            -0.15110165802215747,
            0.39588621819606684,
            0.46484004714838556,
            0.12169572020912178,
            0.44948925870707124,
            0.07838961438713177,
            -0.2629730197569723,
            0.07367948667228585,
            0.11714491362072388,
            0.027058102257609296,
            -0.14273023999750023,
            0.12336011579180273,
            0.4294372337437613,
            0.4973228504514805,
            -0.36286425037112224,
            0.19681816148990017,
            0.2554630526024664,
            0.42302453554648334,
            -0.3757290380278353,
            -0.4737890131222807,
            -0.2537889323969541,
            0.03883106434165284,
            0.3420308923596057,
            -0.2208163209888605,
            0.46959574831967454,
            -0.481352710627057,
            -0.26702572615897957,
            -0.11213935593582824,
            0.24712164273718462,
            -0.363544774339315,
            -0.37865654425926265,
            -0.3925058708939071,
            0.21298898038267666,
            -0.48744401984088415,
            0.467276330000272,
            -0.2967067653390095,
            0.24382585407509294,
            0.08135892727325778,
            0.34682880149003525,
            -0.006230285731270047,
            0.32898089955017873,
            -0.4814237978225905,
            -0.01365488906296819,
            0.06885143708648134,
            0.4886161544124489,
            -0.1198588273764496,
            0.2453344309065021,
            -0.2350804423371906,
            -0.1299158020858937,
            -0.2898259900851604,
            -0.43346351864588506,
            0.3047545637433454,
            0.13946088087994013,
            0.4248079703993507,
            -0.4340389093159762,
            0.27217802954324677,
            0.4319720691968373,
            -0.2656379138785795,
            0.44901632068761643,
            -0.24305459697418308,
            0.17931696919891849,
            0.15067799818347158,
            -0.3602971867710162,
            0.3711028543409008
           ],
           "yaxis": "y"
          }
         ],
         "name": "12.0"
        },
        {
         "data": [
          {
           "customdata": [
            [
             0
            ],
            [
             1
            ],
            [
             2
            ],
            [
             3
            ],
            [
             4
            ],
            [
             5
            ],
            [
             6
            ],
            [
             7
            ],
            [
             8
            ],
            [
             9
            ],
            [
             10
            ],
            [
             11
            ],
            [
             12
            ],
            [
             13
            ],
            [
             14
            ],
            [
             15
            ],
            [
             16
            ],
            [
             17
            ],
            [
             18
            ],
            [
             19
            ],
            [
             20
            ],
            [
             21
            ],
            [
             22
            ],
            [
             23
            ],
            [
             24
            ],
            [
             25
            ],
            [
             26
            ],
            [
             27
            ],
            [
             28
            ],
            [
             29
            ],
            [
             30
            ],
            [
             31
            ],
            [
             32
            ],
            [
             33
            ],
            [
             34
            ],
            [
             35
            ],
            [
             36
            ],
            [
             37
            ],
            [
             38
            ],
            [
             39
            ],
            [
             40
            ],
            [
             41
            ],
            [
             42
            ],
            [
             43
            ],
            [
             44
            ],
            [
             45
            ],
            [
             46
            ],
            [
             47
            ],
            [
             48
            ],
            [
             49
            ],
            [
             50
            ],
            [
             51
            ],
            [
             52
            ],
            [
             53
            ],
            [
             54
            ],
            [
             55
            ],
            [
             56
            ],
            [
             57
            ],
            [
             58
            ],
            [
             59
            ],
            [
             60
            ],
            [
             61
            ],
            [
             62
            ],
            [
             63
            ],
            [
             64
            ],
            [
             65
            ],
            [
             66
            ],
            [
             67
            ],
            [
             68
            ],
            [
             69
            ],
            [
             70
            ],
            [
             71
            ],
            [
             72
            ],
            [
             73
            ],
            [
             74
            ],
            [
             75
            ],
            [
             76
            ],
            [
             77
            ],
            [
             78
            ],
            [
             79
            ],
            [
             80
            ],
            [
             81
            ],
            [
             82
            ],
            [
             83
            ],
            [
             84
            ],
            [
             85
            ],
            [
             86
            ],
            [
             87
            ],
            [
             88
            ],
            [
             89
            ],
            [
             90
            ],
            [
             91
            ],
            [
             92
            ],
            [
             93
            ],
            [
             94
            ],
            [
             95
            ],
            [
             96
            ],
            [
             97
            ],
            [
             98
            ],
            [
             99
            ],
            [
             100
            ],
            [
             101
            ],
            [
             102
            ],
            [
             103
            ],
            [
             104
            ]
           ],
           "hovertemplate": "<b>%{hovertext}</b><br><br>t=13.0<br>x=%{x}<br>y=%{y}<br>sizes=%{marker.size}<br>point_number=%{customdata[0]}<br>cluster=%{marker.color}<extra></extra>",
           "hovertext": [
            4,
            3,
            3,
            3,
            2,
            4,
            2,
            2,
            2,
            3,
            4,
            2,
            1,
            3,
            2,
            2,
            1,
            0,
            4,
            2,
            1,
            2,
            2,
            0,
            3,
            2,
            3,
            3,
            0,
            4,
            2,
            0,
            2,
            1,
            1,
            0,
            2,
            3,
            0,
            1,
            1,
            0,
            2,
            4,
            1,
            2,
            2,
            3,
            1,
            2,
            2,
            0,
            1,
            2,
            4,
            3,
            1,
            2,
            4,
            0,
            3,
            3,
            1,
            4,
            3,
            4,
            0,
            0,
            0,
            1,
            0,
            3,
            3,
            2,
            0,
            2,
            0,
            2,
            2,
            1,
            2,
            4,
            3,
            2,
            1,
            4,
            0,
            4,
            0,
            3,
            0,
            0,
            2,
            2,
            4,
            3,
            1,
            1,
            3,
            4,
            0,
            1,
            2,
            3,
            4
           ],
           "ids": [
            0,
            1,
            2,
            3,
            4,
            5,
            6,
            7,
            8,
            9,
            10,
            11,
            12,
            13,
            14,
            15,
            16,
            17,
            18,
            19,
            20,
            21,
            22,
            23,
            24,
            25,
            26,
            27,
            28,
            29,
            30,
            31,
            32,
            33,
            34,
            35,
            36,
            37,
            38,
            39,
            40,
            41,
            42,
            43,
            44,
            45,
            46,
            47,
            48,
            49,
            50,
            51,
            52,
            53,
            54,
            55,
            56,
            57,
            58,
            59,
            60,
            61,
            62,
            63,
            64,
            65,
            66,
            67,
            68,
            69,
            70,
            71,
            72,
            73,
            74,
            75,
            76,
            77,
            78,
            79,
            80,
            81,
            82,
            83,
            84,
            85,
            86,
            87,
            88,
            89,
            90,
            91,
            92,
            93,
            94,
            95,
            96,
            97,
            98,
            99,
            100,
            101,
            102,
            103,
            104
           ],
           "legendgroup": "",
           "marker": {
            "color": [
             4,
             3,
             3,
             3,
             2,
             4,
             2,
             2,
             2,
             3,
             4,
             2,
             1,
             3,
             2,
             2,
             1,
             0,
             4,
             2,
             1,
             2,
             2,
             0,
             3,
             2,
             3,
             3,
             0,
             4,
             2,
             0,
             2,
             1,
             1,
             0,
             2,
             3,
             0,
             1,
             1,
             0,
             2,
             4,
             1,
             2,
             2,
             3,
             1,
             2,
             2,
             0,
             1,
             2,
             4,
             3,
             1,
             2,
             4,
             0,
             3,
             3,
             1,
             4,
             3,
             4,
             0,
             0,
             0,
             1,
             0,
             3,
             3,
             2,
             0,
             2,
             0,
             2,
             2,
             1,
             2,
             4,
             3,
             2,
             1,
             4,
             0,
             4,
             0,
             3,
             0,
             0,
             2,
             2,
             4,
             3,
             1,
             1,
             3,
             4,
             0,
             1,
             2,
             3,
             4
            ],
            "coloraxis": "coloraxis",
            "size": [
             1,
             1,
             1,
             1,
             1,
             1,
             1,
             1,
             1,
             1,
             1,
             1,
             1,
             1,
             1,
             1,
             1,
             1,
             1,
             1,
             1,
             1,
             1,
             1,
             1,
             1,
             1,
             1,
             1,
             1,
             1,
             1,
             1,
             1,
             1,
             1,
             1,
             1,
             1,
             1,
             1,
             1,
             1,
             1,
             1,
             1,
             1,
             1,
             1,
             1,
             1,
             1,
             1,
             1,
             1,
             1,
             1,
             1,
             1,
             1,
             1,
             1,
             1,
             1,
             1,
             1,
             1,
             1,
             1,
             1,
             1,
             1,
             1,
             1,
             1,
             1,
             1,
             1,
             1,
             1,
             1,
             1,
             1,
             1,
             1,
             1,
             1,
             1,
             1,
             1,
             1,
             1,
             1,
             1,
             1,
             1,
             1,
             1,
             1,
             1,
             3,
             3,
             3,
             3,
             3
            ],
            "sizemode": "area",
            "sizeref": 0.0075,
            "symbol": "circle"
           },
           "mode": "markers",
           "name": "",
           "orientation": "v",
           "showlegend": false,
           "type": "scatter",
           "x": [
            -0.082977995297426,
            -0.4998856251826551,
            -0.35324410918288696,
            -0.3137397886223291,
            -0.10323252576933006,
            -0.0808054855967052,
            -0.29554775026848257,
            -0.47261240680207384,
            -0.08269519763287303,
            -0.35961306140476623,
            0.30074456867553667,
            -0.18657582184075716,
            0.3763891522960383,
            -0.4149557886302221,
            -0.3301695804354311,
            -0.4016531661669499,
            0.45788953015050193,
            0.19187711395047335,
            0.18650092768158366,
            -0.4817117226558082,
            0.4888610889064947,
            -0.21955600793559482,
            -0.396773993422358,
            0.40859550309309556,
            -0.21222466141365126,
            -0.4806330421297029,
            -0.28837188399994096,
            -0.00842684071966171,
            0.07411760549201307,
            0.08930553690328424,
            -0.39766557117217416,
            0.1944001577277451,
            -0.45004654105391284,
            0.16379464521978881,
            0.44459475599081333,
            0.4034019152878835,
            -0.36072365274924145,
            -0.10232316301446642,
            0.4275085803960339,
            0.25081210313615554,
            0.38330609120580983,
            0.2509424340273372,
            -0.23007210823497393,
            -0.07190881012870509,
            0.16344149781844808,
            -0.3852540270466248,
            -0.050087866520059476,
            -0.09186319723871883,
            0.4033795205622538,
            -0.49712967296884103,
            -0.17335509822790385,
            0.3859420993107745,
            0.4085351509197992,
            -0.4841787571534437,
            0.19089691751692395,
            -0.32765949165467145,
            0.43259546303716356,
            -0.4339998272779375,
            0.2538761884612464,
            0.21152475862847175,
            -0.4801198661602044,
            -0.4716935119792054,
            0.360027948682888,
            0.05282197868576588,
            -0.37582668488008886,
            0.08575927145828788,
            0.06103021925570995,
            0.30063267268061633,
            0.30710519561877914,
            0.36354185455942867,
            0.056240233990418886,
            -0.44008231048778834,
            -0.4554481214552383,
            -0.2742906613921453,
            0.05971698205414244,
            -0.4280257203105132,
            0.06810046191994212,
            -0.24767425542967658,
            -0.3045705188906812,
            0.47001998908831233,
            -0.26015224085241384,
            0.11995571838137975,
            -0.34320860535391573,
            -0.42997785628077767,
            0.10632946165333035,
            -0.18263759067783925,
            0.07974521924579692,
            0.05094821911789682,
            0.1692328934531846,
            -0.43366516557155843,
            0.12971750702156448,
            0.25275555373881387,
            -0.23968490142145904,
            -0.30656571737667226,
            0.02467030912373369,
            -0.23670322951288902,
            0.23506596328866947,
            0.40781585250352403,
            -0.486048427024403,
            0.11677835700165762,
            0.2301082297401732,
            0.3480235334717306,
            -0.33693649639793505,
            -0.2820402770712598,
            0.05149100019197794
           ],
           "xaxis": "x",
           "y": [
            0.2203244934421581,
            -0.19766742736816023,
            -0.4076614052312022,
            -0.15443927295695226,
            0.038816734003356945,
            0.1852195003967595,
            0.3781174363909454,
            0.17046751017840223,
            0.05868982844575166,
            -0.3018985109151212,
            0.4682615757193975,
            0.19232261566931408,
            0.3946066635038473,
            -0.46094521676711764,
            0.37814250342941313,
            -0.07889237499494783,
            0.03316528497301707,
            -0.18448436899393705,
            0.3346256718973729,
            0.25014431494496747,
            0.2481656543798394,
            0.2892793284514885,
            -0.052106473824094834,
            -0.2063858516263205,
            -0.3699714278817223,
            0.17883553293989096,
            -0.2344533406277738,
            -0.4466374548829196,
            -0.35327142509418985,
            0.19975836002093117,
            -0.08594401218043168,
            -0.08582073047309735,
            0.035896405915511576,
            0.014889112058308562,
            0.08655504050199292,
            -0.3625252958537625,
            0.3073912887095238,
            -0.3346458028830672,
            -0.15223414025449344,
            0.22599798535045146,
            0.12367220705560888,
            -0.15110165802215747,
            0.39588621819606684,
            0.46484004714838556,
            0.12169572020912178,
            0.44948925870707124,
            0.07838961438713177,
            -0.2629730197569723,
            0.07367948667228585,
            0.11714491362072388,
            0.027058102257609296,
            -0.14273023999750023,
            0.12336011579180273,
            0.4294372337437613,
            0.4973228504514805,
            -0.36286425037112224,
            0.19681816148990017,
            0.2554630526024664,
            0.42302453554648334,
            -0.3757290380278353,
            -0.4737890131222807,
            -0.2537889323969541,
            0.03883106434165284,
            0.3420308923596057,
            -0.2208163209888605,
            0.46959574831967454,
            -0.481352710627057,
            -0.26702572615897957,
            -0.11213935593582824,
            0.24712164273718462,
            -0.363544774339315,
            -0.37865654425926265,
            -0.3925058708939071,
            0.21298898038267666,
            -0.48744401984088415,
            0.467276330000272,
            -0.2967067653390095,
            0.24382585407509294,
            0.08135892727325778,
            0.34682880149003525,
            -0.006230285731270047,
            0.32898089955017873,
            -0.4814237978225905,
            -0.01365488906296819,
            0.06885143708648134,
            0.4886161544124489,
            -0.1198588273764496,
            0.2453344309065021,
            -0.2350804423371906,
            -0.1299158020858937,
            -0.2898259900851604,
            -0.43346351864588506,
            0.3047545637433454,
            0.13946088087994013,
            0.4248079703993507,
            -0.4340389093159762,
            0.27217802954324677,
            0.4319720691968373,
            -0.2656379138785795,
            0.44901632068761643,
            -0.24305459697418308,
            0.17931696919891849,
            0.15067799818347158,
            -0.3602971867710162,
            0.3711028543409008
           ],
           "yaxis": "y"
          }
         ],
         "name": "13.0"
        },
        {
         "data": [
          {
           "customdata": [
            [
             0
            ],
            [
             1
            ],
            [
             2
            ],
            [
             3
            ],
            [
             4
            ],
            [
             5
            ],
            [
             6
            ],
            [
             7
            ],
            [
             8
            ],
            [
             9
            ],
            [
             10
            ],
            [
             11
            ],
            [
             12
            ],
            [
             13
            ],
            [
             14
            ],
            [
             15
            ],
            [
             16
            ],
            [
             17
            ],
            [
             18
            ],
            [
             19
            ],
            [
             20
            ],
            [
             21
            ],
            [
             22
            ],
            [
             23
            ],
            [
             24
            ],
            [
             25
            ],
            [
             26
            ],
            [
             27
            ],
            [
             28
            ],
            [
             29
            ],
            [
             30
            ],
            [
             31
            ],
            [
             32
            ],
            [
             33
            ],
            [
             34
            ],
            [
             35
            ],
            [
             36
            ],
            [
             37
            ],
            [
             38
            ],
            [
             39
            ],
            [
             40
            ],
            [
             41
            ],
            [
             42
            ],
            [
             43
            ],
            [
             44
            ],
            [
             45
            ],
            [
             46
            ],
            [
             47
            ],
            [
             48
            ],
            [
             49
            ],
            [
             50
            ],
            [
             51
            ],
            [
             52
            ],
            [
             53
            ],
            [
             54
            ],
            [
             55
            ],
            [
             56
            ],
            [
             57
            ],
            [
             58
            ],
            [
             59
            ],
            [
             60
            ],
            [
             61
            ],
            [
             62
            ],
            [
             63
            ],
            [
             64
            ],
            [
             65
            ],
            [
             66
            ],
            [
             67
            ],
            [
             68
            ],
            [
             69
            ],
            [
             70
            ],
            [
             71
            ],
            [
             72
            ],
            [
             73
            ],
            [
             74
            ],
            [
             75
            ],
            [
             76
            ],
            [
             77
            ],
            [
             78
            ],
            [
             79
            ],
            [
             80
            ],
            [
             81
            ],
            [
             82
            ],
            [
             83
            ],
            [
             84
            ],
            [
             85
            ],
            [
             86
            ],
            [
             87
            ],
            [
             88
            ],
            [
             89
            ],
            [
             90
            ],
            [
             91
            ],
            [
             92
            ],
            [
             93
            ],
            [
             94
            ],
            [
             95
            ],
            [
             96
            ],
            [
             97
            ],
            [
             98
            ],
            [
             99
            ],
            [
             100
            ],
            [
             101
            ],
            [
             102
            ],
            [
             103
            ],
            [
             104
            ]
           ],
           "hovertemplate": "<b>%{hovertext}</b><br><br>t=14.0<br>x=%{x}<br>y=%{y}<br>sizes=%{marker.size}<br>point_number=%{customdata[0]}<br>cluster=%{marker.color}<extra></extra>",
           "hovertext": [
            4,
            3,
            3,
            3,
            2,
            4,
            2,
            2,
            2,
            3,
            4,
            2,
            1,
            3,
            2,
            2,
            1,
            0,
            4,
            2,
            1,
            2,
            2,
            0,
            3,
            2,
            3,
            3,
            0,
            4,
            2,
            0,
            2,
            1,
            1,
            0,
            2,
            3,
            0,
            1,
            1,
            0,
            2,
            4,
            1,
            2,
            2,
            3,
            1,
            2,
            2,
            0,
            1,
            2,
            4,
            3,
            1,
            2,
            4,
            0,
            3,
            3,
            1,
            4,
            3,
            4,
            0,
            0,
            0,
            1,
            0,
            3,
            3,
            2,
            0,
            2,
            0,
            2,
            2,
            1,
            2,
            4,
            3,
            2,
            1,
            4,
            0,
            4,
            0,
            3,
            0,
            0,
            2,
            2,
            4,
            3,
            1,
            1,
            3,
            4,
            0,
            1,
            2,
            3,
            4
           ],
           "ids": [
            0,
            1,
            2,
            3,
            4,
            5,
            6,
            7,
            8,
            9,
            10,
            11,
            12,
            13,
            14,
            15,
            16,
            17,
            18,
            19,
            20,
            21,
            22,
            23,
            24,
            25,
            26,
            27,
            28,
            29,
            30,
            31,
            32,
            33,
            34,
            35,
            36,
            37,
            38,
            39,
            40,
            41,
            42,
            43,
            44,
            45,
            46,
            47,
            48,
            49,
            50,
            51,
            52,
            53,
            54,
            55,
            56,
            57,
            58,
            59,
            60,
            61,
            62,
            63,
            64,
            65,
            66,
            67,
            68,
            69,
            70,
            71,
            72,
            73,
            74,
            75,
            76,
            77,
            78,
            79,
            80,
            81,
            82,
            83,
            84,
            85,
            86,
            87,
            88,
            89,
            90,
            91,
            92,
            93,
            94,
            95,
            96,
            97,
            98,
            99,
            100,
            101,
            102,
            103,
            104
           ],
           "legendgroup": "",
           "marker": {
            "color": [
             4,
             3,
             3,
             3,
             2,
             4,
             2,
             2,
             2,
             3,
             4,
             2,
             1,
             3,
             2,
             2,
             1,
             0,
             4,
             2,
             1,
             2,
             2,
             0,
             3,
             2,
             3,
             3,
             0,
             4,
             2,
             0,
             2,
             1,
             1,
             0,
             2,
             3,
             0,
             1,
             1,
             0,
             2,
             4,
             1,
             2,
             2,
             3,
             1,
             2,
             2,
             0,
             1,
             2,
             4,
             3,
             1,
             2,
             4,
             0,
             3,
             3,
             1,
             4,
             3,
             4,
             0,
             0,
             0,
             1,
             0,
             3,
             3,
             2,
             0,
             2,
             0,
             2,
             2,
             1,
             2,
             4,
             3,
             2,
             1,
             4,
             0,
             4,
             0,
             3,
             0,
             0,
             2,
             2,
             4,
             3,
             1,
             1,
             3,
             4,
             0,
             1,
             2,
             3,
             4
            ],
            "coloraxis": "coloraxis",
            "size": [
             1,
             1,
             1,
             1,
             1,
             1,
             1,
             1,
             1,
             1,
             1,
             1,
             1,
             1,
             1,
             1,
             1,
             1,
             1,
             1,
             1,
             1,
             1,
             1,
             1,
             1,
             1,
             1,
             1,
             1,
             1,
             1,
             1,
             1,
             1,
             1,
             1,
             1,
             1,
             1,
             1,
             1,
             1,
             1,
             1,
             1,
             1,
             1,
             1,
             1,
             1,
             1,
             1,
             1,
             1,
             1,
             1,
             1,
             1,
             1,
             1,
             1,
             1,
             1,
             1,
             1,
             1,
             1,
             1,
             1,
             1,
             1,
             1,
             1,
             1,
             1,
             1,
             1,
             1,
             1,
             1,
             1,
             1,
             1,
             1,
             1,
             1,
             1,
             1,
             1,
             1,
             1,
             1,
             1,
             1,
             1,
             1,
             1,
             1,
             1,
             3,
             3,
             3,
             3,
             3
            ],
            "sizemode": "area",
            "sizeref": 0.0075,
            "symbol": "circle"
           },
           "mode": "markers",
           "name": "",
           "orientation": "v",
           "showlegend": false,
           "type": "scatter",
           "x": [
            -0.082977995297426,
            -0.4998856251826551,
            -0.35324410918288696,
            -0.3137397886223291,
            -0.10323252576933006,
            -0.0808054855967052,
            -0.29554775026848257,
            -0.47261240680207384,
            -0.08269519763287303,
            -0.35961306140476623,
            0.30074456867553667,
            -0.18657582184075716,
            0.3763891522960383,
            -0.4149557886302221,
            -0.3301695804354311,
            -0.4016531661669499,
            0.45788953015050193,
            0.19187711395047335,
            0.18650092768158366,
            -0.4817117226558082,
            0.4888610889064947,
            -0.21955600793559482,
            -0.396773993422358,
            0.40859550309309556,
            -0.21222466141365126,
            -0.4806330421297029,
            -0.28837188399994096,
            -0.00842684071966171,
            0.07411760549201307,
            0.08930553690328424,
            -0.39766557117217416,
            0.1944001577277451,
            -0.45004654105391284,
            0.16379464521978881,
            0.44459475599081333,
            0.4034019152878835,
            -0.36072365274924145,
            -0.10232316301446642,
            0.4275085803960339,
            0.25081210313615554,
            0.38330609120580983,
            0.2509424340273372,
            -0.23007210823497393,
            -0.07190881012870509,
            0.16344149781844808,
            -0.3852540270466248,
            -0.050087866520059476,
            -0.09186319723871883,
            0.4033795205622538,
            -0.49712967296884103,
            -0.17335509822790385,
            0.3859420993107745,
            0.4085351509197992,
            -0.4841787571534437,
            0.19089691751692395,
            -0.32765949165467145,
            0.43259546303716356,
            -0.4339998272779375,
            0.2538761884612464,
            0.21152475862847175,
            -0.4801198661602044,
            -0.4716935119792054,
            0.360027948682888,
            0.05282197868576588,
            -0.37582668488008886,
            0.08575927145828788,
            0.06103021925570995,
            0.30063267268061633,
            0.30710519561877914,
            0.36354185455942867,
            0.056240233990418886,
            -0.44008231048778834,
            -0.4554481214552383,
            -0.2742906613921453,
            0.05971698205414244,
            -0.4280257203105132,
            0.06810046191994212,
            -0.24767425542967658,
            -0.3045705188906812,
            0.47001998908831233,
            -0.26015224085241384,
            0.11995571838137975,
            -0.34320860535391573,
            -0.42997785628077767,
            0.10632946165333035,
            -0.18263759067783925,
            0.07974521924579692,
            0.05094821911789682,
            0.1692328934531846,
            -0.43366516557155843,
            0.12971750702156448,
            0.25275555373881387,
            -0.23968490142145904,
            -0.30656571737667226,
            0.02467030912373369,
            -0.23670322951288902,
            0.23506596328866947,
            0.40781585250352403,
            -0.486048427024403,
            0.11677835700165762,
            0.21224142667856824,
            0.3480235334717306,
            -0.3242971106696142,
            -0.3347551766744631,
            0.07026187408710806
           ],
           "xaxis": "x",
           "y": [
            0.2203244934421581,
            -0.19766742736816023,
            -0.4076614052312022,
            -0.15443927295695226,
            0.038816734003356945,
            0.1852195003967595,
            0.3781174363909454,
            0.17046751017840223,
            0.05868982844575166,
            -0.3018985109151212,
            0.4682615757193975,
            0.19232261566931408,
            0.3946066635038473,
            -0.46094521676711764,
            0.37814250342941313,
            -0.07889237499494783,
            0.03316528497301707,
            -0.18448436899393705,
            0.3346256718973729,
            0.25014431494496747,
            0.2481656543798394,
            0.2892793284514885,
            -0.052106473824094834,
            -0.2063858516263205,
            -0.3699714278817223,
            0.17883553293989096,
            -0.2344533406277738,
            -0.4466374548829196,
            -0.35327142509418985,
            0.19975836002093117,
            -0.08594401218043168,
            -0.08582073047309735,
            0.035896405915511576,
            0.014889112058308562,
            0.08655504050199292,
            -0.3625252958537625,
            0.3073912887095238,
            -0.3346458028830672,
            -0.15223414025449344,
            0.22599798535045146,
            0.12367220705560888,
            -0.15110165802215747,
            0.39588621819606684,
            0.46484004714838556,
            0.12169572020912178,
            0.44948925870707124,
            0.07838961438713177,
            -0.2629730197569723,
            0.07367948667228585,
            0.11714491362072388,
            0.027058102257609296,
            -0.14273023999750023,
            0.12336011579180273,
            0.4294372337437613,
            0.4973228504514805,
            -0.36286425037112224,
            0.19681816148990017,
            0.2554630526024664,
            0.42302453554648334,
            -0.3757290380278353,
            -0.4737890131222807,
            -0.2537889323969541,
            0.03883106434165284,
            0.3420308923596057,
            -0.2208163209888605,
            0.46959574831967454,
            -0.481352710627057,
            -0.26702572615897957,
            -0.11213935593582824,
            0.24712164273718462,
            -0.363544774339315,
            -0.37865654425926265,
            -0.3925058708939071,
            0.21298898038267666,
            -0.48744401984088415,
            0.467276330000272,
            -0.2967067653390095,
            0.24382585407509294,
            0.08135892727325778,
            0.34682880149003525,
            -0.006230285731270047,
            0.32898089955017873,
            -0.4814237978225905,
            -0.01365488906296819,
            0.06885143708648134,
            0.4886161544124489,
            -0.1198588273764496,
            0.2453344309065021,
            -0.2350804423371906,
            -0.1299158020858937,
            -0.2898259900851604,
            -0.43346351864588506,
            0.3047545637433454,
            0.13946088087994013,
            0.4248079703993507,
            -0.4340389093159762,
            0.27217802954324677,
            0.4319720691968373,
            -0.2656379138785795,
            0.44901632068761643,
            -0.2684592041594238,
            0.17931696919891849,
            0.18082101355704377,
            -0.3282365117203218,
            0.3694506300838897
           ],
           "yaxis": "y"
          }
         ],
         "name": "14.0"
        },
        {
         "data": [
          {
           "customdata": [
            [
             0
            ],
            [
             1
            ],
            [
             2
            ],
            [
             3
            ],
            [
             4
            ],
            [
             5
            ],
            [
             6
            ],
            [
             7
            ],
            [
             8
            ],
            [
             9
            ],
            [
             10
            ],
            [
             11
            ],
            [
             12
            ],
            [
             13
            ],
            [
             14
            ],
            [
             15
            ],
            [
             16
            ],
            [
             17
            ],
            [
             18
            ],
            [
             19
            ],
            [
             20
            ],
            [
             21
            ],
            [
             22
            ],
            [
             23
            ],
            [
             24
            ],
            [
             25
            ],
            [
             26
            ],
            [
             27
            ],
            [
             28
            ],
            [
             29
            ],
            [
             30
            ],
            [
             31
            ],
            [
             32
            ],
            [
             33
            ],
            [
             34
            ],
            [
             35
            ],
            [
             36
            ],
            [
             37
            ],
            [
             38
            ],
            [
             39
            ],
            [
             40
            ],
            [
             41
            ],
            [
             42
            ],
            [
             43
            ],
            [
             44
            ],
            [
             45
            ],
            [
             46
            ],
            [
             47
            ],
            [
             48
            ],
            [
             49
            ],
            [
             50
            ],
            [
             51
            ],
            [
             52
            ],
            [
             53
            ],
            [
             54
            ],
            [
             55
            ],
            [
             56
            ],
            [
             57
            ],
            [
             58
            ],
            [
             59
            ],
            [
             60
            ],
            [
             61
            ],
            [
             62
            ],
            [
             63
            ],
            [
             64
            ],
            [
             65
            ],
            [
             66
            ],
            [
             67
            ],
            [
             68
            ],
            [
             69
            ],
            [
             70
            ],
            [
             71
            ],
            [
             72
            ],
            [
             73
            ],
            [
             74
            ],
            [
             75
            ],
            [
             76
            ],
            [
             77
            ],
            [
             78
            ],
            [
             79
            ],
            [
             80
            ],
            [
             81
            ],
            [
             82
            ],
            [
             83
            ],
            [
             84
            ],
            [
             85
            ],
            [
             86
            ],
            [
             87
            ],
            [
             88
            ],
            [
             89
            ],
            [
             90
            ],
            [
             91
            ],
            [
             92
            ],
            [
             93
            ],
            [
             94
            ],
            [
             95
            ],
            [
             96
            ],
            [
             97
            ],
            [
             98
            ],
            [
             99
            ],
            [
             100
            ],
            [
             101
            ],
            [
             102
            ],
            [
             103
            ],
            [
             104
            ]
           ],
           "hovertemplate": "<b>%{hovertext}</b><br><br>t=15.0<br>x=%{x}<br>y=%{y}<br>sizes=%{marker.size}<br>point_number=%{customdata[0]}<br>cluster=%{marker.color}<extra></extra>",
           "hovertext": [
            4,
            3,
            3,
            3,
            2,
            4,
            2,
            2,
            2,
            3,
            4,
            2,
            1,
            3,
            2,
            3,
            1,
            0,
            4,
            2,
            1,
            2,
            2,
            0,
            3,
            2,
            3,
            0,
            0,
            4,
            3,
            0,
            2,
            1,
            1,
            0,
            2,
            3,
            0,
            1,
            1,
            0,
            2,
            4,
            1,
            2,
            2,
            3,
            1,
            2,
            2,
            0,
            1,
            2,
            4,
            3,
            1,
            2,
            4,
            0,
            3,
            3,
            1,
            4,
            3,
            4,
            0,
            0,
            0,
            1,
            0,
            3,
            3,
            2,
            0,
            2,
            0,
            2,
            2,
            1,
            2,
            4,
            3,
            2,
            1,
            4,
            0,
            4,
            0,
            3,
            0,
            0,
            2,
            2,
            4,
            3,
            1,
            1,
            3,
            4,
            0,
            1,
            2,
            3,
            4
           ],
           "ids": [
            0,
            1,
            2,
            3,
            4,
            5,
            6,
            7,
            8,
            9,
            10,
            11,
            12,
            13,
            14,
            15,
            16,
            17,
            18,
            19,
            20,
            21,
            22,
            23,
            24,
            25,
            26,
            27,
            28,
            29,
            30,
            31,
            32,
            33,
            34,
            35,
            36,
            37,
            38,
            39,
            40,
            41,
            42,
            43,
            44,
            45,
            46,
            47,
            48,
            49,
            50,
            51,
            52,
            53,
            54,
            55,
            56,
            57,
            58,
            59,
            60,
            61,
            62,
            63,
            64,
            65,
            66,
            67,
            68,
            69,
            70,
            71,
            72,
            73,
            74,
            75,
            76,
            77,
            78,
            79,
            80,
            81,
            82,
            83,
            84,
            85,
            86,
            87,
            88,
            89,
            90,
            91,
            92,
            93,
            94,
            95,
            96,
            97,
            98,
            99,
            100,
            101,
            102,
            103,
            104
           ],
           "legendgroup": "",
           "marker": {
            "color": [
             4,
             3,
             3,
             3,
             2,
             4,
             2,
             2,
             2,
             3,
             4,
             2,
             1,
             3,
             2,
             3,
             1,
             0,
             4,
             2,
             1,
             2,
             2,
             0,
             3,
             2,
             3,
             0,
             0,
             4,
             3,
             0,
             2,
             1,
             1,
             0,
             2,
             3,
             0,
             1,
             1,
             0,
             2,
             4,
             1,
             2,
             2,
             3,
             1,
             2,
             2,
             0,
             1,
             2,
             4,
             3,
             1,
             2,
             4,
             0,
             3,
             3,
             1,
             4,
             3,
             4,
             0,
             0,
             0,
             1,
             0,
             3,
             3,
             2,
             0,
             2,
             0,
             2,
             2,
             1,
             2,
             4,
             3,
             2,
             1,
             4,
             0,
             4,
             0,
             3,
             0,
             0,
             2,
             2,
             4,
             3,
             1,
             1,
             3,
             4,
             0,
             1,
             2,
             3,
             4
            ],
            "coloraxis": "coloraxis",
            "size": [
             1,
             1,
             1,
             1,
             1,
             1,
             1,
             1,
             1,
             1,
             1,
             1,
             1,
             1,
             1,
             1,
             1,
             1,
             1,
             1,
             1,
             1,
             1,
             1,
             1,
             1,
             1,
             1,
             1,
             1,
             1,
             1,
             1,
             1,
             1,
             1,
             1,
             1,
             1,
             1,
             1,
             1,
             1,
             1,
             1,
             1,
             1,
             1,
             1,
             1,
             1,
             1,
             1,
             1,
             1,
             1,
             1,
             1,
             1,
             1,
             1,
             1,
             1,
             1,
             1,
             1,
             1,
             1,
             1,
             1,
             1,
             1,
             1,
             1,
             1,
             1,
             1,
             1,
             1,
             1,
             1,
             1,
             1,
             1,
             1,
             1,
             1,
             1,
             1,
             1,
             1,
             1,
             1,
             1,
             1,
             1,
             1,
             1,
             1,
             1,
             3,
             3,
             3,
             3,
             3
            ],
            "sizemode": "area",
            "sizeref": 0.0075,
            "symbol": "circle"
           },
           "mode": "markers",
           "name": "",
           "orientation": "v",
           "showlegend": false,
           "type": "scatter",
           "x": [
            -0.082977995297426,
            -0.4998856251826551,
            -0.35324410918288696,
            -0.3137397886223291,
            -0.10323252576933006,
            -0.0808054855967052,
            -0.29554775026848257,
            -0.47261240680207384,
            -0.08269519763287303,
            -0.35961306140476623,
            0.30074456867553667,
            -0.18657582184075716,
            0.3763891522960383,
            -0.4149557886302221,
            -0.3301695804354311,
            -0.4016531661669499,
            0.45788953015050193,
            0.19187711395047335,
            0.18650092768158366,
            -0.4817117226558082,
            0.4888610889064947,
            -0.21955600793559482,
            -0.396773993422358,
            0.40859550309309556,
            -0.21222466141365126,
            -0.4806330421297029,
            -0.28837188399994096,
            -0.00842684071966171,
            0.07411760549201307,
            0.08930553690328424,
            -0.39766557117217416,
            0.1944001577277451,
            -0.45004654105391284,
            0.16379464521978881,
            0.44459475599081333,
            0.4034019152878835,
            -0.36072365274924145,
            -0.10232316301446642,
            0.4275085803960339,
            0.25081210313615554,
            0.38330609120580983,
            0.2509424340273372,
            -0.23007210823497393,
            -0.07190881012870509,
            0.16344149781844808,
            -0.3852540270466248,
            -0.050087866520059476,
            -0.09186319723871883,
            0.4033795205622538,
            -0.49712967296884103,
            -0.17335509822790385,
            0.3859420993107745,
            0.4085351509197992,
            -0.4841787571534437,
            0.19089691751692395,
            -0.32765949165467145,
            0.43259546303716356,
            -0.4339998272779375,
            0.2538761884612464,
            0.21152475862847175,
            -0.4801198661602044,
            -0.4716935119792054,
            0.360027948682888,
            0.05282197868576588,
            -0.37582668488008886,
            0.08575927145828788,
            0.06103021925570995,
            0.30063267268061633,
            0.30710519561877914,
            0.36354185455942867,
            0.056240233990418886,
            -0.44008231048778834,
            -0.4554481214552383,
            -0.2742906613921453,
            0.05971698205414244,
            -0.4280257203105132,
            0.06810046191994212,
            -0.24767425542967658,
            -0.3045705188906812,
            0.47001998908831233,
            -0.26015224085241384,
            0.11995571838137975,
            -0.34320860535391573,
            -0.42997785628077767,
            0.10632946165333035,
            -0.18263759067783925,
            0.07974521924579692,
            0.05094821911789682,
            0.1692328934531846,
            -0.43366516557155843,
            0.12971750702156448,
            0.25275555373881387,
            -0.23968490142145904,
            -0.30656571737667226,
            0.02467030912373369,
            -0.23670322951288902,
            0.23506596328866947,
            0.40781585250352403,
            -0.486048427024403,
            0.11677835700165762,
            0.21224142667856824,
            0.3480235334717306,
            -0.3242971106696142,
            -0.3347551766744631,
            0.07026187408710806
           ],
           "xaxis": "x",
           "y": [
            0.2203244934421581,
            -0.19766742736816023,
            -0.4076614052312022,
            -0.15443927295695226,
            0.038816734003356945,
            0.1852195003967595,
            0.3781174363909454,
            0.17046751017840223,
            0.05868982844575166,
            -0.3018985109151212,
            0.4682615757193975,
            0.19232261566931408,
            0.3946066635038473,
            -0.46094521676711764,
            0.37814250342941313,
            -0.07889237499494783,
            0.03316528497301707,
            -0.18448436899393705,
            0.3346256718973729,
            0.25014431494496747,
            0.2481656543798394,
            0.2892793284514885,
            -0.052106473824094834,
            -0.2063858516263205,
            -0.3699714278817223,
            0.17883553293989096,
            -0.2344533406277738,
            -0.4466374548829196,
            -0.35327142509418985,
            0.19975836002093117,
            -0.08594401218043168,
            -0.08582073047309735,
            0.035896405915511576,
            0.014889112058308562,
            0.08655504050199292,
            -0.3625252958537625,
            0.3073912887095238,
            -0.3346458028830672,
            -0.15223414025449344,
            0.22599798535045146,
            0.12367220705560888,
            -0.15110165802215747,
            0.39588621819606684,
            0.46484004714838556,
            0.12169572020912178,
            0.44948925870707124,
            0.07838961438713177,
            -0.2629730197569723,
            0.07367948667228585,
            0.11714491362072388,
            0.027058102257609296,
            -0.14273023999750023,
            0.12336011579180273,
            0.4294372337437613,
            0.4973228504514805,
            -0.36286425037112224,
            0.19681816148990017,
            0.2554630526024664,
            0.42302453554648334,
            -0.3757290380278353,
            -0.4737890131222807,
            -0.2537889323969541,
            0.03883106434165284,
            0.3420308923596057,
            -0.2208163209888605,
            0.46959574831967454,
            -0.481352710627057,
            -0.26702572615897957,
            -0.11213935593582824,
            0.24712164273718462,
            -0.363544774339315,
            -0.37865654425926265,
            -0.3925058708939071,
            0.21298898038267666,
            -0.48744401984088415,
            0.467276330000272,
            -0.2967067653390095,
            0.24382585407509294,
            0.08135892727325778,
            0.34682880149003525,
            -0.006230285731270047,
            0.32898089955017873,
            -0.4814237978225905,
            -0.01365488906296819,
            0.06885143708648134,
            0.4886161544124489,
            -0.1198588273764496,
            0.2453344309065021,
            -0.2350804423371906,
            -0.1299158020858937,
            -0.2898259900851604,
            -0.43346351864588506,
            0.3047545637433454,
            0.13946088087994013,
            0.4248079703993507,
            -0.4340389093159762,
            0.27217802954324677,
            0.4319720691968373,
            -0.2656379138785795,
            0.44901632068761643,
            -0.2684592041594238,
            0.17931696919891849,
            0.18082101355704377,
            -0.3282365117203218,
            0.3694506300838897
           ],
           "yaxis": "y"
          }
         ],
         "name": "15.0"
        },
        {
         "data": [
          {
           "customdata": [
            [
             0
            ],
            [
             1
            ],
            [
             2
            ],
            [
             3
            ],
            [
             4
            ],
            [
             5
            ],
            [
             6
            ],
            [
             7
            ],
            [
             8
            ],
            [
             9
            ],
            [
             10
            ],
            [
             11
            ],
            [
             12
            ],
            [
             13
            ],
            [
             14
            ],
            [
             15
            ],
            [
             16
            ],
            [
             17
            ],
            [
             18
            ],
            [
             19
            ],
            [
             20
            ],
            [
             21
            ],
            [
             22
            ],
            [
             23
            ],
            [
             24
            ],
            [
             25
            ],
            [
             26
            ],
            [
             27
            ],
            [
             28
            ],
            [
             29
            ],
            [
             30
            ],
            [
             31
            ],
            [
             32
            ],
            [
             33
            ],
            [
             34
            ],
            [
             35
            ],
            [
             36
            ],
            [
             37
            ],
            [
             38
            ],
            [
             39
            ],
            [
             40
            ],
            [
             41
            ],
            [
             42
            ],
            [
             43
            ],
            [
             44
            ],
            [
             45
            ],
            [
             46
            ],
            [
             47
            ],
            [
             48
            ],
            [
             49
            ],
            [
             50
            ],
            [
             51
            ],
            [
             52
            ],
            [
             53
            ],
            [
             54
            ],
            [
             55
            ],
            [
             56
            ],
            [
             57
            ],
            [
             58
            ],
            [
             59
            ],
            [
             60
            ],
            [
             61
            ],
            [
             62
            ],
            [
             63
            ],
            [
             64
            ],
            [
             65
            ],
            [
             66
            ],
            [
             67
            ],
            [
             68
            ],
            [
             69
            ],
            [
             70
            ],
            [
             71
            ],
            [
             72
            ],
            [
             73
            ],
            [
             74
            ],
            [
             75
            ],
            [
             76
            ],
            [
             77
            ],
            [
             78
            ],
            [
             79
            ],
            [
             80
            ],
            [
             81
            ],
            [
             82
            ],
            [
             83
            ],
            [
             84
            ],
            [
             85
            ],
            [
             86
            ],
            [
             87
            ],
            [
             88
            ],
            [
             89
            ],
            [
             90
            ],
            [
             91
            ],
            [
             92
            ],
            [
             93
            ],
            [
             94
            ],
            [
             95
            ],
            [
             96
            ],
            [
             97
            ],
            [
             98
            ],
            [
             99
            ],
            [
             100
            ],
            [
             101
            ],
            [
             102
            ],
            [
             103
            ],
            [
             104
            ]
           ],
           "hovertemplate": "<b>%{hovertext}</b><br><br>t=16.0<br>x=%{x}<br>y=%{y}<br>sizes=%{marker.size}<br>point_number=%{customdata[0]}<br>cluster=%{marker.color}<extra></extra>",
           "hovertext": [
            4,
            3,
            3,
            3,
            2,
            4,
            2,
            2,
            2,
            3,
            4,
            2,
            1,
            3,
            2,
            3,
            1,
            0,
            4,
            2,
            1,
            2,
            2,
            0,
            3,
            2,
            3,
            0,
            0,
            4,
            3,
            0,
            2,
            1,
            1,
            0,
            2,
            3,
            0,
            1,
            1,
            0,
            2,
            4,
            1,
            2,
            2,
            3,
            1,
            2,
            2,
            0,
            1,
            2,
            4,
            3,
            1,
            2,
            4,
            0,
            3,
            3,
            1,
            4,
            3,
            4,
            0,
            0,
            0,
            1,
            0,
            3,
            3,
            2,
            0,
            2,
            0,
            2,
            2,
            1,
            2,
            4,
            3,
            2,
            1,
            4,
            0,
            4,
            0,
            3,
            0,
            0,
            2,
            2,
            4,
            3,
            1,
            1,
            3,
            4,
            0,
            1,
            2,
            3,
            4
           ],
           "ids": [
            0,
            1,
            2,
            3,
            4,
            5,
            6,
            7,
            8,
            9,
            10,
            11,
            12,
            13,
            14,
            15,
            16,
            17,
            18,
            19,
            20,
            21,
            22,
            23,
            24,
            25,
            26,
            27,
            28,
            29,
            30,
            31,
            32,
            33,
            34,
            35,
            36,
            37,
            38,
            39,
            40,
            41,
            42,
            43,
            44,
            45,
            46,
            47,
            48,
            49,
            50,
            51,
            52,
            53,
            54,
            55,
            56,
            57,
            58,
            59,
            60,
            61,
            62,
            63,
            64,
            65,
            66,
            67,
            68,
            69,
            70,
            71,
            72,
            73,
            74,
            75,
            76,
            77,
            78,
            79,
            80,
            81,
            82,
            83,
            84,
            85,
            86,
            87,
            88,
            89,
            90,
            91,
            92,
            93,
            94,
            95,
            96,
            97,
            98,
            99,
            100,
            101,
            102,
            103,
            104
           ],
           "legendgroup": "",
           "marker": {
            "color": [
             4,
             3,
             3,
             3,
             2,
             4,
             2,
             2,
             2,
             3,
             4,
             2,
             1,
             3,
             2,
             3,
             1,
             0,
             4,
             2,
             1,
             2,
             2,
             0,
             3,
             2,
             3,
             0,
             0,
             4,
             3,
             0,
             2,
             1,
             1,
             0,
             2,
             3,
             0,
             1,
             1,
             0,
             2,
             4,
             1,
             2,
             2,
             3,
             1,
             2,
             2,
             0,
             1,
             2,
             4,
             3,
             1,
             2,
             4,
             0,
             3,
             3,
             1,
             4,
             3,
             4,
             0,
             0,
             0,
             1,
             0,
             3,
             3,
             2,
             0,
             2,
             0,
             2,
             2,
             1,
             2,
             4,
             3,
             2,
             1,
             4,
             0,
             4,
             0,
             3,
             0,
             0,
             2,
             2,
             4,
             3,
             1,
             1,
             3,
             4,
             0,
             1,
             2,
             3,
             4
            ],
            "coloraxis": "coloraxis",
            "size": [
             1,
             1,
             1,
             1,
             1,
             1,
             1,
             1,
             1,
             1,
             1,
             1,
             1,
             1,
             1,
             1,
             1,
             1,
             1,
             1,
             1,
             1,
             1,
             1,
             1,
             1,
             1,
             1,
             1,
             1,
             1,
             1,
             1,
             1,
             1,
             1,
             1,
             1,
             1,
             1,
             1,
             1,
             1,
             1,
             1,
             1,
             1,
             1,
             1,
             1,
             1,
             1,
             1,
             1,
             1,
             1,
             1,
             1,
             1,
             1,
             1,
             1,
             1,
             1,
             1,
             1,
             1,
             1,
             1,
             1,
             1,
             1,
             1,
             1,
             1,
             1,
             1,
             1,
             1,
             1,
             1,
             1,
             1,
             1,
             1,
             1,
             1,
             1,
             1,
             1,
             1,
             1,
             1,
             1,
             1,
             1,
             1,
             1,
             1,
             1,
             3,
             3,
             3,
             3,
             3
            ],
            "sizemode": "area",
            "sizeref": 0.0075,
            "symbol": "circle"
           },
           "mode": "markers",
           "name": "",
           "orientation": "v",
           "showlegend": false,
           "type": "scatter",
           "x": [
            -0.082977995297426,
            -0.4998856251826551,
            -0.35324410918288696,
            -0.3137397886223291,
            -0.10323252576933006,
            -0.0808054855967052,
            -0.29554775026848257,
            -0.47261240680207384,
            -0.08269519763287303,
            -0.35961306140476623,
            0.30074456867553667,
            -0.18657582184075716,
            0.3763891522960383,
            -0.4149557886302221,
            -0.3301695804354311,
            -0.4016531661669499,
            0.45788953015050193,
            0.19187711395047335,
            0.18650092768158366,
            -0.4817117226558082,
            0.4888610889064947,
            -0.21955600793559482,
            -0.396773993422358,
            0.40859550309309556,
            -0.21222466141365126,
            -0.4806330421297029,
            -0.28837188399994096,
            -0.00842684071966171,
            0.07411760549201307,
            0.08930553690328424,
            -0.39766557117217416,
            0.1944001577277451,
            -0.45004654105391284,
            0.16379464521978881,
            0.44459475599081333,
            0.4034019152878835,
            -0.36072365274924145,
            -0.10232316301446642,
            0.4275085803960339,
            0.25081210313615554,
            0.38330609120580983,
            0.2509424340273372,
            -0.23007210823497393,
            -0.07190881012870509,
            0.16344149781844808,
            -0.3852540270466248,
            -0.050087866520059476,
            -0.09186319723871883,
            0.4033795205622538,
            -0.49712967296884103,
            -0.17335509822790385,
            0.3859420993107745,
            0.4085351509197992,
            -0.4841787571534437,
            0.19089691751692395,
            -0.32765949165467145,
            0.43259546303716356,
            -0.4339998272779375,
            0.2538761884612464,
            0.21152475862847175,
            -0.4801198661602044,
            -0.4716935119792054,
            0.360027948682888,
            0.05282197868576588,
            -0.37582668488008886,
            0.08575927145828788,
            0.06103021925570995,
            0.30063267268061633,
            0.30710519561877914,
            0.36354185455942867,
            0.056240233990418886,
            -0.44008231048778834,
            -0.4554481214552383,
            -0.2742906613921453,
            0.05971698205414244,
            -0.4280257203105132,
            0.06810046191994212,
            -0.24767425542967658,
            -0.3045705188906812,
            0.47001998908831233,
            -0.26015224085241384,
            0.11995571838137975,
            -0.34320860535391573,
            -0.42997785628077767,
            0.10632946165333035,
            -0.18263759067783925,
            0.07974521924579692,
            0.05094821911789682,
            0.1692328934531846,
            -0.43366516557155843,
            0.12971750702156448,
            0.25275555373881387,
            -0.23968490142145904,
            -0.30656571737667226,
            0.02467030912373369,
            -0.23670322951288902,
            0.23506596328866947,
            0.40781585250352403,
            -0.486048427024403,
            0.11677835700165762,
            0.20120801330865676,
            0.3480235334717306,
            -0.31871472118813665,
            -0.35647597286232025,
            0.07026187408710806
           ],
           "xaxis": "x",
           "y": [
            0.2203244934421581,
            -0.19766742736816023,
            -0.4076614052312022,
            -0.15443927295695226,
            0.038816734003356945,
            0.1852195003967595,
            0.3781174363909454,
            0.17046751017840223,
            0.05868982844575166,
            -0.3018985109151212,
            0.4682615757193975,
            0.19232261566931408,
            0.3946066635038473,
            -0.46094521676711764,
            0.37814250342941313,
            -0.07889237499494783,
            0.03316528497301707,
            -0.18448436899393705,
            0.3346256718973729,
            0.25014431494496747,
            0.2481656543798394,
            0.2892793284514885,
            -0.052106473824094834,
            -0.2063858516263205,
            -0.3699714278817223,
            0.17883553293989096,
            -0.2344533406277738,
            -0.4466374548829196,
            -0.35327142509418985,
            0.19975836002093117,
            -0.08594401218043168,
            -0.08582073047309735,
            0.035896405915511576,
            0.014889112058308562,
            0.08655504050199292,
            -0.3625252958537625,
            0.3073912887095238,
            -0.3346458028830672,
            -0.15223414025449344,
            0.22599798535045146,
            0.12367220705560888,
            -0.15110165802215747,
            0.39588621819606684,
            0.46484004714838556,
            0.12169572020912178,
            0.44948925870707124,
            0.07838961438713177,
            -0.2629730197569723,
            0.07367948667228585,
            0.11714491362072388,
            0.027058102257609296,
            -0.14273023999750023,
            0.12336011579180273,
            0.4294372337437613,
            0.4973228504514805,
            -0.36286425037112224,
            0.19681816148990017,
            0.2554630526024664,
            0.42302453554648334,
            -0.3757290380278353,
            -0.4737890131222807,
            -0.2537889323969541,
            0.03883106434165284,
            0.3420308923596057,
            -0.2208163209888605,
            0.46959574831967454,
            -0.481352710627057,
            -0.26702572615897957,
            -0.11213935593582824,
            0.24712164273718462,
            -0.363544774339315,
            -0.37865654425926265,
            -0.3925058708939071,
            0.21298898038267666,
            -0.48744401984088415,
            0.467276330000272,
            -0.2967067653390095,
            0.24382585407509294,
            0.08135892727325778,
            0.34682880149003525,
            -0.006230285731270047,
            0.32898089955017873,
            -0.4814237978225905,
            -0.01365488906296819,
            0.06885143708648134,
            0.4886161544124489,
            -0.1198588273764496,
            0.2453344309065021,
            -0.2350804423371906,
            -0.1299158020858937,
            -0.2898259900851604,
            -0.43346351864588506,
            0.3047545637433454,
            0.13946088087994013,
            0.4248079703993507,
            -0.4340389093159762,
            0.27217802954324677,
            0.4319720691968373,
            -0.2656379138785795,
            0.44901632068761643,
            -0.2773681166955987,
            0.17931696919891849,
            0.20032021408628328,
            -0.2991871031761379,
            0.3694506300838897
           ],
           "yaxis": "y"
          }
         ],
         "name": "16.0"
        },
        {
         "data": [
          {
           "customdata": [
            [
             0
            ],
            [
             1
            ],
            [
             2
            ],
            [
             3
            ],
            [
             4
            ],
            [
             5
            ],
            [
             6
            ],
            [
             7
            ],
            [
             8
            ],
            [
             9
            ],
            [
             10
            ],
            [
             11
            ],
            [
             12
            ],
            [
             13
            ],
            [
             14
            ],
            [
             15
            ],
            [
             16
            ],
            [
             17
            ],
            [
             18
            ],
            [
             19
            ],
            [
             20
            ],
            [
             21
            ],
            [
             22
            ],
            [
             23
            ],
            [
             24
            ],
            [
             25
            ],
            [
             26
            ],
            [
             27
            ],
            [
             28
            ],
            [
             29
            ],
            [
             30
            ],
            [
             31
            ],
            [
             32
            ],
            [
             33
            ],
            [
             34
            ],
            [
             35
            ],
            [
             36
            ],
            [
             37
            ],
            [
             38
            ],
            [
             39
            ],
            [
             40
            ],
            [
             41
            ],
            [
             42
            ],
            [
             43
            ],
            [
             44
            ],
            [
             45
            ],
            [
             46
            ],
            [
             47
            ],
            [
             48
            ],
            [
             49
            ],
            [
             50
            ],
            [
             51
            ],
            [
             52
            ],
            [
             53
            ],
            [
             54
            ],
            [
             55
            ],
            [
             56
            ],
            [
             57
            ],
            [
             58
            ],
            [
             59
            ],
            [
             60
            ],
            [
             61
            ],
            [
             62
            ],
            [
             63
            ],
            [
             64
            ],
            [
             65
            ],
            [
             66
            ],
            [
             67
            ],
            [
             68
            ],
            [
             69
            ],
            [
             70
            ],
            [
             71
            ],
            [
             72
            ],
            [
             73
            ],
            [
             74
            ],
            [
             75
            ],
            [
             76
            ],
            [
             77
            ],
            [
             78
            ],
            [
             79
            ],
            [
             80
            ],
            [
             81
            ],
            [
             82
            ],
            [
             83
            ],
            [
             84
            ],
            [
             85
            ],
            [
             86
            ],
            [
             87
            ],
            [
             88
            ],
            [
             89
            ],
            [
             90
            ],
            [
             91
            ],
            [
             92
            ],
            [
             93
            ],
            [
             94
            ],
            [
             95
            ],
            [
             96
            ],
            [
             97
            ],
            [
             98
            ],
            [
             99
            ],
            [
             100
            ],
            [
             101
            ],
            [
             102
            ],
            [
             103
            ],
            [
             104
            ]
           ],
           "hovertemplate": "<b>%{hovertext}</b><br><br>t=17.0<br>x=%{x}<br>y=%{y}<br>sizes=%{marker.size}<br>point_number=%{customdata[0]}<br>cluster=%{marker.color}<extra></extra>",
           "hovertext": [
            4,
            3,
            3,
            3,
            2,
            4,
            2,
            2,
            2,
            3,
            4,
            2,
            1,
            3,
            2,
            3,
            1,
            0,
            4,
            2,
            1,
            2,
            3,
            0,
            3,
            2,
            3,
            0,
            0,
            4,
            3,
            0,
            2,
            1,
            1,
            0,
            2,
            3,
            0,
            1,
            1,
            0,
            2,
            4,
            1,
            2,
            2,
            3,
            1,
            2,
            2,
            0,
            1,
            2,
            4,
            3,
            1,
            2,
            4,
            0,
            3,
            3,
            1,
            4,
            3,
            4,
            0,
            0,
            0,
            1,
            0,
            3,
            3,
            2,
            0,
            2,
            0,
            2,
            2,
            1,
            2,
            4,
            3,
            2,
            1,
            4,
            0,
            4,
            0,
            3,
            0,
            0,
            2,
            2,
            4,
            3,
            1,
            1,
            3,
            4,
            0,
            1,
            2,
            3,
            4
           ],
           "ids": [
            0,
            1,
            2,
            3,
            4,
            5,
            6,
            7,
            8,
            9,
            10,
            11,
            12,
            13,
            14,
            15,
            16,
            17,
            18,
            19,
            20,
            21,
            22,
            23,
            24,
            25,
            26,
            27,
            28,
            29,
            30,
            31,
            32,
            33,
            34,
            35,
            36,
            37,
            38,
            39,
            40,
            41,
            42,
            43,
            44,
            45,
            46,
            47,
            48,
            49,
            50,
            51,
            52,
            53,
            54,
            55,
            56,
            57,
            58,
            59,
            60,
            61,
            62,
            63,
            64,
            65,
            66,
            67,
            68,
            69,
            70,
            71,
            72,
            73,
            74,
            75,
            76,
            77,
            78,
            79,
            80,
            81,
            82,
            83,
            84,
            85,
            86,
            87,
            88,
            89,
            90,
            91,
            92,
            93,
            94,
            95,
            96,
            97,
            98,
            99,
            100,
            101,
            102,
            103,
            104
           ],
           "legendgroup": "",
           "marker": {
            "color": [
             4,
             3,
             3,
             3,
             2,
             4,
             2,
             2,
             2,
             3,
             4,
             2,
             1,
             3,
             2,
             3,
             1,
             0,
             4,
             2,
             1,
             2,
             3,
             0,
             3,
             2,
             3,
             0,
             0,
             4,
             3,
             0,
             2,
             1,
             1,
             0,
             2,
             3,
             0,
             1,
             1,
             0,
             2,
             4,
             1,
             2,
             2,
             3,
             1,
             2,
             2,
             0,
             1,
             2,
             4,
             3,
             1,
             2,
             4,
             0,
             3,
             3,
             1,
             4,
             3,
             4,
             0,
             0,
             0,
             1,
             0,
             3,
             3,
             2,
             0,
             2,
             0,
             2,
             2,
             1,
             2,
             4,
             3,
             2,
             1,
             4,
             0,
             4,
             0,
             3,
             0,
             0,
             2,
             2,
             4,
             3,
             1,
             1,
             3,
             4,
             0,
             1,
             2,
             3,
             4
            ],
            "coloraxis": "coloraxis",
            "size": [
             1,
             1,
             1,
             1,
             1,
             1,
             1,
             1,
             1,
             1,
             1,
             1,
             1,
             1,
             1,
             1,
             1,
             1,
             1,
             1,
             1,
             1,
             1,
             1,
             1,
             1,
             1,
             1,
             1,
             1,
             1,
             1,
             1,
             1,
             1,
             1,
             1,
             1,
             1,
             1,
             1,
             1,
             1,
             1,
             1,
             1,
             1,
             1,
             1,
             1,
             1,
             1,
             1,
             1,
             1,
             1,
             1,
             1,
             1,
             1,
             1,
             1,
             1,
             1,
             1,
             1,
             1,
             1,
             1,
             1,
             1,
             1,
             1,
             1,
             1,
             1,
             1,
             1,
             1,
             1,
             1,
             1,
             1,
             1,
             1,
             1,
             1,
             1,
             1,
             1,
             1,
             1,
             1,
             1,
             1,
             1,
             1,
             1,
             1,
             1,
             3,
             3,
             3,
             3,
             3
            ],
            "sizemode": "area",
            "sizeref": 0.0075,
            "symbol": "circle"
           },
           "mode": "markers",
           "name": "",
           "orientation": "v",
           "showlegend": false,
           "type": "scatter",
           "x": [
            -0.082977995297426,
            -0.4998856251826551,
            -0.35324410918288696,
            -0.3137397886223291,
            -0.10323252576933006,
            -0.0808054855967052,
            -0.29554775026848257,
            -0.47261240680207384,
            -0.08269519763287303,
            -0.35961306140476623,
            0.30074456867553667,
            -0.18657582184075716,
            0.3763891522960383,
            -0.4149557886302221,
            -0.3301695804354311,
            -0.4016531661669499,
            0.45788953015050193,
            0.19187711395047335,
            0.18650092768158366,
            -0.4817117226558082,
            0.4888610889064947,
            -0.21955600793559482,
            -0.396773993422358,
            0.40859550309309556,
            -0.21222466141365126,
            -0.4806330421297029,
            -0.28837188399994096,
            -0.00842684071966171,
            0.07411760549201307,
            0.08930553690328424,
            -0.39766557117217416,
            0.1944001577277451,
            -0.45004654105391284,
            0.16379464521978881,
            0.44459475599081333,
            0.4034019152878835,
            -0.36072365274924145,
            -0.10232316301446642,
            0.4275085803960339,
            0.25081210313615554,
            0.38330609120580983,
            0.2509424340273372,
            -0.23007210823497393,
            -0.07190881012870509,
            0.16344149781844808,
            -0.3852540270466248,
            -0.050087866520059476,
            -0.09186319723871883,
            0.4033795205622538,
            -0.49712967296884103,
            -0.17335509822790385,
            0.3859420993107745,
            0.4085351509197992,
            -0.4841787571534437,
            0.19089691751692395,
            -0.32765949165467145,
            0.43259546303716356,
            -0.4339998272779375,
            0.2538761884612464,
            0.21152475862847175,
            -0.4801198661602044,
            -0.4716935119792054,
            0.360027948682888,
            0.05282197868576588,
            -0.37582668488008886,
            0.08575927145828788,
            0.06103021925570995,
            0.30063267268061633,
            0.30710519561877914,
            0.36354185455942867,
            0.056240233990418886,
            -0.44008231048778834,
            -0.4554481214552383,
            -0.2742906613921453,
            0.05971698205414244,
            -0.4280257203105132,
            0.06810046191994212,
            -0.24767425542967658,
            -0.3045705188906812,
            0.47001998908831233,
            -0.26015224085241384,
            0.11995571838137975,
            -0.34320860535391573,
            -0.42997785628077767,
            0.10632946165333035,
            -0.18263759067783925,
            0.07974521924579692,
            0.05094821911789682,
            0.1692328934531846,
            -0.43366516557155843,
            0.12971750702156448,
            0.25275555373881387,
            -0.23968490142145904,
            -0.30656571737667226,
            0.02467030912373369,
            -0.23670322951288902,
            0.23506596328866947,
            0.40781585250352403,
            -0.486048427024403,
            0.11677835700165762,
            0.20120801330865676,
            0.3480235334717306,
            -0.31871472118813665,
            -0.35647597286232025,
            0.07026187408710806
           ],
           "xaxis": "x",
           "y": [
            0.2203244934421581,
            -0.19766742736816023,
            -0.4076614052312022,
            -0.15443927295695226,
            0.038816734003356945,
            0.1852195003967595,
            0.3781174363909454,
            0.17046751017840223,
            0.05868982844575166,
            -0.3018985109151212,
            0.4682615757193975,
            0.19232261566931408,
            0.3946066635038473,
            -0.46094521676711764,
            0.37814250342941313,
            -0.07889237499494783,
            0.03316528497301707,
            -0.18448436899393705,
            0.3346256718973729,
            0.25014431494496747,
            0.2481656543798394,
            0.2892793284514885,
            -0.052106473824094834,
            -0.2063858516263205,
            -0.3699714278817223,
            0.17883553293989096,
            -0.2344533406277738,
            -0.4466374548829196,
            -0.35327142509418985,
            0.19975836002093117,
            -0.08594401218043168,
            -0.08582073047309735,
            0.035896405915511576,
            0.014889112058308562,
            0.08655504050199292,
            -0.3625252958537625,
            0.3073912887095238,
            -0.3346458028830672,
            -0.15223414025449344,
            0.22599798535045146,
            0.12367220705560888,
            -0.15110165802215747,
            0.39588621819606684,
            0.46484004714838556,
            0.12169572020912178,
            0.44948925870707124,
            0.07838961438713177,
            -0.2629730197569723,
            0.07367948667228585,
            0.11714491362072388,
            0.027058102257609296,
            -0.14273023999750023,
            0.12336011579180273,
            0.4294372337437613,
            0.4973228504514805,
            -0.36286425037112224,
            0.19681816148990017,
            0.2554630526024664,
            0.42302453554648334,
            -0.3757290380278353,
            -0.4737890131222807,
            -0.2537889323969541,
            0.03883106434165284,
            0.3420308923596057,
            -0.2208163209888605,
            0.46959574831967454,
            -0.481352710627057,
            -0.26702572615897957,
            -0.11213935593582824,
            0.24712164273718462,
            -0.363544774339315,
            -0.37865654425926265,
            -0.3925058708939071,
            0.21298898038267666,
            -0.48744401984088415,
            0.467276330000272,
            -0.2967067653390095,
            0.24382585407509294,
            0.08135892727325778,
            0.34682880149003525,
            -0.006230285731270047,
            0.32898089955017873,
            -0.4814237978225905,
            -0.01365488906296819,
            0.06885143708648134,
            0.4886161544124489,
            -0.1198588273764496,
            0.2453344309065021,
            -0.2350804423371906,
            -0.1299158020858937,
            -0.2898259900851604,
            -0.43346351864588506,
            0.3047545637433454,
            0.13946088087994013,
            0.4248079703993507,
            -0.4340389093159762,
            0.27217802954324677,
            0.4319720691968373,
            -0.2656379138785795,
            0.44901632068761643,
            -0.2773681166955987,
            0.17931696919891849,
            0.20032021408628328,
            -0.2991871031761379,
            0.3694506300838897
           ],
           "yaxis": "y"
          }
         ],
         "name": "17.0"
        },
        {
         "data": [
          {
           "customdata": [
            [
             0
            ],
            [
             1
            ],
            [
             2
            ],
            [
             3
            ],
            [
             4
            ],
            [
             5
            ],
            [
             6
            ],
            [
             7
            ],
            [
             8
            ],
            [
             9
            ],
            [
             10
            ],
            [
             11
            ],
            [
             12
            ],
            [
             13
            ],
            [
             14
            ],
            [
             15
            ],
            [
             16
            ],
            [
             17
            ],
            [
             18
            ],
            [
             19
            ],
            [
             20
            ],
            [
             21
            ],
            [
             22
            ],
            [
             23
            ],
            [
             24
            ],
            [
             25
            ],
            [
             26
            ],
            [
             27
            ],
            [
             28
            ],
            [
             29
            ],
            [
             30
            ],
            [
             31
            ],
            [
             32
            ],
            [
             33
            ],
            [
             34
            ],
            [
             35
            ],
            [
             36
            ],
            [
             37
            ],
            [
             38
            ],
            [
             39
            ],
            [
             40
            ],
            [
             41
            ],
            [
             42
            ],
            [
             43
            ],
            [
             44
            ],
            [
             45
            ],
            [
             46
            ],
            [
             47
            ],
            [
             48
            ],
            [
             49
            ],
            [
             50
            ],
            [
             51
            ],
            [
             52
            ],
            [
             53
            ],
            [
             54
            ],
            [
             55
            ],
            [
             56
            ],
            [
             57
            ],
            [
             58
            ],
            [
             59
            ],
            [
             60
            ],
            [
             61
            ],
            [
             62
            ],
            [
             63
            ],
            [
             64
            ],
            [
             65
            ],
            [
             66
            ],
            [
             67
            ],
            [
             68
            ],
            [
             69
            ],
            [
             70
            ],
            [
             71
            ],
            [
             72
            ],
            [
             73
            ],
            [
             74
            ],
            [
             75
            ],
            [
             76
            ],
            [
             77
            ],
            [
             78
            ],
            [
             79
            ],
            [
             80
            ],
            [
             81
            ],
            [
             82
            ],
            [
             83
            ],
            [
             84
            ],
            [
             85
            ],
            [
             86
            ],
            [
             87
            ],
            [
             88
            ],
            [
             89
            ],
            [
             90
            ],
            [
             91
            ],
            [
             92
            ],
            [
             93
            ],
            [
             94
            ],
            [
             95
            ],
            [
             96
            ],
            [
             97
            ],
            [
             98
            ],
            [
             99
            ],
            [
             100
            ],
            [
             101
            ],
            [
             102
            ],
            [
             103
            ],
            [
             104
            ]
           ],
           "hovertemplate": "<b>%{hovertext}</b><br><br>t=18.0<br>x=%{x}<br>y=%{y}<br>sizes=%{marker.size}<br>point_number=%{customdata[0]}<br>cluster=%{marker.color}<extra></extra>",
           "hovertext": [
            4,
            3,
            3,
            3,
            2,
            4,
            2,
            2,
            2,
            3,
            4,
            2,
            1,
            3,
            2,
            3,
            1,
            0,
            4,
            2,
            1,
            2,
            3,
            0,
            3,
            2,
            3,
            0,
            0,
            4,
            3,
            0,
            2,
            1,
            1,
            0,
            2,
            3,
            0,
            1,
            1,
            0,
            2,
            4,
            1,
            2,
            2,
            3,
            1,
            2,
            2,
            0,
            1,
            2,
            4,
            3,
            1,
            2,
            4,
            0,
            3,
            3,
            1,
            4,
            3,
            4,
            0,
            0,
            0,
            1,
            0,
            3,
            3,
            2,
            0,
            2,
            0,
            2,
            2,
            1,
            2,
            4,
            3,
            2,
            1,
            4,
            0,
            4,
            0,
            3,
            0,
            0,
            2,
            2,
            4,
            3,
            1,
            1,
            3,
            4,
            0,
            1,
            2,
            3,
            4
           ],
           "ids": [
            0,
            1,
            2,
            3,
            4,
            5,
            6,
            7,
            8,
            9,
            10,
            11,
            12,
            13,
            14,
            15,
            16,
            17,
            18,
            19,
            20,
            21,
            22,
            23,
            24,
            25,
            26,
            27,
            28,
            29,
            30,
            31,
            32,
            33,
            34,
            35,
            36,
            37,
            38,
            39,
            40,
            41,
            42,
            43,
            44,
            45,
            46,
            47,
            48,
            49,
            50,
            51,
            52,
            53,
            54,
            55,
            56,
            57,
            58,
            59,
            60,
            61,
            62,
            63,
            64,
            65,
            66,
            67,
            68,
            69,
            70,
            71,
            72,
            73,
            74,
            75,
            76,
            77,
            78,
            79,
            80,
            81,
            82,
            83,
            84,
            85,
            86,
            87,
            88,
            89,
            90,
            91,
            92,
            93,
            94,
            95,
            96,
            97,
            98,
            99,
            100,
            101,
            102,
            103,
            104
           ],
           "legendgroup": "",
           "marker": {
            "color": [
             4,
             3,
             3,
             3,
             2,
             4,
             2,
             2,
             2,
             3,
             4,
             2,
             1,
             3,
             2,
             3,
             1,
             0,
             4,
             2,
             1,
             2,
             3,
             0,
             3,
             2,
             3,
             0,
             0,
             4,
             3,
             0,
             2,
             1,
             1,
             0,
             2,
             3,
             0,
             1,
             1,
             0,
             2,
             4,
             1,
             2,
             2,
             3,
             1,
             2,
             2,
             0,
             1,
             2,
             4,
             3,
             1,
             2,
             4,
             0,
             3,
             3,
             1,
             4,
             3,
             4,
             0,
             0,
             0,
             1,
             0,
             3,
             3,
             2,
             0,
             2,
             0,
             2,
             2,
             1,
             2,
             4,
             3,
             2,
             1,
             4,
             0,
             4,
             0,
             3,
             0,
             0,
             2,
             2,
             4,
             3,
             1,
             1,
             3,
             4,
             0,
             1,
             2,
             3,
             4
            ],
            "coloraxis": "coloraxis",
            "size": [
             1,
             1,
             1,
             1,
             1,
             1,
             1,
             1,
             1,
             1,
             1,
             1,
             1,
             1,
             1,
             1,
             1,
             1,
             1,
             1,
             1,
             1,
             1,
             1,
             1,
             1,
             1,
             1,
             1,
             1,
             1,
             1,
             1,
             1,
             1,
             1,
             1,
             1,
             1,
             1,
             1,
             1,
             1,
             1,
             1,
             1,
             1,
             1,
             1,
             1,
             1,
             1,
             1,
             1,
             1,
             1,
             1,
             1,
             1,
             1,
             1,
             1,
             1,
             1,
             1,
             1,
             1,
             1,
             1,
             1,
             1,
             1,
             1,
             1,
             1,
             1,
             1,
             1,
             1,
             1,
             1,
             1,
             1,
             1,
             1,
             1,
             1,
             1,
             1,
             1,
             1,
             1,
             1,
             1,
             1,
             1,
             1,
             1,
             1,
             1,
             3,
             3,
             3,
             3,
             3
            ],
            "sizemode": "area",
            "sizeref": 0.0075,
            "symbol": "circle"
           },
           "mode": "markers",
           "name": "",
           "orientation": "v",
           "showlegend": false,
           "type": "scatter",
           "x": [
            -0.082977995297426,
            -0.4998856251826551,
            -0.35324410918288696,
            -0.3137397886223291,
            -0.10323252576933006,
            -0.0808054855967052,
            -0.29554775026848257,
            -0.47261240680207384,
            -0.08269519763287303,
            -0.35961306140476623,
            0.30074456867553667,
            -0.18657582184075716,
            0.3763891522960383,
            -0.4149557886302221,
            -0.3301695804354311,
            -0.4016531661669499,
            0.45788953015050193,
            0.19187711395047335,
            0.18650092768158366,
            -0.4817117226558082,
            0.4888610889064947,
            -0.21955600793559482,
            -0.396773993422358,
            0.40859550309309556,
            -0.21222466141365126,
            -0.4806330421297029,
            -0.28837188399994096,
            -0.00842684071966171,
            0.07411760549201307,
            0.08930553690328424,
            -0.39766557117217416,
            0.1944001577277451,
            -0.45004654105391284,
            0.16379464521978881,
            0.44459475599081333,
            0.4034019152878835,
            -0.36072365274924145,
            -0.10232316301446642,
            0.4275085803960339,
            0.25081210313615554,
            0.38330609120580983,
            0.2509424340273372,
            -0.23007210823497393,
            -0.07190881012870509,
            0.16344149781844808,
            -0.3852540270466248,
            -0.050087866520059476,
            -0.09186319723871883,
            0.4033795205622538,
            -0.49712967296884103,
            -0.17335509822790385,
            0.3859420993107745,
            0.4085351509197992,
            -0.4841787571534437,
            0.19089691751692395,
            -0.32765949165467145,
            0.43259546303716356,
            -0.4339998272779375,
            0.2538761884612464,
            0.21152475862847175,
            -0.4801198661602044,
            -0.4716935119792054,
            0.360027948682888,
            0.05282197868576588,
            -0.37582668488008886,
            0.08575927145828788,
            0.06103021925570995,
            0.30063267268061633,
            0.30710519561877914,
            0.36354185455942867,
            0.056240233990418886,
            -0.44008231048778834,
            -0.4554481214552383,
            -0.2742906613921453,
            0.05971698205414244,
            -0.4280257203105132,
            0.06810046191994212,
            -0.24767425542967658,
            -0.3045705188906812,
            0.47001998908831233,
            -0.26015224085241384,
            0.11995571838137975,
            -0.34320860535391573,
            -0.42997785628077767,
            0.10632946165333035,
            -0.18263759067783925,
            0.07974521924579692,
            0.05094821911789682,
            0.1692328934531846,
            -0.43366516557155843,
            0.12971750702156448,
            0.25275555373881387,
            -0.23968490142145904,
            -0.30656571737667226,
            0.02467030912373369,
            -0.23670322951288902,
            0.23506596328866947,
            0.40781585250352403,
            -0.486048427024403,
            0.11677835700165762,
            0.20120801330865676,
            0.3480235334717306,
            -0.3157124414868205,
            -0.3583077010695947,
            0.07026187408710806
           ],
           "xaxis": "x",
           "y": [
            0.2203244934421581,
            -0.19766742736816023,
            -0.4076614052312022,
            -0.15443927295695226,
            0.038816734003356945,
            0.1852195003967595,
            0.3781174363909454,
            0.17046751017840223,
            0.05868982844575166,
            -0.3018985109151212,
            0.4682615757193975,
            0.19232261566931408,
            0.3946066635038473,
            -0.46094521676711764,
            0.37814250342941313,
            -0.07889237499494783,
            0.03316528497301707,
            -0.18448436899393705,
            0.3346256718973729,
            0.25014431494496747,
            0.2481656543798394,
            0.2892793284514885,
            -0.052106473824094834,
            -0.2063858516263205,
            -0.3699714278817223,
            0.17883553293989096,
            -0.2344533406277738,
            -0.4466374548829196,
            -0.35327142509418985,
            0.19975836002093117,
            -0.08594401218043168,
            -0.08582073047309735,
            0.035896405915511576,
            0.014889112058308562,
            0.08655504050199292,
            -0.3625252958537625,
            0.3073912887095238,
            -0.3346458028830672,
            -0.15223414025449344,
            0.22599798535045146,
            0.12367220705560888,
            -0.15110165802215747,
            0.39588621819606684,
            0.46484004714838556,
            0.12169572020912178,
            0.44948925870707124,
            0.07838961438713177,
            -0.2629730197569723,
            0.07367948667228585,
            0.11714491362072388,
            0.027058102257609296,
            -0.14273023999750023,
            0.12336011579180273,
            0.4294372337437613,
            0.4973228504514805,
            -0.36286425037112224,
            0.19681816148990017,
            0.2554630526024664,
            0.42302453554648334,
            -0.3757290380278353,
            -0.4737890131222807,
            -0.2537889323969541,
            0.03883106434165284,
            0.3420308923596057,
            -0.2208163209888605,
            0.46959574831967454,
            -0.481352710627057,
            -0.26702572615897957,
            -0.11213935593582824,
            0.24712164273718462,
            -0.363544774339315,
            -0.37865654425926265,
            -0.3925058708939071,
            0.21298898038267666,
            -0.48744401984088415,
            0.467276330000272,
            -0.2967067653390095,
            0.24382585407509294,
            0.08135892727325778,
            0.34682880149003525,
            -0.006230285731270047,
            0.32898089955017873,
            -0.4814237978225905,
            -0.01365488906296819,
            0.06885143708648134,
            0.4886161544124489,
            -0.1198588273764496,
            0.2453344309065021,
            -0.2350804423371906,
            -0.1299158020858937,
            -0.2898259900851604,
            -0.43346351864588506,
            0.3047545637433454,
            0.13946088087994013,
            0.4248079703993507,
            -0.4340389093159762,
            0.27217802954324677,
            0.4319720691968373,
            -0.2656379138785795,
            0.44901632068761643,
            -0.2773681166955987,
            0.17931696919891849,
            0.21002893285206703,
            -0.28795616547831776,
            0.3694506300838897
           ],
           "yaxis": "y"
          }
         ],
         "name": "18.0"
        },
        {
         "data": [
          {
           "customdata": [
            [
             0
            ],
            [
             1
            ],
            [
             2
            ],
            [
             3
            ],
            [
             4
            ],
            [
             5
            ],
            [
             6
            ],
            [
             7
            ],
            [
             8
            ],
            [
             9
            ],
            [
             10
            ],
            [
             11
            ],
            [
             12
            ],
            [
             13
            ],
            [
             14
            ],
            [
             15
            ],
            [
             16
            ],
            [
             17
            ],
            [
             18
            ],
            [
             19
            ],
            [
             20
            ],
            [
             21
            ],
            [
             22
            ],
            [
             23
            ],
            [
             24
            ],
            [
             25
            ],
            [
             26
            ],
            [
             27
            ],
            [
             28
            ],
            [
             29
            ],
            [
             30
            ],
            [
             31
            ],
            [
             32
            ],
            [
             33
            ],
            [
             34
            ],
            [
             35
            ],
            [
             36
            ],
            [
             37
            ],
            [
             38
            ],
            [
             39
            ],
            [
             40
            ],
            [
             41
            ],
            [
             42
            ],
            [
             43
            ],
            [
             44
            ],
            [
             45
            ],
            [
             46
            ],
            [
             47
            ],
            [
             48
            ],
            [
             49
            ],
            [
             50
            ],
            [
             51
            ],
            [
             52
            ],
            [
             53
            ],
            [
             54
            ],
            [
             55
            ],
            [
             56
            ],
            [
             57
            ],
            [
             58
            ],
            [
             59
            ],
            [
             60
            ],
            [
             61
            ],
            [
             62
            ],
            [
             63
            ],
            [
             64
            ],
            [
             65
            ],
            [
             66
            ],
            [
             67
            ],
            [
             68
            ],
            [
             69
            ],
            [
             70
            ],
            [
             71
            ],
            [
             72
            ],
            [
             73
            ],
            [
             74
            ],
            [
             75
            ],
            [
             76
            ],
            [
             77
            ],
            [
             78
            ],
            [
             79
            ],
            [
             80
            ],
            [
             81
            ],
            [
             82
            ],
            [
             83
            ],
            [
             84
            ],
            [
             85
            ],
            [
             86
            ],
            [
             87
            ],
            [
             88
            ],
            [
             89
            ],
            [
             90
            ],
            [
             91
            ],
            [
             92
            ],
            [
             93
            ],
            [
             94
            ],
            [
             95
            ],
            [
             96
            ],
            [
             97
            ],
            [
             98
            ],
            [
             99
            ],
            [
             100
            ],
            [
             101
            ],
            [
             102
            ],
            [
             103
            ],
            [
             104
            ]
           ],
           "hovertemplate": "<b>%{hovertext}</b><br><br>t=19.0<br>x=%{x}<br>y=%{y}<br>sizes=%{marker.size}<br>point_number=%{customdata[0]}<br>cluster=%{marker.color}<extra></extra>",
           "hovertext": [
            4,
            3,
            3,
            3,
            2,
            2,
            2,
            2,
            2,
            3,
            4,
            2,
            1,
            3,
            2,
            3,
            1,
            0,
            4,
            2,
            1,
            2,
            3,
            0,
            3,
            2,
            3,
            0,
            0,
            4,
            3,
            0,
            2,
            1,
            1,
            0,
            2,
            3,
            0,
            1,
            1,
            0,
            2,
            4,
            1,
            2,
            2,
            3,
            1,
            2,
            2,
            0,
            1,
            2,
            4,
            3,
            1,
            2,
            4,
            0,
            3,
            3,
            1,
            4,
            3,
            4,
            0,
            0,
            0,
            1,
            0,
            3,
            3,
            2,
            0,
            2,
            0,
            2,
            2,
            1,
            2,
            4,
            3,
            2,
            1,
            4,
            0,
            4,
            0,
            3,
            0,
            0,
            2,
            2,
            4,
            3,
            1,
            1,
            3,
            4,
            0,
            1,
            2,
            3,
            4
           ],
           "ids": [
            0,
            1,
            2,
            3,
            4,
            5,
            6,
            7,
            8,
            9,
            10,
            11,
            12,
            13,
            14,
            15,
            16,
            17,
            18,
            19,
            20,
            21,
            22,
            23,
            24,
            25,
            26,
            27,
            28,
            29,
            30,
            31,
            32,
            33,
            34,
            35,
            36,
            37,
            38,
            39,
            40,
            41,
            42,
            43,
            44,
            45,
            46,
            47,
            48,
            49,
            50,
            51,
            52,
            53,
            54,
            55,
            56,
            57,
            58,
            59,
            60,
            61,
            62,
            63,
            64,
            65,
            66,
            67,
            68,
            69,
            70,
            71,
            72,
            73,
            74,
            75,
            76,
            77,
            78,
            79,
            80,
            81,
            82,
            83,
            84,
            85,
            86,
            87,
            88,
            89,
            90,
            91,
            92,
            93,
            94,
            95,
            96,
            97,
            98,
            99,
            100,
            101,
            102,
            103,
            104
           ],
           "legendgroup": "",
           "marker": {
            "color": [
             4,
             3,
             3,
             3,
             2,
             2,
             2,
             2,
             2,
             3,
             4,
             2,
             1,
             3,
             2,
             3,
             1,
             0,
             4,
             2,
             1,
             2,
             3,
             0,
             3,
             2,
             3,
             0,
             0,
             4,
             3,
             0,
             2,
             1,
             1,
             0,
             2,
             3,
             0,
             1,
             1,
             0,
             2,
             4,
             1,
             2,
             2,
             3,
             1,
             2,
             2,
             0,
             1,
             2,
             4,
             3,
             1,
             2,
             4,
             0,
             3,
             3,
             1,
             4,
             3,
             4,
             0,
             0,
             0,
             1,
             0,
             3,
             3,
             2,
             0,
             2,
             0,
             2,
             2,
             1,
             2,
             4,
             3,
             2,
             1,
             4,
             0,
             4,
             0,
             3,
             0,
             0,
             2,
             2,
             4,
             3,
             1,
             1,
             3,
             4,
             0,
             1,
             2,
             3,
             4
            ],
            "coloraxis": "coloraxis",
            "size": [
             1,
             1,
             1,
             1,
             1,
             1,
             1,
             1,
             1,
             1,
             1,
             1,
             1,
             1,
             1,
             1,
             1,
             1,
             1,
             1,
             1,
             1,
             1,
             1,
             1,
             1,
             1,
             1,
             1,
             1,
             1,
             1,
             1,
             1,
             1,
             1,
             1,
             1,
             1,
             1,
             1,
             1,
             1,
             1,
             1,
             1,
             1,
             1,
             1,
             1,
             1,
             1,
             1,
             1,
             1,
             1,
             1,
             1,
             1,
             1,
             1,
             1,
             1,
             1,
             1,
             1,
             1,
             1,
             1,
             1,
             1,
             1,
             1,
             1,
             1,
             1,
             1,
             1,
             1,
             1,
             1,
             1,
             1,
             1,
             1,
             1,
             1,
             1,
             1,
             1,
             1,
             1,
             1,
             1,
             1,
             1,
             1,
             1,
             1,
             1,
             3,
             3,
             3,
             3,
             3
            ],
            "sizemode": "area",
            "sizeref": 0.0075,
            "symbol": "circle"
           },
           "mode": "markers",
           "name": "",
           "orientation": "v",
           "showlegend": false,
           "type": "scatter",
           "x": [
            -0.082977995297426,
            -0.4998856251826551,
            -0.35324410918288696,
            -0.3137397886223291,
            -0.10323252576933006,
            -0.0808054855967052,
            -0.29554775026848257,
            -0.47261240680207384,
            -0.08269519763287303,
            -0.35961306140476623,
            0.30074456867553667,
            -0.18657582184075716,
            0.3763891522960383,
            -0.4149557886302221,
            -0.3301695804354311,
            -0.4016531661669499,
            0.45788953015050193,
            0.19187711395047335,
            0.18650092768158366,
            -0.4817117226558082,
            0.4888610889064947,
            -0.21955600793559482,
            -0.396773993422358,
            0.40859550309309556,
            -0.21222466141365126,
            -0.4806330421297029,
            -0.28837188399994096,
            -0.00842684071966171,
            0.07411760549201307,
            0.08930553690328424,
            -0.39766557117217416,
            0.1944001577277451,
            -0.45004654105391284,
            0.16379464521978881,
            0.44459475599081333,
            0.4034019152878835,
            -0.36072365274924145,
            -0.10232316301446642,
            0.4275085803960339,
            0.25081210313615554,
            0.38330609120580983,
            0.2509424340273372,
            -0.23007210823497393,
            -0.07190881012870509,
            0.16344149781844808,
            -0.3852540270466248,
            -0.050087866520059476,
            -0.09186319723871883,
            0.4033795205622538,
            -0.49712967296884103,
            -0.17335509822790385,
            0.3859420993107745,
            0.4085351509197992,
            -0.4841787571534437,
            0.19089691751692395,
            -0.32765949165467145,
            0.43259546303716356,
            -0.4339998272779375,
            0.2538761884612464,
            0.21152475862847175,
            -0.4801198661602044,
            -0.4716935119792054,
            0.360027948682888,
            0.05282197868576588,
            -0.37582668488008886,
            0.08575927145828788,
            0.06103021925570995,
            0.30063267268061633,
            0.30710519561877914,
            0.36354185455942867,
            0.056240233990418886,
            -0.44008231048778834,
            -0.4554481214552383,
            -0.2742906613921453,
            0.05971698205414244,
            -0.4280257203105132,
            0.06810046191994212,
            -0.24767425542967658,
            -0.3045705188906812,
            0.47001998908831233,
            -0.26015224085241384,
            0.11995571838137975,
            -0.34320860535391573,
            -0.42997785628077767,
            0.10632946165333035,
            -0.18263759067783925,
            0.07974521924579692,
            0.05094821911789682,
            0.1692328934531846,
            -0.43366516557155843,
            0.12971750702156448,
            0.25275555373881387,
            -0.23968490142145904,
            -0.30656571737667226,
            0.02467030912373369,
            -0.23670322951288902,
            0.23506596328866947,
            0.40781585250352403,
            -0.486048427024403,
            0.11677835700165762,
            0.20120801330865676,
            0.3480235334717306,
            -0.3157124414868205,
            -0.3583077010695947,
            0.07026187408710806
           ],
           "xaxis": "x",
           "y": [
            0.2203244934421581,
            -0.19766742736816023,
            -0.4076614052312022,
            -0.15443927295695226,
            0.038816734003356945,
            0.1852195003967595,
            0.3781174363909454,
            0.17046751017840223,
            0.05868982844575166,
            -0.3018985109151212,
            0.4682615757193975,
            0.19232261566931408,
            0.3946066635038473,
            -0.46094521676711764,
            0.37814250342941313,
            -0.07889237499494783,
            0.03316528497301707,
            -0.18448436899393705,
            0.3346256718973729,
            0.25014431494496747,
            0.2481656543798394,
            0.2892793284514885,
            -0.052106473824094834,
            -0.2063858516263205,
            -0.3699714278817223,
            0.17883553293989096,
            -0.2344533406277738,
            -0.4466374548829196,
            -0.35327142509418985,
            0.19975836002093117,
            -0.08594401218043168,
            -0.08582073047309735,
            0.035896405915511576,
            0.014889112058308562,
            0.08655504050199292,
            -0.3625252958537625,
            0.3073912887095238,
            -0.3346458028830672,
            -0.15223414025449344,
            0.22599798535045146,
            0.12367220705560888,
            -0.15110165802215747,
            0.39588621819606684,
            0.46484004714838556,
            0.12169572020912178,
            0.44948925870707124,
            0.07838961438713177,
            -0.2629730197569723,
            0.07367948667228585,
            0.11714491362072388,
            0.027058102257609296,
            -0.14273023999750023,
            0.12336011579180273,
            0.4294372337437613,
            0.4973228504514805,
            -0.36286425037112224,
            0.19681816148990017,
            0.2554630526024664,
            0.42302453554648334,
            -0.3757290380278353,
            -0.4737890131222807,
            -0.2537889323969541,
            0.03883106434165284,
            0.3420308923596057,
            -0.2208163209888605,
            0.46959574831967454,
            -0.481352710627057,
            -0.26702572615897957,
            -0.11213935593582824,
            0.24712164273718462,
            -0.363544774339315,
            -0.37865654425926265,
            -0.3925058708939071,
            0.21298898038267666,
            -0.48744401984088415,
            0.467276330000272,
            -0.2967067653390095,
            0.24382585407509294,
            0.08135892727325778,
            0.34682880149003525,
            -0.006230285731270047,
            0.32898089955017873,
            -0.4814237978225905,
            -0.01365488906296819,
            0.06885143708648134,
            0.4886161544124489,
            -0.1198588273764496,
            0.2453344309065021,
            -0.2350804423371906,
            -0.1299158020858937,
            -0.2898259900851604,
            -0.43346351864588506,
            0.3047545637433454,
            0.13946088087994013,
            0.4248079703993507,
            -0.4340389093159762,
            0.27217802954324677,
            0.4319720691968373,
            -0.2656379138785795,
            0.44901632068761643,
            -0.2773681166955987,
            0.17931696919891849,
            0.21002893285206703,
            -0.28795616547831776,
            0.3694506300838897
           ],
           "yaxis": "y"
          }
         ],
         "name": "19.0"
        }
       ],
       "layout": {
        "coloraxis": {
         "cmax": 5,
         "cmin": -1,
         "colorbar": {
          "title": {
           "text": "cluster"
          }
         },
         "colorscale": [
          [
           0,
           "#30123b"
          ],
          [
           0.07142857142857142,
           "#4145ab"
          ],
          [
           0.14285714285714285,
           "#4675ed"
          ],
          [
           0.21428571428571427,
           "#39a2fc"
          ],
          [
           0.2857142857142857,
           "#1bcfd4"
          ],
          [
           0.35714285714285715,
           "#24eca6"
          ],
          [
           0.42857142857142855,
           "#61fc6c"
          ],
          [
           0.5,
           "#a4fc3b"
          ],
          [
           0.5714285714285714,
           "#d1e834"
          ],
          [
           0.6428571428571429,
           "#f3c63a"
          ],
          [
           0.7142857142857143,
           "#fe9b2d"
          ],
          [
           0.7857142857142857,
           "#f36315"
          ],
          [
           0.8571428571428571,
           "#d93806"
          ],
          [
           0.9285714285714286,
           "#b11901"
          ],
          [
           1,
           "#7a0402"
          ]
         ]
        },
        "height": 600,
        "legend": {
         "itemsizing": "constant",
         "tracegroupgap": 0
        },
        "margin": {
         "t": 60
        },
        "sliders": [
         {
          "active": 0,
          "currentvalue": {
           "prefix": "t="
          },
          "len": 0.9,
          "pad": {
           "b": 10,
           "t": 60
          },
          "steps": [
           {
            "args": [
             [
              "0.0"
             ],
             {
              "frame": {
               "duration": 0,
               "redraw": false
              },
              "fromcurrent": true,
              "mode": "immediate",
              "transition": {
               "duration": 0,
               "easing": "linear"
              }
             }
            ],
            "label": "0.0",
            "method": "animate"
           },
           {
            "args": [
             [
              "1.0"
             ],
             {
              "frame": {
               "duration": 0,
               "redraw": false
              },
              "fromcurrent": true,
              "mode": "immediate",
              "transition": {
               "duration": 0,
               "easing": "linear"
              }
             }
            ],
            "label": "1.0",
            "method": "animate"
           },
           {
            "args": [
             [
              "2.0"
             ],
             {
              "frame": {
               "duration": 0,
               "redraw": false
              },
              "fromcurrent": true,
              "mode": "immediate",
              "transition": {
               "duration": 0,
               "easing": "linear"
              }
             }
            ],
            "label": "2.0",
            "method": "animate"
           },
           {
            "args": [
             [
              "3.0"
             ],
             {
              "frame": {
               "duration": 0,
               "redraw": false
              },
              "fromcurrent": true,
              "mode": "immediate",
              "transition": {
               "duration": 0,
               "easing": "linear"
              }
             }
            ],
            "label": "3.0",
            "method": "animate"
           },
           {
            "args": [
             [
              "4.0"
             ],
             {
              "frame": {
               "duration": 0,
               "redraw": false
              },
              "fromcurrent": true,
              "mode": "immediate",
              "transition": {
               "duration": 0,
               "easing": "linear"
              }
             }
            ],
            "label": "4.0",
            "method": "animate"
           },
           {
            "args": [
             [
              "5.0"
             ],
             {
              "frame": {
               "duration": 0,
               "redraw": false
              },
              "fromcurrent": true,
              "mode": "immediate",
              "transition": {
               "duration": 0,
               "easing": "linear"
              }
             }
            ],
            "label": "5.0",
            "method": "animate"
           },
           {
            "args": [
             [
              "6.0"
             ],
             {
              "frame": {
               "duration": 0,
               "redraw": false
              },
              "fromcurrent": true,
              "mode": "immediate",
              "transition": {
               "duration": 0,
               "easing": "linear"
              }
             }
            ],
            "label": "6.0",
            "method": "animate"
           },
           {
            "args": [
             [
              "7.0"
             ],
             {
              "frame": {
               "duration": 0,
               "redraw": false
              },
              "fromcurrent": true,
              "mode": "immediate",
              "transition": {
               "duration": 0,
               "easing": "linear"
              }
             }
            ],
            "label": "7.0",
            "method": "animate"
           },
           {
            "args": [
             [
              "8.0"
             ],
             {
              "frame": {
               "duration": 0,
               "redraw": false
              },
              "fromcurrent": true,
              "mode": "immediate",
              "transition": {
               "duration": 0,
               "easing": "linear"
              }
             }
            ],
            "label": "8.0",
            "method": "animate"
           },
           {
            "args": [
             [
              "9.0"
             ],
             {
              "frame": {
               "duration": 0,
               "redraw": false
              },
              "fromcurrent": true,
              "mode": "immediate",
              "transition": {
               "duration": 0,
               "easing": "linear"
              }
             }
            ],
            "label": "9.0",
            "method": "animate"
           },
           {
            "args": [
             [
              "10.0"
             ],
             {
              "frame": {
               "duration": 0,
               "redraw": false
              },
              "fromcurrent": true,
              "mode": "immediate",
              "transition": {
               "duration": 0,
               "easing": "linear"
              }
             }
            ],
            "label": "10.0",
            "method": "animate"
           },
           {
            "args": [
             [
              "11.0"
             ],
             {
              "frame": {
               "duration": 0,
               "redraw": false
              },
              "fromcurrent": true,
              "mode": "immediate",
              "transition": {
               "duration": 0,
               "easing": "linear"
              }
             }
            ],
            "label": "11.0",
            "method": "animate"
           },
           {
            "args": [
             [
              "12.0"
             ],
             {
              "frame": {
               "duration": 0,
               "redraw": false
              },
              "fromcurrent": true,
              "mode": "immediate",
              "transition": {
               "duration": 0,
               "easing": "linear"
              }
             }
            ],
            "label": "12.0",
            "method": "animate"
           },
           {
            "args": [
             [
              "13.0"
             ],
             {
              "frame": {
               "duration": 0,
               "redraw": false
              },
              "fromcurrent": true,
              "mode": "immediate",
              "transition": {
               "duration": 0,
               "easing": "linear"
              }
             }
            ],
            "label": "13.0",
            "method": "animate"
           },
           {
            "args": [
             [
              "14.0"
             ],
             {
              "frame": {
               "duration": 0,
               "redraw": false
              },
              "fromcurrent": true,
              "mode": "immediate",
              "transition": {
               "duration": 0,
               "easing": "linear"
              }
             }
            ],
            "label": "14.0",
            "method": "animate"
           },
           {
            "args": [
             [
              "15.0"
             ],
             {
              "frame": {
               "duration": 0,
               "redraw": false
              },
              "fromcurrent": true,
              "mode": "immediate",
              "transition": {
               "duration": 0,
               "easing": "linear"
              }
             }
            ],
            "label": "15.0",
            "method": "animate"
           },
           {
            "args": [
             [
              "16.0"
             ],
             {
              "frame": {
               "duration": 0,
               "redraw": false
              },
              "fromcurrent": true,
              "mode": "immediate",
              "transition": {
               "duration": 0,
               "easing": "linear"
              }
             }
            ],
            "label": "16.0",
            "method": "animate"
           },
           {
            "args": [
             [
              "17.0"
             ],
             {
              "frame": {
               "duration": 0,
               "redraw": false
              },
              "fromcurrent": true,
              "mode": "immediate",
              "transition": {
               "duration": 0,
               "easing": "linear"
              }
             }
            ],
            "label": "17.0",
            "method": "animate"
           },
           {
            "args": [
             [
              "18.0"
             ],
             {
              "frame": {
               "duration": 0,
               "redraw": false
              },
              "fromcurrent": true,
              "mode": "immediate",
              "transition": {
               "duration": 0,
               "easing": "linear"
              }
             }
            ],
            "label": "18.0",
            "method": "animate"
           },
           {
            "args": [
             [
              "19.0"
             ],
             {
              "frame": {
               "duration": 0,
               "redraw": false
              },
              "fromcurrent": true,
              "mode": "immediate",
              "transition": {
               "duration": 0,
               "easing": "linear"
              }
             }
            ],
            "label": "19.0",
            "method": "animate"
           }
          ],
          "x": 0.1,
          "xanchor": "left",
          "y": 0,
          "yanchor": "top"
         }
        ],
        "template": {
         "data": {
          "bar": [
           {
            "error_x": {
             "color": "#2a3f5f"
            },
            "error_y": {
             "color": "#2a3f5f"
            },
            "marker": {
             "line": {
              "color": "#E5ECF6",
              "width": 0.5
             },
             "pattern": {
              "fillmode": "overlay",
              "size": 10,
              "solidity": 0.2
             }
            },
            "type": "bar"
           }
          ],
          "barpolar": [
           {
            "marker": {
             "line": {
              "color": "#E5ECF6",
              "width": 0.5
             },
             "pattern": {
              "fillmode": "overlay",
              "size": 10,
              "solidity": 0.2
             }
            },
            "type": "barpolar"
           }
          ],
          "carpet": [
           {
            "aaxis": {
             "endlinecolor": "#2a3f5f",
             "gridcolor": "white",
             "linecolor": "white",
             "minorgridcolor": "white",
             "startlinecolor": "#2a3f5f"
            },
            "baxis": {
             "endlinecolor": "#2a3f5f",
             "gridcolor": "white",
             "linecolor": "white",
             "minorgridcolor": "white",
             "startlinecolor": "#2a3f5f"
            },
            "type": "carpet"
           }
          ],
          "choropleth": [
           {
            "colorbar": {
             "outlinewidth": 0,
             "ticks": ""
            },
            "type": "choropleth"
           }
          ],
          "contour": [
           {
            "colorbar": {
             "outlinewidth": 0,
             "ticks": ""
            },
            "colorscale": [
             [
              0,
              "#0d0887"
             ],
             [
              0.1111111111111111,
              "#46039f"
             ],
             [
              0.2222222222222222,
              "#7201a8"
             ],
             [
              0.3333333333333333,
              "#9c179e"
             ],
             [
              0.4444444444444444,
              "#bd3786"
             ],
             [
              0.5555555555555556,
              "#d8576b"
             ],
             [
              0.6666666666666666,
              "#ed7953"
             ],
             [
              0.7777777777777778,
              "#fb9f3a"
             ],
             [
              0.8888888888888888,
              "#fdca26"
             ],
             [
              1,
              "#f0f921"
             ]
            ],
            "type": "contour"
           }
          ],
          "contourcarpet": [
           {
            "colorbar": {
             "outlinewidth": 0,
             "ticks": ""
            },
            "type": "contourcarpet"
           }
          ],
          "heatmap": [
           {
            "colorbar": {
             "outlinewidth": 0,
             "ticks": ""
            },
            "colorscale": [
             [
              0,
              "#0d0887"
             ],
             [
              0.1111111111111111,
              "#46039f"
             ],
             [
              0.2222222222222222,
              "#7201a8"
             ],
             [
              0.3333333333333333,
              "#9c179e"
             ],
             [
              0.4444444444444444,
              "#bd3786"
             ],
             [
              0.5555555555555556,
              "#d8576b"
             ],
             [
              0.6666666666666666,
              "#ed7953"
             ],
             [
              0.7777777777777778,
              "#fb9f3a"
             ],
             [
              0.8888888888888888,
              "#fdca26"
             ],
             [
              1,
              "#f0f921"
             ]
            ],
            "type": "heatmap"
           }
          ],
          "heatmapgl": [
           {
            "colorbar": {
             "outlinewidth": 0,
             "ticks": ""
            },
            "colorscale": [
             [
              0,
              "#0d0887"
             ],
             [
              0.1111111111111111,
              "#46039f"
             ],
             [
              0.2222222222222222,
              "#7201a8"
             ],
             [
              0.3333333333333333,
              "#9c179e"
             ],
             [
              0.4444444444444444,
              "#bd3786"
             ],
             [
              0.5555555555555556,
              "#d8576b"
             ],
             [
              0.6666666666666666,
              "#ed7953"
             ],
             [
              0.7777777777777778,
              "#fb9f3a"
             ],
             [
              0.8888888888888888,
              "#fdca26"
             ],
             [
              1,
              "#f0f921"
             ]
            ],
            "type": "heatmapgl"
           }
          ],
          "histogram": [
           {
            "marker": {
             "pattern": {
              "fillmode": "overlay",
              "size": 10,
              "solidity": 0.2
             }
            },
            "type": "histogram"
           }
          ],
          "histogram2d": [
           {
            "colorbar": {
             "outlinewidth": 0,
             "ticks": ""
            },
            "colorscale": [
             [
              0,
              "#0d0887"
             ],
             [
              0.1111111111111111,
              "#46039f"
             ],
             [
              0.2222222222222222,
              "#7201a8"
             ],
             [
              0.3333333333333333,
              "#9c179e"
             ],
             [
              0.4444444444444444,
              "#bd3786"
             ],
             [
              0.5555555555555556,
              "#d8576b"
             ],
             [
              0.6666666666666666,
              "#ed7953"
             ],
             [
              0.7777777777777778,
              "#fb9f3a"
             ],
             [
              0.8888888888888888,
              "#fdca26"
             ],
             [
              1,
              "#f0f921"
             ]
            ],
            "type": "histogram2d"
           }
          ],
          "histogram2dcontour": [
           {
            "colorbar": {
             "outlinewidth": 0,
             "ticks": ""
            },
            "colorscale": [
             [
              0,
              "#0d0887"
             ],
             [
              0.1111111111111111,
              "#46039f"
             ],
             [
              0.2222222222222222,
              "#7201a8"
             ],
             [
              0.3333333333333333,
              "#9c179e"
             ],
             [
              0.4444444444444444,
              "#bd3786"
             ],
             [
              0.5555555555555556,
              "#d8576b"
             ],
             [
              0.6666666666666666,
              "#ed7953"
             ],
             [
              0.7777777777777778,
              "#fb9f3a"
             ],
             [
              0.8888888888888888,
              "#fdca26"
             ],
             [
              1,
              "#f0f921"
             ]
            ],
            "type": "histogram2dcontour"
           }
          ],
          "mesh3d": [
           {
            "colorbar": {
             "outlinewidth": 0,
             "ticks": ""
            },
            "type": "mesh3d"
           }
          ],
          "parcoords": [
           {
            "line": {
             "colorbar": {
              "outlinewidth": 0,
              "ticks": ""
             }
            },
            "type": "parcoords"
           }
          ],
          "pie": [
           {
            "automargin": true,
            "type": "pie"
           }
          ],
          "scatter": [
           {
            "fillpattern": {
             "fillmode": "overlay",
             "size": 10,
             "solidity": 0.2
            },
            "type": "scatter"
           }
          ],
          "scatter3d": [
           {
            "line": {
             "colorbar": {
              "outlinewidth": 0,
              "ticks": ""
             }
            },
            "marker": {
             "colorbar": {
              "outlinewidth": 0,
              "ticks": ""
             }
            },
            "type": "scatter3d"
           }
          ],
          "scattercarpet": [
           {
            "marker": {
             "colorbar": {
              "outlinewidth": 0,
              "ticks": ""
             }
            },
            "type": "scattercarpet"
           }
          ],
          "scattergeo": [
           {
            "marker": {
             "colorbar": {
              "outlinewidth": 0,
              "ticks": ""
             }
            },
            "type": "scattergeo"
           }
          ],
          "scattergl": [
           {
            "marker": {
             "colorbar": {
              "outlinewidth": 0,
              "ticks": ""
             }
            },
            "type": "scattergl"
           }
          ],
          "scattermapbox": [
           {
            "marker": {
             "colorbar": {
              "outlinewidth": 0,
              "ticks": ""
             }
            },
            "type": "scattermapbox"
           }
          ],
          "scatterpolar": [
           {
            "marker": {
             "colorbar": {
              "outlinewidth": 0,
              "ticks": ""
             }
            },
            "type": "scatterpolar"
           }
          ],
          "scatterpolargl": [
           {
            "marker": {
             "colorbar": {
              "outlinewidth": 0,
              "ticks": ""
             }
            },
            "type": "scatterpolargl"
           }
          ],
          "scatterternary": [
           {
            "marker": {
             "colorbar": {
              "outlinewidth": 0,
              "ticks": ""
             }
            },
            "type": "scatterternary"
           }
          ],
          "surface": [
           {
            "colorbar": {
             "outlinewidth": 0,
             "ticks": ""
            },
            "colorscale": [
             [
              0,
              "#0d0887"
             ],
             [
              0.1111111111111111,
              "#46039f"
             ],
             [
              0.2222222222222222,
              "#7201a8"
             ],
             [
              0.3333333333333333,
              "#9c179e"
             ],
             [
              0.4444444444444444,
              "#bd3786"
             ],
             [
              0.5555555555555556,
              "#d8576b"
             ],
             [
              0.6666666666666666,
              "#ed7953"
             ],
             [
              0.7777777777777778,
              "#fb9f3a"
             ],
             [
              0.8888888888888888,
              "#fdca26"
             ],
             [
              1,
              "#f0f921"
             ]
            ],
            "type": "surface"
           }
          ],
          "table": [
           {
            "cells": {
             "fill": {
              "color": "#EBF0F8"
             },
             "line": {
              "color": "white"
             }
            },
            "header": {
             "fill": {
              "color": "#C8D4E3"
             },
             "line": {
              "color": "white"
             }
            },
            "type": "table"
           }
          ]
         },
         "layout": {
          "annotationdefaults": {
           "arrowcolor": "#2a3f5f",
           "arrowhead": 0,
           "arrowwidth": 1
          },
          "autotypenumbers": "strict",
          "coloraxis": {
           "colorbar": {
            "outlinewidth": 0,
            "ticks": ""
           }
          },
          "colorscale": {
           "diverging": [
            [
             0,
             "#8e0152"
            ],
            [
             0.1,
             "#c51b7d"
            ],
            [
             0.2,
             "#de77ae"
            ],
            [
             0.3,
             "#f1b6da"
            ],
            [
             0.4,
             "#fde0ef"
            ],
            [
             0.5,
             "#f7f7f7"
            ],
            [
             0.6,
             "#e6f5d0"
            ],
            [
             0.7,
             "#b8e186"
            ],
            [
             0.8,
             "#7fbc41"
            ],
            [
             0.9,
             "#4d9221"
            ],
            [
             1,
             "#276419"
            ]
           ],
           "sequential": [
            [
             0,
             "#0d0887"
            ],
            [
             0.1111111111111111,
             "#46039f"
            ],
            [
             0.2222222222222222,
             "#7201a8"
            ],
            [
             0.3333333333333333,
             "#9c179e"
            ],
            [
             0.4444444444444444,
             "#bd3786"
            ],
            [
             0.5555555555555556,
             "#d8576b"
            ],
            [
             0.6666666666666666,
             "#ed7953"
            ],
            [
             0.7777777777777778,
             "#fb9f3a"
            ],
            [
             0.8888888888888888,
             "#fdca26"
            ],
            [
             1,
             "#f0f921"
            ]
           ],
           "sequentialminus": [
            [
             0,
             "#0d0887"
            ],
            [
             0.1111111111111111,
             "#46039f"
            ],
            [
             0.2222222222222222,
             "#7201a8"
            ],
            [
             0.3333333333333333,
             "#9c179e"
            ],
            [
             0.4444444444444444,
             "#bd3786"
            ],
            [
             0.5555555555555556,
             "#d8576b"
            ],
            [
             0.6666666666666666,
             "#ed7953"
            ],
            [
             0.7777777777777778,
             "#fb9f3a"
            ],
            [
             0.8888888888888888,
             "#fdca26"
            ],
            [
             1,
             "#f0f921"
            ]
           ]
          },
          "colorway": [
           "#636efa",
           "#EF553B",
           "#00cc96",
           "#ab63fa",
           "#FFA15A",
           "#19d3f3",
           "#FF6692",
           "#B6E880",
           "#FF97FF",
           "#FECB52"
          ],
          "font": {
           "color": "#2a3f5f"
          },
          "geo": {
           "bgcolor": "white",
           "lakecolor": "white",
           "landcolor": "#E5ECF6",
           "showlakes": true,
           "showland": true,
           "subunitcolor": "white"
          },
          "hoverlabel": {
           "align": "left"
          },
          "hovermode": "closest",
          "mapbox": {
           "style": "light"
          },
          "paper_bgcolor": "white",
          "plot_bgcolor": "#E5ECF6",
          "polar": {
           "angularaxis": {
            "gridcolor": "white",
            "linecolor": "white",
            "ticks": ""
           },
           "bgcolor": "#E5ECF6",
           "radialaxis": {
            "gridcolor": "white",
            "linecolor": "white",
            "ticks": ""
           }
          },
          "scene": {
           "xaxis": {
            "backgroundcolor": "#E5ECF6",
            "gridcolor": "white",
            "gridwidth": 2,
            "linecolor": "white",
            "showbackground": true,
            "ticks": "",
            "zerolinecolor": "white"
           },
           "yaxis": {
            "backgroundcolor": "#E5ECF6",
            "gridcolor": "white",
            "gridwidth": 2,
            "linecolor": "white",
            "showbackground": true,
            "ticks": "",
            "zerolinecolor": "white"
           },
           "zaxis": {
            "backgroundcolor": "#E5ECF6",
            "gridcolor": "white",
            "gridwidth": 2,
            "linecolor": "white",
            "showbackground": true,
            "ticks": "",
            "zerolinecolor": "white"
           }
          },
          "shapedefaults": {
           "line": {
            "color": "#2a3f5f"
           }
          },
          "ternary": {
           "aaxis": {
            "gridcolor": "white",
            "linecolor": "white",
            "ticks": ""
           },
           "baxis": {
            "gridcolor": "white",
            "linecolor": "white",
            "ticks": ""
           },
           "bgcolor": "#E5ECF6",
           "caxis": {
            "gridcolor": "white",
            "linecolor": "white",
            "ticks": ""
           }
          },
          "title": {
           "x": 0.05
          },
          "xaxis": {
           "automargin": true,
           "gridcolor": "white",
           "linecolor": "white",
           "ticks": "",
           "title": {
            "standoff": 15
           },
           "zerolinecolor": "white",
           "zerolinewidth": 2
          },
          "yaxis": {
           "automargin": true,
           "gridcolor": "white",
           "linecolor": "white",
           "ticks": "",
           "title": {
            "standoff": 15
           },
           "zerolinecolor": "white",
           "zerolinewidth": 2
          }
         }
        },
        "updatemenus": [
         {
          "buttons": [
           {
            "args": [
             null,
             {
              "frame": {
               "duration": 500,
               "redraw": false
              },
              "fromcurrent": true,
              "mode": "immediate",
              "transition": {
               "duration": 0,
               "easing": "linear"
              }
             }
            ],
            "label": "&#9654;",
            "method": "animate"
           },
           {
            "args": [
             [
              null
             ],
             {
              "frame": {
               "duration": 0,
               "redraw": false
              },
              "fromcurrent": true,
              "mode": "immediate",
              "transition": {
               "duration": 0,
               "easing": "linear"
              }
             }
            ],
            "label": "&#9724;",
            "method": "animate"
           }
          ],
          "direction": "left",
          "pad": {
           "r": 10,
           "t": 70
          },
          "showactive": false,
          "type": "buttons",
          "x": 0.1,
          "xanchor": "right",
          "y": 0,
          "yanchor": "top"
         }
        ],
        "width": 550,
        "xaxis": {
         "anchor": "y",
         "domain": [
          0,
          1
         ],
         "title": {
          "text": "x"
         }
        },
        "yaxis": {
         "anchor": "x",
         "domain": [
          0,
          1
         ],
         "title": {
          "text": "y"
         }
        }
       }
      },
      "text/html": [
       "<div>                            <div id=\"f223c7fd-db61-4981-b084-27a4dbe9c807\" class=\"plotly-graph-div\" style=\"height:600px; width:550px;\"></div>            <script type=\"text/javascript\">                require([\"plotly\"], function(Plotly) {                    window.PLOTLYENV=window.PLOTLYENV || {};                                    if (document.getElementById(\"f223c7fd-db61-4981-b084-27a4dbe9c807\")) {                    Plotly.newPlot(                        \"f223c7fd-db61-4981-b084-27a4dbe9c807\",                        [{\"customdata\":[[0.0],[1.0],[2.0],[3.0],[4.0],[5.0],[6.0],[7.0],[8.0],[9.0],[10.0],[11.0],[12.0],[13.0],[14.0],[15.0],[16.0],[17.0],[18.0],[19.0],[20.0],[21.0],[22.0],[23.0],[24.0],[25.0],[26.0],[27.0],[28.0],[29.0],[30.0],[31.0],[32.0],[33.0],[34.0],[35.0],[36.0],[37.0],[38.0],[39.0],[40.0],[41.0],[42.0],[43.0],[44.0],[45.0],[46.0],[47.0],[48.0],[49.0],[50.0],[51.0],[52.0],[53.0],[54.0],[55.0],[56.0],[57.0],[58.0],[59.0],[60.0],[61.0],[62.0],[63.0],[64.0],[65.0],[66.0],[67.0],[68.0],[69.0],[70.0],[71.0],[72.0],[73.0],[74.0],[75.0],[76.0],[77.0],[78.0],[79.0],[80.0],[81.0],[82.0],[83.0],[84.0],[85.0],[86.0],[87.0],[88.0],[89.0],[90.0],[91.0],[92.0],[93.0],[94.0],[95.0],[96.0],[97.0],[98.0],[99.0],[100.0],[101.0],[102.0],[103.0],[104.0]],\"hovertemplate\":\"<b>%{hovertext}</b><br><br>t=0.0<br>x=%{x}<br>y=%{y}<br>sizes=%{marker.size}<br>point_number=%{customdata[0]}<br>cluster=%{marker.color}<extra></extra>\",\"hovertext\":[-1.0,-1.0,-1.0,-1.0,-1.0,-1.0,-1.0,-1.0,-1.0,-1.0,-1.0,-1.0,-1.0,-1.0,-1.0,-1.0,-1.0,-1.0,-1.0,-1.0,-1.0,-1.0,-1.0,-1.0,-1.0,-1.0,-1.0,-1.0,-1.0,-1.0,-1.0,-1.0,-1.0,-1.0,-1.0,-1.0,-1.0,-1.0,-1.0,-1.0,-1.0,-1.0,-1.0,-1.0,-1.0,-1.0,-1.0,-1.0,-1.0,-1.0,-1.0,-1.0,-1.0,-1.0,-1.0,-1.0,-1.0,-1.0,-1.0,-1.0,-1.0,-1.0,-1.0,-1.0,-1.0,-1.0,-1.0,-1.0,-1.0,-1.0,-1.0,-1.0,-1.0,-1.0,-1.0,-1.0,-1.0,-1.0,-1.0,-1.0,-1.0,-1.0,-1.0,-1.0,-1.0,-1.0,-1.0,-1.0,-1.0,-1.0,-1.0,-1.0,-1.0,-1.0,-1.0,-1.0,-1.0,-1.0,-1.0,-1.0,0.0,1.0,2.0,3.0,4.0],\"ids\":[0.0,1.0,2.0,3.0,4.0,5.0,6.0,7.0,8.0,9.0,10.0,11.0,12.0,13.0,14.0,15.0,16.0,17.0,18.0,19.0,20.0,21.0,22.0,23.0,24.0,25.0,26.0,27.0,28.0,29.0,30.0,31.0,32.0,33.0,34.0,35.0,36.0,37.0,38.0,39.0,40.0,41.0,42.0,43.0,44.0,45.0,46.0,47.0,48.0,49.0,50.0,51.0,52.0,53.0,54.0,55.0,56.0,57.0,58.0,59.0,60.0,61.0,62.0,63.0,64.0,65.0,66.0,67.0,68.0,69.0,70.0,71.0,72.0,73.0,74.0,75.0,76.0,77.0,78.0,79.0,80.0,81.0,82.0,83.0,84.0,85.0,86.0,87.0,88.0,89.0,90.0,91.0,92.0,93.0,94.0,95.0,96.0,97.0,98.0,99.0,100.0,101.0,102.0,103.0,104.0],\"legendgroup\":\"\",\"marker\":{\"color\":[-1.0,-1.0,-1.0,-1.0,-1.0,-1.0,-1.0,-1.0,-1.0,-1.0,-1.0,-1.0,-1.0,-1.0,-1.0,-1.0,-1.0,-1.0,-1.0,-1.0,-1.0,-1.0,-1.0,-1.0,-1.0,-1.0,-1.0,-1.0,-1.0,-1.0,-1.0,-1.0,-1.0,-1.0,-1.0,-1.0,-1.0,-1.0,-1.0,-1.0,-1.0,-1.0,-1.0,-1.0,-1.0,-1.0,-1.0,-1.0,-1.0,-1.0,-1.0,-1.0,-1.0,-1.0,-1.0,-1.0,-1.0,-1.0,-1.0,-1.0,-1.0,-1.0,-1.0,-1.0,-1.0,-1.0,-1.0,-1.0,-1.0,-1.0,-1.0,-1.0,-1.0,-1.0,-1.0,-1.0,-1.0,-1.0,-1.0,-1.0,-1.0,-1.0,-1.0,-1.0,-1.0,-1.0,-1.0,-1.0,-1.0,-1.0,-1.0,-1.0,-1.0,-1.0,-1.0,-1.0,-1.0,-1.0,-1.0,-1.0,0.0,1.0,2.0,3.0,4.0],\"coloraxis\":\"coloraxis\",\"size\":[1.0,1.0,1.0,1.0,1.0,1.0,1.0,1.0,1.0,1.0,1.0,1.0,1.0,1.0,1.0,1.0,1.0,1.0,1.0,1.0,1.0,1.0,1.0,1.0,1.0,1.0,1.0,1.0,1.0,1.0,1.0,1.0,1.0,1.0,1.0,1.0,1.0,1.0,1.0,1.0,1.0,1.0,1.0,1.0,1.0,1.0,1.0,1.0,1.0,1.0,1.0,1.0,1.0,1.0,1.0,1.0,1.0,1.0,1.0,1.0,1.0,1.0,1.0,1.0,1.0,1.0,1.0,1.0,1.0,1.0,1.0,1.0,1.0,1.0,1.0,1.0,1.0,1.0,1.0,1.0,1.0,1.0,1.0,1.0,1.0,1.0,1.0,1.0,1.0,1.0,1.0,1.0,1.0,1.0,1.0,1.0,1.0,1.0,1.0,1.0,3.0,3.0,3.0,3.0,3.0],\"sizemode\":\"area\",\"sizeref\":0.0075,\"symbol\":\"circle\"},\"mode\":\"markers\",\"name\":\"\",\"orientation\":\"v\",\"showlegend\":false,\"x\":[-0.082977995297426,-0.4998856251826551,-0.35324410918288696,-0.3137397886223291,-0.10323252576933006,-0.0808054855967052,-0.29554775026848257,-0.47261240680207384,-0.08269519763287303,-0.35961306140476623,0.30074456867553667,-0.18657582184075716,0.3763891522960383,-0.4149557886302221,-0.3301695804354311,-0.4016531661669499,0.45788953015050193,0.19187711395047335,0.18650092768158366,-0.4817117226558082,0.4888610889064947,-0.21955600793559482,-0.396773993422358,0.40859550309309556,-0.21222466141365126,-0.4806330421297029,-0.28837188399994096,-0.00842684071966171,0.07411760549201307,0.08930553690328424,-0.39766557117217416,0.1944001577277451,-0.45004654105391284,0.16379464521978881,0.44459475599081333,0.4034019152878835,-0.36072365274924145,-0.10232316301446642,0.4275085803960339,0.25081210313615554,0.38330609120580983,0.2509424340273372,-0.23007210823497393,-0.07190881012870509,0.16344149781844808,-0.3852540270466248,-0.050087866520059476,-0.09186319723871883,0.4033795205622538,-0.49712967296884103,-0.17335509822790385,0.3859420993107745,0.4085351509197992,-0.4841787571534437,0.19089691751692395,-0.32765949165467145,0.43259546303716356,-0.4339998272779375,0.2538761884612464,0.21152475862847175,-0.4801198661602044,-0.4716935119792054,0.360027948682888,0.05282197868576588,-0.37582668488008886,0.08575927145828788,0.06103021925570995,0.30063267268061633,0.30710519561877914,0.36354185455942867,0.056240233990418886,-0.44008231048778834,-0.4554481214552383,-0.2742906613921453,0.05971698205414244,-0.4280257203105132,0.06810046191994212,-0.24767425542967658,-0.3045705188906812,0.47001998908831233,-0.26015224085241384,0.11995571838137975,-0.34320860535391573,-0.42997785628077767,0.10632946165333035,-0.18263759067783925,0.07974521924579692,0.05094821911789682,0.1692328934531846,-0.43366516557155843,0.12971750702156448,0.25275555373881387,-0.23968490142145904,-0.30656571737667226,0.02467030912373369,-0.23670322951288902,0.23506596328866947,0.40781585250352403,-0.486048427024403,0.11677835700165762,0.27010567154824777,0.24936380985976475,-0.06599537151525225,0.06258628975198394,0.2557088560238722],\"xaxis\":\"x\",\"y\":[0.2203244934421581,-0.19766742736816023,-0.4076614052312022,-0.15443927295695226,0.038816734003356945,0.1852195003967595,0.3781174363909454,0.17046751017840223,0.05868982844575166,-0.3018985109151212,0.4682615757193975,0.19232261566931408,0.3946066635038473,-0.46094521676711764,0.37814250342941313,-0.07889237499494783,0.03316528497301707,-0.18448436899393705,0.3346256718973729,0.25014431494496747,0.2481656543798394,0.2892793284514885,-0.052106473824094834,-0.2063858516263205,-0.3699714278817223,0.17883553293989096,-0.2344533406277738,-0.4466374548829196,-0.35327142509418985,0.19975836002093117,-0.08594401218043168,-0.08582073047309735,0.035896405915511576,0.014889112058308562,0.08655504050199292,-0.3625252958537625,0.3073912887095238,-0.3346458028830672,-0.15223414025449344,0.22599798535045146,0.12367220705560888,-0.15110165802215747,0.39588621819606684,0.46484004714838556,0.12169572020912178,0.44948925870707124,0.07838961438713177,-0.2629730197569723,0.07367948667228585,0.11714491362072388,0.027058102257609296,-0.14273023999750023,0.12336011579180273,0.4294372337437613,0.4973228504514805,-0.36286425037112224,0.19681816148990017,0.2554630526024664,0.42302453554648334,-0.3757290380278353,-0.4737890131222807,-0.2537889323969541,0.03883106434165284,0.3420308923596057,-0.2208163209888605,0.46959574831967454,-0.481352710627057,-0.26702572615897957,-0.11213935593582824,0.24712164273718462,-0.363544774339315,-0.37865654425926265,-0.3925058708939071,0.21298898038267666,-0.48744401984088415,0.467276330000272,-0.2967067653390095,0.24382585407509294,0.08135892727325778,0.34682880149003525,-0.006230285731270047,0.32898089955017873,-0.4814237978225905,-0.01365488906296819,0.06885143708648134,0.4886161544124489,-0.1198588273764496,0.2453344309065021,-0.2350804423371906,-0.1299158020858937,-0.2898259900851604,-0.43346351864588506,0.3047545637433454,0.13946088087994013,0.4248079703993507,-0.4340389093159762,0.27217802954324677,0.4319720691968373,-0.2656379138785795,0.44901632068761643,0.03399191291709386,0.08493972536780253,-0.008405599741854175,0.029728752905137545,0.2512400613801637],\"yaxis\":\"y\",\"type\":\"scatter\"}],                        {\"template\":{\"data\":{\"histogram2dcontour\":[{\"type\":\"histogram2dcontour\",\"colorbar\":{\"outlinewidth\":0,\"ticks\":\"\"},\"colorscale\":[[0.0,\"#0d0887\"],[0.1111111111111111,\"#46039f\"],[0.2222222222222222,\"#7201a8\"],[0.3333333333333333,\"#9c179e\"],[0.4444444444444444,\"#bd3786\"],[0.5555555555555556,\"#d8576b\"],[0.6666666666666666,\"#ed7953\"],[0.7777777777777778,\"#fb9f3a\"],[0.8888888888888888,\"#fdca26\"],[1.0,\"#f0f921\"]]}],\"choropleth\":[{\"type\":\"choropleth\",\"colorbar\":{\"outlinewidth\":0,\"ticks\":\"\"}}],\"histogram2d\":[{\"type\":\"histogram2d\",\"colorbar\":{\"outlinewidth\":0,\"ticks\":\"\"},\"colorscale\":[[0.0,\"#0d0887\"],[0.1111111111111111,\"#46039f\"],[0.2222222222222222,\"#7201a8\"],[0.3333333333333333,\"#9c179e\"],[0.4444444444444444,\"#bd3786\"],[0.5555555555555556,\"#d8576b\"],[0.6666666666666666,\"#ed7953\"],[0.7777777777777778,\"#fb9f3a\"],[0.8888888888888888,\"#fdca26\"],[1.0,\"#f0f921\"]]}],\"heatmap\":[{\"type\":\"heatmap\",\"colorbar\":{\"outlinewidth\":0,\"ticks\":\"\"},\"colorscale\":[[0.0,\"#0d0887\"],[0.1111111111111111,\"#46039f\"],[0.2222222222222222,\"#7201a8\"],[0.3333333333333333,\"#9c179e\"],[0.4444444444444444,\"#bd3786\"],[0.5555555555555556,\"#d8576b\"],[0.6666666666666666,\"#ed7953\"],[0.7777777777777778,\"#fb9f3a\"],[0.8888888888888888,\"#fdca26\"],[1.0,\"#f0f921\"]]}],\"heatmapgl\":[{\"type\":\"heatmapgl\",\"colorbar\":{\"outlinewidth\":0,\"ticks\":\"\"},\"colorscale\":[[0.0,\"#0d0887\"],[0.1111111111111111,\"#46039f\"],[0.2222222222222222,\"#7201a8\"],[0.3333333333333333,\"#9c179e\"],[0.4444444444444444,\"#bd3786\"],[0.5555555555555556,\"#d8576b\"],[0.6666666666666666,\"#ed7953\"],[0.7777777777777778,\"#fb9f3a\"],[0.8888888888888888,\"#fdca26\"],[1.0,\"#f0f921\"]]}],\"contourcarpet\":[{\"type\":\"contourcarpet\",\"colorbar\":{\"outlinewidth\":0,\"ticks\":\"\"}}],\"contour\":[{\"type\":\"contour\",\"colorbar\":{\"outlinewidth\":0,\"ticks\":\"\"},\"colorscale\":[[0.0,\"#0d0887\"],[0.1111111111111111,\"#46039f\"],[0.2222222222222222,\"#7201a8\"],[0.3333333333333333,\"#9c179e\"],[0.4444444444444444,\"#bd3786\"],[0.5555555555555556,\"#d8576b\"],[0.6666666666666666,\"#ed7953\"],[0.7777777777777778,\"#fb9f3a\"],[0.8888888888888888,\"#fdca26\"],[1.0,\"#f0f921\"]]}],\"surface\":[{\"type\":\"surface\",\"colorbar\":{\"outlinewidth\":0,\"ticks\":\"\"},\"colorscale\":[[0.0,\"#0d0887\"],[0.1111111111111111,\"#46039f\"],[0.2222222222222222,\"#7201a8\"],[0.3333333333333333,\"#9c179e\"],[0.4444444444444444,\"#bd3786\"],[0.5555555555555556,\"#d8576b\"],[0.6666666666666666,\"#ed7953\"],[0.7777777777777778,\"#fb9f3a\"],[0.8888888888888888,\"#fdca26\"],[1.0,\"#f0f921\"]]}],\"mesh3d\":[{\"type\":\"mesh3d\",\"colorbar\":{\"outlinewidth\":0,\"ticks\":\"\"}}],\"scatter\":[{\"fillpattern\":{\"fillmode\":\"overlay\",\"size\":10,\"solidity\":0.2},\"type\":\"scatter\"}],\"parcoords\":[{\"type\":\"parcoords\",\"line\":{\"colorbar\":{\"outlinewidth\":0,\"ticks\":\"\"}}}],\"scatterpolargl\":[{\"type\":\"scatterpolargl\",\"marker\":{\"colorbar\":{\"outlinewidth\":0,\"ticks\":\"\"}}}],\"bar\":[{\"error_x\":{\"color\":\"#2a3f5f\"},\"error_y\":{\"color\":\"#2a3f5f\"},\"marker\":{\"line\":{\"color\":\"#E5ECF6\",\"width\":0.5},\"pattern\":{\"fillmode\":\"overlay\",\"size\":10,\"solidity\":0.2}},\"type\":\"bar\"}],\"scattergeo\":[{\"type\":\"scattergeo\",\"marker\":{\"colorbar\":{\"outlinewidth\":0,\"ticks\":\"\"}}}],\"scatterpolar\":[{\"type\":\"scatterpolar\",\"marker\":{\"colorbar\":{\"outlinewidth\":0,\"ticks\":\"\"}}}],\"histogram\":[{\"marker\":{\"pattern\":{\"fillmode\":\"overlay\",\"size\":10,\"solidity\":0.2}},\"type\":\"histogram\"}],\"scattergl\":[{\"type\":\"scattergl\",\"marker\":{\"colorbar\":{\"outlinewidth\":0,\"ticks\":\"\"}}}],\"scatter3d\":[{\"type\":\"scatter3d\",\"line\":{\"colorbar\":{\"outlinewidth\":0,\"ticks\":\"\"}},\"marker\":{\"colorbar\":{\"outlinewidth\":0,\"ticks\":\"\"}}}],\"scattermapbox\":[{\"type\":\"scattermapbox\",\"marker\":{\"colorbar\":{\"outlinewidth\":0,\"ticks\":\"\"}}}],\"scatterternary\":[{\"type\":\"scatterternary\",\"marker\":{\"colorbar\":{\"outlinewidth\":0,\"ticks\":\"\"}}}],\"scattercarpet\":[{\"type\":\"scattercarpet\",\"marker\":{\"colorbar\":{\"outlinewidth\":0,\"ticks\":\"\"}}}],\"carpet\":[{\"aaxis\":{\"endlinecolor\":\"#2a3f5f\",\"gridcolor\":\"white\",\"linecolor\":\"white\",\"minorgridcolor\":\"white\",\"startlinecolor\":\"#2a3f5f\"},\"baxis\":{\"endlinecolor\":\"#2a3f5f\",\"gridcolor\":\"white\",\"linecolor\":\"white\",\"minorgridcolor\":\"white\",\"startlinecolor\":\"#2a3f5f\"},\"type\":\"carpet\"}],\"table\":[{\"cells\":{\"fill\":{\"color\":\"#EBF0F8\"},\"line\":{\"color\":\"white\"}},\"header\":{\"fill\":{\"color\":\"#C8D4E3\"},\"line\":{\"color\":\"white\"}},\"type\":\"table\"}],\"barpolar\":[{\"marker\":{\"line\":{\"color\":\"#E5ECF6\",\"width\":0.5},\"pattern\":{\"fillmode\":\"overlay\",\"size\":10,\"solidity\":0.2}},\"type\":\"barpolar\"}],\"pie\":[{\"automargin\":true,\"type\":\"pie\"}]},\"layout\":{\"autotypenumbers\":\"strict\",\"colorway\":[\"#636efa\",\"#EF553B\",\"#00cc96\",\"#ab63fa\",\"#FFA15A\",\"#19d3f3\",\"#FF6692\",\"#B6E880\",\"#FF97FF\",\"#FECB52\"],\"font\":{\"color\":\"#2a3f5f\"},\"hovermode\":\"closest\",\"hoverlabel\":{\"align\":\"left\"},\"paper_bgcolor\":\"white\",\"plot_bgcolor\":\"#E5ECF6\",\"polar\":{\"bgcolor\":\"#E5ECF6\",\"angularaxis\":{\"gridcolor\":\"white\",\"linecolor\":\"white\",\"ticks\":\"\"},\"radialaxis\":{\"gridcolor\":\"white\",\"linecolor\":\"white\",\"ticks\":\"\"}},\"ternary\":{\"bgcolor\":\"#E5ECF6\",\"aaxis\":{\"gridcolor\":\"white\",\"linecolor\":\"white\",\"ticks\":\"\"},\"baxis\":{\"gridcolor\":\"white\",\"linecolor\":\"white\",\"ticks\":\"\"},\"caxis\":{\"gridcolor\":\"white\",\"linecolor\":\"white\",\"ticks\":\"\"}},\"coloraxis\":{\"colorbar\":{\"outlinewidth\":0,\"ticks\":\"\"}},\"colorscale\":{\"sequential\":[[0.0,\"#0d0887\"],[0.1111111111111111,\"#46039f\"],[0.2222222222222222,\"#7201a8\"],[0.3333333333333333,\"#9c179e\"],[0.4444444444444444,\"#bd3786\"],[0.5555555555555556,\"#d8576b\"],[0.6666666666666666,\"#ed7953\"],[0.7777777777777778,\"#fb9f3a\"],[0.8888888888888888,\"#fdca26\"],[1.0,\"#f0f921\"]],\"sequentialminus\":[[0.0,\"#0d0887\"],[0.1111111111111111,\"#46039f\"],[0.2222222222222222,\"#7201a8\"],[0.3333333333333333,\"#9c179e\"],[0.4444444444444444,\"#bd3786\"],[0.5555555555555556,\"#d8576b\"],[0.6666666666666666,\"#ed7953\"],[0.7777777777777778,\"#fb9f3a\"],[0.8888888888888888,\"#fdca26\"],[1.0,\"#f0f921\"]],\"diverging\":[[0,\"#8e0152\"],[0.1,\"#c51b7d\"],[0.2,\"#de77ae\"],[0.3,\"#f1b6da\"],[0.4,\"#fde0ef\"],[0.5,\"#f7f7f7\"],[0.6,\"#e6f5d0\"],[0.7,\"#b8e186\"],[0.8,\"#7fbc41\"],[0.9,\"#4d9221\"],[1,\"#276419\"]]},\"xaxis\":{\"gridcolor\":\"white\",\"linecolor\":\"white\",\"ticks\":\"\",\"title\":{\"standoff\":15},\"zerolinecolor\":\"white\",\"automargin\":true,\"zerolinewidth\":2},\"yaxis\":{\"gridcolor\":\"white\",\"linecolor\":\"white\",\"ticks\":\"\",\"title\":{\"standoff\":15},\"zerolinecolor\":\"white\",\"automargin\":true,\"zerolinewidth\":2},\"scene\":{\"xaxis\":{\"backgroundcolor\":\"#E5ECF6\",\"gridcolor\":\"white\",\"linecolor\":\"white\",\"showbackground\":true,\"ticks\":\"\",\"zerolinecolor\":\"white\",\"gridwidth\":2},\"yaxis\":{\"backgroundcolor\":\"#E5ECF6\",\"gridcolor\":\"white\",\"linecolor\":\"white\",\"showbackground\":true,\"ticks\":\"\",\"zerolinecolor\":\"white\",\"gridwidth\":2},\"zaxis\":{\"backgroundcolor\":\"#E5ECF6\",\"gridcolor\":\"white\",\"linecolor\":\"white\",\"showbackground\":true,\"ticks\":\"\",\"zerolinecolor\":\"white\",\"gridwidth\":2}},\"shapedefaults\":{\"line\":{\"color\":\"#2a3f5f\"}},\"annotationdefaults\":{\"arrowcolor\":\"#2a3f5f\",\"arrowhead\":0,\"arrowwidth\":1},\"geo\":{\"bgcolor\":\"white\",\"landcolor\":\"#E5ECF6\",\"subunitcolor\":\"white\",\"showland\":true,\"showlakes\":true,\"lakecolor\":\"white\"},\"title\":{\"x\":0.05},\"mapbox\":{\"style\":\"light\"}}},\"xaxis\":{\"anchor\":\"y\",\"domain\":[0.0,1.0],\"title\":{\"text\":\"x\"}},\"yaxis\":{\"anchor\":\"x\",\"domain\":[0.0,1.0],\"title\":{\"text\":\"y\"}},\"coloraxis\":{\"colorbar\":{\"title\":{\"text\":\"cluster\"}},\"colorscale\":[[0.0,\"#30123b\"],[0.07142857142857142,\"#4145ab\"],[0.14285714285714285,\"#4675ed\"],[0.21428571428571427,\"#39a2fc\"],[0.2857142857142857,\"#1bcfd4\"],[0.35714285714285715,\"#24eca6\"],[0.42857142857142855,\"#61fc6c\"],[0.5,\"#a4fc3b\"],[0.5714285714285714,\"#d1e834\"],[0.6428571428571429,\"#f3c63a\"],[0.7142857142857143,\"#fe9b2d\"],[0.7857142857142857,\"#f36315\"],[0.8571428571428571,\"#d93806\"],[0.9285714285714286,\"#b11901\"],[1.0,\"#7a0402\"]],\"cmin\":-1,\"cmax\":5},\"legend\":{\"tracegroupgap\":0,\"itemsizing\":\"constant\"},\"margin\":{\"t\":60},\"height\":600,\"width\":550,\"updatemenus\":[{\"buttons\":[{\"args\":[null,{\"frame\":{\"duration\":500,\"redraw\":false},\"mode\":\"immediate\",\"fromcurrent\":true,\"transition\":{\"duration\":0,\"easing\":\"linear\"}}],\"label\":\"&#9654;\",\"method\":\"animate\"},{\"args\":[[null],{\"frame\":{\"duration\":0,\"redraw\":false},\"mode\":\"immediate\",\"fromcurrent\":true,\"transition\":{\"duration\":0,\"easing\":\"linear\"}}],\"label\":\"&#9724;\",\"method\":\"animate\"}],\"direction\":\"left\",\"pad\":{\"r\":10,\"t\":70},\"showactive\":false,\"type\":\"buttons\",\"x\":0.1,\"xanchor\":\"right\",\"y\":0,\"yanchor\":\"top\"}],\"sliders\":[{\"active\":0,\"currentvalue\":{\"prefix\":\"t=\"},\"len\":0.9,\"pad\":{\"b\":10,\"t\":60},\"steps\":[{\"args\":[[\"0.0\"],{\"frame\":{\"duration\":0,\"redraw\":false},\"mode\":\"immediate\",\"fromcurrent\":true,\"transition\":{\"duration\":0,\"easing\":\"linear\"}}],\"label\":\"0.0\",\"method\":\"animate\"},{\"args\":[[\"1.0\"],{\"frame\":{\"duration\":0,\"redraw\":false},\"mode\":\"immediate\",\"fromcurrent\":true,\"transition\":{\"duration\":0,\"easing\":\"linear\"}}],\"label\":\"1.0\",\"method\":\"animate\"},{\"args\":[[\"2.0\"],{\"frame\":{\"duration\":0,\"redraw\":false},\"mode\":\"immediate\",\"fromcurrent\":true,\"transition\":{\"duration\":0,\"easing\":\"linear\"}}],\"label\":\"2.0\",\"method\":\"animate\"},{\"args\":[[\"3.0\"],{\"frame\":{\"duration\":0,\"redraw\":false},\"mode\":\"immediate\",\"fromcurrent\":true,\"transition\":{\"duration\":0,\"easing\":\"linear\"}}],\"label\":\"3.0\",\"method\":\"animate\"},{\"args\":[[\"4.0\"],{\"frame\":{\"duration\":0,\"redraw\":false},\"mode\":\"immediate\",\"fromcurrent\":true,\"transition\":{\"duration\":0,\"easing\":\"linear\"}}],\"label\":\"4.0\",\"method\":\"animate\"},{\"args\":[[\"5.0\"],{\"frame\":{\"duration\":0,\"redraw\":false},\"mode\":\"immediate\",\"fromcurrent\":true,\"transition\":{\"duration\":0,\"easing\":\"linear\"}}],\"label\":\"5.0\",\"method\":\"animate\"},{\"args\":[[\"6.0\"],{\"frame\":{\"duration\":0,\"redraw\":false},\"mode\":\"immediate\",\"fromcurrent\":true,\"transition\":{\"duration\":0,\"easing\":\"linear\"}}],\"label\":\"6.0\",\"method\":\"animate\"},{\"args\":[[\"7.0\"],{\"frame\":{\"duration\":0,\"redraw\":false},\"mode\":\"immediate\",\"fromcurrent\":true,\"transition\":{\"duration\":0,\"easing\":\"linear\"}}],\"label\":\"7.0\",\"method\":\"animate\"},{\"args\":[[\"8.0\"],{\"frame\":{\"duration\":0,\"redraw\":false},\"mode\":\"immediate\",\"fromcurrent\":true,\"transition\":{\"duration\":0,\"easing\":\"linear\"}}],\"label\":\"8.0\",\"method\":\"animate\"},{\"args\":[[\"9.0\"],{\"frame\":{\"duration\":0,\"redraw\":false},\"mode\":\"immediate\",\"fromcurrent\":true,\"transition\":{\"duration\":0,\"easing\":\"linear\"}}],\"label\":\"9.0\",\"method\":\"animate\"},{\"args\":[[\"10.0\"],{\"frame\":{\"duration\":0,\"redraw\":false},\"mode\":\"immediate\",\"fromcurrent\":true,\"transition\":{\"duration\":0,\"easing\":\"linear\"}}],\"label\":\"10.0\",\"method\":\"animate\"},{\"args\":[[\"11.0\"],{\"frame\":{\"duration\":0,\"redraw\":false},\"mode\":\"immediate\",\"fromcurrent\":true,\"transition\":{\"duration\":0,\"easing\":\"linear\"}}],\"label\":\"11.0\",\"method\":\"animate\"},{\"args\":[[\"12.0\"],{\"frame\":{\"duration\":0,\"redraw\":false},\"mode\":\"immediate\",\"fromcurrent\":true,\"transition\":{\"duration\":0,\"easing\":\"linear\"}}],\"label\":\"12.0\",\"method\":\"animate\"},{\"args\":[[\"13.0\"],{\"frame\":{\"duration\":0,\"redraw\":false},\"mode\":\"immediate\",\"fromcurrent\":true,\"transition\":{\"duration\":0,\"easing\":\"linear\"}}],\"label\":\"13.0\",\"method\":\"animate\"},{\"args\":[[\"14.0\"],{\"frame\":{\"duration\":0,\"redraw\":false},\"mode\":\"immediate\",\"fromcurrent\":true,\"transition\":{\"duration\":0,\"easing\":\"linear\"}}],\"label\":\"14.0\",\"method\":\"animate\"},{\"args\":[[\"15.0\"],{\"frame\":{\"duration\":0,\"redraw\":false},\"mode\":\"immediate\",\"fromcurrent\":true,\"transition\":{\"duration\":0,\"easing\":\"linear\"}}],\"label\":\"15.0\",\"method\":\"animate\"},{\"args\":[[\"16.0\"],{\"frame\":{\"duration\":0,\"redraw\":false},\"mode\":\"immediate\",\"fromcurrent\":true,\"transition\":{\"duration\":0,\"easing\":\"linear\"}}],\"label\":\"16.0\",\"method\":\"animate\"},{\"args\":[[\"17.0\"],{\"frame\":{\"duration\":0,\"redraw\":false},\"mode\":\"immediate\",\"fromcurrent\":true,\"transition\":{\"duration\":0,\"easing\":\"linear\"}}],\"label\":\"17.0\",\"method\":\"animate\"},{\"args\":[[\"18.0\"],{\"frame\":{\"duration\":0,\"redraw\":false},\"mode\":\"immediate\",\"fromcurrent\":true,\"transition\":{\"duration\":0,\"easing\":\"linear\"}}],\"label\":\"18.0\",\"method\":\"animate\"},{\"args\":[[\"19.0\"],{\"frame\":{\"duration\":0,\"redraw\":false},\"mode\":\"immediate\",\"fromcurrent\":true,\"transition\":{\"duration\":0,\"easing\":\"linear\"}}],\"label\":\"19.0\",\"method\":\"animate\"}],\"x\":0.1,\"xanchor\":\"left\",\"y\":0,\"yanchor\":\"top\"}]},                        {\"responsive\": true}                    ).then(function(){\n",
       "                            Plotly.addFrames('f223c7fd-db61-4981-b084-27a4dbe9c807', [{\"data\":[{\"customdata\":[[0.0],[1.0],[2.0],[3.0],[4.0],[5.0],[6.0],[7.0],[8.0],[9.0],[10.0],[11.0],[12.0],[13.0],[14.0],[15.0],[16.0],[17.0],[18.0],[19.0],[20.0],[21.0],[22.0],[23.0],[24.0],[25.0],[26.0],[27.0],[28.0],[29.0],[30.0],[31.0],[32.0],[33.0],[34.0],[35.0],[36.0],[37.0],[38.0],[39.0],[40.0],[41.0],[42.0],[43.0],[44.0],[45.0],[46.0],[47.0],[48.0],[49.0],[50.0],[51.0],[52.0],[53.0],[54.0],[55.0],[56.0],[57.0],[58.0],[59.0],[60.0],[61.0],[62.0],[63.0],[64.0],[65.0],[66.0],[67.0],[68.0],[69.0],[70.0],[71.0],[72.0],[73.0],[74.0],[75.0],[76.0],[77.0],[78.0],[79.0],[80.0],[81.0],[82.0],[83.0],[84.0],[85.0],[86.0],[87.0],[88.0],[89.0],[90.0],[91.0],[92.0],[93.0],[94.0],[95.0],[96.0],[97.0],[98.0],[99.0],[100.0],[101.0],[102.0],[103.0],[104.0]],\"hovertemplate\":\"<b>%{hovertext}</b><br><br>t=0.0<br>x=%{x}<br>y=%{y}<br>sizes=%{marker.size}<br>point_number=%{customdata[0]}<br>cluster=%{marker.color}<extra></extra>\",\"hovertext\":[-1.0,-1.0,-1.0,-1.0,-1.0,-1.0,-1.0,-1.0,-1.0,-1.0,-1.0,-1.0,-1.0,-1.0,-1.0,-1.0,-1.0,-1.0,-1.0,-1.0,-1.0,-1.0,-1.0,-1.0,-1.0,-1.0,-1.0,-1.0,-1.0,-1.0,-1.0,-1.0,-1.0,-1.0,-1.0,-1.0,-1.0,-1.0,-1.0,-1.0,-1.0,-1.0,-1.0,-1.0,-1.0,-1.0,-1.0,-1.0,-1.0,-1.0,-1.0,-1.0,-1.0,-1.0,-1.0,-1.0,-1.0,-1.0,-1.0,-1.0,-1.0,-1.0,-1.0,-1.0,-1.0,-1.0,-1.0,-1.0,-1.0,-1.0,-1.0,-1.0,-1.0,-1.0,-1.0,-1.0,-1.0,-1.0,-1.0,-1.0,-1.0,-1.0,-1.0,-1.0,-1.0,-1.0,-1.0,-1.0,-1.0,-1.0,-1.0,-1.0,-1.0,-1.0,-1.0,-1.0,-1.0,-1.0,-1.0,-1.0,0.0,1.0,2.0,3.0,4.0],\"ids\":[0.0,1.0,2.0,3.0,4.0,5.0,6.0,7.0,8.0,9.0,10.0,11.0,12.0,13.0,14.0,15.0,16.0,17.0,18.0,19.0,20.0,21.0,22.0,23.0,24.0,25.0,26.0,27.0,28.0,29.0,30.0,31.0,32.0,33.0,34.0,35.0,36.0,37.0,38.0,39.0,40.0,41.0,42.0,43.0,44.0,45.0,46.0,47.0,48.0,49.0,50.0,51.0,52.0,53.0,54.0,55.0,56.0,57.0,58.0,59.0,60.0,61.0,62.0,63.0,64.0,65.0,66.0,67.0,68.0,69.0,70.0,71.0,72.0,73.0,74.0,75.0,76.0,77.0,78.0,79.0,80.0,81.0,82.0,83.0,84.0,85.0,86.0,87.0,88.0,89.0,90.0,91.0,92.0,93.0,94.0,95.0,96.0,97.0,98.0,99.0,100.0,101.0,102.0,103.0,104.0],\"legendgroup\":\"\",\"marker\":{\"color\":[-1.0,-1.0,-1.0,-1.0,-1.0,-1.0,-1.0,-1.0,-1.0,-1.0,-1.0,-1.0,-1.0,-1.0,-1.0,-1.0,-1.0,-1.0,-1.0,-1.0,-1.0,-1.0,-1.0,-1.0,-1.0,-1.0,-1.0,-1.0,-1.0,-1.0,-1.0,-1.0,-1.0,-1.0,-1.0,-1.0,-1.0,-1.0,-1.0,-1.0,-1.0,-1.0,-1.0,-1.0,-1.0,-1.0,-1.0,-1.0,-1.0,-1.0,-1.0,-1.0,-1.0,-1.0,-1.0,-1.0,-1.0,-1.0,-1.0,-1.0,-1.0,-1.0,-1.0,-1.0,-1.0,-1.0,-1.0,-1.0,-1.0,-1.0,-1.0,-1.0,-1.0,-1.0,-1.0,-1.0,-1.0,-1.0,-1.0,-1.0,-1.0,-1.0,-1.0,-1.0,-1.0,-1.0,-1.0,-1.0,-1.0,-1.0,-1.0,-1.0,-1.0,-1.0,-1.0,-1.0,-1.0,-1.0,-1.0,-1.0,0.0,1.0,2.0,3.0,4.0],\"coloraxis\":\"coloraxis\",\"size\":[1.0,1.0,1.0,1.0,1.0,1.0,1.0,1.0,1.0,1.0,1.0,1.0,1.0,1.0,1.0,1.0,1.0,1.0,1.0,1.0,1.0,1.0,1.0,1.0,1.0,1.0,1.0,1.0,1.0,1.0,1.0,1.0,1.0,1.0,1.0,1.0,1.0,1.0,1.0,1.0,1.0,1.0,1.0,1.0,1.0,1.0,1.0,1.0,1.0,1.0,1.0,1.0,1.0,1.0,1.0,1.0,1.0,1.0,1.0,1.0,1.0,1.0,1.0,1.0,1.0,1.0,1.0,1.0,1.0,1.0,1.0,1.0,1.0,1.0,1.0,1.0,1.0,1.0,1.0,1.0,1.0,1.0,1.0,1.0,1.0,1.0,1.0,1.0,1.0,1.0,1.0,1.0,1.0,1.0,1.0,1.0,1.0,1.0,1.0,1.0,3.0,3.0,3.0,3.0,3.0],\"sizemode\":\"area\",\"sizeref\":0.0075,\"symbol\":\"circle\"},\"mode\":\"markers\",\"name\":\"\",\"orientation\":\"v\",\"showlegend\":false,\"x\":[-0.082977995297426,-0.4998856251826551,-0.35324410918288696,-0.3137397886223291,-0.10323252576933006,-0.0808054855967052,-0.29554775026848257,-0.47261240680207384,-0.08269519763287303,-0.35961306140476623,0.30074456867553667,-0.18657582184075716,0.3763891522960383,-0.4149557886302221,-0.3301695804354311,-0.4016531661669499,0.45788953015050193,0.19187711395047335,0.18650092768158366,-0.4817117226558082,0.4888610889064947,-0.21955600793559482,-0.396773993422358,0.40859550309309556,-0.21222466141365126,-0.4806330421297029,-0.28837188399994096,-0.00842684071966171,0.07411760549201307,0.08930553690328424,-0.39766557117217416,0.1944001577277451,-0.45004654105391284,0.16379464521978881,0.44459475599081333,0.4034019152878835,-0.36072365274924145,-0.10232316301446642,0.4275085803960339,0.25081210313615554,0.38330609120580983,0.2509424340273372,-0.23007210823497393,-0.07190881012870509,0.16344149781844808,-0.3852540270466248,-0.050087866520059476,-0.09186319723871883,0.4033795205622538,-0.49712967296884103,-0.17335509822790385,0.3859420993107745,0.4085351509197992,-0.4841787571534437,0.19089691751692395,-0.32765949165467145,0.43259546303716356,-0.4339998272779375,0.2538761884612464,0.21152475862847175,-0.4801198661602044,-0.4716935119792054,0.360027948682888,0.05282197868576588,-0.37582668488008886,0.08575927145828788,0.06103021925570995,0.30063267268061633,0.30710519561877914,0.36354185455942867,0.056240233990418886,-0.44008231048778834,-0.4554481214552383,-0.2742906613921453,0.05971698205414244,-0.4280257203105132,0.06810046191994212,-0.24767425542967658,-0.3045705188906812,0.47001998908831233,-0.26015224085241384,0.11995571838137975,-0.34320860535391573,-0.42997785628077767,0.10632946165333035,-0.18263759067783925,0.07974521924579692,0.05094821911789682,0.1692328934531846,-0.43366516557155843,0.12971750702156448,0.25275555373881387,-0.23968490142145904,-0.30656571737667226,0.02467030912373369,-0.23670322951288902,0.23506596328866947,0.40781585250352403,-0.486048427024403,0.11677835700165762,0.27010567154824777,0.24936380985976475,-0.06599537151525225,0.06258628975198394,0.2557088560238722],\"xaxis\":\"x\",\"y\":[0.2203244934421581,-0.19766742736816023,-0.4076614052312022,-0.15443927295695226,0.038816734003356945,0.1852195003967595,0.3781174363909454,0.17046751017840223,0.05868982844575166,-0.3018985109151212,0.4682615757193975,0.19232261566931408,0.3946066635038473,-0.46094521676711764,0.37814250342941313,-0.07889237499494783,0.03316528497301707,-0.18448436899393705,0.3346256718973729,0.25014431494496747,0.2481656543798394,0.2892793284514885,-0.052106473824094834,-0.2063858516263205,-0.3699714278817223,0.17883553293989096,-0.2344533406277738,-0.4466374548829196,-0.35327142509418985,0.19975836002093117,-0.08594401218043168,-0.08582073047309735,0.035896405915511576,0.014889112058308562,0.08655504050199292,-0.3625252958537625,0.3073912887095238,-0.3346458028830672,-0.15223414025449344,0.22599798535045146,0.12367220705560888,-0.15110165802215747,0.39588621819606684,0.46484004714838556,0.12169572020912178,0.44948925870707124,0.07838961438713177,-0.2629730197569723,0.07367948667228585,0.11714491362072388,0.027058102257609296,-0.14273023999750023,0.12336011579180273,0.4294372337437613,0.4973228504514805,-0.36286425037112224,0.19681816148990017,0.2554630526024664,0.42302453554648334,-0.3757290380278353,-0.4737890131222807,-0.2537889323969541,0.03883106434165284,0.3420308923596057,-0.2208163209888605,0.46959574831967454,-0.481352710627057,-0.26702572615897957,-0.11213935593582824,0.24712164273718462,-0.363544774339315,-0.37865654425926265,-0.3925058708939071,0.21298898038267666,-0.48744401984088415,0.467276330000272,-0.2967067653390095,0.24382585407509294,0.08135892727325778,0.34682880149003525,-0.006230285731270047,0.32898089955017873,-0.4814237978225905,-0.01365488906296819,0.06885143708648134,0.4886161544124489,-0.1198588273764496,0.2453344309065021,-0.2350804423371906,-0.1299158020858937,-0.2898259900851604,-0.43346351864588506,0.3047545637433454,0.13946088087994013,0.4248079703993507,-0.4340389093159762,0.27217802954324677,0.4319720691968373,-0.2656379138785795,0.44901632068761643,0.03399191291709386,0.08493972536780253,-0.008405599741854175,0.029728752905137545,0.2512400613801637],\"yaxis\":\"y\",\"type\":\"scatter\"}],\"name\":\"0.0\"},{\"data\":[{\"customdata\":[[0.0],[1.0],[2.0],[3.0],[4.0],[5.0],[6.0],[7.0],[8.0],[9.0],[10.0],[11.0],[12.0],[13.0],[14.0],[15.0],[16.0],[17.0],[18.0],[19.0],[20.0],[21.0],[22.0],[23.0],[24.0],[25.0],[26.0],[27.0],[28.0],[29.0],[30.0],[31.0],[32.0],[33.0],[34.0],[35.0],[36.0],[37.0],[38.0],[39.0],[40.0],[41.0],[42.0],[43.0],[44.0],[45.0],[46.0],[47.0],[48.0],[49.0],[50.0],[51.0],[52.0],[53.0],[54.0],[55.0],[56.0],[57.0],[58.0],[59.0],[60.0],[61.0],[62.0],[63.0],[64.0],[65.0],[66.0],[67.0],[68.0],[69.0],[70.0],[71.0],[72.0],[73.0],[74.0],[75.0],[76.0],[77.0],[78.0],[79.0],[80.0],[81.0],[82.0],[83.0],[84.0],[85.0],[86.0],[87.0],[88.0],[89.0],[90.0],[91.0],[92.0],[93.0],[94.0],[95.0],[96.0],[97.0],[98.0],[99.0],[100.0],[101.0],[102.0],[103.0],[104.0]],\"hovertemplate\":\"<b>%{hovertext}</b><br><br>t=1.0<br>x=%{x}<br>y=%{y}<br>sizes=%{marker.size}<br>point_number=%{customdata[0]}<br>cluster=%{marker.color}<extra></extra>\",\"hovertext\":[2.0,2.0,2.0,2.0,2.0,2.0,2.0,2.0,2.0,2.0,4.0,2.0,4.0,2.0,2.0,2.0,0.0,0.0,4.0,2.0,4.0,2.0,2.0,0.0,2.0,2.0,2.0,2.0,2.0,3.0,2.0,0.0,2.0,3.0,0.0,0.0,2.0,2.0,0.0,4.0,1.0,0.0,2.0,4.0,1.0,2.0,2.0,2.0,0.0,2.0,2.0,0.0,1.0,2.0,4.0,2.0,4.0,2.0,4.0,0.0,2.0,2.0,0.0,4.0,2.0,4.0,2.0,0.0,0.0,4.0,2.0,2.0,2.0,2.0,2.0,2.0,2.0,2.0,2.0,4.0,2.0,4.0,2.0,2.0,3.0,4.0,3.0,4.0,3.0,2.0,3.0,0.0,2.0,2.0,4.0,2.0,4.0,4.0,2.0,4.0,0.0,1.0,2.0,3.0,4.0],\"ids\":[0.0,1.0,2.0,3.0,4.0,5.0,6.0,7.0,8.0,9.0,10.0,11.0,12.0,13.0,14.0,15.0,16.0,17.0,18.0,19.0,20.0,21.0,22.0,23.0,24.0,25.0,26.0,27.0,28.0,29.0,30.0,31.0,32.0,33.0,34.0,35.0,36.0,37.0,38.0,39.0,40.0,41.0,42.0,43.0,44.0,45.0,46.0,47.0,48.0,49.0,50.0,51.0,52.0,53.0,54.0,55.0,56.0,57.0,58.0,59.0,60.0,61.0,62.0,63.0,64.0,65.0,66.0,67.0,68.0,69.0,70.0,71.0,72.0,73.0,74.0,75.0,76.0,77.0,78.0,79.0,80.0,81.0,82.0,83.0,84.0,85.0,86.0,87.0,88.0,89.0,90.0,91.0,92.0,93.0,94.0,95.0,96.0,97.0,98.0,99.0,100.0,101.0,102.0,103.0,104.0],\"legendgroup\":\"\",\"marker\":{\"color\":[2.0,2.0,2.0,2.0,2.0,2.0,2.0,2.0,2.0,2.0,4.0,2.0,4.0,2.0,2.0,2.0,0.0,0.0,4.0,2.0,4.0,2.0,2.0,0.0,2.0,2.0,2.0,2.0,2.0,3.0,2.0,0.0,2.0,3.0,0.0,0.0,2.0,2.0,0.0,4.0,1.0,0.0,2.0,4.0,1.0,2.0,2.0,2.0,0.0,2.0,2.0,0.0,1.0,2.0,4.0,2.0,4.0,2.0,4.0,0.0,2.0,2.0,0.0,4.0,2.0,4.0,2.0,0.0,0.0,4.0,2.0,2.0,2.0,2.0,2.0,2.0,2.0,2.0,2.0,4.0,2.0,4.0,2.0,2.0,3.0,4.0,3.0,4.0,3.0,2.0,3.0,0.0,2.0,2.0,4.0,2.0,4.0,4.0,2.0,4.0,0.0,1.0,2.0,3.0,4.0],\"coloraxis\":\"coloraxis\",\"size\":[1.0,1.0,1.0,1.0,1.0,1.0,1.0,1.0,1.0,1.0,1.0,1.0,1.0,1.0,1.0,1.0,1.0,1.0,1.0,1.0,1.0,1.0,1.0,1.0,1.0,1.0,1.0,1.0,1.0,1.0,1.0,1.0,1.0,1.0,1.0,1.0,1.0,1.0,1.0,1.0,1.0,1.0,1.0,1.0,1.0,1.0,1.0,1.0,1.0,1.0,1.0,1.0,1.0,1.0,1.0,1.0,1.0,1.0,1.0,1.0,1.0,1.0,1.0,1.0,1.0,1.0,1.0,1.0,1.0,1.0,1.0,1.0,1.0,1.0,1.0,1.0,1.0,1.0,1.0,1.0,1.0,1.0,1.0,1.0,1.0,1.0,1.0,1.0,1.0,1.0,1.0,1.0,1.0,1.0,1.0,1.0,1.0,1.0,1.0,1.0,3.0,3.0,3.0,3.0,3.0],\"sizemode\":\"area\",\"sizeref\":0.0075,\"symbol\":\"circle\"},\"mode\":\"markers\",\"name\":\"\",\"orientation\":\"v\",\"showlegend\":false,\"x\":[-0.082977995297426,-0.4998856251826551,-0.35324410918288696,-0.3137397886223291,-0.10323252576933006,-0.0808054855967052,-0.29554775026848257,-0.47261240680207384,-0.08269519763287303,-0.35961306140476623,0.30074456867553667,-0.18657582184075716,0.3763891522960383,-0.4149557886302221,-0.3301695804354311,-0.4016531661669499,0.45788953015050193,0.19187711395047335,0.18650092768158366,-0.4817117226558082,0.4888610889064947,-0.21955600793559482,-0.396773993422358,0.40859550309309556,-0.21222466141365126,-0.4806330421297029,-0.28837188399994096,-0.00842684071966171,0.07411760549201307,0.08930553690328424,-0.39766557117217416,0.1944001577277451,-0.45004654105391284,0.16379464521978881,0.44459475599081333,0.4034019152878835,-0.36072365274924145,-0.10232316301446642,0.4275085803960339,0.25081210313615554,0.38330609120580983,0.2509424340273372,-0.23007210823497393,-0.07190881012870509,0.16344149781844808,-0.3852540270466248,-0.050087866520059476,-0.09186319723871883,0.4033795205622538,-0.49712967296884103,-0.17335509822790385,0.3859420993107745,0.4085351509197992,-0.4841787571534437,0.19089691751692395,-0.32765949165467145,0.43259546303716356,-0.4339998272779375,0.2538761884612464,0.21152475862847175,-0.4801198661602044,-0.4716935119792054,0.360027948682888,0.05282197868576588,-0.37582668488008886,0.08575927145828788,0.06103021925570995,0.30063267268061633,0.30710519561877914,0.36354185455942867,0.056240233990418886,-0.44008231048778834,-0.4554481214552383,-0.2742906613921453,0.05971698205414244,-0.4280257203105132,0.06810046191994212,-0.24767425542967658,-0.3045705188906812,0.47001998908831233,-0.26015224085241384,0.11995571838137975,-0.34320860535391573,-0.42997785628077767,0.10632946165333035,-0.18263759067783925,0.07974521924579692,0.05094821911789682,0.1692328934531846,-0.43366516557155843,0.12971750702156448,0.25275555373881387,-0.23968490142145904,-0.30656571737667226,0.02467030912373369,-0.23670322951288902,0.23506596328866947,0.40781585250352403,-0.486048427024403,0.11677835700165762,0.27010567154824777,0.24936380985976475,-0.06599537151525225,0.06258628975198394,0.2557088560238722],\"xaxis\":\"x\",\"y\":[0.2203244934421581,-0.19766742736816023,-0.4076614052312022,-0.15443927295695226,0.038816734003356945,0.1852195003967595,0.3781174363909454,0.17046751017840223,0.05868982844575166,-0.3018985109151212,0.4682615757193975,0.19232261566931408,0.3946066635038473,-0.46094521676711764,0.37814250342941313,-0.07889237499494783,0.03316528497301707,-0.18448436899393705,0.3346256718973729,0.25014431494496747,0.2481656543798394,0.2892793284514885,-0.052106473824094834,-0.2063858516263205,-0.3699714278817223,0.17883553293989096,-0.2344533406277738,-0.4466374548829196,-0.35327142509418985,0.19975836002093117,-0.08594401218043168,-0.08582073047309735,0.035896405915511576,0.014889112058308562,0.08655504050199292,-0.3625252958537625,0.3073912887095238,-0.3346458028830672,-0.15223414025449344,0.22599798535045146,0.12367220705560888,-0.15110165802215747,0.39588621819606684,0.46484004714838556,0.12169572020912178,0.44948925870707124,0.07838961438713177,-0.2629730197569723,0.07367948667228585,0.11714491362072388,0.027058102257609296,-0.14273023999750023,0.12336011579180273,0.4294372337437613,0.4973228504514805,-0.36286425037112224,0.19681816148990017,0.2554630526024664,0.42302453554648334,-0.3757290380278353,-0.4737890131222807,-0.2537889323969541,0.03883106434165284,0.3420308923596057,-0.2208163209888605,0.46959574831967454,-0.481352710627057,-0.26702572615897957,-0.11213935593582824,0.24712164273718462,-0.363544774339315,-0.37865654425926265,-0.3925058708939071,0.21298898038267666,-0.48744401984088415,0.467276330000272,-0.2967067653390095,0.24382585407509294,0.08135892727325778,0.34682880149003525,-0.006230285731270047,0.32898089955017873,-0.4814237978225905,-0.01365488906296819,0.06885143708648134,0.4886161544124489,-0.1198588273764496,0.2453344309065021,-0.2350804423371906,-0.1299158020858937,-0.2898259900851604,-0.43346351864588506,0.3047545637433454,0.13946088087994013,0.4248079703993507,-0.4340389093159762,0.27217802954324677,0.4319720691968373,-0.2656379138785795,0.44901632068761643,0.03399191291709386,0.08493972536780253,-0.008405599741854175,0.029728752905137545,0.2512400613801637],\"yaxis\":\"y\",\"type\":\"scatter\"}],\"name\":\"1.0\"},{\"data\":[{\"customdata\":[[0.0],[1.0],[2.0],[3.0],[4.0],[5.0],[6.0],[7.0],[8.0],[9.0],[10.0],[11.0],[12.0],[13.0],[14.0],[15.0],[16.0],[17.0],[18.0],[19.0],[20.0],[21.0],[22.0],[23.0],[24.0],[25.0],[26.0],[27.0],[28.0],[29.0],[30.0],[31.0],[32.0],[33.0],[34.0],[35.0],[36.0],[37.0],[38.0],[39.0],[40.0],[41.0],[42.0],[43.0],[44.0],[45.0],[46.0],[47.0],[48.0],[49.0],[50.0],[51.0],[52.0],[53.0],[54.0],[55.0],[56.0],[57.0],[58.0],[59.0],[60.0],[61.0],[62.0],[63.0],[64.0],[65.0],[66.0],[67.0],[68.0],[69.0],[70.0],[71.0],[72.0],[73.0],[74.0],[75.0],[76.0],[77.0],[78.0],[79.0],[80.0],[81.0],[82.0],[83.0],[84.0],[85.0],[86.0],[87.0],[88.0],[89.0],[90.0],[91.0],[92.0],[93.0],[94.0],[95.0],[96.0],[97.0],[98.0],[99.0],[100.0],[101.0],[102.0],[103.0],[104.0]],\"hovertemplate\":\"<b>%{hovertext}</b><br><br>t=2.0<br>x=%{x}<br>y=%{y}<br>sizes=%{marker.size}<br>point_number=%{customdata[0]}<br>cluster=%{marker.color}<extra></extra>\",\"hovertext\":[2.0,2.0,2.0,2.0,2.0,2.0,2.0,2.0,2.0,2.0,4.0,2.0,4.0,2.0,2.0,2.0,0.0,0.0,4.0,2.0,4.0,2.0,2.0,0.0,2.0,2.0,2.0,2.0,2.0,3.0,2.0,0.0,2.0,3.0,0.0,0.0,2.0,2.0,0.0,4.0,1.0,0.0,2.0,4.0,1.0,2.0,2.0,2.0,0.0,2.0,2.0,0.0,1.0,2.0,4.0,2.0,4.0,2.0,4.0,0.0,2.0,2.0,0.0,4.0,2.0,4.0,2.0,0.0,0.0,4.0,2.0,2.0,2.0,2.0,2.0,2.0,2.0,2.0,2.0,4.0,2.0,4.0,2.0,2.0,3.0,4.0,3.0,4.0,3.0,2.0,3.0,0.0,2.0,2.0,4.0,2.0,4.0,4.0,2.0,4.0,0.0,1.0,2.0,3.0,4.0],\"ids\":[0.0,1.0,2.0,3.0,4.0,5.0,6.0,7.0,8.0,9.0,10.0,11.0,12.0,13.0,14.0,15.0,16.0,17.0,18.0,19.0,20.0,21.0,22.0,23.0,24.0,25.0,26.0,27.0,28.0,29.0,30.0,31.0,32.0,33.0,34.0,35.0,36.0,37.0,38.0,39.0,40.0,41.0,42.0,43.0,44.0,45.0,46.0,47.0,48.0,49.0,50.0,51.0,52.0,53.0,54.0,55.0,56.0,57.0,58.0,59.0,60.0,61.0,62.0,63.0,64.0,65.0,66.0,67.0,68.0,69.0,70.0,71.0,72.0,73.0,74.0,75.0,76.0,77.0,78.0,79.0,80.0,81.0,82.0,83.0,84.0,85.0,86.0,87.0,88.0,89.0,90.0,91.0,92.0,93.0,94.0,95.0,96.0,97.0,98.0,99.0,100.0,101.0,102.0,103.0,104.0],\"legendgroup\":\"\",\"marker\":{\"color\":[2.0,2.0,2.0,2.0,2.0,2.0,2.0,2.0,2.0,2.0,4.0,2.0,4.0,2.0,2.0,2.0,0.0,0.0,4.0,2.0,4.0,2.0,2.0,0.0,2.0,2.0,2.0,2.0,2.0,3.0,2.0,0.0,2.0,3.0,0.0,0.0,2.0,2.0,0.0,4.0,1.0,0.0,2.0,4.0,1.0,2.0,2.0,2.0,0.0,2.0,2.0,0.0,1.0,2.0,4.0,2.0,4.0,2.0,4.0,0.0,2.0,2.0,0.0,4.0,2.0,4.0,2.0,0.0,0.0,4.0,2.0,2.0,2.0,2.0,2.0,2.0,2.0,2.0,2.0,4.0,2.0,4.0,2.0,2.0,3.0,4.0,3.0,4.0,3.0,2.0,3.0,0.0,2.0,2.0,4.0,2.0,4.0,4.0,2.0,4.0,0.0,1.0,2.0,3.0,4.0],\"coloraxis\":\"coloraxis\",\"size\":[1.0,1.0,1.0,1.0,1.0,1.0,1.0,1.0,1.0,1.0,1.0,1.0,1.0,1.0,1.0,1.0,1.0,1.0,1.0,1.0,1.0,1.0,1.0,1.0,1.0,1.0,1.0,1.0,1.0,1.0,1.0,1.0,1.0,1.0,1.0,1.0,1.0,1.0,1.0,1.0,1.0,1.0,1.0,1.0,1.0,1.0,1.0,1.0,1.0,1.0,1.0,1.0,1.0,1.0,1.0,1.0,1.0,1.0,1.0,1.0,1.0,1.0,1.0,1.0,1.0,1.0,1.0,1.0,1.0,1.0,1.0,1.0,1.0,1.0,1.0,1.0,1.0,1.0,1.0,1.0,1.0,1.0,1.0,1.0,1.0,1.0,1.0,1.0,1.0,1.0,1.0,1.0,1.0,1.0,1.0,1.0,1.0,1.0,1.0,1.0,3.0,3.0,3.0,3.0,3.0],\"sizemode\":\"area\",\"sizeref\":0.0075,\"symbol\":\"circle\"},\"mode\":\"markers\",\"name\":\"\",\"orientation\":\"v\",\"showlegend\":false,\"x\":[-0.082977995297426,-0.4998856251826551,-0.35324410918288696,-0.3137397886223291,-0.10323252576933006,-0.0808054855967052,-0.29554775026848257,-0.47261240680207384,-0.08269519763287303,-0.35961306140476623,0.30074456867553667,-0.18657582184075716,0.3763891522960383,-0.4149557886302221,-0.3301695804354311,-0.4016531661669499,0.45788953015050193,0.19187711395047335,0.18650092768158366,-0.4817117226558082,0.4888610889064947,-0.21955600793559482,-0.396773993422358,0.40859550309309556,-0.21222466141365126,-0.4806330421297029,-0.28837188399994096,-0.00842684071966171,0.07411760549201307,0.08930553690328424,-0.39766557117217416,0.1944001577277451,-0.45004654105391284,0.16379464521978881,0.44459475599081333,0.4034019152878835,-0.36072365274924145,-0.10232316301446642,0.4275085803960339,0.25081210313615554,0.38330609120580983,0.2509424340273372,-0.23007210823497393,-0.07190881012870509,0.16344149781844808,-0.3852540270466248,-0.050087866520059476,-0.09186319723871883,0.4033795205622538,-0.49712967296884103,-0.17335509822790385,0.3859420993107745,0.4085351509197992,-0.4841787571534437,0.19089691751692395,-0.32765949165467145,0.43259546303716356,-0.4339998272779375,0.2538761884612464,0.21152475862847175,-0.4801198661602044,-0.4716935119792054,0.360027948682888,0.05282197868576588,-0.37582668488008886,0.08575927145828788,0.06103021925570995,0.30063267268061633,0.30710519561877914,0.36354185455942867,0.056240233990418886,-0.44008231048778834,-0.4554481214552383,-0.2742906613921453,0.05971698205414244,-0.4280257203105132,0.06810046191994212,-0.24767425542967658,-0.3045705188906812,0.47001998908831233,-0.26015224085241384,0.11995571838137975,-0.34320860535391573,-0.42997785628077767,0.10632946165333035,-0.18263759067783925,0.07974521924579692,0.05094821911789682,0.1692328934531846,-0.43366516557155843,0.12971750702156448,0.25275555373881387,-0.23968490142145904,-0.30656571737667226,0.02467030912373369,-0.23670322951288902,0.23506596328866947,0.40781585250352403,-0.486048427024403,0.11677835700165762,0.33337184932309877,0.31842757998135235,-0.28471960216232106,0.12302087724949157,0.20767537610566272],\"xaxis\":\"x\",\"y\":[0.2203244934421581,-0.19766742736816023,-0.4076614052312022,-0.15443927295695226,0.038816734003356945,0.1852195003967595,0.3781174363909454,0.17046751017840223,0.05868982844575166,-0.3018985109151212,0.4682615757193975,0.19232261566931408,0.3946066635038473,-0.46094521676711764,0.37814250342941313,-0.07889237499494783,0.03316528497301707,-0.18448436899393705,0.3346256718973729,0.25014431494496747,0.2481656543798394,0.2892793284514885,-0.052106473824094834,-0.2063858516263205,-0.3699714278817223,0.17883553293989096,-0.2344533406277738,-0.4466374548829196,-0.35327142509418985,0.19975836002093117,-0.08594401218043168,-0.08582073047309735,0.035896405915511576,0.014889112058308562,0.08655504050199292,-0.3625252958537625,0.3073912887095238,-0.3346458028830672,-0.15223414025449344,0.22599798535045146,0.12367220705560888,-0.15110165802215747,0.39588621819606684,0.46484004714838556,0.12169572020912178,0.44948925870707124,0.07838961438713177,-0.2629730197569723,0.07367948667228585,0.11714491362072388,0.027058102257609296,-0.14273023999750023,0.12336011579180273,0.4294372337437613,0.4973228504514805,-0.36286425037112224,0.19681816148990017,0.2554630526024664,0.42302453554648334,-0.3757290380278353,-0.4737890131222807,-0.2537889323969541,0.03883106434165284,0.3420308923596057,-0.2208163209888605,0.46959574831967454,-0.481352710627057,-0.26702572615897957,-0.11213935593582824,0.24712164273718462,-0.363544774339315,-0.37865654425926265,-0.3925058708939071,0.21298898038267666,-0.48744401984088415,0.467276330000272,-0.2967067653390095,0.24382585407509294,0.08135892727325778,0.34682880149003525,-0.006230285731270047,0.32898089955017873,-0.4814237978225905,-0.01365488906296819,0.06885143708648134,0.4886161544124489,-0.1198588273764496,0.2453344309065021,-0.2350804423371906,-0.1299158020858937,-0.2898259900851604,-0.43346351864588506,0.3047545637433454,0.13946088087994013,0.4248079703993507,-0.4340389093159762,0.27217802954324677,0.4319720691968373,-0.2656379138785795,0.44901632068761643,-0.1494272698333899,0.12290934768551114,-0.051744581118816156,-0.06021105843884659,0.36500730525449193],\"yaxis\":\"y\",\"type\":\"scatter\"}],\"name\":\"2.0\"},{\"data\":[{\"customdata\":[[0.0],[1.0],[2.0],[3.0],[4.0],[5.0],[6.0],[7.0],[8.0],[9.0],[10.0],[11.0],[12.0],[13.0],[14.0],[15.0],[16.0],[17.0],[18.0],[19.0],[20.0],[21.0],[22.0],[23.0],[24.0],[25.0],[26.0],[27.0],[28.0],[29.0],[30.0],[31.0],[32.0],[33.0],[34.0],[35.0],[36.0],[37.0],[38.0],[39.0],[40.0],[41.0],[42.0],[43.0],[44.0],[45.0],[46.0],[47.0],[48.0],[49.0],[50.0],[51.0],[52.0],[53.0],[54.0],[55.0],[56.0],[57.0],[58.0],[59.0],[60.0],[61.0],[62.0],[63.0],[64.0],[65.0],[66.0],[67.0],[68.0],[69.0],[70.0],[71.0],[72.0],[73.0],[74.0],[75.0],[76.0],[77.0],[78.0],[79.0],[80.0],[81.0],[82.0],[83.0],[84.0],[85.0],[86.0],[87.0],[88.0],[89.0],[90.0],[91.0],[92.0],[93.0],[94.0],[95.0],[96.0],[97.0],[98.0],[99.0],[100.0],[101.0],[102.0],[103.0],[104.0]],\"hovertemplate\":\"<b>%{hovertext}</b><br><br>t=3.0<br>x=%{x}<br>y=%{y}<br>sizes=%{marker.size}<br>point_number=%{customdata[0]}<br>cluster=%{marker.color}<extra></extra>\",\"hovertext\":[4.0,2.0,2.0,2.0,2.0,2.0,2.0,2.0,2.0,2.0,4.0,2.0,4.0,2.0,2.0,2.0,1.0,3.0,4.0,2.0,1.0,2.0,2.0,0.0,2.0,2.0,2.0,3.0,3.0,4.0,2.0,3.0,2.0,3.0,1.0,0.0,2.0,2.0,0.0,1.0,1.0,0.0,4.0,4.0,1.0,2.0,3.0,2.0,1.0,2.0,2.0,0.0,1.0,2.0,4.0,2.0,1.0,2.0,4.0,0.0,2.0,2.0,1.0,4.0,2.0,4.0,3.0,0.0,0.0,1.0,3.0,2.0,2.0,2.0,3.0,2.0,3.0,2.0,2.0,4.0,2.0,4.0,2.0,2.0,3.0,4.0,3.0,4.0,3.0,2.0,3.0,0.0,2.0,2.0,4.0,2.0,4.0,4.0,2.0,4.0,0.0,1.0,2.0,3.0,4.0],\"ids\":[0.0,1.0,2.0,3.0,4.0,5.0,6.0,7.0,8.0,9.0,10.0,11.0,12.0,13.0,14.0,15.0,16.0,17.0,18.0,19.0,20.0,21.0,22.0,23.0,24.0,25.0,26.0,27.0,28.0,29.0,30.0,31.0,32.0,33.0,34.0,35.0,36.0,37.0,38.0,39.0,40.0,41.0,42.0,43.0,44.0,45.0,46.0,47.0,48.0,49.0,50.0,51.0,52.0,53.0,54.0,55.0,56.0,57.0,58.0,59.0,60.0,61.0,62.0,63.0,64.0,65.0,66.0,67.0,68.0,69.0,70.0,71.0,72.0,73.0,74.0,75.0,76.0,77.0,78.0,79.0,80.0,81.0,82.0,83.0,84.0,85.0,86.0,87.0,88.0,89.0,90.0,91.0,92.0,93.0,94.0,95.0,96.0,97.0,98.0,99.0,100.0,101.0,102.0,103.0,104.0],\"legendgroup\":\"\",\"marker\":{\"color\":[4.0,2.0,2.0,2.0,2.0,2.0,2.0,2.0,2.0,2.0,4.0,2.0,4.0,2.0,2.0,2.0,1.0,3.0,4.0,2.0,1.0,2.0,2.0,0.0,2.0,2.0,2.0,3.0,3.0,4.0,2.0,3.0,2.0,3.0,1.0,0.0,2.0,2.0,0.0,1.0,1.0,0.0,4.0,4.0,1.0,2.0,3.0,2.0,1.0,2.0,2.0,0.0,1.0,2.0,4.0,2.0,1.0,2.0,4.0,0.0,2.0,2.0,1.0,4.0,2.0,4.0,3.0,0.0,0.0,1.0,3.0,2.0,2.0,2.0,3.0,2.0,3.0,2.0,2.0,4.0,2.0,4.0,2.0,2.0,3.0,4.0,3.0,4.0,3.0,2.0,3.0,0.0,2.0,2.0,4.0,2.0,4.0,4.0,2.0,4.0,0.0,1.0,2.0,3.0,4.0],\"coloraxis\":\"coloraxis\",\"size\":[1.0,1.0,1.0,1.0,1.0,1.0,1.0,1.0,1.0,1.0,1.0,1.0,1.0,1.0,1.0,1.0,1.0,1.0,1.0,1.0,1.0,1.0,1.0,1.0,1.0,1.0,1.0,1.0,1.0,1.0,1.0,1.0,1.0,1.0,1.0,1.0,1.0,1.0,1.0,1.0,1.0,1.0,1.0,1.0,1.0,1.0,1.0,1.0,1.0,1.0,1.0,1.0,1.0,1.0,1.0,1.0,1.0,1.0,1.0,1.0,1.0,1.0,1.0,1.0,1.0,1.0,1.0,1.0,1.0,1.0,1.0,1.0,1.0,1.0,1.0,1.0,1.0,1.0,1.0,1.0,1.0,1.0,1.0,1.0,1.0,1.0,1.0,1.0,1.0,1.0,1.0,1.0,1.0,1.0,1.0,1.0,1.0,1.0,1.0,1.0,3.0,3.0,3.0,3.0,3.0],\"sizemode\":\"area\",\"sizeref\":0.0075,\"symbol\":\"circle\"},\"mode\":\"markers\",\"name\":\"\",\"orientation\":\"v\",\"showlegend\":false,\"x\":[-0.082977995297426,-0.4998856251826551,-0.35324410918288696,-0.3137397886223291,-0.10323252576933006,-0.0808054855967052,-0.29554775026848257,-0.47261240680207384,-0.08269519763287303,-0.35961306140476623,0.30074456867553667,-0.18657582184075716,0.3763891522960383,-0.4149557886302221,-0.3301695804354311,-0.4016531661669499,0.45788953015050193,0.19187711395047335,0.18650092768158366,-0.4817117226558082,0.4888610889064947,-0.21955600793559482,-0.396773993422358,0.40859550309309556,-0.21222466141365126,-0.4806330421297029,-0.28837188399994096,-0.00842684071966171,0.07411760549201307,0.08930553690328424,-0.39766557117217416,0.1944001577277451,-0.45004654105391284,0.16379464521978881,0.44459475599081333,0.4034019152878835,-0.36072365274924145,-0.10232316301446642,0.4275085803960339,0.25081210313615554,0.38330609120580983,0.2509424340273372,-0.23007210823497393,-0.07190881012870509,0.16344149781844808,-0.3852540270466248,-0.050087866520059476,-0.09186319723871883,0.4033795205622538,-0.49712967296884103,-0.17335509822790385,0.3859420993107745,0.4085351509197992,-0.4841787571534437,0.19089691751692395,-0.32765949165467145,0.43259546303716356,-0.4339998272779375,0.2538761884612464,0.21152475862847175,-0.4801198661602044,-0.4716935119792054,0.360027948682888,0.05282197868576588,-0.37582668488008886,0.08575927145828788,0.06103021925570995,0.30063267268061633,0.30710519561877914,0.36354185455942867,0.056240233990418886,-0.44008231048778834,-0.4554481214552383,-0.2742906613921453,0.05971698205414244,-0.4280257203105132,0.06810046191994212,-0.24767425542967658,-0.3045705188906812,0.47001998908831233,-0.26015224085241384,0.11995571838137975,-0.34320860535391573,-0.42997785628077767,0.10632946165333035,-0.18263759067783925,0.07974521924579692,0.05094821911789682,0.1692328934531846,-0.43366516557155843,0.12971750702156448,0.25275555373881387,-0.23968490142145904,-0.30656571737667226,0.02467030912373369,-0.23670322951288902,0.23506596328866947,0.40781585250352403,-0.486048427024403,0.11677835700165762,0.33337184932309877,0.31842757998135235,-0.28471960216232106,0.12302087724949157,0.20767537610566272],\"xaxis\":\"x\",\"y\":[0.2203244934421581,-0.19766742736816023,-0.4076614052312022,-0.15443927295695226,0.038816734003356945,0.1852195003967595,0.3781174363909454,0.17046751017840223,0.05868982844575166,-0.3018985109151212,0.4682615757193975,0.19232261566931408,0.3946066635038473,-0.46094521676711764,0.37814250342941313,-0.07889237499494783,0.03316528497301707,-0.18448436899393705,0.3346256718973729,0.25014431494496747,0.2481656543798394,0.2892793284514885,-0.052106473824094834,-0.2063858516263205,-0.3699714278817223,0.17883553293989096,-0.2344533406277738,-0.4466374548829196,-0.35327142509418985,0.19975836002093117,-0.08594401218043168,-0.08582073047309735,0.035896405915511576,0.014889112058308562,0.08655504050199292,-0.3625252958537625,0.3073912887095238,-0.3346458028830672,-0.15223414025449344,0.22599798535045146,0.12367220705560888,-0.15110165802215747,0.39588621819606684,0.46484004714838556,0.12169572020912178,0.44948925870707124,0.07838961438713177,-0.2629730197569723,0.07367948667228585,0.11714491362072388,0.027058102257609296,-0.14273023999750023,0.12336011579180273,0.4294372337437613,0.4973228504514805,-0.36286425037112224,0.19681816148990017,0.2554630526024664,0.42302453554648334,-0.3757290380278353,-0.4737890131222807,-0.2537889323969541,0.03883106434165284,0.3420308923596057,-0.2208163209888605,0.46959574831967454,-0.481352710627057,-0.26702572615897957,-0.11213935593582824,0.24712164273718462,-0.363544774339315,-0.37865654425926265,-0.3925058708939071,0.21298898038267666,-0.48744401984088415,0.467276330000272,-0.2967067653390095,0.24382585407509294,0.08135892727325778,0.34682880149003525,-0.006230285731270047,0.32898089955017873,-0.4814237978225905,-0.01365488906296819,0.06885143708648134,0.4886161544124489,-0.1198588273764496,0.2453344309065021,-0.2350804423371906,-0.1299158020858937,-0.2898259900851604,-0.43346351864588506,0.3047545637433454,0.13946088087994013,0.4248079703993507,-0.4340389093159762,0.27217802954324677,0.4319720691968373,-0.2656379138785795,0.44901632068761643,-0.1494272698333899,0.12290934768551114,-0.051744581118816156,-0.06021105843884659,0.36500730525449193],\"yaxis\":\"y\",\"type\":\"scatter\"}],\"name\":\"3.0\"},{\"data\":[{\"customdata\":[[0.0],[1.0],[2.0],[3.0],[4.0],[5.0],[6.0],[7.0],[8.0],[9.0],[10.0],[11.0],[12.0],[13.0],[14.0],[15.0],[16.0],[17.0],[18.0],[19.0],[20.0],[21.0],[22.0],[23.0],[24.0],[25.0],[26.0],[27.0],[28.0],[29.0],[30.0],[31.0],[32.0],[33.0],[34.0],[35.0],[36.0],[37.0],[38.0],[39.0],[40.0],[41.0],[42.0],[43.0],[44.0],[45.0],[46.0],[47.0],[48.0],[49.0],[50.0],[51.0],[52.0],[53.0],[54.0],[55.0],[56.0],[57.0],[58.0],[59.0],[60.0],[61.0],[62.0],[63.0],[64.0],[65.0],[66.0],[67.0],[68.0],[69.0],[70.0],[71.0],[72.0],[73.0],[74.0],[75.0],[76.0],[77.0],[78.0],[79.0],[80.0],[81.0],[82.0],[83.0],[84.0],[85.0],[86.0],[87.0],[88.0],[89.0],[90.0],[91.0],[92.0],[93.0],[94.0],[95.0],[96.0],[97.0],[98.0],[99.0],[100.0],[101.0],[102.0],[103.0],[104.0]],\"hovertemplate\":\"<b>%{hovertext}</b><br><br>t=4.0<br>x=%{x}<br>y=%{y}<br>sizes=%{marker.size}<br>point_number=%{customdata[0]}<br>cluster=%{marker.color}<extra></extra>\",\"hovertext\":[4.0,2.0,2.0,2.0,2.0,2.0,2.0,2.0,2.0,2.0,4.0,2.0,4.0,2.0,2.0,2.0,1.0,3.0,4.0,2.0,1.0,2.0,2.0,0.0,2.0,2.0,2.0,3.0,3.0,4.0,2.0,3.0,2.0,3.0,1.0,0.0,2.0,2.0,0.0,1.0,1.0,0.0,4.0,4.0,1.0,2.0,3.0,2.0,1.0,2.0,2.0,0.0,1.0,2.0,4.0,2.0,1.0,2.0,4.0,0.0,2.0,2.0,1.0,4.0,2.0,4.0,3.0,0.0,0.0,1.0,3.0,2.0,2.0,2.0,3.0,2.0,3.0,2.0,2.0,4.0,2.0,4.0,2.0,2.0,3.0,4.0,3.0,4.0,3.0,2.0,3.0,0.0,2.0,2.0,4.0,2.0,4.0,4.0,2.0,4.0,0.0,1.0,2.0,3.0,4.0],\"ids\":[0.0,1.0,2.0,3.0,4.0,5.0,6.0,7.0,8.0,9.0,10.0,11.0,12.0,13.0,14.0,15.0,16.0,17.0,18.0,19.0,20.0,21.0,22.0,23.0,24.0,25.0,26.0,27.0,28.0,29.0,30.0,31.0,32.0,33.0,34.0,35.0,36.0,37.0,38.0,39.0,40.0,41.0,42.0,43.0,44.0,45.0,46.0,47.0,48.0,49.0,50.0,51.0,52.0,53.0,54.0,55.0,56.0,57.0,58.0,59.0,60.0,61.0,62.0,63.0,64.0,65.0,66.0,67.0,68.0,69.0,70.0,71.0,72.0,73.0,74.0,75.0,76.0,77.0,78.0,79.0,80.0,81.0,82.0,83.0,84.0,85.0,86.0,87.0,88.0,89.0,90.0,91.0,92.0,93.0,94.0,95.0,96.0,97.0,98.0,99.0,100.0,101.0,102.0,103.0,104.0],\"legendgroup\":\"\",\"marker\":{\"color\":[4.0,2.0,2.0,2.0,2.0,2.0,2.0,2.0,2.0,2.0,4.0,2.0,4.0,2.0,2.0,2.0,1.0,3.0,4.0,2.0,1.0,2.0,2.0,0.0,2.0,2.0,2.0,3.0,3.0,4.0,2.0,3.0,2.0,3.0,1.0,0.0,2.0,2.0,0.0,1.0,1.0,0.0,4.0,4.0,1.0,2.0,3.0,2.0,1.0,2.0,2.0,0.0,1.0,2.0,4.0,2.0,1.0,2.0,4.0,0.0,2.0,2.0,1.0,4.0,2.0,4.0,3.0,0.0,0.0,1.0,3.0,2.0,2.0,2.0,3.0,2.0,3.0,2.0,2.0,4.0,2.0,4.0,2.0,2.0,3.0,4.0,3.0,4.0,3.0,2.0,3.0,0.0,2.0,2.0,4.0,2.0,4.0,4.0,2.0,4.0,0.0,1.0,2.0,3.0,4.0],\"coloraxis\":\"coloraxis\",\"size\":[1.0,1.0,1.0,1.0,1.0,1.0,1.0,1.0,1.0,1.0,1.0,1.0,1.0,1.0,1.0,1.0,1.0,1.0,1.0,1.0,1.0,1.0,1.0,1.0,1.0,1.0,1.0,1.0,1.0,1.0,1.0,1.0,1.0,1.0,1.0,1.0,1.0,1.0,1.0,1.0,1.0,1.0,1.0,1.0,1.0,1.0,1.0,1.0,1.0,1.0,1.0,1.0,1.0,1.0,1.0,1.0,1.0,1.0,1.0,1.0,1.0,1.0,1.0,1.0,1.0,1.0,1.0,1.0,1.0,1.0,1.0,1.0,1.0,1.0,1.0,1.0,1.0,1.0,1.0,1.0,1.0,1.0,1.0,1.0,1.0,1.0,1.0,1.0,1.0,1.0,1.0,1.0,1.0,1.0,1.0,1.0,1.0,1.0,1.0,1.0,3.0,3.0,3.0,3.0,3.0],\"sizemode\":\"area\",\"sizeref\":0.0075,\"symbol\":\"circle\"},\"mode\":\"markers\",\"name\":\"\",\"orientation\":\"v\",\"showlegend\":false,\"x\":[-0.082977995297426,-0.4998856251826551,-0.35324410918288696,-0.3137397886223291,-0.10323252576933006,-0.0808054855967052,-0.29554775026848257,-0.47261240680207384,-0.08269519763287303,-0.35961306140476623,0.30074456867553667,-0.18657582184075716,0.3763891522960383,-0.4149557886302221,-0.3301695804354311,-0.4016531661669499,0.45788953015050193,0.19187711395047335,0.18650092768158366,-0.4817117226558082,0.4888610889064947,-0.21955600793559482,-0.396773993422358,0.40859550309309556,-0.21222466141365126,-0.4806330421297029,-0.28837188399994096,-0.00842684071966171,0.07411760549201307,0.08930553690328424,-0.39766557117217416,0.1944001577277451,-0.45004654105391284,0.16379464521978881,0.44459475599081333,0.4034019152878835,-0.36072365274924145,-0.10232316301446642,0.4275085803960339,0.25081210313615554,0.38330609120580983,0.2509424340273372,-0.23007210823497393,-0.07190881012870509,0.16344149781844808,-0.3852540270466248,-0.050087866520059476,-0.09186319723871883,0.4033795205622538,-0.49712967296884103,-0.17335509822790385,0.3859420993107745,0.4085351509197992,-0.4841787571534437,0.19089691751692395,-0.32765949165467145,0.43259546303716356,-0.4339998272779375,0.2538761884612464,0.21152475862847175,-0.4801198661602044,-0.4716935119792054,0.360027948682888,0.05282197868576588,-0.37582668488008886,0.08575927145828788,0.06103021925570995,0.30063267268061633,0.30710519561877914,0.36354185455942867,0.056240233990418886,-0.44008231048778834,-0.4554481214552383,-0.2742906613921453,0.05971698205414244,-0.4280257203105132,0.06810046191994212,-0.24767425542967658,-0.3045705188906812,0.47001998908831233,-0.26015224085241384,0.11995571838137975,-0.34320860535391573,-0.42997785628077767,0.10632946165333035,-0.18263759067783925,0.07974521924579692,0.05094821911789682,0.1692328934531846,-0.43366516557155843,0.12971750702156448,0.25275555373881387,-0.23968490142145904,-0.30656571737667226,0.02467030912373369,-0.23670322951288902,0.23506596328866947,0.40781585250352403,-0.486048427024403,0.11677835700165762,0.32760096808686734,0.37790772772452336,-0.33812634921340606,0.09255627098174209,0.1259974971497314],\"xaxis\":\"x\",\"y\":[0.2203244934421581,-0.19766742736816023,-0.4076614052312022,-0.15443927295695226,0.038816734003356945,0.1852195003967595,0.3781174363909454,0.17046751017840223,0.05868982844575166,-0.3018985109151212,0.4682615757193975,0.19232261566931408,0.3946066635038473,-0.46094521676711764,0.37814250342941313,-0.07889237499494783,0.03316528497301707,-0.18448436899393705,0.3346256718973729,0.25014431494496747,0.2481656543798394,0.2892793284514885,-0.052106473824094834,-0.2063858516263205,-0.3699714278817223,0.17883553293989096,-0.2344533406277738,-0.4466374548829196,-0.35327142509418985,0.19975836002093117,-0.08594401218043168,-0.08582073047309735,0.035896405915511576,0.014889112058308562,0.08655504050199292,-0.3625252958537625,0.3073912887095238,-0.3346458028830672,-0.15223414025449344,0.22599798535045146,0.12367220705560888,-0.15110165802215747,0.39588621819606684,0.46484004714838556,0.12169572020912178,0.44948925870707124,0.07838961438713177,-0.2629730197569723,0.07367948667228585,0.11714491362072388,0.027058102257609296,-0.14273023999750023,0.12336011579180273,0.4294372337437613,0.4973228504514805,-0.36286425037112224,0.19681816148990017,0.2554630526024664,0.42302453554648334,-0.3757290380278353,-0.4737890131222807,-0.2537889323969541,0.03883106434165284,0.3420308923596057,-0.2208163209888605,0.46959574831967454,-0.481352710627057,-0.26702572615897957,-0.11213935593582824,0.24712164273718462,-0.363544774339315,-0.37865654425926265,-0.3925058708939071,0.21298898038267666,-0.48744401984088415,0.467276330000272,-0.2967067653390095,0.24382585407509294,0.08135892727325778,0.34682880149003525,-0.006230285731270047,0.32898089955017873,-0.4814237978225905,-0.01365488906296819,0.06885143708648134,0.4886161544124489,-0.1198588273764496,0.2453344309065021,-0.2350804423371906,-0.1299158020858937,-0.2898259900851604,-0.43346351864588506,0.3047545637433454,0.13946088087994013,0.4248079703993507,-0.4340389093159762,0.27217802954324677,0.4319720691968373,-0.2656379138785795,0.44901632068761643,-0.24481498050252914,0.1380965785002598,-0.024751908905440143,-0.22727838184694918,0.37884272277850634],\"yaxis\":\"y\",\"type\":\"scatter\"}],\"name\":\"4.0\"},{\"data\":[{\"customdata\":[[0.0],[1.0],[2.0],[3.0],[4.0],[5.0],[6.0],[7.0],[8.0],[9.0],[10.0],[11.0],[12.0],[13.0],[14.0],[15.0],[16.0],[17.0],[18.0],[19.0],[20.0],[21.0],[22.0],[23.0],[24.0],[25.0],[26.0],[27.0],[28.0],[29.0],[30.0],[31.0],[32.0],[33.0],[34.0],[35.0],[36.0],[37.0],[38.0],[39.0],[40.0],[41.0],[42.0],[43.0],[44.0],[45.0],[46.0],[47.0],[48.0],[49.0],[50.0],[51.0],[52.0],[53.0],[54.0],[55.0],[56.0],[57.0],[58.0],[59.0],[60.0],[61.0],[62.0],[63.0],[64.0],[65.0],[66.0],[67.0],[68.0],[69.0],[70.0],[71.0],[72.0],[73.0],[74.0],[75.0],[76.0],[77.0],[78.0],[79.0],[80.0],[81.0],[82.0],[83.0],[84.0],[85.0],[86.0],[87.0],[88.0],[89.0],[90.0],[91.0],[92.0],[93.0],[94.0],[95.0],[96.0],[97.0],[98.0],[99.0],[100.0],[101.0],[102.0],[103.0],[104.0]],\"hovertemplate\":\"<b>%{hovertext}</b><br><br>t=5.0<br>x=%{x}<br>y=%{y}<br>sizes=%{marker.size}<br>point_number=%{customdata[0]}<br>cluster=%{marker.color}<extra></extra>\",\"hovertext\":[4.0,2.0,2.0,2.0,2.0,4.0,2.0,2.0,2.0,2.0,4.0,2.0,4.0,2.0,2.0,2.0,1.0,3.0,4.0,2.0,1.0,2.0,2.0,0.0,3.0,2.0,2.0,3.0,3.0,4.0,2.0,3.0,2.0,1.0,1.0,0.0,2.0,3.0,0.0,1.0,1.0,0.0,4.0,4.0,1.0,2.0,2.0,3.0,1.0,2.0,2.0,0.0,1.0,2.0,4.0,2.0,1.0,2.0,4.0,0.0,2.0,2.0,1.0,4.0,2.0,4.0,3.0,0.0,0.0,1.0,3.0,2.0,2.0,2.0,3.0,2.0,3.0,2.0,2.0,1.0,2.0,4.0,2.0,2.0,1.0,4.0,3.0,4.0,3.0,2.0,3.0,0.0,2.0,2.0,4.0,3.0,4.0,4.0,2.0,4.0,0.0,1.0,2.0,3.0,4.0],\"ids\":[0.0,1.0,2.0,3.0,4.0,5.0,6.0,7.0,8.0,9.0,10.0,11.0,12.0,13.0,14.0,15.0,16.0,17.0,18.0,19.0,20.0,21.0,22.0,23.0,24.0,25.0,26.0,27.0,28.0,29.0,30.0,31.0,32.0,33.0,34.0,35.0,36.0,37.0,38.0,39.0,40.0,41.0,42.0,43.0,44.0,45.0,46.0,47.0,48.0,49.0,50.0,51.0,52.0,53.0,54.0,55.0,56.0,57.0,58.0,59.0,60.0,61.0,62.0,63.0,64.0,65.0,66.0,67.0,68.0,69.0,70.0,71.0,72.0,73.0,74.0,75.0,76.0,77.0,78.0,79.0,80.0,81.0,82.0,83.0,84.0,85.0,86.0,87.0,88.0,89.0,90.0,91.0,92.0,93.0,94.0,95.0,96.0,97.0,98.0,99.0,100.0,101.0,102.0,103.0,104.0],\"legendgroup\":\"\",\"marker\":{\"color\":[4.0,2.0,2.0,2.0,2.0,4.0,2.0,2.0,2.0,2.0,4.0,2.0,4.0,2.0,2.0,2.0,1.0,3.0,4.0,2.0,1.0,2.0,2.0,0.0,3.0,2.0,2.0,3.0,3.0,4.0,2.0,3.0,2.0,1.0,1.0,0.0,2.0,3.0,0.0,1.0,1.0,0.0,4.0,4.0,1.0,2.0,2.0,3.0,1.0,2.0,2.0,0.0,1.0,2.0,4.0,2.0,1.0,2.0,4.0,0.0,2.0,2.0,1.0,4.0,2.0,4.0,3.0,0.0,0.0,1.0,3.0,2.0,2.0,2.0,3.0,2.0,3.0,2.0,2.0,1.0,2.0,4.0,2.0,2.0,1.0,4.0,3.0,4.0,3.0,2.0,3.0,0.0,2.0,2.0,4.0,3.0,4.0,4.0,2.0,4.0,0.0,1.0,2.0,3.0,4.0],\"coloraxis\":\"coloraxis\",\"size\":[1.0,1.0,1.0,1.0,1.0,1.0,1.0,1.0,1.0,1.0,1.0,1.0,1.0,1.0,1.0,1.0,1.0,1.0,1.0,1.0,1.0,1.0,1.0,1.0,1.0,1.0,1.0,1.0,1.0,1.0,1.0,1.0,1.0,1.0,1.0,1.0,1.0,1.0,1.0,1.0,1.0,1.0,1.0,1.0,1.0,1.0,1.0,1.0,1.0,1.0,1.0,1.0,1.0,1.0,1.0,1.0,1.0,1.0,1.0,1.0,1.0,1.0,1.0,1.0,1.0,1.0,1.0,1.0,1.0,1.0,1.0,1.0,1.0,1.0,1.0,1.0,1.0,1.0,1.0,1.0,1.0,1.0,1.0,1.0,1.0,1.0,1.0,1.0,1.0,1.0,1.0,1.0,1.0,1.0,1.0,1.0,1.0,1.0,1.0,1.0,3.0,3.0,3.0,3.0,3.0],\"sizemode\":\"area\",\"sizeref\":0.0075,\"symbol\":\"circle\"},\"mode\":\"markers\",\"name\":\"\",\"orientation\":\"v\",\"showlegend\":false,\"x\":[-0.082977995297426,-0.4998856251826551,-0.35324410918288696,-0.3137397886223291,-0.10323252576933006,-0.0808054855967052,-0.29554775026848257,-0.47261240680207384,-0.08269519763287303,-0.35961306140476623,0.30074456867553667,-0.18657582184075716,0.3763891522960383,-0.4149557886302221,-0.3301695804354311,-0.4016531661669499,0.45788953015050193,0.19187711395047335,0.18650092768158366,-0.4817117226558082,0.4888610889064947,-0.21955600793559482,-0.396773993422358,0.40859550309309556,-0.21222466141365126,-0.4806330421297029,-0.28837188399994096,-0.00842684071966171,0.07411760549201307,0.08930553690328424,-0.39766557117217416,0.1944001577277451,-0.45004654105391284,0.16379464521978881,0.44459475599081333,0.4034019152878835,-0.36072365274924145,-0.10232316301446642,0.4275085803960339,0.25081210313615554,0.38330609120580983,0.2509424340273372,-0.23007210823497393,-0.07190881012870509,0.16344149781844808,-0.3852540270466248,-0.050087866520059476,-0.09186319723871883,0.4033795205622538,-0.49712967296884103,-0.17335509822790385,0.3859420993107745,0.4085351509197992,-0.4841787571534437,0.19089691751692395,-0.32765949165467145,0.43259546303716356,-0.4339998272779375,0.2538761884612464,0.21152475862847175,-0.4801198661602044,-0.4716935119792054,0.360027948682888,0.05282197868576588,-0.37582668488008886,0.08575927145828788,0.06103021925570995,0.30063267268061633,0.30710519561877914,0.36354185455942867,0.056240233990418886,-0.44008231048778834,-0.4554481214552383,-0.2742906613921453,0.05971698205414244,-0.4280257203105132,0.06810046191994212,-0.24767425542967658,-0.3045705188906812,0.47001998908831233,-0.26015224085241384,0.11995571838137975,-0.34320860535391573,-0.42997785628077767,0.10632946165333035,-0.18263759067783925,0.07974521924579692,0.05094821911789682,0.1692328934531846,-0.43366516557155843,0.12971750702156448,0.25275555373881387,-0.23968490142145904,-0.30656571737667226,0.02467030912373369,-0.23670322951288902,0.23506596328866947,0.40781585250352403,-0.486048427024403,0.11677835700165762,0.32760096808686734,0.37790772772452336,-0.33812634921340606,0.09255627098174209,0.1259974971497314],\"xaxis\":\"x\",\"y\":[0.2203244934421581,-0.19766742736816023,-0.4076614052312022,-0.15443927295695226,0.038816734003356945,0.1852195003967595,0.3781174363909454,0.17046751017840223,0.05868982844575166,-0.3018985109151212,0.4682615757193975,0.19232261566931408,0.3946066635038473,-0.46094521676711764,0.37814250342941313,-0.07889237499494783,0.03316528497301707,-0.18448436899393705,0.3346256718973729,0.25014431494496747,0.2481656543798394,0.2892793284514885,-0.052106473824094834,-0.2063858516263205,-0.3699714278817223,0.17883553293989096,-0.2344533406277738,-0.4466374548829196,-0.35327142509418985,0.19975836002093117,-0.08594401218043168,-0.08582073047309735,0.035896405915511576,0.014889112058308562,0.08655504050199292,-0.3625252958537625,0.3073912887095238,-0.3346458028830672,-0.15223414025449344,0.22599798535045146,0.12367220705560888,-0.15110165802215747,0.39588621819606684,0.46484004714838556,0.12169572020912178,0.44948925870707124,0.07838961438713177,-0.2629730197569723,0.07367948667228585,0.11714491362072388,0.027058102257609296,-0.14273023999750023,0.12336011579180273,0.4294372337437613,0.4973228504514805,-0.36286425037112224,0.19681816148990017,0.2554630526024664,0.42302453554648334,-0.3757290380278353,-0.4737890131222807,-0.2537889323969541,0.03883106434165284,0.3420308923596057,-0.2208163209888605,0.46959574831967454,-0.481352710627057,-0.26702572615897957,-0.11213935593582824,0.24712164273718462,-0.363544774339315,-0.37865654425926265,-0.3925058708939071,0.21298898038267666,-0.48744401984088415,0.467276330000272,-0.2967067653390095,0.24382585407509294,0.08135892727325778,0.34682880149003525,-0.006230285731270047,0.32898089955017873,-0.4814237978225905,-0.01365488906296819,0.06885143708648134,0.4886161544124489,-0.1198588273764496,0.2453344309065021,-0.2350804423371906,-0.1299158020858937,-0.2898259900851604,-0.43346351864588506,0.3047545637433454,0.13946088087994013,0.4248079703993507,-0.4340389093159762,0.27217802954324677,0.4319720691968373,-0.2656379138785795,0.44901632068761643,-0.24481498050252914,0.1380965785002598,-0.024751908905440143,-0.22727838184694918,0.37884272277850634],\"yaxis\":\"y\",\"type\":\"scatter\"}],\"name\":\"5.0\"},{\"data\":[{\"customdata\":[[0.0],[1.0],[2.0],[3.0],[4.0],[5.0],[6.0],[7.0],[8.0],[9.0],[10.0],[11.0],[12.0],[13.0],[14.0],[15.0],[16.0],[17.0],[18.0],[19.0],[20.0],[21.0],[22.0],[23.0],[24.0],[25.0],[26.0],[27.0],[28.0],[29.0],[30.0],[31.0],[32.0],[33.0],[34.0],[35.0],[36.0],[37.0],[38.0],[39.0],[40.0],[41.0],[42.0],[43.0],[44.0],[45.0],[46.0],[47.0],[48.0],[49.0],[50.0],[51.0],[52.0],[53.0],[54.0],[55.0],[56.0],[57.0],[58.0],[59.0],[60.0],[61.0],[62.0],[63.0],[64.0],[65.0],[66.0],[67.0],[68.0],[69.0],[70.0],[71.0],[72.0],[73.0],[74.0],[75.0],[76.0],[77.0],[78.0],[79.0],[80.0],[81.0],[82.0],[83.0],[84.0],[85.0],[86.0],[87.0],[88.0],[89.0],[90.0],[91.0],[92.0],[93.0],[94.0],[95.0],[96.0],[97.0],[98.0],[99.0],[100.0],[101.0],[102.0],[103.0],[104.0]],\"hovertemplate\":\"<b>%{hovertext}</b><br><br>t=6.0<br>x=%{x}<br>y=%{y}<br>sizes=%{marker.size}<br>point_number=%{customdata[0]}<br>cluster=%{marker.color}<extra></extra>\",\"hovertext\":[4.0,2.0,2.0,2.0,2.0,4.0,2.0,2.0,2.0,2.0,4.0,2.0,4.0,2.0,2.0,2.0,1.0,3.0,4.0,2.0,1.0,2.0,2.0,0.0,3.0,2.0,2.0,3.0,3.0,4.0,2.0,3.0,2.0,1.0,1.0,0.0,2.0,3.0,0.0,1.0,1.0,0.0,4.0,4.0,1.0,2.0,2.0,3.0,1.0,2.0,2.0,0.0,1.0,2.0,4.0,2.0,1.0,2.0,4.0,0.0,2.0,2.0,1.0,4.0,2.0,4.0,3.0,0.0,0.0,1.0,3.0,2.0,2.0,2.0,3.0,2.0,3.0,2.0,2.0,1.0,2.0,4.0,2.0,2.0,1.0,4.0,3.0,4.0,3.0,2.0,3.0,0.0,2.0,2.0,4.0,3.0,4.0,4.0,2.0,4.0,0.0,1.0,2.0,3.0,4.0],\"ids\":[0.0,1.0,2.0,3.0,4.0,5.0,6.0,7.0,8.0,9.0,10.0,11.0,12.0,13.0,14.0,15.0,16.0,17.0,18.0,19.0,20.0,21.0,22.0,23.0,24.0,25.0,26.0,27.0,28.0,29.0,30.0,31.0,32.0,33.0,34.0,35.0,36.0,37.0,38.0,39.0,40.0,41.0,42.0,43.0,44.0,45.0,46.0,47.0,48.0,49.0,50.0,51.0,52.0,53.0,54.0,55.0,56.0,57.0,58.0,59.0,60.0,61.0,62.0,63.0,64.0,65.0,66.0,67.0,68.0,69.0,70.0,71.0,72.0,73.0,74.0,75.0,76.0,77.0,78.0,79.0,80.0,81.0,82.0,83.0,84.0,85.0,86.0,87.0,88.0,89.0,90.0,91.0,92.0,93.0,94.0,95.0,96.0,97.0,98.0,99.0,100.0,101.0,102.0,103.0,104.0],\"legendgroup\":\"\",\"marker\":{\"color\":[4.0,2.0,2.0,2.0,2.0,4.0,2.0,2.0,2.0,2.0,4.0,2.0,4.0,2.0,2.0,2.0,1.0,3.0,4.0,2.0,1.0,2.0,2.0,0.0,3.0,2.0,2.0,3.0,3.0,4.0,2.0,3.0,2.0,1.0,1.0,0.0,2.0,3.0,0.0,1.0,1.0,0.0,4.0,4.0,1.0,2.0,2.0,3.0,1.0,2.0,2.0,0.0,1.0,2.0,4.0,2.0,1.0,2.0,4.0,0.0,2.0,2.0,1.0,4.0,2.0,4.0,3.0,0.0,0.0,1.0,3.0,2.0,2.0,2.0,3.0,2.0,3.0,2.0,2.0,1.0,2.0,4.0,2.0,2.0,1.0,4.0,3.0,4.0,3.0,2.0,3.0,0.0,2.0,2.0,4.0,3.0,4.0,4.0,2.0,4.0,0.0,1.0,2.0,3.0,4.0],\"coloraxis\":\"coloraxis\",\"size\":[1.0,1.0,1.0,1.0,1.0,1.0,1.0,1.0,1.0,1.0,1.0,1.0,1.0,1.0,1.0,1.0,1.0,1.0,1.0,1.0,1.0,1.0,1.0,1.0,1.0,1.0,1.0,1.0,1.0,1.0,1.0,1.0,1.0,1.0,1.0,1.0,1.0,1.0,1.0,1.0,1.0,1.0,1.0,1.0,1.0,1.0,1.0,1.0,1.0,1.0,1.0,1.0,1.0,1.0,1.0,1.0,1.0,1.0,1.0,1.0,1.0,1.0,1.0,1.0,1.0,1.0,1.0,1.0,1.0,1.0,1.0,1.0,1.0,1.0,1.0,1.0,1.0,1.0,1.0,1.0,1.0,1.0,1.0,1.0,1.0,1.0,1.0,1.0,1.0,1.0,1.0,1.0,1.0,1.0,1.0,1.0,1.0,1.0,1.0,1.0,3.0,3.0,3.0,3.0,3.0],\"sizemode\":\"area\",\"sizeref\":0.0075,\"symbol\":\"circle\"},\"mode\":\"markers\",\"name\":\"\",\"orientation\":\"v\",\"showlegend\":false,\"x\":[-0.082977995297426,-0.4998856251826551,-0.35324410918288696,-0.3137397886223291,-0.10323252576933006,-0.0808054855967052,-0.29554775026848257,-0.47261240680207384,-0.08269519763287303,-0.35961306140476623,0.30074456867553667,-0.18657582184075716,0.3763891522960383,-0.4149557886302221,-0.3301695804354311,-0.4016531661669499,0.45788953015050193,0.19187711395047335,0.18650092768158366,-0.4817117226558082,0.4888610889064947,-0.21955600793559482,-0.396773993422358,0.40859550309309556,-0.21222466141365126,-0.4806330421297029,-0.28837188399994096,-0.00842684071966171,0.07411760549201307,0.08930553690328424,-0.39766557117217416,0.1944001577277451,-0.45004654105391284,0.16379464521978881,0.44459475599081333,0.4034019152878835,-0.36072365274924145,-0.10232316301446642,0.4275085803960339,0.25081210313615554,0.38330609120580983,0.2509424340273372,-0.23007210823497393,-0.07190881012870509,0.16344149781844808,-0.3852540270466248,-0.050087866520059476,-0.09186319723871883,0.4033795205622538,-0.49712967296884103,-0.17335509822790385,0.3859420993107745,0.4085351509197992,-0.4841787571534437,0.19089691751692395,-0.32765949165467145,0.43259546303716356,-0.4339998272779375,0.2538761884612464,0.21152475862847175,-0.4801198661602044,-0.4716935119792054,0.360027948682888,0.05282197868576588,-0.37582668488008886,0.08575927145828788,0.06103021925570995,0.30063267268061633,0.30710519561877914,0.36354185455942867,0.056240233990418886,-0.44008231048778834,-0.4554481214552383,-0.2742906613921453,0.05971698205414244,-0.4280257203105132,0.06810046191994212,-0.24767425542967658,-0.3045705188906812,0.47001998908831233,-0.26015224085241384,0.11995571838137975,-0.34320860535391573,-0.42997785628077767,0.10632946165333035,-0.18263759067783925,0.07974521924579692,0.05094821911789682,0.1692328934531846,-0.43366516557155843,0.12971750702156448,0.25275555373881387,-0.23968490142145904,-0.30656571737667226,0.02467030912373369,-0.23670322951288902,0.23506596328866947,0.40781585250352403,-0.486048427024403,0.11677835700165762,0.32760096808686734,0.3497949357807991,-0.3539094544831096,0.02884248681410691,0.09700668269262519],\"xaxis\":\"x\",\"y\":[0.2203244934421581,-0.19766742736816023,-0.4076614052312022,-0.15443927295695226,0.038816734003356945,0.1852195003967595,0.3781174363909454,0.17046751017840223,0.05868982844575166,-0.3018985109151212,0.4682615757193975,0.19232261566931408,0.3946066635038473,-0.46094521676711764,0.37814250342941313,-0.07889237499494783,0.03316528497301707,-0.18448436899393705,0.3346256718973729,0.25014431494496747,0.2481656543798394,0.2892793284514885,-0.052106473824094834,-0.2063858516263205,-0.3699714278817223,0.17883553293989096,-0.2344533406277738,-0.4466374548829196,-0.35327142509418985,0.19975836002093117,-0.08594401218043168,-0.08582073047309735,0.035896405915511576,0.014889112058308562,0.08655504050199292,-0.3625252958537625,0.3073912887095238,-0.3346458028830672,-0.15223414025449344,0.22599798535045146,0.12367220705560888,-0.15110165802215747,0.39588621819606684,0.46484004714838556,0.12169572020912178,0.44948925870707124,0.07838961438713177,-0.2629730197569723,0.07367948667228585,0.11714491362072388,0.027058102257609296,-0.14273023999750023,0.12336011579180273,0.4294372337437613,0.4973228504514805,-0.36286425037112224,0.19681816148990017,0.2554630526024664,0.42302453554648334,-0.3757290380278353,-0.4737890131222807,-0.2537889323969541,0.03883106434165284,0.3420308923596057,-0.2208163209888605,0.46959574831967454,-0.481352710627057,-0.26702572615897957,-0.11213935593582824,0.24712164273718462,-0.363544774339315,-0.37865654425926265,-0.3925058708939071,0.21298898038267666,-0.48744401984088415,0.467276330000272,-0.2967067653390095,0.24382585407509294,0.08135892727325778,0.34682880149003525,-0.006230285731270047,0.32898089955017873,-0.4814237978225905,-0.01365488906296819,0.06885143708648134,0.4886161544124489,-0.1198588273764496,0.2453344309065021,-0.2350804423371906,-0.1299158020858937,-0.2898259900851604,-0.43346351864588506,0.3047545637433454,0.13946088087994013,0.4248079703993507,-0.4340389093159762,0.27217802954324677,0.4319720691968373,-0.2656379138785795,0.44901632068761643,-0.24481498050252914,0.13925940815269164,0.0030571989598238095,-0.3163771112817965,0.3703369700893865],\"yaxis\":\"y\",\"type\":\"scatter\"}],\"name\":\"6.0\"},{\"data\":[{\"customdata\":[[0.0],[1.0],[2.0],[3.0],[4.0],[5.0],[6.0],[7.0],[8.0],[9.0],[10.0],[11.0],[12.0],[13.0],[14.0],[15.0],[16.0],[17.0],[18.0],[19.0],[20.0],[21.0],[22.0],[23.0],[24.0],[25.0],[26.0],[27.0],[28.0],[29.0],[30.0],[31.0],[32.0],[33.0],[34.0],[35.0],[36.0],[37.0],[38.0],[39.0],[40.0],[41.0],[42.0],[43.0],[44.0],[45.0],[46.0],[47.0],[48.0],[49.0],[50.0],[51.0],[52.0],[53.0],[54.0],[55.0],[56.0],[57.0],[58.0],[59.0],[60.0],[61.0],[62.0],[63.0],[64.0],[65.0],[66.0],[67.0],[68.0],[69.0],[70.0],[71.0],[72.0],[73.0],[74.0],[75.0],[76.0],[77.0],[78.0],[79.0],[80.0],[81.0],[82.0],[83.0],[84.0],[85.0],[86.0],[87.0],[88.0],[89.0],[90.0],[91.0],[92.0],[93.0],[94.0],[95.0],[96.0],[97.0],[98.0],[99.0],[100.0],[101.0],[102.0],[103.0],[104.0]],\"hovertemplate\":\"<b>%{hovertext}</b><br><br>t=7.0<br>x=%{x}<br>y=%{y}<br>sizes=%{marker.size}<br>point_number=%{customdata[0]}<br>cluster=%{marker.color}<extra></extra>\",\"hovertext\":[4.0,2.0,3.0,2.0,2.0,4.0,2.0,2.0,2.0,2.0,4.0,2.0,1.0,3.0,2.0,2.0,1.0,0.0,4.0,2.0,1.0,2.0,2.0,0.0,3.0,2.0,2.0,3.0,3.0,4.0,2.0,0.0,2.0,1.0,1.0,0.0,2.0,3.0,0.0,1.0,1.0,0.0,4.0,4.0,1.0,2.0,2.0,3.0,1.0,2.0,2.0,0.0,1.0,2.0,4.0,3.0,1.0,2.0,4.0,0.0,2.0,2.0,1.0,4.0,2.0,4.0,3.0,0.0,0.0,1.0,3.0,2.0,2.0,2.0,3.0,2.0,3.0,2.0,2.0,1.0,2.0,4.0,3.0,2.0,1.0,4.0,3.0,4.0,0.0,2.0,3.0,0.0,2.0,2.0,4.0,3.0,4.0,1.0,2.0,4.0,0.0,1.0,2.0,3.0,4.0],\"ids\":[0.0,1.0,2.0,3.0,4.0,5.0,6.0,7.0,8.0,9.0,10.0,11.0,12.0,13.0,14.0,15.0,16.0,17.0,18.0,19.0,20.0,21.0,22.0,23.0,24.0,25.0,26.0,27.0,28.0,29.0,30.0,31.0,32.0,33.0,34.0,35.0,36.0,37.0,38.0,39.0,40.0,41.0,42.0,43.0,44.0,45.0,46.0,47.0,48.0,49.0,50.0,51.0,52.0,53.0,54.0,55.0,56.0,57.0,58.0,59.0,60.0,61.0,62.0,63.0,64.0,65.0,66.0,67.0,68.0,69.0,70.0,71.0,72.0,73.0,74.0,75.0,76.0,77.0,78.0,79.0,80.0,81.0,82.0,83.0,84.0,85.0,86.0,87.0,88.0,89.0,90.0,91.0,92.0,93.0,94.0,95.0,96.0,97.0,98.0,99.0,100.0,101.0,102.0,103.0,104.0],\"legendgroup\":\"\",\"marker\":{\"color\":[4.0,2.0,3.0,2.0,2.0,4.0,2.0,2.0,2.0,2.0,4.0,2.0,1.0,3.0,2.0,2.0,1.0,0.0,4.0,2.0,1.0,2.0,2.0,0.0,3.0,2.0,2.0,3.0,3.0,4.0,2.0,0.0,2.0,1.0,1.0,0.0,2.0,3.0,0.0,1.0,1.0,0.0,4.0,4.0,1.0,2.0,2.0,3.0,1.0,2.0,2.0,0.0,1.0,2.0,4.0,3.0,1.0,2.0,4.0,0.0,2.0,2.0,1.0,4.0,2.0,4.0,3.0,0.0,0.0,1.0,3.0,2.0,2.0,2.0,3.0,2.0,3.0,2.0,2.0,1.0,2.0,4.0,3.0,2.0,1.0,4.0,3.0,4.0,0.0,2.0,3.0,0.0,2.0,2.0,4.0,3.0,4.0,1.0,2.0,4.0,0.0,1.0,2.0,3.0,4.0],\"coloraxis\":\"coloraxis\",\"size\":[1.0,1.0,1.0,1.0,1.0,1.0,1.0,1.0,1.0,1.0,1.0,1.0,1.0,1.0,1.0,1.0,1.0,1.0,1.0,1.0,1.0,1.0,1.0,1.0,1.0,1.0,1.0,1.0,1.0,1.0,1.0,1.0,1.0,1.0,1.0,1.0,1.0,1.0,1.0,1.0,1.0,1.0,1.0,1.0,1.0,1.0,1.0,1.0,1.0,1.0,1.0,1.0,1.0,1.0,1.0,1.0,1.0,1.0,1.0,1.0,1.0,1.0,1.0,1.0,1.0,1.0,1.0,1.0,1.0,1.0,1.0,1.0,1.0,1.0,1.0,1.0,1.0,1.0,1.0,1.0,1.0,1.0,1.0,1.0,1.0,1.0,1.0,1.0,1.0,1.0,1.0,1.0,1.0,1.0,1.0,1.0,1.0,1.0,1.0,1.0,3.0,3.0,3.0,3.0,3.0],\"sizemode\":\"area\",\"sizeref\":0.0075,\"symbol\":\"circle\"},\"mode\":\"markers\",\"name\":\"\",\"orientation\":\"v\",\"showlegend\":false,\"x\":[-0.082977995297426,-0.4998856251826551,-0.35324410918288696,-0.3137397886223291,-0.10323252576933006,-0.0808054855967052,-0.29554775026848257,-0.47261240680207384,-0.08269519763287303,-0.35961306140476623,0.30074456867553667,-0.18657582184075716,0.3763891522960383,-0.4149557886302221,-0.3301695804354311,-0.4016531661669499,0.45788953015050193,0.19187711395047335,0.18650092768158366,-0.4817117226558082,0.4888610889064947,-0.21955600793559482,-0.396773993422358,0.40859550309309556,-0.21222466141365126,-0.4806330421297029,-0.28837188399994096,-0.00842684071966171,0.07411760549201307,0.08930553690328424,-0.39766557117217416,0.1944001577277451,-0.45004654105391284,0.16379464521978881,0.44459475599081333,0.4034019152878835,-0.36072365274924145,-0.10232316301446642,0.4275085803960339,0.25081210313615554,0.38330609120580983,0.2509424340273372,-0.23007210823497393,-0.07190881012870509,0.16344149781844808,-0.3852540270466248,-0.050087866520059476,-0.09186319723871883,0.4033795205622538,-0.49712967296884103,-0.17335509822790385,0.3859420993107745,0.4085351509197992,-0.4841787571534437,0.19089691751692395,-0.32765949165467145,0.43259546303716356,-0.4339998272779375,0.2538761884612464,0.21152475862847175,-0.4801198661602044,-0.4716935119792054,0.360027948682888,0.05282197868576588,-0.37582668488008886,0.08575927145828788,0.06103021925570995,0.30063267268061633,0.30710519561877914,0.36354185455942867,0.056240233990418886,-0.44008231048778834,-0.4554481214552383,-0.2742906613921453,0.05971698205414244,-0.4280257203105132,0.06810046191994212,-0.24767425542967658,-0.3045705188906812,0.47001998908831233,-0.26015224085241384,0.11995571838137975,-0.34320860535391573,-0.42997785628077767,0.10632946165333035,-0.18263759067783925,0.07974521924579692,0.05094821911789682,0.1692328934531846,-0.43366516557155843,0.12971750702156448,0.25275555373881387,-0.23968490142145904,-0.30656571737667226,0.02467030912373369,-0.23670322951288902,0.23506596328866947,0.40781585250352403,-0.486048427024403,0.11677835700165762,0.32760096808686734,0.3497949357807991,-0.3539094544831096,0.02884248681410691,0.09700668269262519],\"xaxis\":\"x\",\"y\":[0.2203244934421581,-0.19766742736816023,-0.4076614052312022,-0.15443927295695226,0.038816734003356945,0.1852195003967595,0.3781174363909454,0.17046751017840223,0.05868982844575166,-0.3018985109151212,0.4682615757193975,0.19232261566931408,0.3946066635038473,-0.46094521676711764,0.37814250342941313,-0.07889237499494783,0.03316528497301707,-0.18448436899393705,0.3346256718973729,0.25014431494496747,0.2481656543798394,0.2892793284514885,-0.052106473824094834,-0.2063858516263205,-0.3699714278817223,0.17883553293989096,-0.2344533406277738,-0.4466374548829196,-0.35327142509418985,0.19975836002093117,-0.08594401218043168,-0.08582073047309735,0.035896405915511576,0.014889112058308562,0.08655504050199292,-0.3625252958537625,0.3073912887095238,-0.3346458028830672,-0.15223414025449344,0.22599798535045146,0.12367220705560888,-0.15110165802215747,0.39588621819606684,0.46484004714838556,0.12169572020912178,0.44948925870707124,0.07838961438713177,-0.2629730197569723,0.07367948667228585,0.11714491362072388,0.027058102257609296,-0.14273023999750023,0.12336011579180273,0.4294372337437613,0.4973228504514805,-0.36286425037112224,0.19681816148990017,0.2554630526024664,0.42302453554648334,-0.3757290380278353,-0.4737890131222807,-0.2537889323969541,0.03883106434165284,0.3420308923596057,-0.2208163209888605,0.46959574831967454,-0.481352710627057,-0.26702572615897957,-0.11213935593582824,0.24712164273718462,-0.363544774339315,-0.37865654425926265,-0.3925058708939071,0.21298898038267666,-0.48744401984088415,0.467276330000272,-0.2967067653390095,0.24382585407509294,0.08135892727325778,0.34682880149003525,-0.006230285731270047,0.32898089955017873,-0.4814237978225905,-0.01365488906296819,0.06885143708648134,0.4886161544124489,-0.1198588273764496,0.2453344309065021,-0.2350804423371906,-0.1299158020858937,-0.2898259900851604,-0.43346351864588506,0.3047545637433454,0.13946088087994013,0.4248079703993507,-0.4340389093159762,0.27217802954324677,0.4319720691968373,-0.2656379138785795,0.44901632068761643,-0.24481498050252914,0.13925940815269164,0.0030571989598238095,-0.3163771112817965,0.3703369700893865],\"yaxis\":\"y\",\"type\":\"scatter\"}],\"name\":\"7.0\"},{\"data\":[{\"customdata\":[[0.0],[1.0],[2.0],[3.0],[4.0],[5.0],[6.0],[7.0],[8.0],[9.0],[10.0],[11.0],[12.0],[13.0],[14.0],[15.0],[16.0],[17.0],[18.0],[19.0],[20.0],[21.0],[22.0],[23.0],[24.0],[25.0],[26.0],[27.0],[28.0],[29.0],[30.0],[31.0],[32.0],[33.0],[34.0],[35.0],[36.0],[37.0],[38.0],[39.0],[40.0],[41.0],[42.0],[43.0],[44.0],[45.0],[46.0],[47.0],[48.0],[49.0],[50.0],[51.0],[52.0],[53.0],[54.0],[55.0],[56.0],[57.0],[58.0],[59.0],[60.0],[61.0],[62.0],[63.0],[64.0],[65.0],[66.0],[67.0],[68.0],[69.0],[70.0],[71.0],[72.0],[73.0],[74.0],[75.0],[76.0],[77.0],[78.0],[79.0],[80.0],[81.0],[82.0],[83.0],[84.0],[85.0],[86.0],[87.0],[88.0],[89.0],[90.0],[91.0],[92.0],[93.0],[94.0],[95.0],[96.0],[97.0],[98.0],[99.0],[100.0],[101.0],[102.0],[103.0],[104.0]],\"hovertemplate\":\"<b>%{hovertext}</b><br><br>t=8.0<br>x=%{x}<br>y=%{y}<br>sizes=%{marker.size}<br>point_number=%{customdata[0]}<br>cluster=%{marker.color}<extra></extra>\",\"hovertext\":[4.0,2.0,3.0,2.0,2.0,4.0,2.0,2.0,2.0,2.0,4.0,2.0,1.0,3.0,2.0,2.0,1.0,0.0,4.0,2.0,1.0,2.0,2.0,0.0,3.0,2.0,2.0,3.0,3.0,4.0,2.0,0.0,2.0,1.0,1.0,0.0,2.0,3.0,0.0,1.0,1.0,0.0,4.0,4.0,1.0,2.0,2.0,3.0,1.0,2.0,2.0,0.0,1.0,2.0,4.0,3.0,1.0,2.0,4.0,0.0,2.0,2.0,1.0,4.0,2.0,4.0,3.0,0.0,0.0,1.0,3.0,2.0,2.0,2.0,3.0,2.0,3.0,2.0,2.0,1.0,2.0,4.0,3.0,2.0,1.0,4.0,3.0,4.0,0.0,2.0,3.0,0.0,2.0,2.0,4.0,3.0,4.0,1.0,2.0,4.0,0.0,1.0,2.0,3.0,4.0],\"ids\":[0.0,1.0,2.0,3.0,4.0,5.0,6.0,7.0,8.0,9.0,10.0,11.0,12.0,13.0,14.0,15.0,16.0,17.0,18.0,19.0,20.0,21.0,22.0,23.0,24.0,25.0,26.0,27.0,28.0,29.0,30.0,31.0,32.0,33.0,34.0,35.0,36.0,37.0,38.0,39.0,40.0,41.0,42.0,43.0,44.0,45.0,46.0,47.0,48.0,49.0,50.0,51.0,52.0,53.0,54.0,55.0,56.0,57.0,58.0,59.0,60.0,61.0,62.0,63.0,64.0,65.0,66.0,67.0,68.0,69.0,70.0,71.0,72.0,73.0,74.0,75.0,76.0,77.0,78.0,79.0,80.0,81.0,82.0,83.0,84.0,85.0,86.0,87.0,88.0,89.0,90.0,91.0,92.0,93.0,94.0,95.0,96.0,97.0,98.0,99.0,100.0,101.0,102.0,103.0,104.0],\"legendgroup\":\"\",\"marker\":{\"color\":[4.0,2.0,3.0,2.0,2.0,4.0,2.0,2.0,2.0,2.0,4.0,2.0,1.0,3.0,2.0,2.0,1.0,0.0,4.0,2.0,1.0,2.0,2.0,0.0,3.0,2.0,2.0,3.0,3.0,4.0,2.0,0.0,2.0,1.0,1.0,0.0,2.0,3.0,0.0,1.0,1.0,0.0,4.0,4.0,1.0,2.0,2.0,3.0,1.0,2.0,2.0,0.0,1.0,2.0,4.0,3.0,1.0,2.0,4.0,0.0,2.0,2.0,1.0,4.0,2.0,4.0,3.0,0.0,0.0,1.0,3.0,2.0,2.0,2.0,3.0,2.0,3.0,2.0,2.0,1.0,2.0,4.0,3.0,2.0,1.0,4.0,3.0,4.0,0.0,2.0,3.0,0.0,2.0,2.0,4.0,3.0,4.0,1.0,2.0,4.0,0.0,1.0,2.0,3.0,4.0],\"coloraxis\":\"coloraxis\",\"size\":[1.0,1.0,1.0,1.0,1.0,1.0,1.0,1.0,1.0,1.0,1.0,1.0,1.0,1.0,1.0,1.0,1.0,1.0,1.0,1.0,1.0,1.0,1.0,1.0,1.0,1.0,1.0,1.0,1.0,1.0,1.0,1.0,1.0,1.0,1.0,1.0,1.0,1.0,1.0,1.0,1.0,1.0,1.0,1.0,1.0,1.0,1.0,1.0,1.0,1.0,1.0,1.0,1.0,1.0,1.0,1.0,1.0,1.0,1.0,1.0,1.0,1.0,1.0,1.0,1.0,1.0,1.0,1.0,1.0,1.0,1.0,1.0,1.0,1.0,1.0,1.0,1.0,1.0,1.0,1.0,1.0,1.0,1.0,1.0,1.0,1.0,1.0,1.0,1.0,1.0,1.0,1.0,1.0,1.0,1.0,1.0,1.0,1.0,1.0,1.0,3.0,3.0,3.0,3.0,3.0],\"sizemode\":\"area\",\"sizeref\":0.0075,\"symbol\":\"circle\"},\"mode\":\"markers\",\"name\":\"\",\"orientation\":\"v\",\"showlegend\":false,\"x\":[-0.082977995297426,-0.4998856251826551,-0.35324410918288696,-0.3137397886223291,-0.10323252576933006,-0.0808054855967052,-0.29554775026848257,-0.47261240680207384,-0.08269519763287303,-0.35961306140476623,0.30074456867553667,-0.18657582184075716,0.3763891522960383,-0.4149557886302221,-0.3301695804354311,-0.4016531661669499,0.45788953015050193,0.19187711395047335,0.18650092768158366,-0.4817117226558082,0.4888610889064947,-0.21955600793559482,-0.396773993422358,0.40859550309309556,-0.21222466141365126,-0.4806330421297029,-0.28837188399994096,-0.00842684071966171,0.07411760549201307,0.08930553690328424,-0.39766557117217416,0.1944001577277451,-0.45004654105391284,0.16379464521978881,0.44459475599081333,0.4034019152878835,-0.36072365274924145,-0.10232316301446642,0.4275085803960339,0.25081210313615554,0.38330609120580983,0.2509424340273372,-0.23007210823497393,-0.07190881012870509,0.16344149781844808,-0.3852540270466248,-0.050087866520059476,-0.09186319723871883,0.4033795205622538,-0.49712967296884103,-0.17335509822790385,0.3859420993107745,0.4085351509197992,-0.4841787571534437,0.19089691751692395,-0.32765949165467145,0.43259546303716356,-0.4339998272779375,0.2538761884612464,0.21152475862847175,-0.4801198661602044,-0.4716935119792054,0.360027948682888,0.05282197868576588,-0.37582668488008886,0.08575927145828788,0.06103021925570995,0.30063267268061633,0.30710519561877914,0.36354185455942867,0.056240233990418886,-0.44008231048778834,-0.4554481214552383,-0.2742906613921453,0.05971698205414244,-0.4280257203105132,0.06810046191994212,-0.24767425542967658,-0.3045705188906812,0.47001998908831233,-0.26015224085241384,0.11995571838137975,-0.34320860535391573,-0.42997785628077767,0.10632946165333035,-0.18263759067783925,0.07974521924579692,0.05094821911789682,0.1692328934531846,-0.43366516557155843,0.12971750702156448,0.25275555373881387,-0.23968490142145904,-0.30656571737667226,0.02467030912373369,-0.23670322951288902,0.23506596328866947,0.40781585250352403,-0.486048427024403,0.11677835700165762,0.29199323982610076,0.35508338160817193,-0.35330868071671834,-0.09762130360884347,0.06228952743295979],\"xaxis\":\"x\",\"y\":[0.2203244934421581,-0.19766742736816023,-0.4076614052312022,-0.15443927295695226,0.038816734003356945,0.1852195003967595,0.3781174363909454,0.17046751017840223,0.05868982844575166,-0.3018985109151212,0.4682615757193975,0.19232261566931408,0.3946066635038473,-0.46094521676711764,0.37814250342941313,-0.07889237499494783,0.03316528497301707,-0.18448436899393705,0.3346256718973729,0.25014431494496747,0.2481656543798394,0.2892793284514885,-0.052106473824094834,-0.2063858516263205,-0.3699714278817223,0.17883553293989096,-0.2344533406277738,-0.4466374548829196,-0.35327142509418985,0.19975836002093117,-0.08594401218043168,-0.08582073047309735,0.035896405915511576,0.014889112058308562,0.08655504050199292,-0.3625252958537625,0.3073912887095238,-0.3346458028830672,-0.15223414025449344,0.22599798535045146,0.12367220705560888,-0.15110165802215747,0.39588621819606684,0.46484004714838556,0.12169572020912178,0.44948925870707124,0.07838961438713177,-0.2629730197569723,0.07367948667228585,0.11714491362072388,0.027058102257609296,-0.14273023999750023,0.12336011579180273,0.4294372337437613,0.4973228504514805,-0.36286425037112224,0.19681816148990017,0.2554630526024664,0.42302453554648334,-0.3757290380278353,-0.4737890131222807,-0.2537889323969541,0.03883106434165284,0.3420308923596057,-0.2208163209888605,0.46959574831967454,-0.481352710627057,-0.26702572615897957,-0.11213935593582824,0.24712164273718462,-0.363544774339315,-0.37865654425926265,-0.3925058708939071,0.21298898038267666,-0.48744401984088415,0.467276330000272,-0.2967067653390095,0.24382585407509294,0.08135892727325778,0.34682880149003525,-0.006230285731270047,0.32898089955017873,-0.4814237978225905,-0.01365488906296819,0.06885143708648134,0.4886161544124489,-0.1198588273764496,0.2453344309065021,-0.2350804423371906,-0.1299158020858937,-0.2898259900851604,-0.43346351864588506,0.3047545637433454,0.13946088087994013,0.4248079703993507,-0.4340389093159762,0.27217802954324677,0.4319720691968373,-0.2656379138785795,0.44901632068761643,-0.22572669719391558,0.17351315292739797,0.047291133986268115,-0.37207286235092224,0.36528374699986227],\"yaxis\":\"y\",\"type\":\"scatter\"}],\"name\":\"8.0\"},{\"data\":[{\"customdata\":[[0.0],[1.0],[2.0],[3.0],[4.0],[5.0],[6.0],[7.0],[8.0],[9.0],[10.0],[11.0],[12.0],[13.0],[14.0],[15.0],[16.0],[17.0],[18.0],[19.0],[20.0],[21.0],[22.0],[23.0],[24.0],[25.0],[26.0],[27.0],[28.0],[29.0],[30.0],[31.0],[32.0],[33.0],[34.0],[35.0],[36.0],[37.0],[38.0],[39.0],[40.0],[41.0],[42.0],[43.0],[44.0],[45.0],[46.0],[47.0],[48.0],[49.0],[50.0],[51.0],[52.0],[53.0],[54.0],[55.0],[56.0],[57.0],[58.0],[59.0],[60.0],[61.0],[62.0],[63.0],[64.0],[65.0],[66.0],[67.0],[68.0],[69.0],[70.0],[71.0],[72.0],[73.0],[74.0],[75.0],[76.0],[77.0],[78.0],[79.0],[80.0],[81.0],[82.0],[83.0],[84.0],[85.0],[86.0],[87.0],[88.0],[89.0],[90.0],[91.0],[92.0],[93.0],[94.0],[95.0],[96.0],[97.0],[98.0],[99.0],[100.0],[101.0],[102.0],[103.0],[104.0]],\"hovertemplate\":\"<b>%{hovertext}</b><br><br>t=9.0<br>x=%{x}<br>y=%{y}<br>sizes=%{marker.size}<br>point_number=%{customdata[0]}<br>cluster=%{marker.color}<extra></extra>\",\"hovertext\":[4.0,2.0,3.0,2.0,2.0,4.0,2.0,2.0,2.0,3.0,4.0,2.0,1.0,3.0,2.0,2.0,1.0,0.0,4.0,2.0,1.0,2.0,2.0,0.0,3.0,2.0,3.0,3.0,3.0,4.0,2.0,0.0,2.0,1.0,1.0,0.0,2.0,3.0,0.0,1.0,1.0,0.0,4.0,4.0,1.0,2.0,2.0,3.0,1.0,2.0,2.0,0.0,1.0,2.0,4.0,3.0,1.0,2.0,4.0,0.0,3.0,2.0,1.0,4.0,2.0,4.0,3.0,0.0,0.0,1.0,3.0,3.0,3.0,2.0,3.0,2.0,3.0,2.0,2.0,1.0,2.0,4.0,3.0,2.0,1.0,4.0,0.0,4.0,0.0,2.0,0.0,0.0,2.0,2.0,4.0,3.0,1.0,1.0,2.0,4.0,0.0,1.0,2.0,3.0,4.0],\"ids\":[0.0,1.0,2.0,3.0,4.0,5.0,6.0,7.0,8.0,9.0,10.0,11.0,12.0,13.0,14.0,15.0,16.0,17.0,18.0,19.0,20.0,21.0,22.0,23.0,24.0,25.0,26.0,27.0,28.0,29.0,30.0,31.0,32.0,33.0,34.0,35.0,36.0,37.0,38.0,39.0,40.0,41.0,42.0,43.0,44.0,45.0,46.0,47.0,48.0,49.0,50.0,51.0,52.0,53.0,54.0,55.0,56.0,57.0,58.0,59.0,60.0,61.0,62.0,63.0,64.0,65.0,66.0,67.0,68.0,69.0,70.0,71.0,72.0,73.0,74.0,75.0,76.0,77.0,78.0,79.0,80.0,81.0,82.0,83.0,84.0,85.0,86.0,87.0,88.0,89.0,90.0,91.0,92.0,93.0,94.0,95.0,96.0,97.0,98.0,99.0,100.0,101.0,102.0,103.0,104.0],\"legendgroup\":\"\",\"marker\":{\"color\":[4.0,2.0,3.0,2.0,2.0,4.0,2.0,2.0,2.0,3.0,4.0,2.0,1.0,3.0,2.0,2.0,1.0,0.0,4.0,2.0,1.0,2.0,2.0,0.0,3.0,2.0,3.0,3.0,3.0,4.0,2.0,0.0,2.0,1.0,1.0,0.0,2.0,3.0,0.0,1.0,1.0,0.0,4.0,4.0,1.0,2.0,2.0,3.0,1.0,2.0,2.0,0.0,1.0,2.0,4.0,3.0,1.0,2.0,4.0,0.0,3.0,2.0,1.0,4.0,2.0,4.0,3.0,0.0,0.0,1.0,3.0,3.0,3.0,2.0,3.0,2.0,3.0,2.0,2.0,1.0,2.0,4.0,3.0,2.0,1.0,4.0,0.0,4.0,0.0,2.0,0.0,0.0,2.0,2.0,4.0,3.0,1.0,1.0,2.0,4.0,0.0,1.0,2.0,3.0,4.0],\"coloraxis\":\"coloraxis\",\"size\":[1.0,1.0,1.0,1.0,1.0,1.0,1.0,1.0,1.0,1.0,1.0,1.0,1.0,1.0,1.0,1.0,1.0,1.0,1.0,1.0,1.0,1.0,1.0,1.0,1.0,1.0,1.0,1.0,1.0,1.0,1.0,1.0,1.0,1.0,1.0,1.0,1.0,1.0,1.0,1.0,1.0,1.0,1.0,1.0,1.0,1.0,1.0,1.0,1.0,1.0,1.0,1.0,1.0,1.0,1.0,1.0,1.0,1.0,1.0,1.0,1.0,1.0,1.0,1.0,1.0,1.0,1.0,1.0,1.0,1.0,1.0,1.0,1.0,1.0,1.0,1.0,1.0,1.0,1.0,1.0,1.0,1.0,1.0,1.0,1.0,1.0,1.0,1.0,1.0,1.0,1.0,1.0,1.0,1.0,1.0,1.0,1.0,1.0,1.0,1.0,3.0,3.0,3.0,3.0,3.0],\"sizemode\":\"area\",\"sizeref\":0.0075,\"symbol\":\"circle\"},\"mode\":\"markers\",\"name\":\"\",\"orientation\":\"v\",\"showlegend\":false,\"x\":[-0.082977995297426,-0.4998856251826551,-0.35324410918288696,-0.3137397886223291,-0.10323252576933006,-0.0808054855967052,-0.29554775026848257,-0.47261240680207384,-0.08269519763287303,-0.35961306140476623,0.30074456867553667,-0.18657582184075716,0.3763891522960383,-0.4149557886302221,-0.3301695804354311,-0.4016531661669499,0.45788953015050193,0.19187711395047335,0.18650092768158366,-0.4817117226558082,0.4888610889064947,-0.21955600793559482,-0.396773993422358,0.40859550309309556,-0.21222466141365126,-0.4806330421297029,-0.28837188399994096,-0.00842684071966171,0.07411760549201307,0.08930553690328424,-0.39766557117217416,0.1944001577277451,-0.45004654105391284,0.16379464521978881,0.44459475599081333,0.4034019152878835,-0.36072365274924145,-0.10232316301446642,0.4275085803960339,0.25081210313615554,0.38330609120580983,0.2509424340273372,-0.23007210823497393,-0.07190881012870509,0.16344149781844808,-0.3852540270466248,-0.050087866520059476,-0.09186319723871883,0.4033795205622538,-0.49712967296884103,-0.17335509822790385,0.3859420993107745,0.4085351509197992,-0.4841787571534437,0.19089691751692395,-0.32765949165467145,0.43259546303716356,-0.4339998272779375,0.2538761884612464,0.21152475862847175,-0.4801198661602044,-0.4716935119792054,0.360027948682888,0.05282197868576588,-0.37582668488008886,0.08575927145828788,0.06103021925570995,0.30063267268061633,0.30710519561877914,0.36354185455942867,0.056240233990418886,-0.44008231048778834,-0.4554481214552383,-0.2742906613921453,0.05971698205414244,-0.4280257203105132,0.06810046191994212,-0.24767425542967658,-0.3045705188906812,0.47001998908831233,-0.26015224085241384,0.11995571838137975,-0.34320860535391573,-0.42997785628077767,0.10632946165333035,-0.18263759067783925,0.07974521924579692,0.05094821911789682,0.1692328934531846,-0.43366516557155843,0.12971750702156448,0.25275555373881387,-0.23968490142145904,-0.30656571737667226,0.02467030912373369,-0.23670322951288902,0.23506596328866947,0.40781585250352403,-0.486048427024403,0.11677835700165762,0.29199323982610076,0.35508338160817193,-0.35330868071671834,-0.09762130360884347,0.06228952743295979],\"xaxis\":\"x\",\"y\":[0.2203244934421581,-0.19766742736816023,-0.4076614052312022,-0.15443927295695226,0.038816734003356945,0.1852195003967595,0.3781174363909454,0.17046751017840223,0.05868982844575166,-0.3018985109151212,0.4682615757193975,0.19232261566931408,0.3946066635038473,-0.46094521676711764,0.37814250342941313,-0.07889237499494783,0.03316528497301707,-0.18448436899393705,0.3346256718973729,0.25014431494496747,0.2481656543798394,0.2892793284514885,-0.052106473824094834,-0.2063858516263205,-0.3699714278817223,0.17883553293989096,-0.2344533406277738,-0.4466374548829196,-0.35327142509418985,0.19975836002093117,-0.08594401218043168,-0.08582073047309735,0.035896405915511576,0.014889112058308562,0.08655504050199292,-0.3625252958537625,0.3073912887095238,-0.3346458028830672,-0.15223414025449344,0.22599798535045146,0.12367220705560888,-0.15110165802215747,0.39588621819606684,0.46484004714838556,0.12169572020912178,0.44948925870707124,0.07838961438713177,-0.2629730197569723,0.07367948667228585,0.11714491362072388,0.027058102257609296,-0.14273023999750023,0.12336011579180273,0.4294372337437613,0.4973228504514805,-0.36286425037112224,0.19681816148990017,0.2554630526024664,0.42302453554648334,-0.3757290380278353,-0.4737890131222807,-0.2537889323969541,0.03883106434165284,0.3420308923596057,-0.2208163209888605,0.46959574831967454,-0.481352710627057,-0.26702572615897957,-0.11213935593582824,0.24712164273718462,-0.363544774339315,-0.37865654425926265,-0.3925058708939071,0.21298898038267666,-0.48744401984088415,0.467276330000272,-0.2967067653390095,0.24382585407509294,0.08135892727325778,0.34682880149003525,-0.006230285731270047,0.32898089955017873,-0.4814237978225905,-0.01365488906296819,0.06885143708648134,0.4886161544124489,-0.1198588273764496,0.2453344309065021,-0.2350804423371906,-0.1299158020858937,-0.2898259900851604,-0.43346351864588506,0.3047545637433454,0.13946088087994013,0.4248079703993507,-0.4340389093159762,0.27217802954324677,0.4319720691968373,-0.2656379138785795,0.44901632068761643,-0.22572669719391558,0.17351315292739797,0.047291133986268115,-0.37207286235092224,0.36528374699986227],\"yaxis\":\"y\",\"type\":\"scatter\"}],\"name\":\"9.0\"},{\"data\":[{\"customdata\":[[0.0],[1.0],[2.0],[3.0],[4.0],[5.0],[6.0],[7.0],[8.0],[9.0],[10.0],[11.0],[12.0],[13.0],[14.0],[15.0],[16.0],[17.0],[18.0],[19.0],[20.0],[21.0],[22.0],[23.0],[24.0],[25.0],[26.0],[27.0],[28.0],[29.0],[30.0],[31.0],[32.0],[33.0],[34.0],[35.0],[36.0],[37.0],[38.0],[39.0],[40.0],[41.0],[42.0],[43.0],[44.0],[45.0],[46.0],[47.0],[48.0],[49.0],[50.0],[51.0],[52.0],[53.0],[54.0],[55.0],[56.0],[57.0],[58.0],[59.0],[60.0],[61.0],[62.0],[63.0],[64.0],[65.0],[66.0],[67.0],[68.0],[69.0],[70.0],[71.0],[72.0],[73.0],[74.0],[75.0],[76.0],[77.0],[78.0],[79.0],[80.0],[81.0],[82.0],[83.0],[84.0],[85.0],[86.0],[87.0],[88.0],[89.0],[90.0],[91.0],[92.0],[93.0],[94.0],[95.0],[96.0],[97.0],[98.0],[99.0],[100.0],[101.0],[102.0],[103.0],[104.0]],\"hovertemplate\":\"<b>%{hovertext}</b><br><br>t=10.0<br>x=%{x}<br>y=%{y}<br>sizes=%{marker.size}<br>point_number=%{customdata[0]}<br>cluster=%{marker.color}<extra></extra>\",\"hovertext\":[4.0,2.0,3.0,2.0,2.0,4.0,2.0,2.0,2.0,3.0,4.0,2.0,1.0,3.0,2.0,2.0,1.0,0.0,4.0,2.0,1.0,2.0,2.0,0.0,3.0,2.0,3.0,3.0,3.0,4.0,2.0,0.0,2.0,1.0,1.0,0.0,2.0,3.0,0.0,1.0,1.0,0.0,4.0,4.0,1.0,2.0,2.0,3.0,1.0,2.0,2.0,0.0,1.0,2.0,4.0,3.0,1.0,2.0,4.0,0.0,3.0,2.0,1.0,4.0,2.0,4.0,3.0,0.0,0.0,1.0,3.0,3.0,3.0,2.0,3.0,2.0,3.0,2.0,2.0,1.0,2.0,4.0,3.0,2.0,1.0,4.0,0.0,4.0,0.0,2.0,0.0,0.0,2.0,2.0,4.0,3.0,1.0,1.0,2.0,4.0,0.0,1.0,2.0,3.0,4.0],\"ids\":[0.0,1.0,2.0,3.0,4.0,5.0,6.0,7.0,8.0,9.0,10.0,11.0,12.0,13.0,14.0,15.0,16.0,17.0,18.0,19.0,20.0,21.0,22.0,23.0,24.0,25.0,26.0,27.0,28.0,29.0,30.0,31.0,32.0,33.0,34.0,35.0,36.0,37.0,38.0,39.0,40.0,41.0,42.0,43.0,44.0,45.0,46.0,47.0,48.0,49.0,50.0,51.0,52.0,53.0,54.0,55.0,56.0,57.0,58.0,59.0,60.0,61.0,62.0,63.0,64.0,65.0,66.0,67.0,68.0,69.0,70.0,71.0,72.0,73.0,74.0,75.0,76.0,77.0,78.0,79.0,80.0,81.0,82.0,83.0,84.0,85.0,86.0,87.0,88.0,89.0,90.0,91.0,92.0,93.0,94.0,95.0,96.0,97.0,98.0,99.0,100.0,101.0,102.0,103.0,104.0],\"legendgroup\":\"\",\"marker\":{\"color\":[4.0,2.0,3.0,2.0,2.0,4.0,2.0,2.0,2.0,3.0,4.0,2.0,1.0,3.0,2.0,2.0,1.0,0.0,4.0,2.0,1.0,2.0,2.0,0.0,3.0,2.0,3.0,3.0,3.0,4.0,2.0,0.0,2.0,1.0,1.0,0.0,2.0,3.0,0.0,1.0,1.0,0.0,4.0,4.0,1.0,2.0,2.0,3.0,1.0,2.0,2.0,0.0,1.0,2.0,4.0,3.0,1.0,2.0,4.0,0.0,3.0,2.0,1.0,4.0,2.0,4.0,3.0,0.0,0.0,1.0,3.0,3.0,3.0,2.0,3.0,2.0,3.0,2.0,2.0,1.0,2.0,4.0,3.0,2.0,1.0,4.0,0.0,4.0,0.0,2.0,0.0,0.0,2.0,2.0,4.0,3.0,1.0,1.0,2.0,4.0,0.0,1.0,2.0,3.0,4.0],\"coloraxis\":\"coloraxis\",\"size\":[1.0,1.0,1.0,1.0,1.0,1.0,1.0,1.0,1.0,1.0,1.0,1.0,1.0,1.0,1.0,1.0,1.0,1.0,1.0,1.0,1.0,1.0,1.0,1.0,1.0,1.0,1.0,1.0,1.0,1.0,1.0,1.0,1.0,1.0,1.0,1.0,1.0,1.0,1.0,1.0,1.0,1.0,1.0,1.0,1.0,1.0,1.0,1.0,1.0,1.0,1.0,1.0,1.0,1.0,1.0,1.0,1.0,1.0,1.0,1.0,1.0,1.0,1.0,1.0,1.0,1.0,1.0,1.0,1.0,1.0,1.0,1.0,1.0,1.0,1.0,1.0,1.0,1.0,1.0,1.0,1.0,1.0,1.0,1.0,1.0,1.0,1.0,1.0,1.0,1.0,1.0,1.0,1.0,1.0,1.0,1.0,1.0,1.0,1.0,1.0,3.0,3.0,3.0,3.0,3.0],\"sizemode\":\"area\",\"sizeref\":0.0075,\"symbol\":\"circle\"},\"mode\":\"markers\",\"name\":\"\",\"orientation\":\"v\",\"showlegend\":false,\"x\":[-0.082977995297426,-0.4998856251826551,-0.35324410918288696,-0.3137397886223291,-0.10323252576933006,-0.0808054855967052,-0.29554775026848257,-0.47261240680207384,-0.08269519763287303,-0.35961306140476623,0.30074456867553667,-0.18657582184075716,0.3763891522960383,-0.4149557886302221,-0.3301695804354311,-0.4016531661669499,0.45788953015050193,0.19187711395047335,0.18650092768158366,-0.4817117226558082,0.4888610889064947,-0.21955600793559482,-0.396773993422358,0.40859550309309556,-0.21222466141365126,-0.4806330421297029,-0.28837188399994096,-0.00842684071966171,0.07411760549201307,0.08930553690328424,-0.39766557117217416,0.1944001577277451,-0.45004654105391284,0.16379464521978881,0.44459475599081333,0.4034019152878835,-0.36072365274924145,-0.10232316301446642,0.4275085803960339,0.25081210313615554,0.38330609120580983,0.2509424340273372,-0.23007210823497393,-0.07190881012870509,0.16344149781844808,-0.3852540270466248,-0.050087866520059476,-0.09186319723871883,0.4033795205622538,-0.49712967296884103,-0.17335509822790385,0.3859420993107745,0.4085351509197992,-0.4841787571534437,0.19089691751692395,-0.32765949165467145,0.43259546303716356,-0.4339998272779375,0.2538761884612464,0.21152475862847175,-0.4801198661602044,-0.4716935119792054,0.360027948682888,0.05282197868576588,-0.37582668488008886,0.08575927145828788,0.06103021925570995,0.30063267268061633,0.30710519561877914,0.36354185455942867,0.056240233990418886,-0.44008231048778834,-0.4554481214552383,-0.2742906613921453,0.05971698205414244,-0.4280257203105132,0.06810046191994212,-0.24767425542967658,-0.3045705188906812,0.47001998908831233,-0.26015224085241384,0.11995571838137975,-0.34320860535391573,-0.42997785628077767,0.10632946165333035,-0.18263759067783925,0.07974521924579692,0.05094821911789682,0.1692328934531846,-0.43366516557155843,0.12971750702156448,0.25275555373881387,-0.23968490142145904,-0.30656571737667226,0.02467030912373369,-0.23670322951288902,0.23506596328866947,0.40781585250352403,-0.486048427024403,0.11677835700165762,0.26524154315575504,0.3480235334717306,-0.3457471560130612,-0.19973888565877868,0.05149100019197794],\"xaxis\":\"x\",\"y\":[0.2203244934421581,-0.19766742736816023,-0.4076614052312022,-0.15443927295695226,0.038816734003356945,0.1852195003967595,0.3781174363909454,0.17046751017840223,0.05868982844575166,-0.3018985109151212,0.4682615757193975,0.19232261566931408,0.3946066635038473,-0.46094521676711764,0.37814250342941313,-0.07889237499494783,0.03316528497301707,-0.18448436899393705,0.3346256718973729,0.25014431494496747,0.2481656543798394,0.2892793284514885,-0.052106473824094834,-0.2063858516263205,-0.3699714278817223,0.17883553293989096,-0.2344533406277738,-0.4466374548829196,-0.35327142509418985,0.19975836002093117,-0.08594401218043168,-0.08582073047309735,0.035896405915511576,0.014889112058308562,0.08655504050199292,-0.3625252958537625,0.3073912887095238,-0.3346458028830672,-0.15223414025449344,0.22599798535045146,0.12367220705560888,-0.15110165802215747,0.39588621819606684,0.46484004714838556,0.12169572020912178,0.44948925870707124,0.07838961438713177,-0.2629730197569723,0.07367948667228585,0.11714491362072388,0.027058102257609296,-0.14273023999750023,0.12336011579180273,0.4294372337437613,0.4973228504514805,-0.36286425037112224,0.19681816148990017,0.2554630526024664,0.42302453554648334,-0.3757290380278353,-0.4737890131222807,-0.2537889323969541,0.03883106434165284,0.3420308923596057,-0.2208163209888605,0.46959574831967454,-0.481352710627057,-0.26702572615897957,-0.11213935593582824,0.24712164273718462,-0.363544774339315,-0.37865654425926265,-0.3925058708939071,0.21298898038267666,-0.48744401984088415,0.467276330000272,-0.2967067653390095,0.24382585407509294,0.08135892727325778,0.34682880149003525,-0.006230285731270047,0.32898089955017873,-0.4814237978225905,-0.01365488906296819,0.06885143708648134,0.4886161544124489,-0.1198588273764496,0.2453344309065021,-0.2350804423371906,-0.1299158020858937,-0.2898259900851604,-0.43346351864588506,0.3047545637433454,0.13946088087994013,0.4248079703993507,-0.4340389093159762,0.27217802954324677,0.4319720691968373,-0.2656379138785795,0.44901632068761643,-0.22274322741347125,0.17931696919891849,0.10663698544949418,-0.38551496105113114,0.3711028543409008],\"yaxis\":\"y\",\"type\":\"scatter\"}],\"name\":\"10.0\"},{\"data\":[{\"customdata\":[[0.0],[1.0],[2.0],[3.0],[4.0],[5.0],[6.0],[7.0],[8.0],[9.0],[10.0],[11.0],[12.0],[13.0],[14.0],[15.0],[16.0],[17.0],[18.0],[19.0],[20.0],[21.0],[22.0],[23.0],[24.0],[25.0],[26.0],[27.0],[28.0],[29.0],[30.0],[31.0],[32.0],[33.0],[34.0],[35.0],[36.0],[37.0],[38.0],[39.0],[40.0],[41.0],[42.0],[43.0],[44.0],[45.0],[46.0],[47.0],[48.0],[49.0],[50.0],[51.0],[52.0],[53.0],[54.0],[55.0],[56.0],[57.0],[58.0],[59.0],[60.0],[61.0],[62.0],[63.0],[64.0],[65.0],[66.0],[67.0],[68.0],[69.0],[70.0],[71.0],[72.0],[73.0],[74.0],[75.0],[76.0],[77.0],[78.0],[79.0],[80.0],[81.0],[82.0],[83.0],[84.0],[85.0],[86.0],[87.0],[88.0],[89.0],[90.0],[91.0],[92.0],[93.0],[94.0],[95.0],[96.0],[97.0],[98.0],[99.0],[100.0],[101.0],[102.0],[103.0],[104.0]],\"hovertemplate\":\"<b>%{hovertext}</b><br><br>t=11.0<br>x=%{x}<br>y=%{y}<br>sizes=%{marker.size}<br>point_number=%{customdata[0]}<br>cluster=%{marker.color}<extra></extra>\",\"hovertext\":[4.0,2.0,3.0,3.0,2.0,4.0,2.0,2.0,2.0,3.0,4.0,2.0,1.0,3.0,2.0,2.0,1.0,0.0,4.0,2.0,1.0,2.0,2.0,0.0,3.0,2.0,3.0,3.0,0.0,4.0,2.0,0.0,2.0,1.0,1.0,0.0,2.0,3.0,0.0,1.0,1.0,0.0,4.0,4.0,1.0,2.0,2.0,3.0,1.0,2.0,2.0,0.0,1.0,2.0,4.0,3.0,1.0,2.0,4.0,0.0,3.0,3.0,1.0,4.0,3.0,4.0,3.0,0.0,0.0,1.0,0.0,3.0,3.0,2.0,3.0,2.0,0.0,2.0,2.0,1.0,2.0,4.0,3.0,2.0,1.0,4.0,0.0,4.0,0.0,2.0,0.0,0.0,2.0,2.0,4.0,3.0,1.0,1.0,3.0,4.0,0.0,1.0,2.0,3.0,4.0],\"ids\":[0.0,1.0,2.0,3.0,4.0,5.0,6.0,7.0,8.0,9.0,10.0,11.0,12.0,13.0,14.0,15.0,16.0,17.0,18.0,19.0,20.0,21.0,22.0,23.0,24.0,25.0,26.0,27.0,28.0,29.0,30.0,31.0,32.0,33.0,34.0,35.0,36.0,37.0,38.0,39.0,40.0,41.0,42.0,43.0,44.0,45.0,46.0,47.0,48.0,49.0,50.0,51.0,52.0,53.0,54.0,55.0,56.0,57.0,58.0,59.0,60.0,61.0,62.0,63.0,64.0,65.0,66.0,67.0,68.0,69.0,70.0,71.0,72.0,73.0,74.0,75.0,76.0,77.0,78.0,79.0,80.0,81.0,82.0,83.0,84.0,85.0,86.0,87.0,88.0,89.0,90.0,91.0,92.0,93.0,94.0,95.0,96.0,97.0,98.0,99.0,100.0,101.0,102.0,103.0,104.0],\"legendgroup\":\"\",\"marker\":{\"color\":[4.0,2.0,3.0,3.0,2.0,4.0,2.0,2.0,2.0,3.0,4.0,2.0,1.0,3.0,2.0,2.0,1.0,0.0,4.0,2.0,1.0,2.0,2.0,0.0,3.0,2.0,3.0,3.0,0.0,4.0,2.0,0.0,2.0,1.0,1.0,0.0,2.0,3.0,0.0,1.0,1.0,0.0,4.0,4.0,1.0,2.0,2.0,3.0,1.0,2.0,2.0,0.0,1.0,2.0,4.0,3.0,1.0,2.0,4.0,0.0,3.0,3.0,1.0,4.0,3.0,4.0,3.0,0.0,0.0,1.0,0.0,3.0,3.0,2.0,3.0,2.0,0.0,2.0,2.0,1.0,2.0,4.0,3.0,2.0,1.0,4.0,0.0,4.0,0.0,2.0,0.0,0.0,2.0,2.0,4.0,3.0,1.0,1.0,3.0,4.0,0.0,1.0,2.0,3.0,4.0],\"coloraxis\":\"coloraxis\",\"size\":[1.0,1.0,1.0,1.0,1.0,1.0,1.0,1.0,1.0,1.0,1.0,1.0,1.0,1.0,1.0,1.0,1.0,1.0,1.0,1.0,1.0,1.0,1.0,1.0,1.0,1.0,1.0,1.0,1.0,1.0,1.0,1.0,1.0,1.0,1.0,1.0,1.0,1.0,1.0,1.0,1.0,1.0,1.0,1.0,1.0,1.0,1.0,1.0,1.0,1.0,1.0,1.0,1.0,1.0,1.0,1.0,1.0,1.0,1.0,1.0,1.0,1.0,1.0,1.0,1.0,1.0,1.0,1.0,1.0,1.0,1.0,1.0,1.0,1.0,1.0,1.0,1.0,1.0,1.0,1.0,1.0,1.0,1.0,1.0,1.0,1.0,1.0,1.0,1.0,1.0,1.0,1.0,1.0,1.0,1.0,1.0,1.0,1.0,1.0,1.0,3.0,3.0,3.0,3.0,3.0],\"sizemode\":\"area\",\"sizeref\":0.0075,\"symbol\":\"circle\"},\"mode\":\"markers\",\"name\":\"\",\"orientation\":\"v\",\"showlegend\":false,\"x\":[-0.082977995297426,-0.4998856251826551,-0.35324410918288696,-0.3137397886223291,-0.10323252576933006,-0.0808054855967052,-0.29554775026848257,-0.47261240680207384,-0.08269519763287303,-0.35961306140476623,0.30074456867553667,-0.18657582184075716,0.3763891522960383,-0.4149557886302221,-0.3301695804354311,-0.4016531661669499,0.45788953015050193,0.19187711395047335,0.18650092768158366,-0.4817117226558082,0.4888610889064947,-0.21955600793559482,-0.396773993422358,0.40859550309309556,-0.21222466141365126,-0.4806330421297029,-0.28837188399994096,-0.00842684071966171,0.07411760549201307,0.08930553690328424,-0.39766557117217416,0.1944001577277451,-0.45004654105391284,0.16379464521978881,0.44459475599081333,0.4034019152878835,-0.36072365274924145,-0.10232316301446642,0.4275085803960339,0.25081210313615554,0.38330609120580983,0.2509424340273372,-0.23007210823497393,-0.07190881012870509,0.16344149781844808,-0.3852540270466248,-0.050087866520059476,-0.09186319723871883,0.4033795205622538,-0.49712967296884103,-0.17335509822790385,0.3859420993107745,0.4085351509197992,-0.4841787571534437,0.19089691751692395,-0.32765949165467145,0.43259546303716356,-0.4339998272779375,0.2538761884612464,0.21152475862847175,-0.4801198661602044,-0.4716935119792054,0.360027948682888,0.05282197868576588,-0.37582668488008886,0.08575927145828788,0.06103021925570995,0.30063267268061633,0.30710519561877914,0.36354185455942867,0.056240233990418886,-0.44008231048778834,-0.4554481214552383,-0.2742906613921453,0.05971698205414244,-0.4280257203105132,0.06810046191994212,-0.24767425542967658,-0.3045705188906812,0.47001998908831233,-0.26015224085241384,0.11995571838137975,-0.34320860535391573,-0.42997785628077767,0.10632946165333035,-0.18263759067783925,0.07974521924579692,0.05094821911789682,0.1692328934531846,-0.43366516557155843,0.12971750702156448,0.25275555373881387,-0.23968490142145904,-0.30656571737667226,0.02467030912373369,-0.23670322951288902,0.23506596328866947,0.40781585250352403,-0.486048427024403,0.11677835700165762,0.26524154315575504,0.3480235334717306,-0.3457471560130612,-0.19973888565877868,0.05149100019197794],\"xaxis\":\"x\",\"y\":[0.2203244934421581,-0.19766742736816023,-0.4076614052312022,-0.15443927295695226,0.038816734003356945,0.1852195003967595,0.3781174363909454,0.17046751017840223,0.05868982844575166,-0.3018985109151212,0.4682615757193975,0.19232261566931408,0.3946066635038473,-0.46094521676711764,0.37814250342941313,-0.07889237499494783,0.03316528497301707,-0.18448436899393705,0.3346256718973729,0.25014431494496747,0.2481656543798394,0.2892793284514885,-0.052106473824094834,-0.2063858516263205,-0.3699714278817223,0.17883553293989096,-0.2344533406277738,-0.4466374548829196,-0.35327142509418985,0.19975836002093117,-0.08594401218043168,-0.08582073047309735,0.035896405915511576,0.014889112058308562,0.08655504050199292,-0.3625252958537625,0.3073912887095238,-0.3346458028830672,-0.15223414025449344,0.22599798535045146,0.12367220705560888,-0.15110165802215747,0.39588621819606684,0.46484004714838556,0.12169572020912178,0.44948925870707124,0.07838961438713177,-0.2629730197569723,0.07367948667228585,0.11714491362072388,0.027058102257609296,-0.14273023999750023,0.12336011579180273,0.4294372337437613,0.4973228504514805,-0.36286425037112224,0.19681816148990017,0.2554630526024664,0.42302453554648334,-0.3757290380278353,-0.4737890131222807,-0.2537889323969541,0.03883106434165284,0.3420308923596057,-0.2208163209888605,0.46959574831967454,-0.481352710627057,-0.26702572615897957,-0.11213935593582824,0.24712164273718462,-0.363544774339315,-0.37865654425926265,-0.3925058708939071,0.21298898038267666,-0.48744401984088415,0.467276330000272,-0.2967067653390095,0.24382585407509294,0.08135892727325778,0.34682880149003525,-0.006230285731270047,0.32898089955017873,-0.4814237978225905,-0.01365488906296819,0.06885143708648134,0.4886161544124489,-0.1198588273764496,0.2453344309065021,-0.2350804423371906,-0.1299158020858937,-0.2898259900851604,-0.43346351864588506,0.3047545637433454,0.13946088087994013,0.4248079703993507,-0.4340389093159762,0.27217802954324677,0.4319720691968373,-0.2656379138785795,0.44901632068761643,-0.22274322741347125,0.17931696919891849,0.10663698544949418,-0.38551496105113114,0.3711028543409008],\"yaxis\":\"y\",\"type\":\"scatter\"}],\"name\":\"11.0\"},{\"data\":[{\"customdata\":[[0.0],[1.0],[2.0],[3.0],[4.0],[5.0],[6.0],[7.0],[8.0],[9.0],[10.0],[11.0],[12.0],[13.0],[14.0],[15.0],[16.0],[17.0],[18.0],[19.0],[20.0],[21.0],[22.0],[23.0],[24.0],[25.0],[26.0],[27.0],[28.0],[29.0],[30.0],[31.0],[32.0],[33.0],[34.0],[35.0],[36.0],[37.0],[38.0],[39.0],[40.0],[41.0],[42.0],[43.0],[44.0],[45.0],[46.0],[47.0],[48.0],[49.0],[50.0],[51.0],[52.0],[53.0],[54.0],[55.0],[56.0],[57.0],[58.0],[59.0],[60.0],[61.0],[62.0],[63.0],[64.0],[65.0],[66.0],[67.0],[68.0],[69.0],[70.0],[71.0],[72.0],[73.0],[74.0],[75.0],[76.0],[77.0],[78.0],[79.0],[80.0],[81.0],[82.0],[83.0],[84.0],[85.0],[86.0],[87.0],[88.0],[89.0],[90.0],[91.0],[92.0],[93.0],[94.0],[95.0],[96.0],[97.0],[98.0],[99.0],[100.0],[101.0],[102.0],[103.0],[104.0]],\"hovertemplate\":\"<b>%{hovertext}</b><br><br>t=12.0<br>x=%{x}<br>y=%{y}<br>sizes=%{marker.size}<br>point_number=%{customdata[0]}<br>cluster=%{marker.color}<extra></extra>\",\"hovertext\":[4.0,2.0,3.0,3.0,2.0,4.0,2.0,2.0,2.0,3.0,4.0,2.0,1.0,3.0,2.0,2.0,1.0,0.0,4.0,2.0,1.0,2.0,2.0,0.0,3.0,2.0,3.0,3.0,0.0,4.0,2.0,0.0,2.0,1.0,1.0,0.0,2.0,3.0,0.0,1.0,1.0,0.0,4.0,4.0,1.0,2.0,2.0,3.0,1.0,2.0,2.0,0.0,1.0,2.0,4.0,3.0,1.0,2.0,4.0,0.0,3.0,3.0,1.0,4.0,3.0,4.0,3.0,0.0,0.0,1.0,0.0,3.0,3.0,2.0,3.0,2.0,0.0,2.0,2.0,1.0,2.0,4.0,3.0,2.0,1.0,4.0,0.0,4.0,0.0,2.0,0.0,0.0,2.0,2.0,4.0,3.0,1.0,1.0,3.0,4.0,0.0,1.0,2.0,3.0,4.0],\"ids\":[0.0,1.0,2.0,3.0,4.0,5.0,6.0,7.0,8.0,9.0,10.0,11.0,12.0,13.0,14.0,15.0,16.0,17.0,18.0,19.0,20.0,21.0,22.0,23.0,24.0,25.0,26.0,27.0,28.0,29.0,30.0,31.0,32.0,33.0,34.0,35.0,36.0,37.0,38.0,39.0,40.0,41.0,42.0,43.0,44.0,45.0,46.0,47.0,48.0,49.0,50.0,51.0,52.0,53.0,54.0,55.0,56.0,57.0,58.0,59.0,60.0,61.0,62.0,63.0,64.0,65.0,66.0,67.0,68.0,69.0,70.0,71.0,72.0,73.0,74.0,75.0,76.0,77.0,78.0,79.0,80.0,81.0,82.0,83.0,84.0,85.0,86.0,87.0,88.0,89.0,90.0,91.0,92.0,93.0,94.0,95.0,96.0,97.0,98.0,99.0,100.0,101.0,102.0,103.0,104.0],\"legendgroup\":\"\",\"marker\":{\"color\":[4.0,2.0,3.0,3.0,2.0,4.0,2.0,2.0,2.0,3.0,4.0,2.0,1.0,3.0,2.0,2.0,1.0,0.0,4.0,2.0,1.0,2.0,2.0,0.0,3.0,2.0,3.0,3.0,0.0,4.0,2.0,0.0,2.0,1.0,1.0,0.0,2.0,3.0,0.0,1.0,1.0,0.0,4.0,4.0,1.0,2.0,2.0,3.0,1.0,2.0,2.0,0.0,1.0,2.0,4.0,3.0,1.0,2.0,4.0,0.0,3.0,3.0,1.0,4.0,3.0,4.0,3.0,0.0,0.0,1.0,0.0,3.0,3.0,2.0,3.0,2.0,0.0,2.0,2.0,1.0,2.0,4.0,3.0,2.0,1.0,4.0,0.0,4.0,0.0,2.0,0.0,0.0,2.0,2.0,4.0,3.0,1.0,1.0,3.0,4.0,0.0,1.0,2.0,3.0,4.0],\"coloraxis\":\"coloraxis\",\"size\":[1.0,1.0,1.0,1.0,1.0,1.0,1.0,1.0,1.0,1.0,1.0,1.0,1.0,1.0,1.0,1.0,1.0,1.0,1.0,1.0,1.0,1.0,1.0,1.0,1.0,1.0,1.0,1.0,1.0,1.0,1.0,1.0,1.0,1.0,1.0,1.0,1.0,1.0,1.0,1.0,1.0,1.0,1.0,1.0,1.0,1.0,1.0,1.0,1.0,1.0,1.0,1.0,1.0,1.0,1.0,1.0,1.0,1.0,1.0,1.0,1.0,1.0,1.0,1.0,1.0,1.0,1.0,1.0,1.0,1.0,1.0,1.0,1.0,1.0,1.0,1.0,1.0,1.0,1.0,1.0,1.0,1.0,1.0,1.0,1.0,1.0,1.0,1.0,1.0,1.0,1.0,1.0,1.0,1.0,1.0,1.0,1.0,1.0,1.0,1.0,3.0,3.0,3.0,3.0,3.0],\"sizemode\":\"area\",\"sizeref\":0.0075,\"symbol\":\"circle\"},\"mode\":\"markers\",\"name\":\"\",\"orientation\":\"v\",\"showlegend\":false,\"x\":[-0.082977995297426,-0.4998856251826551,-0.35324410918288696,-0.3137397886223291,-0.10323252576933006,-0.0808054855967052,-0.29554775026848257,-0.47261240680207384,-0.08269519763287303,-0.35961306140476623,0.30074456867553667,-0.18657582184075716,0.3763891522960383,-0.4149557886302221,-0.3301695804354311,-0.4016531661669499,0.45788953015050193,0.19187711395047335,0.18650092768158366,-0.4817117226558082,0.4888610889064947,-0.21955600793559482,-0.396773993422358,0.40859550309309556,-0.21222466141365126,-0.4806330421297029,-0.28837188399994096,-0.00842684071966171,0.07411760549201307,0.08930553690328424,-0.39766557117217416,0.1944001577277451,-0.45004654105391284,0.16379464521978881,0.44459475599081333,0.4034019152878835,-0.36072365274924145,-0.10232316301446642,0.4275085803960339,0.25081210313615554,0.38330609120580983,0.2509424340273372,-0.23007210823497393,-0.07190881012870509,0.16344149781844808,-0.3852540270466248,-0.050087866520059476,-0.09186319723871883,0.4033795205622538,-0.49712967296884103,-0.17335509822790385,0.3859420993107745,0.4085351509197992,-0.4841787571534437,0.19089691751692395,-0.32765949165467145,0.43259546303716356,-0.4339998272779375,0.2538761884612464,0.21152475862847175,-0.4801198661602044,-0.4716935119792054,0.360027948682888,0.05282197868576588,-0.37582668488008886,0.08575927145828788,0.06103021925570995,0.30063267268061633,0.30710519561877914,0.36354185455942867,0.056240233990418886,-0.44008231048778834,-0.4554481214552383,-0.2742906613921453,0.05971698205414244,-0.4280257203105132,0.06810046191994212,-0.24767425542967658,-0.3045705188906812,0.47001998908831233,-0.26015224085241384,0.11995571838137975,-0.34320860535391573,-0.42997785628077767,0.10632946165333035,-0.18263759067783925,0.07974521924579692,0.05094821911789682,0.1692328934531846,-0.43366516557155843,0.12971750702156448,0.25275555373881387,-0.23968490142145904,-0.30656571737667226,0.02467030912373369,-0.23670322951288902,0.23506596328866947,0.40781585250352403,-0.486048427024403,0.11677835700165762,0.2301082297401732,0.3480235334717306,-0.33693649639793505,-0.2820402770712598,0.05149100019197794],\"xaxis\":\"x\",\"y\":[0.2203244934421581,-0.19766742736816023,-0.4076614052312022,-0.15443927295695226,0.038816734003356945,0.1852195003967595,0.3781174363909454,0.17046751017840223,0.05868982844575166,-0.3018985109151212,0.4682615757193975,0.19232261566931408,0.3946066635038473,-0.46094521676711764,0.37814250342941313,-0.07889237499494783,0.03316528497301707,-0.18448436899393705,0.3346256718973729,0.25014431494496747,0.2481656543798394,0.2892793284514885,-0.052106473824094834,-0.2063858516263205,-0.3699714278817223,0.17883553293989096,-0.2344533406277738,-0.4466374548829196,-0.35327142509418985,0.19975836002093117,-0.08594401218043168,-0.08582073047309735,0.035896405915511576,0.014889112058308562,0.08655504050199292,-0.3625252958537625,0.3073912887095238,-0.3346458028830672,-0.15223414025449344,0.22599798535045146,0.12367220705560888,-0.15110165802215747,0.39588621819606684,0.46484004714838556,0.12169572020912178,0.44948925870707124,0.07838961438713177,-0.2629730197569723,0.07367948667228585,0.11714491362072388,0.027058102257609296,-0.14273023999750023,0.12336011579180273,0.4294372337437613,0.4973228504514805,-0.36286425037112224,0.19681816148990017,0.2554630526024664,0.42302453554648334,-0.3757290380278353,-0.4737890131222807,-0.2537889323969541,0.03883106434165284,0.3420308923596057,-0.2208163209888605,0.46959574831967454,-0.481352710627057,-0.26702572615897957,-0.11213935593582824,0.24712164273718462,-0.363544774339315,-0.37865654425926265,-0.3925058708939071,0.21298898038267666,-0.48744401984088415,0.467276330000272,-0.2967067653390095,0.24382585407509294,0.08135892727325778,0.34682880149003525,-0.006230285731270047,0.32898089955017873,-0.4814237978225905,-0.01365488906296819,0.06885143708648134,0.4886161544124489,-0.1198588273764496,0.2453344309065021,-0.2350804423371906,-0.1299158020858937,-0.2898259900851604,-0.43346351864588506,0.3047545637433454,0.13946088087994013,0.4248079703993507,-0.4340389093159762,0.27217802954324677,0.4319720691968373,-0.2656379138785795,0.44901632068761643,-0.24305459697418308,0.17931696919891849,0.15067799818347158,-0.3602971867710162,0.3711028543409008],\"yaxis\":\"y\",\"type\":\"scatter\"}],\"name\":\"12.0\"},{\"data\":[{\"customdata\":[[0.0],[1.0],[2.0],[3.0],[4.0],[5.0],[6.0],[7.0],[8.0],[9.0],[10.0],[11.0],[12.0],[13.0],[14.0],[15.0],[16.0],[17.0],[18.0],[19.0],[20.0],[21.0],[22.0],[23.0],[24.0],[25.0],[26.0],[27.0],[28.0],[29.0],[30.0],[31.0],[32.0],[33.0],[34.0],[35.0],[36.0],[37.0],[38.0],[39.0],[40.0],[41.0],[42.0],[43.0],[44.0],[45.0],[46.0],[47.0],[48.0],[49.0],[50.0],[51.0],[52.0],[53.0],[54.0],[55.0],[56.0],[57.0],[58.0],[59.0],[60.0],[61.0],[62.0],[63.0],[64.0],[65.0],[66.0],[67.0],[68.0],[69.0],[70.0],[71.0],[72.0],[73.0],[74.0],[75.0],[76.0],[77.0],[78.0],[79.0],[80.0],[81.0],[82.0],[83.0],[84.0],[85.0],[86.0],[87.0],[88.0],[89.0],[90.0],[91.0],[92.0],[93.0],[94.0],[95.0],[96.0],[97.0],[98.0],[99.0],[100.0],[101.0],[102.0],[103.0],[104.0]],\"hovertemplate\":\"<b>%{hovertext}</b><br><br>t=13.0<br>x=%{x}<br>y=%{y}<br>sizes=%{marker.size}<br>point_number=%{customdata[0]}<br>cluster=%{marker.color}<extra></extra>\",\"hovertext\":[4.0,3.0,3.0,3.0,2.0,4.0,2.0,2.0,2.0,3.0,4.0,2.0,1.0,3.0,2.0,2.0,1.0,0.0,4.0,2.0,1.0,2.0,2.0,0.0,3.0,2.0,3.0,3.0,0.0,4.0,2.0,0.0,2.0,1.0,1.0,0.0,2.0,3.0,0.0,1.0,1.0,0.0,2.0,4.0,1.0,2.0,2.0,3.0,1.0,2.0,2.0,0.0,1.0,2.0,4.0,3.0,1.0,2.0,4.0,0.0,3.0,3.0,1.0,4.0,3.0,4.0,0.0,0.0,0.0,1.0,0.0,3.0,3.0,2.0,0.0,2.0,0.0,2.0,2.0,1.0,2.0,4.0,3.0,2.0,1.0,4.0,0.0,4.0,0.0,3.0,0.0,0.0,2.0,2.0,4.0,3.0,1.0,1.0,3.0,4.0,0.0,1.0,2.0,3.0,4.0],\"ids\":[0.0,1.0,2.0,3.0,4.0,5.0,6.0,7.0,8.0,9.0,10.0,11.0,12.0,13.0,14.0,15.0,16.0,17.0,18.0,19.0,20.0,21.0,22.0,23.0,24.0,25.0,26.0,27.0,28.0,29.0,30.0,31.0,32.0,33.0,34.0,35.0,36.0,37.0,38.0,39.0,40.0,41.0,42.0,43.0,44.0,45.0,46.0,47.0,48.0,49.0,50.0,51.0,52.0,53.0,54.0,55.0,56.0,57.0,58.0,59.0,60.0,61.0,62.0,63.0,64.0,65.0,66.0,67.0,68.0,69.0,70.0,71.0,72.0,73.0,74.0,75.0,76.0,77.0,78.0,79.0,80.0,81.0,82.0,83.0,84.0,85.0,86.0,87.0,88.0,89.0,90.0,91.0,92.0,93.0,94.0,95.0,96.0,97.0,98.0,99.0,100.0,101.0,102.0,103.0,104.0],\"legendgroup\":\"\",\"marker\":{\"color\":[4.0,3.0,3.0,3.0,2.0,4.0,2.0,2.0,2.0,3.0,4.0,2.0,1.0,3.0,2.0,2.0,1.0,0.0,4.0,2.0,1.0,2.0,2.0,0.0,3.0,2.0,3.0,3.0,0.0,4.0,2.0,0.0,2.0,1.0,1.0,0.0,2.0,3.0,0.0,1.0,1.0,0.0,2.0,4.0,1.0,2.0,2.0,3.0,1.0,2.0,2.0,0.0,1.0,2.0,4.0,3.0,1.0,2.0,4.0,0.0,3.0,3.0,1.0,4.0,3.0,4.0,0.0,0.0,0.0,1.0,0.0,3.0,3.0,2.0,0.0,2.0,0.0,2.0,2.0,1.0,2.0,4.0,3.0,2.0,1.0,4.0,0.0,4.0,0.0,3.0,0.0,0.0,2.0,2.0,4.0,3.0,1.0,1.0,3.0,4.0,0.0,1.0,2.0,3.0,4.0],\"coloraxis\":\"coloraxis\",\"size\":[1.0,1.0,1.0,1.0,1.0,1.0,1.0,1.0,1.0,1.0,1.0,1.0,1.0,1.0,1.0,1.0,1.0,1.0,1.0,1.0,1.0,1.0,1.0,1.0,1.0,1.0,1.0,1.0,1.0,1.0,1.0,1.0,1.0,1.0,1.0,1.0,1.0,1.0,1.0,1.0,1.0,1.0,1.0,1.0,1.0,1.0,1.0,1.0,1.0,1.0,1.0,1.0,1.0,1.0,1.0,1.0,1.0,1.0,1.0,1.0,1.0,1.0,1.0,1.0,1.0,1.0,1.0,1.0,1.0,1.0,1.0,1.0,1.0,1.0,1.0,1.0,1.0,1.0,1.0,1.0,1.0,1.0,1.0,1.0,1.0,1.0,1.0,1.0,1.0,1.0,1.0,1.0,1.0,1.0,1.0,1.0,1.0,1.0,1.0,1.0,3.0,3.0,3.0,3.0,3.0],\"sizemode\":\"area\",\"sizeref\":0.0075,\"symbol\":\"circle\"},\"mode\":\"markers\",\"name\":\"\",\"orientation\":\"v\",\"showlegend\":false,\"x\":[-0.082977995297426,-0.4998856251826551,-0.35324410918288696,-0.3137397886223291,-0.10323252576933006,-0.0808054855967052,-0.29554775026848257,-0.47261240680207384,-0.08269519763287303,-0.35961306140476623,0.30074456867553667,-0.18657582184075716,0.3763891522960383,-0.4149557886302221,-0.3301695804354311,-0.4016531661669499,0.45788953015050193,0.19187711395047335,0.18650092768158366,-0.4817117226558082,0.4888610889064947,-0.21955600793559482,-0.396773993422358,0.40859550309309556,-0.21222466141365126,-0.4806330421297029,-0.28837188399994096,-0.00842684071966171,0.07411760549201307,0.08930553690328424,-0.39766557117217416,0.1944001577277451,-0.45004654105391284,0.16379464521978881,0.44459475599081333,0.4034019152878835,-0.36072365274924145,-0.10232316301446642,0.4275085803960339,0.25081210313615554,0.38330609120580983,0.2509424340273372,-0.23007210823497393,-0.07190881012870509,0.16344149781844808,-0.3852540270466248,-0.050087866520059476,-0.09186319723871883,0.4033795205622538,-0.49712967296884103,-0.17335509822790385,0.3859420993107745,0.4085351509197992,-0.4841787571534437,0.19089691751692395,-0.32765949165467145,0.43259546303716356,-0.4339998272779375,0.2538761884612464,0.21152475862847175,-0.4801198661602044,-0.4716935119792054,0.360027948682888,0.05282197868576588,-0.37582668488008886,0.08575927145828788,0.06103021925570995,0.30063267268061633,0.30710519561877914,0.36354185455942867,0.056240233990418886,-0.44008231048778834,-0.4554481214552383,-0.2742906613921453,0.05971698205414244,-0.4280257203105132,0.06810046191994212,-0.24767425542967658,-0.3045705188906812,0.47001998908831233,-0.26015224085241384,0.11995571838137975,-0.34320860535391573,-0.42997785628077767,0.10632946165333035,-0.18263759067783925,0.07974521924579692,0.05094821911789682,0.1692328934531846,-0.43366516557155843,0.12971750702156448,0.25275555373881387,-0.23968490142145904,-0.30656571737667226,0.02467030912373369,-0.23670322951288902,0.23506596328866947,0.40781585250352403,-0.486048427024403,0.11677835700165762,0.2301082297401732,0.3480235334717306,-0.33693649639793505,-0.2820402770712598,0.05149100019197794],\"xaxis\":\"x\",\"y\":[0.2203244934421581,-0.19766742736816023,-0.4076614052312022,-0.15443927295695226,0.038816734003356945,0.1852195003967595,0.3781174363909454,0.17046751017840223,0.05868982844575166,-0.3018985109151212,0.4682615757193975,0.19232261566931408,0.3946066635038473,-0.46094521676711764,0.37814250342941313,-0.07889237499494783,0.03316528497301707,-0.18448436899393705,0.3346256718973729,0.25014431494496747,0.2481656543798394,0.2892793284514885,-0.052106473824094834,-0.2063858516263205,-0.3699714278817223,0.17883553293989096,-0.2344533406277738,-0.4466374548829196,-0.35327142509418985,0.19975836002093117,-0.08594401218043168,-0.08582073047309735,0.035896405915511576,0.014889112058308562,0.08655504050199292,-0.3625252958537625,0.3073912887095238,-0.3346458028830672,-0.15223414025449344,0.22599798535045146,0.12367220705560888,-0.15110165802215747,0.39588621819606684,0.46484004714838556,0.12169572020912178,0.44948925870707124,0.07838961438713177,-0.2629730197569723,0.07367948667228585,0.11714491362072388,0.027058102257609296,-0.14273023999750023,0.12336011579180273,0.4294372337437613,0.4973228504514805,-0.36286425037112224,0.19681816148990017,0.2554630526024664,0.42302453554648334,-0.3757290380278353,-0.4737890131222807,-0.2537889323969541,0.03883106434165284,0.3420308923596057,-0.2208163209888605,0.46959574831967454,-0.481352710627057,-0.26702572615897957,-0.11213935593582824,0.24712164273718462,-0.363544774339315,-0.37865654425926265,-0.3925058708939071,0.21298898038267666,-0.48744401984088415,0.467276330000272,-0.2967067653390095,0.24382585407509294,0.08135892727325778,0.34682880149003525,-0.006230285731270047,0.32898089955017873,-0.4814237978225905,-0.01365488906296819,0.06885143708648134,0.4886161544124489,-0.1198588273764496,0.2453344309065021,-0.2350804423371906,-0.1299158020858937,-0.2898259900851604,-0.43346351864588506,0.3047545637433454,0.13946088087994013,0.4248079703993507,-0.4340389093159762,0.27217802954324677,0.4319720691968373,-0.2656379138785795,0.44901632068761643,-0.24305459697418308,0.17931696919891849,0.15067799818347158,-0.3602971867710162,0.3711028543409008],\"yaxis\":\"y\",\"type\":\"scatter\"}],\"name\":\"13.0\"},{\"data\":[{\"customdata\":[[0.0],[1.0],[2.0],[3.0],[4.0],[5.0],[6.0],[7.0],[8.0],[9.0],[10.0],[11.0],[12.0],[13.0],[14.0],[15.0],[16.0],[17.0],[18.0],[19.0],[20.0],[21.0],[22.0],[23.0],[24.0],[25.0],[26.0],[27.0],[28.0],[29.0],[30.0],[31.0],[32.0],[33.0],[34.0],[35.0],[36.0],[37.0],[38.0],[39.0],[40.0],[41.0],[42.0],[43.0],[44.0],[45.0],[46.0],[47.0],[48.0],[49.0],[50.0],[51.0],[52.0],[53.0],[54.0],[55.0],[56.0],[57.0],[58.0],[59.0],[60.0],[61.0],[62.0],[63.0],[64.0],[65.0],[66.0],[67.0],[68.0],[69.0],[70.0],[71.0],[72.0],[73.0],[74.0],[75.0],[76.0],[77.0],[78.0],[79.0],[80.0],[81.0],[82.0],[83.0],[84.0],[85.0],[86.0],[87.0],[88.0],[89.0],[90.0],[91.0],[92.0],[93.0],[94.0],[95.0],[96.0],[97.0],[98.0],[99.0],[100.0],[101.0],[102.0],[103.0],[104.0]],\"hovertemplate\":\"<b>%{hovertext}</b><br><br>t=14.0<br>x=%{x}<br>y=%{y}<br>sizes=%{marker.size}<br>point_number=%{customdata[0]}<br>cluster=%{marker.color}<extra></extra>\",\"hovertext\":[4.0,3.0,3.0,3.0,2.0,4.0,2.0,2.0,2.0,3.0,4.0,2.0,1.0,3.0,2.0,2.0,1.0,0.0,4.0,2.0,1.0,2.0,2.0,0.0,3.0,2.0,3.0,3.0,0.0,4.0,2.0,0.0,2.0,1.0,1.0,0.0,2.0,3.0,0.0,1.0,1.0,0.0,2.0,4.0,1.0,2.0,2.0,3.0,1.0,2.0,2.0,0.0,1.0,2.0,4.0,3.0,1.0,2.0,4.0,0.0,3.0,3.0,1.0,4.0,3.0,4.0,0.0,0.0,0.0,1.0,0.0,3.0,3.0,2.0,0.0,2.0,0.0,2.0,2.0,1.0,2.0,4.0,3.0,2.0,1.0,4.0,0.0,4.0,0.0,3.0,0.0,0.0,2.0,2.0,4.0,3.0,1.0,1.0,3.0,4.0,0.0,1.0,2.0,3.0,4.0],\"ids\":[0.0,1.0,2.0,3.0,4.0,5.0,6.0,7.0,8.0,9.0,10.0,11.0,12.0,13.0,14.0,15.0,16.0,17.0,18.0,19.0,20.0,21.0,22.0,23.0,24.0,25.0,26.0,27.0,28.0,29.0,30.0,31.0,32.0,33.0,34.0,35.0,36.0,37.0,38.0,39.0,40.0,41.0,42.0,43.0,44.0,45.0,46.0,47.0,48.0,49.0,50.0,51.0,52.0,53.0,54.0,55.0,56.0,57.0,58.0,59.0,60.0,61.0,62.0,63.0,64.0,65.0,66.0,67.0,68.0,69.0,70.0,71.0,72.0,73.0,74.0,75.0,76.0,77.0,78.0,79.0,80.0,81.0,82.0,83.0,84.0,85.0,86.0,87.0,88.0,89.0,90.0,91.0,92.0,93.0,94.0,95.0,96.0,97.0,98.0,99.0,100.0,101.0,102.0,103.0,104.0],\"legendgroup\":\"\",\"marker\":{\"color\":[4.0,3.0,3.0,3.0,2.0,4.0,2.0,2.0,2.0,3.0,4.0,2.0,1.0,3.0,2.0,2.0,1.0,0.0,4.0,2.0,1.0,2.0,2.0,0.0,3.0,2.0,3.0,3.0,0.0,4.0,2.0,0.0,2.0,1.0,1.0,0.0,2.0,3.0,0.0,1.0,1.0,0.0,2.0,4.0,1.0,2.0,2.0,3.0,1.0,2.0,2.0,0.0,1.0,2.0,4.0,3.0,1.0,2.0,4.0,0.0,3.0,3.0,1.0,4.0,3.0,4.0,0.0,0.0,0.0,1.0,0.0,3.0,3.0,2.0,0.0,2.0,0.0,2.0,2.0,1.0,2.0,4.0,3.0,2.0,1.0,4.0,0.0,4.0,0.0,3.0,0.0,0.0,2.0,2.0,4.0,3.0,1.0,1.0,3.0,4.0,0.0,1.0,2.0,3.0,4.0],\"coloraxis\":\"coloraxis\",\"size\":[1.0,1.0,1.0,1.0,1.0,1.0,1.0,1.0,1.0,1.0,1.0,1.0,1.0,1.0,1.0,1.0,1.0,1.0,1.0,1.0,1.0,1.0,1.0,1.0,1.0,1.0,1.0,1.0,1.0,1.0,1.0,1.0,1.0,1.0,1.0,1.0,1.0,1.0,1.0,1.0,1.0,1.0,1.0,1.0,1.0,1.0,1.0,1.0,1.0,1.0,1.0,1.0,1.0,1.0,1.0,1.0,1.0,1.0,1.0,1.0,1.0,1.0,1.0,1.0,1.0,1.0,1.0,1.0,1.0,1.0,1.0,1.0,1.0,1.0,1.0,1.0,1.0,1.0,1.0,1.0,1.0,1.0,1.0,1.0,1.0,1.0,1.0,1.0,1.0,1.0,1.0,1.0,1.0,1.0,1.0,1.0,1.0,1.0,1.0,1.0,3.0,3.0,3.0,3.0,3.0],\"sizemode\":\"area\",\"sizeref\":0.0075,\"symbol\":\"circle\"},\"mode\":\"markers\",\"name\":\"\",\"orientation\":\"v\",\"showlegend\":false,\"x\":[-0.082977995297426,-0.4998856251826551,-0.35324410918288696,-0.3137397886223291,-0.10323252576933006,-0.0808054855967052,-0.29554775026848257,-0.47261240680207384,-0.08269519763287303,-0.35961306140476623,0.30074456867553667,-0.18657582184075716,0.3763891522960383,-0.4149557886302221,-0.3301695804354311,-0.4016531661669499,0.45788953015050193,0.19187711395047335,0.18650092768158366,-0.4817117226558082,0.4888610889064947,-0.21955600793559482,-0.396773993422358,0.40859550309309556,-0.21222466141365126,-0.4806330421297029,-0.28837188399994096,-0.00842684071966171,0.07411760549201307,0.08930553690328424,-0.39766557117217416,0.1944001577277451,-0.45004654105391284,0.16379464521978881,0.44459475599081333,0.4034019152878835,-0.36072365274924145,-0.10232316301446642,0.4275085803960339,0.25081210313615554,0.38330609120580983,0.2509424340273372,-0.23007210823497393,-0.07190881012870509,0.16344149781844808,-0.3852540270466248,-0.050087866520059476,-0.09186319723871883,0.4033795205622538,-0.49712967296884103,-0.17335509822790385,0.3859420993107745,0.4085351509197992,-0.4841787571534437,0.19089691751692395,-0.32765949165467145,0.43259546303716356,-0.4339998272779375,0.2538761884612464,0.21152475862847175,-0.4801198661602044,-0.4716935119792054,0.360027948682888,0.05282197868576588,-0.37582668488008886,0.08575927145828788,0.06103021925570995,0.30063267268061633,0.30710519561877914,0.36354185455942867,0.056240233990418886,-0.44008231048778834,-0.4554481214552383,-0.2742906613921453,0.05971698205414244,-0.4280257203105132,0.06810046191994212,-0.24767425542967658,-0.3045705188906812,0.47001998908831233,-0.26015224085241384,0.11995571838137975,-0.34320860535391573,-0.42997785628077767,0.10632946165333035,-0.18263759067783925,0.07974521924579692,0.05094821911789682,0.1692328934531846,-0.43366516557155843,0.12971750702156448,0.25275555373881387,-0.23968490142145904,-0.30656571737667226,0.02467030912373369,-0.23670322951288902,0.23506596328866947,0.40781585250352403,-0.486048427024403,0.11677835700165762,0.21224142667856824,0.3480235334717306,-0.3242971106696142,-0.3347551766744631,0.07026187408710806],\"xaxis\":\"x\",\"y\":[0.2203244934421581,-0.19766742736816023,-0.4076614052312022,-0.15443927295695226,0.038816734003356945,0.1852195003967595,0.3781174363909454,0.17046751017840223,0.05868982844575166,-0.3018985109151212,0.4682615757193975,0.19232261566931408,0.3946066635038473,-0.46094521676711764,0.37814250342941313,-0.07889237499494783,0.03316528497301707,-0.18448436899393705,0.3346256718973729,0.25014431494496747,0.2481656543798394,0.2892793284514885,-0.052106473824094834,-0.2063858516263205,-0.3699714278817223,0.17883553293989096,-0.2344533406277738,-0.4466374548829196,-0.35327142509418985,0.19975836002093117,-0.08594401218043168,-0.08582073047309735,0.035896405915511576,0.014889112058308562,0.08655504050199292,-0.3625252958537625,0.3073912887095238,-0.3346458028830672,-0.15223414025449344,0.22599798535045146,0.12367220705560888,-0.15110165802215747,0.39588621819606684,0.46484004714838556,0.12169572020912178,0.44948925870707124,0.07838961438713177,-0.2629730197569723,0.07367948667228585,0.11714491362072388,0.027058102257609296,-0.14273023999750023,0.12336011579180273,0.4294372337437613,0.4973228504514805,-0.36286425037112224,0.19681816148990017,0.2554630526024664,0.42302453554648334,-0.3757290380278353,-0.4737890131222807,-0.2537889323969541,0.03883106434165284,0.3420308923596057,-0.2208163209888605,0.46959574831967454,-0.481352710627057,-0.26702572615897957,-0.11213935593582824,0.24712164273718462,-0.363544774339315,-0.37865654425926265,-0.3925058708939071,0.21298898038267666,-0.48744401984088415,0.467276330000272,-0.2967067653390095,0.24382585407509294,0.08135892727325778,0.34682880149003525,-0.006230285731270047,0.32898089955017873,-0.4814237978225905,-0.01365488906296819,0.06885143708648134,0.4886161544124489,-0.1198588273764496,0.2453344309065021,-0.2350804423371906,-0.1299158020858937,-0.2898259900851604,-0.43346351864588506,0.3047545637433454,0.13946088087994013,0.4248079703993507,-0.4340389093159762,0.27217802954324677,0.4319720691968373,-0.2656379138785795,0.44901632068761643,-0.2684592041594238,0.17931696919891849,0.18082101355704377,-0.3282365117203218,0.3694506300838897],\"yaxis\":\"y\",\"type\":\"scatter\"}],\"name\":\"14.0\"},{\"data\":[{\"customdata\":[[0.0],[1.0],[2.0],[3.0],[4.0],[5.0],[6.0],[7.0],[8.0],[9.0],[10.0],[11.0],[12.0],[13.0],[14.0],[15.0],[16.0],[17.0],[18.0],[19.0],[20.0],[21.0],[22.0],[23.0],[24.0],[25.0],[26.0],[27.0],[28.0],[29.0],[30.0],[31.0],[32.0],[33.0],[34.0],[35.0],[36.0],[37.0],[38.0],[39.0],[40.0],[41.0],[42.0],[43.0],[44.0],[45.0],[46.0],[47.0],[48.0],[49.0],[50.0],[51.0],[52.0],[53.0],[54.0],[55.0],[56.0],[57.0],[58.0],[59.0],[60.0],[61.0],[62.0],[63.0],[64.0],[65.0],[66.0],[67.0],[68.0],[69.0],[70.0],[71.0],[72.0],[73.0],[74.0],[75.0],[76.0],[77.0],[78.0],[79.0],[80.0],[81.0],[82.0],[83.0],[84.0],[85.0],[86.0],[87.0],[88.0],[89.0],[90.0],[91.0],[92.0],[93.0],[94.0],[95.0],[96.0],[97.0],[98.0],[99.0],[100.0],[101.0],[102.0],[103.0],[104.0]],\"hovertemplate\":\"<b>%{hovertext}</b><br><br>t=15.0<br>x=%{x}<br>y=%{y}<br>sizes=%{marker.size}<br>point_number=%{customdata[0]}<br>cluster=%{marker.color}<extra></extra>\",\"hovertext\":[4.0,3.0,3.0,3.0,2.0,4.0,2.0,2.0,2.0,3.0,4.0,2.0,1.0,3.0,2.0,3.0,1.0,0.0,4.0,2.0,1.0,2.0,2.0,0.0,3.0,2.0,3.0,0.0,0.0,4.0,3.0,0.0,2.0,1.0,1.0,0.0,2.0,3.0,0.0,1.0,1.0,0.0,2.0,4.0,1.0,2.0,2.0,3.0,1.0,2.0,2.0,0.0,1.0,2.0,4.0,3.0,1.0,2.0,4.0,0.0,3.0,3.0,1.0,4.0,3.0,4.0,0.0,0.0,0.0,1.0,0.0,3.0,3.0,2.0,0.0,2.0,0.0,2.0,2.0,1.0,2.0,4.0,3.0,2.0,1.0,4.0,0.0,4.0,0.0,3.0,0.0,0.0,2.0,2.0,4.0,3.0,1.0,1.0,3.0,4.0,0.0,1.0,2.0,3.0,4.0],\"ids\":[0.0,1.0,2.0,3.0,4.0,5.0,6.0,7.0,8.0,9.0,10.0,11.0,12.0,13.0,14.0,15.0,16.0,17.0,18.0,19.0,20.0,21.0,22.0,23.0,24.0,25.0,26.0,27.0,28.0,29.0,30.0,31.0,32.0,33.0,34.0,35.0,36.0,37.0,38.0,39.0,40.0,41.0,42.0,43.0,44.0,45.0,46.0,47.0,48.0,49.0,50.0,51.0,52.0,53.0,54.0,55.0,56.0,57.0,58.0,59.0,60.0,61.0,62.0,63.0,64.0,65.0,66.0,67.0,68.0,69.0,70.0,71.0,72.0,73.0,74.0,75.0,76.0,77.0,78.0,79.0,80.0,81.0,82.0,83.0,84.0,85.0,86.0,87.0,88.0,89.0,90.0,91.0,92.0,93.0,94.0,95.0,96.0,97.0,98.0,99.0,100.0,101.0,102.0,103.0,104.0],\"legendgroup\":\"\",\"marker\":{\"color\":[4.0,3.0,3.0,3.0,2.0,4.0,2.0,2.0,2.0,3.0,4.0,2.0,1.0,3.0,2.0,3.0,1.0,0.0,4.0,2.0,1.0,2.0,2.0,0.0,3.0,2.0,3.0,0.0,0.0,4.0,3.0,0.0,2.0,1.0,1.0,0.0,2.0,3.0,0.0,1.0,1.0,0.0,2.0,4.0,1.0,2.0,2.0,3.0,1.0,2.0,2.0,0.0,1.0,2.0,4.0,3.0,1.0,2.0,4.0,0.0,3.0,3.0,1.0,4.0,3.0,4.0,0.0,0.0,0.0,1.0,0.0,3.0,3.0,2.0,0.0,2.0,0.0,2.0,2.0,1.0,2.0,4.0,3.0,2.0,1.0,4.0,0.0,4.0,0.0,3.0,0.0,0.0,2.0,2.0,4.0,3.0,1.0,1.0,3.0,4.0,0.0,1.0,2.0,3.0,4.0],\"coloraxis\":\"coloraxis\",\"size\":[1.0,1.0,1.0,1.0,1.0,1.0,1.0,1.0,1.0,1.0,1.0,1.0,1.0,1.0,1.0,1.0,1.0,1.0,1.0,1.0,1.0,1.0,1.0,1.0,1.0,1.0,1.0,1.0,1.0,1.0,1.0,1.0,1.0,1.0,1.0,1.0,1.0,1.0,1.0,1.0,1.0,1.0,1.0,1.0,1.0,1.0,1.0,1.0,1.0,1.0,1.0,1.0,1.0,1.0,1.0,1.0,1.0,1.0,1.0,1.0,1.0,1.0,1.0,1.0,1.0,1.0,1.0,1.0,1.0,1.0,1.0,1.0,1.0,1.0,1.0,1.0,1.0,1.0,1.0,1.0,1.0,1.0,1.0,1.0,1.0,1.0,1.0,1.0,1.0,1.0,1.0,1.0,1.0,1.0,1.0,1.0,1.0,1.0,1.0,1.0,3.0,3.0,3.0,3.0,3.0],\"sizemode\":\"area\",\"sizeref\":0.0075,\"symbol\":\"circle\"},\"mode\":\"markers\",\"name\":\"\",\"orientation\":\"v\",\"showlegend\":false,\"x\":[-0.082977995297426,-0.4998856251826551,-0.35324410918288696,-0.3137397886223291,-0.10323252576933006,-0.0808054855967052,-0.29554775026848257,-0.47261240680207384,-0.08269519763287303,-0.35961306140476623,0.30074456867553667,-0.18657582184075716,0.3763891522960383,-0.4149557886302221,-0.3301695804354311,-0.4016531661669499,0.45788953015050193,0.19187711395047335,0.18650092768158366,-0.4817117226558082,0.4888610889064947,-0.21955600793559482,-0.396773993422358,0.40859550309309556,-0.21222466141365126,-0.4806330421297029,-0.28837188399994096,-0.00842684071966171,0.07411760549201307,0.08930553690328424,-0.39766557117217416,0.1944001577277451,-0.45004654105391284,0.16379464521978881,0.44459475599081333,0.4034019152878835,-0.36072365274924145,-0.10232316301446642,0.4275085803960339,0.25081210313615554,0.38330609120580983,0.2509424340273372,-0.23007210823497393,-0.07190881012870509,0.16344149781844808,-0.3852540270466248,-0.050087866520059476,-0.09186319723871883,0.4033795205622538,-0.49712967296884103,-0.17335509822790385,0.3859420993107745,0.4085351509197992,-0.4841787571534437,0.19089691751692395,-0.32765949165467145,0.43259546303716356,-0.4339998272779375,0.2538761884612464,0.21152475862847175,-0.4801198661602044,-0.4716935119792054,0.360027948682888,0.05282197868576588,-0.37582668488008886,0.08575927145828788,0.06103021925570995,0.30063267268061633,0.30710519561877914,0.36354185455942867,0.056240233990418886,-0.44008231048778834,-0.4554481214552383,-0.2742906613921453,0.05971698205414244,-0.4280257203105132,0.06810046191994212,-0.24767425542967658,-0.3045705188906812,0.47001998908831233,-0.26015224085241384,0.11995571838137975,-0.34320860535391573,-0.42997785628077767,0.10632946165333035,-0.18263759067783925,0.07974521924579692,0.05094821911789682,0.1692328934531846,-0.43366516557155843,0.12971750702156448,0.25275555373881387,-0.23968490142145904,-0.30656571737667226,0.02467030912373369,-0.23670322951288902,0.23506596328866947,0.40781585250352403,-0.486048427024403,0.11677835700165762,0.21224142667856824,0.3480235334717306,-0.3242971106696142,-0.3347551766744631,0.07026187408710806],\"xaxis\":\"x\",\"y\":[0.2203244934421581,-0.19766742736816023,-0.4076614052312022,-0.15443927295695226,0.038816734003356945,0.1852195003967595,0.3781174363909454,0.17046751017840223,0.05868982844575166,-0.3018985109151212,0.4682615757193975,0.19232261566931408,0.3946066635038473,-0.46094521676711764,0.37814250342941313,-0.07889237499494783,0.03316528497301707,-0.18448436899393705,0.3346256718973729,0.25014431494496747,0.2481656543798394,0.2892793284514885,-0.052106473824094834,-0.2063858516263205,-0.3699714278817223,0.17883553293989096,-0.2344533406277738,-0.4466374548829196,-0.35327142509418985,0.19975836002093117,-0.08594401218043168,-0.08582073047309735,0.035896405915511576,0.014889112058308562,0.08655504050199292,-0.3625252958537625,0.3073912887095238,-0.3346458028830672,-0.15223414025449344,0.22599798535045146,0.12367220705560888,-0.15110165802215747,0.39588621819606684,0.46484004714838556,0.12169572020912178,0.44948925870707124,0.07838961438713177,-0.2629730197569723,0.07367948667228585,0.11714491362072388,0.027058102257609296,-0.14273023999750023,0.12336011579180273,0.4294372337437613,0.4973228504514805,-0.36286425037112224,0.19681816148990017,0.2554630526024664,0.42302453554648334,-0.3757290380278353,-0.4737890131222807,-0.2537889323969541,0.03883106434165284,0.3420308923596057,-0.2208163209888605,0.46959574831967454,-0.481352710627057,-0.26702572615897957,-0.11213935593582824,0.24712164273718462,-0.363544774339315,-0.37865654425926265,-0.3925058708939071,0.21298898038267666,-0.48744401984088415,0.467276330000272,-0.2967067653390095,0.24382585407509294,0.08135892727325778,0.34682880149003525,-0.006230285731270047,0.32898089955017873,-0.4814237978225905,-0.01365488906296819,0.06885143708648134,0.4886161544124489,-0.1198588273764496,0.2453344309065021,-0.2350804423371906,-0.1299158020858937,-0.2898259900851604,-0.43346351864588506,0.3047545637433454,0.13946088087994013,0.4248079703993507,-0.4340389093159762,0.27217802954324677,0.4319720691968373,-0.2656379138785795,0.44901632068761643,-0.2684592041594238,0.17931696919891849,0.18082101355704377,-0.3282365117203218,0.3694506300838897],\"yaxis\":\"y\",\"type\":\"scatter\"}],\"name\":\"15.0\"},{\"data\":[{\"customdata\":[[0.0],[1.0],[2.0],[3.0],[4.0],[5.0],[6.0],[7.0],[8.0],[9.0],[10.0],[11.0],[12.0],[13.0],[14.0],[15.0],[16.0],[17.0],[18.0],[19.0],[20.0],[21.0],[22.0],[23.0],[24.0],[25.0],[26.0],[27.0],[28.0],[29.0],[30.0],[31.0],[32.0],[33.0],[34.0],[35.0],[36.0],[37.0],[38.0],[39.0],[40.0],[41.0],[42.0],[43.0],[44.0],[45.0],[46.0],[47.0],[48.0],[49.0],[50.0],[51.0],[52.0],[53.0],[54.0],[55.0],[56.0],[57.0],[58.0],[59.0],[60.0],[61.0],[62.0],[63.0],[64.0],[65.0],[66.0],[67.0],[68.0],[69.0],[70.0],[71.0],[72.0],[73.0],[74.0],[75.0],[76.0],[77.0],[78.0],[79.0],[80.0],[81.0],[82.0],[83.0],[84.0],[85.0],[86.0],[87.0],[88.0],[89.0],[90.0],[91.0],[92.0],[93.0],[94.0],[95.0],[96.0],[97.0],[98.0],[99.0],[100.0],[101.0],[102.0],[103.0],[104.0]],\"hovertemplate\":\"<b>%{hovertext}</b><br><br>t=16.0<br>x=%{x}<br>y=%{y}<br>sizes=%{marker.size}<br>point_number=%{customdata[0]}<br>cluster=%{marker.color}<extra></extra>\",\"hovertext\":[4.0,3.0,3.0,3.0,2.0,4.0,2.0,2.0,2.0,3.0,4.0,2.0,1.0,3.0,2.0,3.0,1.0,0.0,4.0,2.0,1.0,2.0,2.0,0.0,3.0,2.0,3.0,0.0,0.0,4.0,3.0,0.0,2.0,1.0,1.0,0.0,2.0,3.0,0.0,1.0,1.0,0.0,2.0,4.0,1.0,2.0,2.0,3.0,1.0,2.0,2.0,0.0,1.0,2.0,4.0,3.0,1.0,2.0,4.0,0.0,3.0,3.0,1.0,4.0,3.0,4.0,0.0,0.0,0.0,1.0,0.0,3.0,3.0,2.0,0.0,2.0,0.0,2.0,2.0,1.0,2.0,4.0,3.0,2.0,1.0,4.0,0.0,4.0,0.0,3.0,0.0,0.0,2.0,2.0,4.0,3.0,1.0,1.0,3.0,4.0,0.0,1.0,2.0,3.0,4.0],\"ids\":[0.0,1.0,2.0,3.0,4.0,5.0,6.0,7.0,8.0,9.0,10.0,11.0,12.0,13.0,14.0,15.0,16.0,17.0,18.0,19.0,20.0,21.0,22.0,23.0,24.0,25.0,26.0,27.0,28.0,29.0,30.0,31.0,32.0,33.0,34.0,35.0,36.0,37.0,38.0,39.0,40.0,41.0,42.0,43.0,44.0,45.0,46.0,47.0,48.0,49.0,50.0,51.0,52.0,53.0,54.0,55.0,56.0,57.0,58.0,59.0,60.0,61.0,62.0,63.0,64.0,65.0,66.0,67.0,68.0,69.0,70.0,71.0,72.0,73.0,74.0,75.0,76.0,77.0,78.0,79.0,80.0,81.0,82.0,83.0,84.0,85.0,86.0,87.0,88.0,89.0,90.0,91.0,92.0,93.0,94.0,95.0,96.0,97.0,98.0,99.0,100.0,101.0,102.0,103.0,104.0],\"legendgroup\":\"\",\"marker\":{\"color\":[4.0,3.0,3.0,3.0,2.0,4.0,2.0,2.0,2.0,3.0,4.0,2.0,1.0,3.0,2.0,3.0,1.0,0.0,4.0,2.0,1.0,2.0,2.0,0.0,3.0,2.0,3.0,0.0,0.0,4.0,3.0,0.0,2.0,1.0,1.0,0.0,2.0,3.0,0.0,1.0,1.0,0.0,2.0,4.0,1.0,2.0,2.0,3.0,1.0,2.0,2.0,0.0,1.0,2.0,4.0,3.0,1.0,2.0,4.0,0.0,3.0,3.0,1.0,4.0,3.0,4.0,0.0,0.0,0.0,1.0,0.0,3.0,3.0,2.0,0.0,2.0,0.0,2.0,2.0,1.0,2.0,4.0,3.0,2.0,1.0,4.0,0.0,4.0,0.0,3.0,0.0,0.0,2.0,2.0,4.0,3.0,1.0,1.0,3.0,4.0,0.0,1.0,2.0,3.0,4.0],\"coloraxis\":\"coloraxis\",\"size\":[1.0,1.0,1.0,1.0,1.0,1.0,1.0,1.0,1.0,1.0,1.0,1.0,1.0,1.0,1.0,1.0,1.0,1.0,1.0,1.0,1.0,1.0,1.0,1.0,1.0,1.0,1.0,1.0,1.0,1.0,1.0,1.0,1.0,1.0,1.0,1.0,1.0,1.0,1.0,1.0,1.0,1.0,1.0,1.0,1.0,1.0,1.0,1.0,1.0,1.0,1.0,1.0,1.0,1.0,1.0,1.0,1.0,1.0,1.0,1.0,1.0,1.0,1.0,1.0,1.0,1.0,1.0,1.0,1.0,1.0,1.0,1.0,1.0,1.0,1.0,1.0,1.0,1.0,1.0,1.0,1.0,1.0,1.0,1.0,1.0,1.0,1.0,1.0,1.0,1.0,1.0,1.0,1.0,1.0,1.0,1.0,1.0,1.0,1.0,1.0,3.0,3.0,3.0,3.0,3.0],\"sizemode\":\"area\",\"sizeref\":0.0075,\"symbol\":\"circle\"},\"mode\":\"markers\",\"name\":\"\",\"orientation\":\"v\",\"showlegend\":false,\"x\":[-0.082977995297426,-0.4998856251826551,-0.35324410918288696,-0.3137397886223291,-0.10323252576933006,-0.0808054855967052,-0.29554775026848257,-0.47261240680207384,-0.08269519763287303,-0.35961306140476623,0.30074456867553667,-0.18657582184075716,0.3763891522960383,-0.4149557886302221,-0.3301695804354311,-0.4016531661669499,0.45788953015050193,0.19187711395047335,0.18650092768158366,-0.4817117226558082,0.4888610889064947,-0.21955600793559482,-0.396773993422358,0.40859550309309556,-0.21222466141365126,-0.4806330421297029,-0.28837188399994096,-0.00842684071966171,0.07411760549201307,0.08930553690328424,-0.39766557117217416,0.1944001577277451,-0.45004654105391284,0.16379464521978881,0.44459475599081333,0.4034019152878835,-0.36072365274924145,-0.10232316301446642,0.4275085803960339,0.25081210313615554,0.38330609120580983,0.2509424340273372,-0.23007210823497393,-0.07190881012870509,0.16344149781844808,-0.3852540270466248,-0.050087866520059476,-0.09186319723871883,0.4033795205622538,-0.49712967296884103,-0.17335509822790385,0.3859420993107745,0.4085351509197992,-0.4841787571534437,0.19089691751692395,-0.32765949165467145,0.43259546303716356,-0.4339998272779375,0.2538761884612464,0.21152475862847175,-0.4801198661602044,-0.4716935119792054,0.360027948682888,0.05282197868576588,-0.37582668488008886,0.08575927145828788,0.06103021925570995,0.30063267268061633,0.30710519561877914,0.36354185455942867,0.056240233990418886,-0.44008231048778834,-0.4554481214552383,-0.2742906613921453,0.05971698205414244,-0.4280257203105132,0.06810046191994212,-0.24767425542967658,-0.3045705188906812,0.47001998908831233,-0.26015224085241384,0.11995571838137975,-0.34320860535391573,-0.42997785628077767,0.10632946165333035,-0.18263759067783925,0.07974521924579692,0.05094821911789682,0.1692328934531846,-0.43366516557155843,0.12971750702156448,0.25275555373881387,-0.23968490142145904,-0.30656571737667226,0.02467030912373369,-0.23670322951288902,0.23506596328866947,0.40781585250352403,-0.486048427024403,0.11677835700165762,0.20120801330865676,0.3480235334717306,-0.31871472118813665,-0.35647597286232025,0.07026187408710806],\"xaxis\":\"x\",\"y\":[0.2203244934421581,-0.19766742736816023,-0.4076614052312022,-0.15443927295695226,0.038816734003356945,0.1852195003967595,0.3781174363909454,0.17046751017840223,0.05868982844575166,-0.3018985109151212,0.4682615757193975,0.19232261566931408,0.3946066635038473,-0.46094521676711764,0.37814250342941313,-0.07889237499494783,0.03316528497301707,-0.18448436899393705,0.3346256718973729,0.25014431494496747,0.2481656543798394,0.2892793284514885,-0.052106473824094834,-0.2063858516263205,-0.3699714278817223,0.17883553293989096,-0.2344533406277738,-0.4466374548829196,-0.35327142509418985,0.19975836002093117,-0.08594401218043168,-0.08582073047309735,0.035896405915511576,0.014889112058308562,0.08655504050199292,-0.3625252958537625,0.3073912887095238,-0.3346458028830672,-0.15223414025449344,0.22599798535045146,0.12367220705560888,-0.15110165802215747,0.39588621819606684,0.46484004714838556,0.12169572020912178,0.44948925870707124,0.07838961438713177,-0.2629730197569723,0.07367948667228585,0.11714491362072388,0.027058102257609296,-0.14273023999750023,0.12336011579180273,0.4294372337437613,0.4973228504514805,-0.36286425037112224,0.19681816148990017,0.2554630526024664,0.42302453554648334,-0.3757290380278353,-0.4737890131222807,-0.2537889323969541,0.03883106434165284,0.3420308923596057,-0.2208163209888605,0.46959574831967454,-0.481352710627057,-0.26702572615897957,-0.11213935593582824,0.24712164273718462,-0.363544774339315,-0.37865654425926265,-0.3925058708939071,0.21298898038267666,-0.48744401984088415,0.467276330000272,-0.2967067653390095,0.24382585407509294,0.08135892727325778,0.34682880149003525,-0.006230285731270047,0.32898089955017873,-0.4814237978225905,-0.01365488906296819,0.06885143708648134,0.4886161544124489,-0.1198588273764496,0.2453344309065021,-0.2350804423371906,-0.1299158020858937,-0.2898259900851604,-0.43346351864588506,0.3047545637433454,0.13946088087994013,0.4248079703993507,-0.4340389093159762,0.27217802954324677,0.4319720691968373,-0.2656379138785795,0.44901632068761643,-0.2773681166955987,0.17931696919891849,0.20032021408628328,-0.2991871031761379,0.3694506300838897],\"yaxis\":\"y\",\"type\":\"scatter\"}],\"name\":\"16.0\"},{\"data\":[{\"customdata\":[[0.0],[1.0],[2.0],[3.0],[4.0],[5.0],[6.0],[7.0],[8.0],[9.0],[10.0],[11.0],[12.0],[13.0],[14.0],[15.0],[16.0],[17.0],[18.0],[19.0],[20.0],[21.0],[22.0],[23.0],[24.0],[25.0],[26.0],[27.0],[28.0],[29.0],[30.0],[31.0],[32.0],[33.0],[34.0],[35.0],[36.0],[37.0],[38.0],[39.0],[40.0],[41.0],[42.0],[43.0],[44.0],[45.0],[46.0],[47.0],[48.0],[49.0],[50.0],[51.0],[52.0],[53.0],[54.0],[55.0],[56.0],[57.0],[58.0],[59.0],[60.0],[61.0],[62.0],[63.0],[64.0],[65.0],[66.0],[67.0],[68.0],[69.0],[70.0],[71.0],[72.0],[73.0],[74.0],[75.0],[76.0],[77.0],[78.0],[79.0],[80.0],[81.0],[82.0],[83.0],[84.0],[85.0],[86.0],[87.0],[88.0],[89.0],[90.0],[91.0],[92.0],[93.0],[94.0],[95.0],[96.0],[97.0],[98.0],[99.0],[100.0],[101.0],[102.0],[103.0],[104.0]],\"hovertemplate\":\"<b>%{hovertext}</b><br><br>t=17.0<br>x=%{x}<br>y=%{y}<br>sizes=%{marker.size}<br>point_number=%{customdata[0]}<br>cluster=%{marker.color}<extra></extra>\",\"hovertext\":[4.0,3.0,3.0,3.0,2.0,4.0,2.0,2.0,2.0,3.0,4.0,2.0,1.0,3.0,2.0,3.0,1.0,0.0,4.0,2.0,1.0,2.0,3.0,0.0,3.0,2.0,3.0,0.0,0.0,4.0,3.0,0.0,2.0,1.0,1.0,0.0,2.0,3.0,0.0,1.0,1.0,0.0,2.0,4.0,1.0,2.0,2.0,3.0,1.0,2.0,2.0,0.0,1.0,2.0,4.0,3.0,1.0,2.0,4.0,0.0,3.0,3.0,1.0,4.0,3.0,4.0,0.0,0.0,0.0,1.0,0.0,3.0,3.0,2.0,0.0,2.0,0.0,2.0,2.0,1.0,2.0,4.0,3.0,2.0,1.0,4.0,0.0,4.0,0.0,3.0,0.0,0.0,2.0,2.0,4.0,3.0,1.0,1.0,3.0,4.0,0.0,1.0,2.0,3.0,4.0],\"ids\":[0.0,1.0,2.0,3.0,4.0,5.0,6.0,7.0,8.0,9.0,10.0,11.0,12.0,13.0,14.0,15.0,16.0,17.0,18.0,19.0,20.0,21.0,22.0,23.0,24.0,25.0,26.0,27.0,28.0,29.0,30.0,31.0,32.0,33.0,34.0,35.0,36.0,37.0,38.0,39.0,40.0,41.0,42.0,43.0,44.0,45.0,46.0,47.0,48.0,49.0,50.0,51.0,52.0,53.0,54.0,55.0,56.0,57.0,58.0,59.0,60.0,61.0,62.0,63.0,64.0,65.0,66.0,67.0,68.0,69.0,70.0,71.0,72.0,73.0,74.0,75.0,76.0,77.0,78.0,79.0,80.0,81.0,82.0,83.0,84.0,85.0,86.0,87.0,88.0,89.0,90.0,91.0,92.0,93.0,94.0,95.0,96.0,97.0,98.0,99.0,100.0,101.0,102.0,103.0,104.0],\"legendgroup\":\"\",\"marker\":{\"color\":[4.0,3.0,3.0,3.0,2.0,4.0,2.0,2.0,2.0,3.0,4.0,2.0,1.0,3.0,2.0,3.0,1.0,0.0,4.0,2.0,1.0,2.0,3.0,0.0,3.0,2.0,3.0,0.0,0.0,4.0,3.0,0.0,2.0,1.0,1.0,0.0,2.0,3.0,0.0,1.0,1.0,0.0,2.0,4.0,1.0,2.0,2.0,3.0,1.0,2.0,2.0,0.0,1.0,2.0,4.0,3.0,1.0,2.0,4.0,0.0,3.0,3.0,1.0,4.0,3.0,4.0,0.0,0.0,0.0,1.0,0.0,3.0,3.0,2.0,0.0,2.0,0.0,2.0,2.0,1.0,2.0,4.0,3.0,2.0,1.0,4.0,0.0,4.0,0.0,3.0,0.0,0.0,2.0,2.0,4.0,3.0,1.0,1.0,3.0,4.0,0.0,1.0,2.0,3.0,4.0],\"coloraxis\":\"coloraxis\",\"size\":[1.0,1.0,1.0,1.0,1.0,1.0,1.0,1.0,1.0,1.0,1.0,1.0,1.0,1.0,1.0,1.0,1.0,1.0,1.0,1.0,1.0,1.0,1.0,1.0,1.0,1.0,1.0,1.0,1.0,1.0,1.0,1.0,1.0,1.0,1.0,1.0,1.0,1.0,1.0,1.0,1.0,1.0,1.0,1.0,1.0,1.0,1.0,1.0,1.0,1.0,1.0,1.0,1.0,1.0,1.0,1.0,1.0,1.0,1.0,1.0,1.0,1.0,1.0,1.0,1.0,1.0,1.0,1.0,1.0,1.0,1.0,1.0,1.0,1.0,1.0,1.0,1.0,1.0,1.0,1.0,1.0,1.0,1.0,1.0,1.0,1.0,1.0,1.0,1.0,1.0,1.0,1.0,1.0,1.0,1.0,1.0,1.0,1.0,1.0,1.0,3.0,3.0,3.0,3.0,3.0],\"sizemode\":\"area\",\"sizeref\":0.0075,\"symbol\":\"circle\"},\"mode\":\"markers\",\"name\":\"\",\"orientation\":\"v\",\"showlegend\":false,\"x\":[-0.082977995297426,-0.4998856251826551,-0.35324410918288696,-0.3137397886223291,-0.10323252576933006,-0.0808054855967052,-0.29554775026848257,-0.47261240680207384,-0.08269519763287303,-0.35961306140476623,0.30074456867553667,-0.18657582184075716,0.3763891522960383,-0.4149557886302221,-0.3301695804354311,-0.4016531661669499,0.45788953015050193,0.19187711395047335,0.18650092768158366,-0.4817117226558082,0.4888610889064947,-0.21955600793559482,-0.396773993422358,0.40859550309309556,-0.21222466141365126,-0.4806330421297029,-0.28837188399994096,-0.00842684071966171,0.07411760549201307,0.08930553690328424,-0.39766557117217416,0.1944001577277451,-0.45004654105391284,0.16379464521978881,0.44459475599081333,0.4034019152878835,-0.36072365274924145,-0.10232316301446642,0.4275085803960339,0.25081210313615554,0.38330609120580983,0.2509424340273372,-0.23007210823497393,-0.07190881012870509,0.16344149781844808,-0.3852540270466248,-0.050087866520059476,-0.09186319723871883,0.4033795205622538,-0.49712967296884103,-0.17335509822790385,0.3859420993107745,0.4085351509197992,-0.4841787571534437,0.19089691751692395,-0.32765949165467145,0.43259546303716356,-0.4339998272779375,0.2538761884612464,0.21152475862847175,-0.4801198661602044,-0.4716935119792054,0.360027948682888,0.05282197868576588,-0.37582668488008886,0.08575927145828788,0.06103021925570995,0.30063267268061633,0.30710519561877914,0.36354185455942867,0.056240233990418886,-0.44008231048778834,-0.4554481214552383,-0.2742906613921453,0.05971698205414244,-0.4280257203105132,0.06810046191994212,-0.24767425542967658,-0.3045705188906812,0.47001998908831233,-0.26015224085241384,0.11995571838137975,-0.34320860535391573,-0.42997785628077767,0.10632946165333035,-0.18263759067783925,0.07974521924579692,0.05094821911789682,0.1692328934531846,-0.43366516557155843,0.12971750702156448,0.25275555373881387,-0.23968490142145904,-0.30656571737667226,0.02467030912373369,-0.23670322951288902,0.23506596328866947,0.40781585250352403,-0.486048427024403,0.11677835700165762,0.20120801330865676,0.3480235334717306,-0.31871472118813665,-0.35647597286232025,0.07026187408710806],\"xaxis\":\"x\",\"y\":[0.2203244934421581,-0.19766742736816023,-0.4076614052312022,-0.15443927295695226,0.038816734003356945,0.1852195003967595,0.3781174363909454,0.17046751017840223,0.05868982844575166,-0.3018985109151212,0.4682615757193975,0.19232261566931408,0.3946066635038473,-0.46094521676711764,0.37814250342941313,-0.07889237499494783,0.03316528497301707,-0.18448436899393705,0.3346256718973729,0.25014431494496747,0.2481656543798394,0.2892793284514885,-0.052106473824094834,-0.2063858516263205,-0.3699714278817223,0.17883553293989096,-0.2344533406277738,-0.4466374548829196,-0.35327142509418985,0.19975836002093117,-0.08594401218043168,-0.08582073047309735,0.035896405915511576,0.014889112058308562,0.08655504050199292,-0.3625252958537625,0.3073912887095238,-0.3346458028830672,-0.15223414025449344,0.22599798535045146,0.12367220705560888,-0.15110165802215747,0.39588621819606684,0.46484004714838556,0.12169572020912178,0.44948925870707124,0.07838961438713177,-0.2629730197569723,0.07367948667228585,0.11714491362072388,0.027058102257609296,-0.14273023999750023,0.12336011579180273,0.4294372337437613,0.4973228504514805,-0.36286425037112224,0.19681816148990017,0.2554630526024664,0.42302453554648334,-0.3757290380278353,-0.4737890131222807,-0.2537889323969541,0.03883106434165284,0.3420308923596057,-0.2208163209888605,0.46959574831967454,-0.481352710627057,-0.26702572615897957,-0.11213935593582824,0.24712164273718462,-0.363544774339315,-0.37865654425926265,-0.3925058708939071,0.21298898038267666,-0.48744401984088415,0.467276330000272,-0.2967067653390095,0.24382585407509294,0.08135892727325778,0.34682880149003525,-0.006230285731270047,0.32898089955017873,-0.4814237978225905,-0.01365488906296819,0.06885143708648134,0.4886161544124489,-0.1198588273764496,0.2453344309065021,-0.2350804423371906,-0.1299158020858937,-0.2898259900851604,-0.43346351864588506,0.3047545637433454,0.13946088087994013,0.4248079703993507,-0.4340389093159762,0.27217802954324677,0.4319720691968373,-0.2656379138785795,0.44901632068761643,-0.2773681166955987,0.17931696919891849,0.20032021408628328,-0.2991871031761379,0.3694506300838897],\"yaxis\":\"y\",\"type\":\"scatter\"}],\"name\":\"17.0\"},{\"data\":[{\"customdata\":[[0.0],[1.0],[2.0],[3.0],[4.0],[5.0],[6.0],[7.0],[8.0],[9.0],[10.0],[11.0],[12.0],[13.0],[14.0],[15.0],[16.0],[17.0],[18.0],[19.0],[20.0],[21.0],[22.0],[23.0],[24.0],[25.0],[26.0],[27.0],[28.0],[29.0],[30.0],[31.0],[32.0],[33.0],[34.0],[35.0],[36.0],[37.0],[38.0],[39.0],[40.0],[41.0],[42.0],[43.0],[44.0],[45.0],[46.0],[47.0],[48.0],[49.0],[50.0],[51.0],[52.0],[53.0],[54.0],[55.0],[56.0],[57.0],[58.0],[59.0],[60.0],[61.0],[62.0],[63.0],[64.0],[65.0],[66.0],[67.0],[68.0],[69.0],[70.0],[71.0],[72.0],[73.0],[74.0],[75.0],[76.0],[77.0],[78.0],[79.0],[80.0],[81.0],[82.0],[83.0],[84.0],[85.0],[86.0],[87.0],[88.0],[89.0],[90.0],[91.0],[92.0],[93.0],[94.0],[95.0],[96.0],[97.0],[98.0],[99.0],[100.0],[101.0],[102.0],[103.0],[104.0]],\"hovertemplate\":\"<b>%{hovertext}</b><br><br>t=18.0<br>x=%{x}<br>y=%{y}<br>sizes=%{marker.size}<br>point_number=%{customdata[0]}<br>cluster=%{marker.color}<extra></extra>\",\"hovertext\":[4.0,3.0,3.0,3.0,2.0,4.0,2.0,2.0,2.0,3.0,4.0,2.0,1.0,3.0,2.0,3.0,1.0,0.0,4.0,2.0,1.0,2.0,3.0,0.0,3.0,2.0,3.0,0.0,0.0,4.0,3.0,0.0,2.0,1.0,1.0,0.0,2.0,3.0,0.0,1.0,1.0,0.0,2.0,4.0,1.0,2.0,2.0,3.0,1.0,2.0,2.0,0.0,1.0,2.0,4.0,3.0,1.0,2.0,4.0,0.0,3.0,3.0,1.0,4.0,3.0,4.0,0.0,0.0,0.0,1.0,0.0,3.0,3.0,2.0,0.0,2.0,0.0,2.0,2.0,1.0,2.0,4.0,3.0,2.0,1.0,4.0,0.0,4.0,0.0,3.0,0.0,0.0,2.0,2.0,4.0,3.0,1.0,1.0,3.0,4.0,0.0,1.0,2.0,3.0,4.0],\"ids\":[0.0,1.0,2.0,3.0,4.0,5.0,6.0,7.0,8.0,9.0,10.0,11.0,12.0,13.0,14.0,15.0,16.0,17.0,18.0,19.0,20.0,21.0,22.0,23.0,24.0,25.0,26.0,27.0,28.0,29.0,30.0,31.0,32.0,33.0,34.0,35.0,36.0,37.0,38.0,39.0,40.0,41.0,42.0,43.0,44.0,45.0,46.0,47.0,48.0,49.0,50.0,51.0,52.0,53.0,54.0,55.0,56.0,57.0,58.0,59.0,60.0,61.0,62.0,63.0,64.0,65.0,66.0,67.0,68.0,69.0,70.0,71.0,72.0,73.0,74.0,75.0,76.0,77.0,78.0,79.0,80.0,81.0,82.0,83.0,84.0,85.0,86.0,87.0,88.0,89.0,90.0,91.0,92.0,93.0,94.0,95.0,96.0,97.0,98.0,99.0,100.0,101.0,102.0,103.0,104.0],\"legendgroup\":\"\",\"marker\":{\"color\":[4.0,3.0,3.0,3.0,2.0,4.0,2.0,2.0,2.0,3.0,4.0,2.0,1.0,3.0,2.0,3.0,1.0,0.0,4.0,2.0,1.0,2.0,3.0,0.0,3.0,2.0,3.0,0.0,0.0,4.0,3.0,0.0,2.0,1.0,1.0,0.0,2.0,3.0,0.0,1.0,1.0,0.0,2.0,4.0,1.0,2.0,2.0,3.0,1.0,2.0,2.0,0.0,1.0,2.0,4.0,3.0,1.0,2.0,4.0,0.0,3.0,3.0,1.0,4.0,3.0,4.0,0.0,0.0,0.0,1.0,0.0,3.0,3.0,2.0,0.0,2.0,0.0,2.0,2.0,1.0,2.0,4.0,3.0,2.0,1.0,4.0,0.0,4.0,0.0,3.0,0.0,0.0,2.0,2.0,4.0,3.0,1.0,1.0,3.0,4.0,0.0,1.0,2.0,3.0,4.0],\"coloraxis\":\"coloraxis\",\"size\":[1.0,1.0,1.0,1.0,1.0,1.0,1.0,1.0,1.0,1.0,1.0,1.0,1.0,1.0,1.0,1.0,1.0,1.0,1.0,1.0,1.0,1.0,1.0,1.0,1.0,1.0,1.0,1.0,1.0,1.0,1.0,1.0,1.0,1.0,1.0,1.0,1.0,1.0,1.0,1.0,1.0,1.0,1.0,1.0,1.0,1.0,1.0,1.0,1.0,1.0,1.0,1.0,1.0,1.0,1.0,1.0,1.0,1.0,1.0,1.0,1.0,1.0,1.0,1.0,1.0,1.0,1.0,1.0,1.0,1.0,1.0,1.0,1.0,1.0,1.0,1.0,1.0,1.0,1.0,1.0,1.0,1.0,1.0,1.0,1.0,1.0,1.0,1.0,1.0,1.0,1.0,1.0,1.0,1.0,1.0,1.0,1.0,1.0,1.0,1.0,3.0,3.0,3.0,3.0,3.0],\"sizemode\":\"area\",\"sizeref\":0.0075,\"symbol\":\"circle\"},\"mode\":\"markers\",\"name\":\"\",\"orientation\":\"v\",\"showlegend\":false,\"x\":[-0.082977995297426,-0.4998856251826551,-0.35324410918288696,-0.3137397886223291,-0.10323252576933006,-0.0808054855967052,-0.29554775026848257,-0.47261240680207384,-0.08269519763287303,-0.35961306140476623,0.30074456867553667,-0.18657582184075716,0.3763891522960383,-0.4149557886302221,-0.3301695804354311,-0.4016531661669499,0.45788953015050193,0.19187711395047335,0.18650092768158366,-0.4817117226558082,0.4888610889064947,-0.21955600793559482,-0.396773993422358,0.40859550309309556,-0.21222466141365126,-0.4806330421297029,-0.28837188399994096,-0.00842684071966171,0.07411760549201307,0.08930553690328424,-0.39766557117217416,0.1944001577277451,-0.45004654105391284,0.16379464521978881,0.44459475599081333,0.4034019152878835,-0.36072365274924145,-0.10232316301446642,0.4275085803960339,0.25081210313615554,0.38330609120580983,0.2509424340273372,-0.23007210823497393,-0.07190881012870509,0.16344149781844808,-0.3852540270466248,-0.050087866520059476,-0.09186319723871883,0.4033795205622538,-0.49712967296884103,-0.17335509822790385,0.3859420993107745,0.4085351509197992,-0.4841787571534437,0.19089691751692395,-0.32765949165467145,0.43259546303716356,-0.4339998272779375,0.2538761884612464,0.21152475862847175,-0.4801198661602044,-0.4716935119792054,0.360027948682888,0.05282197868576588,-0.37582668488008886,0.08575927145828788,0.06103021925570995,0.30063267268061633,0.30710519561877914,0.36354185455942867,0.056240233990418886,-0.44008231048778834,-0.4554481214552383,-0.2742906613921453,0.05971698205414244,-0.4280257203105132,0.06810046191994212,-0.24767425542967658,-0.3045705188906812,0.47001998908831233,-0.26015224085241384,0.11995571838137975,-0.34320860535391573,-0.42997785628077767,0.10632946165333035,-0.18263759067783925,0.07974521924579692,0.05094821911789682,0.1692328934531846,-0.43366516557155843,0.12971750702156448,0.25275555373881387,-0.23968490142145904,-0.30656571737667226,0.02467030912373369,-0.23670322951288902,0.23506596328866947,0.40781585250352403,-0.486048427024403,0.11677835700165762,0.20120801330865676,0.3480235334717306,-0.3157124414868205,-0.3583077010695947,0.07026187408710806],\"xaxis\":\"x\",\"y\":[0.2203244934421581,-0.19766742736816023,-0.4076614052312022,-0.15443927295695226,0.038816734003356945,0.1852195003967595,0.3781174363909454,0.17046751017840223,0.05868982844575166,-0.3018985109151212,0.4682615757193975,0.19232261566931408,0.3946066635038473,-0.46094521676711764,0.37814250342941313,-0.07889237499494783,0.03316528497301707,-0.18448436899393705,0.3346256718973729,0.25014431494496747,0.2481656543798394,0.2892793284514885,-0.052106473824094834,-0.2063858516263205,-0.3699714278817223,0.17883553293989096,-0.2344533406277738,-0.4466374548829196,-0.35327142509418985,0.19975836002093117,-0.08594401218043168,-0.08582073047309735,0.035896405915511576,0.014889112058308562,0.08655504050199292,-0.3625252958537625,0.3073912887095238,-0.3346458028830672,-0.15223414025449344,0.22599798535045146,0.12367220705560888,-0.15110165802215747,0.39588621819606684,0.46484004714838556,0.12169572020912178,0.44948925870707124,0.07838961438713177,-0.2629730197569723,0.07367948667228585,0.11714491362072388,0.027058102257609296,-0.14273023999750023,0.12336011579180273,0.4294372337437613,0.4973228504514805,-0.36286425037112224,0.19681816148990017,0.2554630526024664,0.42302453554648334,-0.3757290380278353,-0.4737890131222807,-0.2537889323969541,0.03883106434165284,0.3420308923596057,-0.2208163209888605,0.46959574831967454,-0.481352710627057,-0.26702572615897957,-0.11213935593582824,0.24712164273718462,-0.363544774339315,-0.37865654425926265,-0.3925058708939071,0.21298898038267666,-0.48744401984088415,0.467276330000272,-0.2967067653390095,0.24382585407509294,0.08135892727325778,0.34682880149003525,-0.006230285731270047,0.32898089955017873,-0.4814237978225905,-0.01365488906296819,0.06885143708648134,0.4886161544124489,-0.1198588273764496,0.2453344309065021,-0.2350804423371906,-0.1299158020858937,-0.2898259900851604,-0.43346351864588506,0.3047545637433454,0.13946088087994013,0.4248079703993507,-0.4340389093159762,0.27217802954324677,0.4319720691968373,-0.2656379138785795,0.44901632068761643,-0.2773681166955987,0.17931696919891849,0.21002893285206703,-0.28795616547831776,0.3694506300838897],\"yaxis\":\"y\",\"type\":\"scatter\"}],\"name\":\"18.0\"},{\"data\":[{\"customdata\":[[0.0],[1.0],[2.0],[3.0],[4.0],[5.0],[6.0],[7.0],[8.0],[9.0],[10.0],[11.0],[12.0],[13.0],[14.0],[15.0],[16.0],[17.0],[18.0],[19.0],[20.0],[21.0],[22.0],[23.0],[24.0],[25.0],[26.0],[27.0],[28.0],[29.0],[30.0],[31.0],[32.0],[33.0],[34.0],[35.0],[36.0],[37.0],[38.0],[39.0],[40.0],[41.0],[42.0],[43.0],[44.0],[45.0],[46.0],[47.0],[48.0],[49.0],[50.0],[51.0],[52.0],[53.0],[54.0],[55.0],[56.0],[57.0],[58.0],[59.0],[60.0],[61.0],[62.0],[63.0],[64.0],[65.0],[66.0],[67.0],[68.0],[69.0],[70.0],[71.0],[72.0],[73.0],[74.0],[75.0],[76.0],[77.0],[78.0],[79.0],[80.0],[81.0],[82.0],[83.0],[84.0],[85.0],[86.0],[87.0],[88.0],[89.0],[90.0],[91.0],[92.0],[93.0],[94.0],[95.0],[96.0],[97.0],[98.0],[99.0],[100.0],[101.0],[102.0],[103.0],[104.0]],\"hovertemplate\":\"<b>%{hovertext}</b><br><br>t=19.0<br>x=%{x}<br>y=%{y}<br>sizes=%{marker.size}<br>point_number=%{customdata[0]}<br>cluster=%{marker.color}<extra></extra>\",\"hovertext\":[4.0,3.0,3.0,3.0,2.0,2.0,2.0,2.0,2.0,3.0,4.0,2.0,1.0,3.0,2.0,3.0,1.0,0.0,4.0,2.0,1.0,2.0,3.0,0.0,3.0,2.0,3.0,0.0,0.0,4.0,3.0,0.0,2.0,1.0,1.0,0.0,2.0,3.0,0.0,1.0,1.0,0.0,2.0,4.0,1.0,2.0,2.0,3.0,1.0,2.0,2.0,0.0,1.0,2.0,4.0,3.0,1.0,2.0,4.0,0.0,3.0,3.0,1.0,4.0,3.0,4.0,0.0,0.0,0.0,1.0,0.0,3.0,3.0,2.0,0.0,2.0,0.0,2.0,2.0,1.0,2.0,4.0,3.0,2.0,1.0,4.0,0.0,4.0,0.0,3.0,0.0,0.0,2.0,2.0,4.0,3.0,1.0,1.0,3.0,4.0,0.0,1.0,2.0,3.0,4.0],\"ids\":[0.0,1.0,2.0,3.0,4.0,5.0,6.0,7.0,8.0,9.0,10.0,11.0,12.0,13.0,14.0,15.0,16.0,17.0,18.0,19.0,20.0,21.0,22.0,23.0,24.0,25.0,26.0,27.0,28.0,29.0,30.0,31.0,32.0,33.0,34.0,35.0,36.0,37.0,38.0,39.0,40.0,41.0,42.0,43.0,44.0,45.0,46.0,47.0,48.0,49.0,50.0,51.0,52.0,53.0,54.0,55.0,56.0,57.0,58.0,59.0,60.0,61.0,62.0,63.0,64.0,65.0,66.0,67.0,68.0,69.0,70.0,71.0,72.0,73.0,74.0,75.0,76.0,77.0,78.0,79.0,80.0,81.0,82.0,83.0,84.0,85.0,86.0,87.0,88.0,89.0,90.0,91.0,92.0,93.0,94.0,95.0,96.0,97.0,98.0,99.0,100.0,101.0,102.0,103.0,104.0],\"legendgroup\":\"\",\"marker\":{\"color\":[4.0,3.0,3.0,3.0,2.0,2.0,2.0,2.0,2.0,3.0,4.0,2.0,1.0,3.0,2.0,3.0,1.0,0.0,4.0,2.0,1.0,2.0,3.0,0.0,3.0,2.0,3.0,0.0,0.0,4.0,3.0,0.0,2.0,1.0,1.0,0.0,2.0,3.0,0.0,1.0,1.0,0.0,2.0,4.0,1.0,2.0,2.0,3.0,1.0,2.0,2.0,0.0,1.0,2.0,4.0,3.0,1.0,2.0,4.0,0.0,3.0,3.0,1.0,4.0,3.0,4.0,0.0,0.0,0.0,1.0,0.0,3.0,3.0,2.0,0.0,2.0,0.0,2.0,2.0,1.0,2.0,4.0,3.0,2.0,1.0,4.0,0.0,4.0,0.0,3.0,0.0,0.0,2.0,2.0,4.0,3.0,1.0,1.0,3.0,4.0,0.0,1.0,2.0,3.0,4.0],\"coloraxis\":\"coloraxis\",\"size\":[1.0,1.0,1.0,1.0,1.0,1.0,1.0,1.0,1.0,1.0,1.0,1.0,1.0,1.0,1.0,1.0,1.0,1.0,1.0,1.0,1.0,1.0,1.0,1.0,1.0,1.0,1.0,1.0,1.0,1.0,1.0,1.0,1.0,1.0,1.0,1.0,1.0,1.0,1.0,1.0,1.0,1.0,1.0,1.0,1.0,1.0,1.0,1.0,1.0,1.0,1.0,1.0,1.0,1.0,1.0,1.0,1.0,1.0,1.0,1.0,1.0,1.0,1.0,1.0,1.0,1.0,1.0,1.0,1.0,1.0,1.0,1.0,1.0,1.0,1.0,1.0,1.0,1.0,1.0,1.0,1.0,1.0,1.0,1.0,1.0,1.0,1.0,1.0,1.0,1.0,1.0,1.0,1.0,1.0,1.0,1.0,1.0,1.0,1.0,1.0,3.0,3.0,3.0,3.0,3.0],\"sizemode\":\"area\",\"sizeref\":0.0075,\"symbol\":\"circle\"},\"mode\":\"markers\",\"name\":\"\",\"orientation\":\"v\",\"showlegend\":false,\"x\":[-0.082977995297426,-0.4998856251826551,-0.35324410918288696,-0.3137397886223291,-0.10323252576933006,-0.0808054855967052,-0.29554775026848257,-0.47261240680207384,-0.08269519763287303,-0.35961306140476623,0.30074456867553667,-0.18657582184075716,0.3763891522960383,-0.4149557886302221,-0.3301695804354311,-0.4016531661669499,0.45788953015050193,0.19187711395047335,0.18650092768158366,-0.4817117226558082,0.4888610889064947,-0.21955600793559482,-0.396773993422358,0.40859550309309556,-0.21222466141365126,-0.4806330421297029,-0.28837188399994096,-0.00842684071966171,0.07411760549201307,0.08930553690328424,-0.39766557117217416,0.1944001577277451,-0.45004654105391284,0.16379464521978881,0.44459475599081333,0.4034019152878835,-0.36072365274924145,-0.10232316301446642,0.4275085803960339,0.25081210313615554,0.38330609120580983,0.2509424340273372,-0.23007210823497393,-0.07190881012870509,0.16344149781844808,-0.3852540270466248,-0.050087866520059476,-0.09186319723871883,0.4033795205622538,-0.49712967296884103,-0.17335509822790385,0.3859420993107745,0.4085351509197992,-0.4841787571534437,0.19089691751692395,-0.32765949165467145,0.43259546303716356,-0.4339998272779375,0.2538761884612464,0.21152475862847175,-0.4801198661602044,-0.4716935119792054,0.360027948682888,0.05282197868576588,-0.37582668488008886,0.08575927145828788,0.06103021925570995,0.30063267268061633,0.30710519561877914,0.36354185455942867,0.056240233990418886,-0.44008231048778834,-0.4554481214552383,-0.2742906613921453,0.05971698205414244,-0.4280257203105132,0.06810046191994212,-0.24767425542967658,-0.3045705188906812,0.47001998908831233,-0.26015224085241384,0.11995571838137975,-0.34320860535391573,-0.42997785628077767,0.10632946165333035,-0.18263759067783925,0.07974521924579692,0.05094821911789682,0.1692328934531846,-0.43366516557155843,0.12971750702156448,0.25275555373881387,-0.23968490142145904,-0.30656571737667226,0.02467030912373369,-0.23670322951288902,0.23506596328866947,0.40781585250352403,-0.486048427024403,0.11677835700165762,0.20120801330865676,0.3480235334717306,-0.3157124414868205,-0.3583077010695947,0.07026187408710806],\"xaxis\":\"x\",\"y\":[0.2203244934421581,-0.19766742736816023,-0.4076614052312022,-0.15443927295695226,0.038816734003356945,0.1852195003967595,0.3781174363909454,0.17046751017840223,0.05868982844575166,-0.3018985109151212,0.4682615757193975,0.19232261566931408,0.3946066635038473,-0.46094521676711764,0.37814250342941313,-0.07889237499494783,0.03316528497301707,-0.18448436899393705,0.3346256718973729,0.25014431494496747,0.2481656543798394,0.2892793284514885,-0.052106473824094834,-0.2063858516263205,-0.3699714278817223,0.17883553293989096,-0.2344533406277738,-0.4466374548829196,-0.35327142509418985,0.19975836002093117,-0.08594401218043168,-0.08582073047309735,0.035896405915511576,0.014889112058308562,0.08655504050199292,-0.3625252958537625,0.3073912887095238,-0.3346458028830672,-0.15223414025449344,0.22599798535045146,0.12367220705560888,-0.15110165802215747,0.39588621819606684,0.46484004714838556,0.12169572020912178,0.44948925870707124,0.07838961438713177,-0.2629730197569723,0.07367948667228585,0.11714491362072388,0.027058102257609296,-0.14273023999750023,0.12336011579180273,0.4294372337437613,0.4973228504514805,-0.36286425037112224,0.19681816148990017,0.2554630526024664,0.42302453554648334,-0.3757290380278353,-0.4737890131222807,-0.2537889323969541,0.03883106434165284,0.3420308923596057,-0.2208163209888605,0.46959574831967454,-0.481352710627057,-0.26702572615897957,-0.11213935593582824,0.24712164273718462,-0.363544774339315,-0.37865654425926265,-0.3925058708939071,0.21298898038267666,-0.48744401984088415,0.467276330000272,-0.2967067653390095,0.24382585407509294,0.08135892727325778,0.34682880149003525,-0.006230285731270047,0.32898089955017873,-0.4814237978225905,-0.01365488906296819,0.06885143708648134,0.4886161544124489,-0.1198588273764496,0.2453344309065021,-0.2350804423371906,-0.1299158020858937,-0.2898259900851604,-0.43346351864588506,0.3047545637433454,0.13946088087994013,0.4248079703993507,-0.4340389093159762,0.27217802954324677,0.4319720691968373,-0.2656379138785795,0.44901632068761643,-0.2773681166955987,0.17931696919891849,0.21002893285206703,-0.28795616547831776,0.3694506300838897],\"yaxis\":\"y\",\"type\":\"scatter\"}],\"name\":\"19.0\"}]);\n",
       "                        }).then(function(){\n",
       "                            \n",
       "var gd = document.getElementById('f223c7fd-db61-4981-b084-27a4dbe9c807');\n",
       "var x = new MutationObserver(function (mutations, observer) {{\n",
       "        var display = window.getComputedStyle(gd).display;\n",
       "        if (!display || display === 'none') {{\n",
       "            console.log([gd, 'removed!']);\n",
       "            Plotly.purge(gd);\n",
       "            observer.disconnect();\n",
       "        }}\n",
       "}});\n",
       "\n",
       "// Listen for the removal of the full notebook cells\n",
       "var notebookContainer = gd.closest('#notebook-container');\n",
       "if (notebookContainer) {{\n",
       "    x.observe(notebookContainer, {childList: true});\n",
       "}}\n",
       "\n",
       "// Listen for the clearing of the current output cell\n",
       "var outputEl = gd.closest('.output');\n",
       "if (outputEl) {{\n",
       "    x.observe(outputEl, {childList: true});\n",
       "}}\n",
       "\n",
       "                        })                };                });            </script>        </div>"
      ]
     },
     "metadata": {},
     "output_type": "display_data"
    }
   ],
   "source": [
    "#| code-fold: true\n",
    "#| code-summary: \"Show the code\" \n",
    "#| label: fig-kmeans-movie\n",
    "#| fig-cap: \"In this movie, each step will either be the 'membership' step or the 'centroid moving' step.\"\n",
    "\n",
    "\n",
    "centroids = orig_centroids.copy() # start over\n",
    "cluster_memb = -1+np.zeros( (datak.shape[0],1) ,dtype=int) \n",
    "maxiter = 10\n",
    "plot_kmeans(datak, centroids, cluster_memb=cluster_memb)\n",
    "ts = np.arange(2*maxiter,dtype=int)\n",
    "\n",
    "columns = ['t','x','y','sizes','cluster','point_number']\n",
    "total_points = npoints + k  # points + clusters\n",
    "movie_data = np.zeros( (len(ts)*total_points, len(columns)) )  # giant data array for all data points at all times\n",
    "movie_data[:,0] = np.repeat(ts, total_points)          # t\n",
    "\n",
    "xs = np.concatenate( ( datak[:,0], centroids[:,0] ) ) # initial xs\n",
    "ys = np.concatenate( ( datak[:,1], centroids[:,1] ) ) # initial ys\n",
    "movie_data[:,1] = np.tile(xs, len(ts))\n",
    "movie_data[:,2] = np.tile(ys, len(ts))\n",
    "\n",
    "sizes = np.ones(total_points,dtype=int)\n",
    "sizes[-k:] = 3\n",
    "movie_data[:,3] = np.tile(sizes, len(ts)) # sizes is repeated for all times\n",
    "\n",
    "cs = -2 + np.ones(total_points,dtype=int)\n",
    "cs[-k:] = np.arange(k, dtype=int)\n",
    "movie_data[:,4] = np.tile(cs, len(ts))\n",
    "\n",
    "movie_data[:,5] = np.tile(np.arange(total_points), len(ts))  # point_number is repeated for all time\n",
    "\n",
    "for t in ts:\n",
    "    if t==0: \n",
    "        continue # leave initial data as step 0\n",
    "    elif t % 2 == 1: \n",
    "        cluster_memb = calc_cluster_membership(datak, centroids)\n",
    "    else:\n",
    "        centroids = move_centroids(centroids, datak, cluster_memb)\n",
    "\n",
    "    start, end = t*total_points, (t+1)*total_points  \n",
    "    movie_data[start:end, 1] = np.concatenate( (datak[:,0], centroids[:,0]) )    # xs\n",
    "    movie_data[start:end, 2] = np.concatenate( (datak[:,1], centroids[:,1]) )    # ys\n",
    "    movie_data[start:end, 4] = np.concatenate( (cluster_memb, np.arange(k, dtype=int)) )  # cluster membership\n",
    "    \n",
    "    \n",
    "df = pd.DataFrame(movie_data, columns=columns)\n",
    "#df['cluster'] = df['cluster'].astype(int).astype(str) # use discrete colormap\n",
    "#display(df)\n",
    "\n",
    "\n",
    "fig = px.scatter(df, x=\"x\", y=\"y\", animation_frame=\"t\", animation_group=\"point_number\",\n",
    "           color=\"cluster\", hover_name=\"cluster\", hover_data=['point_number'],\n",
    "           size='sizes', width=550, height=600, range_color=(-1,k), color_continuous_scale='Turbo'\n",
    "           )\n",
    "fig.layout.updatemenus[0].buttons[0].args[1][\"transition\"][\"duration\"] = 0 # don't interpolate frames\n",
    "display(fig)\n",
    "#print(\"Caption: In this movie, each step will either be the 'membership' step or \\nthe 'centroid moving' step.\")"
   ]
  },
  {
   "cell_type": "code",
   "execution_count": null,
   "id": "4c60e709",
   "metadata": {},
   "outputs": [],
   "source": []
  }
 ],
 "metadata": {
  "kernelspec": {
   "display_name": "Python 3 (ipykernel)",
   "language": "python",
   "name": "python3"
  }
 },
 "nbformat": 4,
 "nbformat_minor": 5
}
