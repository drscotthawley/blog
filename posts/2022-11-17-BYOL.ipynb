{
 "cells": [
  {
   "cell_type": "raw",
   "id": "bbc181dc",
   "metadata": {},
   "source": [
    "---\n",
    "aliases:\n",
    "- /2022/11/17/BYOL\n",
    "author: Scott H. Hawley\n",
    "badges: true\n",
    "date: '2022-11-17'\n",
    "categories:\n",
    "- ssl\n",
    "description: \"Now that we understand contrastive losses and what they're good for --\n",
    "  let's get rid of them!\"\n",
    "image: https://production-media.paperswithcode.com/methods/Screenshot_2021-03-15_at_19.58.32_ENGHInW.png\n",
    "output-file: 2022-11-17-byol.html\n",
    "title: \"BYOL - Contrastive Representation Learning without Contrastive Losses\"\n",
    "toc: true\n",
    "\n",
    "---\n"
   ]
  },
  {
   "cell_type": "markdown",
   "id": "5785dd90",
   "metadata": {},
   "source": [
    "*\"In this work, we thus tasked ourselves to find out whether...negative examples are indispensable to prevent collapsing while preserving high performance.\"* -- the BYOL paper\n",
    "\n",
    "## References:\n",
    "\n",
    "This post is indebted to\n",
    "* [The Bootstrap Your Own Latent (BYOL) paper](https://arxiv.org/pdf/2006.07733.pdf) by Grill et al -- you could just stop reading my blog and read that, it's not a scary paper! (And yes, actually use the arXiv version because it's got extra figures not in the NeurIPS version I found.)   \n",
    "* The [wonderful tutorial from The AI Summer](https://theaisummer.com/byol/) by Nikolas Adaloglou\n",
    "* The [\"BYOL-A: BYOL for Audio\" paper](https://arxiv.org/pdf/2103.06695.pdf) by Nizumi et al\n",
    "* The [`byol-pytorch`](https://github.com/lucidrains/byol-pytorch) code repository by Phil Wang aka lucidrains"
   ]
  },
  {
   "cell_type": "markdown",
   "id": "e1b5e7bc",
   "metadata": {},
   "source": [
    "## Review\n",
    "Previously, on \"Trying to Understand Embeddings, with Scott\", i.e. [Part 3 of my blog series](https://drscotthawley.github.io/blog/2021/08/01/Live-CL-Demo.html), we'd worked out way to think of embeddings, and contrastive losses, and even built a toy model. \n",
    "\n",
    "In the toy model there were pairwise losses (boo!) and triplet losses (yay!), and even an \"Attract Only\" option whereby we got rid of 'repulsion' entirely. After the \"Attract Only\" ran, we would rescale the answers and that rescaling would produce a kind of \"repulsion\".  In that sense, the \"Attract Only\" method was one way to \"remove the contrastive loss\" thing. \n",
    "\n",
    "...uh... but as far as I know, nobody does that.  The [SimCLR](https://arxiv.org/abs/2002.05709) (\"sim-clear\") method mentioned a bit in earlier posts and elsewhere is one way of dealing with the problem of finding \"challenging\" negative examples, by working on a kind of \"attraction\", but not as naive as the toy model I made. \n",
    "\n",
    "\n",
    "BYOL is another way to simplify 'contrastive' learning and avoid hard-negative mining and it seems a bit like \"attract only\" in that it no longer means *explicitly* including a respulsive term in the loss function, but BYOL different from SimCLR and not as naive as my own scheme.  Instead, BYOL, uses an another network to do some comparisons. \n",
    "\n",
    "Recal that the goal of these systems is to get \"good\", \"semantically meaningful\" representations, however we can.  If it takes multiple networks to do that, no worries.\n",
    "\n",
    "In [Part 2](https://drscotthawley.github.io/blog/scottergories/2021/06/17/Contrasting-Contrastive-Loss.html) of this blog series, we looked at Siamese Networks, where two copies of the same network are employed for pairwise contrastive learning.  With BYOL however, the two networks have the same architectures but *different weights*, and this difference helps to force \"semantically interesting\" embedding choices.\n",
    "\n",
    "> **Anthropomorphism**: The use of two very different networks to try to arrive at similar embedding points is akin to having two very different people talk about something (while each trying on lots of very different funny-colored eyeglasses!) and iteratively refine their understanding through discussion until they can come to (some sufficient level of) agreement."
   ]
  },
  {
   "cell_type": "markdown",
   "id": "f6201121",
   "metadata": {},
   "source": [
    "## Strategy: How we're going to do this\n",
    "I'm a firm believer in toy models, so my plan is to use the [Fashion-MNIST](https://github.com/zalandoresearch/fashion-mnist) dataset and then BYOL-embed a 3-dimensional set of represenations that we can look at and play with.\n",
    "\n",
    "Oh, and since BYOL is a self-supervised method, we're going to *throw away the labels* from Fashion-MNIST ;-). "
   ]
  },
  {
   "cell_type": "markdown",
   "id": "85f46727",
   "metadata": {},
   "source": [
    "## How BYOL Works\n",
    "\n",
    "### In Diagrams\n",
    "\n",
    "First let's steal multiple diagrams that all attempt to show the same thing.\n",
    "\n",
    "From the original BYOL paper, we have this one: \n",
    "![byol_orig_process](images/byol_orig_proc_diagram.png)\n",
    "\n",
    "> *\"BYOL’s goal is to learn a representation $y_\\theta$ which can then be used for downstream tasks.\"* -- the BYOL paper.  \n",
    "\n",
    "> So beyond the \"representation\" parts we want to ultimately use, we'll tack on additional \"projection\" parts (and even a \"prediction\" part) to facilitate the training. "
   ]
  },
  {
   "cell_type": "markdown",
   "id": "1e1d4624",
   "metadata": {},
   "source": [
    "Later in the BYOL paper (Figure 8), we have this version:\n",
    "![byol_aisummer_process](images/byol_aisummer_proc.png)"
   ]
  },
  {
   "cell_type": "markdown",
   "id": "45964dbb",
   "metadata": {},
   "source": [
    "And from the BYOL-A paper we have this version: \n",
    "![byol-a process diagram](images/byola_proc_diagram.png)"
   ]
  },
  {
   "cell_type": "markdown",
   "id": "26d82ed4",
   "metadata": {},
   "source": [
    "In each case, what we see are 3 main parts:\n",
    "\n",
    "1. A single input ($x$) gets modified in two different ways ($v$ and $v')$. The two different ways are termed *views*.  \n",
    "2. Each view is sent through a different network (\"online\" or \"target\") and gets mapped to the *same* embedding space.  \n",
    "3. Then the loss/training is about minimizing the distance between those points in the embeddings space. \n",
    "\n",
    ":::{.callout-note}\n",
    "\n",
    "there is only minimizing, i.e. \"attraction\" going on. There is no \"repulsion\".\n",
    "\n",
    ":::\n",
    "\n",
    "Those were broad strokes.  What about the details?  What about the \"exponential moving average\" bit, and the $q_\\theta(z_\\theta)$ and $z'_\\xi$, and that...equation?  We'll get there. \n",
    "\n",
    "> Note also that we don't \"want to keep\" those points $q_\\theta(z_\\theta)$ and $z'_\\xi$, they're just used along the way to help us learn the representations $y_\\theta$. "
   ]
  },
  {
   "cell_type": "markdown",
   "id": "79ef408e",
   "metadata": {},
   "source": [
    "### Contrastive Learning Without Contrastive Loss, via Different Networks\n",
    "\n",
    "The two networks aren't *totally* different.  If you look at the second diagram above (with the dogs), you'll see that the the first couple layers (in yellow) are of the same types: ResNet then MLP.  They don't have the same weights, but the weights are \"related\". \n",
    "\n",
    "And one of the networks (the \"target\") learns \"slower\" than the other (\"online\") network... in a sense.  This is the \"exponential moving average\" (EMA) part. EMA gets used in many contexts in machine learning (ML) to try to help keep things stable so that the system doesn't jump around too much, i.e. to keep the system from behaving erratically.  Think of reinforcement learning, where you want your robot to smoothly improve its position information instead of undergoing wild overcorrections. \n",
    "\n",
    ":::{.callout-note}\n",
    "\n",
    "In some ML contexts, the slower-learning network is called the \"teacher\" rather than the \"target\", and the \"online\" network is termed the \"student\". [Here's a link for an influential paper on \"Teacher-Student\" models](https://paperswithcode.com/paper/knowledge-distillation-and-student-teacher).  I find this terminology to be counter-intutitive because in the BYOL case the \"student\" would be *teaching* the \"teacher\".\n",
    "\n",
    ":::\n",
    "\n",
    "The target network gets its weights *only* from the EMA of the corresponding weights in the online network.  The target weights are not obtained via gradient descent; only the online weights are updated via gradient descent.)  In other words, if the online weights are $\\theta$ and the target weights are $\\xi$, then the EMA operation consists of\n",
    "\n",
    "$$\\xi \\leftarrow \\tau \\xi + (1 - \\tau) \\theta, $$\n",
    "for some choice of the \"EMA spread/strength\" (hyper)parameter $\\tau$. \n",
    "\n",
    "The terms \"target\" and \"online\" can also refer to the representation \"points\" in the embedding space. Using such terminology, the BYOL paper explains the method this way: \n",
    "\n",
    "> *\"the core\n",
    "motivation for BYOL: from a given representation, referred to as target, we can train a new, potentially\n",
    "enhanced representation, referred to as online, by predicting the target representation. From there, we\n",
    "can expect to build a sequence of representations of increasing quality by iterating this procedure, using subsequent online networks as new target networks for further training...\"*\n",
    "\n",
    "...i.e. we update the target (a bit, using the EMA) and do it all again. \n",
    "\n",
    "Ok, so then what's with the extra \"projection\" and \"prediction\" layers?  "
   ]
  },
  {
   "cell_type": "markdown",
   "id": "625fb142",
   "metadata": {},
   "source": [
    "### The Mapping Functions\n",
    "\n",
    ":::{.callout-note}\n",
    "\n",
    "The BYOL authors use the subscript \"${}_\\theta$\" to refer to weights in the online network, and the subscript \"${}_\\xi$\" to refer to weights in the target network.  Vectors in the target network are also denoted via primes, e.g., $v'$, $y'$, $z'$.\n",
    "\n",
    ":::\n",
    "\n",
    "* **Encoder $f$** ($f_\\theta$ and $f_\\xi$): Views (i.e., $v$ and $v'$, i.e., augmented versions of the input $x$) are mapped to embeddings $y$ ($y_\\theta$ in the online network) via the \"encoder\" function $f$ ($f_\\theta$ online). And remember, *\"BYOL’s goal is to learn a representation $y_\\theta$ which can then be used for downstream tasks.\"*  For images, $f$ is typically a ResNet. \n",
    "\n",
    "* **Projector $g$** ($g_\\theta$ and $g_\\xi$): Maps the embeddings $y$ to points $z$ in the space where loss will be evaluated. In particular, $z'_\\xi$ is important because it's a point output by the target network, which the online network is going to try to \"predict\".  $g$ can just be an MLP (though see below for comments about BatchNorm).\n",
    "\n",
    "* **Predictor $q_\\theta$**: is only on the online network.  The predictors output $q_\\theta(z_\\theta)$ is the online network's *prediction* of the target network's output $z'_\\xi$.  "
   ]
  },
  {
   "cell_type": "markdown",
   "id": "88095509",
   "metadata": {},
   "source": [
    "### Hold up: Questions\n",
    "\n",
    "1. Why's the predictor there at all?  In other words, why can't we just compare $z_\\theta$ and $z'_\\xi$ without this additional $q_\\theta$ function?  \n",
    "\n",
    "2. And for that matter, why can't we just compare $y_\\theta$ and $y'_\\xi$ directly? \n",
    "\n",
    "Let's answer these in reverse order: \n",
    "\n",
    "<ol start=\"2\" reversed=\"reversed\">\n",
    "    <li>Comparing $y_\\theta$ and $y'_\\xi$ is what we were already doing before with ordinary contrastive losses.</li>\n",
    "    <li>And then SimCLR came along and introduced an additional mapping function akin to our \"projector\" $g$ in which we could compare $z_\\theta$ and $z'_\\xi$ -- so that's been tried already.  And it does work quite well for assisting with contrastive representation learning without having to worry to much about finding \"hard negatives\".</li>\n",
    "</ol>\n",
    "\n",
    "But now we're trying something different, with the goal of avoiding negative examples (i.e. contrastive losses) and the goal of...beating SimCLR. ;-) So bear with this discussion!"
   ]
  },
  {
   "cell_type": "markdown",
   "id": "4fe3739f",
   "metadata": {},
   "source": [
    "### The Loss\n",
    "We define a loss in the \"projected\" space between the points $q_\\theta(z_\\theta)$ and $z'_\\xi$, that's just the ordinary mean L2 norm (\"Euclidean distance\") between them. So"
   ]
  },
  {
   "cell_type": "markdown",
   "id": "4399fa18",
   "metadata": {},
   "source": [
    "$$\\mathcal{L}_{\\theta\\xi}= ||\\bar{q_{\\theta}}(z_\\theta) - \\bar{z}'_\\xi||_2^2$$\n",
    "\n",
    "Or you can write it in terms of a dot product normalized by the magnitudes, which is what we see written in the BYOL paper: \n",
    "\n",
    "$$\\mathcal{L}_{\\theta\\xi} = 2 - 2\\cdot\\frac{\\langle q_\\theta(z_\\theta),  z'_\\xi \\rangle }{\\big\\|q_\\theta(z_\\theta)\\big\\|_2\\cdot \\big\\|z'_\\xi\\big\\|_2  }\n",
    "$$\n",
    "\n",
    "If that reminds you of a cosine similarity -- good, because that's exactly what it is. See, the graph of $2(1-\\cos x)$ has a nice minimum when its argument is zero, kind of like a parabola on a certain domain:"
   ]
  },
  {
   "cell_type": "code",
   "execution_count": null,
   "id": "46ec36a4",
   "metadata": {},
   "outputs": [
    {
     "data": {
      "text/plain": [
       "[<matplotlib.lines.Line2D>]"
      ]
     },
     "execution_count": null,
     "metadata": {},
     "output_type": "execute_result"
    },
    {
     "data": {
      "image/png": "[encoded data removed]",
      "text/plain": [
       "<Figure size 640x480 with 1 Axes>"
      ]
     },
     "metadata": {},
     "output_type": "display_data"
    }
   ],
   "source": [
    "#|hide\n",
    "import matplotlib.pyplot as plt\n",
    "import numpy as np \n",
    "x = np.linspace(-np.pi, np.pi,num=100)\n",
    "plt.xlabel('x')\n",
    "plt.ylabel('2 - 2 cos(x)')\n",
    "plt.plot(x, 2*(1-np.cos(x)))"
   ]
  },
  {
   "cell_type": "markdown",
   "id": "c672382c",
   "metadata": {},
   "source": [
    "One other thing they do is to \"symmetrize\" the loss by also passing $v'$ through the online network and passing $v$ through the target network, to compute what they call $\\tilde{\\mathcal{L}}_{\\xi\\theta}$, and then the full loss is the sum of these two losses:\n",
    "\n",
    "$$\\mathcal{L}^{\\rm BYOL} = \\mathcal{L}_{\\theta\\xi} + \\tilde{\\mathcal{L}}_{\\xi\\theta}$$"
   ]
  },
  {
   "cell_type": "markdown",
   "id": "14c127f5",
   "metadata": {},
   "source": [
    "### Further Theory-Reading\n",
    "* Still you may ask, \"But whyyyyyyy does this work?\" Here's a good paper that tries to answer just that: [\"Understanding self-supervised Learning Dynamics without Contrastive Pairs\"](https://arxiv.org/abs/2102.06810) by Tian et al (2021). \n",
    "* \"What's up with the batch norm / group norm stuff that appears in some discussions of BYOL?\" (which I may or may not have mentioned above, LOL):  See [\"BYOL works even without batch statistics\"](https://arxiv.org/abs/2010.10241) by Richemond et al (2020)."
   ]
  },
  {
   "cell_type": "markdown",
   "id": "014ee320",
   "metadata": {},
   "source": [
    "## Let's Go!  Quick Implemenation for Images\n",
    "\n",
    "In a later post we can talk about writing our own implmentation from scratch (e.g. for  something other than images, such as audio).  But to just get started with all this, \n",
    "what better place to start a coding implementation than [lucidrains' repository](https://github.com/lucidrains/byol-pytorch)? It's super easy to install: "
   ]
  },
  {
   "cell_type": "code",
   "execution_count": null,
   "id": "647767af",
   "metadata": {},
   "outputs": [
    {
     "name": "stdout",
     "output_type": "stream",
     "text": [
      "Note: you may need to restart the kernel to use updated packages.\n"
     ]
    }
   ],
   "source": [
    "%pip -qq install byol-pytorch"
   ]
  },
  {
   "cell_type": "markdown",
   "id": "232928e7",
   "metadata": {},
   "source": [
    "...and we can just \"tack it on\" to whatever network/task we might have.  He provides a sample use case in his README which we'll modify slightly.  First, he sets up a simple test using random images, which we'll run a version of now:"
   ]
  },
  {
   "cell_type": "code",
   "execution_count": null,
   "id": "6685b1d7",
   "metadata": {},
   "outputs": [],
   "source": [
    "import torch\n",
    "from byol_pytorch import BYOL \n",
    "from torchvision import models, transforms, datasets\n",
    "from torch.utils.data import DataLoader\n",
    "from tqdm.notebook import tqdm_notebook"
   ]
  },
  {
   "cell_type": "code",
   "execution_count": null,
   "id": "ae067093",
   "metadata": {},
   "outputs": [
    {
     "data": {
      "application/vnd.jupyter.widget-view+json": {
       "model_id": "0a13f79dfac44ab4bd5eb9cde8825cfe",
       "version_major": 2,
       "version_minor": 0
      },
      "text/plain": [
       "  0%|          | 0/50 [00:00<?, ?it/s]"
      ]
     },
     "metadata": {},
     "output_type": "display_data"
    }
   ],
   "source": [
    "resnet = models.resnet50(weights=True) # this will download resnet50 weights. \n",
    "\n",
    "device = torch.device('cuda' if torch.cuda.is_available() else 'mps' if torch.backends.mps.is_available() else 'cpu')\n",
    "if torch.device('cpu') == device: print(\"Warning: Running on the CPU.\")\n",
    "\n",
    "image_size = 28   # size for fashion mnist images\n",
    "\n",
    "learner = BYOL(     # lucidrains' class\n",
    "    resnet,\n",
    "    image_size = image_size,\n",
    "    hidden_layer = 'avgpool'\n",
    ").to(device)\n",
    "\n",
    "opt = torch.optim.Adam(learner.parameters(), lr=3e-4)\n",
    "\n",
    "def sample_unlabelled_images():\n",
    "    return torch.randn(20, 3, image_size, image_size).to(device)  # make batch of 20 RGB images from random pixels.\n",
    "\n",
    "for i in tqdm_notebook(range(50)):\n",
    "    images = sample_unlabelled_images()\n",
    "    loss = learner(images)\n",
    "    opt.zero_grad()\n",
    "    loss.backward()\n",
    "    opt.step()\n",
    "    learner.update_moving_average() # update moving average of target encoder"
   ]
  },
  {
   "cell_type": "markdown",
   "id": "5cbb28a6",
   "metadata": {},
   "source": [
    "Great! It works!\n",
    "\n",
    "Now, rather than using random images, we'll use Fashion-MNIST. Let's get the data..."
   ]
  },
  {
   "cell_type": "code",
   "execution_count": null,
   "id": "7314f087",
   "metadata": {},
   "outputs": [],
   "source": [
    "training_data = datasets.FashionMNIST(\n",
    "    root=\"data\",\n",
    "    train=True,\n",
    "    download=True,\n",
    "    transform=transforms.ToTensor()\n",
    ")\n",
    "\n",
    "batch_size = 128\n",
    "train_dataloader = DataLoader(training_data, batch_size=batch_size, shuffle=True)"
   ]
  },
  {
   "cell_type": "markdown",
   "id": "8047fe7b",
   "metadata": {},
   "source": [
    "And... we should note that we don't *have* to use ResNet50 -- in fact, we don't have to use ResNet-Anything! We could specify some other model, which for our dataset, a very simple model could suffice.  \n",
    "\n",
    "And/or, rather than a classifcation model, we could choose something like a U-Net, and then try to get the \"interior\" represenation of the U-Net to offer a more interesting represenation than it otherwise might. \n",
    "\n",
    "For now, just to avoid having to deviate from lucidrains' demo much,  we will stick with pretrained ResNet and just \"drop down\" in complexity to `resnet18`: "
   ]
  },
  {
   "cell_type": "code",
   "execution_count": null,
   "id": "d598b061",
   "metadata": {},
   "outputs": [
    {
     "data": {
      "application/vnd.jupyter.widget-view+json": {
       "model_id": "104c60786f344b0fa79c7ac973a282b7",
       "version_major": 2,
       "version_minor": 0
      },
      "text/plain": [
       "Epoch 0/5:   0%|          | 0/200 [00:00<?, ?it/s]"
      ]
     },
     "metadata": {},
     "output_type": "display_data"
    },
    {
     "data": {
      "application/vnd.jupyter.widget-view+json": {
       "model_id": "b0c6c1e53d7a43e097b27eefec24ca97",
       "version_major": 2,
       "version_minor": 0
      },
      "text/plain": [
       "Epoch 1/5:   0%|          | 0/200 [00:00<?, ?it/s]"
      ]
     },
     "metadata": {},
     "output_type": "display_data"
    },
    {
     "data": {
      "application/vnd.jupyter.widget-view+json": {
       "model_id": "bb1fb4af6088404ba78802e1a271dee9",
       "version_major": 2,
       "version_minor": 0
      },
      "text/plain": [
       "Epoch 2/5:   0%|          | 0/200 [00:00<?, ?it/s]"
      ]
     },
     "metadata": {},
     "output_type": "display_data"
    },
    {
     "data": {
      "application/vnd.jupyter.widget-view+json": {
       "model_id": "c2798d977d8c4e398e03df92729388c8",
       "version_major": 2,
       "version_minor": 0
      },
      "text/plain": [
       "Epoch 3/5:   0%|          | 0/200 [00:00<?, ?it/s]"
      ]
     },
     "metadata": {},
     "output_type": "display_data"
    },
    {
     "data": {
      "application/vnd.jupyter.widget-view+json": {
       "model_id": "20344289a17c4a05991fa221d2954a13",
       "version_major": 2,
       "version_minor": 0
      },
      "text/plain": [
       "Epoch 4/5:   0%|          | 0/200 [00:00<?, ?it/s]"
      ]
     },
     "metadata": {},
     "output_type": "display_data"
    }
   ],
   "source": [
    "resnet = models.resnet18(weights=True) # reset resnet weights. \n",
    "\n",
    "learner = BYOL(\n",
    "    resnet, \n",
    "    image_size=28, \n",
    "    hidden_layer = 'avgpool', # activations from this layer will be used as y_theta!\n",
    "    use_momentum = True # set to false for 'SimSiam' variant. https://arxiv.org/abs/2011.10566\n",
    ").to(device)\n",
    "\n",
    "def train_it(learner, lr=3e-4, epochs=5, steps=200):\n",
    "    opt = torch.optim.Adam(learner.parameters(), lr=lr)\n",
    "    for e in range(epochs): \n",
    "        pbar = tqdm_notebook(range(steps), desc=f\"Epoch {e}/{epochs}: \")\n",
    "        for i in pbar:\n",
    "            images, labels = next(iter(train_dataloader))\n",
    "            images = images.to(device).tile([1,3,1,1]) # put on GPU & create RGB from greyscale\n",
    "            loss = learner(images)\n",
    "            pbar.set_postfix({'loss':f\"{loss.detach():.3g}\"})\n",
    "            pbar.refresh()\n",
    "            opt.zero_grad()\n",
    "            loss.backward()\n",
    "            opt.step()\n",
    "            learner.update_moving_average() # update moving average of target encoder\n",
    "            \n",
    "train_it(learner) # operates on learner & resnet in-place"
   ]
  },
  {
   "cell_type": "markdown",
   "id": "ec13940a",
   "metadata": {},
   "source": [
    "### Inspecting Our Results\n",
    "How do we access and inspect the representations learned from this? lucidrains' README tells us that we already specified that:\n",
    "\n",
    "> the name (or index) of the hidden layer, whose output is used as the latent representation used for self-supervised training.\n",
    "\n",
    "...So we specified the layer named \"`avgpool`\" as the layer of our network `resnet` whose activations will serve as our learned representations.  We can print out the names of the layers to see where `avgpool` is (look way near the bottom):"
   ]
  },
  {
   "cell_type": "code",
   "execution_count": null,
   "id": "450eaeb4",
   "metadata": {},
   "outputs": [
    {
     "data": {
      "text/plain": [
       "ResNet(\n",
       "  (conv1): Conv2d(3, 64, kernel_size=(7, 7), stride=(2, 2), padding=(3, 3), bias=False)\n",
       "  (bn1): BatchNorm2d(64, eps=1e-05, momentum=0.1, affine=True, track_running_stats=True)\n",
       "  (relu): ReLU(inplace=True)\n",
       "  (maxpool): MaxPool2d(kernel_size=3, stride=2, padding=1, dilation=1, ceil_mode=False)\n",
       "  (layer1): Sequential(\n",
       "    (0): BasicBlock(\n",
       "      (conv1): Conv2d(64, 64, kernel_size=(3, 3), stride=(1, 1), padding=(1, 1), bias=False)\n",
       "      (bn1): BatchNorm2d(64, eps=1e-05, momentum=0.1, affine=True, track_running_stats=True)\n",
       "      (relu): ReLU(inplace=True)\n",
       "      (conv2): Conv2d(64, 64, kernel_size=(3, 3), stride=(1, 1), padding=(1, 1), bias=False)\n",
       "      (bn2): BatchNorm2d(64, eps=1e-05, momentum=0.1, affine=True, track_running_stats=True)\n",
       "    )\n",
       "    (1): BasicBlock(\n",
       "      (conv1): Conv2d(64, 64, kernel_size=(3, 3), stride=(1, 1), padding=(1, 1), bias=False)\n",
       "      (bn1): BatchNorm2d(64, eps=1e-05, momentum=0.1, affine=True, track_running_stats=True)\n",
       "      (relu): ReLU(inplace=True)\n",
       "      (conv2): Conv2d(64, 64, kernel_size=(3, 3), stride=(1, 1), padding=(1, 1), bias=False)\n",
       "      (bn2): BatchNorm2d(64, eps=1e-05, momentum=0.1, affine=True, track_running_stats=True)\n",
       "    )\n",
       "  )\n",
       "  (layer2): Sequential(\n",
       "    (0): BasicBlock(\n",
       "      (conv1): Conv2d(64, 128, kernel_size=(3, 3), stride=(2, 2), padding=(1, 1), bias=False)\n",
       "      (bn1): BatchNorm2d(128, eps=1e-05, momentum=0.1, affine=True, track_running_stats=True)\n",
       "      (relu): ReLU(inplace=True)\n",
       "      (conv2): Conv2d(128, 128, kernel_size=(3, 3), stride=(1, 1), padding=(1, 1), bias=False)\n",
       "      (bn2): BatchNorm2d(128, eps=1e-05, momentum=0.1, affine=True, track_running_stats=True)\n",
       "      (downsample): Sequential(\n",
       "        (0): Conv2d(64, 128, kernel_size=(1, 1), stride=(2, 2), bias=False)\n",
       "        (1): BatchNorm2d(128, eps=1e-05, momentum=0.1, affine=True, track_running_stats=True)\n",
       "      )\n",
       "    )\n",
       "    (1): BasicBlock(\n",
       "      (conv1): Conv2d(128, 128, kernel_size=(3, 3), stride=(1, 1), padding=(1, 1), bias=False)\n",
       "      (bn1): BatchNorm2d(128, eps=1e-05, momentum=0.1, affine=True, track_running_stats=True)\n",
       "      (relu): ReLU(inplace=True)\n",
       "      (conv2): Conv2d(128, 128, kernel_size=(3, 3), stride=(1, 1), padding=(1, 1), bias=False)\n",
       "      (bn2): BatchNorm2d(128, eps=1e-05, momentum=0.1, affine=True, track_running_stats=True)\n",
       "    )\n",
       "  )\n",
       "  (layer3): Sequential(\n",
       "    (0): BasicBlock(\n",
       "      (conv1): Conv2d(128, 256, kernel_size=(3, 3), stride=(2, 2), padding=(1, 1), bias=False)\n",
       "      (bn1): BatchNorm2d(256, eps=1e-05, momentum=0.1, affine=True, track_running_stats=True)\n",
       "      (relu): ReLU(inplace=True)\n",
       "      (conv2): Conv2d(256, 256, kernel_size=(3, 3), stride=(1, 1), padding=(1, 1), bias=False)\n",
       "      (bn2): BatchNorm2d(256, eps=1e-05, momentum=0.1, affine=True, track_running_stats=True)\n",
       "      (downsample): Sequential(\n",
       "        (0): Conv2d(128, 256, kernel_size=(1, 1), stride=(2, 2), bias=False)\n",
       "        (1): BatchNorm2d(256, eps=1e-05, momentum=0.1, affine=True, track_running_stats=True)\n",
       "      )\n",
       "    )\n",
       "    (1): BasicBlock(\n",
       "      (conv1): Conv2d(256, 256, kernel_size=(3, 3), stride=(1, 1), padding=(1, 1), bias=False)\n",
       "      (bn1): BatchNorm2d(256, eps=1e-05, momentum=0.1, affine=True, track_running_stats=True)\n",
       "      (relu): ReLU(inplace=True)\n",
       "      (conv2): Conv2d(256, 256, kernel_size=(3, 3), stride=(1, 1), padding=(1, 1), bias=False)\n",
       "      (bn2): BatchNorm2d(256, eps=1e-05, momentum=0.1, affine=True, track_running_stats=True)\n",
       "    )\n",
       "  )\n",
       "  (layer4): Sequential(\n",
       "    (0): BasicBlock(\n",
       "      (conv1): Conv2d(256, 512, kernel_size=(3, 3), stride=(2, 2), padding=(1, 1), bias=False)\n",
       "      (bn1): BatchNorm2d(512, eps=1e-05, momentum=0.1, affine=True, track_running_stats=True)\n",
       "      (relu): ReLU(inplace=True)\n",
       "      (conv2): Conv2d(512, 512, kernel_size=(3, 3), stride=(1, 1), padding=(1, 1), bias=False)\n",
       "      (bn2): BatchNorm2d(512, eps=1e-05, momentum=0.1, affine=True, track_running_stats=True)\n",
       "      (downsample): Sequential(\n",
       "        (0): Conv2d(256, 512, kernel_size=(1, 1), stride=(2, 2), bias=False)\n",
       "        (1): BatchNorm2d(512, eps=1e-05, momentum=0.1, affine=True, track_running_stats=True)\n",
       "      )\n",
       "    )\n",
       "    (1): BasicBlock(\n",
       "      (conv1): Conv2d(512, 512, kernel_size=(3, 3), stride=(1, 1), padding=(1, 1), bias=False)\n",
       "      (bn1): BatchNorm2d(512, eps=1e-05, momentum=0.1, affine=True, track_running_stats=True)\n",
       "      (relu): ReLU(inplace=True)\n",
       "      (conv2): Conv2d(512, 512, kernel_size=(3, 3), stride=(1, 1), padding=(1, 1), bias=False)\n",
       "      (bn2): BatchNorm2d(512, eps=1e-05, momentum=0.1, affine=True, track_running_stats=True)\n",
       "    )\n",
       "  )\n",
       "  (avgpool): AdaptiveAvgPool2d(output_size=(1, 1))\n",
       "  (fc): Linear(in_features=512, out_features=1000, bias=True)\n",
       ")"
      ]
     },
     "execution_count": null,
     "metadata": {},
     "output_type": "execute_result"
    }
   ],
   "source": [
    "resnet"
   ]
  },
  {
   "cell_type": "markdown",
   "id": "920da942",
   "metadata": {},
   "source": [
    "So pretty much all the way at the end, just before the last Linear layer.  Let's see how we can get these layer outputs / activations: "
   ]
  },
  {
   "cell_type": "code",
   "execution_count": null,
   "id": "5d1ea6f6",
   "metadata": {},
   "outputs": [
    {
     "data": {
      "text/plain": [
       "torch.Size([128, 3, 28, 28])"
      ]
     },
     "execution_count": null,
     "metadata": {},
     "output_type": "execute_result"
    }
   ],
   "source": [
    "# get some mo' images\n",
    "images, labels = next(iter(train_dataloader))\n",
    "images = images.to(device).tile([1,3,1,1]) # put on GPU & create RGB from greyscale\n",
    "images.shape"
   ]
  },
  {
   "cell_type": "markdown",
   "id": "9cc860d7",
   "metadata": {},
   "source": [
    "One way is to use some code we can find in lucidrains' source code..."
   ]
  },
  {
   "cell_type": "code",
   "execution_count": null,
   "id": "e766ce76",
   "metadata": {},
   "outputs": [
    {
     "data": {
      "text/plain": [
       "torch.Size([128, 512])"
      ]
     },
     "execution_count": null,
     "metadata": {},
     "output_type": "execute_result"
    }
   ],
   "source": [
    "reps = learner.online_encoder.get_representation(images)\n",
    "reps.shape"
   ]
  },
  {
   "cell_type": "markdown",
   "id": "bdd14806",
   "metadata": {},
   "source": [
    "But the 'classic' way to do this in PyTorch is to [register a \"forward hook\"](https://discuss.pytorch.org/t/how-can-l-load-my-best-model-as-a-feature-extractor-evaluator/17254/6), as in:"
   ]
  },
  {
   "cell_type": "code",
   "execution_count": null,
   "id": "f155ea9e",
   "metadata": {},
   "outputs": [
    {
     "data": {
      "text/plain": [
       "torch.Size([128, 512])"
      ]
     },
     "execution_count": null,
     "metadata": {},
     "output_type": "execute_result"
    }
   ],
   "source": [
    "activation = {}\n",
    "def get_activation(name):\n",
    "    def hook(model, input, output):\n",
    "        activation[name] = output.detach()\n",
    "    return hook\n",
    "\n",
    "resnet.avgpool.register_forward_hook(get_activation('avgpool'))\n",
    "output = resnet(images)\n",
    "reps = activation['avgpool'].squeeze()\n",
    "reps.shape"
   ]
  },
  {
   "cell_type": "markdown",
   "id": "22606d3e",
   "metadata": {},
   "source": [
    "Note that our images are 28x28=784 monochrome pixels, so a \"representation\" via 512 points does not make much of a compression. ....But at this point, you can see the basics of how this works. "
   ]
  },
  {
   "cell_type": "markdown",
   "id": "1cb06baa",
   "metadata": {},
   "source": [
    "No promises, but I may do a later version of this blog where we write our BYOL code from scratch, and/or use a U-Net or some other architecture, and/or look more closely into BYOL-A, but for now, this seems like a reasonable stopping point. :-)"
   ]
  },
  {
   "cell_type": "code",
   "execution_count": null,
   "id": "4c60e709",
   "metadata": {},
   "outputs": [],
   "source": []
  }
 ],
 "metadata": {
  "kernelspec": {
   "display_name": "Python 3 (ipykernel)",
   "language": "python",
   "name": "python3"
  }
 },
 "nbformat": 4,
 "nbformat_minor": 5
}
