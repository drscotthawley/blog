{
 "cells": [
  {
   "cell_type": "raw",
   "metadata": {},
   "source": [
    "---\n",
    "title: \"Understanding Transformers, Part 2: Wee Music Box\"\n",
    "author: \"Scott H. Hawley\"\n",
    "badges: true\n",
    "categories:\n",
    "- nlp\n",
    "- architectures\n",
    "- transformers\n",
    "- music\n",
    "- midi\n",
    "date: \"2023-12-15\"\n",
    "description: Toy Transformer Tunes\n",
    "toc: true\n",
    "image: images/musicbox_prime.jpeg\n",
    "twitter-card: true\n",
    "card-style: summary\n",
    "bibliography: references.bib\n",
    "csl: ieee.csl\n",
    "number-sections: true\n",
    "format: html\n",
    "highlight-style: monokai\n",
    "crossref:\n",
    "  fig-title: '**Figure**'\n",
    "  fig-labels: arabic\n",
    "  title-delim: \"**.**\"\n",
    "---"
   ]
  },
  {
   "cell_type": "markdown",
   "metadata": {},
   "source": [
    "![Musicbox-Transformer image, via Stable Diffusion XL](images/musicbox_prime.jpeg)"
   ]
  },
  {
   "cell_type": "code",
   "execution_count": null,
   "metadata": {},
   "outputs": [
    {
     "data": {
      "text/html": [
       "<style>\n",
       "details > summary {\n",
       "    color: #00966f;   /* the greenish tinge that appears in my blog */\n",
       "    cursor: pointer; /* lil triangle thingy */\n",
       "}\n",
       "</style>\n"
      ],
      "text/plain": [
       "<IPython.core.display.HTML object>"
      ]
     },
     "execution_count": null,
     "metadata": {},
     "output_type": "execute_result"
    }
   ],
   "source": [
    "#| echo: false\n",
    "from IPython.display import display, HTML\n",
    "# lil bit of added color \n",
    "HTML(\"\"\"<style>\n",
    "details > summary {\n",
    "    color: #00966f;   /* the greenish tinge that appears in my blog */\n",
    "    cursor: pointer; /* lil triangle thingy */\n",
    "}\n",
    "</style>\n",
    "\"\"\")"
   ]
  },
  {
   "cell_type": "markdown",
   "metadata": {},
   "source": [
    "# Preface\n",
    "This is a follow-up to an earlier lesson, [\"To Understand Transformers, Focus on Attention\"](https://drscotthawley.github.io/blog/posts/Transformers1-Attention.html).  In this lesson, we'll fill the  \"blanks\" we left in the Transformer architecture last time, and go on to build a working example.  \n",
    "\n",
    "For that example, let's do something different from the many other online lessons about working with text & Natural Language Processing (NLP): Let's make a \"Generative Music Transformer.\" To keep things \"small,\" we'll work in terms of MIDI instead of raw audio. For ideas about trying raw audio, see \"Further Study\" in @sec-further.\n",
    "\n",
    "::: {.callout-note}\n",
    "The goal of this exercise is building *some understanding*, not building a killer MIDI-generating app. If you want the latter, check out [Google Magenta's paper](https://magenta.tensorflow.org/music-transformer) from 2018, or various extensions since then. If you just want to play around with a great MIDI model, check out [SkyTNT's HuggingFace Space](https://huggingface.co/spaces/skytnt/midi-composer). By \"some\" understanding, I also mean that we're going to largely ignore the many, many variants and improvements on Transformers made over the past several years -- lately [\"Mamba\"](https://arxiv.org/abs/2312.00752) is generating consierable buzz.  I find that [Sebastian Raschka](https://twitter.com/rasbt)'s posts to be helpful for considering major updates on the Transformer \"theme\". \n",
    ":::"
   ]
  },
  {
   "cell_type": "markdown",
   "metadata": {},
   "source": [
    "\n",
    "## Managing Expectations\n",
    "\n",
    "What we'll end up with is something akin to [producing garbled Shakespeare](https://www.youtube.com/watch?v=kCc8FmEb1nY), except it's going to be musical. Garbled music seems much harder to tolerate than garbled Shakespeare, which is why I have delayed releasing this lesson for *multiple months* -- I've kept trying to get better results. At this point, I'm resigned to the fact that *this is a hard problem* (even for MIDI!), and my current outputs are about \"as good as they're going to get\":\n",
    "\n",
    "<blockquote class=\"twitter-tweet tw-align-center\"><p lang=\"en\" dir=\"ltr\">It&#39;s way harder to train a simple MIDI transformer to sound OK than a next-character GPT-type transformer to create text that makes at least basic sense. MIDI tokenizer choice is a big deal here also.</p>&mdash; Mateusz Modrzejewski (\\@mamodrzejewski) <a href=\"https://twitter.com/mamodrzejewski/status/1728858756736557451?ref_src=twsrc%5Etfw\">November 26, 2023</a></blockquote> <script async src=\"https://platform.twitter.com/widgets.js\" charset=\"utf-8\"></script>\n",
    "\n",
    "...and we're going to keep the tokenizer simple.\n",
    "\n",
    "\n",
    "-- [Scott H. Hawley](https://hedges.belmont.edu), December 2023\n",
    "\n",
    "\n",
    "::: {.callout-note}\n",
    "In what follows, I've often put sections and subsections in expandable \"Details\" blocks, to enable readers to pick and choose the level of depth they want to see. Enjoy! \n",
    ":::"
   ]
  },
  {
   "cell_type": "markdown",
   "metadata": {},
   "source": [
    "---"
   ]
  },
  {
   "cell_type": "markdown",
   "metadata": {},
   "source": [
    "# Intuiting the Rest of the Transformer\n",
    "\n"
   ]
  },
  {
   "cell_type": "markdown",
   "metadata": {},
   "source": [
    "The [previous lesson](https://drscotthawley.github.io/blog/posts/Transformers1-Attention.html) left some things out.  In this section, we'll build some intuitive understanding of these other components, and a bit of code.  \n",
    "\n",
    "Below is a picture of the original Transformer model diagram, whose parts we will elucide as we go on. It's \n",
    "set up like the traditional [\"encoder-decoder\" architecture](https://tex.stackexchange.com/questions/374926/drawing-an-encoder-decoder-architecture-in-tikz) one often sees in the form of an [\"hourglass shape\"](images/EncoderDecoder_feedback_large.png), although it may not be obvious from the Transformer diagram:\n",
    "\n",
    "\n",
    "<style>\n",
    ".img1 {\n",
    "    /*transform-origin: top left;*/\n",
    "    width:450px;\n",
    "    transition:transform 0.4s ease;\n",
    "    position: relative;\n",
    "    z-index: 0;\n",
    "}\n",
    ".img1:hover {\n",
    "    -webkit-transform:scale(1.7);\n",
    "    transform:scale(1.7);\n",
    "    z-index:1;\n",
    "}\n",
    "</style>\n",
    "\n",
    "::: {#fig-trans-diag}\n",
    "\n",
    "![](images/TransformerSchematic_labeled.png){.img1} \n",
    "\n",
    "(Mouse-over or press to expand.) Original Transformer architecture illustration, blue and red annotations added by me. The \"Encoder side\" in red is often used for generating embeddings for analysis-based workflows such as classification tasks; one of which  of the most famous 'encoder-only' models was BERT (which stood Bidirectional Encoder Representations from Transformers). \n",
    ":::\n",
    "For langauge translation tasks, both the Encoder and Decoder (circled in blue) are used. For purely \"generative\" systems like the GPT variants and what we'll do today, we'll use the Decoder side. Note however that even the Decoder can involve some encoding, as we combine an embedding of the words / MIDI / \"tokens\" with Positional Encoding information. PE is discussed below. \n",
    "\n",
    "We're going to go through the various components that make up the above diagram. But first, let's point out something about the Attention mechanism that we skipped over in the previous less, namely the computational \"cost\" associated with making every part of a sequence with every other part. "
   ]
  },
  {
   "cell_type": "markdown",
   "metadata": {},
   "source": [
    "## The Cost of Attention\n",
    "\n",
    "The attention mechanism *per se* that we covered in the previous post has a serious drawback: the computational cost scales like the sequence length squared, i.e. for a sequence length of $N$, the cost is\n",
    " <big>𝒪</big>($N^2)$.  This is one reason that Large Language Models can be \"Large\" -- trying to model long sequences results in big matrices!\n",
    " \n",
    "<details><summary>Details</summary>\n",
    "\n"
   ]
  },
  {
   "cell_type": "markdown",
   "metadata": {},
   "source": [
    "    \n",
    "\n",
    "Various schemes have been proposed to reduce this cost, such as only applying attention over nearby tokens (so-called \"sliding window\" attention) or other methods that fall under the general heading of \"matrix sparsification\". Here's a slide from a talk I gave a few years ago, illustrating a few of these schemes:"
   ]
  },
  {
   "cell_type": "markdown",
   "metadata": {},
   "source": [
    "::: {#fig-attn-cost}\n",
    "\n",
    "![](images/attention_cost.hawley.png)\n",
    "\n",
    "Various schemes for reducing the <big>𝒪</big>($N^2)$ cost of Attention. Many such schemes involve replacing the `Linear` layers with convolution operations, such as with the local receptive fields shown in b) and c).  (Source: S.H. Hawley, [\"Learning Tunable Audio Effects via Neural Networks with Self-Attention\"](https://hedges.belmont.edu/AES_ML_2020/), AES Virtual Symposium: Applications of Machine Learning in Audio, Sep 28, 2020.)\n",
    "\n",
    ":::"
   ]
  },
  {
   "cell_type": "markdown",
   "metadata": {},
   "source": [
    "For this lesson, we'll see how far we can get with the basic $N^2$ attention. Beyond that, I encourage you to check the literature for whatever the latest/hottest cost-reducing model might be. Popular candidates include [FlashAttention](https://arxiv.org/abs/2205.14135) and [PercieverIO](https://arxiv.org/abs/2107.14795). Even sliding windows are [still in use in ways that some people find significant](https://twitter.com/hrishioa/status/1712199009308398079)."
   ]
  },
  {
   "cell_type": "markdown",
   "metadata": {},
   "source": [
    "## Positional Encoding (aka Positional Embeddings)\n",
    "\n",
    "MLPs and/or ConvNets don't come with (much of) a sense of position, but giving them one can improve performance on tasks where ordering and position matters. There many ways people have have endowed such models with position-awareness and... TBH there's not necessarily a \"silver bullet\" solution, so a variety of approaches can end up performing about the same. In what follows we'll describe various schemes for doing PEs. \n",
    "\n",
    "<details><summary>Details on PEs</summary>\n"
   ]
  },
  {
   "cell_type": "markdown",
   "metadata": {},
   "source": [
    "### Some Options for PEs\n",
    "\n",
    "1. You could just concatenate a \"linear ramp\" of values to provide some position values, but... you wouldn't want to do that. You won't get very good gradients, especially for long sequences.\n",
    "\n",
    "2. There's the orignal positional encoding from the [AIAYN](https://arxiv.org/abs/1706.03762) paper, which uses a set of sines & cosines of expontially-increasing wavelength. They tweaked these wavelengths for their use case and ended up with\n",
    "the following  equations:\n",
    "$$\n",
    "\\begin{aligned}\n",
    "PE_{(pos,2i)} = \\sin(pos / 10000^{2i/d_{model}}) \\\\\n",
    "PE_{(pos,2i+1)} = \\cos(pos / 10000^{2i/d_{model}})\n",
    "\\end{aligned}\n",
    "$$\n",
    "But the authors of the Transformer paper said they tried a few different PE methods/equations -- including letting the model learn the PEs -- but found no significant impact on performance between them. So let's add that to list, btw:\n",
    "\n",
    "3. You could **let the positional embeddings be learned** via some trainable mapping.  *This* is the approach that Karpathy uses in his mini-GPT tutorial, and it's the approach we'll use in this lesson as well.\n",
    "\n",
    "4. [Francois Fleuret](https://fleuret.org/francois/) in his [\"AttentionToy1D\"](https://twitter.com/francoisfleuret/status/1262639062785105922) demo, used a simplification of approach #2 by essentially turning it into a set of <a href=\"images/fleuret_binary.png\">binary sequences</a> that correspond to the vertices of a hypercube.\n",
    "\n",
    "5. [\"ALiBi\" (Attention with Linear Biases)](https://arxiv.org/abs/2108.12409) is a method whereby you don't do positional encoding of the inputs, rather you insert the positional information into the attention calculation itself. It is *slightly* faster to execute than traditional PE and (probably?) offers less memory overhead, and yields comparable results. (I tried it, it didn't make any difference so I left it out of htis lesson.)\n",
    "   \n",
    "7. One scheme, \"[Relative Position Embeddings](https://paperswithcode.com/method/relative-position-encodings),\" was reported to make a big difference and it arose in the [Music Transformer](https://arxiv.org/abs/1809.04281) paper itself.  Are we going to do that?  ...Uh....no, but that would be a great exercise for a student. "
   ]
  },
  {
   "cell_type": "markdown",
   "metadata": {},
   "source": [
    "\n",
    "### PEs: To Add or Concatenate?\n",
    "Here's a design question: Should we add these PEs to our inputs or concatenate them? \n",
    "\n",
    "TODO: revise this. \n",
    "\n",
    "That's debateable, and it depends. [Here's a great video discussing this topic](https://www.youtube.com/watch?v=M2ToEXF6Olw). If the number of PE channels is less than the number of input channels (or input embedding dimensions), then we'll definitely need to concatenate the PEs as additional channels for the inputs.  That's what Fleuret did when he was working with only one channel of floating point inputs, BTW. Here's some code we'll use later to concatenate the PEs to our data sequences.\n",
    "\n",
    "\n",
    "</details> \n",
    "::: {.callout-tip}\n",
    "\n",
    "A great source of instruction about all things related to Positional Encodings is the YouTube channel, \n",
    "[\"AI Coffee Break with Letitia\"](https://www.youtube.com/@AICoffeeBreak). \n",
    ":::\n",
    "\n"
   ]
  },
  {
   "cell_type": "markdown",
   "metadata": {},
   "source": [
    "## Residual Connections\n",
    "In the Transfomer model diagram  of @fig-trans-diag, wherever you see arrows going *around* something and connecting to a yellow \"Add & Norm\" block, that is indicative of a \"skip residual\" or just \"residual\" connection.  Readers will likely have seen residual / skip connections in other contexts, so we'll make this section \"Details\"-expandable for those who haven't encountered them.\n",
    "\n",
    "<details><summary>Details</summary>\n",
    "\n",
    "\n",
    "This is a pretty simple idea that yields payoffs in many areas of numerical modeling: You model the *change* in something instead of modeling the whole thing. The following flowchart illustrates this:\n"
   ]
  },
  {
   "cell_type": "markdown",
   "metadata": {},
   "source": [
    "::: {#fig-resid}\n",
    "<div style=\"background-color:white; width: 65%; margin-left: auto; margin-right: auto;\">\n",
    "<img src = \"https://mermaid.ink/svg/pako:eNo1j0EKg0AMRa8yBAQFewEXBaubQruxu5JNcGIVnIyMGUqR3r3TSnf_fR4kf4PeW4YKhtk_-5GCmkuHkmVG_WLsRI9ADqXOz7JELczhcDzljXcJ2DQjyYMLlNO3N01eW5uo3gml-YU273iNsxZQguPgaLLp3oZiDIKO7BihStHyQElDQHknlaL620t6qDRELiEulpTb_aN_yXZSH677hN-SEhaSu_dJGWhe-f0B3txJZw\">\n",
    "</div>\n",
    "\n",
    "Flowchart of a residual connection\n",
    "\n",
    ":::"
   ]
  },
  {
   "cell_type": "markdown",
   "metadata": {},
   "source": [
    "\n",
    "With neural networks, this residual scheme has the added benefit of allowing for efficient backpropagation. There are claims that \"skip residual\" connections also help smooth the loss surface, such as [this figure in a N(eur)IPS paper from 2017](https://arxiv.org/abs/1712.09913):\n",
    "\n",
    "::: {#fig-loss-landscape}\n",
    "\n",
    "![](https://miro.medium.com/v2/resize:fit:723/1*_Qd_txKxRlsMdfuH2J-k4g.png)\n",
    "\n",
    "Loss landscape picture purporting to show the \"smoothing\" effects of residual connections. (Source: [Li et al](https://arxiv.org/abs/1712.09913).)  \n",
    "\n",
    ":::"
   ]
  },
  {
   "cell_type": "markdown",
   "metadata": {},
   "source": [
    "##  Multi-Head Attention\n",
    "\n",
    "As described in the previous lesson, Multi-Head Attention simply involves allowing differently-weighted attention operators (called \"heads\") to perform attention operations, allowing them to focus on different \"senses\" of phrases, parts of speech, or in our case, musical structures. \n",
    "\n",
    "\n",
    "<style>\n",
    ".img-mh {\n",
    "    /*transform-origin: top left;*/\n",
    "    width:250px;\n",
    "    transition:transform 0.4s ease;\n",
    "    position: relative;\n",
    "    z-index: 0;\n",
    "}\n",
    ".img-mh:hover {\n",
    "    -webkit-transform:scale(1.7);\n",
    "    transform:scale(1.7);\n",
    "    z-index:1;\n",
    "}\n",
    "</style>\n",
    "\n",
    "::: {#fig-mh-attn}\n",
    "\n",
    "![](https://machinelearningmastery.com/wp-content/uploads/2021/09/tour_4.png){.img-mh}\n",
    "\n",
    "Diagram of Multi-Head Attention. The multiple attention \"heads\" are shown below as depthwise semi-transparent copies, which are then concatenated into \"one big long thing\" via the Concat operation, and then mapped into the the output for the module via the last Linear layer: (Source: [AIAYN](https://arxiv.org/abs/1706.03762).)\n",
    ":::"
   ]
  },
  {
   "cell_type": "markdown",
   "metadata": {},
   "source": [
    "## Layer Normalization\n",
    "\n",
    "This alternative to [Batch Normalization](https://paperswithcode.com/method/batch-normalization) (in which we perform elementwise operations where we subtract the mean across the batch dimension and divide by the variance).  Instead of doing this across the batch dimension, we do it across the feature dimension(s).\n",
    "\n",
    "\n",
    "<style>\n",
    ".img-ln {\n",
    "    /*transform-origin: top left;*/\n",
    "    width:350px;\n",
    "    transition:transform 0.4s ease;\n",
    "    position: relative;\n",
    "    z-index: 0;\n",
    "}\n",
    ".img-ln:hover {\n",
    "    -webkit-transform:scale(1.7);\n",
    "    transform:scale(1.7);\n",
    "    z-index:1;\n",
    "}\n",
    "</style>\n",
    "\n",
    "::: {#fig-norm-types}\n",
    "![](https://production-media.paperswithcode.com/methods/Screen_Shot_2020-05-19_at_4.24.42_PM.png){.img-ln}\n",
    "\n",
    "(Mouse-over or press to expand.) Batch normalization  vs. Layer normalization. (Source: [PapersWithCode](https://paperswithcode.com/method/layer-normalization).)\n",
    ":::\n",
    "\n",
    "One big advantage of doing our normalization across layers instead of batches is that *it allows for small batch sizes.*  Language models are often *large*, so they take up a lot of memory, which means you might need very small batches. But small batches will not allow you to do very good batch normalization. So, LayerNorm helps us get good statistics for the mean and variance that we use to normalize.\n"
   ]
  },
  {
   "cell_type": "markdown",
   "metadata": {},
   "source": [
    "## Stacking Blocks: Embeddings of Embeddings...of Embeddings\n",
    "\n",
    "By stacking layers of our transformers, i.e. feeding embeddings into layers that will render them as new embeddings, we wil increase the representational power of our model.  In terms of code, this is easy to do by looping over a list of layers.\n",
    "\n"
   ]
  },
  {
   "cell_type": "markdown",
   "metadata": {},
   "source": [
    "# The Music (MIDI) Dataset\n",
    "\n",
    "This section adopts a first-person perspective because I want to convey a personal tone:  I confess that I'm \"not a MIDI guy,\" having always worked with raw audio exclusively.  I vastly underestimated how difficult it would be to get decent results. Starting from Google's well-known [MAESTRO dataset](https://magenta.tensorflow.org/datasets/maestro) of solo piano performances -- NOTE: *virtuoso* piano performances! --I kept downgrading the \"difficulty\" of the dataset until settling on [Bach chorales](https://github.com/czhuang/JSB-Chorales-dataset). \n",
    "\n",
    "    \n",
    "  "
   ]
  },
  {
   "cell_type": "markdown",
   "metadata": {},
   "source": [
    "## Learning About MIDI Data\n",
    "\n",
    "<details><summary>Details</summary>\n",
    "\n",
    "The MAESTRO data wasn't overly challenging if I only focussed on modeling the pitches, but music is pitch + timing (+ more). What's more, I'd only ever seen MIDI music \"quantized\" into a grid-based \"piano roll\" format with a known time-signature, not realizing that that's not what MIDI data really is. For our purposes, it's worth noting that MIDI encodes several pieces of information on a *per-note* basis:\n",
    "\n",
    "1. What instrument played the note\n",
    "2. What pitch was played -- an integer between 0 and 127.\n",
    "3. The start time of the note -- in units of the \"MIDI clock\" which  *usually* ticks at 50,000 times a second. This is typically rendered as a floating-point number when using Python MIDI-processing packages such as Colin Raffel's [pretty-midi](https://craffel.github.io/pretty-midi/) (which we will use)\n",
    "4. The end time of the note - another float.\n",
    "5. The \"velocity\" of the note -- e.g. how hard a piano key was struck. \n",
    "\n",
    "So, no time signature, no quarter-note, half-note, etc.  But fine, taking a lead from the [Google Tensorflow Demo for RNN Modeling](https://colab.research.google.com/github/tensorflow/docs/blob/master/site/en/tutorials/audio/music_generation.ipynb), we can reduce each note to 3 numbers: \n",
    "1. pitch\n",
    "2. \"step\" in time since the previous note\n",
    "3. duration of the note (i.e. end time minus start time). \n",
    "\n",
    "...and focus on single-instrument work, and disregard the velocity. \n",
    "\n",
    "EVEN THAT was too hard for the code below do with MAESTRO. I then noticed a [paper by the Google team](https://arxiv.org/abs/1808.03715) pointed out that quantizing the time into bins of 8 milliseconds was an ok simplification to make, but even this proved too hard for my model. (I could do 16 ms, but that sounded weird.)\n",
    "\n",
    "...so....  after surveying other things, I went with [Bach Chorales](https://github.com/czhuang/JSB-Chorales-dataset), which actually *are* presented in piano-roll format quantized to 16th note time intervals. Then I had to convert those from JSON to true MIDI, because by then the rest of my code expected MIDI. \n",
    "\n",
    "I'll spare you the details of that process, but note that the data link below is not the official dataset link, it's [my private stash](https://drive.google.com/file/d/1MdJiNEgtkvCx9tnyQWcnEE5GPMY6ADUb/view?usp=sharing) where I converted the JSON to .mid. "
   ]
  },
  {
   "cell_type": "markdown",
   "metadata": {},
   "source": [
    "## Install and Import"
   ]
  },
  {
   "cell_type": "code",
   "execution_count": null,
   "metadata": {},
   "outputs": [],
   "source": [
    "#| code-fold: true\n",
    "#| code-summary: \"Show the code for system-wide installs\"\n",
    "#| output: false\n",
    "#| error: false\n",
    "#| warning: false\n",
    "\n",
    "import platform\n",
    "import os\n",
    "\n",
    "def install_package(package_name):\n",
    "    \"For installing system binaries on Linux (Ubuntu/Debia) or Mac (via Homebrew)\"\n",
    "    if platform.system() == 'Darwin':\n",
    "        os.system(f'brew install {package_name}')\n",
    "    elif platform.system() == 'Linux':\n",
    "        import getpass  # TODO: colab doesn't need a password for sudo\n",
    "        password = getpass.getpass()\n",
    "        command = f\"sudo -S apt-get install {package_name}\" \n",
    "        os.popen(command, 'w').write(password+'\\n')\n",
    "    else:\n",
    "        print(\"Unsupported Operating System\")\n",
    "\n",
    "# skip it for now\n",
    "#install_package('fluidsynth')\n"
   ]
  },
  {
   "cell_type": "code",
   "execution_count": null,
   "metadata": {},
   "outputs": [],
   "source": [
    "#| code-fold: true\n",
    "#| code-summary: \"Show the code for pip installs\"\n",
    "\n",
    "!pip install -qq gdown pyfluidsynth pretty_midi torch numpy pandas midi-player multiprocess"
   ]
  },
  {
   "cell_type": "code",
   "execution_count": null,
   "metadata": {},
   "outputs": [],
   "source": [
    "#| code-fold: true\n",
    "#| code-summary: \"Show the code for imports\"\n",
    "\n",
    "\n",
    "# import (most of) what we'll need for the entire lesson\n",
    "import collections\n",
    "import datetime\n",
    "import fluidsynth\n",
    "import glob\n",
    "import pandas as pd\n",
    "import pretty_midi\n",
    "\n",
    "import torch\n",
    "from torch import nn, einsum\n",
    "from torch.nn import functional as F\n",
    "from torch.utils.data import Dataset, DataLoader\n",
    "\n",
    "from typing import Optional\n",
    "from glob import glob\n",
    "from pathlib import Path\n",
    "\n",
    "import multiprocess as mp   # multiprocess is a Jupyter-compatible fork of multiprocessing\n",
    "from functools import partial\n",
    "\n",
    "from tqdm import tqdm  # note: Quarto blog won't print output from tqdm.notebook\n",
    "#from tqdm.contrib.concurrent import process_map  # process_map throws errors on Mac :'-( \n",
    "\n",
    "import random\n",
    "import numpy as np \n",
    "import pprint\n"
   ]
  },
  {
   "cell_type": "markdown",
   "metadata": {},
   "source": [
    "## Download and Inspect the Data"
   ]
  },
  {
   "cell_type": "code",
   "execution_count": null,
   "metadata": {},
   "outputs": [
    {
     "name": "stdout",
     "output_type": "stream",
     "text": [
      "Downloading...\n",
      "From: https://drive.google.com/uc?id=1MdJiNEgtkvCx9tnyQWcnEE5GPMY6ADUb\n",
      "To: /Users/shawley/github/blog/posts/jsb_chorales_midi.tgz\n",
      "100%|█████████████████████████████████████████| 137k/137k [00:00<00:00, 113MB/s]\n",
      "Number of files: 382\n"
     ]
    }
   ],
   "source": [
    "#| code-fold: true\n",
    "#| code-summary: \"Show the code for downloading the dataset\"\n",
    "\n",
    "# Get the data\n",
    "data_source = 'jsb_chorales_midi'\n",
    "# TODO: add options for MAESTRO, others\n",
    "\n",
    "data_dir = Path('midi_data') # generic name for whatever midi we might want\n",
    "REST_PITCH = 127  # special code  used to denote rests\n",
    "\n",
    "!gdown -O {data_source}.tgz 1MdJiNEgtkvCx9tnyQWcnEE5GPMY6ADUb\n",
    "!tar zxf {data_source}.tgz; rm -rf midi_data; ln -s {data_source} midi_data ;\n",
    "\n",
    "# get the list of MIDI filenames\n",
    "filenames = sorted(glob(str(data_dir/'**/*.mid*'),recursive=True))\n",
    "print('Number of files:', len(filenames))"
   ]
  },
  {
   "cell_type": "markdown",
   "metadata": {},
   "source": [
    "Let's inspect one of the files --  using the [`MIDIPlayer`](https://github.com/drscotthawley/midi-player)  object created especially for this lesson!"
   ]
  },
  {
   "cell_type": "code",
   "execution_count": null,
   "metadata": {},
   "outputs": [
    {
     "data": {
      "text/html": [
       "<iframe srcdoc=\"&lt;script src=&quot;https://cdn.jsdelivr.net/combine/npm/tone@14.7.58,npm/@magenta/music@1.23.1/es6/core.js,npm/focus-visible@5,npm/html-midi-player@1.5.0&quot;&gt;&lt;/script&gt;\n",
       "\n",
       "&lt;style&gt;\n",
       "/* Custom player style */\n",
       "p { \n",
       "  margin:0; \n",
       "  color: #c4c4c4; /* mid-lightness text color for title, intended for dark backgrounds */\n",
       "}\n",
       "\n",
       "#section782 midi-player {\n",
       "  display: block;\n",
       "  width: inherit;\n",
       "  margin: 4px;\n",
       "  margin-bottom: 0;\n",
       "  color: #d4d4d4; /* Lighter text color for better readability */\n",
       "}\n",
       "#section782 midi-player::part(control-panel) {\n",
       "  background: #222; /* Dark background */\n",
       "  border: 2px solid #888; /* Lightened border color for contrast */\n",
       "  border-radius: 10px 10px 0 0;\n",
       "}\n",
       "#section782 midi-player::part(play-button) {\n",
       "  color: #ffffff; /* White text for visibility */\n",
       "  border: 2px solid currentColor;\n",
       "  background-color: #6c7a89; \n",
       "  border-radius: 20px;\n",
       "  transition: all 0.2s;\n",
       "  content: &#x27;hello&#x27;;\n",
       "}\n",
       "#section782 midi-player::part(play-button):hover {\n",
       "  color: #00a; \n",
       "  background-color: #9fafc9; \n",
       "  border-radius: 10px;\n",
       "}\n",
       "#section782 midi-player::part(time) {\n",
       "  font-family: monospace; /* Monospace font for time */\n",
       "}\n",
       "\n",
       "/* Custom visualizer style */\n",
       "#section782 midi-visualizer .piano-roll-visualizer {\n",
       "  background: #333; /* Dark background for visualizer */\n",
       "  border: 2px solid #505050; /* Dark border for subtle appearance */\n",
       "  border-top: none;\n",
       "  border-radius: 0 0 10px 10px;\n",
       "  margin: 4px;\n",
       "  width: inherit;\n",
       "  margin-top: 0;\n",
       "  overflow: auto;\n",
       "}\n",
       "#section782 midi-visualizer svg rect.note {\n",
       "  opacity: 0.9; \n",
       "  stroke-width: 1; /* Stroke width for note clarity */\n",
       "}\n",
       "\n",
       "/* Different instrument colors */\n",
       "#section782 midi-visualizer svg rect.note[data-instrument=&quot;0&quot;]{\n",
       "  fill: #7aa6ed; /*  blue for Instrument 0 */\n",
       "  stroke: #444; \n",
       "}\n",
       "#section782 midi-visualizer svg rect.note[data-instrument=&quot;2&quot;]{\n",
       "  fill: #d586d0; /* purple for Instrument 2 for consistency */\n",
       "  stroke: #444; /* White stroke for visibility */\n",
       "}\n",
       "#section782 midi-visualizer svg rect.note[data-is-drum=&quot;true&quot;]{\n",
       "  fill: brightorange; \n",
       "  stroke: #bbb;\n",
       "}\n",
       "#section782 midi-visualizer svg rect.note.active {\n",
       "  opacity: 0.9; /* Highlight active notes */\n",
       "  stroke: #ddd; /* White stroke for maximum contrast */\n",
       "  stroke-width: 2; /* Thicker stroke for active notes */\n",
       "}\n",
       "&lt;/style&gt;\n",
       "\n",
       "          &lt;section id=&quot;section782&quot;&gt;&lt;p style=&quot;text-align:left;font-family:Arial;&quot;&gt;midi_file = midi_data/test/jsb_chorale_test_0.mid&lt;span style=&quot;float:right;&quot;&gt;&lt;a href=&quot;data:audio/midi;base64,TVRoZAAAAAYAAQACANxNVHJrAAAAEwD/UQMHoSAA/1gEBAIYCAH/LwBNVHJrAAAEhQDAAACQNUAAOUAAPEAAQUCBUzRAADUAADdAADkAAEEAAEhAakZAAEgAaTQAADVAADcAAEVAAEYAajRAADUAADdAAENAAEUAajJAADQAADcAADlAADwAAD5AAEFAAEMAaTkAADpAAD4AAEBAai1AADIAADoAADxAAEAAAEhAgVMtAAAuQABIAABKQGouAAAwQAA6QAA8ADQ5QAA6ADUwAAAyQAA5AAA6QGoyAAA0QGk0AAA1QAA5QAA6AABIQABKAIFUNEAANQAAOQAAPEAAQQAAQ0CBUzQAADVAAEMAAEVAAEgAAEpAgVM1AAA3QAA7QAA8AABDQABFAABKAABMQIFTNwAAOUAAOwAAPEAAQUAAQwAATAAATUBqOQAAOkAAPAAAPkAAQQAAQ0BpOgAAPEAAPgAAQEAATEAATQBqNEAAN0AAPAAAQABqNAAANUAANwAAOUAAQUAAQwAASkAATABpMkAANQAAOQAAPkBqMgAAN0AAO0AAPgCBUzBAADcAADsAADxAAEBAAEEAAEhAAEoAgVMwAAA1QABAAABBQABFQABIAIFTLkAANQAAOkAAPAAARQAASkBqOUAAOgBqLgAAMEAAN0AAOQAAQEAAQQAASEAASgCBUzAAADJAADcAAD5AAEAAAEFAAEZAAEgAaTIAADRAADxAAD4AAEEAAENAajQAADVAAEFAAEMAAEVAAEYAai5AADUAaS4AADBAAENAAEUAgVNAQABBAIFUKUAAMAAAQAAAQUAAQwCDJikAADRAAEEAAENAAEhAgyY0AAA1QABDAABFQABIAIMnMEAANQAAQ0AARQAASECDJilAADAAAEFAAEMAAEVAAEgAhBApAAArQGorAAAtQGktAAAuQGouAAAwQABAQABBAABDQABFAGowAAAyQAA+QABAAGkyAAA0QAA+AGowQAA0AAA6QGkwAAA1QAA5QAA6AABDAABFQGo1AAA3QAA5AAA6QGo3AAA5QAA6AGk5AAA6QAA+QGo6AAA+AABAQABDQABFAGk6QGo5QAA6AGo3QAA5AGk1QAA3AABAAABBQABDAABFQGo0QAA1AGkyQAA0AAA8AAA+QGowQAAyAGouQAAwAABDQABFAGkrQAAuAGorAAAwQAA8QAA+AABAQABBAGk6QAA8AGopQAAwAAA5QAA6AABAAABBQABDAIMmJkAAKQAAOQAAPkAAQQAARUAATUBqJgAAKUAAPEAAPgBqKQAAK0AAOkAAPAAAQ0AARQAATEAATQBpKwAALUBqLQAALkAAQUAAQwAASkAATABpOUAAOgBqLgAAMEAAN0AAOQAAQEAAQQAASEAASgCBUzAAADJAADVAADcAAD5AAEAAAEZAAEgAajIAADRAADUAADdAaTQAADVAADcAADlAADxAAD4AAEVAAEYAai1AADUAADkAai0AAC5AADpAADwAAD5AAENAAEUAaStAAC4ANTlAADoANSsAADBAADdAADkAADxAAD4AgVMpQAAwAAA3AAA5QABBQABDAIMmKQAAOQAAPAAAQQAB/y8A&quot; target=&quot;_blank&quot;&gt;Download MIDI&lt;/a&gt;&lt;br&gt;&lt;/span&gt;&lt;/p&gt;\n",
       "          &lt;midi-player src=data:audio/midi;base64,TVRoZAAAAAYAAQACANxNVHJrAAAAEwD/UQMHoSAA/1gEBAIYCAH/LwBNVHJrAAAEhQDAAACQNUAAOUAAPEAAQUCBUzRAADUAADdAADkAAEEAAEhAakZAAEgAaTQAADVAADcAAEVAAEYAajRAADUAADdAAENAAEUAajJAADQAADcAADlAADwAAD5AAEFAAEMAaTkAADpAAD4AAEBAai1AADIAADoAADxAAEAAAEhAgVMtAAAuQABIAABKQGouAAAwQAA6QAA8ADQ5QAA6ADUwAAAyQAA5AAA6QGoyAAA0QGk0AAA1QAA5QAA6AABIQABKAIFUNEAANQAAOQAAPEAAQQAAQ0CBUzQAADVAAEMAAEVAAEgAAEpAgVM1AAA3QAA7QAA8AABDQABFAABKAABMQIFTNwAAOUAAOwAAPEAAQUAAQwAATAAATUBqOQAAOkAAPAAAPkAAQQAAQ0BpOgAAPEAAPgAAQEAATEAATQBqNEAAN0AAPAAAQABqNAAANUAANwAAOUAAQUAAQwAASkAATABpMkAANQAAOQAAPkBqMgAAN0AAO0AAPgCBUzBAADcAADsAADxAAEBAAEEAAEhAAEoAgVMwAAA1QABAAABBQABFQABIAIFTLkAANQAAOkAAPAAARQAASkBqOUAAOgBqLgAAMEAAN0AAOQAAQEAAQQAASEAASgCBUzAAADJAADcAAD5AAEAAAEFAAEZAAEgAaTIAADRAADxAAD4AAEEAAENAajQAADVAAEFAAEMAAEVAAEYAai5AADUAaS4AADBAAENAAEUAgVNAQABBAIFUKUAAMAAAQAAAQUAAQwCDJikAADRAAEEAAENAAEhAgyY0AAA1QABDAABFQABIAIMnMEAANQAAQ0AARQAASECDJilAADAAAEFAAEMAAEVAAEgAhBApAAArQGorAAAtQGktAAAuQGouAAAwQABAQABBAABDQABFAGowAAAyQAA+QABAAGkyAAA0QAA+AGowQAA0AAA6QGkwAAA1QAA5QAA6AABDAABFQGo1AAA3QAA5AAA6QGo3AAA5QAA6AGk5AAA6QAA+QGo6AAA+AABAQABDQABFAGk6QGo5QAA6AGo3QAA5AGk1QAA3AABAAABBQABDAABFQGo0QAA1AGkyQAA0AAA8AAA+QGowQAAyAGouQAAwAABDQABFAGkrQAAuAGorAAAwQAA8QAA+AABAQABBAGk6QAA8AGopQAAwAAA5QAA6AABAAABBQABDAIMmJkAAKQAAOQAAPkAAQQAARUAATUBqJgAAKUAAPEAAPgBqKQAAK0AAOkAAPAAAQ0AARQAATEAATQBpKwAALUBqLQAALkAAQUAAQwAASkAATABpOUAAOgBqLgAAMEAAN0AAOQAAQEAAQQAASEAASgCBUzAAADJAADVAADcAAD5AAEAAAEZAAEgAajIAADRAADUAADdAaTQAADVAADcAADlAADxAAD4AAEVAAEYAai1AADUAADkAai0AAC5AADpAADwAAD5AAENAAEUAaStAAC4ANTlAADoANSsAADBAADdAADkAADxAAD4AgVMpQAAwAAA3AAA5QABBQABDAIMmKQAAOQAAPAAAQQAB/y8A sound-font visualizer=&quot;#section782 midi-visualizer&quot;&gt;&lt;/midi-player&gt;\n",
       "          &lt;midi-visualizer src=data:audio/midi;base64,TVRoZAAAAAYAAQACANxNVHJrAAAAEwD/UQMHoSAA/1gEBAIYCAH/LwBNVHJrAAAEhQDAAACQNUAAOUAAPEAAQUCBUzRAADUAADdAADkAAEEAAEhAakZAAEgAaTQAADVAADcAAEVAAEYAajRAADUAADdAAENAAEUAajJAADQAADcAADlAADwAAD5AAEFAAEMAaTkAADpAAD4AAEBAai1AADIAADoAADxAAEAAAEhAgVMtAAAuQABIAABKQGouAAAwQAA6QAA8ADQ5QAA6ADUwAAAyQAA5AAA6QGoyAAA0QGk0AAA1QAA5QAA6AABIQABKAIFUNEAANQAAOQAAPEAAQQAAQ0CBUzQAADVAAEMAAEVAAEgAAEpAgVM1AAA3QAA7QAA8AABDQABFAABKAABMQIFTNwAAOUAAOwAAPEAAQUAAQwAATAAATUBqOQAAOkAAPAAAPkAAQQAAQ0BpOgAAPEAAPgAAQEAATEAATQBqNEAAN0AAPAAAQABqNAAANUAANwAAOUAAQUAAQwAASkAATABpMkAANQAAOQAAPkBqMgAAN0AAO0AAPgCBUzBAADcAADsAADxAAEBAAEEAAEhAAEoAgVMwAAA1QABAAABBQABFQABIAIFTLkAANQAAOkAAPAAARQAASkBqOUAAOgBqLgAAMEAAN0AAOQAAQEAAQQAASEAASgCBUzAAADJAADcAAD5AAEAAAEFAAEZAAEgAaTIAADRAADxAAD4AAEEAAENAajQAADVAAEFAAEMAAEVAAEYAai5AADUAaS4AADBAAENAAEUAgVNAQABBAIFUKUAAMAAAQAAAQUAAQwCDJikAADRAAEEAAENAAEhAgyY0AAA1QABDAABFQABIAIMnMEAANQAAQ0AARQAASECDJilAADAAAEFAAEMAAEVAAEgAhBApAAArQGorAAAtQGktAAAuQGouAAAwQABAQABBAABDQABFAGowAAAyQAA+QABAAGkyAAA0QAA+AGowQAA0AAA6QGkwAAA1QAA5QAA6AABDAABFQGo1AAA3QAA5AAA6QGo3AAA5QAA6AGk5AAA6QAA+QGo6AAA+AABAQABDQABFAGk6QGo5QAA6AGo3QAA5AGk1QAA3AABAAABBQABDAABFQGo0QAA1AGkyQAA0AAA8AAA+QGowQAAyAGouQAAwAABDQABFAGkrQAAuAGorAAAwQAA8QAA+AABAQABBAGk6QAA8AGopQAAwAAA5QAA6AABAAABBQABDAIMmJkAAKQAAOQAAPkAAQQAARUAATUBqJgAAKUAAPEAAPgBqKQAAK0AAOkAAPAAAQ0AARQAATEAATQBpKwAALUBqLQAALkAAQUAAQwAASkAATABpOUAAOgBqLgAAMEAAN0AAOQAAQEAAQQAASEAASgCBUzAAADJAADVAADcAAD5AAEAAAEZAAEgAajIAADRAADUAADdAaTQAADVAADcAADlAADxAAD4AAEVAAEYAai1AADUAADkAai0AAC5AADpAADwAAD5AAENAAEUAaStAAC4ANTlAADoANSsAADBAADdAADkAADxAAD4AgVMpQAAwAAA3AAA5QABBQABDAIMmKQAAOQAAPAAAQQAB/y8A type=piano-roll&gt;&lt;/midi-visualizer&gt;\n",
       "          &lt;/section&gt;\n",
       "          \" width=\"100%\" height=\"360\"\n",
       "            style=\"border:none !important;\"\n",
       "            \"allowfullscreen\" \"webkitallowfullscreen\" \"mozallowfullscreen\">'\n",
       "            </iframe>"
      ],
      "text/plain": [
       "<midi_player.midi_player.MIDIPlayer>"
      ]
     },
     "execution_count": null,
     "metadata": {},
     "output_type": "execute_result"
    }
   ],
   "source": [
    "#| code-fold: true\n",
    "#| code-summary: \"Show the code for MIDI player usage\"\n",
    "#| label: fig-midi-play1\n",
    "#| fig-cap: Example of the first MIDI file on our list. (Press the play button to listen.)  These particular notes really *were* arranged on a \"grid,\" however I converted them to a series of MIDI \"notes,\" occurring one after the other in the file, with simultaneously-starting notes sorted in ascending order of pitch.\n",
    "\n",
    "from midi_player import MIDIPlayer\n",
    "from midi_player.stylers import general, dark # I like dark mode\n",
    "\n",
    "midi_file = filenames[0]\n",
    "MIDIPlayer(midi_file, 360, styler=dark, title=f\"midi_file = {midi_file}\")"
   ]
  },
  {
   "cell_type": "markdown",
   "metadata": {},
   "source": [
    "::: {.callout-note}\n",
    "Sometimes the `MIDIPlayer`'s piano roll view will appear blank if the notes are below the bottom of the visible frame. Scroll downward inside the player to reveal all the notes.  The piano roll also scrolls left & right. \n",
    ":::\n",
    "\n",
    "\n",
    "Let's load a single file and convert it to a PyTorch tensor called `notes_tensor`, and we'll go ahead and convert \"start\" and \"end\" times \"step\" and \"duration\" times. So, displaying the first several notes (using a `pandas` dataframe for style) we see..."
   ]
  },
  {
   "cell_type": "code",
   "execution_count": null,
   "metadata": {},
   "outputs": [
    {
     "data": {
      "text/html": [
       "\n",
       "<style>\n",
       ".dataframe {\n",
       "    width: 40%; /* Adjust this value as needed */\n",
       "    margin-left: auto;\n",
       "    margin-right: auto;\n",
       "}\n",
       ".dataframe th, .dataframe td {\n",
       "    text-align: center;\n",
       "    width: auto !important;\n",
       "}\n",
       "\n",
       "table {\n",
       "    margin-left: auto;\n",
       "    margin-right: auto;\n",
       "}\n",
       "th, td {\n",
       "    text-align: center;\n",
       "    min-width: 100px; /* Or any other width */\n",
       "}\n",
       "</style>\n"
      ],
      "text/plain": [
       "<IPython.core.display.HTML object>"
      ]
     },
     "metadata": {},
     "output_type": "display_data"
    },
    {
     "data": {
      "text/html": [
       "<table border=\"1\" class=\"dataframe\">\n",
       "  <thead>\n",
       "    <tr style=\"text-align: right;\">\n",
       "      <th>pitch</th>\n",
       "      <th>step</th>\n",
       "      <th>duration</th>\n",
       "    </tr>\n",
       "  </thead>\n",
       "  <tbody>\n",
       "    <tr>\n",
       "      <td>53.0</td>\n",
       "      <td>0.00</td>\n",
       "      <td>0.48</td>\n",
       "    </tr>\n",
       "    <tr>\n",
       "      <td>57.0</td>\n",
       "      <td>0.00</td>\n",
       "      <td>0.48</td>\n",
       "    </tr>\n",
       "    <tr>\n",
       "      <td>60.0</td>\n",
       "      <td>0.00</td>\n",
       "      <td>1.44</td>\n",
       "    </tr>\n",
       "    <tr>\n",
       "      <td>65.0</td>\n",
       "      <td>0.00</td>\n",
       "      <td>0.48</td>\n",
       "    </tr>\n",
       "    <tr>\n",
       "      <td>52.0</td>\n",
       "      <td>0.48</td>\n",
       "      <td>0.48</td>\n",
       "    </tr>\n",
       "    <tr>\n",
       "      <td>55.0</td>\n",
       "      <td>0.00</td>\n",
       "      <td>0.48</td>\n",
       "    </tr>\n",
       "    <tr>\n",
       "      <td>72.0</td>\n",
       "      <td>0.00</td>\n",
       "      <td>0.24</td>\n",
       "    </tr>\n",
       "    <tr>\n",
       "      <td>70.0</td>\n",
       "      <td>0.24</td>\n",
       "      <td>0.24</td>\n",
       "    </tr>\n",
       "  </tbody>\n",
       "</table>"
      ],
      "text/plain": [
       "<IPython.core.display.HTML object>"
      ]
     },
     "execution_count": null,
     "metadata": {},
     "output_type": "execute_result"
    }
   ],
   "source": [
    "#| code-fold: true\n",
    "#| code-summary: \"Show the code\"\n",
    "#| label: tbl-firstnotes\n",
    "#| tbl-cap: \"First 8 notes of `notes_tensor`\"\n",
    "\n",
    "def quantize_times(times, \n",
    "                   res_ms=8, # resolution in milliseconds. 8ms was deemed sufficient for MAESTRO.\n",
    "                   clamp_range_s=[0.0,4.0]):\n",
    "    quant_step = res_ms / 1000.0\n",
    "    q_times = torch.round(times / quant_step) * quant_step\n",
    "    if clamp_range_s is not None: \n",
    "        q_times = torch.clamp(q_times, clamp_range_s[0], clamp_range_s[1])\n",
    "    return q_times\n",
    "\n",
    "def midi_file_to_tensor(filenames, i=None, keep_start_end=False, rest_pitches=[REST_PITCH]):  # filenames could just be a single filename\n",
    "    midi_file = filenames if i is None or type(filenames)==str  else filenames[i]\n",
    "    \"reads a single midi file and converts it to tensor with elements (pitch, step, duration)\"\n",
    "    pm = pretty_midi.PrettyMIDI(midi_file) # read in the whole file. this can be very slow for long MIDI files (e.g. in MAESTRO)\n",
    "\n",
    "    # Sort the notes first by start time (and then by pitch if two notes start at the same time)\n",
    "    sorted_notes = sorted(pm.instruments[0].notes, key=lambda note: (note.start, note.pitch))\n",
    "    #notes = torch.empty( (len(sorted_notes), 3 + 2*keep_start_end), dtype=torch.float32 ) # allocate storage\n",
    "    \n",
    "    prev_start = sorted_notes[0].start\n",
    "    notes = []\n",
    "    for i, note in enumerate(sorted_notes):\n",
    "        new_note =  torch.empty( (3 + 2*keep_start_end) , dtype=torch.float32)\n",
    "        if int(note.pitch) in rest_pitches: continue  # we can actually delete the rests! \n",
    "        new_note[0] = note.pitch\n",
    "        new_note[1] = note.start - prev_start  # step, i.e. time since start of previous note\n",
    "        new_note[2] = note.end - note.start    # duration\n",
    "        if keep_start_end:                     # might find it useful be able to keep these for easier analysis later\n",
    "            new_note[3] = note.start\n",
    "            new_note[4] = note.end\n",
    "        prev_start = note.start\n",
    "        notes.append(new_note)\n",
    "\n",
    "    notes = torch.vstack(notes)\n",
    "    notes[:,1:] = quantize_times(notes[:,1:])\n",
    "    return notes\n",
    "\n",
    "notes_tensor = midi_file_to_tensor(midi_file)\n",
    "pd.set_option('display.notebook_repr_html', True)\n",
    "notes_df = pd.DataFrame(notes_tensor, columns=['pitch','step','duration']) # actually df's look nicer\n",
    "\n",
    "\n",
    "# making it look better in the blog: adjust width of pandas dataframes\n",
    "display(HTML('''\n",
    "<style>\n",
    ".dataframe {\n",
    "    width: 40%; /* Adjust this value as needed */\n",
    "    margin-left: auto;\n",
    "    margin-right: auto;\n",
    "}\n",
    ".dataframe th, .dataframe td {\n",
    "    text-align: center;\n",
    "    width: auto !important;\n",
    "}\n",
    "\n",
    "table {\n",
    "    margin-left: auto;\n",
    "    margin-right: auto;\n",
    "}\n",
    "th, td {\n",
    "    text-align: center;\n",
    "    min-width: 100px; /* Or any other width */\n",
    "}\n",
    "</style>\n",
    "'''))\n",
    "HTML(notes_df[:8].to_html(index=False))"
   ]
  },
  {
   "cell_type": "markdown",
   "metadata": {},
   "source": [
    "We'll convert those floating point numbers to integers via the \"tokenizer\" below. \n",
    "\n",
    "Now we'll load each song into an entry in a list called `notes_tensor_list`:"
   ]
  },
  {
   "cell_type": "code",
   "execution_count": null,
   "metadata": {},
   "outputs": [
    {
     "name": "stderr",
     "output_type": "stream",
     "text": [
      "100%|███████████████████████████████████████████████████████████████████████████████████████████| 382/382 [00:02<00:00, 155.96it/s]"
     ]
    },
    {
     "name": "stdout",
     "output_type": "stream",
     "text": [
      "\n",
      "len(notes_tensor_list) = 382\n"
     ]
    },
    {
     "name": "stderr",
     "output_type": "stream",
     "text": [
      "\n"
     ]
    }
   ],
   "source": [
    "#| code-fold: true\n",
    "#| code-summary: \"Show the code\"\n",
    "\n",
    "\n",
    "def files_to_tensor_list(filenames, keep_start_end=False, serial=True):\n",
    "    \"Reads MIDI files in parallel so should be reasonably fast. JSB Chorales are no prob but for MAESTRO you want this\"\n",
    "    # tensor_list = process_map(midi_file_to_tensor, filenames, max_workers=mp.cpu_count(), chunksize=1) # Doesn't work on Mac\n",
    "    tensor_list = []\n",
    "    max_ = len(filenames)\n",
    "    if serial:\n",
    "        for i, filename in enumerate(tqdm(filenames)):\n",
    "            tensor_list.append(midi_file_to_tensor(filename,  keep_start_end=keep_start_end))\n",
    "    else:\n",
    "        with mp.Pool(processes=mp.cpu_count()) as p:\n",
    "            with tqdm(total=max_) as pbar:\n",
    "                for r in p.imap_unordered(partial(midi_file_to_tensor, filenames, keep_start_end=keep_start_end), range(0, max_)):\n",
    "                    tensor_list.append(r)\n",
    "                    pbar.update()\n",
    "    return  tensor_list\n",
    "\n",
    "\n",
    "\n",
    "\n",
    "notes_tensor_list_filename = f'{data_source}_tensor_list.pt'         # we'll save the result to a file for easier re-reading next time\n",
    "read_all_midi_files = True # not os.path.exists(notes_tensor_list_filename) # check to see if it already exists\n",
    "\n",
    "if read_all_midi_files:\n",
    "    notes_tensor_list = files_to_tensor_list(filenames, serial=True)\n",
    "    torch.save(notes_tensor_list, notes_tensor_list_filename) # save for next time\n",
    "else:\n",
    "    notes_tensor_list = torch.load(notes_tensor_list_filename) # just read from the last time we made one\n",
    "    \n",
    "print(f\"\\nlen(notes_tensor_list) = {len(notes_tensor_list)}\")"
   ]
  },
  {
   "cell_type": "markdown",
   "metadata": {},
   "source": [
    "Also, let's make a single tensor `all_notes` out of all the notes. We're only going to use this for analysis purposes; for everything else we'll use the `notes_tensor_list`, which...I'm now going to abbreviate as `notes_tl`"
   ]
  },
  {
   "cell_type": "code",
   "execution_count": null,
   "metadata": {},
   "outputs": [
    {
     "name": "stdout",
     "output_type": "stream",
     "text": [
      "all_notes.shape =  torch.Size([78349, 3])\n"
     ]
    }
   ],
   "source": [
    "notes_tl = notes_tensor_list\n",
    "all_notes = torch.vstack(notes_tl).type(torch.float32)\n",
    "print(\"all_notes.shape = \",all_notes.shape)"
   ]
  },
  {
   "cell_type": "markdown",
   "metadata": {},
   "source": [
    "## Making a Tokenizer\n",
    "\n",
    "Rather than try something sophisticated like calling [MidiTok](https://github.com/Natooz/MidiTok), we're going to treat this like a \"char-level RNN\" and just regard each note as a \"parallel\" group of 3 tokens (one token for pitch, step, and duration).  This means that we will need 3 \"codebooks\" that can encode & decode between true values and their tokens. \n",
    "<details><summary>Details</summary>\n",
    "\n",
    "\n",
    "For the pitch values, it's pretty easy since there are up to 128 pitches. Probably they won't all be used, so we *could* limit the range of pitches, however, I'm going to want to do some pitch-bending data augmentation, so the pitch tokens will just be `int` versions of their `floats`, indices in a 128-dimensional space. \n",
    "\n",
    "For the timing -- which I don't plan to do any augmentation of -- we'll just write down what  unique values are present. These will form the \"vocabularies\" that we often see used in NLP settings. \n",
    "\n",
    "Oh, also: The timing values end up being *reaaalllly* long in some cases. Like, notes with 15 seconds in duration?  I'm going to go ahead an clamp those to a maximum value of 4 seconds. "
   ]
  },
  {
   "cell_type": "code",
   "execution_count": null,
   "metadata": {},
   "outputs": [
    {
     "data": {
      "text/html": [
       "vocab_sizes = [128, 15, 28]"
      ],
      "text/plain": [
       "<IPython.core.display.HTML object>"
      ]
     },
     "metadata": {},
     "output_type": "display_data"
    },
    {
     "data": {
      "text/html": [
       "Codebooks for steps & durs are not the same:"
      ],
      "text/plain": [
       "<IPython.core.display.HTML object>"
      ]
     },
     "metadata": {},
     "output_type": "display_data"
    },
    {
     "data": {
      "text/html": [
       "<div style=\"width: 100%; text-align: center;\">\n",
       "    <table style=\"margin-left: auto; margin-right: auto;\"> <tr>\n",
       "    <td style=\"vertical-align: top;\"><table border=\"1\" class=\"dataframe\">\n",
       "  <thead>\n",
       "    <tr style=\"text-align: right;\">\n",
       "      <th>steps: value</th>\n",
       "      <th>steps: index</th>\n",
       "    </tr>\n",
       "  </thead>\n",
       "  <tbody>\n",
       "    <tr>\n",
       "      <td>0.00</td>\n",
       "      <td>0</td>\n",
       "    </tr>\n",
       "    <tr>\n",
       "      <td>0.12</td>\n",
       "      <td>1</td>\n",
       "    </tr>\n",
       "    <tr>\n",
       "      <td>0.24</td>\n",
       "      <td>2</td>\n",
       "    </tr>\n",
       "    <tr>\n",
       "      <td>0.36</td>\n",
       "      <td>3</td>\n",
       "    </tr>\n",
       "    <tr>\n",
       "      <td>0.48</td>\n",
       "      <td>4</td>\n",
       "    </tr>\n",
       "    <tr>\n",
       "      <td>0.72</td>\n",
       "      <td>5</td>\n",
       "    </tr>\n",
       "    <tr>\n",
       "      <td>0.96</td>\n",
       "      <td>6</td>\n",
       "    </tr>\n",
       "    <tr>\n",
       "      <td>1.20</td>\n",
       "      <td>7</td>\n",
       "    </tr>\n",
       "    <tr>\n",
       "      <td>1.44</td>\n",
       "      <td>8</td>\n",
       "    </tr>\n",
       "    <tr>\n",
       "      <td>1.68</td>\n",
       "      <td>9</td>\n",
       "    </tr>\n",
       "    <tr>\n",
       "      <td>1.92</td>\n",
       "      <td>10</td>\n",
       "    </tr>\n",
       "    <tr>\n",
       "      <td>2.40</td>\n",
       "      <td>11</td>\n",
       "    </tr>\n",
       "    <tr>\n",
       "      <td>2.88</td>\n",
       "      <td>12</td>\n",
       "    </tr>\n",
       "    <tr>\n",
       "      <td>3.84</td>\n",
       "      <td>13</td>\n",
       "    </tr>\n",
       "    <tr>\n",
       "      <td>4.00</td>\n",
       "      <td>14</td>\n",
       "    </tr>\n",
       "  </tbody>\n",
       "</table></td>\n",
       "    <td style=\"width: 50px;\"></td>\n",
       "    <td style=\"vertical-align: top;\"><table border=\"1\" class=\"dataframe\">\n",
       "  <thead>\n",
       "    <tr style=\"text-align: right;\">\n",
       "      <th>durs: value</th>\n",
       "      <th>durs: index</th>\n",
       "    </tr>\n",
       "  </thead>\n",
       "  <tbody>\n",
       "    <tr>\n",
       "      <td>0.12</td>\n",
       "      <td>0</td>\n",
       "    </tr>\n",
       "    <tr>\n",
       "      <td>0.24</td>\n",
       "      <td>1</td>\n",
       "    </tr>\n",
       "    <tr>\n",
       "      <td>0.36</td>\n",
       "      <td>2</td>\n",
       "    </tr>\n",
       "    <tr>\n",
       "      <td>0.48</td>\n",
       "      <td>3</td>\n",
       "    </tr>\n",
       "    <tr>\n",
       "      <td>0.60</td>\n",
       "      <td>4</td>\n",
       "    </tr>\n",
       "    <tr>\n",
       "      <td>0.72</td>\n",
       "      <td>5</td>\n",
       "    </tr>\n",
       "    <tr>\n",
       "      <td>0.84</td>\n",
       "      <td>6</td>\n",
       "    </tr>\n",
       "    <tr>\n",
       "      <td>0.96</td>\n",
       "      <td>7</td>\n",
       "    </tr>\n",
       "    <tr>\n",
       "      <td>1.08</td>\n",
       "      <td>8</td>\n",
       "    </tr>\n",
       "    <tr>\n",
       "      <td>1.20</td>\n",
       "      <td>9</td>\n",
       "    </tr>\n",
       "    <tr>\n",
       "      <td>1.32</td>\n",
       "      <td>10</td>\n",
       "    </tr>\n",
       "    <tr>\n",
       "      <td>1.44</td>\n",
       "      <td>11</td>\n",
       "    </tr>\n",
       "    <tr>\n",
       "      <td>1.56</td>\n",
       "      <td>12</td>\n",
       "    </tr>\n",
       "    <tr>\n",
       "      <td>1.68</td>\n",
       "      <td>13</td>\n",
       "    </tr>\n",
       "    <tr>\n",
       "      <td>1.80</td>\n",
       "      <td>14</td>\n",
       "    </tr>\n",
       "    <tr>\n",
       "      <td>1.92</td>\n",
       "      <td>15</td>\n",
       "    </tr>\n",
       "    <tr>\n",
       "      <td>2.04</td>\n",
       "      <td>16</td>\n",
       "    </tr>\n",
       "    <tr>\n",
       "      <td>2.16</td>\n",
       "      <td>17</td>\n",
       "    </tr>\n",
       "    <tr>\n",
       "      <td>2.40</td>\n",
       "      <td>18</td>\n",
       "    </tr>\n",
       "    <tr>\n",
       "      <td>2.52</td>\n",
       "      <td>19</td>\n",
       "    </tr>\n",
       "    <tr>\n",
       "      <td>2.64</td>\n",
       "      <td>20</td>\n",
       "    </tr>\n",
       "    <tr>\n",
       "      <td>2.88</td>\n",
       "      <td>21</td>\n",
       "    </tr>\n",
       "    <tr>\n",
       "      <td>3.12</td>\n",
       "      <td>22</td>\n",
       "    </tr>\n",
       "    <tr>\n",
       "      <td>3.24</td>\n",
       "      <td>23</td>\n",
       "    </tr>\n",
       "    <tr>\n",
       "      <td>3.36</td>\n",
       "      <td>24</td>\n",
       "    </tr>\n",
       "    <tr>\n",
       "      <td>3.60</td>\n",
       "      <td>25</td>\n",
       "    </tr>\n",
       "    <tr>\n",
       "      <td>3.84</td>\n",
       "      <td>26</td>\n",
       "    </tr>\n",
       "    <tr>\n",
       "      <td>4.00</td>\n",
       "      <td>27</td>\n",
       "    </tr>\n",
       "  </tbody>\n",
       "</table></td>\n",
       "    </tr></table></div>"
      ],
      "text/plain": [
       "<IPython.core.display.HTML object>"
      ]
     },
     "metadata": {},
     "output_type": "display_data"
    }
   ],
   "source": [
    "#| code-fold: true\n",
    "#| code-summary: \"Show the code\"\n",
    "\n",
    "from collections import defaultdict \n",
    "\n",
    "def make_codebooks(all_notes, verbose=False):\n",
    "    codebooks = []\n",
    "    n_codebooks = all_notes.shape[-1] # should be 3\n",
    "    for i in range(n_codebooks): \n",
    "        if i==0:  # i=0 means pitch\n",
    "            cb_vals = torch.arange(128)  # just use all possible pitches \n",
    "        else:     # i!=0 means timing\n",
    "            cb_vals = all_notes[:,i].unique().sort()[0] \n",
    "        if verbose: print(f\"\\n---\\ncb {i}: cb_vals = {cb_vals}\")\n",
    "        codebooks.append({'encode':{np.round(k.item(),3): int(v) for v, k in enumerate(cb_vals)}, # codebooks go both ways\n",
    "                          'decode':{int(v): k for v, k in enumerate(cb_vals)}})\n",
    "        if verbose: print(f\" cb {i}: cb keys = {codebooks[-1]['encode'].keys()}\")\n",
    "    return codebooks\n",
    "\n",
    "all_notes[:,1:] = quantize_times(all_notes[:,1:])\n",
    "codebooks = make_codebooks(all_notes)\n",
    "\n",
    "vocab_sizes = [len(cb['encode']) for cb in codebooks]\n",
    "display(HTML(f\"vocab_sizes = {vocab_sizes}\"))\n",
    "\n",
    "# Just a nice way to display the codebooks in the blog post: \n",
    "df1 = pd.DataFrame( [[k,v] for k,v in codebooks[1]['encode'].items()], columns=['steps: value','steps: index'])\n",
    "df2 = pd.DataFrame( [[k,v] for k,v in codebooks[2]['encode'].items()], columns=['durs: value','durs: index'])\n",
    "display(HTML(f\"Codebooks for steps & durs are {'' if df1.equals(df2) else 'not '}the same:\"))\n",
    "\n",
    "html1, html2 = df1.to_html(index=False),  df2.to_html(index=False)\n",
    "\n",
    "# Combine HTML strings with a space in between\n",
    "combined_html = f'''<div style=\"width: 100%; text-align: center;\">\n",
    "    <table style=\"margin-left: auto; margin-right: auto;\"> <tr>\n",
    "    <td style=\"vertical-align: top;\">{html1}</td>\n",
    "    <td style=\"width: 50px;\"></td>\n",
    "    <td style=\"vertical-align: top;\">{html2}</td>\n",
    "    </tr></table></div>'''\n",
    "\n",
    "# Display the combined HTML\n",
    "display(HTML(combined_html))\n",
    "\n"
   ]
  },
  {
   "cell_type": "markdown",
   "metadata": {},
   "source": [
    " Now we need routines to convert back and forth between values and codebook indices. We'll make a single function `remap_vals()` that can either go \"forward\" for encoding, or \"backward\" for decoding:"
   ]
  },
  {
   "cell_type": "code",
   "execution_count": null,
   "metadata": {},
   "outputs": [
    {
     "name": "stdout",
     "output_type": "stream",
     "text": [
      "Before encoding, midi_seq =\n",
      " tensor([[53.0000,  0.0000,  0.4800],\n",
      "        [57.0000,  0.0000,  0.4800],\n",
      "        [60.0000,  0.0000,  1.4400],\n",
      "        [65.0000,  0.0000,  0.4800],\n",
      "        [52.0000,  0.4800,  0.4800],\n",
      "        [55.0000,  0.0000,  0.4800]])\n",
      "After encoding, token_list =\n",
      " tensor([[53,  0,  3],\n",
      "        [57,  0,  3],\n",
      "        [60,  0, 11],\n",
      "        [65,  0,  3],\n",
      "        [52,  4,  3],\n",
      "        [55,  0,  3]])\n",
      "After decoding, return_seq =\n",
      " tensor([[53.0000,  0.0000,  0.4800],\n",
      "        [57.0000,  0.0000,  0.4800],\n",
      "        [60.0000,  0.0000,  1.4400],\n",
      "        [65.0000,  0.0000,  0.4800],\n",
      "        [52.0000,  0.4800,  0.4800],\n",
      "        [55.0000,  0.0000,  0.4800]])\n",
      "Checks pass! :-)\n"
     ]
    }
   ],
   "source": [
    "#| code-fold: true\n",
    "#| code-summary: \"Show the code\"\n",
    "def remap_vals(seq, encdec_str, dtype=torch.long):\n",
    "    out = torch.zeros_like(seq, dtype=dtype)\n",
    "    for cb in range(seq.shape[-1]): \n",
    "        dict_map = codebooks[cb][encdec_str]\n",
    "        default_map = max(codebooks[cb][encdec_str].values())\n",
    "        out[:,cb] = torch.tensor([dict_map.get(np.round(x.item(),3),default_map) for x in seq[:,cb]], dtype=dtype) # that np.round(,3) is good for avoiding KeyErrors\n",
    "        #out[:,cb] = torch.tensor([dict_map[np.round(x.item(),3)] for x in seq[:,cb]], dtype=dtype)\n",
    "    return out \n",
    "\n",
    "# We'll be calling these 'encode' and 'decode functions', which really just pull up the applicable part of the codebooks\n",
    "encode = lambda s: remap_vals(s, 'encode')\n",
    "decode = lambda s: remap_vals(s, 'decode', dtype=all_notes.dtype)\n",
    "\n",
    "\n",
    "# And let's do a little test\n",
    "midi_seq = all_notes[0:6].clone()\n",
    "print(\"Before encoding, midi_seq =\\n\",midi_seq)\n",
    "token_list = encode(midi_seq)\n",
    "print(\"After encoding, token_list =\\n\",token_list)\n",
    "return_seq = decode(token_list)\n",
    "print(\"After decoding, return_seq =\\n\",return_seq)\n",
    "assert torch.equal(midi_seq, return_seq), f\"Oops. midi_seq={midi_seq}, but return_seq={return_seq}. Should be the same\"\n",
    "\n",
    "\n",
    "midi_seq[-1,-1] = 100.0  # give the last time a huge value to check that our mapper won't crash\n",
    "token_list = encode(midi_seq) # if it doesn't crash, we're good\n",
    "assert token_list[-1,-1] == list(codebooks[-1]['encode'].values())[-1], \"Big value should have gotten the last spot in the last codebook\"\n",
    "\n",
    "print(\"Checks pass! :-)\")"
   ]
  },
  {
   "cell_type": "markdown",
   "metadata": {},
   "source": [
    "### More Checks:\n",
    "\n",
    "Before moving on, it's a good idea to double check: Can we really encode and decode an entire midi sequence? Let's write some more utility files.  Notably the `midiplayer()` routine which will allow us to play our PyTorch tensors directly in this notebook."
   ]
  },
  {
   "cell_type": "code",
   "execution_count": null,
   "metadata": {},
   "outputs": [],
   "source": [
    "#| code-fold: true\n",
    "#| code-summary: \"Show the code\"\n",
    "\n",
    "def get_startend(notes:torch.Tensor) -> torch.Tensor:\n",
    "    \"integrates (step,duration) timing pairs to recover (start,end) info. concats them as new columns\"\n",
    "    newnotes = torch.zeros((len(notes), 5), dtype=notes.dtype, device=notes.device)\n",
    "    newnotes[:,:3] = notes[:,:3]\n",
    "    prev_start = 0.0\n",
    "    for i, note in enumerate(notes): \n",
    "        step, dur = note[1], note[2]\n",
    "        start = step  + prev_start \n",
    "        end   = start + dur\n",
    "        newnotes[i,3], newnotes[i,4] = start, end\n",
    "        prev_start = start   \n",
    "    return newnotes\n",
    "    \n",
    "\n",
    "def notes_to_midi(notes:torch.Tensor, \n",
    "                  time_rescale=None, \n",
    "                  out_file: str = '',\n",
    "                  instrument_name: str = 'Acoustic Grand Piano',\n",
    "                  velocity: int = 64,  # default loudness for all notes\n",
    "                 ) -> pretty_midi.PrettyMIDI:\n",
    "    notes = notes.clone() # just to avoid weird overwrites of memory addresses\n",
    "    if notes.min() < 0.0:\n",
    "      print(\"WARNING: You have negative pitches, steps or durations. Setting them to zero\")\n",
    "      notes = notes * (notes >= 0)\n",
    "    if time_rescale is not None: # just added this because sometime I want to slow/speed up\n",
    "        notes[:,1:] = notes[:,1:] *time_rescale\n",
    "        \n",
    "    pm = pretty_midi.PrettyMIDI()\n",
    "    instrument = pretty_midi.Instrument(\n",
    "        program=pretty_midi.instrument_name_to_program(\n",
    "            instrument_name))\n",
    "    \n",
    "    if notes.shape[-1] < 5: notes = get_startend(notes)\n",
    "        \n",
    "    notes = notes.cpu().numpy()\n",
    "    prev_start = 0.0\n",
    "    for note in notes: \n",
    "        pitch, start, end = int(note[0]), note[3], note[4] \n",
    "        midi_note = pretty_midi.Note( velocity=velocity, pitch=pitch, start=start, end=end, )\n",
    "        instrument.notes.append(midi_note)\n",
    "        prev_start = start   \n",
    "        \n",
    "    pm.instruments.append(instrument)\n",
    "    if out_file: pm.write(out_file)\n",
    "    return pm\n",
    "\n",
    "\n",
    "\n",
    "def midiplayer(notes_tensor, height=400, time_rescale=None, midi_file=\"/tmp/tmp.mid\", title='', styler=dark):\n",
    "    \"MIDIplayer that writes input tensor to temporary file\"\n",
    "    pm = notes_to_midi(notes_tensor, time_rescale=time_rescale, out_file=midi_file)\n",
    "    return MIDIPlayer(midi_file, height, styler=dark, dl=True, title=title)"
   ]
  },
  {
   "cell_type": "markdown",
   "metadata": {},
   "source": [
    "We're going to encode & decode, and write to a MIDI file, and play that midi file. Using the same file as above:"
   ]
  },
  {
   "cell_type": "code",
   "execution_count": null,
   "metadata": {},
   "outputs": [
    {
     "data": {
      "text/html": [
       "<iframe srcdoc=\"&lt;script src=&quot;https://cdn.jsdelivr.net/combine/npm/tone@14.7.58,npm/@magenta/music@1.23.1/es6/core.js,npm/focus-visible@5,npm/html-midi-player@1.5.0&quot;&gt;&lt;/script&gt;\n",
       "\n",
       "&lt;style&gt;\n",
       "/* Custom player style */\n",
       "p { \n",
       "  margin:0; \n",
       "  color: #c4c4c4; /* mid-lightness text color for title, intended for dark backgrounds */\n",
       "}\n",
       "\n",
       "#section64 midi-player {\n",
       "  display: block;\n",
       "  width: inherit;\n",
       "  margin: 4px;\n",
       "  margin-bottom: 0;\n",
       "  color: #d4d4d4; /* Lighter text color for better readability */\n",
       "}\n",
       "#section64 midi-player::part(control-panel) {\n",
       "  background: #222; /* Dark background */\n",
       "  border: 2px solid #888; /* Lightened border color for contrast */\n",
       "  border-radius: 10px 10px 0 0;\n",
       "}\n",
       "#section64 midi-player::part(play-button) {\n",
       "  color: #ffffff; /* White text for visibility */\n",
       "  border: 2px solid currentColor;\n",
       "  background-color: #6c7a89; \n",
       "  border-radius: 20px;\n",
       "  transition: all 0.2s;\n",
       "  content: &#x27;hello&#x27;;\n",
       "}\n",
       "#section64 midi-player::part(play-button):hover {\n",
       "  color: #00a; \n",
       "  background-color: #9fafc9; \n",
       "  border-radius: 10px;\n",
       "}\n",
       "#section64 midi-player::part(time) {\n",
       "  font-family: monospace; /* Monospace font for time */\n",
       "}\n",
       "\n",
       "/* Custom visualizer style */\n",
       "#section64 midi-visualizer .piano-roll-visualizer {\n",
       "  background: #333; /* Dark background for visualizer */\n",
       "  border: 2px solid #505050; /* Dark border for subtle appearance */\n",
       "  border-top: none;\n",
       "  border-radius: 0 0 10px 10px;\n",
       "  margin: 4px;\n",
       "  width: inherit;\n",
       "  margin-top: 0;\n",
       "  overflow: auto;\n",
       "}\n",
       "#section64 midi-visualizer svg rect.note {\n",
       "  opacity: 0.9; \n",
       "  stroke-width: 1; /* Stroke width for note clarity */\n",
       "}\n",
       "\n",
       "/* Different instrument colors */\n",
       "#section64 midi-visualizer svg rect.note[data-instrument=&quot;0&quot;]{\n",
       "  fill: #7aa6ed; /*  blue for Instrument 0 */\n",
       "  stroke: #444; \n",
       "}\n",
       "#section64 midi-visualizer svg rect.note[data-instrument=&quot;2&quot;]{\n",
       "  fill: #d586d0; /* purple for Instrument 2 for consistency */\n",
       "  stroke: #444; /* White stroke for visibility */\n",
       "}\n",
       "#section64 midi-visualizer svg rect.note[data-is-drum=&quot;true&quot;]{\n",
       "  fill: brightorange; \n",
       "  stroke: #bbb;\n",
       "}\n",
       "#section64 midi-visualizer svg rect.note.active {\n",
       "  opacity: 0.9; /* Highlight active notes */\n",
       "  stroke: #ddd; /* White stroke for maximum contrast */\n",
       "  stroke-width: 2; /* Thicker stroke for active notes */\n",
       "}\n",
       "&lt;/style&gt;\n",
       "\n",
       "          &lt;section id=&quot;section64&quot;&gt;&lt;p style=&quot;text-align:left;font-family:Arial;&quot;&gt;Encode-Decode Test&lt;span style=&quot;float:right;&quot;&gt;&lt;a href=&quot;data:audio/midi;base64,TVRoZAAAAAYAAQACANxNVHJrAAAAEwD/UQMHoSAA/1gEBAIYCAH/LwBNVHJrAAAEhgDAAACQNUAAOUAAPEAAQUCBUzRAADUAADdAADkAAEEAAEhAakZAAEgAaTQAADVAADcAAEVAAEYAajRAADUAADdAAENAAEUAajJAADQAADcAADlAADwAAD5AAEFAAEMAaTkAADpAAD4AAEBAai1AADIAADoAADxAAEAAAEhAgVMtAAAuQABIAABKQGouAAAwQAA6QAA8ADQ5QAA6ADUwAAAyQAA5AAA6QGoyAAA0QGk0AAA1QAA5QAA6AABIQABKAIFUNEAANQAAOQAAPEAAQQAAQ0CBUzQAADVAAEMAAEVAAEgAAEpAgVM1AAA3QAA7QAA8AABDQABFAABKAABMQIFTNwAAOUAAOwAAPEAAQUAAQwAATAAATUBqOQAAOkAAPAAAPkAAQQAAQ0BpOgAAPEAAPgAAQEAATEAATQBqNEAAN0AAPAAAQABqNAAANUAANwAAOUAAQUAAQwAASkAATABpMkAANQAAOQAAPkBqMgAAN0AAO0AAPgCBUzBAADcAADsAADxAAEBAAEEAAEhAAEoAgVMwAAA1QABAAABBQABFQABIAIFTLkAANQAAOkAAPAAARQAASkBqOUAAOgBqLgAAMEAAN0AAOQAAQEAAQQAASEAASgCBUzAAADJAADcAAD5AAEAAAEFAAEZAAEgAaTIAADRAADxAAD4AAEEAAENAajQAADVAAEFAAEMAAEVAAEYAai5AADUAaS4AADBAAENAAEUAgVNAQABBAIFUKUAAMAAAQAAAQUAAQwCDJikAADRAAEEAAENAAEhAgyY0AAA1QABDAABFQABIAIEwPACBdzBAADUAAENAAEUAAEhAgyYpQAAwAABBQABDAABFQABIAIQQKQAAK0BqKwAALUBpLQAALkBqLgAAMEAAQEAAQQAAQ0AARQBqMAAAMkAAPkAAQABpMgAANEAAPgBqMEAANAAAOkBpMAAANUAAOUAAOgAAQwAARUBqNQAAN0AAOQAAOkBqNwAAOUAAOgBpOQAAOkAAPkBqOgAAPgAAQEAAQ0AARQBpOkBqOUAAOgBqN0AAOQBpNUAANwAAQAAAQUAAQwAARUBqNEAANQBpMkAANAAAPkBqMEAAMgBqLkAAMAAAQ0AARQBpK0AALgBqKwAAMEAAPEAAPgAAQEAAQQBpOkAAPABqKUAAMAAAOUAAOgAAQAAAQUAAQwCDJiZAACkAADkAAD5AAEEAAEVAAE1AaiYAAClAADxAAD4AaikAACtAADpAADwAAENAAEUAAExAAE0AaSsAAC1Aai0AAC5AAEFAAEMAAEpAAEwAaTlAADoAai4AADBAADdAADkAAEBAAEEAAEhAAEoAgVMwAAAyQAA1QAA3AAA+QABAAABGQABIAGoyAAA0QAA1AAA3QGk0AAA1QAA3AAA5QAA8QAA+AABFQABGAGotQAA1AAA5AGotAAAuQAA6QAA8AAA+QABDQABFAGkrQAAuADU5QAA6ADUrAAAwQAA3QAA5AAA8QAA+AIFTKUAAMAAANwAAOUAAQUAAQwCDJikAADkAADwAAEEAAf8vAA==&quot; target=&quot;_blank&quot;&gt;Download MIDI&lt;/a&gt;&lt;br&gt;&lt;/span&gt;&lt;/p&gt;\n",
       "          &lt;midi-player src=data:audio/midi;base64,TVRoZAAAAAYAAQACANxNVHJrAAAAEwD/UQMHoSAA/1gEBAIYCAH/LwBNVHJrAAAEhgDAAACQNUAAOUAAPEAAQUCBUzRAADUAADdAADkAAEEAAEhAakZAAEgAaTQAADVAADcAAEVAAEYAajRAADUAADdAAENAAEUAajJAADQAADcAADlAADwAAD5AAEFAAEMAaTkAADpAAD4AAEBAai1AADIAADoAADxAAEAAAEhAgVMtAAAuQABIAABKQGouAAAwQAA6QAA8ADQ5QAA6ADUwAAAyQAA5AAA6QGoyAAA0QGk0AAA1QAA5QAA6AABIQABKAIFUNEAANQAAOQAAPEAAQQAAQ0CBUzQAADVAAEMAAEVAAEgAAEpAgVM1AAA3QAA7QAA8AABDQABFAABKAABMQIFTNwAAOUAAOwAAPEAAQUAAQwAATAAATUBqOQAAOkAAPAAAPkAAQQAAQ0BpOgAAPEAAPgAAQEAATEAATQBqNEAAN0AAPAAAQABqNAAANUAANwAAOUAAQUAAQwAASkAATABpMkAANQAAOQAAPkBqMgAAN0AAO0AAPgCBUzBAADcAADsAADxAAEBAAEEAAEhAAEoAgVMwAAA1QABAAABBQABFQABIAIFTLkAANQAAOkAAPAAARQAASkBqOUAAOgBqLgAAMEAAN0AAOQAAQEAAQQAASEAASgCBUzAAADJAADcAAD5AAEAAAEFAAEZAAEgAaTIAADRAADxAAD4AAEEAAENAajQAADVAAEFAAEMAAEVAAEYAai5AADUAaS4AADBAAENAAEUAgVNAQABBAIFUKUAAMAAAQAAAQUAAQwCDJikAADRAAEEAAENAAEhAgyY0AAA1QABDAABFQABIAIEwPACBdzBAADUAAENAAEUAAEhAgyYpQAAwAABBQABDAABFQABIAIQQKQAAK0BqKwAALUBpLQAALkBqLgAAMEAAQEAAQQAAQ0AARQBqMAAAMkAAPkAAQABpMgAANEAAPgBqMEAANAAAOkBpMAAANUAAOUAAOgAAQwAARUBqNQAAN0AAOQAAOkBqNwAAOUAAOgBpOQAAOkAAPkBqOgAAPgAAQEAAQ0AARQBpOkBqOUAAOgBqN0AAOQBpNUAANwAAQAAAQUAAQwAARUBqNEAANQBpMkAANAAAPkBqMEAAMgBqLkAAMAAAQ0AARQBpK0AALgBqKwAAMEAAPEAAPgAAQEAAQQBpOkAAPABqKUAAMAAAOUAAOgAAQAAAQUAAQwCDJiZAACkAADkAAD5AAEEAAEVAAE1AaiYAAClAADxAAD4AaikAACtAADpAADwAAENAAEUAAExAAE0AaSsAAC1Aai0AAC5AAEFAAEMAAEpAAEwAaTlAADoAai4AADBAADdAADkAAEBAAEEAAEhAAEoAgVMwAAAyQAA1QAA3AAA+QABAAABGQABIAGoyAAA0QAA1AAA3QGk0AAA1QAA3AAA5QAA8QAA+AABFQABGAGotQAA1AAA5AGotAAAuQAA6QAA8AAA+QABDQABFAGkrQAAuADU5QAA6ADUrAAAwQAA3QAA5AAA8QAA+AIFTKUAAMAAANwAAOUAAQUAAQwCDJikAADkAADwAAEEAAf8vAA== sound-font visualizer=&quot;#section64 midi-visualizer&quot;&gt;&lt;/midi-player&gt;\n",
       "          &lt;midi-visualizer src=data:audio/midi;base64,TVRoZAAAAAYAAQACANxNVHJrAAAAEwD/UQMHoSAA/1gEBAIYCAH/LwBNVHJrAAAEhgDAAACQNUAAOUAAPEAAQUCBUzRAADUAADdAADkAAEEAAEhAakZAAEgAaTQAADVAADcAAEVAAEYAajRAADUAADdAAENAAEUAajJAADQAADcAADlAADwAAD5AAEFAAEMAaTkAADpAAD4AAEBAai1AADIAADoAADxAAEAAAEhAgVMtAAAuQABIAABKQGouAAAwQAA6QAA8ADQ5QAA6ADUwAAAyQAA5AAA6QGoyAAA0QGk0AAA1QAA5QAA6AABIQABKAIFUNEAANQAAOQAAPEAAQQAAQ0CBUzQAADVAAEMAAEVAAEgAAEpAgVM1AAA3QAA7QAA8AABDQABFAABKAABMQIFTNwAAOUAAOwAAPEAAQUAAQwAATAAATUBqOQAAOkAAPAAAPkAAQQAAQ0BpOgAAPEAAPgAAQEAATEAATQBqNEAAN0AAPAAAQABqNAAANUAANwAAOUAAQUAAQwAASkAATABpMkAANQAAOQAAPkBqMgAAN0AAO0AAPgCBUzBAADcAADsAADxAAEBAAEEAAEhAAEoAgVMwAAA1QABAAABBQABFQABIAIFTLkAANQAAOkAAPAAARQAASkBqOUAAOgBqLgAAMEAAN0AAOQAAQEAAQQAASEAASgCBUzAAADJAADcAAD5AAEAAAEFAAEZAAEgAaTIAADRAADxAAD4AAEEAAENAajQAADVAAEFAAEMAAEVAAEYAai5AADUAaS4AADBAAENAAEUAgVNAQABBAIFUKUAAMAAAQAAAQUAAQwCDJikAADRAAEEAAENAAEhAgyY0AAA1QABDAABFQABIAIEwPACBdzBAADUAAENAAEUAAEhAgyYpQAAwAABBQABDAABFQABIAIQQKQAAK0BqKwAALUBpLQAALkBqLgAAMEAAQEAAQQAAQ0AARQBqMAAAMkAAPkAAQABpMgAANEAAPgBqMEAANAAAOkBpMAAANUAAOUAAOgAAQwAARUBqNQAAN0AAOQAAOkBqNwAAOUAAOgBpOQAAOkAAPkBqOgAAPgAAQEAAQ0AARQBpOkBqOUAAOgBqN0AAOQBpNUAANwAAQAAAQUAAQwAARUBqNEAANQBpMkAANAAAPkBqMEAAMgBqLkAAMAAAQ0AARQBpK0AALgBqKwAAMEAAPEAAPgAAQEAAQQBpOkAAPABqKUAAMAAAOUAAOgAAQAAAQUAAQwCDJiZAACkAADkAAD5AAEEAAEVAAE1AaiYAAClAADxAAD4AaikAACtAADpAADwAAENAAEUAAExAAE0AaSsAAC1Aai0AAC5AAEFAAEMAAEpAAEwAaTlAADoAai4AADBAADdAADkAAEBAAEEAAEhAAEoAgVMwAAAyQAA1QAA3AAA+QABAAABGQABIAGoyAAA0QAA1AAA3QGk0AAA1QAA3AAA5QAA8QAA+AABFQABGAGotQAA1AAA5AGotAAAuQAA6QAA8AAA+QABDQABFAGkrQAAuADU5QAA6ADUrAAAwQAA3QAA5AAA8QAA+AIFTKUAAMAAANwAAOUAAQUAAQwCDJikAADkAADwAAEEAAf8vAA== type=piano-roll&gt;&lt;/midi-visualizer&gt;\n",
       "          &lt;/section&gt;\n",
       "          \" width=\"100%\" height=\"400\"\n",
       "            style=\"border:none !important;\"\n",
       "            \"allowfullscreen\" \"webkitallowfullscreen\" \"mozallowfullscreen\">'\n",
       "            </iframe>"
      ],
      "text/plain": [
       "<midi_player.midi_player.MIDIPlayer>"
      ]
     },
     "execution_count": null,
     "metadata": {},
     "output_type": "execute_result"
    }
   ],
   "source": [
    "midiplayer(decode(encode(midi_file_to_tensor(filenames[0]))), title='Encode-Decode Test')"
   ]
  },
  {
   "cell_type": "markdown",
   "metadata": {},
   "source": [
    "Yay!  Moving on..."
   ]
  },
  {
   "cell_type": "markdown",
   "metadata": {},
   "source": [
    "## Making PyTorch Dataset(s)"
   ]
  },
  {
   "cell_type": "markdown",
   "metadata": {},
   "source": [
    "Our particular dataset already comes with a test/train/valid split in its subdirectores, so let's use that split.  We'll go ahead and re-load the files:"
   ]
  },
  {
   "cell_type": "code",
   "execution_count": null,
   "metadata": {},
   "outputs": [
    {
     "name": "stderr",
     "output_type": "stream",
     "text": [
      "100%|█████████████████████████████████████████████████████████████████████████████████████████| 229/229 [00:01<00:00, 148.65it/s]\n",
      "100%|███████████████████████████████████████████████████████████████████████████████████████████| 76/76 [00:00<00:00, 152.29it/s]\n",
      "100%|███████████████████████████████████████████████████████████████████████████████████████████| 77/77 [00:00<00:00, 140.92it/s]"
     ]
    },
    {
     "name": "stdout",
     "output_type": "stream",
     "text": [
      "229 songs in train, 46660 notes\n",
      "76 songs in val, 15052 notes\n",
      "77 songs in test, 16637 notes\n"
     ]
    },
    {
     "name": "stderr",
     "output_type": "stream",
     "text": [
      "\n"
     ]
    }
   ],
   "source": [
    "#| code-fold: true\n",
    "#| code-summary: \"Show the code\"\n",
    "\n",
    "# tensor lists\n",
    "train_filenames = [x for x in filenames if '/train' in x]\n",
    "val_filenames   = [x for x in filenames if '/val'   in x]\n",
    "test_filenames  = [x for x in filenames if '/test'  in x]\n",
    "\n",
    "train_notes_tl = files_to_tensor_list(train_filenames, serial=True)\n",
    "val_notes_tl   = files_to_tensor_list(val_filenames, serial=True)\n",
    "test_notes_tl  = files_to_tensor_list(test_filenames, serial=True)\n",
    "\n",
    "for name, tl in zip(['train','val','test'],[train_notes_tl, val_notes_tl, test_notes_tl]):\n",
    "    stack = torch.vstack(tl)\n",
    "    print(f\"{len(tl)} songs in {name}, {stack.shape[0]} notes\")"
   ]
  },
  {
   "cell_type": "markdown",
   "metadata": {},
   "source": [
    "...that's not a ton of data. We should incude some data augmentation. \n",
    "\n",
    "### Data Augmentation\n",
    "\n",
    "We'll augment the pitch values by raising & lowering them within an octave, except we'll leave the rest pitch (=127 for the JSB chorales) alone since that sometimes gets used as a rest. And we'll leave the timing values alone. \n"
   ]
  },
  {
   "cell_type": "code",
   "execution_count": null,
   "metadata": {},
   "outputs": [
    {
     "name": "stdout",
     "output_type": "stream",
     "text": [
      "data.shape =  torch.Size([5, 3])\n",
      "original data = \n",
      " tensor([[ 54,  12,   6],\n",
      "        [ 61,   0,  40],\n",
      "        [127,  14,   4],\n",
      "        [ 86,   0,  12],\n",
      "        [126,   7,  12]])\n",
      "augmented data = \n",
      " tensor([[ 52,  12,   6],\n",
      "        [ 59,   0,  40],\n",
      "        [127,  14,   4],\n",
      "        [ 84,   0,  12],\n",
      "        [124,   7,  12]])\n",
      "Checks passed! :-) \n"
     ]
    }
   ],
   "source": [
    "#| code-fold: true\n",
    "#| code-summary: \"Show the Data Augmentation code\"\n",
    "\n",
    "def augment_data(data, pitch_shift=12, debug=True, extra_augs=False):\n",
    "    datanew = data.clone()                                     # avoid overwriting memory of data\n",
    "    # pitch\n",
    "    change = torch.randint(-pitch_shift, pitch_shift, (1,))    # how many semitones to change all the pitches\n",
    "    datanew[ datanew[:,0] != REST_PITCH ] += torch.tensor((change, 0, 0))  # change the pitches\n",
    "    if not extra_augs: return datanew   #only do pitches\n",
    "\n",
    "    if torch.rand(1) < 0.2:                         # sometimes invert pitches? Probably not useful but anyway\n",
    "        datanew[ datanew[:,0] != REST_PITCH ] *= torch.tensor((-1, 1, 1))\n",
    "        datanew[ datanew[:,0] != REST_PITCH ] += torch.tensor((127, 0, 0))\n",
    "    \n",
    "    # time - if we sometimes increase each non-zero time-token by one, that should be ok, right? \n",
    "    if torch.rand(1) < 0.2: # do step\n",
    "        datanew[ datanew[:,1] > 0]  += torch.tensor((0,1,0))\n",
    "    if torch.rand(1) < 0.2: # do duration\n",
    "        datanew[ datanew[:,2] > 0]  += torch.tensor((0,0,1))\n",
    "        \n",
    "    # extra 'safety' constraint: clamp to range of valid values (of tokens)\n",
    "    for i, cb in enumerate(codebooks):\n",
    "        datanew[:,i] = torch.clamp(datanew[:,i], 0, len(cb['encode'])-1)\n",
    "    return datanew\n",
    "\n",
    "\n",
    "# testing code: \n",
    "torch.manual_seed(3) # setting this just  to make sure something happens ;-) \n",
    "data = torch.tensor([[54,12,6],[61,0,40],[127,14,4],[86,0,12],[126,7,12]])\n",
    "print(\"data.shape = \",data.shape)\n",
    "print(\"original data = \\n\",data)\n",
    "aug = augment_data(data)\n",
    "print(\"augmented data = \\n\",aug) # \n",
    "\n",
    "assert not torch.equal(aug[:,0], data[:,0]), \"Oops, nothing changed\"\n",
    "assert aug[2,0]==data[2,0], \"Oops,  The 127 got changed\"\n",
    "print(\"Checks passed! :-) \")"
   ]
  },
  {
   "cell_type": "markdown",
   "metadata": {},
   "source": [
    "### Dataset Object Definition \n",
    "Here we go with the dataset:"
   ]
  },
  {
   "cell_type": "code",
   "execution_count": null,
   "metadata": {},
   "outputs": [
    {
     "data": {
      "text/plain": [
       "(22900, 76000000)"
      ]
     },
     "execution_count": null,
     "metadata": {},
     "output_type": "execute_result"
    }
   ],
   "source": [
    "#| code-fold: true\n",
    "#| code-summary: \"Show the Pytorch Dataset code\"\n",
    "\n",
    "class NotesDataset(Dataset):\n",
    "    \"simple custom dataset of sliding windows\"\n",
    "    def __init__(self, \n",
    "                 tensor_list, \n",
    "                 seq_length:int, \n",
    "                 tokenizer=encode,\n",
    "                 codebooks=codebooks, \n",
    "                 aug_callback=augment_data,\n",
    "                 len_mult=100,  # factor to 'fudge' the dataset length when it's inspected by DataLoaders\n",
    "                 pad=True, # pad end with rests\n",
    "                ):\n",
    "        super().__init__()\n",
    "        self.sl = seq_length\n",
    "        self.len_mult = len_mult\n",
    "        self.data_list = [tokenizer(t) for t in tensor_list] # encoded tokens are all we'll use\n",
    "        if pad:\n",
    "            rests = torch.tensor([REST_PITCH,1,1]).unsqueeze(0).tile((seq_length,1))\n",
    "            self.data_list = [torch.cat((toks,rests), dim=0) for toks in self.data_list]\n",
    "        self.aug_callback = aug_callback\n",
    "\n",
    "    def __len__(self):\n",
    "        \"\"\"we're going to be grabbing random windows from the data, so just the len of the tensor \n",
    "        list will be too small for large batch sizes, hence we multiply by len_mult\"\"\"\n",
    "        return len(self.data_list)*self.len_mult  # this will keep the DataLoader going longer\n",
    "\n",
    "    def __getitem__(self, idx, shift=1) -> (torch.Tensor, torch.Tensor):\n",
    "        \"grabs a random 'window' from a random song, with an offset of `shift` tokens between inputs and targets\"\n",
    "        i_song = torch.randint(0, len(self.data_list), (1,)) # pick a song\n",
    "        ix =  torch.randint(0, len(self.data_list[i_song]) - self.sl - 1, (1,))  # start of window within song\n",
    "        data_block = self.data_list[i_song][ix:ix+self.sl+1]  # grab window plus an extra character\n",
    "        if self.aug_callback is not None: \n",
    "            data_block = self.aug_callback(data_block)\n",
    "        inputs, targets = data_block[:self.sl], data_block[shift:self.sl+shift]\n",
    "        return inputs, targets\n",
    "    \n",
    "\n",
    "seq_length = 64\n",
    "train_ds = NotesDataset(train_notes_tl, seq_length)\n",
    "val_ds = NotesDataset(val_notes_tl, seq_length, aug_callback=None, len_mult=1000000) # no aug, neverending\n",
    "# save test_ds for Evaluation section, later\n",
    "len(train_ds), len(val_ds)"
   ]
  },
  {
   "cell_type": "markdown",
   "metadata": {},
   "source": [
    "And before we use it, let's seed all the Random Number Generators for the sake of reproducibility"
   ]
  },
  {
   "cell_type": "code",
   "execution_count": null,
   "metadata": {},
   "outputs": [
    {
     "name": "stdout",
     "output_type": "stream",
     "text": [
      "batch_x.shape, batch_y.shape =  torch.Size([128, 64, 3]) torch.Size([128, 64, 3])\n"
     ]
    }
   ],
   "source": [
    "#| code-fold: true\n",
    "#| code-summary: \"Show the Pytorch Dataset code\"\n",
    "\n",
    "\n",
    "#  set RNG seeds for reproducibility.\n",
    "def set_seeds(seed):\n",
    "    torch.manual_seed(seed)\n",
    "    np.random.seed(seed)\n",
    "    random.seed(seed)\n",
    "    if torch.cuda.is_available():\n",
    "        torch.cuda.manual_seed(seed)\n",
    "        torch.cuda.manual_seed_all(seed) \n",
    "        \n",
    "set_seeds(0)\n",
    "\n",
    "batch_size = 128 # We may change this further down, for now it's just a test\n",
    "train_dl = DataLoader(train_ds, batch_size=batch_size, shuffle=True)\n",
    "val_dl   = DataLoader(val_ds,   batch_size=batch_size, shuffle=False, )\n",
    "\n",
    "batch_x, batch_y = next(iter(train_dl))\n",
    "print(\"batch_x.shape, batch_y.shape = \",batch_x.shape, batch_y.shape)"
   ]
  },
  {
   "cell_type": "markdown",
   "metadata": {},
   "source": [
    "Ok. Now that we have a feel for how to handle our data, let's get setup for the Transformer! "
   ]
  },
  {
   "cell_type": "markdown",
   "metadata": {},
   "source": [
    "# Hyperparameters / Model Configuration\n",
    "\n",
    "Here's where we'll put all of our architecture design variables, storing it in a dict-like \"`dataclass`\" object for easy passing around."
   ]
  },
  {
   "cell_type": "code",
   "execution_count": null,
   "metadata": {},
   "outputs": [
    {
     "name": "stdout",
     "output_type": "stream",
     "text": [
      "MusicBoxConfig(seq_length=64,\n",
      "               batch_size=128,\n",
      "               n_embd=128,\n",
      "               n_heads=8,\n",
      "               n_blocks=4,\n",
      "               dropout=0.1,\n",
      "               bias=False,\n",
      "               learning_rate=0.001,\n",
      "               weight_decay=0.01,\n",
      "               epochs=20,\n",
      "               vocab_sizes=(128, 15, 28))\n"
     ]
    }
   ],
   "source": [
    "#| code-fold: true\n",
    "#| code-summary: \"Show the config-creation code\"\n",
    "\n",
    "from dataclasses import dataclass\n",
    "\n",
    "@dataclass\n",
    "class MusicBoxConfig:\n",
    "    # model architecture details\n",
    "    seq_length: int = 64\n",
    "    batch_size: int = 128\n",
    "    n_embd:     int = 128     # embedding dimension to use for tokens & positions\n",
    "    n_heads:    int = 8       # number of attention heads\n",
    "    n_blocks:   int = 4       # number of attention blocks\n",
    "    dropout:  float = 0.1     # dropout value applied everywhere\n",
    "    bias:      bool = False   # True: bias in Linears and LayerNorms, like GPT-2. False: a bit better and faster\n",
    "\n",
    "    # training details\n",
    "    learning_rate: float = 0.001\n",
    "    weight_decay:  float = 0.01   # 0.01 is pytorch default\n",
    "    epochs:          int = 20\n",
    "\n",
    "    # other handy bookkeeping\n",
    "    vocab_sizes: tuple = tuple(vocab_sizes)\n",
    " \n",
    "        \n",
    "config = MusicBoxConfig()\n",
    "pp = pprint.PrettyPrinter(indent=4)\n",
    "pp.pprint(config)"
   ]
  },
  {
   "cell_type": "markdown",
   "metadata": {},
   "source": [
    "# Transformer Model Code\n",
    "\n",
    "I did write my own Transformer code(s) on my own -- [honest!](https://github.com/drscotthawley/TTTT/tree/main/notebooks) -- but it in the quest to get better results, I increasingly borrowed from Andrej Karpathy's lesson code (feeling like the \"Salieri\" to his \"Mozart\"), to the point where the following is really a set of minor modifications, such as my added support for multiple codebooks, and passing around the config.\n",
    "\n",
    "<details><summary>Details</summary>\n"
   ]
  },
  {
   "cell_type": "code",
   "execution_count": null,
   "metadata": {},
   "outputs": [
    {
     "name": "stdout",
     "output_type": "stream",
     "text": [
      "0.843947 M parameters in the model\n"
     ]
    }
   ],
   "source": [
    "# from my mod of K's code\n",
    "\n",
    "# TODO: add more commentary! \n",
    "\n",
    "class Head(nn.Module):\n",
    "    \"\"\" one head of self-attention \"\"\"\n",
    "\n",
    "    def __init__(self, head_size, config):\n",
    "        super().__init__()\n",
    "        n_embd, block_size = config.n_embd, config.seq_length\n",
    "        self.key = nn.Linear(n_embd, head_size, bias=False)\n",
    "        self.query = nn.Linear(n_embd, head_size, bias=False)\n",
    "        self.value = nn.Linear(n_embd, head_size, bias=False)\n",
    "        self.register_buffer('tril', torch.tril(torch.ones(block_size, block_size)))\n",
    "\n",
    "        self.dropout = nn.Dropout(config.dropout)\n",
    "\n",
    "    def forward(self, x):\n",
    "        B,T,C = x.shape\n",
    "        k = self.key(x)   # (B,T,C)\n",
    "        q = self.query(x) # (B,T,C)\n",
    "        # compute attention scores (\"affinities\")\n",
    "        wei = q @ k.transpose(-2,-1) * C**-0.5 # (B, T, C) @ (B, C, T) -> (B, T, T)\n",
    "        wei = wei.masked_fill(self.tril[:T, :T] == 0, float('-inf')) # (B, T, T)\n",
    "        wei = F.softmax(wei, dim=-1) # (B, T, T)\n",
    "        wei = self.dropout(wei)\n",
    "        # perform the weighted aggregation of the values\n",
    "        v = self.value(x) # (B,T,C)\n",
    "        out = wei @ v # (B, T, T) @ (B, T, C) -> (B, T, C)\n",
    "        return out\n",
    "\n",
    "class MultiHeadAttention(nn.Module):\n",
    "    \"\"\" multiple heads of self-attention in parallel \"\"\"\n",
    "    def __init__(self, num_heads, head_size, config):\n",
    "        super().__init__()\n",
    "        n_embd = config.n_embd\n",
    "\n",
    "        self.heads = nn.ModuleList([Head(head_size, config) for _ in range(num_heads)])\n",
    "        self.proj = nn.Linear(n_embd, n_embd)\n",
    "        self.dropout = nn.Dropout(config.dropout)\n",
    "\n",
    "    def forward(self, x):\n",
    "        out = torch.cat([h(x) for h in self.heads], dim=-1)\n",
    "        out = self.dropout(self.proj(out))\n",
    "        return out\n",
    "\n",
    "    \n",
    "class FeedFoward(nn.Module):\n",
    "    \"\"\" a simple linear layer followed by a non-linearity \"\"\"\n",
    "    def __init__(self, n_embd, config):\n",
    "        super().__init__()\n",
    "        self.net = nn.Sequential(\n",
    "            nn.Linear(n_embd, 4 * n_embd),\n",
    "            nn.ReLU(),\n",
    "            nn.Linear(4 * n_embd, n_embd),\n",
    "            nn.Dropout(config.dropout),\n",
    "        )\n",
    "\n",
    "    def forward(self, x):\n",
    "        return self.net(x)\n",
    "\n",
    "class Block(nn.Module):\n",
    "    \"\"\" Transformer block: communication followed by computation \"\"\"\n",
    "\n",
    "    def __init__(self, n_embd, n_head, config):\n",
    "        # n_embd: embedding dimension, n_head: the number of heads we'd like\n",
    "        super().__init__()\n",
    "        head_size = n_embd // n_head\n",
    "        self.sa = MultiHeadAttention(n_head, head_size, config)\n",
    "        self.ffwd = FeedFoward(n_embd, config)\n",
    "        self.ln1 = nn.LayerNorm(n_embd)\n",
    "        self.ln2 = nn.LayerNorm(n_embd)\n",
    "\n",
    "    def forward(self, x):\n",
    "        x = x + self.sa(self.ln1(x))\n",
    "        x = x + self.ffwd(self.ln2(x))\n",
    "        return x\n",
    "\n",
    "class Transformer(nn.Module):\n",
    "\n",
    "    def __init__(self, config, debug=False):\n",
    "        super().__init__()\n",
    "        n_cb = len(config.vocab_sizes)\n",
    "        self.block_size, n_embd, n_head, n_layer = config.seq_length, config.n_embd, config.n_heads, config.n_blocks \n",
    "        \n",
    "        # seperate embeddings for pitch, step & dur part of notes\n",
    "        self.token_embedding_tables = nn.ModuleList([nn.Embedding(vocab_sizes[cbi], n_embd) for cbi in range(n_cb)])\n",
    "\n",
    "        self.position_embedding_table = nn.Embedding(self.block_size, n_embd)\n",
    "        self.blocks = nn.Sequential(*[Block(n_embd, n_head, config) for _ in range(n_layer)])\n",
    "        self.ln_f = nn.LayerNorm(n_embd) # final layer norm\n",
    "        self.lm_heads = nn.ModuleList([nn.Linear(n_embd, vocab_sizes[cbi]) for cbi in range(n_cb)]) # output token predictors\n",
    "        self.debug=False\n",
    "\n",
    "    def forward(self, idx, targets=None):\n",
    "        # idx is array of input token indices in the current context\n",
    "        B, T, CBS = idx.shape\n",
    "        \n",
    "        tok_emb = 0\n",
    "        for cb in range(CBS): # just sum codebook reps\n",
    "            tok_emb = tok_emb + self.token_embedding_tables[cb](idx[:,:,cb])\n",
    "        pos_emb = self.position_embedding_table(torch.arange(T, device=idx.device)) # (T,E)\n",
    "        x = tok_emb + pos_emb # sum token embeddings & positional embeddings\n",
    "        \n",
    "        x = self.blocks(x) # Main computation loop! \n",
    "        x = self.ln_f(x)   # final layernorm\n",
    "        logits_list = [head(x) for head in self.lm_heads]  # list of output projections over all codebook values\n",
    "\n",
    "        if targets is None:  # need targets to compute loss\n",
    "            loss = None\n",
    "        else:\n",
    "            lambdas = [0.5]*CBS   # relative \"weights\" to pitch, step, dur parts of loss\n",
    "            loss = 0.0\n",
    "            for cb in range(CBS):        # loop over codebooks  (for pitch, step & dur), summing loss\n",
    "                logits = logits_list[cb]  \n",
    "                B, T, V = logits.shape   # V = vocab size, i.e. codebook length\n",
    "                targ = targets[:,:,cb]   # B, T \n",
    "                logits = logits.view(B*T, V)\n",
    "                targ = targ.reshape(B*T)    # needs reshape & not view b/c of contiguous memory issues.\n",
    "                loss = loss +  lambdas[cb] * F.cross_entropy(logits, targ)\n",
    "        return logits_list, loss\n",
    "\n",
    "\n",
    "    @torch.no_grad()\n",
    "    def generate(self, idx, max_new_tokens, temperature=1.0):\n",
    "        # idx is (B, T, CBS) array of token indices in the current context\n",
    "        for _ in range(max_new_tokens):\n",
    "            idx_cond = idx[:, -self.block_size:]      # crop idx to the last block_size tokens\n",
    "            logits_list, loss = self(idx_cond)   # get the predictions\n",
    "            idx_next_list = []\n",
    "            for cb in range(idx_cond.shape[-1]):\n",
    "                # focus only on the last time step\n",
    "                logits = logits_list[cb]  # B, T, V  where V = vocab/embedding size \n",
    "                logits = logits[:, -1, :] # get last time.  becomes (B, V)\n",
    "                # apply softmax to get probabilities\n",
    "                probs = F.softmax(logits/temperature, dim=-1) # (B, V)\n",
    "                # sample from the distribution\n",
    "                idx_next_list.append(torch.multinomial(probs, num_samples=1)) # (B, 1)\n",
    "                \n",
    "            idx_next = torch.tensor(idx_next_list).unsqueeze(0).unsqueeze(0).to(idx.device)\n",
    "            # append sampled index to the running sequence\n",
    "            idx = torch.cat((idx, idx_next), dim=1) # (B, T+1)\n",
    "        return idx\n",
    "\n",
    "    \n",
    "# test that, make sure we don't get any errors: \n",
    "model = Transformer(config)\n",
    "print(sum(p.numel() for p in model.parameters())/1e6, 'M parameters in the model') "
   ]
  },
  {
   "cell_type": "markdown",
   "metadata": {},
   "source": [
    "# Preliminaries before Training\n",
    "\n",
    "GPU device, Demo prompts, WandB logging, Re-Init \n",
    "<details><summary>Details</summary>\n"
   ]
  },
  {
   "cell_type": "markdown",
   "metadata": {},
   "source": [
    "## Set Up the GPU/CPU `device`"
   ]
  },
  {
   "cell_type": "code",
   "execution_count": null,
   "metadata": {},
   "outputs": [
    {
     "name": "stdout",
     "output_type": "stream",
     "text": [
      "device is mps\n"
     ]
    }
   ],
   "source": [
    "device = \"cuda\" if torch.cuda.is_available() else \"mps\" if torch.backends.mps.is_available() else \"cpu\"\n",
    "print(\"device is\",device)"
   ]
  },
  {
   "cell_type": "markdown",
   "metadata": {},
   "source": [
    "## Prompt for Demos\n",
    "Let's create a \"prompt\" from the validation dataset so we can monitor the models capabilities in producing \"demos\" of the music\n"
   ]
  },
  {
   "cell_type": "code",
   "execution_count": null,
   "metadata": {},
   "outputs": [
    {
     "data": {
      "text/html": [
       "<iframe srcdoc=\"&lt;script src=&quot;https://cdn.jsdelivr.net/combine/npm/tone@14.7.58,npm/@magenta/music@1.23.1/es6/core.js,npm/focus-visible@5,npm/html-midi-player@1.5.0&quot;&gt;&lt;/script&gt;\n",
       "\n",
       "&lt;style&gt;\n",
       "/* Custom player style */\n",
       "p { \n",
       "  margin:0; \n",
       "  color: #c4c4c4; /* mid-lightness text color for title, intended for dark backgrounds */\n",
       "}\n",
       "\n",
       "#section864 midi-player {\n",
       "  display: block;\n",
       "  width: inherit;\n",
       "  margin: 4px;\n",
       "  margin-bottom: 0;\n",
       "  color: #d4d4d4; /* Lighter text color for better readability */\n",
       "}\n",
       "#section864 midi-player::part(control-panel) {\n",
       "  background: #222; /* Dark background */\n",
       "  border: 2px solid #888; /* Lightened border color for contrast */\n",
       "  border-radius: 10px 10px 0 0;\n",
       "}\n",
       "#section864 midi-player::part(play-button) {\n",
       "  color: #ffffff; /* White text for visibility */\n",
       "  border: 2px solid currentColor;\n",
       "  background-color: #6c7a89; \n",
       "  border-radius: 20px;\n",
       "  transition: all 0.2s;\n",
       "  content: &#x27;hello&#x27;;\n",
       "}\n",
       "#section864 midi-player::part(play-button):hover {\n",
       "  color: #00a; \n",
       "  background-color: #9fafc9; \n",
       "  border-radius: 10px;\n",
       "}\n",
       "#section864 midi-player::part(time) {\n",
       "  font-family: monospace; /* Monospace font for time */\n",
       "}\n",
       "\n",
       "/* Custom visualizer style */\n",
       "#section864 midi-visualizer .piano-roll-visualizer {\n",
       "  background: #333; /* Dark background for visualizer */\n",
       "  border: 2px solid #505050; /* Dark border for subtle appearance */\n",
       "  border-top: none;\n",
       "  border-radius: 0 0 10px 10px;\n",
       "  margin: 4px;\n",
       "  width: inherit;\n",
       "  margin-top: 0;\n",
       "  overflow: auto;\n",
       "}\n",
       "#section864 midi-visualizer svg rect.note {\n",
       "  opacity: 0.9; \n",
       "  stroke-width: 1; /* Stroke width for note clarity */\n",
       "}\n",
       "\n",
       "/* Different instrument colors */\n",
       "#section864 midi-visualizer svg rect.note[data-instrument=&quot;0&quot;]{\n",
       "  fill: #7aa6ed; /*  blue for Instrument 0 */\n",
       "  stroke: #444; \n",
       "}\n",
       "#section864 midi-visualizer svg rect.note[data-instrument=&quot;2&quot;]{\n",
       "  fill: #d586d0; /* purple for Instrument 2 for consistency */\n",
       "  stroke: #444; /* White stroke for visibility */\n",
       "}\n",
       "#section864 midi-visualizer svg rect.note[data-is-drum=&quot;true&quot;]{\n",
       "  fill: brightorange; \n",
       "  stroke: #bbb;\n",
       "}\n",
       "#section864 midi-visualizer svg rect.note.active {\n",
       "  opacity: 0.9; /* Highlight active notes */\n",
       "  stroke: #ddd; /* White stroke for maximum contrast */\n",
       "  stroke-width: 2; /* Thicker stroke for active notes */\n",
       "}\n",
       "&lt;/style&gt;\n",
       "\n",
       "          &lt;section id=&quot;section864&quot;&gt;&lt;p style=&quot;text-align:left;font-family:Arial;&quot;&gt;Full demo &#x27;target&#x27;, 149 notes in length&lt;span style=&quot;float:right;&quot;&gt;&lt;a href=&quot;data:audio/midi;base64,TVRoZAAAAAYAAQACANxNVHJrAAAAEwD/UQMHoSAA/1gEBAIYCAH/LwBNVHJrAAADlwDAAACQMEAAPEAAQ0AASECBUzwAAEBAajAAADJAaTIAADRAajQAADVAajUAADdAAD5AAEAAAEdAAEgAaUFAAEMAai1AADcAADxAAD4AAEBAAEEAAEVAAEcAaS0AAC9Aai8AADBAajAAADJAAEAAAEFAaTIAADRAAEEAAENAAEUAgVM0AAA5QABAQABDAABIQIFUNEAAN0AAOQAAPAAAQACBUzQAAENAAEdAAEgAAEpAgVMwQAA3AABAQABHAABKAABMQIMmPEAAQACCPTAAADJAajIAADRAaTQAADVAajUAADdAADtAADwAajcAADlAADsAaThAADkAADtAAEFAAEMAAEpAAEwAajZAADgAaTYAADhAAEBAAEEAajRAADgAajQAADlAADsAADxAAEhAAEoAaTdAADkAajVAADcAAEAAAEVAAEgAAE1AgVM0QAA1AABDQABFAGoyQAA0AAA7QAA8AABBQABDAGkwQAAyAAA7AABBAABDQABIQABMQABNAIFTMAAAN0AAR0AASAAASkAATACDJzcAADlAADxAAEBAAEMAAEcAAEhAAEoAaUAAAEJAajdAADkAADtAADwAAEIAAENAAEgAAEpAajVAADcAaTRAADUAajJAADQAaTBAADIAADsAADxAAEoAAExAajAAADJAajIAADRAADtAADwAAEMAAERAAEpAAEwAaTJAADQAajBAADIAaS9AADAAai1AAC8AADsAADxAAEQAAEVAAEhAAEoAgVMtAAA1QABIAIFTMkAANQAAO0AAPAAAQ0AARQAAR0BqOwAAPEAAQUAAQwBqMgAAN0AAPAAAPkAAQQAAQ0CBUzBAADcAAD4AAEBAAEcAAEhAgyYvQAAwAAA+QABAAABIAABPQIFTLwAAMEAAPEAAPgAATEAATwBqL0AAMABqLwAAMEAAN0AAPABpMAAAMkAAQUAAQwAASkAATABqMgAANEAANwAAPEAAQQAAQ0AASEAASgBpMEAANABqMAAANUAAQwAARUAASAAASkBqNEAANQBpNAAANUAAO0AAPAAAQ0AARQBqNQAAN0AASgAATEBpNwAAOUAAOwAAQwAASEAATAAATUBqO0BqN0AAOQAAOwAAPEAATEAATQCBUzVAADcAADwAAENAAEdAAEgAAEpAAEwAaUVAAEcAakUAakFAaTBAADUAAEBAAEEAAEhAAEoAhHowAABAAABDAABIAAH/LwA=&quot; target=&quot;_blank&quot;&gt;Download MIDI&lt;/a&gt;&lt;br&gt;&lt;/span&gt;&lt;/p&gt;\n",
       "          &lt;midi-player src=data:audio/midi;base64,TVRoZAAAAAYAAQACANxNVHJrAAAAEwD/UQMHoSAA/1gEBAIYCAH/LwBNVHJrAAADlwDAAACQMEAAPEAAQ0AASECBUzwAAEBAajAAADJAaTIAADRAajQAADVAajUAADdAAD5AAEAAAEdAAEgAaUFAAEMAai1AADcAADxAAD4AAEBAAEEAAEVAAEcAaS0AAC9Aai8AADBAajAAADJAAEAAAEFAaTIAADRAAEEAAENAAEUAgVM0AAA5QABAQABDAABIQIFUNEAAN0AAOQAAPAAAQACBUzQAAENAAEdAAEgAAEpAgVMwQAA3AABAQABHAABKAABMQIMmPEAAQACCPTAAADJAajIAADRAaTQAADVAajUAADdAADtAADwAajcAADlAADsAaThAADkAADtAAEFAAEMAAEpAAEwAajZAADgAaTYAADhAAEBAAEEAajRAADgAajQAADlAADsAADxAAEhAAEoAaTdAADkAajVAADcAAEAAAEVAAEgAAE1AgVM0QAA1AABDQABFAGoyQAA0AAA7QAA8AABBQABDAGkwQAAyAAA7AABBAABDQABIQABMQABNAIFTMAAAN0AAR0AASAAASkAATACDJzcAADlAADxAAEBAAEMAAEcAAEhAAEoAaUAAAEJAajdAADkAADtAADwAAEIAAENAAEgAAEpAajVAADcAaTRAADUAajJAADQAaTBAADIAADsAADxAAEoAAExAajAAADJAajIAADRAADtAADwAAEMAAERAAEpAAEwAaTJAADQAajBAADIAaS9AADAAai1AAC8AADsAADxAAEQAAEVAAEhAAEoAgVMtAAA1QABIAIFTMkAANQAAO0AAPAAAQ0AARQAAR0BqOwAAPEAAQUAAQwBqMgAAN0AAPAAAPkAAQQAAQ0CBUzBAADcAAD4AAEBAAEcAAEhAgyYvQAAwAAA+QABAAABIAABPQIFTLwAAMEAAPEAAPgAATEAATwBqL0AAMABqLwAAMEAAN0AAPABpMAAAMkAAQUAAQwAASkAATABqMgAANEAANwAAPEAAQQAAQ0AASEAASgBpMEAANABqMAAANUAAQwAARUAASAAASkBqNEAANQBpNAAANUAAO0AAPAAAQ0AARQBqNQAAN0AASgAATEBpNwAAOUAAOwAAQwAASEAATAAATUBqO0BqN0AAOQAAOwAAPEAATEAATQCBUzVAADcAADwAAENAAEdAAEgAAEpAAEwAaUVAAEcAakUAakFAaTBAADUAAEBAAEEAAEhAAEoAhHowAABAAABDAABIAAH/LwA= sound-font visualizer=&quot;#section864 midi-visualizer&quot;&gt;&lt;/midi-player&gt;\n",
       "          &lt;midi-visualizer src=data:audio/midi;base64,TVRoZAAAAAYAAQACANxNVHJrAAAAEwD/UQMHoSAA/1gEBAIYCAH/LwBNVHJrAAADlwDAAACQMEAAPEAAQ0AASECBUzwAAEBAajAAADJAaTIAADRAajQAADVAajUAADdAAD5AAEAAAEdAAEgAaUFAAEMAai1AADcAADxAAD4AAEBAAEEAAEVAAEcAaS0AAC9Aai8AADBAajAAADJAAEAAAEFAaTIAADRAAEEAAENAAEUAgVM0AAA5QABAQABDAABIQIFUNEAAN0AAOQAAPAAAQACBUzQAAENAAEdAAEgAAEpAgVMwQAA3AABAQABHAABKAABMQIMmPEAAQACCPTAAADJAajIAADRAaTQAADVAajUAADdAADtAADwAajcAADlAADsAaThAADkAADtAAEFAAEMAAEpAAEwAajZAADgAaTYAADhAAEBAAEEAajRAADgAajQAADlAADsAADxAAEhAAEoAaTdAADkAajVAADcAAEAAAEVAAEgAAE1AgVM0QAA1AABDQABFAGoyQAA0AAA7QAA8AABBQABDAGkwQAAyAAA7AABBAABDQABIQABMQABNAIFTMAAAN0AAR0AASAAASkAATACDJzcAADlAADxAAEBAAEMAAEcAAEhAAEoAaUAAAEJAajdAADkAADtAADwAAEIAAENAAEgAAEpAajVAADcAaTRAADUAajJAADQAaTBAADIAADsAADxAAEoAAExAajAAADJAajIAADRAADtAADwAAEMAAERAAEpAAEwAaTJAADQAajBAADIAaS9AADAAai1AAC8AADsAADxAAEQAAEVAAEhAAEoAgVMtAAA1QABIAIFTMkAANQAAO0AAPAAAQ0AARQAAR0BqOwAAPEAAQUAAQwBqMgAAN0AAPAAAPkAAQQAAQ0CBUzBAADcAAD4AAEBAAEcAAEhAgyYvQAAwAAA+QABAAABIAABPQIFTLwAAMEAAPEAAPgAATEAATwBqL0AAMABqLwAAMEAAN0AAPABpMAAAMkAAQUAAQwAASkAATABqMgAANEAANwAAPEAAQQAAQ0AASEAASgBpMEAANABqMAAANUAAQwAARUAASAAASkBqNEAANQBpNAAANUAAO0AAPAAAQ0AARQBqNQAAN0AASgAATEBpNwAAOUAAOwAAQwAASEAATAAATUBqO0BqN0AAOQAAOwAAPEAATEAATQCBUzVAADcAADwAAENAAEdAAEgAAEpAAEwAaUVAAEcAakUAakFAaTBAADUAAEBAAEEAAEhAAEoAhHowAABAAABDAABIAAH/LwA= type=piano-roll&gt;&lt;/midi-visualizer&gt;\n",
       "          &lt;/section&gt;\n",
       "          \" width=\"100%\" height=\"400\"\n",
       "            style=\"border:none !important;\"\n",
       "            \"allowfullscreen\" \"webkitallowfullscreen\" \"mozallowfullscreen\">'\n",
       "            </iframe>"
      ],
      "text/plain": [
       "<midi_player.midi_player.MIDIPlayer>"
      ]
     },
     "metadata": {},
     "output_type": "display_data"
    },
    {
     "data": {
      "text/html": [
       "<iframe srcdoc=\"&lt;script src=&quot;https://cdn.jsdelivr.net/combine/npm/tone@14.7.58,npm/@magenta/music@1.23.1/es6/core.js,npm/focus-visible@5,npm/html-midi-player@1.5.0&quot;&gt;&lt;/script&gt;\n",
       "\n",
       "&lt;style&gt;\n",
       "/* Custom player style */\n",
       "p { \n",
       "  margin:0; \n",
       "  color: #c4c4c4; /* mid-lightness text color for title, intended for dark backgrounds */\n",
       "}\n",
       "\n",
       "#section394 midi-player {\n",
       "  display: block;\n",
       "  width: inherit;\n",
       "  margin: 4px;\n",
       "  margin-bottom: 0;\n",
       "  color: #d4d4d4; /* Lighter text color for better readability */\n",
       "}\n",
       "#section394 midi-player::part(control-panel) {\n",
       "  background: #222; /* Dark background */\n",
       "  border: 2px solid #888; /* Lightened border color for contrast */\n",
       "  border-radius: 10px 10px 0 0;\n",
       "}\n",
       "#section394 midi-player::part(play-button) {\n",
       "  color: #ffffff; /* White text for visibility */\n",
       "  border: 2px solid currentColor;\n",
       "  background-color: #6c7a89; \n",
       "  border-radius: 20px;\n",
       "  transition: all 0.2s;\n",
       "  content: &#x27;hello&#x27;;\n",
       "}\n",
       "#section394 midi-player::part(play-button):hover {\n",
       "  color: #00a; \n",
       "  background-color: #9fafc9; \n",
       "  border-radius: 10px;\n",
       "}\n",
       "#section394 midi-player::part(time) {\n",
       "  font-family: monospace; /* Monospace font for time */\n",
       "}\n",
       "\n",
       "/* Custom visualizer style */\n",
       "#section394 midi-visualizer .piano-roll-visualizer {\n",
       "  background: #333; /* Dark background for visualizer */\n",
       "  border: 2px solid #505050; /* Dark border for subtle appearance */\n",
       "  border-top: none;\n",
       "  border-radius: 0 0 10px 10px;\n",
       "  margin: 4px;\n",
       "  width: inherit;\n",
       "  margin-top: 0;\n",
       "  overflow: auto;\n",
       "}\n",
       "#section394 midi-visualizer svg rect.note {\n",
       "  opacity: 0.9; \n",
       "  stroke-width: 1; /* Stroke width for note clarity */\n",
       "}\n",
       "\n",
       "/* Different instrument colors */\n",
       "#section394 midi-visualizer svg rect.note[data-instrument=&quot;0&quot;]{\n",
       "  fill: #7aa6ed; /*  blue for Instrument 0 */\n",
       "  stroke: #444; \n",
       "}\n",
       "#section394 midi-visualizer svg rect.note[data-instrument=&quot;2&quot;]{\n",
       "  fill: #d586d0; /* purple for Instrument 2 for consistency */\n",
       "  stroke: #444; /* White stroke for visibility */\n",
       "}\n",
       "#section394 midi-visualizer svg rect.note[data-is-drum=&quot;true&quot;]{\n",
       "  fill: brightorange; \n",
       "  stroke: #bbb;\n",
       "}\n",
       "#section394 midi-visualizer svg rect.note.active {\n",
       "  opacity: 0.9; /* Highlight active notes */\n",
       "  stroke: #ddd; /* White stroke for maximum contrast */\n",
       "  stroke-width: 2; /* Thicker stroke for active notes */\n",
       "}\n",
       "&lt;/style&gt;\n",
       "\n",
       "          &lt;section id=&quot;section394&quot;&gt;&lt;p style=&quot;text-align:left;font-family:Arial;&quot;&gt;16-note &#x27;prompt&#x27; for demos&lt;span style=&quot;float:right;&quot;&gt;&lt;a href=&quot;data:audio/midi;base64,TVRoZAAAAAYAAQACANxNVHJrAAAAEwD/UQMHoSAA/1gEBAIYCAH/LwBNVHJrAAAAawDAAACQMEAAPEAAQ0AASECBUzwAAEBAajAAADJAaTIAADRAajQAADVAajUAADdAAD5AAEAAAEdAAEgAaUFAAEMAai1AADcAADxAAD4AAEBAAEEAAEVAAEcAaS0AgVRAAGlFAIMnPAAB/y8A&quot; target=&quot;_blank&quot;&gt;Download MIDI&lt;/a&gt;&lt;br&gt;&lt;/span&gt;&lt;/p&gt;\n",
       "          &lt;midi-player src=data:audio/midi;base64,TVRoZAAAAAYAAQACANxNVHJrAAAAEwD/UQMHoSAA/1gEBAIYCAH/LwBNVHJrAAAAawDAAACQMEAAPEAAQ0AASECBUzwAAEBAajAAADJAaTIAADRAajQAADVAajUAADdAAD5AAEAAAEdAAEgAaUFAAEMAai1AADcAADxAAD4AAEBAAEEAAEVAAEcAaS0AgVRAAGlFAIMnPAAB/y8A sound-font visualizer=&quot;#section394 midi-visualizer&quot;&gt;&lt;/midi-player&gt;\n",
       "          &lt;midi-visualizer src=data:audio/midi;base64,TVRoZAAAAAYAAQACANxNVHJrAAAAEwD/UQMHoSAA/1gEBAIYCAH/LwBNVHJrAAAAawDAAACQMEAAPEAAQ0AASECBUzwAAEBAajAAADJAaTIAADRAajQAADVAajUAADdAAD5AAEAAAEdAAEgAaUFAAEMAai1AADcAADxAAD4AAEBAAEEAAEVAAEcAaS0AgVRAAGlFAIMnPAAB/y8A type=piano-roll&gt;&lt;/midi-visualizer&gt;\n",
       "          &lt;/section&gt;\n",
       "          \" width=\"100%\" height=\"400\"\n",
       "            style=\"border:none !important;\"\n",
       "            \"allowfullscreen\" \"webkitallowfullscreen\" \"mozallowfullscreen\">'\n",
       "            </iframe>"
      ],
      "text/plain": [
       "<midi_player.midi_player.MIDIPlayer>"
      ]
     },
     "metadata": {},
     "output_type": "display_data"
    }
   ],
   "source": [
    "#| code-fold: true\n",
    "#| code-summary: \"Show the code\"\n",
    "\n",
    "demo_prompt_idx = 0    # file index from which to pull the demo prompt\n",
    "demo_target = val_notes_tl[demo_prompt_idx]\n",
    "display(midiplayer(demo_target, title=f\"Full demo 'target', {len(demo_target)} notes in length\"))\n",
    "\n",
    "demo_prompt_length = 16  # number of notes in demo prompt context\n",
    "demo_max_new_tokens = min(150, len(demo_target))  # try to make the whole song, but don't go on too long\n",
    "prompt = demo_target[:demo_prompt_length]\n",
    "display(midiplayer(prompt, title=f\"{demo_prompt_length}-note 'prompt' for demos\"))\n",
    "prompt_tokens = encode(prompt).unsqueeze(0).to(device)"
   ]
  },
  {
   "cell_type": "markdown",
   "metadata": {},
   "source": [
    "## (Re-)Init Things\n",
    "Just to keep things 'clean', re-setup the datasets & loaders for good measure, instantiate a model and optimizer."
   ]
  },
  {
   "cell_type": "code",
   "execution_count": null,
   "metadata": {},
   "outputs": [
    {
     "name": "stdout",
     "output_type": "stream",
     "text": [
      "0.843947 M parameters in the model\n"
     ]
    }
   ],
   "source": [
    "set_seeds(0)\n",
    "\n",
    "train_ds = NotesDataset(train_notes_tl, config.seq_length, len_mult=config.batch_size)\n",
    "val_ds = NotesDataset(val_notes_tl, seq_length, aug_callback=None, len_mult=1000000) # no aug, neverending\n",
    "\n",
    "train_dl = DataLoader(train_ds, batch_size=config.batch_size, shuffle=True)\n",
    "val_dl   = DataLoader(val_ds,   batch_size=config.batch_size, shuffle=False)\n",
    "\n",
    "model = Transformer(config)\n",
    "model = model.to(device)\n",
    "total_params_str = f'{sum(p.numel() for p in model.parameters())/1e6} M'\n",
    "print(total_params_str,'parameters in the model')  \n",
    "\n",
    "optimizer = torch.optim.AdamW(model.parameters(), lr=config.learning_rate, weight_decay=config.weight_decay)"
   ]
  },
  {
   "cell_type": "markdown",
   "metadata": {},
   "source": [
    "# Train the Model\n"
   ]
  },
  {
   "cell_type": "markdown",
   "metadata": {},
   "source": [
    "## Optional: Setup WandB Run Tracking"
   ]
  },
  {
   "cell_type": "code",
   "execution_count": null,
   "metadata": {},
   "outputs": [
    {
     "name": "stderr",
     "output_type": "stream",
     "text": [
      "\u001b[34m\u001b[1mwandb\u001b[0m: Currently logged in as: \u001b[33mdrscotthawley\u001b[0m. Use \u001b[1m`wandb login --relogin`\u001b[0m to force relogin\n"
     ]
    },
    {
     "data": {
      "text/html": [
       "wandb version 0.16.1 is available!  To upgrade, please run:\n",
       " $ pip install wandb --upgrade"
      ],
      "text/plain": [
       "<IPython.core.display.HTML object>"
      ]
     },
     "metadata": {},
     "output_type": "display_data"
    },
    {
     "data": {
      "text/html": [
       "Tracking run with wandb version 0.15.4"
      ],
      "text/plain": [
       "<IPython.core.display.HTML object>"
      ]
     },
     "metadata": {},
     "output_type": "display_data"
    },
    {
     "data": {
      "text/html": [
       "Run data is saved locally in <code>/Users/shawley/github/blog/posts/wandb/run-20231213_201630-okamoljp</code>"
      ],
      "text/plain": [
       "<IPython.core.display.HTML object>"
      ]
     },
     "metadata": {},
     "output_type": "display_data"
    },
    {
     "data": {
      "text/html": [
       "Syncing run <strong><a href='https://wandb.ai/drscotthawley/musicbox-jsb-tutorial/runs/okamoljp' target=\"_blank\">winter-rain-29</a></strong> to <a href='https://wandb.ai/drscotthawley/musicbox-jsb-tutorial' target=\"_blank\">Weights & Biases</a> (<a href='https://wandb.me/run' target=\"_blank\">docs</a>)<br/>"
      ],
      "text/plain": [
       "<IPython.core.display.HTML object>"
      ]
     },
     "metadata": {},
     "output_type": "display_data"
    },
    {
     "data": {
      "text/html": [
       " View project at <a href='https://wandb.ai/drscotthawley/musicbox-jsb-tutorial' target=\"_blank\">https://wandb.ai/drscotthawley/musicbox-jsb-tutorial</a>"
      ],
      "text/plain": [
       "<IPython.core.display.HTML object>"
      ]
     },
     "metadata": {},
     "output_type": "display_data"
    },
    {
     "data": {
      "text/html": [
       " View run at <a href='https://wandb.ai/drscotthawley/musicbox-jsb-tutorial/runs/okamoljp' target=\"_blank\">https://wandb.ai/drscotthawley/musicbox-jsb-tutorial/runs/okamoljp</a>"
      ],
      "text/plain": [
       "<IPython.core.display.HTML object>"
      ]
     },
     "metadata": {},
     "output_type": "display_data"
    }
   ],
   "source": [
    "use_wandb = True  # Tip: leave this off at first, until you're sure everything's working!\n",
    "if use_wandb:\n",
    "    import wandb \n",
    "    \n",
    "    wandb.login()\n",
    "    wandb.init(project=\"musicbox-jsb-tutorial\", config=config)"
   ]
  },
  {
   "cell_type": "markdown",
   "metadata": {},
   "source": [
    "## Training Loop: Go!"
   ]
  },
  {
   "cell_type": "code",
   "execution_count": null,
   "metadata": {},
   "outputs": [
    {
     "name": "stderr",
     "output_type": "stream",
     "text": [
      "Epoch 1/20: 100%|████████| 229/229 [00:47<00:00,  4.81it/s, train=2.03, val=1.97, BEST val_ema=2.04]\n",
      "Epoch 2/20: 100%|████████| 229/229 [00:46<00:00,  4.89it/s, train=1.74, val=1.71, BEST val_ema=1.72]\n",
      "Epoch 3/20: 100%|█████████| 229/229 [00:47<00:00,  4.82it/s, train=1.44, val=1.54, BEST val_ema=1.5]\n",
      "Epoch 4/20: 100%|█████████| 229/229 [00:47<00:00,  4.84it/s, train=1.48, val=1.44, BEST val_ema=1.4]\n"
     ]
    },
    {
     "data": {
      "text/html": [
       "<iframe srcdoc=\"&lt;script src=&quot;https://cdn.jsdelivr.net/combine/npm/tone@14.7.58,npm/@magenta/music@1.23.1/es6/core.js,npm/focus-visible@5,npm/html-midi-player@1.5.0&quot;&gt;&lt;/script&gt;\n",
       "\n",
       "&lt;style&gt;\n",
       "/* Custom player style */\n",
       "p { \n",
       "  margin:0; \n",
       "  color: #c4c4c4; /* mid-lightness text color for title, intended for dark backgrounds */\n",
       "}\n",
       "\n",
       "#section864 midi-player {\n",
       "  display: block;\n",
       "  width: inherit;\n",
       "  margin: 4px;\n",
       "  margin-bottom: 0;\n",
       "  color: #d4d4d4; /* Lighter text color for better readability */\n",
       "}\n",
       "#section864 midi-player::part(control-panel) {\n",
       "  background: #222; /* Dark background */\n",
       "  border: 2px solid #888; /* Lightened border color for contrast */\n",
       "  border-radius: 10px 10px 0 0;\n",
       "}\n",
       "#section864 midi-player::part(play-button) {\n",
       "  color: #ffffff; /* White text for visibility */\n",
       "  border: 2px solid currentColor;\n",
       "  background-color: #6c7a89; \n",
       "  border-radius: 20px;\n",
       "  transition: all 0.2s;\n",
       "  content: &#x27;hello&#x27;;\n",
       "}\n",
       "#section864 midi-player::part(play-button):hover {\n",
       "  color: #00a; \n",
       "  background-color: #9fafc9; \n",
       "  border-radius: 10px;\n",
       "}\n",
       "#section864 midi-player::part(time) {\n",
       "  font-family: monospace; /* Monospace font for time */\n",
       "}\n",
       "\n",
       "/* Custom visualizer style */\n",
       "#section864 midi-visualizer .piano-roll-visualizer {\n",
       "  background: #333; /* Dark background for visualizer */\n",
       "  border: 2px solid #505050; /* Dark border for subtle appearance */\n",
       "  border-top: none;\n",
       "  border-radius: 0 0 10px 10px;\n",
       "  margin: 4px;\n",
       "  width: inherit;\n",
       "  margin-top: 0;\n",
       "  overflow: auto;\n",
       "}\n",
       "#section864 midi-visualizer svg rect.note {\n",
       "  opacity: 0.9; \n",
       "  stroke-width: 1; /* Stroke width for note clarity */\n",
       "}\n",
       "\n",
       "/* Different instrument colors */\n",
       "#section864 midi-visualizer svg rect.note[data-instrument=&quot;0&quot;]{\n",
       "  fill: #7aa6ed; /*  blue for Instrument 0 */\n",
       "  stroke: #444; \n",
       "}\n",
       "#section864 midi-visualizer svg rect.note[data-instrument=&quot;2&quot;]{\n",
       "  fill: #d586d0; /* purple for Instrument 2 for consistency */\n",
       "  stroke: #444; /* White stroke for visibility */\n",
       "}\n",
       "#section864 midi-visualizer svg rect.note[data-is-drum=&quot;true&quot;]{\n",
       "  fill: brightorange; \n",
       "  stroke: #bbb;\n",
       "}\n",
       "#section864 midi-visualizer svg rect.note.active {\n",
       "  opacity: 0.9; /* Highlight active notes */\n",
       "  stroke: #ddd; /* White stroke for maximum contrast */\n",
       "  stroke-width: 2; /* Thicker stroke for active notes */\n",
       "}\n",
       "&lt;/style&gt;\n",
       "\n",
       "          &lt;section id=&quot;section864&quot;&gt;&lt;p style=&quot;text-align:left;font-family:Arial;&quot;&gt;Demo on val dataset, Epoch=4&lt;span style=&quot;float:right;&quot;&gt;&lt;a href=&quot;data:audio/midi;base64,TVRoZAAAAAYAAQACANxNVHJrAAAAEwD/UQMHoSAA/1gEBAIYCAH/LwBNVHJrAAAD7QDAAACQMEAAPEAAQ0AASECBUzwAAEBAajAAADJAaTIAADRAajQAADVAajUAADdAAD5AAEAAAEdAAEgAaUFAAEMAai1AADcAADxAAD4AAEBAAEEAAEVAAEcAaStAAC0AgVQrAAAyQABAAGlBQABFAGotQAAyAABAQABBAGk0QIFUPAAAPEBpLQAAQABqNAAAQ0AARkBpQUAAQUAAQwAARUAARgAAR0BqQQAARUBqN0AAPAAAPkAAQQAAQ0AAQ0AARQAARQAARwAAR0BpRwAASEBqMEAAPgAAQEAAQwAAQwAASAAASEBpPkAAQABqK0AAMAAAN0AAO0AAPgAASAAASkCBUyhAACsAADcAADxAAEoAAExAgVMoAAAwQAA5QAA7AAA8AABFQABIQABMAIFUMAAAMkAANwAAOQAAPkAARQAASAAATUCBUzIAADdAAENAAEdAAE0AaTxAAD4AajcAAEMAAEcAAExAaiRAADwAAD5AAEdAaSQAADJAADlAADtAAD4AAEBAAEJAAEVAAEcAAEwAajdAADkAAEIAaS1AADIAADsAADxAAEAAAEFAAEUAajcAADwAAD5Aai0AAC5AADNAADlAAD4AAD5AAEEANH9ANX9ANX8AAH9ANX8AAH9ANX8AAH9ANH8AAH9ANX8AAH9ANX8AAH9ANX8AAH9ANX8AAH9ANH8AAH9ANX8AAH9ANX8AAH9ANX8AAH9ANX8AAH9ANDMAADkAAD4AAH8AAH9ANX8AAH9ANX8AAH9ANX8AAH9ANX8AAH9ANH8AAH9ANX8AAH9ANX8AAH9ANX8AAH9ANX8AAH9ANC4AAH8AAH9ANX8AAH9ANX8AAH9ANX8AAH9ANX8AAH9ANH8AAH9ANX8AAH9ANX8AAH9ANX8AAH9ANX8AAH9ANH8AAH9ANX8AAH9ANX8AAH9ANX8AAH9ANX8AAH9ANH8AAH9ANX8AAH9ANX8AAH9ANX8AAH9ANX8AAH9ANH8AAH9ANX8AAH9ANX8AAH9ANX8AAH9ANX8AAH9ANH8AAH9ANX8AAH9ANX8AAH9ANX8AAH9ANX8AAH9ANH8AAH9ANX8AAH9ANX8AAH9ANX8AAH9ANX8AAH9ANH8AAH9ANX8AAH9ANX8AAH9ANX8AAH9ANX8AAH9ANH8AAH9ANX8AAH9ANX8AAH9ANX8AAH9ANX8AAH9ANH8AAH9ANX8AAH9ANX8AAH9ANX8AAH9ANX8AAH9ANH8AAH9ANX8AAH9ANX8AAH9ANX8AAH9ANX8AAH9ANH8AAH9ANX8AAH9ANX8AAH9ANX8AAH9ANX8AAH9ANH8AAH9ANX8AAH9ANX8AAH9ANX8ANX8AAf8vAA==&quot; target=&quot;_blank&quot;&gt;Download MIDI&lt;/a&gt;&lt;br&gt;&lt;/span&gt;&lt;/p&gt;\n",
       "          &lt;midi-player src=data:audio/midi;base64,TVRoZAAAAAYAAQACANxNVHJrAAAAEwD/UQMHoSAA/1gEBAIYCAH/LwBNVHJrAAAD7QDAAACQMEAAPEAAQ0AASECBUzwAAEBAajAAADJAaTIAADRAajQAADVAajUAADdAAD5AAEAAAEdAAEgAaUFAAEMAai1AADcAADxAAD4AAEBAAEEAAEVAAEcAaStAAC0AgVQrAAAyQABAAGlBQABFAGotQAAyAABAQABBAGk0QIFUPAAAPEBpLQAAQABqNAAAQ0AARkBpQUAAQUAAQwAARUAARgAAR0BqQQAARUBqN0AAPAAAPkAAQQAAQ0AAQ0AARQAARQAARwAAR0BpRwAASEBqMEAAPgAAQEAAQwAAQwAASAAASEBpPkAAQABqK0AAMAAAN0AAO0AAPgAASAAASkCBUyhAACsAADcAADxAAEoAAExAgVMoAAAwQAA5QAA7AAA8AABFQABIQABMAIFUMAAAMkAANwAAOQAAPkAARQAASAAATUCBUzIAADdAAENAAEdAAE0AaTxAAD4AajcAAEMAAEcAAExAaiRAADwAAD5AAEdAaSQAADJAADlAADtAAD4AAEBAAEJAAEVAAEcAAEwAajdAADkAAEIAaS1AADIAADsAADxAAEAAAEFAAEUAajcAADwAAD5Aai0AAC5AADNAADlAAD4AAD5AAEEANH9ANX9ANX8AAH9ANX8AAH9ANX8AAH9ANH8AAH9ANX8AAH9ANX8AAH9ANX8AAH9ANX8AAH9ANH8AAH9ANX8AAH9ANX8AAH9ANX8AAH9ANX8AAH9ANDMAADkAAD4AAH8AAH9ANX8AAH9ANX8AAH9ANX8AAH9ANX8AAH9ANH8AAH9ANX8AAH9ANX8AAH9ANX8AAH9ANX8AAH9ANC4AAH8AAH9ANX8AAH9ANX8AAH9ANX8AAH9ANX8AAH9ANH8AAH9ANX8AAH9ANX8AAH9ANX8AAH9ANX8AAH9ANH8AAH9ANX8AAH9ANX8AAH9ANX8AAH9ANX8AAH9ANH8AAH9ANX8AAH9ANX8AAH9ANX8AAH9ANX8AAH9ANH8AAH9ANX8AAH9ANX8AAH9ANX8AAH9ANX8AAH9ANH8AAH9ANX8AAH9ANX8AAH9ANX8AAH9ANX8AAH9ANH8AAH9ANX8AAH9ANX8AAH9ANX8AAH9ANX8AAH9ANH8AAH9ANX8AAH9ANX8AAH9ANX8AAH9ANX8AAH9ANH8AAH9ANX8AAH9ANX8AAH9ANX8AAH9ANX8AAH9ANH8AAH9ANX8AAH9ANX8AAH9ANX8AAH9ANX8AAH9ANH8AAH9ANX8AAH9ANX8AAH9ANX8AAH9ANX8AAH9ANH8AAH9ANX8AAH9ANX8AAH9ANX8AAH9ANX8AAH9ANH8AAH9ANX8AAH9ANX8AAH9ANX8ANX8AAf8vAA== sound-font visualizer=&quot;#section864 midi-visualizer&quot;&gt;&lt;/midi-player&gt;\n",
       "          &lt;midi-visualizer src=data:audio/midi;base64,TVRoZAAAAAYAAQACANxNVHJrAAAAEwD/UQMHoSAA/1gEBAIYCAH/LwBNVHJrAAAD7QDAAACQMEAAPEAAQ0AASECBUzwAAEBAajAAADJAaTIAADRAajQAADVAajUAADdAAD5AAEAAAEdAAEgAaUFAAEMAai1AADcAADxAAD4AAEBAAEEAAEVAAEcAaStAAC0AgVQrAAAyQABAAGlBQABFAGotQAAyAABAQABBAGk0QIFUPAAAPEBpLQAAQABqNAAAQ0AARkBpQUAAQUAAQwAARUAARgAAR0BqQQAARUBqN0AAPAAAPkAAQQAAQ0AAQ0AARQAARQAARwAAR0BpRwAASEBqMEAAPgAAQEAAQwAAQwAASAAASEBpPkAAQABqK0AAMAAAN0AAO0AAPgAASAAASkCBUyhAACsAADcAADxAAEoAAExAgVMoAAAwQAA5QAA7AAA8AABFQABIQABMAIFUMAAAMkAANwAAOQAAPkAARQAASAAATUCBUzIAADdAAENAAEdAAE0AaTxAAD4AajcAAEMAAEcAAExAaiRAADwAAD5AAEdAaSQAADJAADlAADtAAD4AAEBAAEJAAEVAAEcAAEwAajdAADkAAEIAaS1AADIAADsAADxAAEAAAEFAAEUAajcAADwAAD5Aai0AAC5AADNAADlAAD4AAD5AAEEANH9ANX9ANX8AAH9ANX8AAH9ANX8AAH9ANH8AAH9ANX8AAH9ANX8AAH9ANX8AAH9ANX8AAH9ANH8AAH9ANX8AAH9ANX8AAH9ANX8AAH9ANX8AAH9ANDMAADkAAD4AAH8AAH9ANX8AAH9ANX8AAH9ANX8AAH9ANX8AAH9ANH8AAH9ANX8AAH9ANX8AAH9ANX8AAH9ANX8AAH9ANC4AAH8AAH9ANX8AAH9ANX8AAH9ANX8AAH9ANX8AAH9ANH8AAH9ANX8AAH9ANX8AAH9ANX8AAH9ANX8AAH9ANH8AAH9ANX8AAH9ANX8AAH9ANX8AAH9ANX8AAH9ANH8AAH9ANX8AAH9ANX8AAH9ANX8AAH9ANX8AAH9ANH8AAH9ANX8AAH9ANX8AAH9ANX8AAH9ANX8AAH9ANH8AAH9ANX8AAH9ANX8AAH9ANX8AAH9ANX8AAH9ANH8AAH9ANX8AAH9ANX8AAH9ANX8AAH9ANX8AAH9ANH8AAH9ANX8AAH9ANX8AAH9ANX8AAH9ANX8AAH9ANH8AAH9ANX8AAH9ANX8AAH9ANX8AAH9ANX8AAH9ANH8AAH9ANX8AAH9ANX8AAH9ANX8AAH9ANX8AAH9ANH8AAH9ANX8AAH9ANX8AAH9ANX8AAH9ANX8AAH9ANH8AAH9ANX8AAH9ANX8AAH9ANX8AAH9ANX8AAH9ANH8AAH9ANX8AAH9ANX8AAH9ANX8ANX8AAf8vAA== type=piano-roll&gt;&lt;/midi-visualizer&gt;\n",
       "          &lt;/section&gt;\n",
       "          \" width=\"100%\" height=\"400\"\n",
       "            style=\"border:none !important;\"\n",
       "            \"allowfullscreen\" \"webkitallowfullscreen\" \"mozallowfullscreen\">'\n",
       "            </iframe>"
      ],
      "text/plain": [
       "<midi_player.midi_player.MIDIPlayer>"
      ]
     },
     "metadata": {},
     "output_type": "display_data"
    },
    {
     "name": "stderr",
     "output_type": "stream",
     "text": [
      "Epoch 5/20: 100%|████████| 229/229 [00:49<00:00,  4.67it/s, train=1.37, val=1.33, BEST val_ema=1.34]\n",
      "Epoch 6/20: 100%|█████████| 229/229 [00:48<00:00,  4.73it/s, train=1.31, val=1.22, BEST val_ema=1.3]\n",
      "Epoch 7/20: 100%|████████| 229/229 [00:48<00:00,  4.69it/s, train=1.28, val=1.24, BEST val_ema=1.27]\n",
      "Epoch 8/20: 100%|████████| 229/229 [00:46<00:00,  4.88it/s, train=1.25, val=1.14, BEST val_ema=1.24]\n"
     ]
    },
    {
     "data": {
      "text/html": [
       "<iframe srcdoc=\"&lt;script src=&quot;https://cdn.jsdelivr.net/combine/npm/tone@14.7.58,npm/@magenta/music@1.23.1/es6/core.js,npm/focus-visible@5,npm/html-midi-player@1.5.0&quot;&gt;&lt;/script&gt;\n",
       "\n",
       "&lt;style&gt;\n",
       "/* Custom player style */\n",
       "p { \n",
       "  margin:0; \n",
       "  color: #c4c4c4; /* mid-lightness text color for title, intended for dark backgrounds */\n",
       "}\n",
       "\n",
       "#section394 midi-player {\n",
       "  display: block;\n",
       "  width: inherit;\n",
       "  margin: 4px;\n",
       "  margin-bottom: 0;\n",
       "  color: #d4d4d4; /* Lighter text color for better readability */\n",
       "}\n",
       "#section394 midi-player::part(control-panel) {\n",
       "  background: #222; /* Dark background */\n",
       "  border: 2px solid #888; /* Lightened border color for contrast */\n",
       "  border-radius: 10px 10px 0 0;\n",
       "}\n",
       "#section394 midi-player::part(play-button) {\n",
       "  color: #ffffff; /* White text for visibility */\n",
       "  border: 2px solid currentColor;\n",
       "  background-color: #6c7a89; \n",
       "  border-radius: 20px;\n",
       "  transition: all 0.2s;\n",
       "  content: &#x27;hello&#x27;;\n",
       "}\n",
       "#section394 midi-player::part(play-button):hover {\n",
       "  color: #00a; \n",
       "  background-color: #9fafc9; \n",
       "  border-radius: 10px;\n",
       "}\n",
       "#section394 midi-player::part(time) {\n",
       "  font-family: monospace; /* Monospace font for time */\n",
       "}\n",
       "\n",
       "/* Custom visualizer style */\n",
       "#section394 midi-visualizer .piano-roll-visualizer {\n",
       "  background: #333; /* Dark background for visualizer */\n",
       "  border: 2px solid #505050; /* Dark border for subtle appearance */\n",
       "  border-top: none;\n",
       "  border-radius: 0 0 10px 10px;\n",
       "  margin: 4px;\n",
       "  width: inherit;\n",
       "  margin-top: 0;\n",
       "  overflow: auto;\n",
       "}\n",
       "#section394 midi-visualizer svg rect.note {\n",
       "  opacity: 0.9; \n",
       "  stroke-width: 1; /* Stroke width for note clarity */\n",
       "}\n",
       "\n",
       "/* Different instrument colors */\n",
       "#section394 midi-visualizer svg rect.note[data-instrument=&quot;0&quot;]{\n",
       "  fill: #7aa6ed; /*  blue for Instrument 0 */\n",
       "  stroke: #444; \n",
       "}\n",
       "#section394 midi-visualizer svg rect.note[data-instrument=&quot;2&quot;]{\n",
       "  fill: #d586d0; /* purple for Instrument 2 for consistency */\n",
       "  stroke: #444; /* White stroke for visibility */\n",
       "}\n",
       "#section394 midi-visualizer svg rect.note[data-is-drum=&quot;true&quot;]{\n",
       "  fill: brightorange; \n",
       "  stroke: #bbb;\n",
       "}\n",
       "#section394 midi-visualizer svg rect.note.active {\n",
       "  opacity: 0.9; /* Highlight active notes */\n",
       "  stroke: #ddd; /* White stroke for maximum contrast */\n",
       "  stroke-width: 2; /* Thicker stroke for active notes */\n",
       "}\n",
       "&lt;/style&gt;\n",
       "\n",
       "          &lt;section id=&quot;section394&quot;&gt;&lt;p style=&quot;text-align:left;font-family:Arial;&quot;&gt;Demo on val dataset, Epoch=8&lt;span style=&quot;float:right;&quot;&gt;&lt;a href=&quot;data:audio/midi;base64,TVRoZAAAAAYAAQACANxNVHJrAAAAEwD/UQMHoSAA/1gEBAIYCAH/LwBNVHJrAAAD7ADAAACQMEAAPEAAQ0AASECBUzwAAEBAajAAADJAaTIAADRAajQAADVAajUAADdAAD5AAEAAAEdAAEgAaUFAAEMAai1AADcAADxAAD4AAEBAAEEAAEVAAEcAaStAAC0AaisAAC1Aai0AADVAAEAAAEVAaTRAADUAAEUAajJAADQAAD5AaTIAADRAADVAADxAAD4AajUAADdAADwAAENAAEUAajcAADwAAEMAAEdAaT5AajBAADQAADxAAD4AaTAAADwAAEVAajJAADVAAEFAAEcAajBAADUAADtAADxAAEBAAEUAaTIAADRAADsAAEEAajQAADVAADwAAEAAAENAaTUAADdAAEFAajcAADlAAEBAAEMAajdAAEEAaSlAADkAAD5AAEAAajcAaSkAAC9AADJAADdAADxAAD4AaiRAAC8AADIAADRAADcAaiQAADQAADZAADlAaTAAADYAAD5AaitAADwAAD4AaSsAADVAajUAADtAajkAAD5AaTJAADVAADsAAD5AajRAADUAAD4AAEBAaS1AADIAADQAADVAADxAAD4AAEAAAEFAai0AAC9Aai1AAC8AADBAADUAaStAAC0AaisAAC9AAEEAaS8AADAAADdAADwAAEBAai1AADcAADlAADxAAD5AAEAAailAAC0AAD4AAEBAaShAACkAADJAADVAAEAAaigAAD5AaStAADUAADkAADwAaisAACtAAC1AAC9AAD4Aai0AAENAaS1AAC8AADIAADxAgVMmQAAtAAA7QAA8AGokQAAmAAAmQAArAAA0QAA1QAA7AAA8QABDAGokAAAmAAAmQAAtQAA0AAA1AAA1QGk0QAA1AAA3QGolQAAmAAAtAAAtQAA0AAA5QAA8AIMmJQAANUAANwBqLQAANQAAOUBpNEAAPEBqMkAAOQAAQUA1QQAAR0A1MgAAMkAANAAAOQAAPAAAPkAAQUAARwBpLkBqLgAAMEAAMgAANEAAPEAAPgAAQEAAQQBpNAAANEBqQAAAQ0BqLUAANAAAPAAAPkBpLQAAMAAANUAAPEAAPgAAQUAAQwBqMkAANQAAN0BpMEAAMgAAPAAAQEAAQQBqLkAAMAAANUAANwAAPkBqOUAAPEAAPgAAQABpK0AALgAAOQAAOkAAPAAAPkCBUysAAC1AADRAADdAADoAajUAai0AADBAADQAAD4AAEBAaS9AADAAai8AADJAADVAAD5AAEAAaTBAADIAaitAADAAADUAADdAADtAAD4AAD5AgVM3AII9LUBqKwAANwAAOwBpK0AALQAAMkAAO0AAPgBqKUAAKwBpJEAAKQAAOwBqJAAAMgAB/y8A&quot; target=&quot;_blank&quot;&gt;Download MIDI&lt;/a&gt;&lt;br&gt;&lt;/span&gt;&lt;/p&gt;\n",
       "          &lt;midi-player src=data:audio/midi;base64,TVRoZAAAAAYAAQACANxNVHJrAAAAEwD/UQMHoSAA/1gEBAIYCAH/LwBNVHJrAAAD7ADAAACQMEAAPEAAQ0AASECBUzwAAEBAajAAADJAaTIAADRAajQAADVAajUAADdAAD5AAEAAAEdAAEgAaUFAAEMAai1AADcAADxAAD4AAEBAAEEAAEVAAEcAaStAAC0AaisAAC1Aai0AADVAAEAAAEVAaTRAADUAAEUAajJAADQAAD5AaTIAADRAADVAADxAAD4AajUAADdAADwAAENAAEUAajcAADwAAEMAAEdAaT5AajBAADQAADxAAD4AaTAAADwAAEVAajJAADVAAEFAAEcAajBAADUAADtAADxAAEBAAEUAaTIAADRAADsAAEEAajQAADVAADwAAEAAAENAaTUAADdAAEFAajcAADlAAEBAAEMAajdAAEEAaSlAADkAAD5AAEAAajcAaSkAAC9AADJAADdAADxAAD4AaiRAAC8AADIAADRAADcAaiQAADQAADZAADlAaTAAADYAAD5AaitAADwAAD4AaSsAADVAajUAADtAajkAAD5AaTJAADVAADsAAD5AajRAADUAAD4AAEBAaS1AADIAADQAADVAADxAAD4AAEAAAEFAai0AAC9Aai1AAC8AADBAADUAaStAAC0AaisAAC9AAEEAaS8AADAAADdAADwAAEBAai1AADcAADlAADxAAD5AAEAAailAAC0AAD4AAEBAaShAACkAADJAADVAAEAAaigAAD5AaStAADUAADkAADwAaisAACtAAC1AAC9AAD4Aai0AAENAaS1AAC8AADIAADxAgVMmQAAtAAA7QAA8AGokQAAmAAAmQAArAAA0QAA1QAA7AAA8QABDAGokAAAmAAAmQAAtQAA0AAA1AAA1QGk0QAA1AAA3QGolQAAmAAAtAAAtQAA0AAA5QAA8AIMmJQAANUAANwBqLQAANQAAOUBpNEAAPEBqMkAAOQAAQUA1QQAAR0A1MgAAMkAANAAAOQAAPAAAPkAAQUAARwBpLkBqLgAAMEAAMgAANEAAPEAAPgAAQEAAQQBpNAAANEBqQAAAQ0BqLUAANAAAPAAAPkBpLQAAMAAANUAAPEAAPgAAQUAAQwBqMkAANQAAN0BpMEAAMgAAPAAAQEAAQQBqLkAAMAAANUAANwAAPkBqOUAAPEAAPgAAQABpK0AALgAAOQAAOkAAPAAAPkCBUysAAC1AADRAADdAADoAajUAai0AADBAADQAAD4AAEBAaS9AADAAai8AADJAADVAAD5AAEAAaTBAADIAaitAADAAADUAADdAADtAAD4AAD5AgVM3AII9LUBqKwAANwAAOwBpK0AALQAAMkAAO0AAPgBqKUAAKwBpJEAAKQAAOwBqJAAAMgAB/y8A sound-font visualizer=&quot;#section394 midi-visualizer&quot;&gt;&lt;/midi-player&gt;\n",
       "          &lt;midi-visualizer src=data:audio/midi;base64,TVRoZAAAAAYAAQACANxNVHJrAAAAEwD/UQMHoSAA/1gEBAIYCAH/LwBNVHJrAAAD7ADAAACQMEAAPEAAQ0AASECBUzwAAEBAajAAADJAaTIAADRAajQAADVAajUAADdAAD5AAEAAAEdAAEgAaUFAAEMAai1AADcAADxAAD4AAEBAAEEAAEVAAEcAaStAAC0AaisAAC1Aai0AADVAAEAAAEVAaTRAADUAAEUAajJAADQAAD5AaTIAADRAADVAADxAAD4AajUAADdAADwAAENAAEUAajcAADwAAEMAAEdAaT5AajBAADQAADxAAD4AaTAAADwAAEVAajJAADVAAEFAAEcAajBAADUAADtAADxAAEBAAEUAaTIAADRAADsAAEEAajQAADVAADwAAEAAAENAaTUAADdAAEFAajcAADlAAEBAAEMAajdAAEEAaSlAADkAAD5AAEAAajcAaSkAAC9AADJAADdAADxAAD4AaiRAAC8AADIAADRAADcAaiQAADQAADZAADlAaTAAADYAAD5AaitAADwAAD4AaSsAADVAajUAADtAajkAAD5AaTJAADVAADsAAD5AajRAADUAAD4AAEBAaS1AADIAADQAADVAADxAAD4AAEAAAEFAai0AAC9Aai1AAC8AADBAADUAaStAAC0AaisAAC9AAEEAaS8AADAAADdAADwAAEBAai1AADcAADlAADxAAD5AAEAAailAAC0AAD4AAEBAaShAACkAADJAADVAAEAAaigAAD5AaStAADUAADkAADwAaisAACtAAC1AAC9AAD4Aai0AAENAaS1AAC8AADIAADxAgVMmQAAtAAA7QAA8AGokQAAmAAAmQAArAAA0QAA1QAA7AAA8QABDAGokAAAmAAAmQAAtQAA0AAA1AAA1QGk0QAA1AAA3QGolQAAmAAAtAAAtQAA0AAA5QAA8AIMmJQAANUAANwBqLQAANQAAOUBpNEAAPEBqMkAAOQAAQUA1QQAAR0A1MgAAMkAANAAAOQAAPAAAPkAAQUAARwBpLkBqLgAAMEAAMgAANEAAPEAAPgAAQEAAQQBpNAAANEBqQAAAQ0BqLUAANAAAPAAAPkBpLQAAMAAANUAAPEAAPgAAQUAAQwBqMkAANQAAN0BpMEAAMgAAPAAAQEAAQQBqLkAAMAAANUAANwAAPkBqOUAAPEAAPgAAQABpK0AALgAAOQAAOkAAPAAAPkCBUysAAC1AADRAADdAADoAajUAai0AADBAADQAAD4AAEBAaS9AADAAai8AADJAADVAAD5AAEAAaTBAADIAaitAADAAADUAADdAADtAAD4AAD5AgVM3AII9LUBqKwAANwAAOwBpK0AALQAAMkAAO0AAPgBqKUAAKwBpJEAAKQAAOwBqJAAAMgAB/y8A type=piano-roll&gt;&lt;/midi-visualizer&gt;\n",
       "          &lt;/section&gt;\n",
       "          \" width=\"100%\" height=\"400\"\n",
       "            style=\"border:none !important;\"\n",
       "            \"allowfullscreen\" \"webkitallowfullscreen\" \"mozallowfullscreen\">'\n",
       "            </iframe>"
      ],
      "text/plain": [
       "<midi_player.midi_player.MIDIPlayer>"
      ]
     },
     "metadata": {},
     "output_type": "display_data"
    },
    {
     "name": "stderr",
     "output_type": "stream",
     "text": [
      "Epoch 9/20: 100%|████████| 229/229 [00:47<00:00,  4.80it/s, train=1.18, val=1.25, BEST val_ema=1.23]\n",
      "Epoch 10/20: 100%|████████| 229/229 [00:48<00:00,  4.72it/s, train=1.24, val=1.2, BEST val_ema=1.21]\n",
      "Epoch 11/20: 100%|████████| 229/229 [00:47<00:00,  4.81it/s, train=1.12, val=1.24, BEST val_ema=1.2]\n",
      "Epoch 12/20: 100%|███████| 229/229 [00:50<00:00,  4.55it/s, train=1.15, val=1.15, BEST val_ema=1.19]\n"
     ]
    },
    {
     "data": {
      "text/html": [
       "<iframe srcdoc=\"&lt;script src=&quot;https://cdn.jsdelivr.net/combine/npm/tone@14.7.58,npm/@magenta/music@1.23.1/es6/core.js,npm/focus-visible@5,npm/html-midi-player@1.5.0&quot;&gt;&lt;/script&gt;\n",
       "\n",
       "&lt;style&gt;\n",
       "/* Custom player style */\n",
       "p { \n",
       "  margin:0; \n",
       "  color: #c4c4c4; /* mid-lightness text color for title, intended for dark backgrounds */\n",
       "}\n",
       "\n",
       "#section776 midi-player {\n",
       "  display: block;\n",
       "  width: inherit;\n",
       "  margin: 4px;\n",
       "  margin-bottom: 0;\n",
       "  color: #d4d4d4; /* Lighter text color for better readability */\n",
       "}\n",
       "#section776 midi-player::part(control-panel) {\n",
       "  background: #222; /* Dark background */\n",
       "  border: 2px solid #888; /* Lightened border color for contrast */\n",
       "  border-radius: 10px 10px 0 0;\n",
       "}\n",
       "#section776 midi-player::part(play-button) {\n",
       "  color: #ffffff; /* White text for visibility */\n",
       "  border: 2px solid currentColor;\n",
       "  background-color: #6c7a89; \n",
       "  border-radius: 20px;\n",
       "  transition: all 0.2s;\n",
       "  content: &#x27;hello&#x27;;\n",
       "}\n",
       "#section776 midi-player::part(play-button):hover {\n",
       "  color: #00a; \n",
       "  background-color: #9fafc9; \n",
       "  border-radius: 10px;\n",
       "}\n",
       "#section776 midi-player::part(time) {\n",
       "  font-family: monospace; /* Monospace font for time */\n",
       "}\n",
       "\n",
       "/* Custom visualizer style */\n",
       "#section776 midi-visualizer .piano-roll-visualizer {\n",
       "  background: #333; /* Dark background for visualizer */\n",
       "  border: 2px solid #505050; /* Dark border for subtle appearance */\n",
       "  border-top: none;\n",
       "  border-radius: 0 0 10px 10px;\n",
       "  margin: 4px;\n",
       "  width: inherit;\n",
       "  margin-top: 0;\n",
       "  overflow: auto;\n",
       "}\n",
       "#section776 midi-visualizer svg rect.note {\n",
       "  opacity: 0.9; \n",
       "  stroke-width: 1; /* Stroke width for note clarity */\n",
       "}\n",
       "\n",
       "/* Different instrument colors */\n",
       "#section776 midi-visualizer svg rect.note[data-instrument=&quot;0&quot;]{\n",
       "  fill: #7aa6ed; /*  blue for Instrument 0 */\n",
       "  stroke: #444; \n",
       "}\n",
       "#section776 midi-visualizer svg rect.note[data-instrument=&quot;2&quot;]{\n",
       "  fill: #d586d0; /* purple for Instrument 2 for consistency */\n",
       "  stroke: #444; /* White stroke for visibility */\n",
       "}\n",
       "#section776 midi-visualizer svg rect.note[data-is-drum=&quot;true&quot;]{\n",
       "  fill: brightorange; \n",
       "  stroke: #bbb;\n",
       "}\n",
       "#section776 midi-visualizer svg rect.note.active {\n",
       "  opacity: 0.9; /* Highlight active notes */\n",
       "  stroke: #ddd; /* White stroke for maximum contrast */\n",
       "  stroke-width: 2; /* Thicker stroke for active notes */\n",
       "}\n",
       "&lt;/style&gt;\n",
       "\n",
       "          &lt;section id=&quot;section776&quot;&gt;&lt;p style=&quot;text-align:left;font-family:Arial;&quot;&gt;Demo on val dataset, Epoch=12&lt;span style=&quot;float:right;&quot;&gt;&lt;a href=&quot;data:audio/midi;base64,TVRoZAAAAAYAAQACANxNVHJrAAAAEwD/UQMHoSAA/1gEBAIYCAH/LwBNVHJrAAAD6ADAAACQMEAAPEAAQ0AASECBUzwAAEBAajAAADJAaTIAADRAajQAADVAajUAADdAAD5AAEAAAEdAAEgAaUFAAEMAai1AADcAADxAAD4AAEBAAEEAAEVAAEcAaS0AAC9Aai8AADBAajAAAEAAAEFAAEdAaUBAAEEAAEUAajVAAEAAAENAAEcAAEhAaUgAAEpAajRAAEoAAEpAajJAADQAADdAADwAaTIAADUAADtAAEMAajsAADxAAExAaTcAADtAAEoAajlAADsAAEFAajdAADkAaTVAADcAAEVAAEwANUNAAEUANTlAAEEAAEFAAEMAgVMyQABBAABFQGo1AAA5AAA8AAA+QGkyAAA0QAA9QAA+AABAQABDQABFAABFQGpAAGk0AAA9AAA+QABBQABDAABFAABFQGo7QAA8QAA+AAA+QABAQABBAGo3QAA4QAA8AABAAABAQABFAGk3AAA5QAA7AAA8QAA+AGo4AAA4QAA5AAA5QAA8AABBQGk5AAA+QGotQAA4AAA+AABAAABAQABBAABIQDV/QDV/QDR/AAB/QDV/AAB/QDV/AAB/QDV/AAB/QDV/AAB/QDR/AAB/QDV/AAB/QDV/AAB/QDV/AAB/QDV/AAB/QDR/AAB/QDV/AAB/QDV/AAB/QDUtAABAAABIAAB/AAB/QDV/AAB/QDR/AAB/QDV/AAB/QDV/AAB/QDV/AAB/QDV/AAB/QDR/AAB/QDV/AAB/QDV/AAB/QDV/AAB/QDV/AAB/QDR/AAB/QDV/AAB/QDV/AAB/QDV/AAB/QDV/AAB/QDR/AAB/QDV/AAB/QDV/AAB/QDV/AAB/QDV/AAB/QDR/AAB/QDV/AAB/QDV/AAB/QDV/AAB/QDV/AAB/QDR/AAB/QDV/AAB/QDV/AAB/QDV/AAB/QDV/AAB/QDR/AAB/QDV/AAB/QDV/AAB/QDV/AAB/QDV/AAB/QDR/AAB/QDV/AAB/QDV/AAB/QDV/AAB/QDV/AAB/QDR/AAB/QDV/AAB/QDV/AAB/QDV/AAB/QDV/AAB/QDR/AAB/QDV/AAB/QDV/AAB/QDV/AAB/QDV/AAB/QDR/AAB/QDV/AAB/QDV/AAB/QDV/AAB/QDV/AAB/QDR/AAB/QDV/AAB/QDV/AAB/QDV/AAB/QDV/AAB/QDR/AAB/QDV/AAB/QDV/AAB/QDV/AAB/QDV/AAB/QDR/AAB/QDV/AAB/QDV/AAB/QDV/AAB/QDV/AAB/QDR/AAB/QDV/AAB/QDV/AAB/QDV/AAB/QDV/AAB/QDR/AAB/QDV/AAB/QDV/AAB/QDV/AAB/QDV/AAB/QDR/ADV/AAH/LwA=&quot; target=&quot;_blank&quot;&gt;Download MIDI&lt;/a&gt;&lt;br&gt;&lt;/span&gt;&lt;/p&gt;\n",
       "          &lt;midi-player src=data:audio/midi;base64,TVRoZAAAAAYAAQACANxNVHJrAAAAEwD/UQMHoSAA/1gEBAIYCAH/LwBNVHJrAAAD6ADAAACQMEAAPEAAQ0AASECBUzwAAEBAajAAADJAaTIAADRAajQAADVAajUAADdAAD5AAEAAAEdAAEgAaUFAAEMAai1AADcAADxAAD4AAEBAAEEAAEVAAEcAaS0AAC9Aai8AADBAajAAAEAAAEFAAEdAaUBAAEEAAEUAajVAAEAAAENAAEcAAEhAaUgAAEpAajRAAEoAAEpAajJAADQAADdAADwAaTIAADUAADtAAEMAajsAADxAAExAaTcAADtAAEoAajlAADsAAEFAajdAADkAaTVAADcAAEVAAEwANUNAAEUANTlAAEEAAEFAAEMAgVMyQABBAABFQGo1AAA5AAA8AAA+QGkyAAA0QAA9QAA+AABAQABDQABFAABFQGpAAGk0AAA9AAA+QABBQABDAABFAABFQGo7QAA8QAA+AAA+QABAQABBAGo3QAA4QAA8AABAAABAQABFAGk3AAA5QAA7AAA8QAA+AGo4AAA4QAA5AAA5QAA8AABBQGk5AAA+QGotQAA4AAA+AABAAABAQABBAABIQDV/QDV/QDR/AAB/QDV/AAB/QDV/AAB/QDV/AAB/QDV/AAB/QDR/AAB/QDV/AAB/QDV/AAB/QDV/AAB/QDV/AAB/QDR/AAB/QDV/AAB/QDV/AAB/QDUtAABAAABIAAB/AAB/QDV/AAB/QDR/AAB/QDV/AAB/QDV/AAB/QDV/AAB/QDV/AAB/QDR/AAB/QDV/AAB/QDV/AAB/QDV/AAB/QDV/AAB/QDR/AAB/QDV/AAB/QDV/AAB/QDV/AAB/QDV/AAB/QDR/AAB/QDV/AAB/QDV/AAB/QDV/AAB/QDV/AAB/QDR/AAB/QDV/AAB/QDV/AAB/QDV/AAB/QDV/AAB/QDR/AAB/QDV/AAB/QDV/AAB/QDV/AAB/QDV/AAB/QDR/AAB/QDV/AAB/QDV/AAB/QDV/AAB/QDV/AAB/QDR/AAB/QDV/AAB/QDV/AAB/QDV/AAB/QDV/AAB/QDR/AAB/QDV/AAB/QDV/AAB/QDV/AAB/QDV/AAB/QDR/AAB/QDV/AAB/QDV/AAB/QDV/AAB/QDV/AAB/QDR/AAB/QDV/AAB/QDV/AAB/QDV/AAB/QDV/AAB/QDR/AAB/QDV/AAB/QDV/AAB/QDV/AAB/QDV/AAB/QDR/AAB/QDV/AAB/QDV/AAB/QDV/AAB/QDV/AAB/QDR/AAB/QDV/AAB/QDV/AAB/QDV/AAB/QDV/AAB/QDR/AAB/QDV/AAB/QDV/AAB/QDV/AAB/QDV/AAB/QDR/AAB/QDV/AAB/QDV/AAB/QDV/AAB/QDV/AAB/QDR/ADV/AAH/LwA= sound-font visualizer=&quot;#section776 midi-visualizer&quot;&gt;&lt;/midi-player&gt;\n",
       "          &lt;midi-visualizer src=data:audio/midi;base64,TVRoZAAAAAYAAQACANxNVHJrAAAAEwD/UQMHoSAA/1gEBAIYCAH/LwBNVHJrAAAD6ADAAACQMEAAPEAAQ0AASECBUzwAAEBAajAAADJAaTIAADRAajQAADVAajUAADdAAD5AAEAAAEdAAEgAaUFAAEMAai1AADcAADxAAD4AAEBAAEEAAEVAAEcAaS0AAC9Aai8AADBAajAAAEAAAEFAAEdAaUBAAEEAAEUAajVAAEAAAENAAEcAAEhAaUgAAEpAajRAAEoAAEpAajJAADQAADdAADwAaTIAADUAADtAAEMAajsAADxAAExAaTcAADtAAEoAajlAADsAAEFAajdAADkAaTVAADcAAEVAAEwANUNAAEUANTlAAEEAAEFAAEMAgVMyQABBAABFQGo1AAA5AAA8AAA+QGkyAAA0QAA9QAA+AABAQABDQABFAABFQGpAAGk0AAA9AAA+QABBQABDAABFAABFQGo7QAA8QAA+AAA+QABAQABBAGo3QAA4QAA8AABAAABAQABFAGk3AAA5QAA7AAA8QAA+AGo4AAA4QAA5AAA5QAA8AABBQGk5AAA+QGotQAA4AAA+AABAAABAQABBAABIQDV/QDV/QDR/AAB/QDV/AAB/QDV/AAB/QDV/AAB/QDV/AAB/QDR/AAB/QDV/AAB/QDV/AAB/QDV/AAB/QDV/AAB/QDR/AAB/QDV/AAB/QDV/AAB/QDUtAABAAABIAAB/AAB/QDV/AAB/QDR/AAB/QDV/AAB/QDV/AAB/QDV/AAB/QDV/AAB/QDR/AAB/QDV/AAB/QDV/AAB/QDV/AAB/QDV/AAB/QDR/AAB/QDV/AAB/QDV/AAB/QDV/AAB/QDV/AAB/QDR/AAB/QDV/AAB/QDV/AAB/QDV/AAB/QDV/AAB/QDR/AAB/QDV/AAB/QDV/AAB/QDV/AAB/QDV/AAB/QDR/AAB/QDV/AAB/QDV/AAB/QDV/AAB/QDV/AAB/QDR/AAB/QDV/AAB/QDV/AAB/QDV/AAB/QDV/AAB/QDR/AAB/QDV/AAB/QDV/AAB/QDV/AAB/QDV/AAB/QDR/AAB/QDV/AAB/QDV/AAB/QDV/AAB/QDV/AAB/QDR/AAB/QDV/AAB/QDV/AAB/QDV/AAB/QDV/AAB/QDR/AAB/QDV/AAB/QDV/AAB/QDV/AAB/QDV/AAB/QDR/AAB/QDV/AAB/QDV/AAB/QDV/AAB/QDV/AAB/QDR/AAB/QDV/AAB/QDV/AAB/QDV/AAB/QDV/AAB/QDR/AAB/QDV/AAB/QDV/AAB/QDV/AAB/QDV/AAB/QDR/AAB/QDV/AAB/QDV/AAB/QDV/AAB/QDV/AAB/QDR/AAB/QDV/AAB/QDV/AAB/QDV/AAB/QDV/AAB/QDR/ADV/AAH/LwA= type=piano-roll&gt;&lt;/midi-visualizer&gt;\n",
       "          &lt;/section&gt;\n",
       "          \" width=\"100%\" height=\"400\"\n",
       "            style=\"border:none !important;\"\n",
       "            \"allowfullscreen\" \"webkitallowfullscreen\" \"mozallowfullscreen\">'\n",
       "            </iframe>"
      ],
      "text/plain": [
       "<midi_player.midi_player.MIDIPlayer>"
      ]
     },
     "metadata": {},
     "output_type": "display_data"
    },
    {
     "name": "stderr",
     "output_type": "stream",
     "text": [
      "Epoch 13/20: 100%|████████| 229/229 [00:48<00:00,  4.75it/s, train=1.12, val=1.2, BEST val_ema=1.19]\n",
      "Epoch 14/20: 100%|███████| 229/229 [00:48<00:00,  4.71it/s, train=1.15, val=1.19, BEST val_ema=1.18]\n",
      "Epoch 15/20: 100%|███████| 229/229 [00:48<00:00,  4.72it/s, train=1.06, val=1.24, BEST val_ema=1.18]\n",
      "Epoch 16/20: 100%|████████████| 229/229 [00:46<00:00,  4.96it/s, train=1.02, val=1.22, val_ema=1.18]\n"
     ]
    },
    {
     "data": {
      "text/html": [
       "<iframe srcdoc=\"&lt;script src=&quot;https://cdn.jsdelivr.net/combine/npm/tone@14.7.58,npm/@magenta/music@1.23.1/es6/core.js,npm/focus-visible@5,npm/html-midi-player@1.5.0&quot;&gt;&lt;/script&gt;\n",
       "\n",
       "&lt;style&gt;\n",
       "/* Custom player style */\n",
       "p { \n",
       "  margin:0; \n",
       "  color: #c4c4c4; /* mid-lightness text color for title, intended for dark backgrounds */\n",
       "}\n",
       "\n",
       "#section911 midi-player {\n",
       "  display: block;\n",
       "  width: inherit;\n",
       "  margin: 4px;\n",
       "  margin-bottom: 0;\n",
       "  color: #d4d4d4; /* Lighter text color for better readability */\n",
       "}\n",
       "#section911 midi-player::part(control-panel) {\n",
       "  background: #222; /* Dark background */\n",
       "  border: 2px solid #888; /* Lightened border color for contrast */\n",
       "  border-radius: 10px 10px 0 0;\n",
       "}\n",
       "#section911 midi-player::part(play-button) {\n",
       "  color: #ffffff; /* White text for visibility */\n",
       "  border: 2px solid currentColor;\n",
       "  background-color: #6c7a89; \n",
       "  border-radius: 20px;\n",
       "  transition: all 0.2s;\n",
       "  content: &#x27;hello&#x27;;\n",
       "}\n",
       "#section911 midi-player::part(play-button):hover {\n",
       "  color: #00a; \n",
       "  background-color: #9fafc9; \n",
       "  border-radius: 10px;\n",
       "}\n",
       "#section911 midi-player::part(time) {\n",
       "  font-family: monospace; /* Monospace font for time */\n",
       "}\n",
       "\n",
       "/* Custom visualizer style */\n",
       "#section911 midi-visualizer .piano-roll-visualizer {\n",
       "  background: #333; /* Dark background for visualizer */\n",
       "  border: 2px solid #505050; /* Dark border for subtle appearance */\n",
       "  border-top: none;\n",
       "  border-radius: 0 0 10px 10px;\n",
       "  margin: 4px;\n",
       "  width: inherit;\n",
       "  margin-top: 0;\n",
       "  overflow: auto;\n",
       "}\n",
       "#section911 midi-visualizer svg rect.note {\n",
       "  opacity: 0.9; \n",
       "  stroke-width: 1; /* Stroke width for note clarity */\n",
       "}\n",
       "\n",
       "/* Different instrument colors */\n",
       "#section911 midi-visualizer svg rect.note[data-instrument=&quot;0&quot;]{\n",
       "  fill: #7aa6ed; /*  blue for Instrument 0 */\n",
       "  stroke: #444; \n",
       "}\n",
       "#section911 midi-visualizer svg rect.note[data-instrument=&quot;2&quot;]{\n",
       "  fill: #d586d0; /* purple for Instrument 2 for consistency */\n",
       "  stroke: #444; /* White stroke for visibility */\n",
       "}\n",
       "#section911 midi-visualizer svg rect.note[data-is-drum=&quot;true&quot;]{\n",
       "  fill: brightorange; \n",
       "  stroke: #bbb;\n",
       "}\n",
       "#section911 midi-visualizer svg rect.note.active {\n",
       "  opacity: 0.9; /* Highlight active notes */\n",
       "  stroke: #ddd; /* White stroke for maximum contrast */\n",
       "  stroke-width: 2; /* Thicker stroke for active notes */\n",
       "}\n",
       "&lt;/style&gt;\n",
       "\n",
       "          &lt;section id=&quot;section911&quot;&gt;&lt;p style=&quot;text-align:left;font-family:Arial;&quot;&gt;Demo on val dataset, Epoch=16&lt;span style=&quot;float:right;&quot;&gt;&lt;a href=&quot;data:audio/midi;base64,TVRoZAAAAAYAAQACANxNVHJrAAAAEwD/UQMHoSAA/1gEBAIYCAH/LwBNVHJrAAAD7gDAAACQMEAAPEAAQ0AASECBUzwAAEBAajAAADJAaTIAADRAajQAADVAajUAADdAAD5AAEAAAEdAAEgAaUFAAEMAai1AADcAADxAAD4AAEBAAEEAAEVAAEcAaStAAC0AailAACsAaikAAEAAAEFAaUUAakNAaUBAakAAAEEAajJAADwAAEFAAEVAaUEAAEMAajIAAEUAAEpAAE1AaUpAaj1AAEBAAEZAAEoAAEoAAExAAE0AgVM8QAA9AABAAABMAGpDQABMQGk1QABGAGo0QAA1AABDQABIQABMAGo8AABBQABDAABDAGk0AAA3QAA+QABBAABHQABIAGowQABAQABIQGk+AABDQABHAABIAGo3AABDAABEQGo+QGktQAAwAAA8QAA+AABAAABAQABEAABFQIFTLQAAL0AAPAAAPkAAQAAAQ0AARQAASkBqPgAAQEAASEAASgBqLwAANEAAPkAAQAAAR0AASABpPEAAPgAARUAARwBqNAAAOUAAQwBpMkAAOQAAPAAAPkAAQUBqOUBqN0AAQQAAQ0BpRQBqLUAAMgAANwAAO0AAPUAAPgBpLQAAL0AAOQAAPQAAPkBqLwAAMUAANEAAOwAAPgAAQEAAQwAARUBqL0AAMQBpLwAAOEAARQAAR0BqNAAANkAAO0AAQAAAQ0BpOAAAOUAAP0AAQwAARwBqMUAANEAANgAAOQAAPwAAQEBqMQAANAAAOwAARUBpKkAAOUAAQABqKEAAKgAAN0AAOQAAO0BpNwAAOUBqKAAANEAAN0AAOQAAOwAAPEAAQ0AARQCBUzQAADZAADcAADtAADwAAD5AgVM2AAA3QAA7AABDAABHQABKQGo5QAA+AGo0QAA3AAA5AABAQABIQABKAGkwQAAyQAA0AABFQABHAABHQABIAGowQAAyAABFAABFQABHAGkwAAA0QABDQABFAGoyQAA0AABHQGovQAAwAAAyAABDAGktQAAvAAAvQAA0QABFQIFTLQAAQAAAQ0AARQAARwCBVC8AAC9AADQAADZAAD5AAEBAAEMAaT1AAD4Aai5AAC8AADYAADdAAD0AAD5AAEAAAEJAgVMtQAAuAABAQABCAGorQAAtAAA7QABAAGkoQAAqQAArAAA5QAA7AAA+AAA+QABAQGooAAAqAAArQAA3AAA3QAA9QAA+AABAAGkrAAAtQAA0QAA3AAA5QAA9AAA+QDV/QDV/QDV/AAB/QDU5AAB/AAB/QDR/AAB/QDV/AAB/QDV/AAB/QDUtAAA0AAA5AAA+AAB/AAB/QDV/AAB/QDR/AAB/QDV/AAB/QDV/AAB/QDV/AAB/QDV/ADR/AAH/LwA=&quot; target=&quot;_blank&quot;&gt;Download MIDI&lt;/a&gt;&lt;br&gt;&lt;/span&gt;&lt;/p&gt;\n",
       "          &lt;midi-player src=data:audio/midi;base64,TVRoZAAAAAYAAQACANxNVHJrAAAAEwD/UQMHoSAA/1gEBAIYCAH/LwBNVHJrAAAD7gDAAACQMEAAPEAAQ0AASECBUzwAAEBAajAAADJAaTIAADRAajQAADVAajUAADdAAD5AAEAAAEdAAEgAaUFAAEMAai1AADcAADxAAD4AAEBAAEEAAEVAAEcAaStAAC0AailAACsAaikAAEAAAEFAaUUAakNAaUBAakAAAEEAajJAADwAAEFAAEVAaUEAAEMAajIAAEUAAEpAAE1AaUpAaj1AAEBAAEZAAEoAAEoAAExAAE0AgVM8QAA9AABAAABMAGpDQABMQGk1QABGAGo0QAA1AABDQABIQABMAGo8AABBQABDAABDAGk0AAA3QAA+QABBAABHQABIAGowQABAQABIQGk+AABDQABHAABIAGo3AABDAABEQGo+QGktQAAwAAA8QAA+AABAAABAQABEAABFQIFTLQAAL0AAPAAAPkAAQAAAQ0AARQAASkBqPgAAQEAASEAASgBqLwAANEAAPkAAQAAAR0AASABpPEAAPgAARUAARwBqNAAAOUAAQwBpMkAAOQAAPAAAPkAAQUBqOUBqN0AAQQAAQ0BpRQBqLUAAMgAANwAAO0AAPUAAPgBpLQAAL0AAOQAAPQAAPkBqLwAAMUAANEAAOwAAPgAAQEAAQwAARUBqL0AAMQBpLwAAOEAARQAAR0BqNAAANkAAO0AAQAAAQ0BpOAAAOUAAP0AAQwAARwBqMUAANEAANgAAOQAAPwAAQEBqMQAANAAAOwAARUBpKkAAOUAAQABqKEAAKgAAN0AAOQAAO0BpNwAAOUBqKAAANEAAN0AAOQAAOwAAPEAAQ0AARQCBUzQAADZAADcAADtAADwAAD5AgVM2AAA3QAA7AABDAABHQABKQGo5QAA+AGo0QAA3AAA5AABAQABIQABKAGkwQAAyQAA0AABFQABHAABHQABIAGowQAAyAABFAABFQABHAGkwAAA0QABDQABFAGoyQAA0AABHQGovQAAwAAAyAABDAGktQAAvAAAvQAA0QABFQIFTLQAAQAAAQ0AARQAARwCBVC8AAC9AADQAADZAAD5AAEBAAEMAaT1AAD4Aai5AAC8AADYAADdAAD0AAD5AAEAAAEJAgVMtQAAuAABAQABCAGorQAAtAAA7QABAAGkoQAAqQAArAAA5QAA7AAA+AAA+QABAQGooAAAqAAArQAA3AAA3QAA9QAA+AABAAGkrAAAtQAA0QAA3AAA5QAA9AAA+QDV/QDV/QDV/AAB/QDU5AAB/AAB/QDR/AAB/QDV/AAB/QDV/AAB/QDUtAAA0AAA5AAA+AAB/AAB/QDV/AAB/QDR/AAB/QDV/AAB/QDV/AAB/QDV/AAB/QDV/ADR/AAH/LwA= sound-font visualizer=&quot;#section911 midi-visualizer&quot;&gt;&lt;/midi-player&gt;\n",
       "          &lt;midi-visualizer src=data:audio/midi;base64,TVRoZAAAAAYAAQACANxNVHJrAAAAEwD/UQMHoSAA/1gEBAIYCAH/LwBNVHJrAAAD7gDAAACQMEAAPEAAQ0AASECBUzwAAEBAajAAADJAaTIAADRAajQAADVAajUAADdAAD5AAEAAAEdAAEgAaUFAAEMAai1AADcAADxAAD4AAEBAAEEAAEVAAEcAaStAAC0AailAACsAaikAAEAAAEFAaUUAakNAaUBAakAAAEEAajJAADwAAEFAAEVAaUEAAEMAajIAAEUAAEpAAE1AaUpAaj1AAEBAAEZAAEoAAEoAAExAAE0AgVM8QAA9AABAAABMAGpDQABMQGk1QABGAGo0QAA1AABDQABIQABMAGo8AABBQABDAABDAGk0AAA3QAA+QABBAABHQABIAGowQABAQABIQGk+AABDQABHAABIAGo3AABDAABEQGo+QGktQAAwAAA8QAA+AABAAABAQABEAABFQIFTLQAAL0AAPAAAPkAAQAAAQ0AARQAASkBqPgAAQEAASEAASgBqLwAANEAAPkAAQAAAR0AASABpPEAAPgAARUAARwBqNAAAOUAAQwBpMkAAOQAAPAAAPkAAQUBqOUBqN0AAQQAAQ0BpRQBqLUAAMgAANwAAO0AAPUAAPgBpLQAAL0AAOQAAPQAAPkBqLwAAMUAANEAAOwAAPgAAQEAAQwAARUBqL0AAMQBpLwAAOEAARQAAR0BqNAAANkAAO0AAQAAAQ0BpOAAAOUAAP0AAQwAARwBqMUAANEAANgAAOQAAPwAAQEBqMQAANAAAOwAARUBpKkAAOUAAQABqKEAAKgAAN0AAOQAAO0BpNwAAOUBqKAAANEAAN0AAOQAAOwAAPEAAQ0AARQCBUzQAADZAADcAADtAADwAAD5AgVM2AAA3QAA7AABDAABHQABKQGo5QAA+AGo0QAA3AAA5AABAQABIQABKAGkwQAAyQAA0AABFQABHAABHQABIAGowQAAyAABFAABFQABHAGkwAAA0QABDQABFAGoyQAA0AABHQGovQAAwAAAyAABDAGktQAAvAAAvQAA0QABFQIFTLQAAQAAAQ0AARQAARwCBVC8AAC9AADQAADZAAD5AAEBAAEMAaT1AAD4Aai5AAC8AADYAADdAAD0AAD5AAEAAAEJAgVMtQAAuAABAQABCAGorQAAtAAA7QABAAGkoQAAqQAArAAA5QAA7AAA+AAA+QABAQGooAAAqAAArQAA3AAA3QAA9QAA+AABAAGkrAAAtQAA0QAA3AAA5QAA9AAA+QDV/QDV/QDV/AAB/QDU5AAB/AAB/QDR/AAB/QDV/AAB/QDV/AAB/QDUtAAA0AAA5AAA+AAB/AAB/QDV/AAB/QDR/AAB/QDV/AAB/QDV/AAB/QDV/AAB/QDV/ADR/AAH/LwA= type=piano-roll&gt;&lt;/midi-visualizer&gt;\n",
       "          &lt;/section&gt;\n",
       "          \" width=\"100%\" height=\"400\"\n",
       "            style=\"border:none !important;\"\n",
       "            \"allowfullscreen\" \"webkitallowfullscreen\" \"mozallowfullscreen\">'\n",
       "            </iframe>"
      ],
      "text/plain": [
       "<midi_player.midi_player.MIDIPlayer>"
      ]
     },
     "metadata": {},
     "output_type": "display_data"
    },
    {
     "name": "stderr",
     "output_type": "stream",
     "text": [
      "Epoch 17/20: 100%|████████████| 229/229 [00:48<00:00,  4.70it/s, train=1.05, val=1.22, val_ema=1.18]\n",
      "Epoch 18/20: 100%|█████████████| 229/229 [00:47<00:00,  4.82it/s, train=1.02, val=1.2, val_ema=1.19]\n",
      "Epoch 19/20: 100%|████████████| 229/229 [00:47<00:00,  4.79it/s, train=1.04, val=1.21, val_ema=1.19]\n",
      "Epoch 20/20: 100%|████████████████| 229/229 [00:47<00:00,  4.82it/s, train=1, val=1.15, val_ema=1.2]\n"
     ]
    },
    {
     "data": {
      "text/html": [
       "<iframe srcdoc=\"&lt;script src=&quot;https://cdn.jsdelivr.net/combine/npm/tone@14.7.58,npm/@magenta/music@1.23.1/es6/core.js,npm/focus-visible@5,npm/html-midi-player@1.5.0&quot;&gt;&lt;/script&gt;\n",
       "\n",
       "&lt;style&gt;\n",
       "/* Custom player style */\n",
       "p { \n",
       "  margin:0; \n",
       "  color: #c4c4c4; /* mid-lightness text color for title, intended for dark backgrounds */\n",
       "}\n",
       "\n",
       "#section430 midi-player {\n",
       "  display: block;\n",
       "  width: inherit;\n",
       "  margin: 4px;\n",
       "  margin-bottom: 0;\n",
       "  color: #d4d4d4; /* Lighter text color for better readability */\n",
       "}\n",
       "#section430 midi-player::part(control-panel) {\n",
       "  background: #222; /* Dark background */\n",
       "  border: 2px solid #888; /* Lightened border color for contrast */\n",
       "  border-radius: 10px 10px 0 0;\n",
       "}\n",
       "#section430 midi-player::part(play-button) {\n",
       "  color: #ffffff; /* White text for visibility */\n",
       "  border: 2px solid currentColor;\n",
       "  background-color: #6c7a89; \n",
       "  border-radius: 20px;\n",
       "  transition: all 0.2s;\n",
       "  content: &#x27;hello&#x27;;\n",
       "}\n",
       "#section430 midi-player::part(play-button):hover {\n",
       "  color: #00a; \n",
       "  background-color: #9fafc9; \n",
       "  border-radius: 10px;\n",
       "}\n",
       "#section430 midi-player::part(time) {\n",
       "  font-family: monospace; /* Monospace font for time */\n",
       "}\n",
       "\n",
       "/* Custom visualizer style */\n",
       "#section430 midi-visualizer .piano-roll-visualizer {\n",
       "  background: #333; /* Dark background for visualizer */\n",
       "  border: 2px solid #505050; /* Dark border for subtle appearance */\n",
       "  border-top: none;\n",
       "  border-radius: 0 0 10px 10px;\n",
       "  margin: 4px;\n",
       "  width: inherit;\n",
       "  margin-top: 0;\n",
       "  overflow: auto;\n",
       "}\n",
       "#section430 midi-visualizer svg rect.note {\n",
       "  opacity: 0.9; \n",
       "  stroke-width: 1; /* Stroke width for note clarity */\n",
       "}\n",
       "\n",
       "/* Different instrument colors */\n",
       "#section430 midi-visualizer svg rect.note[data-instrument=&quot;0&quot;]{\n",
       "  fill: #7aa6ed; /*  blue for Instrument 0 */\n",
       "  stroke: #444; \n",
       "}\n",
       "#section430 midi-visualizer svg rect.note[data-instrument=&quot;2&quot;]{\n",
       "  fill: #d586d0; /* purple for Instrument 2 for consistency */\n",
       "  stroke: #444; /* White stroke for visibility */\n",
       "}\n",
       "#section430 midi-visualizer svg rect.note[data-is-drum=&quot;true&quot;]{\n",
       "  fill: brightorange; \n",
       "  stroke: #bbb;\n",
       "}\n",
       "#section430 midi-visualizer svg rect.note.active {\n",
       "  opacity: 0.9; /* Highlight active notes */\n",
       "  stroke: #ddd; /* White stroke for maximum contrast */\n",
       "  stroke-width: 2; /* Thicker stroke for active notes */\n",
       "}\n",
       "&lt;/style&gt;\n",
       "\n",
       "          &lt;section id=&quot;section430&quot;&gt;&lt;p style=&quot;text-align:left;font-family:Arial;&quot;&gt;Demo on val dataset, Epoch=20&lt;span style=&quot;float:right;&quot;&gt;&lt;a href=&quot;data:audio/midi;base64,TVRoZAAAAAYAAQACANxNVHJrAAAAEwD/UQMHoSAA/1gEBAIYCAH/LwBNVHJrAAAD7gDAAACQMEAAPEAAQ0AASECBUzwAAEBAajAAADJAaTIAADRAajQAADVAajUAADdAAD5AAEAAAEdAAEgAaUFAAEMAai1AADcAADxAAD4AAEBAAEEAAEVAAEcAaStAAC0AAEFAaisAAC1AAEEAAEFAai0AADBAAEAAAEBAAEEAAENAaTAAADpAAD5AAEAAAEUAajVAADoAAD4AAEFAAEMAAEVAgVM5QABFAGovQAA8AGkvAAA1AAA3QAA5AAA+QABBAABDQGooQABAQGkoAAAyQAA3AAA5QABAAABBQABBQABDAGowQAAyAAA+AABAQABBAABBAGowAABAAABIQGk5AAA7QAA+QABIAABKQGo3QAA7AAA8QAA+AABAQABIQABKAGk1QAA3AAA5QAA8AAA8QABAAABDQABIAIFUNQAAN0AAPAAAPkAAQwAAR0BpOEAAOQAAPgAAQEBqNwAAOAAAOUAAPEAAQAAAQUAARwBpOQAAPAAARUBqNUAAO0AARQAASkBqQQCCPDNAADUAADVAADdAADlAADsAADxAAEoAgVQyQAAzAAA1AAA3AAA5AABFQIFTMgAANEAAQ0AARQBpMkBqMEAAMgBqMAAAMkAANAAAOkAAPABpLUAAMgAANkAAOgAAPEAAPkCBUytAAC0AADYAADdAADpAADwAAD4AAEBAAEMAajVAADcAaisAAC1AADRAADUAADlAADoAAD1AAEAAgVMmQAAtAAA0AAA9AAA+QABBQGk8QAA+AGomAAArQAAyQAA3QAA5AAA7QAA8AABBAABDQDV/QDV/QDR/QDV/AAB/QDV/AAB/AAB/QDV/AAB/QDV/AAB/QDQrAAAyAAA3AAA7AABDAAB/AAB/QDV/AAB/QDV/AAB/QDV/AAB/QDV/AAB/QDR/AAB/QDV/AAB/QDV/AAB/QDV/AAB/QDV/AAB/QDR/AAB/QDV/AAB/QDV/AAB/QDV/AAB/QDV/AAB/QDR/AAB/QDV/AAB/QDV/AAB/QDV/AAB/QDV/AAB/QDR/AAB/QDV/AAB/QDV/AAB/QDV/AAB/QDV/AAB/QDR/AAB/QDV/AAB/QDV/AAB/QDV/AAB/QDV/AAB/QDR/AAB/QDV/AAB/QDV/AAB/QDV/AAB/QDV/AAB/QDR/AAB/QDV/AAB/QDV/AAB/QDV/AAB/QDV/AAB/QDR/AAB/QDV/AAB/QDV/AAB/QDV/AAB/QDV/AAB/QDR/AAB/QDV/AAB/QDV/AAB/QDV/AAB/QDV/AAB/QDR/AAB/QDV/AAB/QDV/AAB/QDV/AAB/QDV/AAB/QDR/AAB/QDV/AAB/QDV/AAB/QDV/ADV/AAH/LwA=&quot; target=&quot;_blank&quot;&gt;Download MIDI&lt;/a&gt;&lt;br&gt;&lt;/span&gt;&lt;/p&gt;\n",
       "          &lt;midi-player src=data:audio/midi;base64,TVRoZAAAAAYAAQACANxNVHJrAAAAEwD/UQMHoSAA/1gEBAIYCAH/LwBNVHJrAAAD7gDAAACQMEAAPEAAQ0AASECBUzwAAEBAajAAADJAaTIAADRAajQAADVAajUAADdAAD5AAEAAAEdAAEgAaUFAAEMAai1AADcAADxAAD4AAEBAAEEAAEVAAEcAaStAAC0AAEFAaisAAC1AAEEAAEFAai0AADBAAEAAAEBAAEEAAENAaTAAADpAAD5AAEAAAEUAajVAADoAAD4AAEFAAEMAAEVAgVM5QABFAGovQAA8AGkvAAA1AAA3QAA5AAA+QABBAABDQGooQABAQGkoAAAyQAA3AAA5QABAAABBQABBQABDAGowQAAyAAA+AABAQABBAABBAGowAABAAABIQGk5AAA7QAA+QABIAABKQGo3QAA7AAA8QAA+AABAQABIQABKAGk1QAA3AAA5QAA8AAA8QABAAABDQABIAIFUNQAAN0AAPAAAPkAAQwAAR0BpOEAAOQAAPgAAQEBqNwAAOAAAOUAAPEAAQAAAQUAARwBpOQAAPAAARUBqNUAAO0AARQAASkBqQQCCPDNAADUAADVAADdAADlAADsAADxAAEoAgVQyQAAzAAA1AAA3AAA5AABFQIFTMgAANEAAQ0AARQBpMkBqMEAAMgBqMAAAMkAANAAAOkAAPABpLUAAMgAANkAAOgAAPEAAPkCBUytAAC0AADYAADdAADpAADwAAD4AAEBAAEMAajVAADcAaisAAC1AADRAADUAADlAADoAAD1AAEAAgVMmQAAtAAA0AAA9AAA+QABBQGk8QAA+AGomAAArQAAyQAA3QAA5AAA7QAA8AABBAABDQDV/QDV/QDR/QDV/AAB/QDV/AAB/AAB/QDV/AAB/QDV/AAB/QDQrAAAyAAA3AAA7AABDAAB/AAB/QDV/AAB/QDV/AAB/QDV/AAB/QDV/AAB/QDR/AAB/QDV/AAB/QDV/AAB/QDV/AAB/QDV/AAB/QDR/AAB/QDV/AAB/QDV/AAB/QDV/AAB/QDV/AAB/QDR/AAB/QDV/AAB/QDV/AAB/QDV/AAB/QDV/AAB/QDR/AAB/QDV/AAB/QDV/AAB/QDV/AAB/QDV/AAB/QDR/AAB/QDV/AAB/QDV/AAB/QDV/AAB/QDV/AAB/QDR/AAB/QDV/AAB/QDV/AAB/QDV/AAB/QDV/AAB/QDR/AAB/QDV/AAB/QDV/AAB/QDV/AAB/QDV/AAB/QDR/AAB/QDV/AAB/QDV/AAB/QDV/AAB/QDV/AAB/QDR/AAB/QDV/AAB/QDV/AAB/QDV/AAB/QDV/AAB/QDR/AAB/QDV/AAB/QDV/AAB/QDV/AAB/QDV/AAB/QDR/AAB/QDV/AAB/QDV/AAB/QDV/ADV/AAH/LwA= sound-font visualizer=&quot;#section430 midi-visualizer&quot;&gt;&lt;/midi-player&gt;\n",
       "          &lt;midi-visualizer src=data:audio/midi;base64,TVRoZAAAAAYAAQACANxNVHJrAAAAEwD/UQMHoSAA/1gEBAIYCAH/LwBNVHJrAAAD7gDAAACQMEAAPEAAQ0AASECBUzwAAEBAajAAADJAaTIAADRAajQAADVAajUAADdAAD5AAEAAAEdAAEgAaUFAAEMAai1AADcAADxAAD4AAEBAAEEAAEVAAEcAaStAAC0AAEFAaisAAC1AAEEAAEFAai0AADBAAEAAAEBAAEEAAENAaTAAADpAAD5AAEAAAEUAajVAADoAAD4AAEFAAEMAAEVAgVM5QABFAGovQAA8AGkvAAA1AAA3QAA5AAA+QABBAABDQGooQABAQGkoAAAyQAA3AAA5QABAAABBQABBQABDAGowQAAyAAA+AABAQABBAABBAGowAABAAABIQGk5AAA7QAA+QABIAABKQGo3QAA7AAA8QAA+AABAQABIQABKAGk1QAA3AAA5QAA8AAA8QABAAABDQABIAIFUNQAAN0AAPAAAPkAAQwAAR0BpOEAAOQAAPgAAQEBqNwAAOAAAOUAAPEAAQAAAQUAARwBpOQAAPAAARUBqNUAAO0AARQAASkBqQQCCPDNAADUAADVAADdAADlAADsAADxAAEoAgVQyQAAzAAA1AAA3AAA5AABFQIFTMgAANEAAQ0AARQBpMkBqMEAAMgBqMAAAMkAANAAAOkAAPABpLUAAMgAANkAAOgAAPEAAPkCBUytAAC0AADYAADdAADpAADwAAD4AAEBAAEMAajVAADcAaisAAC1AADRAADUAADlAADoAAD1AAEAAgVMmQAAtAAA0AAA9AAA+QABBQGk8QAA+AGomAAArQAAyQAA3QAA5AAA7QAA8AABBAABDQDV/QDV/QDR/QDV/AAB/QDV/AAB/AAB/QDV/AAB/QDV/AAB/QDQrAAAyAAA3AAA7AABDAAB/AAB/QDV/AAB/QDV/AAB/QDV/AAB/QDV/AAB/QDR/AAB/QDV/AAB/QDV/AAB/QDV/AAB/QDV/AAB/QDR/AAB/QDV/AAB/QDV/AAB/QDV/AAB/QDV/AAB/QDR/AAB/QDV/AAB/QDV/AAB/QDV/AAB/QDV/AAB/QDR/AAB/QDV/AAB/QDV/AAB/QDV/AAB/QDV/AAB/QDR/AAB/QDV/AAB/QDV/AAB/QDV/AAB/QDV/AAB/QDR/AAB/QDV/AAB/QDV/AAB/QDV/AAB/QDV/AAB/QDR/AAB/QDV/AAB/QDV/AAB/QDV/AAB/QDV/AAB/QDR/AAB/QDV/AAB/QDV/AAB/QDV/AAB/QDV/AAB/QDR/AAB/QDV/AAB/QDV/AAB/QDV/AAB/QDV/AAB/QDR/AAB/QDV/AAB/QDV/AAB/QDV/AAB/QDV/AAB/QDR/AAB/QDV/AAB/QDV/AAB/QDV/ADV/AAH/LwA= type=piano-roll&gt;&lt;/midi-visualizer&gt;\n",
       "          &lt;/section&gt;\n",
       "          \" width=\"100%\" height=\"400\"\n",
       "            style=\"border:none !important;\"\n",
       "            \"allowfullscreen\" \"webkitallowfullscreen\" \"mozallowfullscreen\">'\n",
       "            </iframe>"
      ],
      "text/plain": [
       "<midi_player.midi_player.MIDIPlayer>"
      ]
     },
     "metadata": {},
     "output_type": "display_data"
    }
   ],
   "source": [
    "#| code-fold: true\n",
    "#| code-summary: \"Show the code\"\n",
    "\n",
    "val_every  = 1 # in steps, evaluate loss on val dataset\n",
    "cp_every   = 60 # in epochs, checkpoint every\n",
    "demo_every = 4 # in epochs, make a midi player demo\n",
    "\n",
    "best_loss = 999\n",
    "\n",
    "ema_weight, loss_ema, val_loss_ema = 0.95, None , None # exponential moving averages for loss reporting\n",
    "step = 0 \n",
    "losses = {}\n",
    "epochs = config.epochs\n",
    "for epoch in range(1,epochs+1):\n",
    "    pbar = tqdm(total=len(train_dl), desc=f\"Epoch {epoch}/{config.epochs}\", dynamic_ncols=False, ncols=100) # progress bar, per epoch\n",
    "    for bi, batch in enumerate(train_dl):\n",
    "        step += 1\n",
    "        xb, yb = batch[0].to(device), batch[1].to(device)\n",
    "\n",
    "        logits, loss = model(xb, yb) # evaluate the loss\n",
    "        loss_ema = (1.0-ema_weight)*loss.item() + ema_weight*loss_ema if loss_ema is not None else loss.item()\n",
    "        losses['train'], losses['train_ema'] = loss.item(), loss_ema\n",
    "        optimizer.zero_grad(set_to_none=True)\n",
    "        loss.backward()\n",
    "        optimizer.step()\n",
    "\n",
    "        # status / diagnostics:\n",
    "        if (step % val_every == 0):\n",
    "            with torch.no_grad():\n",
    "                model.eval()\n",
    "                xvb, yvb = next(iter(val_dl))\n",
    "                val_logits, val_loss = model( xvb.to(device), yvb.to(device) ) \n",
    "                val_loss_ema =  (1.0-ema_weight)*val_loss.item() + ema_weight*val_loss_ema if val_loss_ema is not None else val_loss.item() \n",
    "                losses['val'], losses['val_ema'] = val_loss.item(), val_loss_ema\n",
    "            model.train()\n",
    "            \n",
    "        wbl_dict = {'step':step, 'epoch':epoch} | losses   # dict for logging losses, midi examples, etc to wandb\n",
    "        pbar.set_postfix( dict((k,losses[k]) for k in ['train', 'val','val_ema'])) # loss info for progress bar\n",
    "        pbar.update(1)\n",
    "        if use_wandb and wbl_dict != {}: wandb.log(wbl_dict)\n",
    "            \n",
    "    #--- end of epoch ---\n",
    "\n",
    "    if losses['val_ema'] < best_loss: # Tracking best val_loss_ema for checkpointing purposes\n",
    "        best_loss = losses['val_ema']\n",
    "        pbar.set_postfix(dict( (k,losses[k]) for k in ['train', 'val']) | {'BEST val_ema':best_loss})\n",
    "        if (epoch) % cp_every==0:   # occasionally save a checkpoint of best model/optimizer states\n",
    "            cp_file = f\"musicbox-jsb\" #    -{step}\" # let's leave out step to avoid filling disk\n",
    "            print(f\"Saving a checkpoint to {cp_file}\")\n",
    "            torch.save({ 'step': step, 'model_state_dict': model.state_dict(), 'loss': loss,\n",
    "                         'optimizer_state_dict': optimizer.state_dict(),}, cp_file)\n",
    "    pbar.refresh()\n",
    "    pbar.close()\n",
    "    \n",
    "    if (epoch % demo_every == 0) or (epoch==epochs):  # demo of midi generation\n",
    "        with torch.no_grad():\n",
    "            model.eval()\n",
    "            new_notes = decode( model.generate(prompt_tokens, max_new_tokens=demo_max_new_tokens, temperature=1)[0].cpu() )\n",
    "            p2 = midiplayer(new_notes,title=f\"Demo on val dataset, Epoch={epoch}\")\n",
    "            display(p2)\n",
    "            if use_wandb: wandb.log( {'step':step, 'player':wandb.Html(p2.html)} )              \n",
    "        model.train()\n"
   ]
  },
  {
   "cell_type": "code",
   "execution_count": null,
   "metadata": {},
   "outputs": [
    {
     "data": {
      "text/html": [
       "Waiting for W&B process to finish... <strong style=\"color:green\">(success).</strong>"
      ],
      "text/plain": [
       "<IPython.core.display.HTML object>"
      ]
     },
     "metadata": {},
     "output_type": "display_data"
    },
    {
     "data": {
      "application/vnd.jupyter.widget-view+json": {
       "model_id": "90e9b7d5b3fc41148f3782ac15eb0627",
       "version_major": 2,
       "version_minor": 0
      },
      "text/plain": [
       "VBox(children=(Label(value='0.034 MB of 0.034 MB uploaded (0.000 MB deduped)\\r'), FloatProgress(value=1.0, max…"
      ]
     },
     "metadata": {},
     "output_type": "display_data"
    },
    {
     "data": {
      "text/html": [
       "<style>\n",
       "    table.wandb td:nth-child(1) { padding: 0 10px; text-align: left ; width: auto;} td:nth-child(2) {text-align: left ; width: 100%}\n",
       "    .wandb-row { display: flex; flex-direction: row; flex-wrap: wrap; justify-content: flex-start; width: 100% }\n",
       "    .wandb-col { display: flex; flex-direction: column; flex-basis: 100%; flex: 1; padding: 10px; }\n",
       "    </style>\n",
       "<div class=\"wandb-row\"><div class=\"wandb-col\"><h3>Run history:</h3><br/><table class=\"wandb\"><tr><td>epoch</td><td>▁▁▁▁▂▂▂▂▂▂▃▃▃▃▄▄▄▄▄▄▅▅▅▅▅▅▆▆▆▆▇▇▇▇▇▇████</td></tr><tr><td>step</td><td>▁▁▁▂▂▂▂▂▂▃▃▃▃▃▄▄▄▄▄▄▅▅▅▅▅▅▆▆▆▆▆▇▇▇▇▇▇███</td></tr><tr><td>train</td><td>█▆▅▄▄▄▃▃▃▃▃▃▃▂▂▂▂▂▂▂▁▂▂▂▁▁▁▂▁▂▁▁▁▁▁▁▁▁▁▁</td></tr><tr><td>train_ema</td><td>█▆▅▄▄▃▃▃▃▃▃▂▂▂▂▂▂▂▂▂▂▂▂▂▁▁▁▁▁▁▁▁▁▁▁▁▁▁▁▁</td></tr><tr><td>val</td><td>█▇▆▄▄▃▃▂▂▂▂▂▂▂▂▂▂▁▁▁▂▂▁▁▁▁▁▁▂▁▁▁▁▁▁▁▂▁▁▂</td></tr><tr><td>val_ema</td><td>█▆▅▄▃▃▂▂▂▂▂▂▂▁▁▁▁▁▁▁▁▁▁▁▁▁▁▁▁▁▁▁▁▁▁▁▁▁▁▁</td></tr></table><br/></div><div class=\"wandb-col\"><h3>Run summary:</h3><br/><table class=\"wandb\"><tr><td>epoch</td><td>20</td></tr><tr><td>step</td><td>4580</td></tr><tr><td>train</td><td>1.00426</td></tr><tr><td>train_ema</td><td>0.99505</td></tr><tr><td>val</td><td>1.14948</td></tr><tr><td>val_ema</td><td>1.19745</td></tr></table><br/></div></div>"
      ],
      "text/plain": [
       "<IPython.core.display.HTML object>"
      ]
     },
     "metadata": {},
     "output_type": "display_data"
    },
    {
     "data": {
      "text/html": [
       " View run <strong style=\"color:#cdcd00\">winter-rain-29</strong> at: <a href='https://wandb.ai/drscotthawley/musicbox-jsb-tutorial/runs/okamoljp' target=\"_blank\">https://wandb.ai/drscotthawley/musicbox-jsb-tutorial/runs/okamoljp</a><br/>Synced 5 W&B file(s), 5 media file(s), 0 artifact file(s) and 0 other file(s)"
      ],
      "text/plain": [
       "<IPython.core.display.HTML object>"
      ]
     },
     "metadata": {},
     "output_type": "display_data"
    },
    {
     "data": {
      "text/html": [
       "Find logs at: <code>./wandb/run-20231213_201630-okamoljp/logs</code>"
      ],
      "text/plain": [
       "<IPython.core.display.HTML object>"
      ]
     },
     "metadata": {},
     "output_type": "display_data"
    }
   ],
   "source": [
    "#| echo: false\n",
    "#| output: false\n",
    "if use_wandb: wandb.finish()"
   ]
  },
  {
   "cell_type": "markdown",
   "metadata": {},
   "source": [
    "<br>\n",
    "<br>\n",
    "...and that's about as good as it's going to get for now. 😕  Moving on..."
   ]
  },
  {
   "cell_type": "markdown",
   "metadata": {},
   "source": [
    "# Evaluate the Model\n",
    "\n",
    "Now we'll grab some data from the hitherto-unseen `test` dataset, and use it to prompt the model. We'll see how it \"scores\" -- in more ways than one! "
   ]
  },
  {
   "cell_type": "markdown",
   "metadata": {},
   "source": [
    "## Sample Generations\n",
    "First we'll set a \"prompt\" from the `test` set to see how the model continues it."
   ]
  },
  {
   "cell_type": "code",
   "execution_count": null,
   "metadata": {},
   "outputs": [
    {
     "data": {
      "text/html": [
       "<iframe srcdoc=\"&lt;script src=&quot;https://cdn.jsdelivr.net/combine/npm/tone@14.7.58,npm/@magenta/music@1.23.1/es6/core.js,npm/focus-visible@5,npm/html-midi-player@1.5.0&quot;&gt;&lt;/script&gt;\n",
       "\n",
       "&lt;style&gt;\n",
       "/* Custom player style */\n",
       "p { \n",
       "  margin:0; \n",
       "  color: #c4c4c4; /* mid-lightness text color for title, intended for dark backgrounds */\n",
       "}\n",
       "\n",
       "#section66 midi-player {\n",
       "  display: block;\n",
       "  width: inherit;\n",
       "  margin: 4px;\n",
       "  margin-bottom: 0;\n",
       "  color: #d4d4d4; /* Lighter text color for better readability */\n",
       "}\n",
       "#section66 midi-player::part(control-panel) {\n",
       "  background: #222; /* Dark background */\n",
       "  border: 2px solid #888; /* Lightened border color for contrast */\n",
       "  border-radius: 10px 10px 0 0;\n",
       "}\n",
       "#section66 midi-player::part(play-button) {\n",
       "  color: #ffffff; /* White text for visibility */\n",
       "  border: 2px solid currentColor;\n",
       "  background-color: #6c7a89; \n",
       "  border-radius: 20px;\n",
       "  transition: all 0.2s;\n",
       "  content: &#x27;hello&#x27;;\n",
       "}\n",
       "#section66 midi-player::part(play-button):hover {\n",
       "  color: #00a; \n",
       "  background-color: #9fafc9; \n",
       "  border-radius: 10px;\n",
       "}\n",
       "#section66 midi-player::part(time) {\n",
       "  font-family: monospace; /* Monospace font for time */\n",
       "}\n",
       "\n",
       "/* Custom visualizer style */\n",
       "#section66 midi-visualizer .piano-roll-visualizer {\n",
       "  background: #333; /* Dark background for visualizer */\n",
       "  border: 2px solid #505050; /* Dark border for subtle appearance */\n",
       "  border-top: none;\n",
       "  border-radius: 0 0 10px 10px;\n",
       "  margin: 4px;\n",
       "  width: inherit;\n",
       "  margin-top: 0;\n",
       "  overflow: auto;\n",
       "}\n",
       "#section66 midi-visualizer svg rect.note {\n",
       "  opacity: 0.9; \n",
       "  stroke-width: 1; /* Stroke width for note clarity */\n",
       "}\n",
       "\n",
       "/* Different instrument colors */\n",
       "#section66 midi-visualizer svg rect.note[data-instrument=&quot;0&quot;]{\n",
       "  fill: #7aa6ed; /*  blue for Instrument 0 */\n",
       "  stroke: #444; \n",
       "}\n",
       "#section66 midi-visualizer svg rect.note[data-instrument=&quot;2&quot;]{\n",
       "  fill: #d586d0; /* purple for Instrument 2 for consistency */\n",
       "  stroke: #444; /* White stroke for visibility */\n",
       "}\n",
       "#section66 midi-visualizer svg rect.note[data-is-drum=&quot;true&quot;]{\n",
       "  fill: brightorange; \n",
       "  stroke: #bbb;\n",
       "}\n",
       "#section66 midi-visualizer svg rect.note.active {\n",
       "  opacity: 0.9; /* Highlight active notes */\n",
       "  stroke: #ddd; /* White stroke for maximum contrast */\n",
       "  stroke-width: 2; /* Thicker stroke for active notes */\n",
       "}\n",
       "&lt;/style&gt;\n",
       "\n",
       "          &lt;section id=&quot;section66&quot;&gt;&lt;p style=&quot;text-align:left;font-family:Arial;&quot;&gt;Full Evaluation Target, 210 notes long&lt;span style=&quot;float:right;&quot;&gt;&lt;a href=&quot;data:audio/midi;base64,TVRoZAAAAAYAAQACANxNVHJrAAAAEwD/UQMHoSAA/1gEBAIYCAH/LwBNVHJrAAAE/QDAAACQNkAAPUAAQkAARUBqPQAAPkBpNgAAPUAAPgAAQEAAQgBqQkBpO0AAPQAAPkAAQAAAQgAAREAARQAATEBqOUAAOwAAPUAAPgAARAAARUBqOEAAOQAAO0AAPQAARQAAR0CBUzgAADlAADsAAEBAAEcAAEpAAEwAaUlAAEoAajtAAD9AAEAAAEdAAEkAajdAADkAaTZAADcAADlAADsAAD8AAEBAAEcAAElAajRAADYAADdAADkAaTQAADZAADcAADlAAD5AAEAAAEkAAEpAajJAADYAAD4AAEVAAElAAEoAajIAADRAADkAAEBAAERAAEUAAEdAAEkAaT5AAEAAai1AADQAAD1AAD4AAEBAAEQAAEVAAEcAhHktAAAyQAA5QAA9AABAAABCQIFUMgAAM0AARQAAR0BpMwAANEBqOEAAOQAAQEAAQgAARwAASUBpNAAANUAAPUAAQABqOAAAO0AAPQAAREAASQAASkBqNQAANkAAOUAAOwAAQkAARABpNgAAOEAAOQAAO0AAQEAAQgAAR0AASgBqOAAAOUAAP0AAQABpOEAAOQAAPwAAQEAARwAATEA1QAAAQkA1NEAAOAAAOwAAQEAAQgAAREBqNAAAO0AARAAARUAATAAATkBpP0AAQAAAQkAARQBqNEAAOwAAPwAAQEAAQgAAREAATEAATgCBUzQAADlAAEQAAEVAAElAAEwAajhAADkAaTZAADgAAEAAAEJAajRAADYAAEkAAEpAaTJAADQAAEUAAEZAAEoAAExAajFAADIAai9AADEAAEYAAEdAAEpAAEwAaUVAAEcAai8AADRAAEBAAEIAAERAAEUAAElAAEoAaTJAADQAAEJAAEQAAEdAAEkAajFAADIAAEIAAEVAAEcAai9AADEAAD5AAEAAAEJAAEUAAEdANEIAAERANS1AAC8AAD1AAD4AAEQAAEVAAEcAAElAaj0AAD9AAEJAAEUAaS0AADRAAD8AAEBAAEIAAERAAEdAAEkAgVQtQAA0AABEAABFQABHAABJQGlEQABFAGotAAAyQAA+QABAAABCQABEAABFQABJAGkyAAA0QAA9QAA+AGoyQAA0AAA9AAA+QABFAABHQGoxQAAyAAA+AABAQABCAABEQABHAABJQDREAABGQDUvQAAxAABAAABCQABGAABHQABJAABKQIFTLwAANkAARkAARwAASUAASgBqQEAAQgBqNgAAN0AAPkAAQAAARgAAR0AASQBpNkAANwAARUBqNEAANgAAPgAAQEAAQ0AARQAARwAASUCBUzJAADQAADlAAEAAAEJAAEMAAEkAAEpAgVMtQAAyAABAQABCAABJQABKAGpAAABFQGktAAA0QAA5AAA7QABHQABJAGpEQABFAGo7AAA9QABFQABHAGk9AAA/QABCQABEAGo/AABAQABCAABEQABFAABMQGk0AAA2QABEAABFQGo2AAA4QABFAABHQGo0QAA4AABKQABMAGk0AAA5QABJQABKAGo4QAA5AAA9QABHAGk2QAA4AAA5QAA9AABAAABFQABJAABKQGo0QAA2AAA5AAA9QABJQABKAGoyQAA0AAA9AABCQABHQABJAGkvQAAyAAA+QABCAGovAAA0QAA7QAA+AABEQABFAGk7AABAQGotQAA0AAA9QABEAABFQABHAIZNLQAAPQAAQAAARQAB/y8A&quot; target=&quot;_blank&quot;&gt;Download MIDI&lt;/a&gt;&lt;br&gt;&lt;/span&gt;&lt;/p&gt;\n",
       "          &lt;midi-player src=data:audio/midi;base64,TVRoZAAAAAYAAQACANxNVHJrAAAAEwD/UQMHoSAA/1gEBAIYCAH/LwBNVHJrAAAE/QDAAACQNkAAPUAAQkAARUBqPQAAPkBpNgAAPUAAPgAAQEAAQgBqQkBpO0AAPQAAPkAAQAAAQgAAREAARQAATEBqOUAAOwAAPUAAPgAARAAARUBqOEAAOQAAO0AAPQAARQAAR0CBUzgAADlAADsAAEBAAEcAAEpAAEwAaUlAAEoAajtAAD9AAEAAAEdAAEkAajdAADkAaTZAADcAADlAADsAAD8AAEBAAEcAAElAajRAADYAADdAADkAaTQAADZAADcAADlAAD5AAEAAAEkAAEpAajJAADYAAD4AAEVAAElAAEoAajIAADRAADkAAEBAAERAAEUAAEdAAEkAaT5AAEAAai1AADQAAD1AAD4AAEBAAEQAAEVAAEcAhHktAAAyQAA5QAA9AABAAABCQIFUMgAAM0AARQAAR0BpMwAANEBqOEAAOQAAQEAAQgAARwAASUBpNAAANUAAPUAAQABqOAAAO0AAPQAAREAASQAASkBqNQAANkAAOUAAOwAAQkAARABpNgAAOEAAOQAAO0AAQEAAQgAAR0AASgBqOAAAOUAAP0AAQABpOEAAOQAAPwAAQEAARwAATEA1QAAAQkA1NEAAOAAAOwAAQEAAQgAAREBqNAAAO0AARAAARUAATAAATkBpP0AAQAAAQkAARQBqNEAAOwAAPwAAQEAAQgAAREAATEAATgCBUzQAADlAAEQAAEVAAElAAEwAajhAADkAaTZAADgAAEAAAEJAajRAADYAAEkAAEpAaTJAADQAAEUAAEZAAEoAAExAajFAADIAai9AADEAAEYAAEdAAEpAAEwAaUVAAEcAai8AADRAAEBAAEIAAERAAEUAAElAAEoAaTJAADQAAEJAAEQAAEdAAEkAajFAADIAAEIAAEVAAEcAai9AADEAAD5AAEAAAEJAAEUAAEdANEIAAERANS1AAC8AAD1AAD4AAEQAAEVAAEcAAElAaj0AAD9AAEJAAEUAaS0AADRAAD8AAEBAAEIAAERAAEdAAEkAgVQtQAA0AABEAABFQABHAABJQGlEQABFAGotAAAyQAA+QABAAABCQABEAABFQABJAGkyAAA0QAA9QAA+AGoyQAA0AAA9AAA+QABFAABHQGoxQAAyAAA+AABAQABCAABEQABHAABJQDREAABGQDUvQAAxAABAAABCQABGAABHQABJAABKQIFTLwAANkAARkAARwAASUAASgBqQEAAQgBqNgAAN0AAPkAAQAAARgAAR0AASQBpNkAANwAARUBqNEAANgAAPgAAQEAAQ0AARQAARwAASUCBUzJAADQAADlAAEAAAEJAAEMAAEkAAEpAgVMtQAAyAABAQABCAABJQABKAGpAAABFQGktAAA0QAA5AAA7QABHQABJAGpEQABFAGo7AAA9QABFQABHAGk9AAA/QABCQABEAGo/AABAQABCAABEQABFAABMQGk0AAA2QABEAABFQGo2AAA4QABFAABHQGo0QAA4AABKQABMAGk0AAA5QABJQABKAGo4QAA5AAA9QABHAGk2QAA4AAA5QAA9AABAAABFQABJAABKQGo0QAA2AAA5AAA9QABJQABKAGoyQAA0AAA9AABCQABHQABJAGkvQAAyAAA+QABCAGovAAA0QAA7QAA+AABEQABFAGk7AABAQGotQAA0AAA9QABEAABFQABHAIZNLQAAPQAAQAAARQAB/y8A sound-font visualizer=&quot;#section66 midi-visualizer&quot;&gt;&lt;/midi-player&gt;\n",
       "          &lt;midi-visualizer src=data:audio/midi;base64,TVRoZAAAAAYAAQACANxNVHJrAAAAEwD/UQMHoSAA/1gEBAIYCAH/LwBNVHJrAAAE/QDAAACQNkAAPUAAQkAARUBqPQAAPkBpNgAAPUAAPgAAQEAAQgBqQkBpO0AAPQAAPkAAQAAAQgAAREAARQAATEBqOUAAOwAAPUAAPgAARAAARUBqOEAAOQAAO0AAPQAARQAAR0CBUzgAADlAADsAAEBAAEcAAEpAAEwAaUlAAEoAajtAAD9AAEAAAEdAAEkAajdAADkAaTZAADcAADlAADsAAD8AAEBAAEcAAElAajRAADYAADdAADkAaTQAADZAADcAADlAAD5AAEAAAEkAAEpAajJAADYAAD4AAEVAAElAAEoAajIAADRAADkAAEBAAERAAEUAAEdAAEkAaT5AAEAAai1AADQAAD1AAD4AAEBAAEQAAEVAAEcAhHktAAAyQAA5QAA9AABAAABCQIFUMgAAM0AARQAAR0BpMwAANEBqOEAAOQAAQEAAQgAARwAASUBpNAAANUAAPUAAQABqOAAAO0AAPQAAREAASQAASkBqNQAANkAAOUAAOwAAQkAARABpNgAAOEAAOQAAO0AAQEAAQgAAR0AASgBqOAAAOUAAP0AAQABpOEAAOQAAPwAAQEAARwAATEA1QAAAQkA1NEAAOAAAOwAAQEAAQgAAREBqNAAAO0AARAAARUAATAAATkBpP0AAQAAAQkAARQBqNEAAOwAAPwAAQEAAQgAAREAATEAATgCBUzQAADlAAEQAAEVAAElAAEwAajhAADkAaTZAADgAAEAAAEJAajRAADYAAEkAAEpAaTJAADQAAEUAAEZAAEoAAExAajFAADIAai9AADEAAEYAAEdAAEpAAEwAaUVAAEcAai8AADRAAEBAAEIAAERAAEUAAElAAEoAaTJAADQAAEJAAEQAAEdAAEkAajFAADIAAEIAAEVAAEcAai9AADEAAD5AAEAAAEJAAEUAAEdANEIAAERANS1AAC8AAD1AAD4AAEQAAEVAAEcAAElAaj0AAD9AAEJAAEUAaS0AADRAAD8AAEBAAEIAAERAAEdAAEkAgVQtQAA0AABEAABFQABHAABJQGlEQABFAGotAAAyQAA+QABAAABCQABEAABFQABJAGkyAAA0QAA9QAA+AGoyQAA0AAA9AAA+QABFAABHQGoxQAAyAAA+AABAQABCAABEQABHAABJQDREAABGQDUvQAAxAABAAABCQABGAABHQABJAABKQIFTLwAANkAARkAARwAASUAASgBqQEAAQgBqNgAAN0AAPkAAQAAARgAAR0AASQBpNkAANwAARUBqNEAANgAAPgAAQEAAQ0AARQAARwAASUCBUzJAADQAADlAAEAAAEJAAEMAAEkAAEpAgVMtQAAyAABAQABCAABJQABKAGpAAABFQGktAAA0QAA5AAA7QABHQABJAGpEQABFAGo7AAA9QABFQABHAGk9AAA/QABCQABEAGo/AABAQABCAABEQABFAABMQGk0AAA2QABEAABFQGo2AAA4QABFAABHQGo0QAA4AABKQABMAGk0AAA5QABJQABKAGo4QAA5AAA9QABHAGk2QAA4AAA5QAA9AABAAABFQABJAABKQGo0QAA2AAA5AAA9QABJQABKAGoyQAA0AAA9AABCQABHQABJAGkvQAAyAAA+QABCAGovAAA0QAA7QAA+AABEQABFAGk7AABAQGotQAA0AAA9QABEAABFQABHAIZNLQAAPQAAQAAARQAB/y8A type=piano-roll&gt;&lt;/midi-visualizer&gt;\n",
       "          &lt;/section&gt;\n",
       "          \" width=\"100%\" height=\"400\"\n",
       "            style=\"border:none !important;\"\n",
       "            \"allowfullscreen\" \"webkitallowfullscreen\" \"mozallowfullscreen\">'\n",
       "            </iframe>"
      ],
      "text/plain": [
       "<midi_player.midi_player.MIDIPlayer>"
      ]
     },
     "metadata": {},
     "output_type": "display_data"
    },
    {
     "data": {
      "text/html": [
       "<iframe srcdoc=\"&lt;script src=&quot;https://cdn.jsdelivr.net/combine/npm/tone@14.7.58,npm/@magenta/music@1.23.1/es6/core.js,npm/focus-visible@5,npm/html-midi-player@1.5.0&quot;&gt;&lt;/script&gt;\n",
       "\n",
       "&lt;style&gt;\n",
       "/* Custom player style */\n",
       "p { \n",
       "  margin:0; \n",
       "  color: #c4c4c4; /* mid-lightness text color for title, intended for dark backgrounds */\n",
       "}\n",
       "\n",
       "#section517 midi-player {\n",
       "  display: block;\n",
       "  width: inherit;\n",
       "  margin: 4px;\n",
       "  margin-bottom: 0;\n",
       "  color: #d4d4d4; /* Lighter text color for better readability */\n",
       "}\n",
       "#section517 midi-player::part(control-panel) {\n",
       "  background: #222; /* Dark background */\n",
       "  border: 2px solid #888; /* Lightened border color for contrast */\n",
       "  border-radius: 10px 10px 0 0;\n",
       "}\n",
       "#section517 midi-player::part(play-button) {\n",
       "  color: #ffffff; /* White text for visibility */\n",
       "  border: 2px solid currentColor;\n",
       "  background-color: #6c7a89; \n",
       "  border-radius: 20px;\n",
       "  transition: all 0.2s;\n",
       "  content: &#x27;hello&#x27;;\n",
       "}\n",
       "#section517 midi-player::part(play-button):hover {\n",
       "  color: #00a; \n",
       "  background-color: #9fafc9; \n",
       "  border-radius: 10px;\n",
       "}\n",
       "#section517 midi-player::part(time) {\n",
       "  font-family: monospace; /* Monospace font for time */\n",
       "}\n",
       "\n",
       "/* Custom visualizer style */\n",
       "#section517 midi-visualizer .piano-roll-visualizer {\n",
       "  background: #333; /* Dark background for visualizer */\n",
       "  border: 2px solid #505050; /* Dark border for subtle appearance */\n",
       "  border-top: none;\n",
       "  border-radius: 0 0 10px 10px;\n",
       "  margin: 4px;\n",
       "  width: inherit;\n",
       "  margin-top: 0;\n",
       "  overflow: auto;\n",
       "}\n",
       "#section517 midi-visualizer svg rect.note {\n",
       "  opacity: 0.9; \n",
       "  stroke-width: 1; /* Stroke width for note clarity */\n",
       "}\n",
       "\n",
       "/* Different instrument colors */\n",
       "#section517 midi-visualizer svg rect.note[data-instrument=&quot;0&quot;]{\n",
       "  fill: #7aa6ed; /*  blue for Instrument 0 */\n",
       "  stroke: #444; \n",
       "}\n",
       "#section517 midi-visualizer svg rect.note[data-instrument=&quot;2&quot;]{\n",
       "  fill: #d586d0; /* purple for Instrument 2 for consistency */\n",
       "  stroke: #444; /* White stroke for visibility */\n",
       "}\n",
       "#section517 midi-visualizer svg rect.note[data-is-drum=&quot;true&quot;]{\n",
       "  fill: brightorange; \n",
       "  stroke: #bbb;\n",
       "}\n",
       "#section517 midi-visualizer svg rect.note.active {\n",
       "  opacity: 0.9; /* Highlight active notes */\n",
       "  stroke: #ddd; /* White stroke for maximum contrast */\n",
       "  stroke-width: 2; /* Thicker stroke for active notes */\n",
       "}\n",
       "&lt;/style&gt;\n",
       "\n",
       "          &lt;section id=&quot;section517&quot;&gt;&lt;p style=&quot;text-align:left;font-family:Arial;&quot;&gt;Evaluation Prompt, 21 notes long&lt;span style=&quot;float:right;&quot;&gt;&lt;a href=&quot;data:audio/midi;base64,TVRoZAAAAAYAAQACANxNVHJrAAAAEwD/UQMHoSAA/1gEBAIYCAH/LwBNVHJrAAAAhwDAAACQNkAAPUAAQkAARUBqPQAAPkBpNgAAPUAAPgAAQEAAQgBqQkBpO0AAPQAAPkAAQAAAQgAAREAARQAATEBqOUAAOwAAPUAAPgAARAAARUBqOEAAOQAAO0AAPQAARQAAR0CBUzgAADlAADsAAEBAAEcAAEpAAEwAaUoAakAAajkAAf8vAA==&quot; target=&quot;_blank&quot;&gt;Download MIDI&lt;/a&gt;&lt;br&gt;&lt;/span&gt;&lt;/p&gt;\n",
       "          &lt;midi-player src=data:audio/midi;base64,TVRoZAAAAAYAAQACANxNVHJrAAAAEwD/UQMHoSAA/1gEBAIYCAH/LwBNVHJrAAAAhwDAAACQNkAAPUAAQkAARUBqPQAAPkBpNgAAPUAAPgAAQEAAQgBqQkBpO0AAPQAAPkAAQAAAQgAAREAARQAATEBqOUAAOwAAPUAAPgAARAAARUBqOEAAOQAAO0AAPQAARQAAR0CBUzgAADlAADsAAEBAAEcAAEpAAEwAaUoAakAAajkAAf8vAA== sound-font visualizer=&quot;#section517 midi-visualizer&quot;&gt;&lt;/midi-player&gt;\n",
       "          &lt;midi-visualizer src=data:audio/midi;base64,TVRoZAAAAAYAAQACANxNVHJrAAAAEwD/UQMHoSAA/1gEBAIYCAH/LwBNVHJrAAAAhwDAAACQNkAAPUAAQkAARUBqPQAAPkBpNgAAPUAAPgAAQEAAQgBqQkBpO0AAPQAAPkAAQAAAQgAAREAARQAATEBqOUAAOwAAPUAAPgAARAAARUBqOEAAOQAAO0AAPQAARQAAR0CBUzgAADlAADsAAEBAAEcAAEpAAEwAaUoAakAAajkAAf8vAA== type=piano-roll&gt;&lt;/midi-visualizer&gt;\n",
       "          &lt;/section&gt;\n",
       "          \" width=\"100%\" height=\"400\"\n",
       "            style=\"border:none !important;\"\n",
       "            \"allowfullscreen\" \"webkitallowfullscreen\" \"mozallowfullscreen\">'\n",
       "            </iframe>"
      ],
      "text/plain": [
       "<midi_player.midi_player.MIDIPlayer>"
      ]
     },
     "metadata": {},
     "output_type": "display_data"
    }
   ],
   "source": [
    "#| code-fold: true\n",
    "#| code-summary: \"Show the code\"\n",
    "\n",
    "file_ind = 1  \n",
    "original = test_notes_tl[file_ind]\n",
    "num_tokens = len(original)\n",
    "display(midiplayer(original, title=f\"Full Evaluation Target, {num_tokens} notes long\"))\n",
    "\n",
    "\n",
    "prompt_len = 21\n",
    "prompt = original[:prompt_len] \n",
    "display(midiplayer(prompt, title=f\"Evaluation Prompt, {prompt_len} notes long\"))\n",
    "prompt_tokens = encode(prompt).unsqueeze(0).to(device)"
   ]
  },
  {
   "cell_type": "markdown",
   "metadata": {},
   "source": [
    "In what follows, we'll vary the \"temperature\" parameter of the model (see the bottom of the previous lesson), to see its effect on what comes out."
   ]
  },
  {
   "cell_type": "code",
   "execution_count": null,
   "metadata": {},
   "outputs": [
    {
     "data": {
      "text/html": [
       "<iframe srcdoc=\"&lt;script src=&quot;https://cdn.jsdelivr.net/combine/npm/tone@14.7.58,npm/@magenta/music@1.23.1/es6/core.js,npm/focus-visible@5,npm/html-midi-player@1.5.0&quot;&gt;&lt;/script&gt;\n",
       "\n",
       "&lt;style&gt;\n",
       "/* Custom player style */\n",
       "p { \n",
       "  margin:0; \n",
       "  color: #c4c4c4; /* mid-lightness text color for title, intended for dark backgrounds */\n",
       "}\n",
       "\n",
       "#section632 midi-player {\n",
       "  display: block;\n",
       "  width: inherit;\n",
       "  margin: 4px;\n",
       "  margin-bottom: 0;\n",
       "  color: #d4d4d4; /* Lighter text color for better readability */\n",
       "}\n",
       "#section632 midi-player::part(control-panel) {\n",
       "  background: #222; /* Dark background */\n",
       "  border: 2px solid #888; /* Lightened border color for contrast */\n",
       "  border-radius: 10px 10px 0 0;\n",
       "}\n",
       "#section632 midi-player::part(play-button) {\n",
       "  color: #ffffff; /* White text for visibility */\n",
       "  border: 2px solid currentColor;\n",
       "  background-color: #6c7a89; \n",
       "  border-radius: 20px;\n",
       "  transition: all 0.2s;\n",
       "  content: &#x27;hello&#x27;;\n",
       "}\n",
       "#section632 midi-player::part(play-button):hover {\n",
       "  color: #00a; \n",
       "  background-color: #9fafc9; \n",
       "  border-radius: 10px;\n",
       "}\n",
       "#section632 midi-player::part(time) {\n",
       "  font-family: monospace; /* Monospace font for time */\n",
       "}\n",
       "\n",
       "/* Custom visualizer style */\n",
       "#section632 midi-visualizer .piano-roll-visualizer {\n",
       "  background: #333; /* Dark background for visualizer */\n",
       "  border: 2px solid #505050; /* Dark border for subtle appearance */\n",
       "  border-top: none;\n",
       "  border-radius: 0 0 10px 10px;\n",
       "  margin: 4px;\n",
       "  width: inherit;\n",
       "  margin-top: 0;\n",
       "  overflow: auto;\n",
       "}\n",
       "#section632 midi-visualizer svg rect.note {\n",
       "  opacity: 0.9; \n",
       "  stroke-width: 1; /* Stroke width for note clarity */\n",
       "}\n",
       "\n",
       "/* Different instrument colors */\n",
       "#section632 midi-visualizer svg rect.note[data-instrument=&quot;0&quot;]{\n",
       "  fill: #7aa6ed; /*  blue for Instrument 0 */\n",
       "  stroke: #444; \n",
       "}\n",
       "#section632 midi-visualizer svg rect.note[data-instrument=&quot;2&quot;]{\n",
       "  fill: #d586d0; /* purple for Instrument 2 for consistency */\n",
       "  stroke: #444; /* White stroke for visibility */\n",
       "}\n",
       "#section632 midi-visualizer svg rect.note[data-is-drum=&quot;true&quot;]{\n",
       "  fill: brightorange; \n",
       "  stroke: #bbb;\n",
       "}\n",
       "#section632 midi-visualizer svg rect.note.active {\n",
       "  opacity: 0.9; /* Highlight active notes */\n",
       "  stroke: #ddd; /* White stroke for maximum contrast */\n",
       "  stroke-width: 2; /* Thicker stroke for active notes */\n",
       "}\n",
       "&lt;/style&gt;\n",
       "\n",
       "          &lt;section id=&quot;section632&quot;&gt;&lt;p style=&quot;text-align:left;font-family:Arial;&quot;&gt;Temperature = 0.7&lt;span style=&quot;float:right;&quot;&gt;&lt;a href=&quot;data:audio/midi;base64,TVRoZAAAAAYAAQACANxNVHJrAAAAEwD/UQMHoSAA/1gEBAIYCAH/LwBNVHJrAAAE/wDAAACQNkAAPUAAQkAARUBqPQAAPkBpNgAAPUAAPgAAQEAAQgBqQkBpO0AAPQAAPkAAQAAAQgAAREAARQAATEBqOUAAOwAAPUAAPgAARAAARUBqOEAAOQAAO0AAPQAARQAAR0CBUzgAADlAADsAAEBAAEcAAEpAAEwAaUlAAEoAaj5AAEAAAEJAAEdAAEkAajhAADkAaTZAADgAAD1AAD4AAEVAAEcAakBAAEIAaTYAADhAADtAAD0AAD9AAEAAAERAAEUAajgAADlAajkAADsAAD1AAD8AAEBAAEQAAEVAaT9AAEAAAEJAAEUAajRAAD0AAEBAAEIAAERAaTtAAD8AAEAAAEdAajQAADZAADpAADsAAEJAAEQAAEcAAElAajoAADtAAEBAAEIAaTYAADhAADsAAD1AAD9AAEAAAEdAAEkAajtAAD0AaTZAADgAADlAADsAAD8AAEJAAEVAAEcAajkAADtAajFAADYAADsAAD1AAERAAEUAgVMvQAAxAAA9AAA+QABCAABEAABEQIFTLwAANkAAPgAAQkAARAAAR0AASkBqQEAAQgBpNEAANgAAQAAAREAARUAARwAASUAASgBqNAAANkAAOUAAQkAARAAARQAASQAASkBpNgAAOEAAOQAAO0AAQEAAQgBqOAAAOUAAOwAAPUAAQAAAQEAARUAASgBqQAAAQkBpOEAAOQAAO0AAPQAAQEAAQgAAREAARQBqOAAAOUBpOQAAOwAAPkAAQAAAQkAARAAARUBqO0AAPUAAPgAAQEAAQEAAQgAAREAARQBqMkAAPQAAQAAAQAAAQkAARABpMgAANEAAOwAAQEAAQgAAREBqNAAANkAAOUAAQAAAQkAARAAARUBpOQAAO0AAP0AAQgBqNEAANgAAOwAAPUAAPwAAQEAAREAARQCBUypAADQAAEAAAEJAAEQAAEVAajtAAD0AaSoAADFAADhAADsAAD1AAEBAAEIAAEUAgVQvQAAxAAA2QAA4AAA9AAA/QABAAABHQIFTLwAAMUAANEAANgAAPUAAPwAARUAARwBpPQAAP0BqMQAAM0AANAAANkAAPwAAQEAAREAARQBqMwAANEAANgAAOEBpMkAANAAANkAAOAAAOkAAQAAAQkAARABqNEAANgBpI0AAMgAAOgAAO0AAQgAAREBqMkAANAA1MUAAMgA1IwAAJ0AAMQAAM0AAOkAAOwAAQ0AARACBUycAAC5AADJAADMAAEFAAEMAgVMyAAA2QAA6AGpJQGkuAAAwQAA2AAA4QABHQABJAIFTMAAAMUAAN0AAOAAAQQAARkAARwCBVDEAADNAADcAADhAAD9AAEYAAEdAaT8AAEFAajJAADMAADgAADpAAD9AAEEAAEJAAEcAaTFAADIAai9AADEAAEIAAERAajhAADoAaS5AAC8AADgAADpAAENAAEQAaidAADdAADhAADoAAD8AaS4AADBAADgAAD9AAEMAaicAaixAADAAADcAADhAADxAAD8AaSwAAC5AADVAADgAAD1AajNAADUAADdAADwAaSpAACxAAC4AADMAADcAADhAADxAAD0AAD9AailAACoAACwAAC5AADVAADgAADwAAD1AAD8AaikAAC4AADBAADNAADUAAD0AAD9AaTAAADFAADMAADVAADhAAD8AAEFAai5AADEAADUAADgAaS4AgVRBAAH/LwA=&quot; target=&quot;_blank&quot;&gt;Download MIDI&lt;/a&gt;&lt;br&gt;&lt;/span&gt;&lt;/p&gt;\n",
       "          &lt;midi-player src=data:audio/midi;base64,TVRoZAAAAAYAAQACANxNVHJrAAAAEwD/UQMHoSAA/1gEBAIYCAH/LwBNVHJrAAAE/wDAAACQNkAAPUAAQkAARUBqPQAAPkBpNgAAPUAAPgAAQEAAQgBqQkBpO0AAPQAAPkAAQAAAQgAAREAARQAATEBqOUAAOwAAPUAAPgAARAAARUBqOEAAOQAAO0AAPQAARQAAR0CBUzgAADlAADsAAEBAAEcAAEpAAEwAaUlAAEoAaj5AAEAAAEJAAEdAAEkAajhAADkAaTZAADgAAD1AAD4AAEVAAEcAakBAAEIAaTYAADhAADtAAD0AAD9AAEAAAERAAEUAajgAADlAajkAADsAAD1AAD8AAEBAAEQAAEVAaT9AAEAAAEJAAEUAajRAAD0AAEBAAEIAAERAaTtAAD8AAEAAAEdAajQAADZAADpAADsAAEJAAEQAAEcAAElAajoAADtAAEBAAEIAaTYAADhAADsAAD1AAD9AAEAAAEdAAEkAajtAAD0AaTZAADgAADlAADsAAD8AAEJAAEVAAEcAajkAADtAajFAADYAADsAAD1AAERAAEUAgVMvQAAxAAA9AAA+QABCAABEAABEQIFTLwAANkAAPgAAQkAARAAAR0AASkBqQEAAQgBpNEAANgAAQAAAREAARUAARwAASUAASgBqNAAANkAAOUAAQkAARAAARQAASQAASkBpNgAAOEAAOQAAO0AAQEAAQgBqOAAAOUAAOwAAPUAAQAAAQEAARUAASgBqQAAAQkBpOEAAOQAAO0AAPQAAQEAAQgAAREAARQBqOAAAOUBpOQAAOwAAPkAAQAAAQkAARAAARUBqO0AAPUAAPgAAQEAAQEAAQgAAREAARQBqMkAAPQAAQAAAQAAAQkAARABpMgAANEAAOwAAQEAAQgAAREBqNAAANkAAOUAAQAAAQkAARAAARUBpOQAAO0AAP0AAQgBqNEAANgAAOwAAPUAAPwAAQEAAREAARQCBUypAADQAAEAAAEJAAEQAAEVAajtAAD0AaSoAADFAADhAADsAAD1AAEBAAEIAAEUAgVQvQAAxAAA2QAA4AAA9AAA/QABAAABHQIFTLwAAMUAANEAANgAAPUAAPwAARUAARwBpPQAAP0BqMQAAM0AANAAANkAAPwAAQEAAREAARQBqMwAANEAANgAAOEBpMkAANAAANkAAOAAAOkAAQAAAQkAARABqNEAANgBpI0AAMgAAOgAAO0AAQgAAREBqMkAANAA1MUAAMgA1IwAAJ0AAMQAAM0AAOkAAOwAAQ0AARACBUycAAC5AADJAADMAAEFAAEMAgVMyAAA2QAA6AGpJQGkuAAAwQAA2AAA4QABHQABJAIFTMAAAMUAAN0AAOAAAQQAARkAARwCBVDEAADNAADcAADhAAD9AAEYAAEdAaT8AAEFAajJAADMAADgAADpAAD9AAEEAAEJAAEcAaTFAADIAai9AADEAAEIAAERAajhAADoAaS5AAC8AADgAADpAAENAAEQAaidAADdAADhAADoAAD8AaS4AADBAADgAAD9AAEMAaicAaixAADAAADcAADhAADxAAD8AaSwAAC5AADVAADgAAD1AajNAADUAADdAADwAaSpAACxAAC4AADMAADcAADhAADxAAD0AAD9AailAACoAACwAAC5AADVAADgAADwAAD1AAD8AaikAAC4AADBAADNAADUAAD0AAD9AaTAAADFAADMAADVAADhAAD8AAEFAai5AADEAADUAADgAaS4AgVRBAAH/LwA= sound-font visualizer=&quot;#section632 midi-visualizer&quot;&gt;&lt;/midi-player&gt;\n",
       "          &lt;midi-visualizer src=data:audio/midi;base64,TVRoZAAAAAYAAQACANxNVHJrAAAAEwD/UQMHoSAA/1gEBAIYCAH/LwBNVHJrAAAE/wDAAACQNkAAPUAAQkAARUBqPQAAPkBpNgAAPUAAPgAAQEAAQgBqQkBpO0AAPQAAPkAAQAAAQgAAREAARQAATEBqOUAAOwAAPUAAPgAARAAARUBqOEAAOQAAO0AAPQAARQAAR0CBUzgAADlAADsAAEBAAEcAAEpAAEwAaUlAAEoAaj5AAEAAAEJAAEdAAEkAajhAADkAaTZAADgAAD1AAD4AAEVAAEcAakBAAEIAaTYAADhAADtAAD0AAD9AAEAAAERAAEUAajgAADlAajkAADsAAD1AAD8AAEBAAEQAAEVAaT9AAEAAAEJAAEUAajRAAD0AAEBAAEIAAERAaTtAAD8AAEAAAEdAajQAADZAADpAADsAAEJAAEQAAEcAAElAajoAADtAAEBAAEIAaTYAADhAADsAAD1AAD9AAEAAAEdAAEkAajtAAD0AaTZAADgAADlAADsAAD8AAEJAAEVAAEcAajkAADtAajFAADYAADsAAD1AAERAAEUAgVMvQAAxAAA9AAA+QABCAABEAABEQIFTLwAANkAAPgAAQkAARAAAR0AASkBqQEAAQgBpNEAANgAAQAAAREAARUAARwAASUAASgBqNAAANkAAOUAAQkAARAAARQAASQAASkBpNgAAOEAAOQAAO0AAQEAAQgBqOAAAOUAAOwAAPUAAQAAAQEAARUAASgBqQAAAQkBpOEAAOQAAO0AAPQAAQEAAQgAAREAARQBqOAAAOUBpOQAAOwAAPkAAQAAAQkAARAAARUBqO0AAPUAAPgAAQEAAQEAAQgAAREAARQBqMkAAPQAAQAAAQAAAQkAARABpMgAANEAAOwAAQEAAQgAAREBqNAAANkAAOUAAQAAAQkAARAAARUBpOQAAO0AAP0AAQgBqNEAANgAAOwAAPUAAPwAAQEAAREAARQCBUypAADQAAEAAAEJAAEQAAEVAajtAAD0AaSoAADFAADhAADsAAD1AAEBAAEIAAEUAgVQvQAAxAAA2QAA4AAA9AAA/QABAAABHQIFTLwAAMUAANEAANgAAPUAAPwAARUAARwBpPQAAP0BqMQAAM0AANAAANkAAPwAAQEAAREAARQBqMwAANEAANgAAOEBpMkAANAAANkAAOAAAOkAAQAAAQkAARABqNEAANgBpI0AAMgAAOgAAO0AAQgAAREBqMkAANAA1MUAAMgA1IwAAJ0AAMQAAM0AAOkAAOwAAQ0AARACBUycAAC5AADJAADMAAEFAAEMAgVMyAAA2QAA6AGpJQGkuAAAwQAA2AAA4QABHQABJAIFTMAAAMUAAN0AAOAAAQQAARkAARwCBVDEAADNAADcAADhAAD9AAEYAAEdAaT8AAEFAajJAADMAADgAADpAAD9AAEEAAEJAAEcAaTFAADIAai9AADEAAEIAAERAajhAADoAaS5AAC8AADgAADpAAENAAEQAaidAADdAADhAADoAAD8AaS4AADBAADgAAD9AAEMAaicAaixAADAAADcAADhAADxAAD8AaSwAAC5AADVAADgAAD1AajNAADUAADdAADwAaSpAACxAAC4AADMAADcAADhAADxAAD0AAD9AailAACoAACwAAC5AADVAADgAADwAAD1AAD8AaikAAC4AADBAADNAADUAAD0AAD9AaTAAADFAADMAADVAADhAAD8AAEFAai5AADEAADUAADgAaS4AgVRBAAH/LwA= type=piano-roll&gt;&lt;/midi-visualizer&gt;\n",
       "          &lt;/section&gt;\n",
       "          \" width=\"100%\" height=\"400\"\n",
       "            style=\"border:none !important;\"\n",
       "            \"allowfullscreen\" \"webkitallowfullscreen\" \"mozallowfullscreen\">'\n",
       "            </iframe>"
      ],
      "text/plain": [
       "<midi_player.midi_player.MIDIPlayer>"
      ]
     },
     "metadata": {},
     "output_type": "display_data"
    },
    {
     "data": {
      "text/html": [
       "<iframe srcdoc=\"&lt;script src=&quot;https://cdn.jsdelivr.net/combine/npm/tone@14.7.58,npm/@magenta/music@1.23.1/es6/core.js,npm/focus-visible@5,npm/html-midi-player@1.5.0&quot;&gt;&lt;/script&gt;\n",
       "\n",
       "&lt;style&gt;\n",
       "/* Custom player style */\n",
       "p { \n",
       "  margin:0; \n",
       "  color: #c4c4c4; /* mid-lightness text color for title, intended for dark backgrounds */\n",
       "}\n",
       "\n",
       "#section632 midi-player {\n",
       "  display: block;\n",
       "  width: inherit;\n",
       "  margin: 4px;\n",
       "  margin-bottom: 0;\n",
       "  color: #d4d4d4; /* Lighter text color for better readability */\n",
       "}\n",
       "#section632 midi-player::part(control-panel) {\n",
       "  background: #222; /* Dark background */\n",
       "  border: 2px solid #888; /* Lightened border color for contrast */\n",
       "  border-radius: 10px 10px 0 0;\n",
       "}\n",
       "#section632 midi-player::part(play-button) {\n",
       "  color: #ffffff; /* White text for visibility */\n",
       "  border: 2px solid currentColor;\n",
       "  background-color: #6c7a89; \n",
       "  border-radius: 20px;\n",
       "  transition: all 0.2s;\n",
       "  content: &#x27;hello&#x27;;\n",
       "}\n",
       "#section632 midi-player::part(play-button):hover {\n",
       "  color: #00a; \n",
       "  background-color: #9fafc9; \n",
       "  border-radius: 10px;\n",
       "}\n",
       "#section632 midi-player::part(time) {\n",
       "  font-family: monospace; /* Monospace font for time */\n",
       "}\n",
       "\n",
       "/* Custom visualizer style */\n",
       "#section632 midi-visualizer .piano-roll-visualizer {\n",
       "  background: #333; /* Dark background for visualizer */\n",
       "  border: 2px solid #505050; /* Dark border for subtle appearance */\n",
       "  border-top: none;\n",
       "  border-radius: 0 0 10px 10px;\n",
       "  margin: 4px;\n",
       "  width: inherit;\n",
       "  margin-top: 0;\n",
       "  overflow: auto;\n",
       "}\n",
       "#section632 midi-visualizer svg rect.note {\n",
       "  opacity: 0.9; \n",
       "  stroke-width: 1; /* Stroke width for note clarity */\n",
       "}\n",
       "\n",
       "/* Different instrument colors */\n",
       "#section632 midi-visualizer svg rect.note[data-instrument=&quot;0&quot;]{\n",
       "  fill: #7aa6ed; /*  blue for Instrument 0 */\n",
       "  stroke: #444; \n",
       "}\n",
       "#section632 midi-visualizer svg rect.note[data-instrument=&quot;2&quot;]{\n",
       "  fill: #d586d0; /* purple for Instrument 2 for consistency */\n",
       "  stroke: #444; /* White stroke for visibility */\n",
       "}\n",
       "#section632 midi-visualizer svg rect.note[data-is-drum=&quot;true&quot;]{\n",
       "  fill: brightorange; \n",
       "  stroke: #bbb;\n",
       "}\n",
       "#section632 midi-visualizer svg rect.note.active {\n",
       "  opacity: 0.9; /* Highlight active notes */\n",
       "  stroke: #ddd; /* White stroke for maximum contrast */\n",
       "  stroke-width: 2; /* Thicker stroke for active notes */\n",
       "}\n",
       "&lt;/style&gt;\n",
       "\n",
       "          &lt;section id=&quot;section632&quot;&gt;&lt;p style=&quot;text-align:left;font-family:Arial;&quot;&gt;Temperature = 0.85&lt;span style=&quot;float:right;&quot;&gt;&lt;a href=&quot;data:audio/midi;base64,TVRoZAAAAAYAAQACANxNVHJrAAAAEwD/UQMHoSAA/1gEBAIYCAH/LwBNVHJrAAAFCQDAAACQNkAAPUAAQkAARUBqPQAAPkBpNgAAPUAAPgAAQEAAQgBqQkBpO0AAPQAAPkAAQAAAQgAAREAARQAATEBqOUAAOwAAPUAAPgAARAAARUBqOEAAOQAAO0AAPQAARQAAR0CBUzgAADlAADsAAEBAAEcAAEpAAEwAaUlAAEoAaj5AAEAAAEJAAEdAAEkAajhAADkAaTZAADgAAD1AAD4AAEVAAEcAakBAAEIAaTYAADhAADtAAD0AAD9AAEAAAEUAAEdAajZAADgAajRAADYAADsAAEBAAERAAEcAaTQAADhAAD1AAD8Aai1AADgAAD0AAD1AAEQAAEVAgVMtAAAxQAA5QAA9AABFAABFQIFTMQAAM0AAOQAAO0AAQkAARQBqMwAAOwAAR0BpNEAAOEAAQAAAQEAAQgAARwAASUBqNAAANkAAOAAAOUAAP0AAQABqNEAANgAAOEAAOQAAPUAAPwAAREAASQBpNAAAOAAAR0BqMUAAO0AAPQAAQkAARABpMQAANkAAOwAAPkAAQgAAQkAARUAARwBqNgAAOEAAPgAAQEAAQgAAR0BqOAAAOUAAO0AAP0AAQAAAQkAARQAARwBpOUAAOwBqOEAAOQAAQEAAR0BpNkAAOABqNgAAOQAAOUAAPUAAPwAAQgAARUAARwCBUzJAADkAAD0AAD5AAEAAAEJAAEUAAEdAaj1AAD4AAEVAAEcAaTIAADRAADtAAD0AAERAAEUAajsAAEdAajJAADQAAEBAAEIAAEcAAElAaTIAADRAAEdAAEkAajQAADZAADpAAEJAAEQAAEcAgVM6AAA9QABAAABCAABGQIFTNgAAPQAARgAATEBqOEAAO0AAR0BpQkAARwBqOAAAOUAAOwAAQEAAQgAASUCBUzVAADkAAEAAAERAakwAaTUAADZAADtAAERAAEVAAEkAakJAAEQAAEUAajYAADlAADsAAD1AAEBAAEIAAEQAAElAgVM9AAA/QABAAABCQABHQABJAIFTOEAAOQAAPwAAQEAAQgAAREBqP0AAQABpMUAAM0AAOAAAPwAAQEAARAAARUAARwCBUzEAADMAADZAAElAajRAADYAajQAADhAAD9AAEAAAERAAEUAAEdAAEkAaTZAADgAajYAADpAAEJAAEQAAEcAAElAgVM6AAA7QAA/AABCAABHQABJAABLQGo6QGk7AAA9QABAQABHAABJQABLAGo6AAA7QGk2QAA9AABAAABAQABCQABGQABJAGo2AAA3QAA7AAA/QABAAGo3AAA4QABCAABGAABHQGk4AAA6QAA/AABAQABHAABJQGo6AAA7QABAAABCQABHQABJAABLQGk2QAA7AAA9QABCAABGQABHAABLAIR6NgAAPQAASUCBU0YAAEkAAExAgVM7QAA/QABHQABLQABMAIFUOwAAPUAAPwAAQEAAREAARwAASUAASwBpQkAARABqPQAAQAAAQgAARkAASQBpOEAAP0AAREAARgAAR0BqRAAARkAARwBqOAAARgAAS0BpNkAAO0AASwAATECBUzNAADYAADpAADsAAEtAAEwAhBA/AGo6AABDQIFTMwAAOEAAQwAAREAASwCBUzgAAEQAAEdAAEtAajpAAD1AAElAakcAAEsAaTdAADoAAD0AAD9AAEkAAEtAajcAADhAaS5AADgAAD1AAD8AAEZAgVQuAABGAABLAIFTPQAB/y8A&quot; target=&quot;_blank&quot;&gt;Download MIDI&lt;/a&gt;&lt;br&gt;&lt;/span&gt;&lt;/p&gt;\n",
       "          &lt;midi-player src=data:audio/midi;base64,TVRoZAAAAAYAAQACANxNVHJrAAAAEwD/UQMHoSAA/1gEBAIYCAH/LwBNVHJrAAAFCQDAAACQNkAAPUAAQkAARUBqPQAAPkBpNgAAPUAAPgAAQEAAQgBqQkBpO0AAPQAAPkAAQAAAQgAAREAARQAATEBqOUAAOwAAPUAAPgAARAAARUBqOEAAOQAAO0AAPQAARQAAR0CBUzgAADlAADsAAEBAAEcAAEpAAEwAaUlAAEoAaj5AAEAAAEJAAEdAAEkAajhAADkAaTZAADgAAD1AAD4AAEVAAEcAakBAAEIAaTYAADhAADtAAD0AAD9AAEAAAEUAAEdAajZAADgAajRAADYAADsAAEBAAERAAEcAaTQAADhAAD1AAD8Aai1AADgAAD0AAD1AAEQAAEVAgVMtAAAxQAA5QAA9AABFAABFQIFTMQAAM0AAOQAAO0AAQkAARQBqMwAAOwAAR0BpNEAAOEAAQAAAQEAAQgAARwAASUBqNAAANkAAOAAAOUAAP0AAQABqNEAANgAAOEAAOQAAPUAAPwAAREAASQBpNAAAOAAAR0BqMUAAO0AAPQAAQkAARABpMQAANkAAOwAAPkAAQgAAQkAARUAARwBqNgAAOEAAPgAAQEAAQgAAR0BqOAAAOUAAO0AAP0AAQAAAQkAARQAARwBpOUAAOwBqOEAAOQAAQEAAR0BpNkAAOABqNgAAOQAAOUAAPUAAPwAAQgAARUAARwCBUzJAADkAAD0AAD5AAEAAAEJAAEUAAEdAaj1AAD4AAEVAAEcAaTIAADRAADtAAD0AAERAAEUAajsAAEdAajJAADQAAEBAAEIAAEcAAElAaTIAADRAAEdAAEkAajQAADZAADpAAEJAAEQAAEcAgVM6AAA9QABAAABCAABGQIFTNgAAPQAARgAATEBqOEAAO0AAR0BpQkAARwBqOAAAOUAAOwAAQEAAQgAASUCBUzVAADkAAEAAAERAakwAaTUAADZAADtAAERAAEVAAEkAakJAAEQAAEUAajYAADlAADsAAD1AAEBAAEIAAEQAAElAgVM9AAA/QABAAABCQABHQABJAIFTOEAAOQAAPwAAQEAAQgAAREBqP0AAQABpMUAAM0AAOAAAPwAAQEAARAAARUAARwCBUzEAADMAADZAAElAajRAADYAajQAADhAAD9AAEAAAERAAEUAAEdAAEkAaTZAADgAajYAADpAAEJAAEQAAEcAAElAgVM6AAA7QAA/AABCAABHQABJAABLQGo6QGk7AAA9QABAQABHAABJQABLAGo6AAA7QGk2QAA9AABAAABAQABCQABGQABJAGo2AAA3QAA7AAA/QABAAGo3AAA4QABCAABGAABHQGk4AAA6QAA/AABAQABHAABJQGo6AAA7QABAAABCQABHQABJAABLQGk2QAA7AAA9QABCAABGQABHAABLAIR6NgAAPQAASUCBU0YAAEkAAExAgVM7QAA/QABHQABLQABMAIFUOwAAPUAAPwAAQEAAREAARwAASUAASwBpQkAARABqPQAAQAAAQgAARkAASQBpOEAAP0AAREAARgAAR0BqRAAARkAARwBqOAAARgAAS0BpNkAAO0AASwAATECBUzNAADYAADpAADsAAEtAAEwAhBA/AGo6AABDQIFTMwAAOEAAQwAAREAASwCBUzgAAEQAAEdAAEtAajpAAD1AAElAakcAAEsAaTdAADoAAD0AAD9AAEkAAEtAajcAADhAaS5AADgAAD1AAD8AAEZAgVQuAABGAABLAIFTPQAB/y8A sound-font visualizer=&quot;#section632 midi-visualizer&quot;&gt;&lt;/midi-player&gt;\n",
       "          &lt;midi-visualizer src=data:audio/midi;base64,TVRoZAAAAAYAAQACANxNVHJrAAAAEwD/UQMHoSAA/1gEBAIYCAH/LwBNVHJrAAAFCQDAAACQNkAAPUAAQkAARUBqPQAAPkBpNgAAPUAAPgAAQEAAQgBqQkBpO0AAPQAAPkAAQAAAQgAAREAARQAATEBqOUAAOwAAPUAAPgAARAAARUBqOEAAOQAAO0AAPQAARQAAR0CBUzgAADlAADsAAEBAAEcAAEpAAEwAaUlAAEoAaj5AAEAAAEJAAEdAAEkAajhAADkAaTZAADgAAD1AAD4AAEVAAEcAakBAAEIAaTYAADhAADtAAD0AAD9AAEAAAEUAAEdAajZAADgAajRAADYAADsAAEBAAERAAEcAaTQAADhAAD1AAD8Aai1AADgAAD0AAD1AAEQAAEVAgVMtAAAxQAA5QAA9AABFAABFQIFTMQAAM0AAOQAAO0AAQkAARQBqMwAAOwAAR0BpNEAAOEAAQAAAQEAAQgAARwAASUBqNAAANkAAOAAAOUAAP0AAQABqNEAANgAAOEAAOQAAPUAAPwAAREAASQBpNAAAOAAAR0BqMUAAO0AAPQAAQkAARABpMQAANkAAOwAAPkAAQgAAQkAARUAARwBqNgAAOEAAPgAAQEAAQgAAR0BqOAAAOUAAO0AAP0AAQAAAQkAARQAARwBpOUAAOwBqOEAAOQAAQEAAR0BpNkAAOABqNgAAOQAAOUAAPUAAPwAAQgAARUAARwCBUzJAADkAAD0AAD5AAEAAAEJAAEUAAEdAaj1AAD4AAEVAAEcAaTIAADRAADtAAD0AAERAAEUAajsAAEdAajJAADQAAEBAAEIAAEcAAElAaTIAADRAAEdAAEkAajQAADZAADpAAEJAAEQAAEcAgVM6AAA9QABAAABCAABGQIFTNgAAPQAARgAATEBqOEAAO0AAR0BpQkAARwBqOAAAOUAAOwAAQEAAQgAASUCBUzVAADkAAEAAAERAakwAaTUAADZAADtAAERAAEVAAEkAakJAAEQAAEUAajYAADlAADsAAD1AAEBAAEIAAEQAAElAgVM9AAA/QABAAABCQABHQABJAIFTOEAAOQAAPwAAQEAAQgAAREBqP0AAQABpMUAAM0AAOAAAPwAAQEAARAAARUAARwCBUzEAADMAADZAAElAajRAADYAajQAADhAAD9AAEAAAERAAEUAAEdAAEkAaTZAADgAajYAADpAAEJAAEQAAEcAAElAgVM6AAA7QAA/AABCAABHQABJAABLQGo6QGk7AAA9QABAQABHAABJQABLAGo6AAA7QGk2QAA9AABAAABAQABCQABGQABJAGo2AAA3QAA7AAA/QABAAGo3AAA4QABCAABGAABHQGk4AAA6QAA/AABAQABHAABJQGo6AAA7QABAAABCQABHQABJAABLQGk2QAA7AAA9QABCAABGQABHAABLAIR6NgAAPQAASUCBU0YAAEkAAExAgVM7QAA/QABHQABLQABMAIFUOwAAPUAAPwAAQEAAREAARwAASUAASwBpQkAARABqPQAAQAAAQgAARkAASQBpOEAAP0AAREAARgAAR0BqRAAARkAARwBqOAAARgAAS0BpNkAAO0AASwAATECBUzNAADYAADpAADsAAEtAAEwAhBA/AGo6AABDQIFTMwAAOEAAQwAAREAASwCBUzgAAEQAAEdAAEtAajpAAD1AAElAakcAAEsAaTdAADoAAD0AAD9AAEkAAEtAajcAADhAaS5AADgAAD1AAD8AAEZAgVQuAABGAABLAIFTPQAB/y8A type=piano-roll&gt;&lt;/midi-visualizer&gt;\n",
       "          &lt;/section&gt;\n",
       "          \" width=\"100%\" height=\"400\"\n",
       "            style=\"border:none !important;\"\n",
       "            \"allowfullscreen\" \"webkitallowfullscreen\" \"mozallowfullscreen\">'\n",
       "            </iframe>"
      ],
      "text/plain": [
       "<midi_player.midi_player.MIDIPlayer>"
      ]
     },
     "metadata": {},
     "output_type": "display_data"
    },
    {
     "data": {
      "text/html": [
       "<iframe srcdoc=\"&lt;script src=&quot;https://cdn.jsdelivr.net/combine/npm/tone@14.7.58,npm/@magenta/music@1.23.1/es6/core.js,npm/focus-visible@5,npm/html-midi-player@1.5.0&quot;&gt;&lt;/script&gt;\n",
       "\n",
       "&lt;style&gt;\n",
       "/* Custom player style */\n",
       "p { \n",
       "  margin:0; \n",
       "  color: #c4c4c4; /* mid-lightness text color for title, intended for dark backgrounds */\n",
       "}\n",
       "\n",
       "#section632 midi-player {\n",
       "  display: block;\n",
       "  width: inherit;\n",
       "  margin: 4px;\n",
       "  margin-bottom: 0;\n",
       "  color: #d4d4d4; /* Lighter text color for better readability */\n",
       "}\n",
       "#section632 midi-player::part(control-panel) {\n",
       "  background: #222; /* Dark background */\n",
       "  border: 2px solid #888; /* Lightened border color for contrast */\n",
       "  border-radius: 10px 10px 0 0;\n",
       "}\n",
       "#section632 midi-player::part(play-button) {\n",
       "  color: #ffffff; /* White text for visibility */\n",
       "  border: 2px solid currentColor;\n",
       "  background-color: #6c7a89; \n",
       "  border-radius: 20px;\n",
       "  transition: all 0.2s;\n",
       "  content: &#x27;hello&#x27;;\n",
       "}\n",
       "#section632 midi-player::part(play-button):hover {\n",
       "  color: #00a; \n",
       "  background-color: #9fafc9; \n",
       "  border-radius: 10px;\n",
       "}\n",
       "#section632 midi-player::part(time) {\n",
       "  font-family: monospace; /* Monospace font for time */\n",
       "}\n",
       "\n",
       "/* Custom visualizer style */\n",
       "#section632 midi-visualizer .piano-roll-visualizer {\n",
       "  background: #333; /* Dark background for visualizer */\n",
       "  border: 2px solid #505050; /* Dark border for subtle appearance */\n",
       "  border-top: none;\n",
       "  border-radius: 0 0 10px 10px;\n",
       "  margin: 4px;\n",
       "  width: inherit;\n",
       "  margin-top: 0;\n",
       "  overflow: auto;\n",
       "}\n",
       "#section632 midi-visualizer svg rect.note {\n",
       "  opacity: 0.9; \n",
       "  stroke-width: 1; /* Stroke width for note clarity */\n",
       "}\n",
       "\n",
       "/* Different instrument colors */\n",
       "#section632 midi-visualizer svg rect.note[data-instrument=&quot;0&quot;]{\n",
       "  fill: #7aa6ed; /*  blue for Instrument 0 */\n",
       "  stroke: #444; \n",
       "}\n",
       "#section632 midi-visualizer svg rect.note[data-instrument=&quot;2&quot;]{\n",
       "  fill: #d586d0; /* purple for Instrument 2 for consistency */\n",
       "  stroke: #444; /* White stroke for visibility */\n",
       "}\n",
       "#section632 midi-visualizer svg rect.note[data-is-drum=&quot;true&quot;]{\n",
       "  fill: brightorange; \n",
       "  stroke: #bbb;\n",
       "}\n",
       "#section632 midi-visualizer svg rect.note.active {\n",
       "  opacity: 0.9; /* Highlight active notes */\n",
       "  stroke: #ddd; /* White stroke for maximum contrast */\n",
       "  stroke-width: 2; /* Thicker stroke for active notes */\n",
       "}\n",
       "&lt;/style&gt;\n",
       "\n",
       "          &lt;section id=&quot;section632&quot;&gt;&lt;p style=&quot;text-align:left;font-family:Arial;&quot;&gt;Temperature = 0.92&lt;span style=&quot;float:right;&quot;&gt;&lt;a href=&quot;data:audio/midi;base64,TVRoZAAAAAYAAQACANxNVHJrAAAAEwD/UQMHoSAA/1gEBAIYCAH/LwBNVHJrAAAE9QDAAACQNkAAPUAAQkAARUBqPQAAPkBpNgAAPUAAPgAAQEAAQgBqQkBpO0AAPQAAPkAAQAAAQgAAREAARQAATEBqOUAAOwAAPUAAPgAARAAARUBqOEAAOQAAO0AAPQAARQAAR0CBUzgAADlAADsAAEBAAEcAAEpAAEwAaUlAAEoAaj5AAEAAAEJAAEdAAEkAajdAADkAaTZAADcAAD1AAD4AAEVAAEcAakBAAEIAaTYAADdAADtAAD0AAD5AAEAAAEUAAEdAajZAADcAAD4AAD9AajRAADYAADdAADsAAD8AAEBAAEcAAElAaTZAADcAajJAADQAADYAADlAAEAAAEJAAEdAAEkAaTIAADRAADhAADkAajQAADZAADgAADlAAD1AAEIAAEVAAEcAajYAADhAADtAAD0AaTZAADgAADkAADsAAD1AAERAAEUAajtAAD0AAD5AaTFAADYAADsAAD1AAD4AAEFAAEQAAERANX9ANX9ANX8AAH9ANX8AAH9ANH8AAH9ANX8AAH9ANX8AAH9ANTEAAD0AAEEAAEQAAH8AAH9ANX8AAH9ANH8AAH9ANX8AAH9ANX8AAH9ANX8AAH9ANX8AAH9ANH8AAH9ANX8AAH9ANX8AAH9ANX8AAH9ANX8AAH9ANH8AAH9ANX8AAH9ANX8AAH9ANX8AAH9ANX8AAH9ANH8AAH9ANX8AAH9ANX8AAH9ANX8AAH9ANX8AAH9ANH8AAH9ANX8AAH9ANX8AAH9ANX8AAH9ANX8AAH9ANH8AAH9ANX8AAH9ANX8AAH9ANX8AAH9ANX8AAH9ANH8AAH9ANX8AAH9ANX8AAH9ANX8AAH9ANX8AAH9ANH8AAH9ANX8AAH9ANX8AAH9ANX8AAH9ANX8AAH9ANH8AAH9ANX8AAH9ANX8AAH9ANX8AAH9ANX8AAH9ANH8AAH9ANX8AAH9ANX8AAH9ANX8AAH9ANX8AAH9ANH8AAH9ANX8AAH9ANX8AAH9ANX8AAH9ANX8AAH9ANH8AAH9ANX8AAH9ANX8AAH9ANX8AAH9ANX8AAH9ANH8AAH9ANX8AAH9ANX8AAH9ANX8AAH9ANX8AAH9ANH8AAH9ANX8AAH9ANX8AAH9ANX8AAH9ANX8AAH9ANH8AAH9ANX8AAH9ANX8AAH9ANX8AAH9ANX8AAH9ANH8AAH9ANX8AAH9ANX8AAH9ANX8AAH9ANX8AAH9ANH8AAH9ANX8AAH9ANX8AAH9ANX8AAH9ANX8AAH9ANH8AAH9ANX8AAH9ANX8AAH9ANX8AAH9ANX8AAH9ANH8AAH9ANX8AAH9ANX8AAH9ANX8AAH9ANX8AAH9ANH8AAH9ANX8AAH9ANX8AAH9ANX8AAH9ANX8AAH9ANH8AAH9ANX8AAH9ANX8AAH9ANX8AAH9ANX8AAH9ANH8AAH9ANX8AAH9ANX8AAH9ANX8AAH9ANX8AAH9ANH8AAH9ANX8AAH9ANX8AAH9ANX8AAH9ANX8AAH9ANH8AAH9ANX8AAH9ANX8AAH9ANX8AAH9ANX8AAH9ANH8AAH9ANX8AAH9ANX8AAH9ANX8AAH9ANX8AAH9ANH8AAH9ANX8AAH9ANX8AAH9ANX8AAH9ANX8AAH9ANH8AAH9ANX8AAH9ANX8AAH9ANX8AAH9ANX8AAH9ANH8AAH9ANX8AAH9ANX8AAH9ANX8AAH9ANX8ANH8AAf8vAA==&quot; target=&quot;_blank&quot;&gt;Download MIDI&lt;/a&gt;&lt;br&gt;&lt;/span&gt;&lt;/p&gt;\n",
       "          &lt;midi-player src=data:audio/midi;base64,TVRoZAAAAAYAAQACANxNVHJrAAAAEwD/UQMHoSAA/1gEBAIYCAH/LwBNVHJrAAAE9QDAAACQNkAAPUAAQkAARUBqPQAAPkBpNgAAPUAAPgAAQEAAQgBqQkBpO0AAPQAAPkAAQAAAQgAAREAARQAATEBqOUAAOwAAPUAAPgAARAAARUBqOEAAOQAAO0AAPQAARQAAR0CBUzgAADlAADsAAEBAAEcAAEpAAEwAaUlAAEoAaj5AAEAAAEJAAEdAAEkAajdAADkAaTZAADcAAD1AAD4AAEVAAEcAakBAAEIAaTYAADdAADtAAD0AAD5AAEAAAEUAAEdAajZAADcAAD4AAD9AajRAADYAADdAADsAAD8AAEBAAEcAAElAaTZAADcAajJAADQAADYAADlAAEAAAEJAAEdAAEkAaTIAADRAADhAADkAajQAADZAADgAADlAAD1AAEIAAEVAAEcAajYAADhAADtAAD0AaTZAADgAADkAADsAAD1AAERAAEUAajtAAD0AAD5AaTFAADYAADsAAD1AAD4AAEFAAEQAAERANX9ANX9ANX8AAH9ANX8AAH9ANH8AAH9ANX8AAH9ANX8AAH9ANTEAAD0AAEEAAEQAAH8AAH9ANX8AAH9ANH8AAH9ANX8AAH9ANX8AAH9ANX8AAH9ANX8AAH9ANH8AAH9ANX8AAH9ANX8AAH9ANX8AAH9ANX8AAH9ANH8AAH9ANX8AAH9ANX8AAH9ANX8AAH9ANX8AAH9ANH8AAH9ANX8AAH9ANX8AAH9ANX8AAH9ANX8AAH9ANH8AAH9ANX8AAH9ANX8AAH9ANX8AAH9ANX8AAH9ANH8AAH9ANX8AAH9ANX8AAH9ANX8AAH9ANX8AAH9ANH8AAH9ANX8AAH9ANX8AAH9ANX8AAH9ANX8AAH9ANH8AAH9ANX8AAH9ANX8AAH9ANX8AAH9ANX8AAH9ANH8AAH9ANX8AAH9ANX8AAH9ANX8AAH9ANX8AAH9ANH8AAH9ANX8AAH9ANX8AAH9ANX8AAH9ANX8AAH9ANH8AAH9ANX8AAH9ANX8AAH9ANX8AAH9ANX8AAH9ANH8AAH9ANX8AAH9ANX8AAH9ANX8AAH9ANX8AAH9ANH8AAH9ANX8AAH9ANX8AAH9ANX8AAH9ANX8AAH9ANH8AAH9ANX8AAH9ANX8AAH9ANX8AAH9ANX8AAH9ANH8AAH9ANX8AAH9ANX8AAH9ANX8AAH9ANX8AAH9ANH8AAH9ANX8AAH9ANX8AAH9ANX8AAH9ANX8AAH9ANH8AAH9ANX8AAH9ANX8AAH9ANX8AAH9ANX8AAH9ANH8AAH9ANX8AAH9ANX8AAH9ANX8AAH9ANX8AAH9ANH8AAH9ANX8AAH9ANX8AAH9ANX8AAH9ANX8AAH9ANH8AAH9ANX8AAH9ANX8AAH9ANX8AAH9ANX8AAH9ANH8AAH9ANX8AAH9ANX8AAH9ANX8AAH9ANX8AAH9ANH8AAH9ANX8AAH9ANX8AAH9ANX8AAH9ANX8AAH9ANH8AAH9ANX8AAH9ANX8AAH9ANX8AAH9ANX8AAH9ANH8AAH9ANX8AAH9ANX8AAH9ANX8AAH9ANX8AAH9ANH8AAH9ANX8AAH9ANX8AAH9ANX8AAH9ANX8AAH9ANH8AAH9ANX8AAH9ANX8AAH9ANX8AAH9ANX8AAH9ANH8AAH9ANX8AAH9ANX8AAH9ANX8AAH9ANX8AAH9ANH8AAH9ANX8AAH9ANX8AAH9ANX8AAH9ANX8ANH8AAf8vAA== sound-font visualizer=&quot;#section632 midi-visualizer&quot;&gt;&lt;/midi-player&gt;\n",
       "          &lt;midi-visualizer src=data:audio/midi;base64,TVRoZAAAAAYAAQACANxNVHJrAAAAEwD/UQMHoSAA/1gEBAIYCAH/LwBNVHJrAAAE9QDAAACQNkAAPUAAQkAARUBqPQAAPkBpNgAAPUAAPgAAQEAAQgBqQkBpO0AAPQAAPkAAQAAAQgAAREAARQAATEBqOUAAOwAAPUAAPgAARAAARUBqOEAAOQAAO0AAPQAARQAAR0CBUzgAADlAADsAAEBAAEcAAEpAAEwAaUlAAEoAaj5AAEAAAEJAAEdAAEkAajdAADkAaTZAADcAAD1AAD4AAEVAAEcAakBAAEIAaTYAADdAADtAAD0AAD5AAEAAAEUAAEdAajZAADcAAD4AAD9AajRAADYAADdAADsAAD8AAEBAAEcAAElAaTZAADcAajJAADQAADYAADlAAEAAAEJAAEdAAEkAaTIAADRAADhAADkAajQAADZAADgAADlAAD1AAEIAAEVAAEcAajYAADhAADtAAD0AaTZAADgAADkAADsAAD1AAERAAEUAajtAAD0AAD5AaTFAADYAADsAAD1AAD4AAEFAAEQAAERANX9ANX9ANX8AAH9ANX8AAH9ANH8AAH9ANX8AAH9ANX8AAH9ANTEAAD0AAEEAAEQAAH8AAH9ANX8AAH9ANH8AAH9ANX8AAH9ANX8AAH9ANX8AAH9ANX8AAH9ANH8AAH9ANX8AAH9ANX8AAH9ANX8AAH9ANX8AAH9ANH8AAH9ANX8AAH9ANX8AAH9ANX8AAH9ANX8AAH9ANH8AAH9ANX8AAH9ANX8AAH9ANX8AAH9ANX8AAH9ANH8AAH9ANX8AAH9ANX8AAH9ANX8AAH9ANX8AAH9ANH8AAH9ANX8AAH9ANX8AAH9ANX8AAH9ANX8AAH9ANH8AAH9ANX8AAH9ANX8AAH9ANX8AAH9ANX8AAH9ANH8AAH9ANX8AAH9ANX8AAH9ANX8AAH9ANX8AAH9ANH8AAH9ANX8AAH9ANX8AAH9ANX8AAH9ANX8AAH9ANH8AAH9ANX8AAH9ANX8AAH9ANX8AAH9ANX8AAH9ANH8AAH9ANX8AAH9ANX8AAH9ANX8AAH9ANX8AAH9ANH8AAH9ANX8AAH9ANX8AAH9ANX8AAH9ANX8AAH9ANH8AAH9ANX8AAH9ANX8AAH9ANX8AAH9ANX8AAH9ANH8AAH9ANX8AAH9ANX8AAH9ANX8AAH9ANX8AAH9ANH8AAH9ANX8AAH9ANX8AAH9ANX8AAH9ANX8AAH9ANH8AAH9ANX8AAH9ANX8AAH9ANX8AAH9ANX8AAH9ANH8AAH9ANX8AAH9ANX8AAH9ANX8AAH9ANX8AAH9ANH8AAH9ANX8AAH9ANX8AAH9ANX8AAH9ANX8AAH9ANH8AAH9ANX8AAH9ANX8AAH9ANX8AAH9ANX8AAH9ANH8AAH9ANX8AAH9ANX8AAH9ANX8AAH9ANX8AAH9ANH8AAH9ANX8AAH9ANX8AAH9ANX8AAH9ANX8AAH9ANH8AAH9ANX8AAH9ANX8AAH9ANX8AAH9ANX8AAH9ANH8AAH9ANX8AAH9ANX8AAH9ANX8AAH9ANX8AAH9ANH8AAH9ANX8AAH9ANX8AAH9ANX8AAH9ANX8AAH9ANH8AAH9ANX8AAH9ANX8AAH9ANX8AAH9ANX8AAH9ANH8AAH9ANX8AAH9ANX8AAH9ANX8AAH9ANX8AAH9ANH8AAH9ANX8AAH9ANX8AAH9ANX8AAH9ANX8AAH9ANH8AAH9ANX8AAH9ANX8AAH9ANX8AAH9ANX8ANH8AAf8vAA== type=piano-roll&gt;&lt;/midi-visualizer&gt;\n",
       "          &lt;/section&gt;\n",
       "          \" width=\"100%\" height=\"400\"\n",
       "            style=\"border:none !important;\"\n",
       "            \"allowfullscreen\" \"webkitallowfullscreen\" \"mozallowfullscreen\">'\n",
       "            </iframe>"
      ],
      "text/plain": [
       "<midi_player.midi_player.MIDIPlayer>"
      ]
     },
     "metadata": {},
     "output_type": "display_data"
    },
    {
     "data": {
      "text/html": [
       "<iframe srcdoc=\"&lt;script src=&quot;https://cdn.jsdelivr.net/combine/npm/tone@14.7.58,npm/@magenta/music@1.23.1/es6/core.js,npm/focus-visible@5,npm/html-midi-player@1.5.0&quot;&gt;&lt;/script&gt;\n",
       "\n",
       "&lt;style&gt;\n",
       "/* Custom player style */\n",
       "p { \n",
       "  margin:0; \n",
       "  color: #c4c4c4; /* mid-lightness text color for title, intended for dark backgrounds */\n",
       "}\n",
       "\n",
       "#section632 midi-player {\n",
       "  display: block;\n",
       "  width: inherit;\n",
       "  margin: 4px;\n",
       "  margin-bottom: 0;\n",
       "  color: #d4d4d4; /* Lighter text color for better readability */\n",
       "}\n",
       "#section632 midi-player::part(control-panel) {\n",
       "  background: #222; /* Dark background */\n",
       "  border: 2px solid #888; /* Lightened border color for contrast */\n",
       "  border-radius: 10px 10px 0 0;\n",
       "}\n",
       "#section632 midi-player::part(play-button) {\n",
       "  color: #ffffff; /* White text for visibility */\n",
       "  border: 2px solid currentColor;\n",
       "  background-color: #6c7a89; \n",
       "  border-radius: 20px;\n",
       "  transition: all 0.2s;\n",
       "  content: &#x27;hello&#x27;;\n",
       "}\n",
       "#section632 midi-player::part(play-button):hover {\n",
       "  color: #00a; \n",
       "  background-color: #9fafc9; \n",
       "  border-radius: 10px;\n",
       "}\n",
       "#section632 midi-player::part(time) {\n",
       "  font-family: monospace; /* Monospace font for time */\n",
       "}\n",
       "\n",
       "/* Custom visualizer style */\n",
       "#section632 midi-visualizer .piano-roll-visualizer {\n",
       "  background: #333; /* Dark background for visualizer */\n",
       "  border: 2px solid #505050; /* Dark border for subtle appearance */\n",
       "  border-top: none;\n",
       "  border-radius: 0 0 10px 10px;\n",
       "  margin: 4px;\n",
       "  width: inherit;\n",
       "  margin-top: 0;\n",
       "  overflow: auto;\n",
       "}\n",
       "#section632 midi-visualizer svg rect.note {\n",
       "  opacity: 0.9; \n",
       "  stroke-width: 1; /* Stroke width for note clarity */\n",
       "}\n",
       "\n",
       "/* Different instrument colors */\n",
       "#section632 midi-visualizer svg rect.note[data-instrument=&quot;0&quot;]{\n",
       "  fill: #7aa6ed; /*  blue for Instrument 0 */\n",
       "  stroke: #444; \n",
       "}\n",
       "#section632 midi-visualizer svg rect.note[data-instrument=&quot;2&quot;]{\n",
       "  fill: #d586d0; /* purple for Instrument 2 for consistency */\n",
       "  stroke: #444; /* White stroke for visibility */\n",
       "}\n",
       "#section632 midi-visualizer svg rect.note[data-is-drum=&quot;true&quot;]{\n",
       "  fill: brightorange; \n",
       "  stroke: #bbb;\n",
       "}\n",
       "#section632 midi-visualizer svg rect.note.active {\n",
       "  opacity: 0.9; /* Highlight active notes */\n",
       "  stroke: #ddd; /* White stroke for maximum contrast */\n",
       "  stroke-width: 2; /* Thicker stroke for active notes */\n",
       "}\n",
       "&lt;/style&gt;\n",
       "\n",
       "          &lt;section id=&quot;section632&quot;&gt;&lt;p style=&quot;text-align:left;font-family:Arial;&quot;&gt;Temperature = 1.0&lt;span style=&quot;float:right;&quot;&gt;&lt;a href=&quot;data:audio/midi;base64,TVRoZAAAAAYAAQACANxNVHJrAAAAEwD/UQMHoSAA/1gEBAIYCAH/LwBNVHJrAAAFBwDAAACQNkAAPUAAQkAARUBqPQAAPkBpNgAAPUAAPgAAQEAAQgBqQkBpO0AAPQAAPkAAQAAAQgAAREAARQAATEBqOUAAOwAAPUAAPgAARAAARUBqOEAAOQAAO0AAPQAARQAAR0CBUzgAADlAADsAAEBAAEcAAEpAAEwAaUlAAEoAaj5AAEAAAEJAAEdAAEkAajdAADkAaTZAADcAAD1AAD4AAEVAAEcAakBAAEIAaTYAADdAADtAAD0AAD5AAEAAAEUAAEdAajZAADcAajRAADYAAD4AAEBAAENAAEcAaTQAADZAAEJAAEMAajRAADYAAEIAAENAgVM0AAA5QABDAABFQIFTNkAAOQAAPkAAQkAARQAASkBqOwAAQEAAQgAASUAASgBpNgAAN0AAPgAAPkAAQAAAQAAAR0AASQBqRwAASUBqNkAANwAAOUAAPgAASkBpOQAAPkAAQkAASQBqNgAAPgAAR0AASgBpOUAAPUAAQEBqRwBqMkAAOQAAPQAAPkAAQAAAQgAARUBpSUBqMgAANEAAPgAAQEAAQ0AARQAAR0BpNAAANkAAQAAAQkAAQwAASQAASkBqNEAANgAAQ0AARwAASUAASgBqQkAAQwAAR0AASQBpQgAARwAAR0CBUzQAAD5AAEBAaj1AAD4AAEAAAEBAaj0AAD5AaTpAAD4AAD5AAEAAAEJAakBAAEFAAEIAaTtAAEAAakBAAEEAAEcAajsAADxAAD4AAEAAAEJAaToAAEIAajdAAD5AAEIAAENAAEZAaTcAADlAajRAADkAADwAajtAAD4AAEMANDdAADsANTcAAD1AajQAADZAAD0AAEBAAEVAaTJAADYAAD5AAEAAAEJAAEYAaj1AAD4Aai1AADIAADRAAD0AAEBAAEIAaUNAai0AADJAADQAADZAAD5AAEAAAEUAAEVAgVNDAGpCQGkyAABFAGo5QAA9QABCAABJQIFTPQAAPgAAQEAAQEAASQAASkBqNgBpN0AAOQAAPkAAQAAAQAAAQ0AASgAATECBUzZAADcAAD1AAD4AAEMAAEVAAEpAAEwAgVQ2AAA3QAA9AAA+QGk8QAA+AGo3AABDQABFAABKAGkyQAA8AAA+QABFQABOQGo3QABDAABOAABTQGoyAAA0QAA3AAA7QAA+AABDQABFAGlCQABDAABRQGo0AAA7AAA8QABTAGkzQAA8AABAQGo5QABCAGozAAA7QABAAABKQABPQABRAGk5AABCQABIQABKAGo3QAA7AAA7QABCAABHQABIAABOQABPAGlDQABHAGo7AAA8QABDAABFQGpAQABFAGkvQAA3AAA8AAA+QABAAABCQABHQABOAIFTLwAAOUCBVD1AAD4AAEIAAExAaTkAAEwAAE9Aaj0AAD5AAEVAAE5AAE8AgVM+AABFAABHAABOAABRQGpAQABDQABHQABPQABRAGlCQABDAABFQABHAABPAABRQGo3QAA+QABAAABCAABFAABHQABRAABTQGk3AAA5QAA+AABAQABHAABJQABRQABTAGpHQABJAGo5AAA7QABAAABCQABHAABKQABRAIR5OwAASgAAU0BqQ0BpQgBqPEAATECBUztAADwAAEJAAEVAAEtAAEwAgVNDAABTAIFUOwAAQEAARQAASwAATECBUz5AAEAAAEdAAEwAAE5AgVM3QAA+AABHAIFTNwAATgCBU0IAAf8vAA==&quot; target=&quot;_blank&quot;&gt;Download MIDI&lt;/a&gt;&lt;br&gt;&lt;/span&gt;&lt;/p&gt;\n",
       "          &lt;midi-player src=data:audio/midi;base64,TVRoZAAAAAYAAQACANxNVHJrAAAAEwD/UQMHoSAA/1gEBAIYCAH/LwBNVHJrAAAFBwDAAACQNkAAPUAAQkAARUBqPQAAPkBpNgAAPUAAPgAAQEAAQgBqQkBpO0AAPQAAPkAAQAAAQgAAREAARQAATEBqOUAAOwAAPUAAPgAARAAARUBqOEAAOQAAO0AAPQAARQAAR0CBUzgAADlAADsAAEBAAEcAAEpAAEwAaUlAAEoAaj5AAEAAAEJAAEdAAEkAajdAADkAaTZAADcAAD1AAD4AAEVAAEcAakBAAEIAaTYAADdAADtAAD0AAD5AAEAAAEUAAEdAajZAADcAajRAADYAAD4AAEBAAENAAEcAaTQAADZAAEJAAEMAajRAADYAAEIAAENAgVM0AAA5QABDAABFQIFTNkAAOQAAPkAAQkAARQAASkBqOwAAQEAAQgAASUAASgBpNgAAN0AAPgAAPkAAQAAAQAAAR0AASQBqRwAASUBqNkAANwAAOUAAPgAASkBpOQAAPkAAQkAASQBqNgAAPgAAR0AASgBpOUAAPUAAQEBqRwBqMkAAOQAAPQAAPkAAQAAAQgAARUBpSUBqMgAANEAAPgAAQEAAQ0AARQAAR0BpNAAANkAAQAAAQkAAQwAASQAASkBqNEAANgAAQ0AARwAASUAASgBqQkAAQwAAR0AASQBpQgAARwAAR0CBUzQAAD5AAEBAaj1AAD4AAEAAAEBAaj0AAD5AaTpAAD4AAD5AAEAAAEJAakBAAEFAAEIAaTtAAEAAakBAAEEAAEcAajsAADxAAD4AAEAAAEJAaToAAEIAajdAAD5AAEIAAENAAEZAaTcAADlAajRAADkAADwAajtAAD4AAEMANDdAADsANTcAAD1AajQAADZAAD0AAEBAAEVAaTJAADYAAD5AAEAAAEJAAEYAaj1AAD4Aai1AADIAADRAAD0AAEBAAEIAaUNAai0AADJAADQAADZAAD5AAEAAAEUAAEVAgVNDAGpCQGkyAABFAGo5QAA9QABCAABJQIFTPQAAPgAAQEAAQEAASQAASkBqNgBpN0AAOQAAPkAAQAAAQAAAQ0AASgAATECBUzZAADcAAD1AAD4AAEMAAEVAAEpAAEwAgVQ2AAA3QAA9AAA+QGk8QAA+AGo3AABDQABFAABKAGkyQAA8AAA+QABFQABOQGo3QABDAABOAABTQGoyAAA0QAA3AAA7QAA+AABDQABFAGlCQABDAABRQGo0AAA7AAA8QABTAGkzQAA8AABAQGo5QABCAGozAAA7QABAAABKQABPQABRAGk5AABCQABIQABKAGo3QAA7AAA7QABCAABHQABIAABOQABPAGlDQABHAGo7AAA8QABDAABFQGpAQABFAGkvQAA3AAA8AAA+QABAAABCQABHQABOAIFTLwAAOUCBVD1AAD4AAEIAAExAaTkAAEwAAE9Aaj0AAD5AAEVAAE5AAE8AgVM+AABFAABHAABOAABRQGpAQABDQABHQABPQABRAGlCQABDAABFQABHAABPAABRQGo3QAA+QABAAABCAABFAABHQABRAABTQGk3AAA5QAA+AABAQABHAABJQABRQABTAGpHQABJAGo5AAA7QABAAABCQABHAABKQABRAIR5OwAASgAAU0BqQ0BpQgBqPEAATECBUztAADwAAEJAAEVAAEtAAEwAgVNDAABTAIFUOwAAQEAARQAASwAATECBUz5AAEAAAEdAAEwAAE5AgVM3QAA+AABHAIFTNwAATgCBU0IAAf8vAA== sound-font visualizer=&quot;#section632 midi-visualizer&quot;&gt;&lt;/midi-player&gt;\n",
       "          &lt;midi-visualizer src=data:audio/midi;base64,TVRoZAAAAAYAAQACANxNVHJrAAAAEwD/UQMHoSAA/1gEBAIYCAH/LwBNVHJrAAAFBwDAAACQNkAAPUAAQkAARUBqPQAAPkBpNgAAPUAAPgAAQEAAQgBqQkBpO0AAPQAAPkAAQAAAQgAAREAARQAATEBqOUAAOwAAPUAAPgAARAAARUBqOEAAOQAAO0AAPQAARQAAR0CBUzgAADlAADsAAEBAAEcAAEpAAEwAaUlAAEoAaj5AAEAAAEJAAEdAAEkAajdAADkAaTZAADcAAD1AAD4AAEVAAEcAakBAAEIAaTYAADdAADtAAD0AAD5AAEAAAEUAAEdAajZAADcAajRAADYAAD4AAEBAAENAAEcAaTQAADZAAEJAAEMAajRAADYAAEIAAENAgVM0AAA5QABDAABFQIFTNkAAOQAAPkAAQkAARQAASkBqOwAAQEAAQgAASUAASgBpNgAAN0AAPgAAPkAAQAAAQAAAR0AASQBqRwAASUBqNkAANwAAOUAAPgAASkBpOQAAPkAAQkAASQBqNgAAPgAAR0AASgBpOUAAPUAAQEBqRwBqMkAAOQAAPQAAPkAAQAAAQgAARUBpSUBqMgAANEAAPgAAQEAAQ0AARQAAR0BpNAAANkAAQAAAQkAAQwAASQAASkBqNEAANgAAQ0AARwAASUAASgBqQkAAQwAAR0AASQBpQgAARwAAR0CBUzQAAD5AAEBAaj1AAD4AAEAAAEBAaj0AAD5AaTpAAD4AAD5AAEAAAEJAakBAAEFAAEIAaTtAAEAAakBAAEEAAEcAajsAADxAAD4AAEAAAEJAaToAAEIAajdAAD5AAEIAAENAAEZAaTcAADlAajRAADkAADwAajtAAD4AAEMANDdAADsANTcAAD1AajQAADZAAD0AAEBAAEVAaTJAADYAAD5AAEAAAEJAAEYAaj1AAD4Aai1AADIAADRAAD0AAEBAAEIAaUNAai0AADJAADQAADZAAD5AAEAAAEUAAEVAgVNDAGpCQGkyAABFAGo5QAA9QABCAABJQIFTPQAAPgAAQEAAQEAASQAASkBqNgBpN0AAOQAAPkAAQAAAQAAAQ0AASgAATECBUzZAADcAAD1AAD4AAEMAAEVAAEpAAEwAgVQ2AAA3QAA9AAA+QGk8QAA+AGo3AABDQABFAABKAGkyQAA8AAA+QABFQABOQGo3QABDAABOAABTQGoyAAA0QAA3AAA7QAA+AABDQABFAGlCQABDAABRQGo0AAA7AAA8QABTAGkzQAA8AABAQGo5QABCAGozAAA7QABAAABKQABPQABRAGk5AABCQABIQABKAGo3QAA7AAA7QABCAABHQABIAABOQABPAGlDQABHAGo7AAA8QABDAABFQGpAQABFAGkvQAA3AAA8AAA+QABAAABCQABHQABOAIFTLwAAOUCBVD1AAD4AAEIAAExAaTkAAEwAAE9Aaj0AAD5AAEVAAE5AAE8AgVM+AABFAABHAABOAABRQGpAQABDQABHQABPQABRAGlCQABDAABFQABHAABPAABRQGo3QAA+QABAAABCAABFAABHQABRAABTQGk3AAA5QAA+AABAQABHAABJQABRQABTAGpHQABJAGo5AAA7QABAAABCQABHAABKQABRAIR5OwAASgAAU0BqQ0BpQgBqPEAATECBUztAADwAAEJAAEVAAEtAAEwAgVNDAABTAIFUOwAAQEAARQAASwAATECBUz5AAEAAAEdAAEwAAE5AgVM3QAA+AABHAIFTNwAATgCBU0IAAf8vAA== type=piano-roll&gt;&lt;/midi-visualizer&gt;\n",
       "          &lt;/section&gt;\n",
       "          \" width=\"100%\" height=\"400\"\n",
       "            style=\"border:none !important;\"\n",
       "            \"allowfullscreen\" \"webkitallowfullscreen\" \"mozallowfullscreen\">'\n",
       "            </iframe>"
      ],
      "text/plain": [
       "<midi_player.midi_player.MIDIPlayer>"
      ]
     },
     "metadata": {},
     "output_type": "display_data"
    },
    {
     "data": {
      "text/html": [
       "<iframe srcdoc=\"&lt;script src=&quot;https://cdn.jsdelivr.net/combine/npm/tone@14.7.58,npm/@magenta/music@1.23.1/es6/core.js,npm/focus-visible@5,npm/html-midi-player@1.5.0&quot;&gt;&lt;/script&gt;\n",
       "\n",
       "&lt;style&gt;\n",
       "/* Custom player style */\n",
       "p { \n",
       "  margin:0; \n",
       "  color: #c4c4c4; /* mid-lightness text color for title, intended for dark backgrounds */\n",
       "}\n",
       "\n",
       "#section632 midi-player {\n",
       "  display: block;\n",
       "  width: inherit;\n",
       "  margin: 4px;\n",
       "  margin-bottom: 0;\n",
       "  color: #d4d4d4; /* Lighter text color for better readability */\n",
       "}\n",
       "#section632 midi-player::part(control-panel) {\n",
       "  background: #222; /* Dark background */\n",
       "  border: 2px solid #888; /* Lightened border color for contrast */\n",
       "  border-radius: 10px 10px 0 0;\n",
       "}\n",
       "#section632 midi-player::part(play-button) {\n",
       "  color: #ffffff; /* White text for visibility */\n",
       "  border: 2px solid currentColor;\n",
       "  background-color: #6c7a89; \n",
       "  border-radius: 20px;\n",
       "  transition: all 0.2s;\n",
       "  content: &#x27;hello&#x27;;\n",
       "}\n",
       "#section632 midi-player::part(play-button):hover {\n",
       "  color: #00a; \n",
       "  background-color: #9fafc9; \n",
       "  border-radius: 10px;\n",
       "}\n",
       "#section632 midi-player::part(time) {\n",
       "  font-family: monospace; /* Monospace font for time */\n",
       "}\n",
       "\n",
       "/* Custom visualizer style */\n",
       "#section632 midi-visualizer .piano-roll-visualizer {\n",
       "  background: #333; /* Dark background for visualizer */\n",
       "  border: 2px solid #505050; /* Dark border for subtle appearance */\n",
       "  border-top: none;\n",
       "  border-radius: 0 0 10px 10px;\n",
       "  margin: 4px;\n",
       "  width: inherit;\n",
       "  margin-top: 0;\n",
       "  overflow: auto;\n",
       "}\n",
       "#section632 midi-visualizer svg rect.note {\n",
       "  opacity: 0.9; \n",
       "  stroke-width: 1; /* Stroke width for note clarity */\n",
       "}\n",
       "\n",
       "/* Different instrument colors */\n",
       "#section632 midi-visualizer svg rect.note[data-instrument=&quot;0&quot;]{\n",
       "  fill: #7aa6ed; /*  blue for Instrument 0 */\n",
       "  stroke: #444; \n",
       "}\n",
       "#section632 midi-visualizer svg rect.note[data-instrument=&quot;2&quot;]{\n",
       "  fill: #d586d0; /* purple for Instrument 2 for consistency */\n",
       "  stroke: #444; /* White stroke for visibility */\n",
       "}\n",
       "#section632 midi-visualizer svg rect.note[data-is-drum=&quot;true&quot;]{\n",
       "  fill: brightorange; \n",
       "  stroke: #bbb;\n",
       "}\n",
       "#section632 midi-visualizer svg rect.note.active {\n",
       "  opacity: 0.9; /* Highlight active notes */\n",
       "  stroke: #ddd; /* White stroke for maximum contrast */\n",
       "  stroke-width: 2; /* Thicker stroke for active notes */\n",
       "}\n",
       "&lt;/style&gt;\n",
       "\n",
       "          &lt;section id=&quot;section632&quot;&gt;&lt;p style=&quot;text-align:left;font-family:Arial;&quot;&gt;Temperature = 1.2&lt;span style=&quot;float:right;&quot;&gt;&lt;a href=&quot;data:audio/midi;base64,TVRoZAAAAAYAAQACANxNVHJrAAAAEwD/UQMHoSAA/1gEBAIYCAH/LwBNVHJrAAAFBgDAAACQNkAAPUAAQkAARUBqPQAAPkBpNgAAPUAAPgAAQEAAQgBqQkBpO0AAPQAAPkAAQAAAQgAAREAARQAATEBqOUAAOwAAPUAAPgAARAAARUBqOEAAOQAAO0AAPQAARQAAR0CBUzgAADlAADsAAEBAAEcAAElAAEpAAEwAaUkAAEoAAExAaj5AAEAAAERAajkAAD1AAD4AAEQAaT0AAEVAAElAajhAAEUAAEdAaTZAADgAAEJAAEVAAEcAAEkAAEpAAEwAajYAADhAajgAADlAAElAAEoAaTkAADtAAD1AAEUAajlAADsAaTJAADkAAD0AAEJAAEVAgVQxQAAyAABCAABFAABHQABMQIFTMQAAOkAAQgAAQ0AARwAASkAATABpOEAAOUAAOgAAQEAAQwAARUAASQBqOAAAOQAARQAASUAASgCBUz1AAERAAEdAAEkAajZAAD0AAEJAAEQAaTRAADYAAEAAAEBAAEIAAERAAEcAAEdAgVQyQAA0AAA5QABAAABCQABEAABHAGk5AABJQGoyAAA0QABCAABEQABMQGk0AAA2QABAQABEAABEQABJAABKQABMAGo0QAA2AAA+QABAAABEAGo0AAA+AABFQABJQGk7QABFAABHQABJAABPQGo5QAA7AABAQABJQABKAABPAGkyQABAAABCQABHADUyAABFQDU5AABFAABHQABJAGpKQGk2QGpFQGk2AAA4QABAQABCAABFAABHAABHQGo4AAA5QABFQABHAABKAGo5AABJQIMmN0AAQAAARQAAR0AASQAAT0BqNwAAO0AAPkAARwBpOwAAPUAAPgAAQEAATEBqPQAAPkAAQAAAQkAASkAATAAATwBpSgAAU0BqNEAAQgAAQ0AAT0AAUwCBUzQAAEBAAEMAaj4AAElAaTlAAEAAAEVAAE8AakNAajJAADkAAEJAAEMAAEkAAEpAgyYyAAA+QABCAABKAABOQIFTPUAAPgAAQEAARQAATgAAT0CBUz0AAD1AAD5AAEAAAEBAAEdAAE5AAE8Aak4AAE9AajpAAD4AAEAAAEJAAEcAAExAAE8Agjw9AGo6AAA7QABCAABDQABKQABMAGo5QAA7AGk5AAA8QABDAABFQGo8AGk3QABFAABKAABOQABTQGpAQABOAABPQGo3AABAAABCQABHQABKQABPAGlRQABTAGo3QABCAABDQABHAABRAABTQIFTNwAAQEAAQUAAQwAASgAATEBqSkAATABpNkAAPkAAQAAAQQAAUUAAUwCDJzYAAD4AaUoAajlAAEBAAEVAAElAAE5AaUAAAENAAEUAAE4AAE9AAFEAajkAAD5AAEMAAEVAAEkAAE5AAE8AgyZFAIFUOUAAPUAAPgAAQECBUzkAADtAAD0AAD5AAEAAAEdAAE4AAE9AaT4AAEBAajsAAEAAAEcAAE8AAE9AajZAADxAAD5AAEVAAEVAaTYAADdAAD4AAEUAAEdAAE8AajwAAEVAaTRAADcAAENAAEUAAEUAAExAgVQ0AAA2QABCQABDAABKQABMAIFTNgAAN0AAQgAAQ0AASgAATEBpQkAAQwAASkAATABqMkAANwAAQgAARUA1f0A1f0A0fwAAf0A1RwAAfwAAf0A1fwAAf0A1fwAAf0A1fwAAf0A0fwAAf0A1fwAAf0A1fwAAf0A1fwAAf0A1MgAARQAASgAAfwA0fwAB/y8A&quot; target=&quot;_blank&quot;&gt;Download MIDI&lt;/a&gt;&lt;br&gt;&lt;/span&gt;&lt;/p&gt;\n",
       "          &lt;midi-player src=data:audio/midi;base64,TVRoZAAAAAYAAQACANxNVHJrAAAAEwD/UQMHoSAA/1gEBAIYCAH/LwBNVHJrAAAFBgDAAACQNkAAPUAAQkAARUBqPQAAPkBpNgAAPUAAPgAAQEAAQgBqQkBpO0AAPQAAPkAAQAAAQgAAREAARQAATEBqOUAAOwAAPUAAPgAARAAARUBqOEAAOQAAO0AAPQAARQAAR0CBUzgAADlAADsAAEBAAEcAAElAAEpAAEwAaUkAAEoAAExAaj5AAEAAAERAajkAAD1AAD4AAEQAaT0AAEVAAElAajhAAEUAAEdAaTZAADgAAEJAAEVAAEcAAEkAAEpAAEwAajYAADhAajgAADlAAElAAEoAaTkAADtAAD1AAEUAajlAADsAaTJAADkAAD0AAEJAAEVAgVQxQAAyAABCAABFAABHQABMQIFTMQAAOkAAQgAAQ0AARwAASkAATABpOEAAOUAAOgAAQEAAQwAARUAASQBqOAAAOQAARQAASUAASgCBUz1AAERAAEdAAEkAajZAAD0AAEJAAEQAaTRAADYAAEAAAEBAAEIAAERAAEcAAEdAgVQyQAA0AAA5QABAAABCQABEAABHAGk5AABJQGoyAAA0QABCAABEQABMQGk0AAA2QABAQABEAABEQABJAABKQABMAGo0QAA2AAA+QABAAABEAGo0AAA+AABFQABJQGk7QABFAABHQABJAABPQGo5QAA7AABAQABJQABKAABPAGkyQABAAABCQABHADUyAABFQDU5AABFAABHQABJAGpKQGk2QGpFQGk2AAA4QABAQABCAABFAABHAABHQGo4AAA5QABFQABHAABKAGo5AABJQIMmN0AAQAAARQAAR0AASQAAT0BqNwAAO0AAPkAARwBpOwAAPUAAPgAAQEAATEBqPQAAPkAAQAAAQkAASkAATAAATwBpSgAAU0BqNEAAQgAAQ0AAT0AAUwCBUzQAAEBAAEMAaj4AAElAaTlAAEAAAEVAAE8AakNAajJAADkAAEJAAEMAAEkAAEpAgyYyAAA+QABCAABKAABOQIFTPUAAPgAAQEAARQAATgAAT0CBUz0AAD1AAD5AAEAAAEBAAEdAAE5AAE8Aak4AAE9AajpAAD4AAEAAAEJAAEcAAExAAE8Agjw9AGo6AAA7QABCAABDQABKQABMAGo5QAA7AGk5AAA8QABDAABFQGo8AGk3QABFAABKAABOQABTQGpAQABOAABPQGo3AABAAABCQABHQABKQABPAGlRQABTAGo3QABCAABDQABHAABRAABTQIFTNwAAQEAAQUAAQwAASgAATEBqSkAATABpNkAAPkAAQAAAQQAAUUAAUwCDJzYAAD4AaUoAajlAAEBAAEVAAElAAE5AaUAAAENAAEUAAE4AAE9AAFEAajkAAD5AAEMAAEVAAEkAAE5AAE8AgyZFAIFUOUAAPUAAPgAAQECBUzkAADtAAD0AAD5AAEAAAEdAAE4AAE9AaT4AAEBAajsAAEAAAEcAAE8AAE9AajZAADxAAD5AAEVAAEVAaTYAADdAAD4AAEUAAEdAAE8AajwAAEVAaTRAADcAAENAAEUAAEUAAExAgVQ0AAA2QABCQABDAABKQABMAIFTNgAAN0AAQgAAQ0AASgAATEBpQkAAQwAASkAATABqMkAANwAAQgAARUA1f0A1f0A0fwAAf0A1RwAAfwAAf0A1fwAAf0A1fwAAf0A1fwAAf0A0fwAAf0A1fwAAf0A1fwAAf0A1fwAAf0A1MgAARQAASgAAfwA0fwAB/y8A sound-font visualizer=&quot;#section632 midi-visualizer&quot;&gt;&lt;/midi-player&gt;\n",
       "          &lt;midi-visualizer src=data:audio/midi;base64,TVRoZAAAAAYAAQACANxNVHJrAAAAEwD/UQMHoSAA/1gEBAIYCAH/LwBNVHJrAAAFBgDAAACQNkAAPUAAQkAARUBqPQAAPkBpNgAAPUAAPgAAQEAAQgBqQkBpO0AAPQAAPkAAQAAAQgAAREAARQAATEBqOUAAOwAAPUAAPgAARAAARUBqOEAAOQAAO0AAPQAARQAAR0CBUzgAADlAADsAAEBAAEcAAElAAEpAAEwAaUkAAEoAAExAaj5AAEAAAERAajkAAD1AAD4AAEQAaT0AAEVAAElAajhAAEUAAEdAaTZAADgAAEJAAEVAAEcAAEkAAEpAAEwAajYAADhAajgAADlAAElAAEoAaTkAADtAAD1AAEUAajlAADsAaTJAADkAAD0AAEJAAEVAgVQxQAAyAABCAABFAABHQABMQIFTMQAAOkAAQgAAQ0AARwAASkAATABpOEAAOUAAOgAAQEAAQwAARUAASQBqOAAAOQAARQAASUAASgCBUz1AAERAAEdAAEkAajZAAD0AAEJAAEQAaTRAADYAAEAAAEBAAEIAAERAAEcAAEdAgVQyQAA0AAA5QABAAABCQABEAABHAGk5AABJQGoyAAA0QABCAABEQABMQGk0AAA2QABAQABEAABEQABJAABKQABMAGo0QAA2AAA+QABAAABEAGo0AAA+AABFQABJQGk7QABFAABHQABJAABPQGo5QAA7AABAQABJQABKAABPAGkyQABAAABCQABHADUyAABFQDU5AABFAABHQABJAGpKQGk2QGpFQGk2AAA4QABAQABCAABFAABHAABHQGo4AAA5QABFQABHAABKAGo5AABJQIMmN0AAQAAARQAAR0AASQAAT0BqNwAAO0AAPkAARwBpOwAAPUAAPgAAQEAATEBqPQAAPkAAQAAAQkAASkAATAAATwBpSgAAU0BqNEAAQgAAQ0AAT0AAUwCBUzQAAEBAAEMAaj4AAElAaTlAAEAAAEVAAE8AakNAajJAADkAAEJAAEMAAEkAAEpAgyYyAAA+QABCAABKAABOQIFTPUAAPgAAQEAARQAATgAAT0CBUz0AAD1AAD5AAEAAAEBAAEdAAE5AAE8Aak4AAE9AajpAAD4AAEAAAEJAAEcAAExAAE8Agjw9AGo6AAA7QABCAABDQABKQABMAGo5QAA7AGk5AAA8QABDAABFQGo8AGk3QABFAABKAABOQABTQGpAQABOAABPQGo3AABAAABCQABHQABKQABPAGlRQABTAGo3QABCAABDQABHAABRAABTQIFTNwAAQEAAQUAAQwAASgAATEBqSkAATABpNkAAPkAAQAAAQQAAUUAAUwCDJzYAAD4AaUoAajlAAEBAAEVAAElAAE5AaUAAAENAAEUAAE4AAE9AAFEAajkAAD5AAEMAAEVAAEkAAE5AAE8AgyZFAIFUOUAAPUAAPgAAQECBUzkAADtAAD0AAD5AAEAAAEdAAE4AAE9AaT4AAEBAajsAAEAAAEcAAE8AAE9AajZAADxAAD5AAEVAAEVAaTYAADdAAD4AAEUAAEdAAE8AajwAAEVAaTRAADcAAENAAEUAAEUAAExAgVQ0AAA2QABCQABDAABKQABMAIFTNgAAN0AAQgAAQ0AASgAATEBpQkAAQwAASkAATABqMkAANwAAQgAARUA1f0A1f0A0fwAAf0A1RwAAfwAAf0A1fwAAf0A1fwAAf0A1fwAAf0A0fwAAf0A1fwAAf0A1fwAAf0A1fwAAf0A1MgAARQAASgAAfwA0fwAB/y8A type=piano-roll&gt;&lt;/midi-visualizer&gt;\n",
       "          &lt;/section&gt;\n",
       "          \" width=\"100%\" height=\"400\"\n",
       "            style=\"border:none !important;\"\n",
       "            \"allowfullscreen\" \"webkitallowfullscreen\" \"mozallowfullscreen\">'\n",
       "            </iframe>"
      ],
      "text/plain": [
       "<midi_player.midi_player.MIDIPlayer>"
      ]
     },
     "metadata": {},
     "output_type": "display_data"
    },
    {
     "data": {
      "text/html": [
       "<iframe srcdoc=\"&lt;script src=&quot;https://cdn.jsdelivr.net/combine/npm/tone@14.7.58,npm/@magenta/music@1.23.1/es6/core.js,npm/focus-visible@5,npm/html-midi-player@1.5.0&quot;&gt;&lt;/script&gt;\n",
       "\n",
       "&lt;style&gt;\n",
       "/* Custom player style */\n",
       "p { \n",
       "  margin:0; \n",
       "  color: #c4c4c4; /* mid-lightness text color for title, intended for dark backgrounds */\n",
       "}\n",
       "\n",
       "#section632 midi-player {\n",
       "  display: block;\n",
       "  width: inherit;\n",
       "  margin: 4px;\n",
       "  margin-bottom: 0;\n",
       "  color: #d4d4d4; /* Lighter text color for better readability */\n",
       "}\n",
       "#section632 midi-player::part(control-panel) {\n",
       "  background: #222; /* Dark background */\n",
       "  border: 2px solid #888; /* Lightened border color for contrast */\n",
       "  border-radius: 10px 10px 0 0;\n",
       "}\n",
       "#section632 midi-player::part(play-button) {\n",
       "  color: #ffffff; /* White text for visibility */\n",
       "  border: 2px solid currentColor;\n",
       "  background-color: #6c7a89; \n",
       "  border-radius: 20px;\n",
       "  transition: all 0.2s;\n",
       "  content: &#x27;hello&#x27;;\n",
       "}\n",
       "#section632 midi-player::part(play-button):hover {\n",
       "  color: #00a; \n",
       "  background-color: #9fafc9; \n",
       "  border-radius: 10px;\n",
       "}\n",
       "#section632 midi-player::part(time) {\n",
       "  font-family: monospace; /* Monospace font for time */\n",
       "}\n",
       "\n",
       "/* Custom visualizer style */\n",
       "#section632 midi-visualizer .piano-roll-visualizer {\n",
       "  background: #333; /* Dark background for visualizer */\n",
       "  border: 2px solid #505050; /* Dark border for subtle appearance */\n",
       "  border-top: none;\n",
       "  border-radius: 0 0 10px 10px;\n",
       "  margin: 4px;\n",
       "  width: inherit;\n",
       "  margin-top: 0;\n",
       "  overflow: auto;\n",
       "}\n",
       "#section632 midi-visualizer svg rect.note {\n",
       "  opacity: 0.9; \n",
       "  stroke-width: 1; /* Stroke width for note clarity */\n",
       "}\n",
       "\n",
       "/* Different instrument colors */\n",
       "#section632 midi-visualizer svg rect.note[data-instrument=&quot;0&quot;]{\n",
       "  fill: #7aa6ed; /*  blue for Instrument 0 */\n",
       "  stroke: #444; \n",
       "}\n",
       "#section632 midi-visualizer svg rect.note[data-instrument=&quot;2&quot;]{\n",
       "  fill: #d586d0; /* purple for Instrument 2 for consistency */\n",
       "  stroke: #444; /* White stroke for visibility */\n",
       "}\n",
       "#section632 midi-visualizer svg rect.note[data-is-drum=&quot;true&quot;]{\n",
       "  fill: brightorange; \n",
       "  stroke: #bbb;\n",
       "}\n",
       "#section632 midi-visualizer svg rect.note.active {\n",
       "  opacity: 0.9; /* Highlight active notes */\n",
       "  stroke: #ddd; /* White stroke for maximum contrast */\n",
       "  stroke-width: 2; /* Thicker stroke for active notes */\n",
       "}\n",
       "&lt;/style&gt;\n",
       "\n",
       "          &lt;section id=&quot;section632&quot;&gt;&lt;p style=&quot;text-align:left;font-family:Arial;&quot;&gt;Temperature = 1.5&lt;span style=&quot;float:right;&quot;&gt;&lt;a href=&quot;data:audio/midi;base64,TVRoZAAAAAYAAQACANxNVHJrAAAAEwD/UQMHoSAA/1gEBAIYCAH/LwBNVHJrAAAFGgDAAACQNkAAPUAAQkAARUBqPQAAPkBpNgAAPUAAPgAAQEAAQgBqQkBpO0AAPQAAPkAAQAAAQgAAREAARQAATEBqOUAAOwAAPUAAPgAARAAARUBqOEAAOQAAO0AAPQAARQAAR0CBUzgAADlAADsAAEBAAEcAAElAAEpAAEwAaUkAAEoAAExAakAAAEpAajJAADkAaTIAADRAADZAAEBAajQAAEdAAElAAEoAaTFAADYAAEVAAEcAAEkAAEwAai9AADEAAEJAakAAaUIAAEpAai8AADFAaTEAADJAAEJAgVQ7QABKAIFTQ0AARQCBUy1AAEMAAEhAajRAaS0AADIAADdAAEIAAENAAEgAajQAAEdAaTcAajNAADRAADxAAEcAajMAADQAADVAAEMAaTUAADhAADwAAEBAAEVAajFAADgAAD1AAERAAEUAaTsAAEAAai9AADEAAD0AAD5AakNAaS8AADJAAEFAAEQAgVMyAAA8QABBAABBQGpDAGo7QIFTOwAAPAAAcECBU0VAgVNBAIFTPkAAcACBVDRAAD4AAERAAExARj4AIzQAADVAajUAADdAADlAAENAAEQAAEUAaTRAADcAajQAADVAajUAADdAaTRAADcAADkAADtAAEdAAEwAhHo0AAA7AABPQIFTRwAAV0CBUyhAAEBAAEMAAFcAajJAAEFAaSgAAEAAAEEAAEVAajIAAEUAAEdAaj1AAEVAAEcAAE9AaU1AAE8AajxAAD0AAD9AAE0AAE9AgVNPAIFTRQCBUzwAAD5AAD8AAENAAE1AAE8AgVQ8QGlDAABFQGo6QAA8AAA+AABKQIFTOgAAQ0AARQAARkAASgAATEAATQCBUy1AAEMAAEYAAEhAgVMtAABBQABIAABTQIFUNEAANEAANUAAQQAAQ0AAREAATAAAUwCBUzQAADdAAEMAaUQAajQAADcAAEZAAEhAakRAaTBAAEBAAENAAEgAakQANTUANDAAAEMAAElAakYAAEZAajhAAD9AAEAAAEhAAEkAaUYAAFBAajFAADgAAD1AAD8AAE1AAFAAaTEAADNAajMAADpAAEtAAExAAE0Agj09AGk5QAA6AAA8QABBQABIAABLAABMAABNQIFUOQAAPAAAPEAASEBpOkAAPABqN0AAOgAAOkAAQQAARkAASACBUzcAADxAAENAAEYAAFBAajNAADoAaTwAADxAAE0AAFAAAFVAhBAzAGo3QAA8AABTQABVAIFTMUAANwAATEAAUkAAUwBqQkAATABpMQAASkAAUgBqN0AASgAAVEBpQwBqSEAAUUAAVABqQ0AAR0AAT0AAUQA0TUAATwA1NwAAPEAAQgAARkAARwAASAAATEAATQBqSUCBUzlAAEkAAFBAakMAAEwAhBA5AABBQABIQABQAGlGAGo8QABBAABDQABMQIFTNUAAPAAAQUAAQwAAREAAREAASAAATABqPAAAP0AAQQAAQkAARABpNQAAPwAAS0CBUzhAAEhAaklAAEsAajBAADgAAD9AAEIAAEkAAEtAaUQAajAAADZAAD8AAEFAAEsAAE1AgVM2AAA3QABBAABDQABLQABNAIMmSACBVEMAAEZAaTcAajhAAERAAEYAAEsAgVM1QAA/QABEQIFTRkBqLkBpNQAARAAARABqOAAAQUBqPwAAP0AAQQBpLgAAN0AAPkAAPwAAP0CBU0ZAajxAAD4AajcAADwAgVM/AABGAGlGAAH/LwA=&quot; target=&quot;_blank&quot;&gt;Download MIDI&lt;/a&gt;&lt;br&gt;&lt;/span&gt;&lt;/p&gt;\n",
       "          &lt;midi-player src=data:audio/midi;base64,TVRoZAAAAAYAAQACANxNVHJrAAAAEwD/UQMHoSAA/1gEBAIYCAH/LwBNVHJrAAAFGgDAAACQNkAAPUAAQkAARUBqPQAAPkBpNgAAPUAAPgAAQEAAQgBqQkBpO0AAPQAAPkAAQAAAQgAAREAARQAATEBqOUAAOwAAPUAAPgAARAAARUBqOEAAOQAAO0AAPQAARQAAR0CBUzgAADlAADsAAEBAAEcAAElAAEpAAEwAaUkAAEoAAExAakAAAEpAajJAADkAaTIAADRAADZAAEBAajQAAEdAAElAAEoAaTFAADYAAEVAAEcAAEkAAEwAai9AADEAAEJAakAAaUIAAEpAai8AADFAaTEAADJAAEJAgVQ7QABKAIFTQ0AARQCBUy1AAEMAAEhAajRAaS0AADIAADdAAEIAAENAAEgAajQAAEdAaTcAajNAADRAADxAAEcAajMAADQAADVAAEMAaTUAADhAADwAAEBAAEVAajFAADgAAD1AAERAAEUAaTsAAEAAai9AADEAAD0AAD5AakNAaS8AADJAAEFAAEQAgVMyAAA8QABBAABBQGpDAGo7QIFTOwAAPAAAcECBU0VAgVNBAIFTPkAAcACBVDRAAD4AAERAAExARj4AIzQAADVAajUAADdAADlAAENAAEQAAEUAaTRAADcAajQAADVAajUAADdAaTRAADcAADkAADtAAEdAAEwAhHo0AAA7AABPQIFTRwAAV0CBUyhAAEBAAEMAAFcAajJAAEFAaSgAAEAAAEEAAEVAajIAAEUAAEdAaj1AAEVAAEcAAE9AaU1AAE8AajxAAD0AAD9AAE0AAE9AgVNPAIFTRQCBUzwAAD5AAD8AAENAAE1AAE8AgVQ8QGlDAABFQGo6QAA8AAA+AABKQIFTOgAAQ0AARQAARkAASgAATEAATQCBUy1AAEMAAEYAAEhAgVMtAABBQABIAABTQIFUNEAANEAANUAAQQAAQ0AAREAATAAAUwCBUzQAADdAAEMAaUQAajQAADcAAEZAAEhAakRAaTBAAEBAAENAAEgAakQANTUANDAAAEMAAElAakYAAEZAajhAAD9AAEAAAEhAAEkAaUYAAFBAajFAADgAAD1AAD8AAE1AAFAAaTEAADNAajMAADpAAEtAAExAAE0Agj09AGk5QAA6AAA8QABBQABIAABLAABMAABNQIFUOQAAPAAAPEAASEBpOkAAPABqN0AAOgAAOkAAQQAARkAASACBUzcAADxAAENAAEYAAFBAajNAADoAaTwAADxAAE0AAFAAAFVAhBAzAGo3QAA8AABTQABVAIFTMUAANwAATEAAUkAAUwBqQkAATABpMQAASkAAUgBqN0AASgAAVEBpQwBqSEAAUUAAVABqQ0AAR0AAT0AAUQA0TUAATwA1NwAAPEAAQgAARkAARwAASAAATEAATQBqSUCBUzlAAEkAAFBAakMAAEwAhBA5AABBQABIQABQAGlGAGo8QABBAABDQABMQIFTNUAAPAAAQUAAQwAAREAAREAASAAATABqPAAAP0AAQQAAQkAARABpNQAAPwAAS0CBUzhAAEhAaklAAEsAajBAADgAAD9AAEIAAEkAAEtAaUQAajAAADZAAD8AAEFAAEsAAE1AgVM2AAA3QABBAABDQABLQABNAIMmSACBVEMAAEZAaTcAajhAAERAAEYAAEsAgVM1QAA/QABEQIFTRkBqLkBpNQAARAAARABqOAAAQUBqPwAAP0AAQQBpLgAAN0AAPkAAPwAAP0CBU0ZAajxAAD4AajcAADwAgVM/AABGAGlGAAH/LwA= sound-font visualizer=&quot;#section632 midi-visualizer&quot;&gt;&lt;/midi-player&gt;\n",
       "          &lt;midi-visualizer src=data:audio/midi;base64,TVRoZAAAAAYAAQACANxNVHJrAAAAEwD/UQMHoSAA/1gEBAIYCAH/LwBNVHJrAAAFGgDAAACQNkAAPUAAQkAARUBqPQAAPkBpNgAAPUAAPgAAQEAAQgBqQkBpO0AAPQAAPkAAQAAAQgAAREAARQAATEBqOUAAOwAAPUAAPgAARAAARUBqOEAAOQAAO0AAPQAARQAAR0CBUzgAADlAADsAAEBAAEcAAElAAEpAAEwAaUkAAEoAAExAakAAAEpAajJAADkAaTIAADRAADZAAEBAajQAAEdAAElAAEoAaTFAADYAAEVAAEcAAEkAAEwAai9AADEAAEJAakAAaUIAAEpAai8AADFAaTEAADJAAEJAgVQ7QABKAIFTQ0AARQCBUy1AAEMAAEhAajRAaS0AADIAADdAAEIAAENAAEgAajQAAEdAaTcAajNAADRAADxAAEcAajMAADQAADVAAEMAaTUAADhAADwAAEBAAEVAajFAADgAAD1AAERAAEUAaTsAAEAAai9AADEAAD0AAD5AakNAaS8AADJAAEFAAEQAgVMyAAA8QABBAABBQGpDAGo7QIFTOwAAPAAAcECBU0VAgVNBAIFTPkAAcACBVDRAAD4AAERAAExARj4AIzQAADVAajUAADdAADlAAENAAEQAAEUAaTRAADcAajQAADVAajUAADdAaTRAADcAADkAADtAAEdAAEwAhHo0AAA7AABPQIFTRwAAV0CBUyhAAEBAAEMAAFcAajJAAEFAaSgAAEAAAEEAAEVAajIAAEUAAEdAaj1AAEVAAEcAAE9AaU1AAE8AajxAAD0AAD9AAE0AAE9AgVNPAIFTRQCBUzwAAD5AAD8AAENAAE1AAE8AgVQ8QGlDAABFQGo6QAA8AAA+AABKQIFTOgAAQ0AARQAARkAASgAATEAATQCBUy1AAEMAAEYAAEhAgVMtAABBQABIAABTQIFUNEAANEAANUAAQQAAQ0AAREAATAAAUwCBUzQAADdAAEMAaUQAajQAADcAAEZAAEhAakRAaTBAAEBAAENAAEgAakQANTUANDAAAEMAAElAakYAAEZAajhAAD9AAEAAAEhAAEkAaUYAAFBAajFAADgAAD1AAD8AAE1AAFAAaTEAADNAajMAADpAAEtAAExAAE0Agj09AGk5QAA6AAA8QABBQABIAABLAABMAABNQIFUOQAAPAAAPEAASEBpOkAAPABqN0AAOgAAOkAAQQAARkAASACBUzcAADxAAENAAEYAAFBAajNAADoAaTwAADxAAE0AAFAAAFVAhBAzAGo3QAA8AABTQABVAIFTMUAANwAATEAAUkAAUwBqQkAATABpMQAASkAAUgBqN0AASgAAVEBpQwBqSEAAUUAAVABqQ0AAR0AAT0AAUQA0TUAATwA1NwAAPEAAQgAARkAARwAASAAATEAATQBqSUCBUzlAAEkAAFBAakMAAEwAhBA5AABBQABIQABQAGlGAGo8QABBAABDQABMQIFTNUAAPAAAQUAAQwAAREAAREAASAAATABqPAAAP0AAQQAAQkAARABpNQAAPwAAS0CBUzhAAEhAaklAAEsAajBAADgAAD9AAEIAAEkAAEtAaUQAajAAADZAAD8AAEFAAEsAAE1AgVM2AAA3QABBAABDQABLQABNAIMmSACBVEMAAEZAaTcAajhAAERAAEYAAEsAgVM1QAA/QABEQIFTRkBqLkBpNQAARAAARABqOAAAQUBqPwAAP0AAQQBpLgAAN0AAPkAAPwAAP0CBU0ZAajxAAD4AajcAADwAgVM/AABGAGlGAAH/LwA= type=piano-roll&gt;&lt;/midi-visualizer&gt;\n",
       "          &lt;/section&gt;\n",
       "          \" width=\"100%\" height=\"400\"\n",
       "            style=\"border:none !important;\"\n",
       "            \"allowfullscreen\" \"webkitallowfullscreen\" \"mozallowfullscreen\">'\n",
       "            </iframe>"
      ],
      "text/plain": [
       "<midi_player.midi_player.MIDIPlayer>"
      ]
     },
     "metadata": {},
     "output_type": "display_data"
    }
   ],
   "source": [
    "new_tokens = num_tokens - prompt_len\n",
    "\n",
    "for temperature in [ 0.7, 0.85, 0.92, 1.0, 1.2, 1.5]:\n",
    "    set_seeds(1337) # same temp for same seed will yield same output\n",
    "    notes = decode( model.generate(prompt_tokens, max_new_tokens=new_tokens, temperature=temperature)[0].cpu() )\n",
    "    display(midiplayer(notes, title=f\"Temperature = {temperature}\"))"
   ]
  },
  {
   "cell_type": "markdown",
   "metadata": {},
   "source": [
    "## Perplexity Score\n",
    "\n",
    "\"[Perplexity](https://blog.echen.me/2021/12/23/a-laymans-introduction-to-perplexity-in-nlp/)\" is a common metric for language models which comes from the field of information theory. It is often described as a measure of how \"surprised\" your model is by novel data.  \n",
    "\n",
    "\n",
    "Operationally, it's just the exponential of the value of the loss function -- like, ...yea, that's it. \n",
    "\n",
    "\n",
    "Why do people report perplexity instead of just the loss value (since the exponential function is monotonic)? Well...because of custom, and because perplexity has some natural relation to entropy, and because it relates to something called the \"branching factor\" of a language... but \"because custom\" is enough.\n",
    "\n",
    "\n",
    "So, all we're going to do is feed the test set into our model and measure the loss, and take the exponential of that and... that's our perplexity!  Lower is better. \n"
   ]
  },
  {
   "cell_type": "code",
   "execution_count": null,
   "metadata": {},
   "outputs": [
    {
     "name": "stderr",
     "output_type": "stream",
     "text": [
      "100%|█████████████████████████████████████████████████████████████| 229/229 [00:07<00:00, 30.59it/s]"
     ]
    },
    {
     "name": "stdout",
     "output_type": "stream",
     "text": [
      "(Average) Perplexity = 2.393\n"
     ]
    },
    {
     "name": "stderr",
     "output_type": "stream",
     "text": [
      "\n"
     ]
    }
   ],
   "source": [
    "#| code-fold: true\n",
    "#| code-summary: \"Show the code\"\n",
    "\n",
    "test_ds = NotesDataset(test_notes_tl, config.seq_length, len_mult=config.batch_size, pad=False)\n",
    "test_dl = DataLoader(train_ds, batch_size=config.batch_size, shuffle=False)\n",
    "\n",
    "total, batches = 0, 0 \n",
    "with torch.no_grad():\n",
    "    model.eval()\n",
    "    for i, batch in enumerate(tqdm(test_dl, ncols=100)): \n",
    "        batches +=1 \n",
    "        xb, yb = [q.to(device) for q in batch]\n",
    "        logits, loss = model(xb, yb)\n",
    "        total = total + loss.cpu().item()\n",
    "perplexity = np.exp(total/batches) \n",
    "print(f\"(Average) Perplexity = {perplexity:5.3f}\")"
   ]
  },
  {
   "cell_type": "markdown",
   "metadata": {},
   "source": [
    "Interesting. That seems really low. Perhaps all it means is that once you've seen a couple hundred Bach chorales, new ones aren't very surprising! ;-) "
   ]
  },
  {
   "cell_type": "markdown",
   "metadata": {},
   "source": [
    "## Accuracy Score\n",
    "\n",
    "This is pretty simple: How often did the model guess the \"correct\" next note? ...Uh... TODO later."
   ]
  },
  {
   "cell_type": "markdown",
   "metadata": {},
   "source": [
    "## Data Distributions\n",
    "\n",
    "Let's compare statistics of true points vs. generated points. We'll generate a lot of data, and then compare histograms:"
   ]
  },
  {
   "cell_type": "code",
   "execution_count": null,
   "metadata": {},
   "outputs": [
    {
     "name": "stdout",
     "output_type": "stream",
     "text": [
      "Generating new notes...\n"
     ]
    },
    {
     "name": "stderr",
     "output_type": "stream",
     "text": [
      "100%|███████████████████████████████████████████████████████████████| 77/77 [02:10<00:00,  1.70s/it]\n"
     ]
    },
    {
     "name": "stdout",
     "output_type": "stream",
     "text": [
      "# of test notes = 4159,  # of generated notes = 4158 --- Close enough!\n"
     ]
    },
    {
     "data": {
      "image/png": "[encoded data removed]",
      "text/plain": [
       "<Figure size 1500x500 with 3 Axes>"
      ]
     },
     "metadata": {},
     "output_type": "display_data"
    }
   ],
   "source": [
    "#| code-fold: true\n",
    "#| code-summary: \"Show the code\"\n",
    "\n",
    "import matplotlib.pyplot as plt\n",
    "\n",
    "all_test_notes = torch.vstack(test_notes_tl).type(torch.float32)\n",
    "all_test_notes = all_test_notes[:len(all_test_notes)//4]  # to save time, let's not do stats on ALL-all of them, just a quarter\n",
    "\n",
    "# generate a big batch of fake data. \n",
    "# WARNING: this is super slow because our generator only works for batches of one, oops\n",
    "prompt_len, max_new_tokens = 12, 54          # I just made these numbers up. not great science yet, sorry.\n",
    "new_notes_list = []\n",
    "print(\"Generating new notes...\") \n",
    "for i, notes in enumerate(tqdm(test_notes_tl, ncols=100)): \n",
    "    ptoks = encode(notes[:prompt_len]).unsqueeze(0).to(device)\n",
    "    # generate more notes, chop off prompt before adding to list of all generated notes\n",
    "    new_notes_list.append( decode( model.generate(ptoks, max_new_tokens=max_new_tokens)[0].cpu()[prompt_len:] ) )\n",
    "all_new_notes = torch.vstack(new_notes_list).type(torch.float32)\n",
    "\n",
    "print(f\"# of test notes = {len(all_test_notes)},  # of generated notes = {len(all_new_notes)} --- Close enough!\")\n",
    "\n",
    "\n",
    "fig, ax = plt.subplots(1, 3, figsize=(15, 5))\n",
    "names = ['pitch', 'step', 'duration']\n",
    "for i in range(3):\n",
    "    bins = 32 if i !=0 else 0.5 + 2*np.arange(128//2) \n",
    "    ax[i].hist(all_test_notes[:,i].numpy(), bins=bins, label='test data', alpha=0.6)\n",
    "    ax[i].hist(all_new_notes[:,i].numpy(),  bins=bins, label='generated', alpha=0.6)\n",
    "    ax[i].set_title(names[i])\n",
    "    if i==2: ax[i].legend()\n",
    "    ax[i].set_xlabel('Value'+f'{\" (s)\" if i>0 else \"\"}')\n",
    "    if i==0: ax[i].set_ylabel('Count')\n",
    "plt.show()"
   ]
  },
  {
   "cell_type": "markdown",
   "metadata": {},
   "source": [
    "Hey! The generated and test data distributions look prety similar. The generated pitches have a slighly larger spread, which is consistent with what we observe in the generated examples, and may be due to the pitch-shifting in our data augmentation. \n",
    "\n",
    "I'm curious why the `step` values seem to be shifted to the right in the generated data; that's a bit \"sus\" to me.  But, that'll be an investigation for another time.  We need to wrap this up!  "
   ]
  },
  {
   "cell_type": "markdown",
   "metadata": {},
   "source": [
    "# Summary\n",
    "\n",
    "TODO: write more...yay. \n",
    "\n",
    "If you'd like to run the code from this post, [here it is as a Colab notebook](https://colab.research.google.com/github/drscotthawley/TTTT/blob/main/notebooks/Transformers2-MusicBox-Colab.ipynb).  &nbsp; <a href=\"https://colab.research.google.com/github/drscotthawley/TTTT/blob/main/notebooks/Transformers2-MusicBox-Colab.ipynb\">\n",
    "<img src=\"https://colab.research.google.com/assets/colab-badge.svg\"\n",
    "  alt=\"open with Colab\" width=\"130px\"/></a>"
   ]
  },
  {
   "cell_type": "markdown",
   "metadata": {},
   "source": [
    "# Ideas for Further Exploration {#sec-further}\n",
    "\n",
    "The following are some ideas for taking this lesson further.\n",
    "<details><summary>Details</summary>\n",
    "\n"
   ]
  },
  {
   "cell_type": "markdown",
   "metadata": {},
   "source": [
    "## Change Hyperparamters / Dataset\n",
    "\n",
    "I tried a *lot* of hyperparameter tuning already. Now it's your turn.  Maybe even trying WandB's [\"Sweeps\"](https://docs.wandb.ai/guides/sweeps)feature.  Here's a `config` suggestion [that I used for the MAESTRO dataset](https://wandb.ai/drscotthawley/musicbox-maestro-tutorial?workspace=user-drscotthawley):"
   ]
  },
  {
   "cell_type": "code",
   "execution_count": null,
   "metadata": {},
   "outputs": [],
   "source": [
    "#| code-fold: true\n",
    "#| code-summary: \"Watch out, there's a Monster in this code!\"\n",
    "\n",
    "@dataclass\n",
    "class LargeConfig:  # \"Monster\" size model ;-) \n",
    "    # model architecture details\n",
    "    seq_length: int = 128\n",
    "    batch_size: int = 256\n",
    "    n_embd:     int = 256     \n",
    "    n_heads:    int = 16      \n",
    "    n_blocks:   int = 8       \n",
    "    dropout:  float = 0.5    \n",
    "    bias:      bool = False\n",
    "\n",
    "    # training details\n",
    "    learning_rate: float = 0.001\n",
    "    weight_decay:  float = 0.04   # 0.01 is pytorch default\n",
    "    epochs:          int = 12\n",
    "\n",
    "    # other handy bookkeeping\n",
    "    vocab_sizes: tuple = tuple(vocab_sizes)"
   ]
  },
  {
   "cell_type": "markdown",
   "metadata": {},
   "source": [
    "## Report Individual Parts of the Loss\n",
    "Currently we're not reporting the contributions of pitch, step, and durations to the loss, separately.  Doing so could be instructive! \n",
    "\n",
    "\n",
    "## Improving Generation by Implementing Beam Search\n",
    "\n",
    "Right now we're just sampling a single token from the predicted probability distribution. If we instead predicted the most likely estimates by looking two or three steps into the future, that could greatly improve our results. Check out \"beam search\" algorithms. \n",
    "\n",
    "\n",
    "## Using Huggingface's `transformers` instead\n",
    "\n",
    "`trasformers` is a package that is optimized for general applications and would probably outperform the above code in numerous ways. \n",
    "\n",
    "\n",
    "## Pitch-Only Estimation\n",
    "\n",
    "The timing can be the most challenging part. If you take that out and do only pitches (i.e. assume all notes have the same spacing and duration), you may like what you hear. \n",
    "\n",
    "## Raw Audio\n",
    "\n",
    "If you were to instead use raw audio, I'd recommend converting it to spectrograms, treating each column of the spectrogram as a \"word vector.\" However, there'd likely be a lot of \"wasted space\" so you'd probably want to (invertibly) compress the dimensionality of your \"audio-word vectors\" via something like [(Residual) Vector Quantization](https://drscotthawley.github.io/blog/posts/2023-06-12-RVQ.html), an [autoencoder](https://drscotthawley.github.io/audio-algebra/given-models.html), or [UMAP](https://umap-learn.readthedocs.io/en/latest/). ...And then you'd need to expand/decode it on the output side to be able to listen. Relatedly, a pretrained sytem like Meta's [EnCodec](https://github.com/facebookresearch/encodec) would likely provide such functions nicely."
   ]
  },
  {
   "cell_type": "markdown",
   "metadata": {},
   "source": [
    "# Acknowledgements\n",
    "\n",
    "* Super huge thanks to [Jeremy Jordan](https://twitter.com/jeremyjordan) for many fruitful discussions as I developed this! Check out [his blog](https://www.jeremyjordan.me/) for many helpful posts, esp. on Transformers, Attention, and many other Machine Learning topics. \n",
    "\n",
    "* I referred to [Andrej Karpathy's lesson and codes](https://www.youtube.com/watch?v=kCc8FmEb1nY) frequently when my own code wasn't working to my satisfaction (i.e. all the time).\n",
    "\n",
    "* Various papers by the Google Magenta team -- the undisputed ML-MIDI experts in my book -- were helpful in figuring out what to do. This lesson was influenced by their tutorial [\"Generate Music with an RNN\"](https://colab.research.google.com/github/tensorflow/docs/blob/master/site/en/tutorials/audio/music_generation.ipynb), which I converted PyTorch. In this lesson, code that wasn't lifted from Karpathy was lifted from that.\n",
    "\n",
    "* I'm thankful to [Ondřej Cífka](https://github.com/cifkao) for the exchanges that led to my development of Jupyter support for the MIDI player object(s) that he built off Magenta's work. \n",
    "\n",
    "* As I included in the Preface, thanks to [Mateusz Modrzejewski](https://twitter.com/mamodrzejewski) for what I took to be a word of encouragement.\n",
    "\n",
    "* ChatGPT was used extensively for helping with what I'll unapologetically term \"annoying formatting bullshit\" (with pandas, tqdm, CSS,...), but not for anything more significant. "
   ]
  },
  {
   "cell_type": "markdown",
   "metadata": {},
   "source": [
    "# Appendix: Feeding it Christmas Carols 🎄\n",
    "\n",
    "This is probably a bad idea for so many reasons -- it will be *wayyy* outside the distribution of training data -- but given the time of year, I'ma try it anyway.  \n",
    "\n",
    "::: {.callout-note}\n",
    "# Attribution\n",
    "We're downloading the prompt MIDI files on the fly from [MFiles](https://www.mfiles.co.uk/christmas-music-and-carols.htm).\n",
    ":::"
   ]
  },
  {
   "cell_type": "markdown",
   "metadata": {},
   "source": [
    "<!--- comment \n",
    "---\n",
    "# Afterward: Stuff I Probably Should Have Looked at First\n",
    "\n",
    "\n",
    "BTW, that code is a PyTorch implementation of the 2018 [Music Transformer](https://arxiv.org/abs/1809.04281) paper by Google Brain, the abstract of which includes:\n",
    "\n",
    "> \"Existing approaches for representing relative positional information\n",
    "in the Transformer modulate attention based on pairwise distance (Shaw et al.,\n",
    "2018). This is impractical for long sequences such as musical compositions since\n",
    "their memory complexity for intermediate relative information is quadratic in the\n",
    "sequence length. We propose an algorithm that reduces their intermediate memory\n",
    "requirement to linear in the sequence length.\n",
    "This enables us to demonstrate that a\n",
    "Transformer with our modified relative attention mechanism can generate minutelong compositions (thousands of steps, four times the length modeled in Oore et al.\n",
    "(2018)) with compelling structure, generate continuations that coherently elaborate\n",
    "on a given motif, and in a seq2seq setup generate accompaniments conditioned on\n",
    "melodies\"\n",
    "\n",
    "....but this notebook is a tutorial, so forgive me if it's 5 years behind SOTA. ;-)\n",
    "\n",
    "[Here's a nother code for a Pytorch MIDI transformer from 2 years ago](https://github.com/spectraldoy/music-transformer)\n",
    "\n",
    "https://medium.com/data-science-in-your-pocket/music-generation-using-musictransformer-with-codes-c7be89ba85b1\n",
    "\n",
    "--->"
   ]
  },
  {
   "cell_type": "code",
   "execution_count": null,
   "metadata": {},
   "outputs": [
    {
     "data": {
      "text/html": [
       "<iframe srcdoc=\"&lt;script src=&quot;https://cdn.jsdelivr.net/combine/npm/tone@14.7.58,npm/@magenta/music@1.23.1/es6/core.js,npm/focus-visible@5,npm/html-midi-player@1.5.0&quot;&gt;&lt;/script&gt;\n",
       "\n",
       "&lt;style&gt;\n",
       "/* Custom player style */\n",
       "p { \n",
       "  margin: 0; \n",
       "  color: #c4c4c4; /* mid-lightness text color for title, intended for dark backgrounds */\n",
       "}\n",
       "\n",
       "#section137 midi-player {\n",
       "  display: block;\n",
       "  width: inherit;\n",
       "  margin: 4px;\n",
       "  margin-bottom: 0;\n",
       "  color: #d4d4d4; /* Lighter text color for better readability */\n",
       "}\n",
       "#section137 midi-player::part(control-panel) {\n",
       "  background: #004400; /* green background */\n",
       "  border: 2px solid #888; /* Lightened border color for contrast */\n",
       "  border-radius: 10px 10px 0 0;\n",
       "}\n",
       "#section137 midi-player::part(play-button) {\n",
       "  color: #ffffff; /* White text for visibility */\n",
       "  border: 2px solid currentColor;\n",
       "  background-color: #ff00000; \n",
       "  border-radius: 20px;\n",
       "  transition: all 0.2s;\n",
       "  content: &#x27;hello&#x27;;\n",
       "}\n",
       "#section137 midi-player::part(play-button):hover {\n",
       "  color: #a00; \n",
       "  background-color: #9fafc9; \n",
       "  border-radius: 10px;\n",
       "}\n",
       "#section137 midi-player::part(time) {\n",
       "  font-family: monospace; /* Monospace font for time */\n",
       "}\n",
       "\n",
       "/* Custom visualizer style */\n",
       "#section137 midi-visualizer .piano-roll-visualizer {\n",
       "  background: #900; /* red background for visualizer */\n",
       "  border: 2px solid #505050; /* Dark border for subtle appearance */\n",
       "  border-top: none;\n",
       "  border-radius: 0 0 10px 10px;\n",
       "  margin: 4px;\n",
       "  width: inherit;\n",
       "  margin-top: 0;\n",
       "  overflow: auto;\n",
       "}\n",
       "#section137 midi-visualizer svg rect.note {\n",
       "  opacity: 0.9; \n",
       "  stroke-width: 1; /* Stroke width for note clarity */\n",
       "}\n",
       "\n",
       "/* Different instrument colors */\n",
       "#section137 midi-visualizer svg rect.note[data-instrument=&quot;0&quot;]{\n",
       "  fill: #00f000; /* Green for Instrument 0 */\n",
       "  stroke: #444; \n",
       "}\n",
       "#section137 midi-visualizer svg rect.note[data-instrument=&quot;2&quot;]{\n",
       "  fill: #008000; /* Green for Instrument 2 */\n",
       "  stroke: #444;\n",
       "}\n",
       "#section137 midi-visualizer svg rect.note[data-is-drum=&quot;true&quot;]{\n",
       "  fill: #008000; /* Green for drum notes */\n",
       "  stroke: #bbb;\n",
       "}\n",
       "#section137 midi-visualizer svg rect.note.active {\n",
       "  opacity: 0.9; /* Highlight active notes */\n",
       "  stroke: #ffffff; /* White stroke for maximum contrast */\n",
       "  stroke-width: 2; /* Thicker stroke for active notes */\n",
       "}\n",
       "&lt;/style&gt;\n",
       "\n",
       "          &lt;section id=&quot;section137&quot;&gt;&lt;p style=&quot;text-align:left;font-family:Arial;&quot;&gt;Janky Bells&lt;span style=&quot;float:right;&quot;&gt;&lt;a href=&quot;data:audio/midi;base64,TVRoZAAAAAYAAQACANxNVHJrAAAAEwD/UQMHoSAA/1gEBAIYCAH/LwBNVHJrAAAFOwDAAACQK0AAO0AAPkBqKwAAMkAAPgAAR0BpMgAAN0AARUAARwBqMkAANwAAQ0AARQBpK0AAMgAAOwAAO0AAPkAAQwBqKwAAMkBqMgAAN0BpMkAANwAAPgAAPkA1PgAAPkA1K0AAMgAAOwAAO0AAPgAAPkBpKwAAMkAAPgAAR0BqMgAAN0AARUAARwBqMkAANwAAQ0AARQBpMEAAMgAAOwAAPEAAQEAAQwBqMAAANEBpNAAANUAARUBqNQAAN0BqNkAANwAAPAAAPkAAQABpNgAAQkBqRQBpN0AAO0CBVDsAAEIAAENAAEdAaT4AajFAADcAADlAAEBAAEMAAEVAAEcAgVM0QAA5AAA9QABAAGo9AAA+QGk0AAA+AABEQABFAABHQGotQAA5QAA9QABFQABHAGkxAAA3QAA5AABEAGoyQAA2QAA3AAA9AAA+QABFAABFQGotAABCQABFAGk2AAA3QAA7QAA+AABCAABDQIFTKkAAOUAAOwAAQwAARUBqNwBqMgAAPEAARQBpKgAAOQAAQ0BqK0AAO0AAPABpKwAANEAANkAAOUAAOwA1MkAANAAANgA1LUAAMEAAMgAANEAAOQBqLQAANEBpL0AAMAAAMkAANAAANAAAN0CBUy8AADBAADIAADRAADcAADxAgVQwAAAyQAA2QAA5QAA8AGkyQAA0AABDAGoyAAA2AAA3QAA5AAA7QGkyAAA+QGoxQAA0QAA3AAA5QAA7AAA+AABFQGo0AAA2QDQzQAA2ADUsQAAxAAAzAAA0QAA5AAA7QABFAABHQGoyQAA0AGksAAAtQAAyAAA0QABHAABJQGo5QAA7AGotAAAyQIFTMgAANEAAOQAAQkAASQBpMkAANAAAPkAAQgAAQ0BqNAAAO0BqPgBpMUAAOwAAQEAARUBqL0AAMQAAMgAAQwBpLUAALwAAPUBqLQAAL0BqLwAAMUAAREAARQCBUy1AAD0AAEAAAEFAAEJAgVMtAAAvQAAxAAA+QABBAABEAIFTLUAALwAAPUAAPgAAQECBUytAAC0AADZAAEAAAEIAAEVAaj0AAD5AaisAADFAADRAADYAADpAAD4AAENAAEUAaTJAADQAADoAADtAajBAADEAADIAADRAADsAADxAaTQAADpAADwAajAAADJAADlAADoAAEJAgVNDAGo5AAA+QGk3QABCAGoqQAAxQAA3AAA5QAA+AABFQGoxAAAyAAA0QGkqAAAyQAA0AAA5AAA7QAA8QABAQABFAGo3QAA7AAA7QAA8AGktQAAyAAA3AAA5QAA7AAA8QABAAABCQGo2QAA5AGotAAAvQAAyQAA2AAA7QAA8AGkxQAAyAGooQAAvAAAxAAAyQAA3QAA7AABCAABDQGkoAAAqQAA3AAA5QGooQAAqAAA3QAA5AIFTJkAAKAAALUAAMgAANwAAPkAAQkAAQwCBUyYAACtAAC0AAC9AADdAAD4AAEBAAEIAajRAADcAai8AADJAADQAADtAaTFAADIAAEAAAEJAaisAAC9AADEAADJAADZAADsAAEIAAENAaTRAADYAajIAADQAAD5AgVMqQAAvAAA2QAA5QAA+AAA+QABDAGo+AABCQGkoQAAqAAA2AAA3QAA5AAA7QABCAABDQIFUKAAAKkAAOkAAOwAAPUAAQwCDJioAADJAajoAaTIAADcAAD0AAEJAajZAaS9AADJAADYAADtAAD5AAEIAgVQvAAAyAAA7AAA+AABDQABHQGk2QAA+QABDAGotQAA2AAA+AABHAGktAAH/LwA=&quot; target=&quot;_blank&quot;&gt;Download MIDI&lt;/a&gt;&lt;br&gt;&lt;/span&gt;&lt;/p&gt;\n",
       "          &lt;midi-player src=data:audio/midi;base64,TVRoZAAAAAYAAQACANxNVHJrAAAAEwD/UQMHoSAA/1gEBAIYCAH/LwBNVHJrAAAFOwDAAACQK0AAO0AAPkBqKwAAMkAAPgAAR0BpMgAAN0AARUAARwBqMkAANwAAQ0AARQBpK0AAMgAAOwAAO0AAPkAAQwBqKwAAMkBqMgAAN0BpMkAANwAAPgAAPkA1PgAAPkA1K0AAMgAAOwAAO0AAPgAAPkBpKwAAMkAAPgAAR0BqMgAAN0AARUAARwBqMkAANwAAQ0AARQBpMEAAMgAAOwAAPEAAQEAAQwBqMAAANEBpNAAANUAARUBqNQAAN0BqNkAANwAAPAAAPkAAQABpNgAAQkBqRQBpN0AAO0CBVDsAAEIAAENAAEdAaT4AajFAADcAADlAAEBAAEMAAEVAAEcAgVM0QAA5AAA9QABAAGo9AAA+QGk0AAA+AABEQABFAABHQGotQAA5QAA9QABFQABHAGkxAAA3QAA5AABEAGoyQAA2QAA3AAA9AAA+QABFAABFQGotAABCQABFAGk2AAA3QAA7QAA+AABCAABDQIFTKkAAOUAAOwAAQwAARUBqNwBqMgAAPEAARQBpKgAAOQAAQ0BqK0AAO0AAPABpKwAANEAANkAAOUAAOwA1MkAANAAANgA1LUAAMEAAMgAANEAAOQBqLQAANEBpL0AAMAAAMkAANAAANAAAN0CBUy8AADBAADIAADRAADcAADxAgVQwAAAyQAA2QAA5QAA8AGkyQAA0AABDAGoyAAA2AAA3QAA5AAA7QGkyAAA+QGoxQAA0QAA3AAA5QAA7AAA+AABFQGo0AAA2QDQzQAA2ADUsQAAxAAAzAAA0QAA5AAA7QABFAABHQGoyQAA0AGksAAAtQAAyAAA0QABHAABJQGo5QAA7AGotAAAyQIFTMgAANEAAOQAAQkAASQBpMkAANAAAPkAAQgAAQ0BqNAAAO0BqPgBpMUAAOwAAQEAARUBqL0AAMQAAMgAAQwBpLUAALwAAPUBqLQAAL0BqLwAAMUAAREAARQCBUy1AAD0AAEAAAEFAAEJAgVMtAAAvQAAxAAA+QABBAABEAIFTLUAALwAAPUAAPgAAQECBUytAAC0AADZAAEAAAEIAAEVAaj0AAD5AaisAADFAADRAADYAADpAAD4AAENAAEUAaTJAADQAADoAADtAajBAADEAADIAADRAADsAADxAaTQAADpAADwAajAAADJAADlAADoAAEJAgVNDAGo5AAA+QGk3QABCAGoqQAAxQAA3AAA5QAA+AABFQGoxAAAyAAA0QGkqAAAyQAA0AAA5AAA7QAA8QABAQABFAGo3QAA7AAA7QAA8AGktQAAyAAA3AAA5QAA7AAA8QABAAABCQGo2QAA5AGotAAAvQAAyQAA2AAA7QAA8AGkxQAAyAGooQAAvAAAxAAAyQAA3QAA7AABCAABDQGkoAAAqQAA3AAA5QGooQAAqAAA3QAA5AIFTJkAAKAAALUAAMgAANwAAPkAAQkAAQwCBUyYAACtAAC0AAC9AADdAAD4AAEBAAEIAajRAADcAai8AADJAADQAADtAaTFAADIAAEAAAEJAaisAAC9AADEAADJAADZAADsAAEIAAENAaTRAADYAajIAADQAAD5AgVMqQAAvAAA2QAA5QAA+AAA+QABDAGo+AABCQGkoQAAqAAA2AAA3QAA5AAA7QABCAABDQIFUKAAAKkAAOkAAOwAAPUAAQwCDJioAADJAajoAaTIAADcAAD0AAEJAajZAaS9AADJAADYAADtAAD5AAEIAgVQvAAAyAAA7AAA+AABDQABHQGk2QAA+QABDAGotQAA2AAA+AABHAGktAAH/LwA= sound-font visualizer=&quot;#section137 midi-visualizer&quot;&gt;&lt;/midi-player&gt;\n",
       "          &lt;midi-visualizer src=data:audio/midi;base64,TVRoZAAAAAYAAQACANxNVHJrAAAAEwD/UQMHoSAA/1gEBAIYCAH/LwBNVHJrAAAFOwDAAACQK0AAO0AAPkBqKwAAMkAAPgAAR0BpMgAAN0AARUAARwBqMkAANwAAQ0AARQBpK0AAMgAAOwAAO0AAPkAAQwBqKwAAMkBqMgAAN0BpMkAANwAAPgAAPkA1PgAAPkA1K0AAMgAAOwAAO0AAPgAAPkBpKwAAMkAAPgAAR0BqMgAAN0AARUAARwBqMkAANwAAQ0AARQBpMEAAMgAAOwAAPEAAQEAAQwBqMAAANEBpNAAANUAARUBqNQAAN0BqNkAANwAAPAAAPkAAQABpNgAAQkBqRQBpN0AAO0CBVDsAAEIAAENAAEdAaT4AajFAADcAADlAAEBAAEMAAEVAAEcAgVM0QAA5AAA9QABAAGo9AAA+QGk0AAA+AABEQABFAABHQGotQAA5QAA9QABFQABHAGkxAAA3QAA5AABEAGoyQAA2QAA3AAA9AAA+QABFAABFQGotAABCQABFAGk2AAA3QAA7QAA+AABCAABDQIFTKkAAOUAAOwAAQwAARUBqNwBqMgAAPEAARQBpKgAAOQAAQ0BqK0AAO0AAPABpKwAANEAANkAAOUAAOwA1MkAANAAANgA1LUAAMEAAMgAANEAAOQBqLQAANEBpL0AAMAAAMkAANAAANAAAN0CBUy8AADBAADIAADRAADcAADxAgVQwAAAyQAA2QAA5QAA8AGkyQAA0AABDAGoyAAA2AAA3QAA5AAA7QGkyAAA+QGoxQAA0QAA3AAA5QAA7AAA+AABFQGo0AAA2QDQzQAA2ADUsQAAxAAAzAAA0QAA5AAA7QABFAABHQGoyQAA0AGksAAAtQAAyAAA0QABHAABJQGo5QAA7AGotAAAyQIFTMgAANEAAOQAAQkAASQBpMkAANAAAPkAAQgAAQ0BqNAAAO0BqPgBpMUAAOwAAQEAARUBqL0AAMQAAMgAAQwBpLUAALwAAPUBqLQAAL0BqLwAAMUAAREAARQCBUy1AAD0AAEAAAEFAAEJAgVMtAAAvQAAxAAA+QABBAABEAIFTLUAALwAAPUAAPgAAQECBUytAAC0AADZAAEAAAEIAAEVAaj0AAD5AaisAADFAADRAADYAADpAAD4AAENAAEUAaTJAADQAADoAADtAajBAADEAADIAADRAADsAADxAaTQAADpAADwAajAAADJAADlAADoAAEJAgVNDAGo5AAA+QGk3QABCAGoqQAAxQAA3AAA5QAA+AABFQGoxAAAyAAA0QGkqAAAyQAA0AAA5AAA7QAA8QABAQABFAGo3QAA7AAA7QAA8AGktQAAyAAA3AAA5QAA7AAA8QABAAABCQGo2QAA5AGotAAAvQAAyQAA2AAA7QAA8AGkxQAAyAGooQAAvAAAxAAAyQAA3QAA7AABCAABDQGkoAAAqQAA3AAA5QGooQAAqAAA3QAA5AIFTJkAAKAAALUAAMgAANwAAPkAAQkAAQwCBUyYAACtAAC0AAC9AADdAAD4AAEBAAEIAajRAADcAai8AADJAADQAADtAaTFAADIAAEAAAEJAaisAAC9AADEAADJAADZAADsAAEIAAENAaTRAADYAajIAADQAAD5AgVMqQAAvAAA2QAA5QAA+AAA+QABDAGo+AABCQGkoQAAqAAA2AAA3QAA5AAA7QABCAABDQIFUKAAAKkAAOkAAOwAAPUAAQwCDJioAADJAajoAaTIAADcAAD0AAEJAajZAaS9AADJAADYAADtAAD5AAEIAgVQvAAAyAAA7AAA+AABDQABHQGk2QAA+QABDAGotQAA2AAA+AABHAGktAAH/LwA= type=piano-roll&gt;&lt;/midi-visualizer&gt;\n",
       "          &lt;/section&gt;\n",
       "          \" width=\"100%\" height=\"400\"\n",
       "            style=\"border:none !important;\"\n",
       "            \"allowfullscreen\" \"webkitallowfullscreen\" \"mozallowfullscreen\">'\n",
       "            </iframe>"
      ],
      "text/plain": [
       "<midi_player.midi_player.MIDIPlayer>"
      ]
     },
     "metadata": {},
     "output_type": "display_data"
    },
    {
     "data": {
      "text/html": [
       "<iframe srcdoc=\"&lt;script src=&quot;https://cdn.jsdelivr.net/combine/npm/tone@14.7.58,npm/@magenta/music@1.23.1/es6/core.js,npm/focus-visible@5,npm/html-midi-player@1.5.0&quot;&gt;&lt;/script&gt;\n",
       "\n",
       "&lt;style&gt;\n",
       "/* Custom player style */\n",
       "p { \n",
       "  margin: 0; \n",
       "  color: #c4c4c4; /* mid-lightness text color for title, intended for dark backgrounds */\n",
       "}\n",
       "\n",
       "#section137 midi-player {\n",
       "  display: block;\n",
       "  width: inherit;\n",
       "  margin: 4px;\n",
       "  margin-bottom: 0;\n",
       "  color: #d4d4d4; /* Lighter text color for better readability */\n",
       "}\n",
       "#section137 midi-player::part(control-panel) {\n",
       "  background: #004400; /* green background */\n",
       "  border: 2px solid #888; /* Lightened border color for contrast */\n",
       "  border-radius: 10px 10px 0 0;\n",
       "}\n",
       "#section137 midi-player::part(play-button) {\n",
       "  color: #ffffff; /* White text for visibility */\n",
       "  border: 2px solid currentColor;\n",
       "  background-color: #ff00000; \n",
       "  border-radius: 20px;\n",
       "  transition: all 0.2s;\n",
       "  content: &#x27;hello&#x27;;\n",
       "}\n",
       "#section137 midi-player::part(play-button):hover {\n",
       "  color: #a00; \n",
       "  background-color: #9fafc9; \n",
       "  border-radius: 10px;\n",
       "}\n",
       "#section137 midi-player::part(time) {\n",
       "  font-family: monospace; /* Monospace font for time */\n",
       "}\n",
       "\n",
       "/* Custom visualizer style */\n",
       "#section137 midi-visualizer .piano-roll-visualizer {\n",
       "  background: #900; /* red background for visualizer */\n",
       "  border: 2px solid #505050; /* Dark border for subtle appearance */\n",
       "  border-top: none;\n",
       "  border-radius: 0 0 10px 10px;\n",
       "  margin: 4px;\n",
       "  width: inherit;\n",
       "  margin-top: 0;\n",
       "  overflow: auto;\n",
       "}\n",
       "#section137 midi-visualizer svg rect.note {\n",
       "  opacity: 0.9; \n",
       "  stroke-width: 1; /* Stroke width for note clarity */\n",
       "}\n",
       "\n",
       "/* Different instrument colors */\n",
       "#section137 midi-visualizer svg rect.note[data-instrument=&quot;0&quot;]{\n",
       "  fill: #00f000; /* Green for Instrument 0 */\n",
       "  stroke: #444; \n",
       "}\n",
       "#section137 midi-visualizer svg rect.note[data-instrument=&quot;2&quot;]{\n",
       "  fill: #008000; /* Green for Instrument 2 */\n",
       "  stroke: #444;\n",
       "}\n",
       "#section137 midi-visualizer svg rect.note[data-is-drum=&quot;true&quot;]{\n",
       "  fill: #008000; /* Green for drum notes */\n",
       "  stroke: #bbb;\n",
       "}\n",
       "#section137 midi-visualizer svg rect.note.active {\n",
       "  opacity: 0.9; /* Highlight active notes */\n",
       "  stroke: #ffffff; /* White stroke for maximum contrast */\n",
       "  stroke-width: 2; /* Thicker stroke for active notes */\n",
       "}\n",
       "&lt;/style&gt;\n",
       "\n",
       "          &lt;section id=&quot;section137&quot;&gt;&lt;p style=&quot;text-align:left;font-family:Arial;&quot;&gt;Away in a Mangled&lt;span style=&quot;float:right;&quot;&gt;&lt;a href=&quot;data:audio/midi;base64,TVRoZAAAAAYAAQACANxNVHJrAAAAEwD/UQMHoSAA/1gEBAIYCAH/LwBNVHJrAAAFRQDAAACQMEAAN0AAPECBUylAADAAADVAADcAADlAADwAAEFAgVNBAABBQIFUKQAALkAAOQAAOkAAQQAAQ0BpQwAARUBqKUAALgAANUAAOUAAOgAAQUAARQCBU0EAAEFAgVMpAAAyQAA5AABBAABBQABFQGpFAABGQGktQAAyAAA0QABBAABFQABGAABIQIFUQ0AARQAASAAASECBUzJAADQAAEJAAEMAAEgAAEpARjUAgQ0yAAA3QABAQABCAABJQABKAIFTMkAAPkAAQUAASQCBUzFAADIAAD4AAEEAAEZARzUAhDMmQAAxAAA3AAA6QABAAABBQABGAEYtAIENJgAALUAAOgAAPECBUyhAAC0AAC5AADpAADwAAD5AAEBAgVQoAAAtQAAuAAA5QAA6AAA8QAA+AABAAABBAABIQIFTK0AALQAAOQAAOkAAPAAAPkAARkAASABpKwAALkAARUAARgBqLgAAMEAAN0AAOgAARQAARkCBUzAAADJAADVAADcAAEVAAEYAgVMtQAAyAAA8QAA+AGo1AABDQABFAGotAAAuQAA8AAA+QABBQABDAGk3QGotQAAuAAAwQAA3AAA5QAA+AABAQABBAGkrQAAtAGorAAAuQAAwAAAyQAA1QAA5AAA+QABAAGoqQAAuAGkqAAArQAA6QAA+AIFTKEAAMEAAMgAANQCBVCZAACgAACsAADAAADJAADVAADlAADoAgVMkQAAmAAArQAAyAAA0QAA1AAA5AAA8QGkkAAAmQAA0AAA1QGomAAAoQAA1AAA3QAA6QAA8AIFTKAAAKUAAKwAAMEAANwAAOUAAOgBqOQAAOkBpLUAAMAAANUAAOgAAPEBqKQBqK0AALkAAPABpLgAANEBqKwAAMkAANAAANQAANUAAOUCBUyhAAC0AADBAADIAADUAADdAADkAADpAai5AADAAaSgAAClAAC4AADBAADlAADoAaihAACkAAC5AADkAADpAaSgAAClAAC4AADAAADBAADlAADoAgVQmQAApAAAwAAAyQAA3AAA6QGkyAAA0QGohQAAmAAAwQAA0AAA2QAA5AAA6AAA8QIFTH0AAIQAALkAAMAAAMkAANgAAOkAAPABqMgAAM0BpHwAAJkAALgAAMwAANUBqM0AANQBpIkAAJgAAMkAAMwAANUBqJEAAJkAAMEAAMgBqIgAAIkAAMAAAOgBpIgAAJEAAJgAAK0BqKwAAN0BpJAAAJABqJEAALkAALkAAMEAANEAANQAANwBqMAAAM0AANABpJAAAKUAALUAALgAALgAAMwAANUBqKQAALQAAOUBpJEAAMEAANEAANQAAN0AAOQBqMkAANABqHUAAJAAAMgAANUAANwAAOUBpN0AAOQBqHQAAIkAAKUAAMAAAMEAANQAANwAAOUBpIgAAJEBqJAAAJEAAMAAANEBqJAAAJkAAKQAAMkAANAAANUAAOQAAOkBpJEAAJgAAMgAANEAANQAAN0AAOgBqLUAAMkAANABpJAAALQAAMgAANUAAOUBqMkAANUAANwBqMEAAMgAANQBpIkAAMAAAOkAAPkBqIUAAIgAAOQBpH0AAIQAANQAAN0AAPEAAPgCBVB8AACFAADVAADcAADlAADoAaTNAADUAaiEAACJAADJAADMAADdAADkAADpAADwAgVMiAAAoQAA6AAA8QGokQAAoAAAwQAAyADQvQAAwADUkAAAmQAAtQAAvAAA8AAA+QIFTHkAAJgAAK0AALQAANwAAOkAAPgAAQEBqHgAAJEAAOgBqJAAAKwAAQAAB/y8A&quot; target=&quot;_blank&quot;&gt;Download MIDI&lt;/a&gt;&lt;br&gt;&lt;/span&gt;&lt;/p&gt;\n",
       "          &lt;midi-player src=data:audio/midi;base64,TVRoZAAAAAYAAQACANxNVHJrAAAAEwD/UQMHoSAA/1gEBAIYCAH/LwBNVHJrAAAFRQDAAACQMEAAN0AAPECBUylAADAAADVAADcAADlAADwAAEFAgVNBAABBQIFUKQAALkAAOQAAOkAAQQAAQ0BpQwAARUBqKUAALgAANUAAOUAAOgAAQUAARQCBU0EAAEFAgVMpAAAyQAA5AABBAABBQABFQGpFAABGQGktQAAyAAA0QABBAABFQABGAABIQIFUQ0AARQAASAAASECBUzJAADQAAEJAAEMAAEgAAEpARjUAgQ0yAAA3QABAQABCAABJQABKAIFTMkAAPkAAQUAASQCBUzFAADIAAD4AAEEAAEZARzUAhDMmQAAxAAA3AAA6QABAAABBQABGAEYtAIENJgAALUAAOgAAPECBUyhAAC0AAC5AADpAADwAAD5AAEBAgVQoAAAtQAAuAAA5QAA6AAA8QAA+AABAAABBAABIQIFTK0AALQAAOQAAOkAAPAAAPkAARkAASABpKwAALkAARUAARgBqLgAAMEAAN0AAOgAARQAARkCBUzAAADJAADVAADcAAEVAAEYAgVMtQAAyAAA8QAA+AGo1AABDQABFAGotAAAuQAA8AAA+QABBQABDAGk3QGotQAAuAAAwQAA3AAA5QAA+AABAQABBAGkrQAAtAGorAAAuQAAwAAAyQAA1QAA5AAA+QABAAGoqQAAuAGkqAAArQAA6QAA+AIFTKEAAMEAAMgAANQCBVCZAACgAACsAADAAADJAADVAADlAADoAgVMkQAAmAAArQAAyAAA0QAA1AAA5AAA8QGkkAAAmQAA0AAA1QGomAAAoQAA1AAA3QAA6QAA8AIFTKAAAKUAAKwAAMEAANwAAOUAAOgBqOQAAOkBpLUAAMAAANUAAOgAAPEBqKQBqK0AALkAAPABpLgAANEBqKwAAMkAANAAANQAANUAAOUCBUyhAAC0AADBAADIAADUAADdAADkAADpAai5AADAAaSgAAClAAC4AADBAADlAADoAaihAACkAAC5AADkAADpAaSgAAClAAC4AADAAADBAADlAADoAgVQmQAApAAAwAAAyQAA3AAA6QGkyAAA0QGohQAAmAAAwQAA0AAA2QAA5AAA6AAA8QIFTH0AAIQAALkAAMAAAMkAANgAAOkAAPABqMgAAM0BpHwAAJkAALgAAMwAANUBqM0AANQBpIkAAJgAAMkAAMwAANUBqJEAAJkAAMEAAMgBqIgAAIkAAMAAAOgBpIgAAJEAAJgAAK0BqKwAAN0BpJAAAJABqJEAALkAALkAAMEAANEAANQAANwBqMAAAM0AANABpJAAAKUAALUAALgAALgAAMwAANUBqKQAALQAAOUBpJEAAMEAANEAANQAAN0AAOQBqMkAANABqHUAAJAAAMgAANUAANwAAOUBpN0AAOQBqHQAAIkAAKUAAMAAAMEAANQAANwAAOUBpIgAAJEBqJAAAJEAAMAAANEBqJAAAJkAAKQAAMkAANAAANUAAOQAAOkBpJEAAJgAAMgAANEAANQAAN0AAOgBqLUAAMkAANABpJAAALQAAMgAANUAAOUBqMkAANUAANwBqMEAAMgAANQBpIkAAMAAAOkAAPkBqIUAAIgAAOQBpH0AAIQAANQAAN0AAPEAAPgCBVB8AACFAADVAADcAADlAADoAaTNAADUAaiEAACJAADJAADMAADdAADkAADpAADwAgVMiAAAoQAA6AAA8QGokQAAoAAAwQAAyADQvQAAwADUkAAAmQAAtQAAvAAA8AAA+QIFTHkAAJgAAK0AALQAANwAAOkAAPgAAQEBqHgAAJEAAOgBqJAAAKwAAQAAB/y8A sound-font visualizer=&quot;#section137 midi-visualizer&quot;&gt;&lt;/midi-player&gt;\n",
       "          &lt;midi-visualizer src=data:audio/midi;base64,TVRoZAAAAAYAAQACANxNVHJrAAAAEwD/UQMHoSAA/1gEBAIYCAH/LwBNVHJrAAAFRQDAAACQMEAAN0AAPECBUylAADAAADVAADcAADlAADwAAEFAgVNBAABBQIFUKQAALkAAOQAAOkAAQQAAQ0BpQwAARUBqKUAALgAANUAAOUAAOgAAQUAARQCBU0EAAEFAgVMpAAAyQAA5AABBAABBQABFQGpFAABGQGktQAAyAAA0QABBAABFQABGAABIQIFUQ0AARQAASAAASECBUzJAADQAAEJAAEMAAEgAAEpARjUAgQ0yAAA3QABAQABCAABJQABKAIFTMkAAPkAAQUAASQCBUzFAADIAAD4AAEEAAEZARzUAhDMmQAAxAAA3AAA6QABAAABBQABGAEYtAIENJgAALUAAOgAAPECBUyhAAC0AAC5AADpAADwAAD5AAEBAgVQoAAAtQAAuAAA5QAA6AAA8QAA+AABAAABBAABIQIFTK0AALQAAOQAAOkAAPAAAPkAARkAASABpKwAALkAARUAARgBqLgAAMEAAN0AAOgAARQAARkCBUzAAADJAADVAADcAAEVAAEYAgVMtQAAyAAA8QAA+AGo1AABDQABFAGotAAAuQAA8AAA+QABBQABDAGk3QGotQAAuAAAwQAA3AAA5QAA+AABAQABBAGkrQAAtAGorAAAuQAAwAAAyQAA1QAA5AAA+QABAAGoqQAAuAGkqAAArQAA6QAA+AIFTKEAAMEAAMgAANQCBVCZAACgAACsAADAAADJAADVAADlAADoAgVMkQAAmAAArQAAyAAA0QAA1AAA5AAA8QGkkAAAmQAA0AAA1QGomAAAoQAA1AAA3QAA6QAA8AIFTKAAAKUAAKwAAMEAANwAAOUAAOgBqOQAAOkBpLUAAMAAANUAAOgAAPEBqKQBqK0AALkAAPABpLgAANEBqKwAAMkAANAAANQAANUAAOUCBUyhAAC0AADBAADIAADUAADdAADkAADpAai5AADAAaSgAAClAAC4AADBAADlAADoAaihAACkAAC5AADkAADpAaSgAAClAAC4AADAAADBAADlAADoAgVQmQAApAAAwAAAyQAA3AAA6QGkyAAA0QGohQAAmAAAwQAA0AAA2QAA5AAA6AAA8QIFTH0AAIQAALkAAMAAAMkAANgAAOkAAPABqMgAAM0BpHwAAJkAALgAAMwAANUBqM0AANQBpIkAAJgAAMkAAMwAANUBqJEAAJkAAMEAAMgBqIgAAIkAAMAAAOgBpIgAAJEAAJgAAK0BqKwAAN0BpJAAAJABqJEAALkAALkAAMEAANEAANQAANwBqMAAAM0AANABpJAAAKUAALUAALgAALgAAMwAANUBqKQAALQAAOUBpJEAAMEAANEAANQAAN0AAOQBqMkAANABqHUAAJAAAMgAANUAANwAAOUBpN0AAOQBqHQAAIkAAKUAAMAAAMEAANQAANwAAOUBpIgAAJEBqJAAAJEAAMAAANEBqJAAAJkAAKQAAMkAANAAANUAAOQAAOkBpJEAAJgAAMgAANEAANQAAN0AAOgBqLUAAMkAANABpJAAALQAAMgAANUAAOUBqMkAANUAANwBqMEAAMgAANQBpIkAAMAAAOkAAPkBqIUAAIgAAOQBpH0AAIQAANQAAN0AAPEAAPgCBVB8AACFAADVAADcAADlAADoAaTNAADUAaiEAACJAADJAADMAADdAADkAADpAADwAgVMiAAAoQAA6AAA8QGokQAAoAAAwQAAyADQvQAAwADUkAAAmQAAtQAAvAAA8AAA+QIFTHkAAJgAAK0AALQAANwAAOkAAPgAAQEBqHgAAJEAAOgBqJAAAKwAAQAAB/y8A type=piano-roll&gt;&lt;/midi-visualizer&gt;\n",
       "          &lt;/section&gt;\n",
       "          \" width=\"100%\" height=\"400\"\n",
       "            style=\"border:none !important;\"\n",
       "            \"allowfullscreen\" \"webkitallowfullscreen\" \"mozallowfullscreen\">'\n",
       "            </iframe>"
      ],
      "text/plain": [
       "<midi_player.midi_player.MIDIPlayer>"
      ]
     },
     "metadata": {},
     "output_type": "display_data"
    },
    {
     "data": {
      "text/html": [
       "<iframe srcdoc=\"&lt;script src=&quot;https://cdn.jsdelivr.net/combine/npm/tone@14.7.58,npm/@magenta/music@1.23.1/es6/core.js,npm/focus-visible@5,npm/html-midi-player@1.5.0&quot;&gt;&lt;/script&gt;\n",
       "\n",
       "&lt;style&gt;\n",
       "/* Custom player style */\n",
       "p { \n",
       "  margin: 0; \n",
       "  color: #c4c4c4; /* mid-lightness text color for title, intended for dark backgrounds */\n",
       "}\n",
       "\n",
       "#section137 midi-player {\n",
       "  display: block;\n",
       "  width: inherit;\n",
       "  margin: 4px;\n",
       "  margin-bottom: 0;\n",
       "  color: #d4d4d4; /* Lighter text color for better readability */\n",
       "}\n",
       "#section137 midi-player::part(control-panel) {\n",
       "  background: #004400; /* green background */\n",
       "  border: 2px solid #888; /* Lightened border color for contrast */\n",
       "  border-radius: 10px 10px 0 0;\n",
       "}\n",
       "#section137 midi-player::part(play-button) {\n",
       "  color: #ffffff; /* White text for visibility */\n",
       "  border: 2px solid currentColor;\n",
       "  background-color: #ff00000; \n",
       "  border-radius: 20px;\n",
       "  transition: all 0.2s;\n",
       "  content: &#x27;hello&#x27;;\n",
       "}\n",
       "#section137 midi-player::part(play-button):hover {\n",
       "  color: #a00; \n",
       "  background-color: #9fafc9; \n",
       "  border-radius: 10px;\n",
       "}\n",
       "#section137 midi-player::part(time) {\n",
       "  font-family: monospace; /* Monospace font for time */\n",
       "}\n",
       "\n",
       "/* Custom visualizer style */\n",
       "#section137 midi-visualizer .piano-roll-visualizer {\n",
       "  background: #900; /* red background for visualizer */\n",
       "  border: 2px solid #505050; /* Dark border for subtle appearance */\n",
       "  border-top: none;\n",
       "  border-radius: 0 0 10px 10px;\n",
       "  margin: 4px;\n",
       "  width: inherit;\n",
       "  margin-top: 0;\n",
       "  overflow: auto;\n",
       "}\n",
       "#section137 midi-visualizer svg rect.note {\n",
       "  opacity: 0.9; \n",
       "  stroke-width: 1; /* Stroke width for note clarity */\n",
       "}\n",
       "\n",
       "/* Different instrument colors */\n",
       "#section137 midi-visualizer svg rect.note[data-instrument=&quot;0&quot;]{\n",
       "  fill: #00f000; /* Green for Instrument 0 */\n",
       "  stroke: #444; \n",
       "}\n",
       "#section137 midi-visualizer svg rect.note[data-instrument=&quot;2&quot;]{\n",
       "  fill: #008000; /* Green for Instrument 2 */\n",
       "  stroke: #444;\n",
       "}\n",
       "#section137 midi-visualizer svg rect.note[data-is-drum=&quot;true&quot;]{\n",
       "  fill: #008000; /* Green for drum notes */\n",
       "  stroke: #bbb;\n",
       "}\n",
       "#section137 midi-visualizer svg rect.note.active {\n",
       "  opacity: 0.9; /* Highlight active notes */\n",
       "  stroke: #ffffff; /* White stroke for maximum contrast */\n",
       "  stroke-width: 2; /* Thicker stroke for active notes */\n",
       "}\n",
       "&lt;/style&gt;\n",
       "\n",
       "          &lt;section id=&quot;section137&quot;&gt;&lt;p style=&quot;text-align:left;font-family:Arial;&quot;&gt;Arg the Herald Angels Cringe&lt;span style=&quot;float:right;&quot;&gt;&lt;a href=&quot;data:audio/midi;base64,TVRoZAAAAAYAAQACANxNVHJrAAAAEwD/UQMHoSAA/1gEBAIYCAH/LwBNVHJrAAAFPADAAACQNUAAOUAAPECBUzUAADVAADkAADlAADwAADxAAEFAgVM1AAA1QAA5AAA5QAA8AAA8QABBAABBQIFUMEAANQBpN0AAOQAAPAAAPEAAQEAAQQBqLUAAMAAANwAAOUAAPAAAPEAAQAAAQUCBUylAAC0AADkAADwAADxAAEEAAEFAAEVAgVMpAAAwQAA8AAA8QABBAABBQABFAABFQIFTQEAAQQAAQ0AARQCBVC1AAEAAAEFAAEMAaUBAailAAC0AADlAAEEAaTkAAEAAAEFAaikAADxAAEBAAEEAakNAaTpAADwAAEAAAEFAakMAaTlAgyc6AEYwAAA8AIENMEAAN0AAOQAAPEAAQEAAQQCBUy5AADAAADVAADcAADpAADwAAD1AAEAAajhAADoAaS4AADBAADUAAD0AAD9AgVQpQAAwAAA1QAA4AAA4QAA9QAA/AGkoQAApAAA1AAA8QAA9AGomQAAoAAA1QAA4AAA6QAA8AAA9QGkmAAAoQGooAAApQAA8QAA9AGosQAA1ADQqQAAsADUgQAApAAAqAAAwQAA4QAA6AAA8AAA/QIFTIAAAKUAAMAAAMUAAOAAAOEBqMEAAMQBqKQAAK0AALkAAMAAAOAAAOkAAPUAAPwBpLgAAM0BqKwAALEAAMwAANUAAOgAAPEAAPQBpK0AALABqKwAALEAAM0BqMwBpLAAALkAAMUAANQAAOkAAPAAAPkBqLEAALgAAPEAAPgBpK0AALAAAMQAAM0AAPAAAP0CBVCsAADMAADNAADdAADoAADpAaThAADoAajBAADMAADNAADcAAD8AAERAaTJAADMAai5AADAAADIAADNAADdAADgAAENAAEQAajhAAEFAAEMAaS4AADBAADcAADdAADgAAD9AAEEAajJAADMAaSlAADAAADBAADIAADcAADhAAD8AAEFAajdAADgAAD9AAEEAaiVAACkAAC5AADAAADVAADcAAD8AAEFAaSRAACUAADRAADUAaiJAACQAAClAAC4AADQAADpAAD5AAEEAaSkAADhAaiIAACdAADdAADgAAD4AAD9AajhAADoAaSRAADcAADdAADxAAD8AajgAgj0kAAAzQAA3AAA3QAA6QIFTJwAAMEAAMEAAMkAAMwAANUAANwAAOUAAOgAAOkAAPABpLkAAMAAAMgAAPkBqMAAANQAAN0AAOgAAPgAAP0BqLUAALgAANUAAOQAAPEAAPwBpNwAAOUAAPAAAPkBqLQAALkAAM0AANQAAN0AAOQAAPEAAPgBpMwAANUAANwAAOUAAPAAAPkBqLgAAMkAANQAANUAAOQAAO0BqMEAAMgAAM0AANQAAN0AAOwAAPEAAPgBpMAAAMkAAMwAANkAAOUAAPABqJkAANgAANwAAO0BpJgAAJ0AAOQBqJwAAK0AAN0BqKwAAOkAAOwBpJkAAMkAANkAANwAAOUAAOgBqMgBpJgAAMEAAMgAANgAAN0AAOQAAQECBVC9AADAAADJAAD5AAEAAaS1AAC8AADcAADlAaitAAC0AADIAADdAADkAADtAaTZAADcAaisAAC1AADBAADRAADYAADsAADxAAD4AgVMmQAAtAAAwAAAyQAA0AAA2QGojQAAmAGkjAAAwQAA5QAA8AGowAAAyAAAyQGoyAAA2AAA2QAA+QGkvQAA2AAA2QAA3QAA5AGotQAAvAAA0QAA2AAA3AAA8QGkrQAAtAAA7QAA8AGorAAAtQAAwQAA5QAA7AGowAAAyQGktAAAyAAA5AAA+AIFTNAAB/y8A&quot; target=&quot;_blank&quot;&gt;Download MIDI&lt;/a&gt;&lt;br&gt;&lt;/span&gt;&lt;/p&gt;\n",
       "          &lt;midi-player src=data:audio/midi;base64,TVRoZAAAAAYAAQACANxNVHJrAAAAEwD/UQMHoSAA/1gEBAIYCAH/LwBNVHJrAAAFPADAAACQNUAAOUAAPECBUzUAADVAADkAADlAADwAADxAAEFAgVM1AAA1QAA5AAA5QAA8AAA8QABBAABBQIFUMEAANQBpN0AAOQAAPAAAPEAAQEAAQQBqLUAAMAAANwAAOUAAPAAAPEAAQAAAQUCBUylAAC0AADkAADwAADxAAEEAAEFAAEVAgVMpAAAwQAA8AAA8QABBAABBQABFAABFQIFTQEAAQQAAQ0AARQCBVC1AAEAAAEFAAEMAaUBAailAAC0AADlAAEEAaTkAAEAAAEFAaikAADxAAEBAAEEAakNAaTpAADwAAEAAAEFAakMAaTlAgyc6AEYwAAA8AIENMEAAN0AAOQAAPEAAQEAAQQCBUy5AADAAADVAADcAADpAADwAAD1AAEAAajhAADoAaS4AADBAADUAAD0AAD9AgVQpQAAwAAA1QAA4AAA4QAA9QAA/AGkoQAApAAA1AAA8QAA9AGomQAAoAAA1QAA4AAA6QAA8AAA9QGkmAAAoQGooAAApQAA8QAA9AGosQAA1ADQqQAAsADUgQAApAAAqAAAwQAA4QAA6AAA8AAA/QIFTIAAAKUAAMAAAMUAAOAAAOEBqMEAAMQBqKQAAK0AALkAAMAAAOAAAOkAAPUAAPwBpLgAAM0BqKwAALEAAMwAANUAAOgAAPEAAPQBpK0AALABqKwAALEAAM0BqMwBpLAAALkAAMUAANQAAOkAAPAAAPkBqLEAALgAAPEAAPgBpK0AALAAAMQAAM0AAPAAAP0CBVCsAADMAADNAADdAADoAADpAaThAADoAajBAADMAADNAADcAAD8AAERAaTJAADMAai5AADAAADIAADNAADdAADgAAENAAEQAajhAAEFAAEMAaS4AADBAADcAADdAADgAAD9AAEEAajJAADMAaSlAADAAADBAADIAADcAADhAAD8AAEFAajdAADgAAD9AAEEAaiVAACkAAC5AADAAADVAADcAAD8AAEFAaSRAACUAADRAADUAaiJAACQAAClAAC4AADQAADpAAD5AAEEAaSkAADhAaiIAACdAADdAADgAAD4AAD9AajhAADoAaSRAADcAADdAADxAAD8AajgAgj0kAAAzQAA3AAA3QAA6QIFTJwAAMEAAMEAAMkAAMwAANUAANwAAOUAAOgAAOkAAPABpLkAAMAAAMgAAPkBqMAAANQAAN0AAOgAAPgAAP0BqLUAALgAANUAAOQAAPEAAPwBpNwAAOUAAPAAAPkBqLQAALkAAM0AANQAAN0AAOQAAPEAAPgBpMwAANUAANwAAOUAAPAAAPkBqLgAAMkAANQAANUAAOQAAO0BqMEAAMgAAM0AANQAAN0AAOwAAPEAAPgBpMAAAMkAAMwAANkAAOUAAPABqJkAANgAANwAAO0BpJgAAJ0AAOQBqJwAAK0AAN0BqKwAAOkAAOwBpJkAAMkAANkAANwAAOUAAOgBqMgBpJgAAMEAAMgAANgAAN0AAOQAAQECBVC9AADAAADJAAD5AAEAAaS1AAC8AADcAADlAaitAAC0AADIAADdAADkAADtAaTZAADcAaisAAC1AADBAADRAADYAADsAADxAAD4AgVMmQAAtAAAwAAAyQAA0AAA2QGojQAAmAGkjAAAwQAA5QAA8AGowAAAyAAAyQGoyAAA2AAA2QAA+QGkvQAA2AAA2QAA3QAA5AGotQAAvAAA0QAA2AAA3AAA8QGkrQAAtAAA7QAA8AGorAAAtQAAwQAA5QAA7AGowAAAyQGktAAAyAAA5AAA+AIFTNAAB/y8A sound-font visualizer=&quot;#section137 midi-visualizer&quot;&gt;&lt;/midi-player&gt;\n",
       "          &lt;midi-visualizer src=data:audio/midi;base64,TVRoZAAAAAYAAQACANxNVHJrAAAAEwD/UQMHoSAA/1gEBAIYCAH/LwBNVHJrAAAFPADAAACQNUAAOUAAPECBUzUAADVAADkAADlAADwAADxAAEFAgVM1AAA1QAA5AAA5QAA8AAA8QABBAABBQIFUMEAANQBpN0AAOQAAPAAAPEAAQEAAQQBqLUAAMAAANwAAOUAAPAAAPEAAQAAAQUCBUylAAC0AADkAADwAADxAAEEAAEFAAEVAgVMpAAAwQAA8AAA8QABBAABBQABFAABFQIFTQEAAQQAAQ0AARQCBVC1AAEAAAEFAAEMAaUBAailAAC0AADlAAEEAaTkAAEAAAEFAaikAADxAAEBAAEEAakNAaTpAADwAAEAAAEFAakMAaTlAgyc6AEYwAAA8AIENMEAAN0AAOQAAPEAAQEAAQQCBUy5AADAAADVAADcAADpAADwAAD1AAEAAajhAADoAaS4AADBAADUAAD0AAD9AgVQpQAAwAAA1QAA4AAA4QAA9QAA/AGkoQAApAAA1AAA8QAA9AGomQAAoAAA1QAA4AAA6QAA8AAA9QGkmAAAoQGooAAApQAA8QAA9AGosQAA1ADQqQAAsADUgQAApAAAqAAAwQAA4QAA6AAA8AAA/QIFTIAAAKUAAMAAAMUAAOAAAOEBqMEAAMQBqKQAAK0AALkAAMAAAOAAAOkAAPUAAPwBpLgAAM0BqKwAALEAAMwAANUAAOgAAPEAAPQBpK0AALABqKwAALEAAM0BqMwBpLAAALkAAMUAANQAAOkAAPAAAPkBqLEAALgAAPEAAPgBpK0AALAAAMQAAM0AAPAAAP0CBVCsAADMAADNAADdAADoAADpAaThAADoAajBAADMAADNAADcAAD8AAERAaTJAADMAai5AADAAADIAADNAADdAADgAAENAAEQAajhAAEFAAEMAaS4AADBAADcAADdAADgAAD9AAEEAajJAADMAaSlAADAAADBAADIAADcAADhAAD8AAEFAajdAADgAAD9AAEEAaiVAACkAAC5AADAAADVAADcAAD8AAEFAaSRAACUAADRAADUAaiJAACQAAClAAC4AADQAADpAAD5AAEEAaSkAADhAaiIAACdAADdAADgAAD4AAD9AajhAADoAaSRAADcAADdAADxAAD8AajgAgj0kAAAzQAA3AAA3QAA6QIFTJwAAMEAAMEAAMkAAMwAANUAANwAAOUAAOgAAOkAAPABpLkAAMAAAMgAAPkBqMAAANQAAN0AAOgAAPgAAP0BqLUAALgAANUAAOQAAPEAAPwBpNwAAOUAAPAAAPkBqLQAALkAAM0AANQAAN0AAOQAAPEAAPgBpMwAANUAANwAAOUAAPAAAPkBqLgAAMkAANQAANUAAOQAAO0BqMEAAMgAAM0AANQAAN0AAOwAAPEAAPgBpMAAAMkAAMwAANkAAOUAAPABqJkAANgAANwAAO0BpJgAAJ0AAOQBqJwAAK0AAN0BqKwAAOkAAOwBpJkAAMkAANkAANwAAOUAAOgBqMgBpJgAAMEAAMgAANgAAN0AAOQAAQECBVC9AADAAADJAAD5AAEAAaS1AAC8AADcAADlAaitAAC0AADIAADdAADkAADtAaTZAADcAaisAAC1AADBAADRAADYAADsAADxAAD4AgVMmQAAtAAAwAAAyQAA0AAA2QGojQAAmAGkjAAAwQAA5QAA8AGowAAAyAAAyQGoyAAA2AAA2QAA+QGkvQAA2AAA2QAA3QAA5AGotQAAvAAA0QAA2AAA3AAA8QGkrQAAtAAA7QAA8AGorAAAtQAAwQAA5QAA7AGowAAAyQGktAAAyAAA5AAA+AIFTNAAB/y8A type=piano-roll&gt;&lt;/midi-visualizer&gt;\n",
       "          &lt;/section&gt;\n",
       "          \" width=\"100%\" height=\"400\"\n",
       "            style=\"border:none !important;\"\n",
       "            \"allowfullscreen\" \"webkitallowfullscreen\" \"mozallowfullscreen\">'\n",
       "            </iframe>"
      ],
      "text/plain": [
       "<midi_player.midi_player.MIDIPlayer>"
      ]
     },
     "metadata": {},
     "output_type": "display_data"
    }
   ],
   "source": [
    "#| code-fold: true\n",
    "#| code-summary: \"Show the code\"\n",
    "\n",
    "xmas_css = '''\n",
    "<style>\n",
    "/* Custom player style */\n",
    "p { \n",
    "  margin: 0; \n",
    "  color: #c4c4c4; /* mid-lightness text color for title, intended for dark backgrounds */\n",
    "}\n",
    "\n",
    "#section3 midi-player {\n",
    "  display: block;\n",
    "  width: inherit;\n",
    "  margin: 4px;\n",
    "  margin-bottom: 0;\n",
    "  color: #d4d4d4; /* Lighter text color for better readability */\n",
    "}\n",
    "#section3 midi-player::part(control-panel) {\n",
    "  background: #004400; /* green background */\n",
    "  border: 2px solid #888; /* Lightened border color for contrast */\n",
    "  border-radius: 10px 10px 0 0;\n",
    "}\n",
    "#section3 midi-player::part(play-button) {\n",
    "  color: #ffffff; /* White text for visibility */\n",
    "  border: 2px solid currentColor;\n",
    "  background-color: #ff00000; \n",
    "  border-radius: 20px;\n",
    "  transition: all 0.2s;\n",
    "  content: 'hello';\n",
    "}\n",
    "#section3 midi-player::part(play-button):hover {\n",
    "  color: #a00; \n",
    "  background-color: #9fafc9; \n",
    "  border-radius: 10px;\n",
    "}\n",
    "#section3 midi-player::part(time) {\n",
    "  font-family: monospace; /* Monospace font for time */\n",
    "}\n",
    "\n",
    "/* Custom visualizer style */\n",
    "#section3 midi-visualizer .piano-roll-visualizer {\n",
    "  background: #900; /* red background for visualizer */\n",
    "  border: 2px solid #505050; /* Dark border for subtle appearance */\n",
    "  border-top: none;\n",
    "  border-radius: 0 0 10px 10px;\n",
    "  margin: 4px;\n",
    "  width: inherit;\n",
    "  margin-top: 0;\n",
    "  overflow: auto;\n",
    "}\n",
    "#section3 midi-visualizer svg rect.note {\n",
    "  opacity: 0.9; \n",
    "  stroke-width: 1; /* Stroke width for note clarity */\n",
    "}\n",
    "\n",
    "/* Different instrument colors */\n",
    "#section3 midi-visualizer svg rect.note[data-instrument=\"0\"]{\n",
    "  fill: #00f000; /* Green for Instrument 0 */\n",
    "  stroke: #444; \n",
    "}\n",
    "#section3 midi-visualizer svg rect.note[data-instrument=\"2\"]{\n",
    "  fill: #008000; /* Green for Instrument 2 */\n",
    "  stroke: #444;\n",
    "}\n",
    "#section3 midi-visualizer svg rect.note[data-is-drum=\"true\"]{\n",
    "  fill: #008000; /* Green for drum notes */\n",
    "  stroke: #bbb;\n",
    "}\n",
    "#section3 midi-visualizer svg rect.note.active {\n",
    "  opacity: 0.9; /* Highlight active notes */\n",
    "  stroke: #ffffff; /* White stroke for maximum contrast */\n",
    "  stroke-width: 2; /* Thicker stroke for active notes */\n",
    "}\n",
    "</style>\n",
    "'''\n",
    "\n",
    "def xmasplayer(notes_tensor, height=400, time_rescale=None, midi_file=\"/tmp/tmp.mid\", title='', styler=general, css=xmas_css):\n",
    "    \"MIDIplayer that writes input tensor to temporary file\"\n",
    "    pm = notes_to_midi(notes_tensor, time_rescale=time_rescale, out_file=midi_file)\n",
    "    return MIDIPlayer(midi_file, height, styler=partial(styler, css=css), dl=True, title=title)\n",
    "\n",
    "def christmas_ohno(filename, title=\"\", time_rescale=0.242/0.2880, debug=False):\n",
    "    url = \"https://www.mfiles.co.uk/downloads/\"+filename\n",
    "    !wget -qq -N {url}\n",
    "    \n",
    "    notes = midi_file_to_tensor(filename)\n",
    "    if debug: print(\"notes = \",notes)\n",
    "    notes[:,1:] = quantize_times(notes[:,1:]*time_rescale, res_ms=10) # time rescale is mainly to get codebooks to agree\n",
    "    prompt = notes[:30]\n",
    "    prompt_tokens = encode(prompt).unsqueeze(0).to(device)\n",
    "    set_seeds(1)\n",
    "    notes = decode( model.generate(prompt_tokens, max_new_tokens=new_tokens, temperature=0.9)[0].cpu() )\n",
    "    return xmasplayer(notes,title=title)\n",
    "\n",
    "c1 = christmas_ohno(\"jingle-bells-keyboard.mid\", title=\"Janky Bells\")\n",
    "c2 = christmas_ohno(\"away-in-a-manger.mid\", title=\"Away in a Mangled\", time_rescale=.48/.68)\n",
    "c3 = christmas_ohno(\"hark-the-herald-angels-sing.mid\", title=\"Arg the Herald Angels Cringe\",time_rescale=.48/.616)\n",
    "display(c1)\n",
    "display(c2)\n",
    "display(c3)"
   ]
  },
  {
   "cell_type": "code",
   "execution_count": null,
   "metadata": {},
   "outputs": [
    {
     "data": {
      "text/html": [
       "wandb version 0.16.1 is available!  To upgrade, please run:\n",
       " $ pip install wandb --upgrade"
      ],
      "text/plain": [
       "<IPython.core.display.HTML object>"
      ]
     },
     "metadata": {},
     "output_type": "display_data"
    },
    {
     "data": {
      "text/html": [
       "Tracking run with wandb version 0.15.4"
      ],
      "text/plain": [
       "<IPython.core.display.HTML object>"
      ]
     },
     "metadata": {},
     "output_type": "display_data"
    },
    {
     "data": {
      "text/html": [
       "Run data is saved locally in <code>/Users/shawley/github/blog/posts/wandb/run-20231215_095344-5tq6e8el</code>"
      ],
      "text/plain": [
       "<IPython.core.display.HTML object>"
      ]
     },
     "metadata": {},
     "output_type": "display_data"
    },
    {
     "data": {
      "text/html": [
       "Syncing run <strong><a href='https://wandb.ai/drscotthawley/musicbox-jsb-xmas/runs/5tq6e8el' target=\"_blank\">sunny-universe-3</a></strong> to <a href='https://wandb.ai/drscotthawley/musicbox-jsb-xmas' target=\"_blank\">Weights & Biases</a> (<a href='https://wandb.me/run' target=\"_blank\">docs</a>)<br/>"
      ],
      "text/plain": [
       "<IPython.core.display.HTML object>"
      ]
     },
     "metadata": {},
     "output_type": "display_data"
    },
    {
     "data": {
      "text/html": [
       " View project at <a href='https://wandb.ai/drscotthawley/musicbox-jsb-xmas' target=\"_blank\">https://wandb.ai/drscotthawley/musicbox-jsb-xmas</a>"
      ],
      "text/plain": [
       "<IPython.core.display.HTML object>"
      ]
     },
     "metadata": {},
     "output_type": "display_data"
    },
    {
     "data": {
      "text/html": [
       " View run at <a href='https://wandb.ai/drscotthawley/musicbox-jsb-xmas/runs/5tq6e8el' target=\"_blank\">https://wandb.ai/drscotthawley/musicbox-jsb-xmas/runs/5tq6e8el</a>"
      ],
      "text/plain": [
       "<IPython.core.display.HTML object>"
      ]
     },
     "metadata": {},
     "output_type": "display_data"
    },
    {
     "data": {
      "text/html": [
       "Waiting for W&B process to finish... <strong style=\"color:green\">(success).</strong>"
      ],
      "text/plain": [
       "<IPython.core.display.HTML object>"
      ]
     },
     "metadata": {},
     "output_type": "display_data"
    },
    {
     "data": {
      "application/vnd.jupyter.widget-view+json": {
       "model_id": "0e2c8b588526481194bb5312ccc34c5f",
       "version_major": 2,
       "version_minor": 0
      },
      "text/plain": [
       "VBox(children=(Label(value='0.009 MB of 0.009 MB uploaded (0.000 MB deduped)\\r'), FloatProgress(value=1.0, max…"
      ]
     },
     "metadata": {},
     "output_type": "display_data"
    },
    {
     "data": {
      "text/html": [
       " View run <strong style=\"color:#cdcd00\">sunny-universe-3</strong> at: <a href='https://wandb.ai/drscotthawley/musicbox-jsb-xmas/runs/5tq6e8el' target=\"_blank\">https://wandb.ai/drscotthawley/musicbox-jsb-xmas/runs/5tq6e8el</a><br/>Synced 4 W&B file(s), 1 media file(s), 0 artifact file(s) and 0 other file(s)"
      ],
      "text/plain": [
       "<IPython.core.display.HTML object>"
      ]
     },
     "metadata": {},
     "output_type": "display_data"
    },
    {
     "data": {
      "text/html": [
       "Find logs at: <code>./wandb/run-20231215_095344-5tq6e8el/logs</code>"
      ],
      "text/plain": [
       "<IPython.core.display.HTML object>"
      ]
     },
     "metadata": {},
     "output_type": "display_data"
    },
    {
     "data": {
      "application/vnd.jupyter.widget-view+json": {
       "model_id": "0701658c8bbd4645a14e274dd67d1369",
       "version_major": 2,
       "version_minor": 0
      },
      "text/plain": [
       "VBox(children=(Label(value='Waiting for wandb.init()...\\r'), FloatProgress(value=0.01671439583102862, max=1.0)…"
      ]
     },
     "metadata": {},
     "output_type": "display_data"
    },
    {
     "data": {
      "text/html": [
       "wandb version 0.16.1 is available!  To upgrade, please run:\n",
       " $ pip install wandb --upgrade"
      ],
      "text/plain": [
       "<IPython.core.display.HTML object>"
      ]
     },
     "metadata": {},
     "output_type": "display_data"
    },
    {
     "data": {
      "text/html": [
       "Tracking run with wandb version 0.15.4"
      ],
      "text/plain": [
       "<IPython.core.display.HTML object>"
      ]
     },
     "metadata": {},
     "output_type": "display_data"
    },
    {
     "data": {
      "text/html": [
       "Run data is saved locally in <code>/Users/shawley/github/blog/posts/wandb/run-20231215_095349-vzo6pwlk</code>"
      ],
      "text/plain": [
       "<IPython.core.display.HTML object>"
      ]
     },
     "metadata": {},
     "output_type": "display_data"
    },
    {
     "data": {
      "text/html": [
       "Syncing run <strong><a href='https://wandb.ai/drscotthawley/musicbox-jsb-xmas/runs/vzo6pwlk' target=\"_blank\">rural-feather-4</a></strong> to <a href='https://wandb.ai/drscotthawley/musicbox-jsb-xmas' target=\"_blank\">Weights & Biases</a> (<a href='https://wandb.me/run' target=\"_blank\">docs</a>)<br/>"
      ],
      "text/plain": [
       "<IPython.core.display.HTML object>"
      ]
     },
     "metadata": {},
     "output_type": "display_data"
    },
    {
     "data": {
      "text/html": [
       " View project at <a href='https://wandb.ai/drscotthawley/musicbox-jsb-xmas' target=\"_blank\">https://wandb.ai/drscotthawley/musicbox-jsb-xmas</a>"
      ],
      "text/plain": [
       "<IPython.core.display.HTML object>"
      ]
     },
     "metadata": {},
     "output_type": "display_data"
    },
    {
     "data": {
      "text/html": [
       " View run at <a href='https://wandb.ai/drscotthawley/musicbox-jsb-xmas/runs/vzo6pwlk' target=\"_blank\">https://wandb.ai/drscotthawley/musicbox-jsb-xmas/runs/vzo6pwlk</a>"
      ],
      "text/plain": [
       "<IPython.core.display.HTML object>"
      ]
     },
     "metadata": {},
     "output_type": "display_data"
    },
    {
     "data": {
      "text/html": [
       "Waiting for W&B process to finish... <strong style=\"color:green\">(success).</strong>"
      ],
      "text/plain": [
       "<IPython.core.display.HTML object>"
      ]
     },
     "metadata": {},
     "output_type": "display_data"
    },
    {
     "data": {
      "application/vnd.jupyter.widget-view+json": {
       "model_id": "d8eebb6d34ef4a619a9c7338ce0b4788",
       "version_major": 2,
       "version_minor": 0
      },
      "text/plain": [
       "VBox(children=(Label(value='0.009 MB of 0.009 MB uploaded (0.000 MB deduped)\\r'), FloatProgress(value=1.0, max…"
      ]
     },
     "metadata": {},
     "output_type": "display_data"
    },
    {
     "data": {
      "text/html": [
       " View run <strong style=\"color:#cdcd00\">rural-feather-4</strong> at: <a href='https://wandb.ai/drscotthawley/musicbox-jsb-xmas/runs/vzo6pwlk' target=\"_blank\">https://wandb.ai/drscotthawley/musicbox-jsb-xmas/runs/vzo6pwlk</a><br/>Synced 4 W&B file(s), 1 media file(s), 0 artifact file(s) and 0 other file(s)"
      ],
      "text/plain": [
       "<IPython.core.display.HTML object>"
      ]
     },
     "metadata": {},
     "output_type": "display_data"
    },
    {
     "data": {
      "text/html": [
       "Find logs at: <code>./wandb/run-20231215_095349-vzo6pwlk/logs</code>"
      ],
      "text/plain": [
       "<IPython.core.display.HTML object>"
      ]
     },
     "metadata": {},
     "output_type": "display_data"
    },
    {
     "data": {
      "application/vnd.jupyter.widget-view+json": {
       "model_id": "acb89846067d4977975f2d9d5170ef77",
       "version_major": 2,
       "version_minor": 0
      },
      "text/plain": [
       "VBox(children=(Label(value='Waiting for wandb.init()...\\r'), FloatProgress(value=0.01666843333126356, max=1.0)…"
      ]
     },
     "metadata": {},
     "output_type": "display_data"
    },
    {
     "data": {
      "text/html": [
       "wandb version 0.16.1 is available!  To upgrade, please run:\n",
       " $ pip install wandb --upgrade"
      ],
      "text/plain": [
       "<IPython.core.display.HTML object>"
      ]
     },
     "metadata": {},
     "output_type": "display_data"
    },
    {
     "data": {
      "text/html": [
       "Tracking run with wandb version 0.15.4"
      ],
      "text/plain": [
       "<IPython.core.display.HTML object>"
      ]
     },
     "metadata": {},
     "output_type": "display_data"
    },
    {
     "data": {
      "text/html": [
       "Run data is saved locally in <code>/Users/shawley/github/blog/posts/wandb/run-20231215_095355-4codwenc</code>"
      ],
      "text/plain": [
       "<IPython.core.display.HTML object>"
      ]
     },
     "metadata": {},
     "output_type": "display_data"
    },
    {
     "data": {
      "text/html": [
       "Syncing run <strong><a href='https://wandb.ai/drscotthawley/musicbox-jsb-xmas/runs/4codwenc' target=\"_blank\">decent-wave-5</a></strong> to <a href='https://wandb.ai/drscotthawley/musicbox-jsb-xmas' target=\"_blank\">Weights & Biases</a> (<a href='https://wandb.me/run' target=\"_blank\">docs</a>)<br/>"
      ],
      "text/plain": [
       "<IPython.core.display.HTML object>"
      ]
     },
     "metadata": {},
     "output_type": "display_data"
    },
    {
     "data": {
      "text/html": [
       " View project at <a href='https://wandb.ai/drscotthawley/musicbox-jsb-xmas' target=\"_blank\">https://wandb.ai/drscotthawley/musicbox-jsb-xmas</a>"
      ],
      "text/plain": [
       "<IPython.core.display.HTML object>"
      ]
     },
     "metadata": {},
     "output_type": "display_data"
    },
    {
     "data": {
      "text/html": [
       " View run at <a href='https://wandb.ai/drscotthawley/musicbox-jsb-xmas/runs/4codwenc' target=\"_blank\">https://wandb.ai/drscotthawley/musicbox-jsb-xmas/runs/4codwenc</a>"
      ],
      "text/plain": [
       "<IPython.core.display.HTML object>"
      ]
     },
     "metadata": {},
     "output_type": "display_data"
    },
    {
     "data": {
      "text/html": [
       "Waiting for W&B process to finish... <strong style=\"color:green\">(success).</strong>"
      ],
      "text/plain": [
       "<IPython.core.display.HTML object>"
      ]
     },
     "metadata": {},
     "output_type": "display_data"
    },
    {
     "data": {
      "application/vnd.jupyter.widget-view+json": {
       "model_id": "25c7bc08b1b24ca5a386f82c5856d266",
       "version_major": 2,
       "version_minor": 0
      },
      "text/plain": [
       "VBox(children=(Label(value='0.009 MB of 0.009 MB uploaded (0.000 MB deduped)\\r'), FloatProgress(value=1.0, max…"
      ]
     },
     "metadata": {},
     "output_type": "display_data"
    },
    {
     "data": {
      "text/html": [
       " View run <strong style=\"color:#cdcd00\">decent-wave-5</strong> at: <a href='https://wandb.ai/drscotthawley/musicbox-jsb-xmas/runs/4codwenc' target=\"_blank\">https://wandb.ai/drscotthawley/musicbox-jsb-xmas/runs/4codwenc</a><br/>Synced 4 W&B file(s), 1 media file(s), 0 artifact file(s) and 0 other file(s)"
      ],
      "text/plain": [
       "<IPython.core.display.HTML object>"
      ]
     },
     "metadata": {},
     "output_type": "display_data"
    },
    {
     "data": {
      "text/html": [
       "Find logs at: <code>./wandb/run-20231215_095355-4codwenc/logs</code>"
      ],
      "text/plain": [
       "<IPython.core.display.HTML object>"
      ]
     },
     "metadata": {},
     "output_type": "display_data"
    }
   ],
   "source": [
    "#| echo: false\n",
    "#| output: false\n",
    "\n",
    "# silly stunt for wandb pals\n",
    "for cp in [c1,c2,c3]:\n",
    "    wandb.init(project='musicbox-jsb-xmas', config=config)\n",
    "    wandb.log({'player':wandb.Html(cp.html)})\n",
    "    wandb.finish()"
   ]
  },
  {
   "cell_type": "markdown",
   "metadata": {},
   "source": [
    "...yea, not sure what that accomplished, but it was fun to try! \n",
    "\n",
    "::: {.callout-tip}\n",
    "For more holiday-themed Machine Learning instruction, check out [\"🎅 Naughty by Numbers:\n",
    "Classifications at Christmas\"](https://hedges.belmont.edu/~shawley/naughty/)!\n",
    ":::\n",
    "\n",
    "\n",
    "<center>My official December faculty photo:<br>\n",
    "**\"Happy Holidays from Dr. Hawley and Wedge the Destroyer\"**<br>\n",
    "<img src=\"images/hawley_wedge.jpeg\" width=\"300px\">\n",
    "</center>"
   ]
  },
  {
   "cell_type": "markdown",
   "metadata": {},
   "source": [
    "---\n",
    "Copyright (c) 2023, Scott H. Hawley.  Code is MIT-licensed, text is licensed CC-BY-NC 4.0. "
   ]
  },
  {
   "cell_type": "code",
   "execution_count": null,
   "metadata": {},
   "outputs": [],
   "source": []
  }
 ],
 "metadata": {
  "kernelspec": {
   "display_name": "python3",
   "language": "python",
   "name": "python3"
  }
 },
 "nbformat": 4,
 "nbformat_minor": 4
}
